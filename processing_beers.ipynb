{
 "cells": [
  {
   "cell_type": "code",
   "execution_count": 1,
   "metadata": {},
   "outputs": [],
   "source": [
    "from setup import dask_init, dask_shutdown\n",
    "import dask.distributed as dd\n",
    "import dask.dataframe as ddf\n",
    "\n",
    "import pandas as pd\n",
    "import numpy as np\n",
    "\n",
    "import ingestion as ing\n",
    "import processing as prc\n",
    "\n",
    "import datetime as dt\n",
    "\n",
    "import seaborn as sns\n",
    "import matplotlib.pyplot as plt\n",
    "%matplotlib inline\n",
    "\n",
    "%load_ext autoreload\n",
    "%autoreload 2"
   ]
  },
  {
   "cell_type": "markdown",
   "metadata": {},
   "source": [
    "# setup"
   ]
  },
  {
   "cell_type": "code",
   "execution_count": 10,
   "metadata": {},
   "outputs": [
    {
     "data": {
      "application/vnd.jupyter.widget-view+json": {
       "model_id": "eb6e18a292df46efa20f46c75790a36f",
       "version_major": 2,
       "version_minor": 0
      },
      "text/plain": [
       "Tab(children=(HTML(value='<div class=\"jp-RenderedHTMLCommon jp-RenderedHTML jp-mod-trusted jp-OutputArea-outpu…"
      ]
     },
     "metadata": {},
     "output_type": "display_data"
    }
   ],
   "source": [
    "# PANDAS SETUP\n",
    "pd.options.mode.use_inf_as_na = True\n",
    "\n",
    "# DASK SETUP\n",
    "client, cluster = dask_init()\n",
    "cluster"
   ]
  },
  {
   "cell_type": "markdown",
   "metadata": {},
   "source": [
    "# [I] Loading the Data"
   ]
  },
  {
   "cell_type": "code",
   "execution_count": 18,
   "metadata": {},
   "outputs": [],
   "source": [
    "beers_parquet_path = \"RefinedData/BeerAdvocate/beers.parquet/\""
   ]
  },
  {
   "cell_type": "code",
   "execution_count": 12,
   "metadata": {},
   "outputs": [],
   "source": [
    "users_ddf = prc.users_pipeline(persist=True)\n",
    "ratings_ddf = prc.ratings_pipeline(persist=True, users_persisted=True)\n",
    "beerscsv_ddf = prc.beerscsv_pipeline(persist=True)\n"
   ]
  },
  {
   "cell_type": "code",
   "execution_count": 17,
   "metadata": {},
   "outputs": [
    {
     "data": {
      "text/html": [
       "<div>\n",
       "<style scoped>\n",
       "    .dataframe tbody tr th:only-of-type {\n",
       "        vertical-align: middle;\n",
       "    }\n",
       "\n",
       "    .dataframe tbody tr th {\n",
       "        vertical-align: top;\n",
       "    }\n",
       "\n",
       "    .dataframe thead th {\n",
       "        text-align: right;\n",
       "    }\n",
       "</style>\n",
       "<table border=\"1\" class=\"dataframe\">\n",
       "  <thead>\n",
       "    <tr style=\"text-align: right;\">\n",
       "      <th></th>\n",
       "      <th>bid</th>\n",
       "      <th>n_ratings</th>\n",
       "      <th>avg_rating</th>\n",
       "      <th>n_reviews</th>\n",
       "      <th>review_rate</th>\n",
       "      <th>ba_score</th>\n",
       "      <th>bros_score</th>\n",
       "      <th>name</th>\n",
       "      <th>style</th>\n",
       "      <th>abv</th>\n",
       "    </tr>\n",
       "  </thead>\n",
       "  <tbody>\n",
       "    <tr>\n",
       "      <th>0</th>\n",
       "      <td>5</td>\n",
       "      <td>1538</td>\n",
       "      <td>3.441203</td>\n",
       "      <td>520</td>\n",
       "      <td>0.338101</td>\n",
       "      <td>78.0</td>\n",
       "      <td>89.0</td>\n",
       "      <td>Amber</td>\n",
       "      <td>Vienna Lager</td>\n",
       "      <td>4.5</td>\n",
       "    </tr>\n",
       "    <tr>\n",
       "      <th>1</th>\n",
       "      <td>6</td>\n",
       "      <td>2660</td>\n",
       "      <td>3.657617</td>\n",
       "      <td>968</td>\n",
       "      <td>0.363910</td>\n",
       "      <td>82.0</td>\n",
       "      <td>90.0</td>\n",
       "      <td>Turbodog</td>\n",
       "      <td>English Brown Ale</td>\n",
       "      <td>5.6</td>\n",
       "    </tr>\n",
       "    <tr>\n",
       "      <th>2</th>\n",
       "      <td>7</td>\n",
       "      <td>2977</td>\n",
       "      <td>3.265694</td>\n",
       "      <td>778</td>\n",
       "      <td>0.261337</td>\n",
       "      <td>74.0</td>\n",
       "      <td>88.0</td>\n",
       "      <td>Purple Haze</td>\n",
       "      <td>Fruit / Vegetable Beer</td>\n",
       "      <td>4.2</td>\n",
       "    </tr>\n",
       "    <tr>\n",
       "      <th>3</th>\n",
       "      <td>8</td>\n",
       "      <td>132</td>\n",
       "      <td>3.290682</td>\n",
       "      <td>70</td>\n",
       "      <td>0.530303</td>\n",
       "      <td>77.0</td>\n",
       "      <td>89.0</td>\n",
       "      <td>Wheat</td>\n",
       "      <td>American Adjunct Lager</td>\n",
       "      <td>4.2</td>\n",
       "    </tr>\n",
       "    <tr>\n",
       "      <th>4</th>\n",
       "      <td>9</td>\n",
       "      <td>215</td>\n",
       "      <td>3.172698</td>\n",
       "      <td>120</td>\n",
       "      <td>0.558140</td>\n",
       "      <td>74.0</td>\n",
       "      <td>83.0</td>\n",
       "      <td>Golden</td>\n",
       "      <td>American Pale Lager</td>\n",
       "      <td>4.2</td>\n",
       "    </tr>\n",
       "  </tbody>\n",
       "</table>\n",
       "</div>"
      ],
      "text/plain": [
       "   bid  n_ratings  avg_rating  n_reviews  review_rate  ba_score  bros_score  \\\n",
       "0    5       1538    3.441203        520     0.338101      78.0        89.0   \n",
       "1    6       2660    3.657617        968     0.363910      82.0        90.0   \n",
       "2    7       2977    3.265694        778     0.261337      74.0        88.0   \n",
       "3    8        132    3.290682         70     0.530303      77.0        89.0   \n",
       "4    9        215    3.172698        120     0.558140      74.0        83.0   \n",
       "\n",
       "          name                   style  abv  \n",
       "0        Amber            Vienna Lager  4.5  \n",
       "1     Turbodog       English Brown Ale  5.6  \n",
       "2  Purple Haze  Fruit / Vegetable Beer  4.2  \n",
       "3        Wheat  American Adjunct Lager  4.2  \n",
       "4       Golden     American Pale Lager  4.2  "
      ]
     },
     "execution_count": 17,
     "metadata": {},
     "output_type": "execute_result"
    }
   ],
   "source": [
    "beers_ddf = prc.beers_pipeline(persist=True, ratings_persisted=True, beerscsv_persisted=True)\n",
    "beers_ddf.head(5)"
   ]
  },
  {
   "cell_type": "code",
   "execution_count": 37,
   "metadata": {},
   "outputs": [
    {
     "data": {
      "text/html": [
       "<div>\n",
       "<style scoped>\n",
       "    .dataframe tbody tr th:only-of-type {\n",
       "        vertical-align: middle;\n",
       "    }\n",
       "\n",
       "    .dataframe tbody tr th {\n",
       "        vertical-align: top;\n",
       "    }\n",
       "\n",
       "    .dataframe thead th {\n",
       "        text-align: right;\n",
       "    }\n",
       "</style>\n",
       "<table border=\"1\" class=\"dataframe\">\n",
       "  <thead>\n",
       "    <tr style=\"text-align: right;\">\n",
       "      <th></th>\n",
       "      <th>bid</th>\n",
       "      <th>n_ratings</th>\n",
       "      <th>avg_rating</th>\n",
       "      <th>n_reviews</th>\n",
       "      <th>review_rate</th>\n",
       "      <th>ba_score</th>\n",
       "      <th>bros_score</th>\n",
       "      <th>name</th>\n",
       "      <th>style</th>\n",
       "      <th>abv</th>\n",
       "    </tr>\n",
       "    <tr>\n",
       "      <th>__null_dask_index__</th>\n",
       "      <th></th>\n",
       "      <th></th>\n",
       "      <th></th>\n",
       "      <th></th>\n",
       "      <th></th>\n",
       "      <th></th>\n",
       "      <th></th>\n",
       "      <th></th>\n",
       "      <th></th>\n",
       "      <th></th>\n",
       "    </tr>\n",
       "  </thead>\n",
       "  <tbody>\n",
       "    <tr>\n",
       "      <th>0</th>\n",
       "      <td>5</td>\n",
       "      <td>1538</td>\n",
       "      <td>3.441203</td>\n",
       "      <td>520</td>\n",
       "      <td>0.338101</td>\n",
       "      <td>78.0</td>\n",
       "      <td>89.0</td>\n",
       "      <td>Amber</td>\n",
       "      <td>Vienna Lager</td>\n",
       "      <td>4.5</td>\n",
       "    </tr>\n",
       "    <tr>\n",
       "      <th>1</th>\n",
       "      <td>6</td>\n",
       "      <td>2660</td>\n",
       "      <td>3.657617</td>\n",
       "      <td>968</td>\n",
       "      <td>0.363910</td>\n",
       "      <td>82.0</td>\n",
       "      <td>90.0</td>\n",
       "      <td>Turbodog</td>\n",
       "      <td>English Brown Ale</td>\n",
       "      <td>5.6</td>\n",
       "    </tr>\n",
       "    <tr>\n",
       "      <th>2</th>\n",
       "      <td>7</td>\n",
       "      <td>2977</td>\n",
       "      <td>3.265694</td>\n",
       "      <td>778</td>\n",
       "      <td>0.261337</td>\n",
       "      <td>74.0</td>\n",
       "      <td>88.0</td>\n",
       "      <td>Purple Haze</td>\n",
       "      <td>Fruit / Vegetable Beer</td>\n",
       "      <td>4.2</td>\n",
       "    </tr>\n",
       "    <tr>\n",
       "      <th>3</th>\n",
       "      <td>8</td>\n",
       "      <td>132</td>\n",
       "      <td>3.290682</td>\n",
       "      <td>70</td>\n",
       "      <td>0.530303</td>\n",
       "      <td>77.0</td>\n",
       "      <td>89.0</td>\n",
       "      <td>Wheat</td>\n",
       "      <td>American Adjunct Lager</td>\n",
       "      <td>4.2</td>\n",
       "    </tr>\n",
       "    <tr>\n",
       "      <th>4</th>\n",
       "      <td>9</td>\n",
       "      <td>215</td>\n",
       "      <td>3.172698</td>\n",
       "      <td>120</td>\n",
       "      <td>0.558140</td>\n",
       "      <td>74.0</td>\n",
       "      <td>83.0</td>\n",
       "      <td>Golden</td>\n",
       "      <td>American Pale Lager</td>\n",
       "      <td>4.2</td>\n",
       "    </tr>\n",
       "  </tbody>\n",
       "</table>\n",
       "</div>"
      ],
      "text/plain": [
       "                     bid  n_ratings  avg_rating  n_reviews  review_rate  \\\n",
       "__null_dask_index__                                                       \n",
       "0                      5       1538    3.441203        520     0.338101   \n",
       "1                      6       2660    3.657617        968     0.363910   \n",
       "2                      7       2977    3.265694        778     0.261337   \n",
       "3                      8        132    3.290682         70     0.530303   \n",
       "4                      9        215    3.172698        120     0.558140   \n",
       "\n",
       "                     ba_score  bros_score         name  \\\n",
       "__null_dask_index__                                      \n",
       "0                        78.0        89.0        Amber   \n",
       "1                        82.0        90.0     Turbodog   \n",
       "2                        74.0        88.0  Purple Haze   \n",
       "3                        77.0        89.0        Wheat   \n",
       "4                        74.0        83.0       Golden   \n",
       "\n",
       "                                      style  abv  \n",
       "__null_dask_index__                               \n",
       "0                              Vienna Lager  4.5  \n",
       "1                         English Brown Ale  5.6  \n",
       "2                    Fruit / Vegetable Beer  4.2  \n",
       "3                    American Adjunct Lager  4.2  \n",
       "4                       American Pale Lager  4.2  "
      ]
     },
     "execution_count": 37,
     "metadata": {},
     "output_type": "execute_result"
    }
   ],
   "source": [
    "beers_ddf = pd.read_parquet(beers_parquet_path)\n",
    "beers_ddf.head(5)"
   ]
  },
  {
   "cell_type": "code",
   "execution_count": 34,
   "metadata": {},
   "outputs": [
    {
     "data": {
      "text/html": [
       "<div>\n",
       "<style scoped>\n",
       "    .dataframe tbody tr th:only-of-type {\n",
       "        vertical-align: middle;\n",
       "    }\n",
       "\n",
       "    .dataframe tbody tr th {\n",
       "        vertical-align: top;\n",
       "    }\n",
       "\n",
       "    .dataframe thead th {\n",
       "        text-align: right;\n",
       "    }\n",
       "</style>\n",
       "<table border=\"1\" class=\"dataframe\">\n",
       "  <thead>\n",
       "    <tr style=\"text-align: right;\">\n",
       "      <th></th>\n",
       "      <th>beer_id</th>\n",
       "      <th>beer_name</th>\n",
       "      <th>style</th>\n",
       "      <th>ba_score</th>\n",
       "      <th>bros_score</th>\n",
       "      <th>abv</th>\n",
       "    </tr>\n",
       "  </thead>\n",
       "  <tbody>\n",
       "    <tr>\n",
       "      <th>0</th>\n",
       "      <td>166064</td>\n",
       "      <td>Nashe Moskovskoe</td>\n",
       "      <td>Euro Pale Lager</td>\n",
       "      <td>NaN</td>\n",
       "      <td>NaN</td>\n",
       "      <td>4.7</td>\n",
       "    </tr>\n",
       "    <tr>\n",
       "      <th>1</th>\n",
       "      <td>166065</td>\n",
       "      <td>Nashe Pivovskoe</td>\n",
       "      <td>Euro Pale Lager</td>\n",
       "      <td>NaN</td>\n",
       "      <td>NaN</td>\n",
       "      <td>3.8</td>\n",
       "    </tr>\n",
       "    <tr>\n",
       "      <th>2</th>\n",
       "      <td>166066</td>\n",
       "      <td>Nashe Shakhterskoe</td>\n",
       "      <td>Euro Pale Lager</td>\n",
       "      <td>NaN</td>\n",
       "      <td>NaN</td>\n",
       "      <td>4.8</td>\n",
       "    </tr>\n",
       "    <tr>\n",
       "      <th>3</th>\n",
       "      <td>166067</td>\n",
       "      <td>Nashe Zhigulevskoe</td>\n",
       "      <td>Euro Pale Lager</td>\n",
       "      <td>NaN</td>\n",
       "      <td>NaN</td>\n",
       "      <td>4.0</td>\n",
       "    </tr>\n",
       "    <tr>\n",
       "      <th>4</th>\n",
       "      <td>166063</td>\n",
       "      <td>Zhivoe</td>\n",
       "      <td>Euro Pale Lager</td>\n",
       "      <td>NaN</td>\n",
       "      <td>NaN</td>\n",
       "      <td>4.5</td>\n",
       "    </tr>\n",
       "  </tbody>\n",
       "</table>\n",
       "</div>"
      ],
      "text/plain": [
       "   beer_id           beer_name            style  ba_score  bros_score  abv\n",
       "0   166064    Nashe Moskovskoe  Euro Pale Lager       NaN         NaN  4.7\n",
       "1   166065     Nashe Pivovskoe  Euro Pale Lager       NaN         NaN  3.8\n",
       "2   166066  Nashe Shakhterskoe  Euro Pale Lager       NaN         NaN  4.8\n",
       "3   166067  Nashe Zhigulevskoe  Euro Pale Lager       NaN         NaN  4.0\n",
       "4   166063              Zhivoe  Euro Pale Lager       NaN         NaN  4.5"
      ]
     },
     "execution_count": 34,
     "metadata": {},
     "output_type": "execute_result"
    }
   ],
   "source": [
    "__BEERS_CSV_COLS_OF_INTEREST = [\n",
    "    \"beer_id\",\n",
    "    \"beer_name\",\n",
    "    \"style\",\n",
    "    \"abv\",\n",
    "    \"ba_score\",\n",
    "    \"bros_score\"]\n",
    "    \n",
    "# raw data for beers.csv\n",
    "beerscsv_ddf = ing.read_csv(\n",
    "    path=ing.build_path(folderind=\"ba\", filename=\"beers\", ext=\".csv\"),\n",
    "    keepcols=__BEERS_CSV_COLS_OF_INTEREST,\n",
    "    mode=\"lazy\")\n",
    "beerscsv_ddf.head(5)"
   ]
  },
  {
   "cell_type": "markdown",
   "metadata": {},
   "source": [
    "# [II] beers.csv pipeline analysis"
   ]
  },
  {
   "cell_type": "code",
   "execution_count": 35,
   "metadata": {},
   "outputs": [
    {
     "name": "stdout",
     "output_type": "stream",
     "text": [
      "Number of beers in beers.csv before the processing: 280823\n"
     ]
    }
   ],
   "source": [
    "n_beers = beerscsv_ddf.shape[0].compute()\n",
    "print(\"Number of beers in beers.csv before the processing: {}\".format(n_beers))"
   ]
  },
  {
   "cell_type": "code",
   "execution_count": 36,
   "metadata": {},
   "outputs": [
    {
     "name": "stdout",
     "output_type": "stream",
     "text": [
      "Number of beers in beers.csv after dropping beers with uknown BID: 280823\n"
     ]
    }
   ],
   "source": [
    "# drop beers with unknown beer BID\n",
    "beerscsv_ddf = beerscsv_ddf[beerscsv_ddf[\"beer_id\"].notnull()]\n",
    "\n",
    "n_beers_known_bid = beerscsv_ddf.shape[0].compute()\n",
    "print(\"Number of beers in beers.csv after dropping beers with uknown BID: {}\".format(n_beers_known_bid))"
   ]
  },
  {
   "cell_type": "markdown",
   "metadata": {},
   "source": [
    "## [III] Descriptive Statistics & Distributions"
   ]
  },
  {
   "cell_type": "code",
   "execution_count": 42,
   "metadata": {},
   "outputs": [
    {
     "data": {
      "text/html": [
       "<div>\n",
       "<style scoped>\n",
       "    .dataframe tbody tr th:only-of-type {\n",
       "        vertical-align: middle;\n",
       "    }\n",
       "\n",
       "    .dataframe tbody tr th {\n",
       "        vertical-align: top;\n",
       "    }\n",
       "\n",
       "    .dataframe thead th {\n",
       "        text-align: right;\n",
       "    }\n",
       "</style>\n",
       "<table border=\"1\" class=\"dataframe\">\n",
       "  <thead>\n",
       "    <tr style=\"text-align: right;\">\n",
       "      <th></th>\n",
       "      <th>bid</th>\n",
       "      <th>n_ratings</th>\n",
       "      <th>avg_rating</th>\n",
       "      <th>n_reviews</th>\n",
       "      <th>review_rate</th>\n",
       "      <th>ba_score</th>\n",
       "      <th>bros_score</th>\n",
       "      <th>abv</th>\n",
       "    </tr>\n",
       "  </thead>\n",
       "  <tbody>\n",
       "    <tr>\n",
       "      <th>count</th>\n",
       "      <td>230141.000000</td>\n",
       "      <td>230141.000000</td>\n",
       "      <td>230141.000000</td>\n",
       "      <td>230141.000000</td>\n",
       "      <td>230141.000000</td>\n",
       "      <td>61121.000000</td>\n",
       "      <td>5702.000000</td>\n",
       "      <td>200427.000000</td>\n",
       "    </tr>\n",
       "    <tr>\n",
       "      <th>mean</th>\n",
       "      <td>142103.769024</td>\n",
       "      <td>33.261757</td>\n",
       "      <td>3.738507</td>\n",
       "      <td>10.493085</td>\n",
       "      <td>0.370488</td>\n",
       "      <td>84.635147</td>\n",
       "      <td>84.806557</td>\n",
       "      <td>6.578397</td>\n",
       "    </tr>\n",
       "    <tr>\n",
       "      <th>std</th>\n",
       "      <td>83920.400725</td>\n",
       "      <td>232.124256</td>\n",
       "      <td>0.447232</td>\n",
       "      <td>71.466069</td>\n",
       "      <td>0.377600</td>\n",
       "      <td>4.054117</td>\n",
       "      <td>10.507727</td>\n",
       "      <td>2.074679</td>\n",
       "    </tr>\n",
       "    <tr>\n",
       "      <th>min</th>\n",
       "      <td>3.000000</td>\n",
       "      <td>1.000000</td>\n",
       "      <td>1.000000</td>\n",
       "      <td>0.000000</td>\n",
       "      <td>0.000000</td>\n",
       "      <td>46.000000</td>\n",
       "      <td>31.000000</td>\n",
       "      <td>0.010000</td>\n",
       "    </tr>\n",
       "    <tr>\n",
       "      <th>25%</th>\n",
       "      <td>71209.000000</td>\n",
       "      <td>1.000000</td>\n",
       "      <td>3.524000</td>\n",
       "      <td>0.000000</td>\n",
       "      <td>0.000000</td>\n",
       "      <td>83.000000</td>\n",
       "      <td>81.000000</td>\n",
       "      <td>5.000000</td>\n",
       "    </tr>\n",
       "    <tr>\n",
       "      <th>50%</th>\n",
       "      <td>135960.000000</td>\n",
       "      <td>3.000000</td>\n",
       "      <td>3.786250</td>\n",
       "      <td>1.000000</td>\n",
       "      <td>0.250000</td>\n",
       "      <td>85.000000</td>\n",
       "      <td>87.000000</td>\n",
       "      <td>6.000000</td>\n",
       "    </tr>\n",
       "    <tr>\n",
       "      <th>75%</th>\n",
       "      <td>215315.000000</td>\n",
       "      <td>9.000000</td>\n",
       "      <td>4.008000</td>\n",
       "      <td>3.000000</td>\n",
       "      <td>0.666667</td>\n",
       "      <td>86.000000</td>\n",
       "      <td>91.000000</td>\n",
       "      <td>7.600000</td>\n",
       "    </tr>\n",
       "    <tr>\n",
       "      <th>max</th>\n",
       "      <td>293296.000000</td>\n",
       "      <td>15065.000000</td>\n",
       "      <td>5.000000</td>\n",
       "      <td>3695.000000</td>\n",
       "      <td>1.000000</td>\n",
       "      <td>100.000000</td>\n",
       "      <td>100.000000</td>\n",
       "      <td>67.500000</td>\n",
       "    </tr>\n",
       "  </tbody>\n",
       "</table>\n",
       "</div>"
      ],
      "text/plain": [
       "                 bid      n_ratings     avg_rating      n_reviews  \\\n",
       "count  230141.000000  230141.000000  230141.000000  230141.000000   \n",
       "mean   142103.769024      33.261757       3.738507      10.493085   \n",
       "std     83920.400725     232.124256       0.447232      71.466069   \n",
       "min         3.000000       1.000000       1.000000       0.000000   \n",
       "25%     71209.000000       1.000000       3.524000       0.000000   \n",
       "50%    135960.000000       3.000000       3.786250       1.000000   \n",
       "75%    215315.000000       9.000000       4.008000       3.000000   \n",
       "max    293296.000000   15065.000000       5.000000    3695.000000   \n",
       "\n",
       "         review_rate      ba_score   bros_score            abv  \n",
       "count  230141.000000  61121.000000  5702.000000  200427.000000  \n",
       "mean        0.370488     84.635147    84.806557       6.578397  \n",
       "std         0.377600      4.054117    10.507727       2.074679  \n",
       "min         0.000000     46.000000    31.000000       0.010000  \n",
       "25%         0.000000     83.000000    81.000000       5.000000  \n",
       "50%         0.250000     85.000000    87.000000       6.000000  \n",
       "75%         0.666667     86.000000    91.000000       7.600000  \n",
       "max         1.000000    100.000000   100.000000      67.500000  "
      ]
     },
     "execution_count": 42,
     "metadata": {},
     "output_type": "execute_result"
    }
   ],
   "source": [
    "beers_ddf.describe()"
   ]
  },
  {
   "cell_type": "markdown",
   "metadata": {},
   "source": [
    "# ba_score and bros_score"
   ]
  },
  {
   "cell_type": "code",
   "execution_count": 85,
   "metadata": {},
   "outputs": [
    {
     "name": "stdout",
     "output_type": "stream",
     "text": [
      "How many beers there are after processing and what is the percentage that was kept compared to the raw data?\n",
      "230141 (81.95%)\n"
     ]
    }
   ],
   "source": [
    "print(\"How many beers there are after processing and what is the percentage that was kept compared to the raw data?\")\n",
    "print(\"{} ({}%)\".format(beers_ddf.shape[0], round(beers_ddf.shape[0]/n_beers*100, 2)))"
   ]
  },
  {
   "cell_type": "code",
   "execution_count": 86,
   "metadata": {},
   "outputs": [
    {
     "name": "stdout",
     "output_type": "stream",
     "text": [
      "How many beers have a BA score ?\n",
      "61121 (26.56%)\n"
     ]
    }
   ],
   "source": [
    "print(\"How many beers have a BA score ?\")\n",
    "beers_ba = beer_ratings[beer_ratings.ba_score.notnull()]\n",
    "print(\"{} ({}%)\".format(beers_ba.shape[0], round(beers_ba.shape[0]/beers_ddf.shape[0]*100, 2)))"
   ]
  },
  {
   "cell_type": "code",
   "execution_count": 87,
   "metadata": {},
   "outputs": [
    {
     "name": "stdout",
     "output_type": "stream",
     "text": [
      "How many beers have a Bros score ?\n",
      "5702 (2.48%)\n"
     ]
    }
   ],
   "source": [
    "print(\"How many beers have a Bros score ?\")\n",
    "beers_bro = beer_ratings[beer_ratings.bros_score.notnull()]\n",
    "print(\"{} ({}%)\".format(beers_bro.shape[0], round(beers_bro.shape[0]/beers_ddf.shape[0]*100, 2)))"
   ]
  },
  {
   "cell_type": "code",
   "execution_count": 88,
   "metadata": {},
   "outputs": [
    {
     "name": "stdout",
     "output_type": "stream",
     "text": [
      "How many beers have a BA score and a Bros score ?\n",
      "5047 (2.19%)\n"
     ]
    }
   ],
   "source": [
    "print(\"How many beers have a BA score and a Bros score ?\")\n",
    "beers_ba_bro = beer_ratings[(beer_ratings.ba_score.notnull()) & (beer_ratings.bros_score.notnull())]\n",
    "print(\"{} ({}%)\".format(beers_ba_bro.shape[0], round(beers_ba_bro.shape[0]/beers_ddf.shape[0]*100, 2)))"
   ]
  },
  {
   "cell_type": "code",
   "execution_count": 89,
   "metadata": {},
   "outputs": [
    {
     "name": "stdout",
     "output_type": "stream",
     "text": [
      "How many beers have a BA score or a Bros score ?\n",
      "61776 (26.84%)\n"
     ]
    }
   ],
   "source": [
    "print(\"How many beers have a BA score or a Bros score ?\")\n",
    "beers_ba_bro = beer_ratings[(beer_ratings.ba_score.notnull()) | (beer_ratings.bros_score.notnull())]\n",
    "print(\"{} ({}%)\".format(beers_ba_bro.shape[0], round(beers_ba_bro.shape[0]/beers_ddf.shape[0]*100, 2)))"
   ]
  },
  {
   "cell_type": "code",
   "execution_count": 51,
   "metadata": {},
   "outputs": [
    {
     "name": "stdout",
     "output_type": "stream",
     "text": [
      "How many ratings there are for beers with a BA or Bros score ?\n"
     ]
    },
    {
     "data": {
      "text/plain": [
       "7217545"
      ]
     },
     "execution_count": 51,
     "metadata": {},
     "output_type": "execute_result"
    }
   ],
   "source": [
    "print(\"How many ratings there are for beers with a BA or Bros score ?\")\n",
    "beers_ba_bros_ddf = beers_ddf[(beers_ddf.ba_score.notnull()) | (beers_ddf.bros_score.notnull())]\n",
    "beers_ba_bros_ddf[\"n_ratings\"].sum()\n"
   ]
  },
  {
   "cell_type": "code",
   "execution_count": 52,
   "metadata": {},
   "outputs": [
    {
     "data": {
      "text/html": [
       "<div>\n",
       "<style scoped>\n",
       "    .dataframe tbody tr th:only-of-type {\n",
       "        vertical-align: middle;\n",
       "    }\n",
       "\n",
       "    .dataframe tbody tr th {\n",
       "        vertical-align: top;\n",
       "    }\n",
       "\n",
       "    .dataframe thead th {\n",
       "        text-align: right;\n",
       "    }\n",
       "</style>\n",
       "<table border=\"1\" class=\"dataframe\">\n",
       "  <thead>\n",
       "    <tr style=\"text-align: right;\">\n",
       "      <th></th>\n",
       "      <th>bid</th>\n",
       "      <th>n_ratings</th>\n",
       "      <th>avg_rating</th>\n",
       "      <th>n_reviews</th>\n",
       "      <th>review_rate</th>\n",
       "      <th>ba_score</th>\n",
       "      <th>bros_score</th>\n",
       "      <th>abv</th>\n",
       "    </tr>\n",
       "  </thead>\n",
       "  <tbody>\n",
       "    <tr>\n",
       "      <th>count</th>\n",
       "      <td>61776.000000</td>\n",
       "      <td>61776.000000</td>\n",
       "      <td>61776.000000</td>\n",
       "      <td>61776.000000</td>\n",
       "      <td>61776.000000</td>\n",
       "      <td>61121.000000</td>\n",
       "      <td>5702.000000</td>\n",
       "      <td>57767.000000</td>\n",
       "    </tr>\n",
       "    <tr>\n",
       "      <th>mean</th>\n",
       "      <td>106447.352888</td>\n",
       "      <td>116.834127</td>\n",
       "      <td>3.785208</td>\n",
       "      <td>36.600363</td>\n",
       "      <td>0.326899</td>\n",
       "      <td>84.635147</td>\n",
       "      <td>84.806557</td>\n",
       "      <td>6.904777</td>\n",
       "    </tr>\n",
       "    <tr>\n",
       "      <th>std</th>\n",
       "      <td>73208.910932</td>\n",
       "      <td>437.236255</td>\n",
       "      <td>0.385004</td>\n",
       "      <td>134.506283</td>\n",
       "      <td>0.239612</td>\n",
       "      <td>4.054117</td>\n",
       "      <td>10.507727</td>\n",
       "      <td>2.269834</td>\n",
       "    </tr>\n",
       "    <tr>\n",
       "      <th>min</th>\n",
       "      <td>3.000000</td>\n",
       "      <td>1.000000</td>\n",
       "      <td>1.140000</td>\n",
       "      <td>0.000000</td>\n",
       "      <td>0.000000</td>\n",
       "      <td>46.000000</td>\n",
       "      <td>31.000000</td>\n",
       "      <td>0.050000</td>\n",
       "    </tr>\n",
       "    <tr>\n",
       "      <th>25%</th>\n",
       "      <td>50143.000000</td>\n",
       "      <td>13.000000</td>\n",
       "      <td>3.597000</td>\n",
       "      <td>3.000000</td>\n",
       "      <td>0.153846</td>\n",
       "      <td>83.000000</td>\n",
       "      <td>81.000000</td>\n",
       "      <td>5.200000</td>\n",
       "    </tr>\n",
       "    <tr>\n",
       "      <th>50%</th>\n",
       "      <td>93843.500000</td>\n",
       "      <td>24.000000</td>\n",
       "      <td>3.820000</td>\n",
       "      <td>7.000000</td>\n",
       "      <td>0.258065</td>\n",
       "      <td>85.000000</td>\n",
       "      <td>87.000000</td>\n",
       "      <td>6.500000</td>\n",
       "    </tr>\n",
       "    <tr>\n",
       "      <th>75%</th>\n",
       "      <td>153272.250000</td>\n",
       "      <td>65.000000</td>\n",
       "      <td>4.031284</td>\n",
       "      <td>19.000000</td>\n",
       "      <td>0.444444</td>\n",
       "      <td>86.000000</td>\n",
       "      <td>91.000000</td>\n",
       "      <td>8.000000</td>\n",
       "    </tr>\n",
       "    <tr>\n",
       "      <th>max</th>\n",
       "      <td>292783.000000</td>\n",
       "      <td>15065.000000</td>\n",
       "      <td>4.875312</td>\n",
       "      <td>3695.000000</td>\n",
       "      <td>1.000000</td>\n",
       "      <td>100.000000</td>\n",
       "      <td>100.000000</td>\n",
       "      <td>65.000000</td>\n",
       "    </tr>\n",
       "  </tbody>\n",
       "</table>\n",
       "</div>"
      ],
      "text/plain": [
       "                 bid     n_ratings    avg_rating     n_reviews   review_rate  \\\n",
       "count   61776.000000  61776.000000  61776.000000  61776.000000  61776.000000   \n",
       "mean   106447.352888    116.834127      3.785208     36.600363      0.326899   \n",
       "std     73208.910932    437.236255      0.385004    134.506283      0.239612   \n",
       "min         3.000000      1.000000      1.140000      0.000000      0.000000   \n",
       "25%     50143.000000     13.000000      3.597000      3.000000      0.153846   \n",
       "50%     93843.500000     24.000000      3.820000      7.000000      0.258065   \n",
       "75%    153272.250000     65.000000      4.031284     19.000000      0.444444   \n",
       "max    292783.000000  15065.000000      4.875312   3695.000000      1.000000   \n",
       "\n",
       "           ba_score   bros_score           abv  \n",
       "count  61121.000000  5702.000000  57767.000000  \n",
       "mean      84.635147    84.806557      6.904777  \n",
       "std        4.054117    10.507727      2.269834  \n",
       "min       46.000000    31.000000      0.050000  \n",
       "25%       83.000000    81.000000      5.200000  \n",
       "50%       85.000000    87.000000      6.500000  \n",
       "75%       86.000000    91.000000      8.000000  \n",
       "max      100.000000   100.000000     65.000000  "
      ]
     },
     "execution_count": 52,
     "metadata": {},
     "output_type": "execute_result"
    }
   ],
   "source": [
    "beers_ba_bros_ddf.describe()"
   ]
  },
  {
   "cell_type": "markdown",
   "metadata": {},
   "source": [
    "We see that beers with a ba or bros score have 10x more ratings on average compared to beers in general"
   ]
  },
  {
   "cell_type": "code",
   "execution_count": 55,
   "metadata": {},
   "outputs": [
    {
     "name": "stdout",
     "output_type": "stream",
     "text": [
      "What is the ratio of number of beers with a BA score or Bros score to the total number of beers ?\n",
      "26.84%\n"
     ]
    }
   ],
   "source": [
    "print(\"What is the ratio of number of beers with a BA score or Bros score to the total number of beers ?\")\n",
    "print(\"{}%\".format(round(beers_ba_bros_ddf.shape[0] / beers_ddf.shape[0] * 100, 2)))"
   ]
  },
  {
   "cell_type": "code",
   "execution_count": 56,
   "metadata": {},
   "outputs": [
    {
     "name": "stdout",
     "output_type": "stream",
     "text": [
      "What is the ratio of number of ratings for beers with a BA or Bros score to the total number of ratings ?\n",
      "94.29%\n"
     ]
    }
   ],
   "source": [
    "print(\"What is the ratio of number of ratings for beers with a BA or Bros score to the total number of ratings ?\")\n",
    "print(\"{}%\".format(round(beers_ba_bros_ddf[\"n_ratings\"].sum() / beers_ddf[\"n_ratings\"].sum() * 100, 2)))"
   ]
  },
  {
   "cell_type": "markdown",
   "metadata": {},
   "source": [
    "# n_ratings"
   ]
  },
  {
   "cell_type": "code",
   "execution_count": 78,
   "metadata": {},
   "outputs": [
    {
     "data": {
      "text/plain": [
       "<AxesSubplot:title={'center':'Distribution of the number of ratings per beer in log scale'}, xlabel='Number of ratings per beer', ylabel='Number of beers'>"
      ]
     },
     "execution_count": 78,
     "metadata": {},
     "output_type": "execute_result"
    },
    {
     "data": {
      "image/png": "[encoded data removed]",
      "text/plain": [
       "<Figure size 500x300 with 1 Axes>"
      ]
     },
     "metadata": {},
     "output_type": "display_data"
    }
   ],
   "source": [
    "# show the distribution of the number of ratings per beer in log scale\n",
    "# set the figure size\n",
    "plt.figure(figsize=(5, 3))\n",
    "\n",
    "#set title\n",
    "plt.title(\"Distribution of the number of ratings per beer in log scale\")\n",
    "\n",
    "# set x and y axis labels\n",
    "plt.xlabel(\"Number of ratings per beer\")\n",
    "plt.ylabel(\"Number of beers\")\n",
    "\n",
    "beers_ddf[\"n_ratings\"].hist(bins=100, log=True)"
   ]
  },
  {
   "cell_type": "code",
   "execution_count": null,
   "metadata": {},
   "outputs": [],
   "source": []
  },
  {
   "cell_type": "markdown",
   "metadata": {},
   "source": [
    "### histogram for all field of beers to show all interesting distributions"
   ]
  },
  {
   "cell_type": "code",
   "execution_count": 63,
   "metadata": {},
   "outputs": [
    {
     "data": {
      "text/plain": [
       "array([[<AxesSubplot:title={'center':'n_ratings'}>,\n",
       "        <AxesSubplot:title={'center':'avg_rating'}>],\n",
       "       [<AxesSubplot:title={'center':'n_reviews'}>,\n",
       "        <AxesSubplot:title={'center':'review_rate'}>],\n",
       "       [<AxesSubplot:title={'center':'ba_score'}>,\n",
       "        <AxesSubplot:title={'center':'bros_score'}>]], dtype=object)"
      ]
     },
     "execution_count": 63,
     "metadata": {},
     "output_type": "execute_result"
    },
    {
     "data": {
      "image/png": "[encoded data removed]",
      "text/plain": [
       "<Figure size 2000x2000 with 6 Axes>"
      ]
     },
     "metadata": {},
     "output_type": "display_data"
    }
   ],
   "source": [
    "# show the distribution of the number of ratings per beer in log scale\n",
    "# set the figure size\n",
    "plt.figure(figsize=(5, 3))\n",
    "beers_ddf[\"n_ratings\"].hist(bins=100, log=True)"
   ]
  },
  {
   "cell_type": "code",
   "execution_count": 9,
   "metadata": {},
   "outputs": [
    {
     "name": "stderr",
     "output_type": "stream",
     "text": [
      "distributed.client - ERROR - Failed to reconnect to scheduler after 30.00 seconds, closing client\n"
     ]
    }
   ],
   "source": [
    "dask_shutdown(client)"
   ]
  },
  {
   "cell_type": "code",
   "execution_count": null,
   "metadata": {},
   "outputs": [],
   "source": []
  },
  {
   "cell_type": "markdown",
   "metadata": {},
   "source": []
  }
 ],
 "metadata": {
  "kernelspec": {
   "display_name": "Python 3.9.12 ('base')",
   "language": "python",
   "name": "python3"
  },
  "language_info": {
   "codemirror_mode": {
    "name": "ipython",
    "version": 3
   },
   "file_extension": ".py",
   "mimetype": "text/x-python",
   "name": "python",
   "nbconvert_exporter": "python",
   "pygments_lexer": "ipython3",
   "version": "3.9.12"
  },
  "orig_nbformat": 4,
  "vscode": {
   "interpreter": {
    "hash": "6bb2e1f904bb6e863f2b9088396373e4778cab81ffde8089fcb5238aee912dca"
   }
  }
 },
 "nbformat": 4,
 "nbformat_minor": 2
}
