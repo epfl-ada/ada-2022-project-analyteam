{
 "cells": [
  {
   "cell_type": "code",
   "execution_count": 100,
   "metadata": {},
   "outputs": [],
   "source": [
    "import pandas as pd\n",
    "import numpy as np\n",
    "\n",
    "import ingestion as ing\n",
    "\n",
    "import matplotlib.pyplot as plt\n",
    "import seaborn as sns\n",
    "\n",
    "%load_ext autoreload\n",
    "%autoreload 2"
   ]
  },
  {
   "cell_type": "code",
   "execution_count": 41,
   "metadata": {},
   "outputs": [],
   "source": [
    "# read the users\n",
    "users_ddf = ing.read_parquet(\n",
    "    path=ing.build_path(folderind=\"ba\", filename=\"users_with_scores\", ext=\".parquet\", basepath=ing.REFINED_PATH),\n",
    "    keepcols=None,\n",
    "    assume_missing=False,\n",
    "    mode=\"lazy\")"
   ]
  },
  {
   "cell_type": "code",
   "execution_count": 42,
   "metadata": {},
   "outputs": [],
   "source": [
    "users_df = users_ddf.compute()"
   ]
  },
  {
   "cell_type": "code",
   "execution_count": 45,
   "metadata": {},
   "outputs": [
    {
     "data": {
      "text/plain": [
       "Index(['n_ratings', 'n_reviews', 'uid', 'username', 'joined', 'location',\n",
       "       'country', 'cfm_score', 'exp_score', 'xpl_score', 'adv_score', 'is_cfm',\n",
       "       'is_exp', 'is_xpl', 'is_adv'],\n",
       "      dtype='object')"
      ]
     },
     "execution_count": 45,
     "metadata": {},
     "output_type": "execute_result"
    }
   ],
   "source": [
    "users_df.columns"
   ]
  },
  {
   "cell_type": "markdown",
   "metadata": {},
   "source": [
    "Time-Analysis of BeerAdvocate.com Attractiveness for Classes"
   ]
  },
  {
   "cell_type": "code",
   "execution_count": 112,
   "metadata": {},
   "outputs": [
    {
     "data": {
      "text/plain": [
       "41395"
      ]
     },
     "execution_count": 112,
     "metadata": {},
     "output_type": "execute_result"
    }
   ],
   "source": [
    "class_indicators = [\"is_cfm\", \"is_exp\", \"is_xpl\", \"is_adv\"]\n",
    "\n",
    "# number of classified users\n",
    "len(users_df.query(\"+\".join(class_indicators) + \" != 0\"))"
   ]
  },
  {
   "cell_type": "code",
   "execution_count": 121,
   "metadata": {},
   "outputs": [],
   "source": [
    "by_joined_y = users_df.groupby(by=users_df.joined.dt.year, as_index=False)"
   ]
  },
  {
   "cell_type": "code",
   "execution_count": 98,
   "metadata": {},
   "outputs": [
    {
     "name": "stdout",
     "output_type": "stream",
     "text": [
      "        is_cfm  is_exp  is_xpl  is_adv\n",
      "108          0       0       1       1\n",
      "145          0       0       1       1\n",
      "151          0       0       1       1\n",
      "153          0       0       1       1\n",
      "161          0       0       1       1\n",
      "...        ...     ...     ...     ...\n",
      "124329       0       0       0       0\n",
      "135711       0       0       0       0\n",
      "137794       0       0       1       0\n",
      "144087       0       0       0       0\n",
      "153678       0       0       0       0\n",
      "\n",
      "[78 rows x 4 columns]\n"
     ]
    }
   ],
   "source": [
    "# plot the time-evolution of the size of classes\n"
   ]
  },
  {
   "cell_type": "code",
   "execution_count": null,
   "metadata": {},
   "outputs": [],
   "source": []
  }
 ],
 "metadata": {
  "kernelspec": {
   "display_name": "Python 3.9.13 ('py3-9')",
   "language": "python",
   "name": "python3"
  },
  "language_info": {
   "codemirror_mode": {
    "name": "ipython",
    "version": 3
   },
   "file_extension": ".py",
   "mimetype": "text/x-python",
   "name": "python",
   "nbconvert_exporter": "python",
   "pygments_lexer": "ipython3",
   "version": "3.9.13"
  },
  "orig_nbformat": 4,
  "vscode": {
   "interpreter": {
    "hash": "6a544d51636c8be653f08d3b5795ae65331d8a614316b445f10efa199710edbc"
   }
  }
 },
 "nbformat": 4,
 "nbformat_minor": 2
}
