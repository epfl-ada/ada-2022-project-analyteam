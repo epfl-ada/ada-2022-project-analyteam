{
 "cells": [
  {
   "cell_type": "code",
   "execution_count": 1,
   "metadata": {},
   "outputs": [],
   "source": [
    "import numpy as np\n",
    "import pandas as pd"
   ]
  },
  {
   "cell_type": "markdown",
   "metadata": {},
   "source": [
    "import codecs\n",
    "types_of_encoding = [\"utf8\", \"cp1252\"]\n",
    "ratings = \"\"\n",
    "for encoding_type in types_of_encoding:\n",
    "    with codecs.open(\"./Data/ratings.txt\", encoding = encoding_type, errors ='replace') as csvfile:\n",
    "        ratings = csvfile.readlines()\n",
    "print(ratings)"
   ]
  },
  {
   "cell_type": "code",
   "execution_count": null,
   "metadata": {},
   "outputs": [],
   "source": [
    "ratings_list = []\n",
    "with open(\"./Data/ratings.txt\", encoding='utf-8') as file:\n",
    "    ratings_list = file.readlines()"
   ]
  },
  {
   "cell_type": "code",
   "execution_count": null,
   "metadata": {},
   "outputs": [],
   "source": [
    "print(len(ratings_list))"
   ]
  },
  {
   "cell_type": "code",
   "execution_count": 2,
   "metadata": {},
   "outputs": [],
   "source": [
    "reviews_list = []\n",
    "with open(\"./Data/reviews.txt\", encoding='utf-8') as file:\n",
    "    reviews_list = file.readlines()"
   ]
  },
  {
   "cell_type": "code",
   "execution_count": 3,
   "metadata": {},
   "outputs": [
    {
     "name": "stdout",
     "output_type": "stream",
     "text": [
      "121075258\n"
     ]
    }
   ],
   "source": [
    "print(len(reviews_list))"
   ]
  },
  {
   "cell_type": "code",
   "execution_count": null,
   "metadata": {},
   "outputs": [],
   "source": [
    "print(ratings_list[:10])"
   ]
  },
  {
   "cell_type": "code",
   "execution_count": null,
   "metadata": {},
   "outputs": [],
   "source": []
  },
  {
   "cell_type": "code",
   "execution_count": null,
   "metadata": {},
   "outputs": [],
   "source": [
    "import re\n",
    "[m.start() for m in re.finditer('beer_name', 'test test test test')]"
   ]
  },
  {
   "cell_type": "code",
   "execution_count": null,
   "metadata": {},
   "outputs": [],
   "source": [
    "beer_names = []\n",
    "beer_id = []\n",
    "\n",
    "\n",
    "for r in ratings_list:\n",
    "    if \"beer_name\" in r:\n",
    "        beer_names.append(r[11:len(r)-1])\n",
    "    elif \"beer_id\" in r:\n",
    "        beer_id.append(r[9:len(r)-1])\n",
    "print(beer_names)\n",
    "print(beer_id)"
   ]
  },
  {
   "cell_type": "code",
   "execution_count": 4,
   "metadata": {},
   "outputs": [
    {
     "name": "stdout",
     "output_type": "stream",
     "text": [
      "ratings :  beer_name: 33 Export (Gabon)\n",
      "beer_id: 410549\n",
      "brewery_name: Sobraga\n",
      "brewery_id: 3198\n",
      "style: Pale Lager\n",
      "abv: 5.0\n",
      "date: 1461664800\n",
      "user_name: Manslow\n",
      "user_id: 175852\n",
      "appearance: 2\n",
      "aroma: 4\n",
      "palate: 2\n",
      "taste: 4\n",
      "overall: 8\n",
      "rating: 2.00\n",
      "text: Puszka 0,33l dzięki Christoph . Kolor jasnozłoty, piana biała drobnoziarnista szybko opada. Aromat słodowy, lekko słodkie.Dość dobre. \n",
      "\n",
      "beer_name: Castel Beer (Gabon)\n",
      "beer_id: 105273\n",
      "brewery_name: Sobraga\n",
      "brewery_id: 3198\n",
      "style: Pale Lager\n",
      "abv: 5.2\n",
      "date: 1487329200\n",
      "user_name: MAGICuenca91\n",
      "user_id: 442761\n",
      "appearance: 2\n",
      "aroma: 3\n",
      "palate: 2\n",
      "taste: 4\n",
      "overall: 8\n",
      "rating: 1.90\n",
      "text: Cerveza pale lager gabonesa. MÃ¡s floja que la Regab.Aroma escaso, apariencia pÃ¡lida, muy poco cuerpo y poco regusto en el paladar.Si algÃºn dÃ­a fuera a GabÃ³n pedirÃ­a una mÃ¡s para volver a probarla y el resto del tiempo pedirÃ­a la Regab sin duda, que tampoco es que sea nada del otro mundo, pero es superior a Ã©sta. \n",
      "\n",
      "beer_name: Castel Beer (Gabon)\n",
      "beer_id: 105273\n",
      "brewery_name: Sobraga\n",
      "brewery_id: 3198\n",
      "style: Pale Lager\n",
      "abv: 5.2\n",
      "date: 1466762400\n",
      "user_name: Sibarh\n",
      "user_id: 288889\n",
      "appearance: 3\n",
      "aroma: 3\n",
      "palate: 2\n",
      "taste: 3\n",
      "overall: 5\n",
      "rating: 1.60\n",
      "text: Kolor- złoty, klarowny. Piana - drobna, średnio wysoka, nie trwała. Zapach - lekki słodowy. Smak - lekki słÃ³d i chmiel, lekki kwasek, lekka słodycz i goryczka  \n",
      "\n",
      "beer_name: Castel Beer (Gabon)\n",
      "beer_id: 105273\n",
      "brewery_name: Sobraga\n",
      "brewery_id: 3198\n",
      "style: Pale Lager\n",
      "abv: 5.2\n",
      "date: 1451646000\n",
      "user_name: fombe89\n",
      "user_id: 250510\n",
      "appearance: 4\n",
      "aroma: 3\n",
      "palate: 1\n",
      "taste: 2\n",
      "overall: 5\n",
      "rating: 1.50\n",
      "text: Botella, de GabÃ³n regalo familiar.31/01/2015Color amarillo, aromas y sabores a maiz, cuerpo medio \n",
      "\n",
      "beer_name: Castel Beer (Gabon)\n",
      "beer_id: 105273\n",
      "brewery_name: Sobraga\n",
      "brewery_id: 3198\n",
      "style: Pale Lager\n",
      "abv: 5.2\n",
      "date: 1445594400\n",
      "user_name: kevnic2008\n",
      "user_id: 122778\n",
      "appearance: 2\n",
      "aroma: 4\n",
      "palate: 2\n",
      "taste: 4\n",
      "overall: 7\n",
      "rating: 1.90\n",
      "text: Many thanks for this beer to Erzengel. Pours light golden with medium head. Light bodied crisp taste with low carbonation. Sweet finish.  \n",
      "\n",
      "beer_name: Castel Beer (Gabon)\n",
      "beer_id: 105273\n",
      "brewery_name: Sobraga\n",
      "brewery_id: 3198\n",
      "style: Pale Lager\n",
      "abv: 5.2\n",
      "date: 1444644000\n",
      "user_name: Beerhunter111\n",
      "user_id: 227834\n",
      "appearance: 2\n",
      "aroma: 3\n",
      "palate: 2\n",
      "taste: 3\n",
      "overall: 9\n",
      "rating: 1.90\n",
      "\n"
     ]
    }
   ],
   "source": [
    "with open(\"./Data/ratings.txt\", encoding='utf-8') as file:\n",
    "    ratings = \"\"\n",
    "    for i in range(100):\n",
    "        ratings += file.readline()\n",
    "\n",
    "print(\"ratings : \", ratings)"
   ]
  },
  {
   "cell_type": "code",
   "execution_count": 5,
   "metadata": {},
   "outputs": [
    {
     "name": "stdout",
     "output_type": "stream",
     "text": [
      "beer_name: 33 Export (Gabon)\n",
      "beer_id: 410549\n",
      "brewery_name: Sobraga\n",
      "brewery_id: 3198\n",
      "style: Pale Lager\n",
      "abv: 5.0\n",
      "date: 1461664800\n",
      "user_name: Manslow\n",
      "user_id: 175852\n",
      "appearance: 2\n",
      "aroma: 4\n",
      "palate: 2\n",
      "taste: 4\n",
      "overall: 8\n",
      "rating: 2.00\n",
      "text: Puszka 0,33l dzięki Christoph . Kolor jasnozłoty, piana biała drobnoziarnista szybko opada. Aromat słodowy, lekko słodkie.Dość dobre. \n",
      "\n",
      "beer_name: Castel Beer (Gabon)\n",
      "beer_id: 105273\n",
      "brewery_name: Sobraga\n",
      "brewery_id: 3198\n",
      "style: Pale Lager\n",
      "abv: 5.2\n",
      "date: 1487329200\n",
      "user_name: MAGICuenca91\n",
      "user_id: 442761\n",
      "appearance: 2\n",
      "aroma: 3\n",
      "palate: 2\n",
      "taste: 4\n",
      "overall: 8\n",
      "rating: 1.90\n",
      "text: Cerveza pale lager gabonesa. MÃ¡s floja que la Regab.Aroma escaso, apariencia pÃ¡lida, muy poco cuerpo y poco regusto en el paladar.Si algÃºn dÃ­a fuera a GabÃ³n pedirÃ­a una mÃ¡s para volver a probarla y el resto del tiempo pedirÃ­a la Regab sin duda, que tampoco es que sea nada del otro mundo, pero es superior a Ã©sta. \n",
      "\n",
      "beer_name: Castel Beer (Gabon)\n",
      "beer_id: 105273\n",
      "brewery_name: Sobraga\n",
      "brewery_id: 3198\n",
      "style: Pale Lager\n",
      "abv: 5.2\n",
      "date: 1466762400\n",
      "user_name: Sibarh\n",
      "user_id: 288889\n",
      "appearance: 3\n",
      "aroma: 3\n",
      "palate: 2\n",
      "taste: 3\n",
      "overall: 5\n",
      "rating: 1.60\n",
      "text: Kolor- złoty, klarowny. Piana - drobna, średnio wysoka, nie trwała. Zapach - lekki słodowy. Smak - lekki słÃ³d i chmiel, lekki kwasek, lekka słodycz i goryczka  \n",
      "\n",
      "beer_name: Castel Beer (Gabon)\n",
      "beer_id: 105273\n",
      "brewery_name: Sobraga\n",
      "brewery_id: 3198\n",
      "style: Pale Lager\n",
      "abv: 5.2\n",
      "date: 1451646000\n",
      "user_name: fombe89\n",
      "user_id: 250510\n",
      "appearance: 4\n",
      "aroma: 3\n",
      "palate: 1\n",
      "taste: 2\n",
      "overall: 5\n",
      "rating: 1.50\n",
      "text: Botella, de GabÃ³n regalo familiar.31/01/2015Color amarillo, aromas y sabores a maiz, cuerpo medio \n",
      "\n",
      "beer_name: Castel Beer (Gabon)\n",
      "beer_id: 105273\n",
      "brewery_name: Sobraga\n",
      "brewery_id: 3198\n",
      "style: Pale Lager\n",
      "abv: 5.2\n",
      "date: 1445594400\n",
      "user_name: kevnic2008\n",
      "user_id: 122778\n",
      "appearance: 2\n",
      "aroma: 4\n",
      "palate: 2\n",
      "taste: 4\n",
      "overall: 7\n",
      "rating: 1.90\n",
      "text: Many thanks for this beer to Erzengel. Pours light golden with medium head. Light bodied crisp taste with low carbonation. Sweet finish.  \n",
      "\n",
      "beer_name: Castel Beer (Gabon)\n",
      "beer_id: 105273\n",
      "brewery_name: Sobraga\n",
      "brewery_id: 3198\n",
      "style: Pale Lager\n",
      "abv: 5.2\n",
      "date: 1444644000\n",
      "user_name: Beerhunter111\n",
      "user_id: 227834\n",
      "appearance: 2\n",
      "aroma: 3\n",
      "palate: 2\n",
      "taste: 3\n",
      "overall: 9\n",
      "rating: 1.90\n",
      "\n"
     ]
    }
   ],
   "source": [
    "with open(\"./Data/reviews.txt\", encoding='utf-8') as file:\n",
    "    reviews = \"\"\n",
    "    for i in range(100):\n",
    "        reviews += file.readline()\n",
    "print(reviews)"
   ]
  },
  {
   "cell_type": "code",
   "execution_count": null,
   "metadata": {},
   "outputs": [],
   "source": [
    "print(reviews == ratings)\n",
    "print(\" nan \" in reviews)\n",
    "print(\" nan \" in ratings)"
   ]
  },
  {
   "cell_type": "code",
   "execution_count": null,
   "metadata": {},
   "outputs": [],
   "source": []
  }
 ],
 "metadata": {
  "kernelspec": {
   "display_name": "Python 3.8.10 64-bit",
   "language": "python",
   "name": "python3"
  },
  "language_info": {
   "codemirror_mode": {
    "name": "ipython",
    "version": 3
   },
   "file_extension": ".py",
   "mimetype": "text/x-python",
   "name": "python",
   "nbconvert_exporter": "python",
   "pygments_lexer": "ipython3",
   "version": "3.8.10"
  },
  "vscode": {
   "interpreter": {
    "hash": "916dbcbb3f70747c44a77c7bcd40155683ae19c65e1c03b4aa3499c5328201f1"
   }
  }
 },
 "nbformat": 4,
 "nbformat_minor": 4
}
