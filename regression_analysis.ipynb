{
 "cells": [
  {
   "cell_type": "code",
   "execution_count": 1,
   "metadata": {},
   "outputs": [],
   "source": [
    "from setup import dask_init, dask_shutdown\n",
    "import dask.distributed as dd\n",
    "import dask.dataframe as ddf\n",
    "from tqdm import tqdm\n",
    "\n",
    "import pandas as pd\n",
    "import numpy as np\n",
    "\n",
    "import ingestion as ing\n",
    "import processing as prc\n",
    "\n",
    "import datetime as dt\n",
    "\n",
    "import seaborn as sns\n",
    "import matplotlib.pyplot as plt\n",
    "%matplotlib inline\n",
    "\n",
    "from statsmodels.stats import diagnostic\n",
    "from scipy import stats\n",
    "import statsmodels.api as sm\n",
    "import statsmodels.formula.api as smf\n",
    "\n",
    "%load_ext autoreload\n",
    "%autoreload 2"
   ]
  },
  {
   "cell_type": "code",
   "execution_count": 2,
   "metadata": {},
   "outputs": [
    {
     "name": "stderr",
     "output_type": "stream",
     "text": [
      "c:\\Users\\Henrique\\anaconda3\\lib\\site-packages\\distributed\\node.py:180: UserWarning: Port 8787 is already in use.\n",
      "Perhaps you already have a cluster running?\n",
      "Hosting the HTTP server on port 64218 instead\n",
      "  warnings.warn(\n"
     ]
    },
    {
     "data": {
      "application/vnd.jupyter.widget-view+json": {
       "model_id": "cd4e4f8a1d3a49ccb6ee0a1a9d81d471",
       "version_major": 2,
       "version_minor": 0
      },
      "text/plain": [
       "Tab(children=(HTML(value='<div class=\"jp-RenderedHTMLCommon jp-RenderedHTML jp-mod-trusted jp-OutputArea-outpu…"
      ]
     },
     "metadata": {},
     "output_type": "display_data"
    }
   ],
   "source": [
    "# PANDAS SETUP\n",
    "pd.options.mode.use_inf_as_na = True\n",
    "\n",
    "# DASK SETUP\n",
    "client, cluster = dask_init()\n",
    "cluster"
   ]
  },
  {
   "cell_type": "code",
   "execution_count": 3,
   "metadata": {},
   "outputs": [],
   "source": [
    "users_parquet_path = 'RefinedData\\BeerAdvocate\\\\users_with_scores.parquet'\n",
    "users_ddf = pd.read_parquet(users_parquet_path)"
   ]
  },
  {
   "cell_type": "code",
   "execution_count": 4,
   "metadata": {},
   "outputs": [],
   "source": [
    "ratings_ddf = ing.read_parquet('RefinedData\\BeerAdvocate\\\\ratings.parquet')"
   ]
  },
  {
   "cell_type": "code",
   "execution_count": 5,
   "metadata": {},
   "outputs": [],
   "source": [
    "# find average rating per user and join with users_ddf\n",
    "avg_rating_per_user = ratings_ddf.groupby('uid').agg({'rating': 'mean'}).compute()\n",
    "avg_rating_per_user = avg_rating_per_user.rename(columns={'review_overall': 'avg_rating'})\n",
    "users_ddf = users_ddf.merge(avg_rating_per_user, on='uid', how='left')\n"
   ]
  },
  {
   "cell_type": "code",
   "execution_count": 6,
   "metadata": {},
   "outputs": [
    {
     "data": {
      "text/html": [
       "<div>\n",
       "<style scoped>\n",
       "    .dataframe tbody tr th:only-of-type {\n",
       "        vertical-align: middle;\n",
       "    }\n",
       "\n",
       "    .dataframe tbody tr th {\n",
       "        vertical-align: top;\n",
       "    }\n",
       "\n",
       "    .dataframe thead th {\n",
       "        text-align: right;\n",
       "    }\n",
       "</style>\n",
       "<table border=\"1\" class=\"dataframe\">\n",
       "  <thead>\n",
       "    <tr style=\"text-align: right;\">\n",
       "      <th></th>\n",
       "      <th>n_ratings</th>\n",
       "      <th>n_reviews</th>\n",
       "      <th>uid</th>\n",
       "      <th>username</th>\n",
       "      <th>joined</th>\n",
       "      <th>location</th>\n",
       "      <th>country</th>\n",
       "      <th>cfm_score</th>\n",
       "      <th>exp_score</th>\n",
       "      <th>xpl_score</th>\n",
       "      <th>adv_score</th>\n",
       "      <th>is_cfm</th>\n",
       "      <th>is_exp</th>\n",
       "      <th>is_xpl</th>\n",
       "      <th>is_adv</th>\n",
       "      <th>avg_rating</th>\n",
       "    </tr>\n",
       "  </thead>\n",
       "  <tbody>\n",
       "    <tr>\n",
       "      <th>0</th>\n",
       "      <td>7820</td>\n",
       "      <td>465</td>\n",
       "      <td>nmann08.184925</td>\n",
       "      <td>nmann08</td>\n",
       "      <td>2008-01-07 11:00:00</td>\n",
       "      <td>United States, Washington</td>\n",
       "      <td>United States</td>\n",
       "      <td>-0.875556</td>\n",
       "      <td>-0.423436</td>\n",
       "      <td>0.276726</td>\n",
       "      <td>0.066368</td>\n",
       "      <td>0</td>\n",
       "      <td>0</td>\n",
       "      <td>1</td>\n",
       "      <td>0</td>\n",
       "      <td>3.730887</td>\n",
       "    </tr>\n",
       "    <tr>\n",
       "      <th>1</th>\n",
       "      <td>2521</td>\n",
       "      <td>2504</td>\n",
       "      <td>stjamesgate.163714</td>\n",
       "      <td>StJamesGate</td>\n",
       "      <td>2007-10-08 10:00:00</td>\n",
       "      <td>United States, New York</td>\n",
       "      <td>United States</td>\n",
       "      <td>-0.516299</td>\n",
       "      <td>-0.282777</td>\n",
       "      <td>0.473622</td>\n",
       "      <td>0.037287</td>\n",
       "      <td>0</td>\n",
       "      <td>0</td>\n",
       "      <td>1</td>\n",
       "      <td>0</td>\n",
       "      <td>3.885664</td>\n",
       "    </tr>\n",
       "    <tr>\n",
       "      <th>2</th>\n",
       "      <td>2326</td>\n",
       "      <td>0</td>\n",
       "      <td>hellpop65.48993</td>\n",
       "      <td>Hellpop65</td>\n",
       "      <td>2005-11-14 11:00:00</td>\n",
       "      <td>United States, Kansas</td>\n",
       "      <td>United States</td>\n",
       "      <td>-1.783445</td>\n",
       "      <td>-0.621249</td>\n",
       "      <td>0.11264</td>\n",
       "      <td>0.11307</td>\n",
       "      <td>0</td>\n",
       "      <td>0</td>\n",
       "      <td>0</td>\n",
       "      <td>0</td>\n",
       "      <td>3.317313</td>\n",
       "    </tr>\n",
       "    <tr>\n",
       "      <th>3</th>\n",
       "      <td>3098</td>\n",
       "      <td>0</td>\n",
       "      <td>latarnik.52897</td>\n",
       "      <td>Latarnik</td>\n",
       "      <td>2005-12-02 11:00:00</td>\n",
       "      <td>United States, New Jersey</td>\n",
       "      <td>United States</td>\n",
       "      <td>-0.451196</td>\n",
       "      <td>-0.362152</td>\n",
       "      <td>0.171724</td>\n",
       "      <td>0.244028</td>\n",
       "      <td>0</td>\n",
       "      <td>0</td>\n",
       "      <td>0</td>\n",
       "      <td>1</td>\n",
       "      <td>3.438060</td>\n",
       "    </tr>\n",
       "    <tr>\n",
       "      <th>4</th>\n",
       "      <td>1866</td>\n",
       "      <td>23</td>\n",
       "      <td>rochefortchris.697017</td>\n",
       "      <td>RochefortChris</td>\n",
       "      <td>2012-10-02 10:00:00</td>\n",
       "      <td>United States, North Carolina</td>\n",
       "      <td>United States</td>\n",
       "      <td>-1.375863</td>\n",
       "      <td>-0.414637</td>\n",
       "      <td>0.209539</td>\n",
       "      <td>0.084137</td>\n",
       "      <td>0</td>\n",
       "      <td>0</td>\n",
       "      <td>1</td>\n",
       "      <td>0</td>\n",
       "      <td>3.910482</td>\n",
       "    </tr>\n",
       "  </tbody>\n",
       "</table>\n",
       "</div>"
      ],
      "text/plain": [
       "   n_ratings  n_reviews                    uid        username  \\\n",
       "0       7820        465         nmann08.184925         nmann08   \n",
       "1       2521       2504     stjamesgate.163714     StJamesGate   \n",
       "2       2326          0        hellpop65.48993       Hellpop65   \n",
       "3       3098          0         latarnik.52897        Latarnik   \n",
       "4       1866         23  rochefortchris.697017  RochefortChris   \n",
       "\n",
       "               joined                       location        country  \\\n",
       "0 2008-01-07 11:00:00      United States, Washington  United States   \n",
       "1 2007-10-08 10:00:00        United States, New York  United States   \n",
       "2 2005-11-14 11:00:00          United States, Kansas  United States   \n",
       "3 2005-12-02 11:00:00      United States, New Jersey  United States   \n",
       "4 2012-10-02 10:00:00  United States, North Carolina  United States   \n",
       "\n",
       "   cfm_score  exp_score  xpl_score  adv_score  is_cfm  is_exp  is_xpl  is_adv  \\\n",
       "0  -0.875556  -0.423436   0.276726   0.066368       0       0       1       0   \n",
       "1  -0.516299  -0.282777   0.473622   0.037287       0       0       1       0   \n",
       "2  -1.783445  -0.621249    0.11264    0.11307       0       0       0       0   \n",
       "3  -0.451196  -0.362152   0.171724   0.244028       0       0       0       1   \n",
       "4  -1.375863  -0.414637   0.209539   0.084137       0       0       1       0   \n",
       "\n",
       "   avg_rating  \n",
       "0    3.730887  \n",
       "1    3.885664  \n",
       "2    3.317313  \n",
       "3    3.438060  \n",
       "4    3.910482  "
      ]
     },
     "execution_count": 6,
     "metadata": {},
     "output_type": "execute_result"
    }
   ],
   "source": [
    "# rename column rating to avg_rating\n",
    "users_ddf = users_ddf.rename(columns={'rating': 'avg_rating'})\n",
    "users_ddf.head()"
   ]
  },
  {
   "cell_type": "code",
   "execution_count": 8,
   "metadata": {},
   "outputs": [
    {
     "data": {
      "text/plain": [
       "count    57108.000000\n",
       "mean         3.991393\n",
       "std          0.387736\n",
       "min          1.000000\n",
       "25%          3.772857\n",
       "50%          4.000000\n",
       "75%          4.237342\n",
       "max          5.000000\n",
       "Name: avg_rating, dtype: float64"
      ]
     },
     "execution_count": 8,
     "metadata": {},
     "output_type": "execute_result"
    }
   ],
   "source": [
    "users_ddf['avg_rating'].describe()"
   ]
  },
  {
   "attachments": {},
   "cell_type": "markdown",
   "metadata": {},
   "source": [
    "# Regresssion analysis on categories \n",
    "outcome y = category"
   ]
  },
  {
   "cell_type": "code",
   "execution_count": 9,
   "metadata": {},
   "outputs": [],
   "source": [
    "# standardize continuous variables\n",
    "users_ddf['n_ratings'] = (users_ddf['n_ratings'] - users_ddf['n_ratings'].mean())/users_ddf['n_ratings'].std()\n",
    "users_ddf['avg_rating'] = (users_ddf['avg_rating'] - users_ddf['avg_rating'].mean())/users_ddf['avg_rating'].std()\n",
    "users_ddf['n_reviews'] = (users_ddf['n_reviews'] - users_ddf['n_reviews'].mean())/users_ddf['n_reviews'].std()\n",
    "\n",
    "# make joined a datetime object\n",
    "#users_ddf['joined'] = pd.to_datetime(users_ddf['joined'])\n",
    "\n",
    "# create a new column with the year of the user creation\n",
    "#users_ddf['joined_year'] = users_ddf['joined'].dt.year\n",
    "\n",
    "# categorize the year of creation using dummies\n",
    "#users_ddf = pd.get_dummies(users_ddf, columns=['joined_year'], prefix='joinded_year')\n",
    "\n",
    "# categorize location using dummies\n",
    "#users_ddf = pd.get_dummies(users_ddf, columns=['location'], prefix='location')\n",
    "\n",
    "# categorize country using dummies\n",
    "#users_ddf = pd.get_dummies(users_ddf, columns=['country'], prefix='country')"
   ]
  },
  {
   "cell_type": "code",
   "execution_count": 10,
   "metadata": {},
   "outputs": [
    {
     "data": {
      "text/html": [
       "<div>\n",
       "<style scoped>\n",
       "    .dataframe tbody tr th:only-of-type {\n",
       "        vertical-align: middle;\n",
       "    }\n",
       "\n",
       "    .dataframe tbody tr th {\n",
       "        vertical-align: top;\n",
       "    }\n",
       "\n",
       "    .dataframe thead th {\n",
       "        text-align: right;\n",
       "    }\n",
       "</style>\n",
       "<table border=\"1\" class=\"dataframe\">\n",
       "  <thead>\n",
       "    <tr style=\"text-align: right;\">\n",
       "      <th></th>\n",
       "      <th>n_ratings</th>\n",
       "      <th>n_reviews</th>\n",
       "      <th>uid</th>\n",
       "      <th>username</th>\n",
       "      <th>joined</th>\n",
       "      <th>location</th>\n",
       "      <th>country</th>\n",
       "      <th>cfm_score</th>\n",
       "      <th>exp_score</th>\n",
       "      <th>xpl_score</th>\n",
       "      <th>adv_score</th>\n",
       "      <th>is_cfm</th>\n",
       "      <th>is_exp</th>\n",
       "      <th>is_xpl</th>\n",
       "      <th>is_adv</th>\n",
       "      <th>avg_rating</th>\n",
       "    </tr>\n",
       "  </thead>\n",
       "  <tbody>\n",
       "    <tr>\n",
       "      <th>0</th>\n",
       "      <td>19.820430</td>\n",
       "      <td>1.913010</td>\n",
       "      <td>nmann08.184925</td>\n",
       "      <td>nmann08</td>\n",
       "      <td>2008-01-07 11:00:00</td>\n",
       "      <td>United States, Washington</td>\n",
       "      <td>United States</td>\n",
       "      <td>-0.875556</td>\n",
       "      <td>-0.423436</td>\n",
       "      <td>0.276726</td>\n",
       "      <td>0.066368</td>\n",
       "      <td>0</td>\n",
       "      <td>0</td>\n",
       "      <td>1</td>\n",
       "      <td>0</td>\n",
       "      <td>-0.671864</td>\n",
       "    </tr>\n",
       "    <tr>\n",
       "      <th>1</th>\n",
       "      <td>6.158831</td>\n",
       "      <td>11.125143</td>\n",
       "      <td>stjamesgate.163714</td>\n",
       "      <td>StJamesGate</td>\n",
       "      <td>2007-10-08 10:00:00</td>\n",
       "      <td>United States, New York</td>\n",
       "      <td>United States</td>\n",
       "      <td>-0.516299</td>\n",
       "      <td>-0.282777</td>\n",
       "      <td>0.473622</td>\n",
       "      <td>0.037287</td>\n",
       "      <td>0</td>\n",
       "      <td>0</td>\n",
       "      <td>1</td>\n",
       "      <td>0</td>\n",
       "      <td>-0.272682</td>\n",
       "    </tr>\n",
       "    <tr>\n",
       "      <th>2</th>\n",
       "      <td>5.656093</td>\n",
       "      <td>-0.187844</td>\n",
       "      <td>hellpop65.48993</td>\n",
       "      <td>Hellpop65</td>\n",
       "      <td>2005-11-14 11:00:00</td>\n",
       "      <td>United States, Kansas</td>\n",
       "      <td>United States</td>\n",
       "      <td>-1.783445</td>\n",
       "      <td>-0.621249</td>\n",
       "      <td>0.11264</td>\n",
       "      <td>0.11307</td>\n",
       "      <td>0</td>\n",
       "      <td>0</td>\n",
       "      <td>0</td>\n",
       "      <td>0</td>\n",
       "      <td>-1.738503</td>\n",
       "    </tr>\n",
       "    <tr>\n",
       "      <th>3</th>\n",
       "      <td>7.646422</td>\n",
       "      <td>-0.187844</td>\n",
       "      <td>latarnik.52897</td>\n",
       "      <td>Latarnik</td>\n",
       "      <td>2005-12-02 11:00:00</td>\n",
       "      <td>United States, New Jersey</td>\n",
       "      <td>United States</td>\n",
       "      <td>-0.451196</td>\n",
       "      <td>-0.362152</td>\n",
       "      <td>0.171724</td>\n",
       "      <td>0.244028</td>\n",
       "      <td>0</td>\n",
       "      <td>0</td>\n",
       "      <td>0</td>\n",
       "      <td>1</td>\n",
       "      <td>-1.427087</td>\n",
       "    </tr>\n",
       "    <tr>\n",
       "      <th>4</th>\n",
       "      <td>4.470145</td>\n",
       "      <td>-0.083931</td>\n",
       "      <td>rochefortchris.697017</td>\n",
       "      <td>RochefortChris</td>\n",
       "      <td>2012-10-02 10:00:00</td>\n",
       "      <td>United States, North Carolina</td>\n",
       "      <td>United States</td>\n",
       "      <td>-1.375863</td>\n",
       "      <td>-0.414637</td>\n",
       "      <td>0.209539</td>\n",
       "      <td>0.084137</td>\n",
       "      <td>0</td>\n",
       "      <td>0</td>\n",
       "      <td>1</td>\n",
       "      <td>0</td>\n",
       "      <td>-0.208675</td>\n",
       "    </tr>\n",
       "  </tbody>\n",
       "</table>\n",
       "</div>"
      ],
      "text/plain": [
       "   n_ratings  n_reviews                    uid        username  \\\n",
       "0  19.820430   1.913010         nmann08.184925         nmann08   \n",
       "1   6.158831  11.125143     stjamesgate.163714     StJamesGate   \n",
       "2   5.656093  -0.187844        hellpop65.48993       Hellpop65   \n",
       "3   7.646422  -0.187844         latarnik.52897        Latarnik   \n",
       "4   4.470145  -0.083931  rochefortchris.697017  RochefortChris   \n",
       "\n",
       "               joined                       location        country  \\\n",
       "0 2008-01-07 11:00:00      United States, Washington  United States   \n",
       "1 2007-10-08 10:00:00        United States, New York  United States   \n",
       "2 2005-11-14 11:00:00          United States, Kansas  United States   \n",
       "3 2005-12-02 11:00:00      United States, New Jersey  United States   \n",
       "4 2012-10-02 10:00:00  United States, North Carolina  United States   \n",
       "\n",
       "   cfm_score  exp_score  xpl_score  adv_score  is_cfm  is_exp  is_xpl  is_adv  \\\n",
       "0  -0.875556  -0.423436   0.276726   0.066368       0       0       1       0   \n",
       "1  -0.516299  -0.282777   0.473622   0.037287       0       0       1       0   \n",
       "2  -1.783445  -0.621249    0.11264    0.11307       0       0       0       0   \n",
       "3  -0.451196  -0.362152   0.171724   0.244028       0       0       0       1   \n",
       "4  -1.375863  -0.414637   0.209539   0.084137       0       0       1       0   \n",
       "\n",
       "   avg_rating  \n",
       "0   -0.671864  \n",
       "1   -0.272682  \n",
       "2   -1.738503  \n",
       "3   -1.427087  \n",
       "4   -0.208675  "
      ]
     },
     "execution_count": 10,
     "metadata": {},
     "output_type": "execute_result"
    }
   ],
   "source": [
    "users_ddf.head()"
   ]
  },
  {
   "cell_type": "code",
   "execution_count": 11,
   "metadata": {},
   "outputs": [],
   "source": [
    "# drop columns that are not needed for logistic regression\n",
    "#users_log_reg = users_ddf.drop([\"uid\", \"username\", \"joined\", \"cfm_score\", \"exp_score\",\t\"xpl_score\",\t\"adv_score\",\t\"is_exp\",\t\"is_xpl\",\t\"is_adv\"\t], axis=1)"
   ]
  },
  {
   "cell_type": "code",
   "execution_count": 12,
   "metadata": {},
   "outputs": [
    {
     "ename": "NameError",
     "evalue": "name 'users_log_reg' is not defined",
     "output_type": "error",
     "traceback": [
      "\u001b[1;31m---------------------------------------------------------------------------\u001b[0m",
      "\u001b[1;31mNameError\u001b[0m                                 Traceback (most recent call last)",
      "Cell \u001b[1;32mIn [12], line 1\u001b[0m\n\u001b[1;32m----> 1\u001b[0m users_log_reg\u001b[39m.\u001b[39mhead()\n",
      "\u001b[1;31mNameError\u001b[0m: name 'users_log_reg' is not defined"
     ]
    }
   ],
   "source": [
    "users_log_reg.head()"
   ]
  },
  {
   "cell_type": "code",
   "execution_count": null,
   "metadata": {},
   "outputs": [
    {
     "data": {
      "text/plain": [
       "Index(['n_ratings', 'n_reviews', 'uid', 'username', 'joined', 'location',\n",
       "       'country', 'cfm_score', 'exp_score', 'xpl_score', 'adv_score', 'is_cfm',\n",
       "       'is_exp', 'is_xpl', 'is_adv', 'avg_rating'],\n",
       "      dtype='object')"
      ]
     },
     "execution_count": 37,
     "metadata": {},
     "output_type": "execute_result"
    }
   ],
   "source": [
    "users_ddf.columns"
   ]
  },
  {
   "attachments": {},
   "cell_type": "markdown",
   "metadata": {},
   "source": [
    "## Conformist"
   ]
  },
  {
   "cell_type": "code",
   "execution_count": 13,
   "metadata": {},
   "outputs": [
    {
     "name": "stdout",
     "output_type": "stream",
     "text": [
      "Optimization terminated successfully.\n",
      "         Current function value: 0.322676\n",
      "         Iterations 6\n",
      "                         Results: Logit\n",
      "=================================================================\n",
      "Model:              Logit            Pseudo R-squared: 0.007     \n",
      "Dependent Variable: is_cfm           AIC:              36862.7554\n",
      "Date:               2022-12-22 17:20 BIC:              36898.5662\n",
      "No. Observations:   57108            Log-Likelihood:   -18427.   \n",
      "Df Model:           3                LL-Null:          -18565.   \n",
      "Df Residuals:       57104            LLR p-value:      1.7160e-59\n",
      "Converged:          1.0000           Scale:            1.0000    \n",
      "No. Iterations:     6.0000                                       \n",
      "------------------------------------------------------------------\n",
      "             Coef.   Std.Err.      z      P>|z|    [0.025   0.975]\n",
      "------------------------------------------------------------------\n",
      "Intercept   -2.2101    0.0141  -157.0851  0.0000  -2.2377  -2.1825\n",
      "n_ratings    0.2172    0.0140    15.4821  0.0000   0.1897   0.2447\n",
      "avg_rating   0.0372    0.0144     2.5825  0.0098   0.0090   0.0654\n",
      "n_reviews   -0.0749    0.0141    -5.3046  0.0000  -0.1026  -0.0472\n",
      "=================================================================\n",
      "\n"
     ]
    }
   ],
   "source": [
    "# logistic regression using statsmodels\n",
    "logit_model = smf.logit(formula='is_cfm ~  n_ratings + avg_rating + n_reviews', data=users_ddf)\n",
    "result = logit_model.fit()\n",
    "print(result.summary2())"
   ]
  },
  {
   "cell_type": "code",
   "execution_count": null,
   "metadata": {},
   "outputs": [],
   "source": []
  },
  {
   "attachments": {},
   "cell_type": "markdown",
   "metadata": {},
   "source": [
    "## Expert-like"
   ]
  },
  {
   "cell_type": "code",
   "execution_count": 14,
   "metadata": {},
   "outputs": [
    {
     "name": "stdout",
     "output_type": "stream",
     "text": [
      "Optimization terminated successfully.\n",
      "         Current function value: 0.102733\n",
      "         Iterations 13\n",
      "                         Results: Logit\n",
      "=================================================================\n",
      "Model:              Logit            Pseudo R-squared: 0.229     \n",
      "Dependent Variable: is_exp           AIC:              11741.7787\n",
      "Date:               2022-12-22 17:20 BIC:              11777.5895\n",
      "No. Observations:   57108            Log-Likelihood:   -5866.9   \n",
      "Df Model:           3                LL-Null:          -7613.9   \n",
      "Df Residuals:       57104            LLR p-value:      0.0000    \n",
      "Converged:          1.0000           Scale:            1.0000    \n",
      "No. Iterations:     13.0000                                      \n",
      "------------------------------------------------------------------\n",
      "             Coef.   Std.Err.     z      P>|z|    [0.025    0.975]\n",
      "------------------------------------------------------------------\n",
      "Intercept   -7.9937    0.2849  -28.0535  0.0000   -8.5522  -7.4352\n",
      "n_ratings   -9.2807    0.6880  -13.4901  0.0000  -10.6291  -7.9323\n",
      "avg_rating   1.2481    0.0329   37.9892  0.0000    1.1837   1.3125\n",
      "n_reviews   -7.2353    1.2753   -5.6735  0.0000   -9.7348  -4.7357\n",
      "=================================================================\n",
      "\n"
     ]
    }
   ],
   "source": [
    "# logistic regression using statsmodels\n",
    "logit_model = smf.logit(formula='is_exp ~  n_ratings + avg_rating + n_reviews', data=users_ddf)\n",
    "result = logit_model.fit()\n",
    "print(result.summary2())"
   ]
  },
  {
   "cell_type": "code",
   "execution_count": 15,
   "metadata": {},
   "outputs": [
    {
     "data": {
      "text/html": [
       "<div>\n",
       "<style scoped>\n",
       "    .dataframe tbody tr th:only-of-type {\n",
       "        vertical-align: middle;\n",
       "    }\n",
       "\n",
       "    .dataframe tbody tr th {\n",
       "        vertical-align: top;\n",
       "    }\n",
       "\n",
       "    .dataframe thead th {\n",
       "        text-align: right;\n",
       "    }\n",
       "</style>\n",
       "<table border=\"1\" class=\"dataframe\">\n",
       "  <thead>\n",
       "    <tr style=\"text-align: right;\">\n",
       "      <th></th>\n",
       "      <th>0</th>\n",
       "      <th>1</th>\n",
       "    </tr>\n",
       "  </thead>\n",
       "  <tbody>\n",
       "    <tr>\n",
       "      <th>Intercept</th>\n",
       "      <td>-8.552156</td>\n",
       "      <td>-7.435196</td>\n",
       "    </tr>\n",
       "    <tr>\n",
       "      <th>n_ratings</th>\n",
       "      <td>-10.629075</td>\n",
       "      <td>-7.932308</td>\n",
       "    </tr>\n",
       "    <tr>\n",
       "      <th>avg_rating</th>\n",
       "      <td>1.183718</td>\n",
       "      <td>1.312504</td>\n",
       "    </tr>\n",
       "    <tr>\n",
       "      <th>n_reviews</th>\n",
       "      <td>-9.734765</td>\n",
       "      <td>-4.735747</td>\n",
       "    </tr>\n",
       "  </tbody>\n",
       "</table>\n",
       "</div>"
      ],
      "text/plain": [
       "                    0         1\n",
       "Intercept   -8.552156 -7.435196\n",
       "n_ratings  -10.629075 -7.932308\n",
       "avg_rating   1.183718  1.312504\n",
       "n_reviews   -9.734765 -4.735747"
      ]
     },
     "execution_count": 15,
     "metadata": {},
     "output_type": "execute_result"
    }
   ],
   "source": [
    "# feature names\n",
    "variables = result.params.index\n",
    "\n",
    "# quantifying uncertainty!\n",
    "\n",
    "# coefficients\n",
    "coefficients = result.params.values\n",
    "\n",
    "# p-values\n",
    "p_values = result.pvalues\n",
    "\n",
    "# standard errors\n",
    "standard_errors = result.bse.values\n",
    "\n",
    "#confidence intervals\n",
    "result.conf_int()"
   ]
  },
  {
   "cell_type": "code",
   "execution_count": 16,
   "metadata": {},
   "outputs": [
    {
     "data": {
      "text/plain": [
       "([<matplotlib.axis.YTick at 0x214304557f0>,\n",
       "  <matplotlib.axis.YTick at 0x21431c04610>,\n",
       "  <matplotlib.axis.YTick at 0x214304d6b20>],\n",
       " [Text(0, 0, 'n_ratings'), Text(0, 1, 'n_reviews'), Text(0, 2, 'avg_rating')])"
      ]
     },
     "execution_count": 16,
     "metadata": {},
     "output_type": "execute_result"
    },
    {
     "data": {
      "image/png": "[encoded data removed]",
      "text/plain": [
       "<Figure size 640x480 with 1 Axes>"
      ]
     },
     "metadata": {},
     "output_type": "display_data"
    }
   ],
   "source": [
    "l1, l2, l3, l4 = zip(*sorted(zip(coefficients[1:], variables[1:], standard_errors[1:], p_values[1:])))\n",
    "plt.errorbar(l1, np.array(range(len(l1))), xerr= 2*np.array(l3), linewidth = 1,\n",
    "             linestyle = 'none',marker = 'o',markersize= 3,\n",
    "             markerfacecolor = 'black',markeredgecolor = 'black', capsize= 5)\n",
    "\n",
    "plt.vlines(0,0, len(l1), linestyle = '--')\n",
    "\n",
    "plt.yticks(range(len(l2)),l2)"
   ]
  },
  {
   "attachments": {},
   "cell_type": "markdown",
   "metadata": {},
   "source": [
    "## Explorer"
   ]
  },
  {
   "cell_type": "code",
   "execution_count": 17,
   "metadata": {},
   "outputs": [
    {
     "name": "stdout",
     "output_type": "stream",
     "text": [
      "Optimization terminated successfully.\n",
      "         Current function value: 0.393363\n",
      "         Iterations 6\n",
      "                          Results: Logit\n",
      "==================================================================\n",
      "Model:              Logit            Pseudo R-squared: 0.011      \n",
      "Dependent Variable: is_xpl           AIC:              44936.3877 \n",
      "Date:               2022-12-22 17:20 BIC:              44972.1985 \n",
      "No. Observations:   57108            Log-Likelihood:   -22464.    \n",
      "Df Model:           3                LL-Null:          -22714.    \n",
      "Df Residuals:       57104            LLR p-value:      4.3702e-108\n",
      "Converged:          1.0000           Scale:            1.0000     \n",
      "No. Iterations:     6.0000                                        \n",
      "-------------------------------------------------------------------\n",
      "              Coef.   Std.Err.      z      P>|z|    [0.025   0.975]\n",
      "-------------------------------------------------------------------\n",
      "Intercept    -1.8615    0.0123  -151.1277  0.0000  -1.8857  -1.8374\n",
      "n_ratings     0.0670    0.0134     4.9820  0.0000   0.0406   0.0933\n",
      "avg_rating    0.0312    0.0126     2.4808  0.0131   0.0066   0.0559\n",
      "n_reviews     0.1794    0.0141    12.6788  0.0000   0.1516   0.2071\n",
      "==================================================================\n",
      "\n"
     ]
    }
   ],
   "source": [
    "# logistic regression using statsmodels\n",
    "logit_model = smf.logit(formula='is_xpl ~  n_ratings + avg_rating + n_reviews', data=users_ddf)\n",
    "result = logit_model.fit()\n",
    "print(result.summary2())"
   ]
  },
  {
   "attachments": {},
   "cell_type": "markdown",
   "metadata": {},
   "source": [
    "## adventurer "
   ]
  },
  {
   "cell_type": "code",
   "execution_count": 18,
   "metadata": {},
   "outputs": [
    {
     "name": "stdout",
     "output_type": "stream",
     "text": [
      "Optimization terminated successfully.\n",
      "         Current function value: 0.232024\n",
      "         Iterations 8\n",
      "                         Results: Logit\n",
      "=================================================================\n",
      "Model:              Logit            Pseudo R-squared: 0.286     \n",
      "Dependent Variable: is_adv           AIC:              26508.8710\n",
      "Date:               2022-12-22 17:20 BIC:              26544.6818\n",
      "No. Observations:   57108            Log-Likelihood:   -13250.   \n",
      "Df Model:           3                LL-Null:          -18565.   \n",
      "Df Residuals:       57104            LLR p-value:      0.0000    \n",
      "Converged:          1.0000           Scale:            1.0000    \n",
      "No. Iterations:     8.0000                                       \n",
      "------------------------------------------------------------------\n",
      "             Coef.   Std.Err.      z      P>|z|    [0.025   0.975]\n",
      "------------------------------------------------------------------\n",
      "Intercept   -3.0607    0.0241  -126.7885  0.0000  -3.1080  -3.0133\n",
      "n_ratings   -1.0345    0.0662   -15.6172  0.0000  -1.1643  -0.9046\n",
      "avg_rating  -1.5879    0.0199   -79.9545  0.0000  -1.6268  -1.5490\n",
      "n_reviews    0.3761    0.0483     7.7854  0.0000   0.2814   0.4708\n",
      "=================================================================\n",
      "\n"
     ]
    }
   ],
   "source": [
    "# logistic regression using statsmodels\n",
    "logit_model = smf.logit(formula='is_adv ~  n_ratings + avg_rating + n_reviews', data=users_ddf)\n",
    "result = logit_model.fit()\n",
    "print(result.summary2())"
   ]
  },
  {
   "cell_type": "code",
   "execution_count": 25,
   "metadata": {},
   "outputs": [
    {
     "data": {
      "image/png": "[encoded data removed]",
      "text/plain": [
       "<Figure size 800x300 with 1 Axes>"
      ]
     },
     "metadata": {},
     "output_type": "display_data"
    }
   ],
   "source": [
    "import matplotlib.pyplot as plt\n",
    "plt.rc('figure', figsize=(8, 3))\n",
    "#plt.text(0.01, 0.05, str(model.summary()), {'fontsize': 12}) old approach\n",
    "plt.text(0.01, 0.05, str(result.summary()), {'fontsize': 10}, fontproperties = 'monospace') # approach improved by OP -> monospace!\n",
    "plt.axis('off')\n",
    "plt.tight_layout()\n",
    "plt.savefig('adventurer_regression.svg', dpi=600, transparent=True)"
   ]
  },
  {
   "cell_type": "code",
   "execution_count": null,
   "metadata": {},
   "outputs": [],
   "source": []
  }
 ],
 "metadata": {
  "kernelspec": {
   "display_name": "base",
   "language": "python",
   "name": "python3"
  },
  "language_info": {
   "codemirror_mode": {
    "name": "ipython",
    "version": 3
   },
   "file_extension": ".py",
   "mimetype": "text/x-python",
   "name": "python",
   "nbconvert_exporter": "python",
   "pygments_lexer": "ipython3",
   "version": "3.9.12 (main, Apr  4 2022, 05:22:27) [MSC v.1916 64 bit (AMD64)]"
  },
  "orig_nbformat": 4,
  "vscode": {
   "interpreter": {
    "hash": "6bb2e1f904bb6e863f2b9088396373e4778cab81ffde8089fcb5238aee912dca"
   }
  }
 },
 "nbformat": 4,
 "nbformat_minor": 2
}
