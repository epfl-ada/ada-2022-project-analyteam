{
 "cells": [
  {
   "cell_type": "code",
   "execution_count": 2,
   "metadata": {},
   "outputs": [],
   "source": [
    "import numpy as np\n",
    "import pandas as pd"
   ]
  },
  {
   "cell_type": "code",
   "execution_count": 3,
   "metadata": {},
   "outputs": [],
   "source": [
    "ratings_file_name = \"./Data/ratings.txt\"\n",
    "reviews_file_name = \"./Data/ratings.txt\"\n",
    "enc = 'utf-8'"
   ]
  },
  {
   "cell_type": "code",
   "execution_count": null,
   "metadata": {},
   "outputs": [],
   "source": [
    "ratings_columns = [\"beer_id\", \"user_id\", \"date\", \"brewery_id\", \"appearance\", \"palate\", \"aroma\", \"taste\", \"overall\", \"rating\", \"n_pos\", \"n_neg\"]\n",
    "print(columns)\n",
    "nb_features = len(columns)\n",
    "print(nb_features)"
   ]
  },
  {
   "cell_type": "code",
   "execution_count": 4,
   "metadata": {},
   "outputs": [
    {
     "name": "stdout",
     "output_type": "stream",
     "text": [
      "['beer_name', 'beer_id', 'brewery_name', 'brewery_id', 'style', 'abv', 'date', 'user_name', 'user_id', 'appearance', 'aroma', 'palate', 'taste', 'overall', 'rating', 'text']\n",
      "16\n"
     ]
    }
   ],
   "source": [
    "columns = [\"beer_name\", \"beer_id\", \"brewery_name\", \"brewery_id\", \"style\", \"abv\", \"date\", \"user_name\", \"user_id\", \"appearance\", \"aroma\", \"palate\", \"taste\", \"overall\", \"rating\", \"text\"]\n",
    "print(columns)\n",
    "nb_features = len(columns)\n",
    "print(nb_features)"
   ]
  },
  {
   "cell_type": "code",
   "execution_count": null,
   "metadata": {},
   "outputs": [],
   "source": []
  },
  {
   "cell_type": "code",
   "execution_count": 9,
   "metadata": {},
   "outputs": [],
   "source": [
    "i = 0\n",
    "nb_ratings = 100000\n",
    "\n",
    "#r = np.empty((16,1))\n",
    "r = []\n",
    "for i in range(16):\n",
    "    r.append([])\n",
    "\n",
    "with open(ratings_file_name, encoding=enc) as file:\n",
    "    i = 0\n",
    "    for line in file:\n",
    "        if i > (nb_features+1) * nb_ratings - 1:\n",
    "            break\n",
    "        l = line.strip()\n",
    "        for j in range(nb_features):\n",
    "            if columns[j] in l[:12]:\n",
    "                l = l.replace(columns[j]+\": \",\"\")\n",
    "                r[j].append(l)\n",
    "        i += 1"
   ]
  },
  {
   "cell_type": "code",
   "execution_count": 12,
   "metadata": {},
   "outputs": [
    {
     "name": "stdout",
     "output_type": "stream",
     "text": [
      "beer_name\n",
      "['33 Export (Gabon)', 'Castel Beer (Gabon)', 'Castel Beer (Gabon)', 'Castel Beer (Gabon)', 'Castel Beer (Gabon)', 'Castel Beer (Gabon)', 'Castel Beer (Gabon)', 'Castel Beer (Gabon)', 'Castel Beer (Gabon)', 'Castel Beer (Gabon)']\n",
      "100000\n",
      "beer_id\n",
      "['410549', '105273', '105273', '105273', '105273', '105273', '105273', '105273', '105273', '105273']\n",
      "100000\n",
      "brewery_na\n",
      "['Sobraga', 'Sobraga', 'Sobraga', 'Sobraga', 'Sobraga', 'Sobraga', 'Sobraga', 'Sobraga', 'Sobraga', 'Sobraga']\n",
      "100000\n",
      "brewery_id\n",
      "['3198', '3198', '3198', '3198', '3198', '3198', '3198', '3198', '3198', '3198']\n",
      "100000\n",
      "style\n",
      "['Pale Lager', 'Pale Lager', 'Pale Lager', 'Pale Lager', 'Pale Lager', 'Pale Lager', 'Pale Lager', 'Pale Lager', 'Pale Lager', 'Pale Lager']\n",
      "100000\n",
      "abv\n",
      "['5.0', '5.2', '5.2', '5.2', '5.2', '5.2', '5.2', '5.2', '5.2', '5.2']\n",
      "100002\n",
      "date\n",
      "['1461664800', '1487329200', '1466762400', '1451646000', '1445594400', '1444644000', '1444212000', '1430820000', '1401357600', '1374141600']\n",
      "100037\n",
      "user_name\n",
      "['Manslow', 'MAGICuenca91', 'Sibarh', 'fombe89', 'kevnic2008', 'Beerhunter111', 'Erzengel', 'Manslow', 'Lowenbrau', 'seynie']\n",
      "100000\n",
      "user_id\n",
      "['175852', '442761', '288889', '250510', '122778', '227834', '83106', '175852', '37316', '75452']\n",
      "100000\n",
      "appearance\n",
      "['2', '2', '3', '4', '2', '2', '4', '2', '3', '2']\n",
      "100000\n",
      "aroma\n",
      "['4', '3', '3', '3', '4', '3', '5', '4', '5', '3']\n",
      "100043\n",
      "palate\n",
      "['2', '2', '2', '1', '2', '2', '4', '2', '2', '3']\n",
      "100000\n",
      "taste\n",
      "['4', '4', '3', '2', '4', '3', '5', '3', '3', '4']\n",
      "100073\n",
      "overall\n",
      "['8', '8', '5', '5', '7', '9', '8', '6', '7', '6']\n",
      "100000\n",
      "rating\n",
      "['2.00', '1.90', '1.60', '1.50', '1.90', '1.90', '2.60', '1.70', '2.00', '1.80']\n",
      "100001\n",
      "text\n",
      "['Puszka 0,33l dzięki Christoph . Kolor jasnozłoty, piana biała drobnoziarnista szybko opada. Aromat słodowy, lekko słodkie.Dość dobre.', 'Cerveza pale lager gabonesa. MÃ¡s floja que la Regab.Aroma escaso, apariencia pÃ¡lida, muy poco cuerpo y poco regusto en el paladar.Si algÃºn dÃ\\xada fuera a GabÃ³n pedirÃ\\xada una mÃ¡s para volver a probarla y el resto del tiempo pedirÃ\\xada la Regab sin duda, que tampoco es que sea nada del otro mundo, pero es superior a Ã©sta.', 'Kolor- złoty, klarowny. Piana - drobna, średnio wysoka, nie trwała. Zapach - lekki słodowy. Smak - lekki słÃ³d i chmiel, lekki kwasek, lekka słodycz i goryczka', 'Botella, de GabÃ³n regalo familiar.31/01/2015Color amarillo, aromas y sabores a maiz, cuerpo medio', 'Many thanks for this beer to Erzengel. Pours light golden with medium head. Light bodied crisp taste with low carbonation. Sweet finish.', 'Many thanks to Erzengel for sharing! Pours clear golden colour with a small white head. Aroma of grain, sweet malts and slight hops. Taste is grainy, bread, some hops, watery finish...', 'Many thanks to Travlr for this can!  Grainy nose. The beer starts smooth grainy. Not too deep but not bad. Easy to drink, hints of sweetness there, full grainy body, moderate to low bitterness in the end. Easy to drink!', 'Puszka pita w Gabonie. Kolor jasnosłomkowy, piana znika szybko. Aromat lekki słodowy. Smak słodkiego słodu. Nagazowanie słabe jak i samo piwo.', '330ml bottle. 29-05-2014.From Gabon, courtesy of Fombe.In short: a sweet poor lager.Pours bright gold, clear, with nice white head. Short head retention, poor lacing. Skunky, adjunct aromas. Light body, average carbonation, crispy texture. Taste follows the nose, some sweet flavours. Very poor.', 'Light yellow with quickly disappearing foam top. Slightly more body than the other local beer, Regab. A little more malty but nothing very exciting about this beer']\n",
      "100000\n"
     ]
    }
   ],
   "source": [
    "for i in range(nb_features):\n",
    "    print(columns[i][:10])\n",
    "    print(r[i][:10])\n",
    "    print(len(r[i]))"
   ]
  },
  {
   "cell_type": "code",
   "execution_count": null,
   "metadata": {},
   "outputs": [],
   "source": []
  },
  {
   "cell_type": "code",
   "execution_count": null,
   "metadata": {},
   "outputs": [],
   "source": []
  },
  {
   "cell_type": "code",
   "execution_count": null,
   "metadata": {},
   "outputs": [],
   "source": []
  },
  {
   "cell_type": "code",
   "execution_count": null,
   "metadata": {},
   "outputs": [],
   "source": [
    "ratings_list = []\n",
    "with open(\"./Data/ratings.txt\", encoding='utf-8') as file:\n",
    "    ratings_list = file.readlines()"
   ]
  },
  {
   "cell_type": "code",
   "execution_count": null,
   "metadata": {},
   "outputs": [],
   "source": [
    "print(len(ratings_list))"
   ]
  },
  {
   "cell_type": "code",
   "execution_count": null,
   "metadata": {},
   "outputs": [],
   "source": [
    "reviews_list = []\n",
    "with open(\"./Data/reviews.txt\", encoding='utf-8') as file:\n",
    "    reviews_list = file.readlines()"
   ]
  },
  {
   "cell_type": "code",
   "execution_count": null,
   "metadata": {},
   "outputs": [],
   "source": [
    "print(len(reviews_list))"
   ]
  },
  {
   "cell_type": "code",
   "execution_count": null,
   "metadata": {},
   "outputs": [],
   "source": [
    "print(ratings_list[:10])"
   ]
  },
  {
   "cell_type": "code",
   "execution_count": null,
   "metadata": {},
   "outputs": [],
   "source": []
  },
  {
   "cell_type": "code",
   "execution_count": null,
   "metadata": {},
   "outputs": [],
   "source": [
    "import re\n",
    "[m.start() for m in re.finditer('beer_name', 'test test test test')]"
   ]
  },
  {
   "cell_type": "code",
   "execution_count": null,
   "metadata": {},
   "outputs": [],
   "source": [
    "beer_names = []\n",
    "beer_id = []\n",
    "\n",
    "\n",
    "for r in ratings_list:\n",
    "    if \"beer_name\" in r:\n",
    "        beer_names.append(r[11:len(r)-1])\n",
    "    elif \"beer_id\" in r:\n",
    "        beer_id.append(r[9:len(r)-1])\n",
    "print(beer_names)\n",
    "print(beer_id)"
   ]
  },
  {
   "cell_type": "code",
   "execution_count": null,
   "metadata": {},
   "outputs": [],
   "source": [
    "with open(\"./Data/ratings.txt\", encoding='utf-8') as file:\n",
    "    ratings = \"\"\n",
    "    for i in range(100):\n",
    "        ratings += file.readline()\n",
    "\n",
    "print(\"ratings : \", ratings)"
   ]
  },
  {
   "cell_type": "code",
   "execution_count": null,
   "metadata": {},
   "outputs": [],
   "source": [
    "with open(\"./Data/reviews.txt\", encoding='utf-8') as file:\n",
    "    reviews = \"\"\n",
    "    for i in range(100):\n",
    "        reviews += file.readline()\n",
    "print(reviews)"
   ]
  },
  {
   "cell_type": "code",
   "execution_count": null,
   "metadata": {},
   "outputs": [],
   "source": [
    "print(reviews == ratings)\n",
    "print(\" nan \" in reviews)\n",
    "print(\" nan \" in ratings)"
   ]
  },
  {
   "cell_type": "code",
   "execution_count": null,
   "metadata": {},
   "outputs": [],
   "source": []
  }
 ],
 "metadata": {
  "kernelspec": {
   "display_name": "Python 3",
   "language": "python",
   "name": "python3"
  },
  "language_info": {
   "codemirror_mode": {
    "name": "ipython",
    "version": 3
   },
   "file_extension": ".py",
   "mimetype": "text/x-python",
   "name": "python",
   "nbconvert_exporter": "python",
   "pygments_lexer": "ipython3",
   "version": "3.8.3"
  }
 },
 "nbformat": 4,
 "nbformat_minor": 4
}
