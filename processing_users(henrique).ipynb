{
 "cells": [
  {
   "cell_type": "markdown",
   "metadata": {},
   "source": [
    "## BeerAdvocate: Descriptive Analysis and Processing\n",
    "\n",
    "---\n",
    "\n",
    "**Processing and Transformations Summary of \"users.csv\"**\n",
    "\n",
    "- **Renaming Columns**: \"nbr_ratings\" to \"n_ratings\", \"nbr_reviews\" to \"n_reviews\", \"user_id\" to \"uid\", \"user_name\" to \"username\".\n",
    "- **Converting Data Types**: \"n_ratings\", \"n_reviews\" to int & \"username\", \"uid\", \"location\" to str.\n",
    "- **Converting \"nan\" to None**: in \"location\".\n",
    "- **Creating an additional \"country\" column from \"location\"**: by extracting the country name from the location (example: \"United States, Texas\" location belongs to country \"United States\").\n",
    "- **Converting the \"joined\" column values**: float values (time in seconds, reference is Jan.1st 1970 at 00:00) to pandas.Timestamp. Implicit conversion of NaN to NaT. \n",
    "\n",
    "---\n",
    "\n",
    "**Descriptive Analysis Summary of \"users.csv\"**\n",
    "\n",
    "* **Missing values**: none, except for \"location\" that may contain \"nan\" (previously converted to None) and \"joined\" that may contain NaN (previously implictely converted to NaT).\n",
    "\n",
    "<br>\n",
    "\n",
    "* **users**:\n",
    "  - 153'704 unique users.\n",
    "  - $\\approx$ 20.3% of users are of unknown location.\n",
    "  - most users are located in English speaking countries. top 5 countries in terms of number of users:\n",
    "  \n",
    "  | country | wrt to all users | wrt users with known location |\n",
    "  | :- | :-: | :-: |\n",
    "  | United States | 73.6% | 92.4% |\n",
    "  | Canada | 2.1% | 2.7% |\n",
    "  | England | 0.5% | 0.6% | \n",
    "  | Australia | 0.3% | 0.4% |\n",
    "  | Germany | 0.2% | 0.3% |\n",
    "\n",
    "<br>\n",
    "\n",
    "* **ratings**:\n",
    "  - 8'393'032 ratings in total.\n",
    "  - heavy-tailed distribution of the number of ratings per user.\n",
    "  - 50% of users have at most 3 ratings.\n",
    "  - the mean number of ratings $\\approx 54.6$ is quite low while the standard deviation $\\approx 252.38$ is very high.\n",
    "  - most rtings are given by users located in English speaking countries. Top 5 countries in terms of the number of ratings: \n",
    "\n",
    "  | country | wrt to all users | wrt users with known location |\n",
    "  | :- | :-: | :-: |\n",
    "  | United States | 87% | 92.5% |\n",
    "  | Canada | 3.2% | 3.4% |\n",
    "  | England | 0.4% | 0.5% | \n",
    "  | Australia | 0.4% | 0.4% |\n",
    "  | Sweden | 0.3% | 0.3% |\n",
    "\n",
    "<br>\n",
    "\n",
    "* **reviews**:\n",
    "  - reviews in total.\n",
    "  - distribtion ?\n",
    "  - 50% of users have 0 reviews.\n",
    "  - the mean number of reviews $\\approx 16.84$ is quite low while the standard deviation $\\approx 139.84$ is very high.\n",
    "  - most reviews are given by users from English speaking countries (US, Canada, Australia, England). Top 5 countries in terms of the number of reviews:\n",
    "  \n",
    "  | country | wrt to all users | wrt users with known location |\n",
    "  | :- | :-: | :-: |\n",
    "  | United States | 86.5% | 89.8% |\n",
    "  | Canada | 4.8% | 5% |\n",
    "  | Australia | 1% | 1% | \n",
    "  | England | 0.8% | 0.8% |\n",
    "  | Netherlands | 0.3% | 0.3% |\n",
    "\n",
    "<br>\n",
    "\n",
    "* **joined**:\n",
    "  - earliest year of joining: 1996.\n",
    "  - latest year of joining: 2017 (date of the end of the collection of data, which happened between 2001 and 2017).\n",
    "  - there are only 2652 users with unknown joining date.\n",
    "  - the yearly by month distribution of users joining the plateform is not disrupted throughout most of the years (starting 2001 until 2017). \n",
    "\n",
    "<br>\n",
    "\n",
    "* **country**:\n",
    "  - users are located in 145 different countries.\n",
    "\n",
    "---"
   ]
  },
  {
   "cell_type": "code",
   "execution_count": 1,
   "metadata": {},
   "outputs": [],
   "source": [
    "from setup import dask_init, dask_shutdown\n",
    "import dask.distributed as dd\n",
    "import dask.dataframe as ddf\n",
    "\n",
    "import pandas as pd\n",
    "import numpy as np\n",
    "\n",
    "import ingestion as ing\n",
    "import processing as prc\n",
    "\n",
    "import datetime as dt\n",
    "\n",
    "import seaborn as sns\n",
    "import matplotlib.pyplot as plt\n",
    "%matplotlib inline\n",
    "\n",
    "%load_ext autoreload\n",
    "%autoreload 2"
   ]
  },
  {
   "cell_type": "markdown",
   "metadata": {},
   "source": [
    "**setup**"
   ]
  },
  {
   "cell_type": "code",
   "execution_count": 2,
   "metadata": {},
   "outputs": [
    {
     "data": {
      "application/vnd.jupyter.widget-view+json": {
       "model_id": "ca80ad813739463997645bafff4f6da9",
       "version_major": 2,
       "version_minor": 0
      },
      "text/plain": [
       "Tab(children=(HTML(value='<div class=\"jp-RenderedHTMLCommon jp-RenderedHTML jp-mod-trusted jp-OutputArea-outpu…"
      ]
     },
     "metadata": {},
     "output_type": "display_data"
    }
   ],
   "source": [
    "# PANDAS SETUP\n",
    "pd.options.mode.use_inf_as_na = True\n",
    "\n",
    "# DASK SETUP\n",
    "client, cluster = dask_init()\n",
    "cluster"
   ]
  },
  {
   "cell_type": "markdown",
   "metadata": {},
   "source": [
    "### BeerAdvocate - users.csv"
   ]
  },
  {
   "cell_type": "markdown",
   "metadata": {},
   "source": [
    "**[I] Loading the Data**"
   ]
  },
  {
   "cell_type": "code",
   "execution_count": 3,
   "metadata": {},
   "outputs": [
    {
     "data": {
      "text/html": [
       "<div>\n",
       "<style scoped>\n",
       "    .dataframe tbody tr th:only-of-type {\n",
       "        vertical-align: middle;\n",
       "    }\n",
       "\n",
       "    .dataframe tbody tr th {\n",
       "        vertical-align: top;\n",
       "    }\n",
       "\n",
       "    .dataframe thead th {\n",
       "        text-align: right;\n",
       "    }\n",
       "</style>\n",
       "<table border=\"1\" class=\"dataframe\">\n",
       "  <thead>\n",
       "    <tr style=\"text-align: right;\">\n",
       "      <th></th>\n",
       "      <th>nbr_ratings</th>\n",
       "      <th>nbr_reviews</th>\n",
       "      <th>user_id</th>\n",
       "      <th>user_name</th>\n",
       "      <th>joined</th>\n",
       "      <th>location</th>\n",
       "    </tr>\n",
       "  </thead>\n",
       "  <tbody>\n",
       "    <tr>\n",
       "      <th>0</th>\n",
       "      <td>7820.0</td>\n",
       "      <td>465.0</td>\n",
       "      <td>nmann08.184925</td>\n",
       "      <td>nmann08</td>\n",
       "      <td>1.199704e+09</td>\n",
       "      <td>United States, Washington</td>\n",
       "    </tr>\n",
       "    <tr>\n",
       "      <th>1</th>\n",
       "      <td>2521.0</td>\n",
       "      <td>2504.0</td>\n",
       "      <td>stjamesgate.163714</td>\n",
       "      <td>StJamesGate</td>\n",
       "      <td>1.191838e+09</td>\n",
       "      <td>United States, New York</td>\n",
       "    </tr>\n",
       "    <tr>\n",
       "      <th>2</th>\n",
       "      <td>1797.0</td>\n",
       "      <td>1143.0</td>\n",
       "      <td>mdagnew.19527</td>\n",
       "      <td>mdagnew</td>\n",
       "      <td>1.116410e+09</td>\n",
       "      <td>Northern Ireland</td>\n",
       "    </tr>\n",
       "    <tr>\n",
       "      <th>3</th>\n",
       "      <td>31.0</td>\n",
       "      <td>31.0</td>\n",
       "      <td>helloloser12345.10867</td>\n",
       "      <td>helloloser12345</td>\n",
       "      <td>1.101380e+09</td>\n",
       "      <td>Northern Ireland</td>\n",
       "    </tr>\n",
       "    <tr>\n",
       "      <th>4</th>\n",
       "      <td>604.0</td>\n",
       "      <td>604.0</td>\n",
       "      <td>cypressbob.3708</td>\n",
       "      <td>cypressbob</td>\n",
       "      <td>1.069326e+09</td>\n",
       "      <td>Northern Ireland</td>\n",
       "    </tr>\n",
       "  </tbody>\n",
       "</table>\n",
       "</div>"
      ],
      "text/plain": [
       "   nbr_ratings  nbr_reviews                user_id        user_name  \\\n",
       "0       7820.0        465.0         nmann08.184925          nmann08   \n",
       "1       2521.0       2504.0     stjamesgate.163714      StJamesGate   \n",
       "2       1797.0       1143.0          mdagnew.19527          mdagnew   \n",
       "3         31.0         31.0  helloloser12345.10867  helloloser12345   \n",
       "4        604.0        604.0        cypressbob.3708       cypressbob   \n",
       "\n",
       "         joined                   location  \n",
       "0  1.199704e+09  United States, Washington  \n",
       "1  1.191838e+09    United States, New York  \n",
       "2  1.116410e+09           Northern Ireland  \n",
       "3  1.101380e+09           Northern Ireland  \n",
       "4  1.069326e+09           Northern Ireland  "
      ]
     },
     "execution_count": 3,
     "metadata": {},
     "output_type": "execute_result"
    }
   ],
   "source": [
    "users_cols = [\n",
    "    \"nbr_ratings\",\n",
    "    \"nbr_reviews\",\n",
    "    \"user_id\",\n",
    "    \"user_name\",\n",
    "    \"joined\",\n",
    "    \"location\"]\n",
    "\n",
    "users_df = ing.read_csv(\n",
    "    path=ing.build_path(folderind=\"ba\", fileind=\"users\"),\n",
    "    assume_missing=True,\n",
    "    keepcols=users_cols)\n",
    "\n",
    "users_df.head(5)"
   ]
  },
  {
   "cell_type": "markdown",
   "metadata": {},
   "source": [
    "**[II] Data Transformation**"
   ]
  },
  {
   "cell_type": "markdown",
   "metadata": {},
   "source": [
    "Renaming the columns"
   ]
  },
  {
   "cell_type": "code",
   "execution_count": 4,
   "metadata": {},
   "outputs": [
    {
     "data": {
      "text/plain": [
       "Index(['n_ratings', 'n_reviews', 'uid', 'username', 'joined', 'location'], dtype='object')"
      ]
     },
     "execution_count": 4,
     "metadata": {},
     "output_type": "execute_result"
    }
   ],
   "source": [
    "cols_renaming = {\n",
    "    \"nbr_ratings\": \"n_ratings\",\n",
    "    \"nbr_reviews\": \"n_reviews\",\n",
    "    \"user_id\": \"uid\",\n",
    "    \"user_name\": \"username\"\n",
    "}\n",
    "\n",
    "users_df = users_df.rename(columns=cols_renaming)\n",
    "users_df.columns"
   ]
  },
  {
   "cell_type": "markdown",
   "metadata": {},
   "source": [
    "Converting data types"
   ]
  },
  {
   "cell_type": "code",
   "execution_count": 5,
   "metadata": {},
   "outputs": [
    {
     "data": {
      "text/plain": [
       "n_ratings    float64\n",
       "n_reviews    float64\n",
       "uid           object\n",
       "username      object\n",
       "joined       float64\n",
       "location      object\n",
       "dtype: object"
      ]
     },
     "execution_count": 5,
     "metadata": {},
     "output_type": "execute_result"
    }
   ],
   "source": [
    "users_df.dtypes"
   ]
  },
  {
   "cell_type": "code",
   "execution_count": 6,
   "metadata": {},
   "outputs": [
    {
     "data": {
      "text/plain": [
       "n_ratings      int32\n",
       "n_reviews      int32\n",
       "uid           object\n",
       "username      object\n",
       "joined       float64\n",
       "location      object\n",
       "dtype: object"
      ]
     },
     "execution_count": 6,
     "metadata": {},
     "output_type": "execute_result"
    }
   ],
   "source": [
    "users_dtypes = {\n",
    "    \"n_ratings\": np.int32, \n",
    "    \"n_reviews\": np.int32, \n",
    "    \"uid\": str, \n",
    "    \"username\": str,\n",
    "    \"location\": str\n",
    "}\n",
    "\n",
    "users_df = users_df.astype(users_dtypes)\n",
    "users_df.dtypes"
   ]
  },
  {
   "cell_type": "markdown",
   "metadata": {},
   "source": [
    "Converting \"nan\" strings in \"location\" to None"
   ]
  },
  {
   "cell_type": "code",
   "execution_count": 7,
   "metadata": {},
   "outputs": [
    {
     "name": "stderr",
     "output_type": "stream",
     "text": [
      "c:\\Users\\Henrique\\anaconda3\\lib\\site-packages\\dask\\dataframe\\core.py:3858: UserWarning: \n",
      "You did not provide metadata, so Dask is running your function on a small dataset to guess output types. It is possible that Dask will guess incorrectly.\n",
      "To provide an explicit output types or to silence this message, please provide the `meta=` keyword, as described in the map or apply function that you are using.\n",
      "  Before: .apply(func)\n",
      "  After:  .apply(func, meta=('location', 'object'))\n",
      "\n",
      "  warnings.warn(meta_warning(meta))\n"
     ]
    }
   ],
   "source": [
    "users_df[\"location\"] = users_df.location.apply(prc.str_nan_to_none)"
   ]
  },
  {
   "cell_type": "markdown",
   "metadata": {},
   "source": [
    "Converting the \"joined\" column values (time in seconds) to Timestamps"
   ]
  },
  {
   "cell_type": "code",
   "execution_count": 8,
   "metadata": {},
   "outputs": [
    {
     "data": {
      "text/html": [
       "<div>\n",
       "<style scoped>\n",
       "    .dataframe tbody tr th:only-of-type {\n",
       "        vertical-align: middle;\n",
       "    }\n",
       "\n",
       "    .dataframe tbody tr th {\n",
       "        vertical-align: top;\n",
       "    }\n",
       "\n",
       "    .dataframe thead th {\n",
       "        text-align: right;\n",
       "    }\n",
       "</style>\n",
       "<table border=\"1\" class=\"dataframe\">\n",
       "  <thead>\n",
       "    <tr style=\"text-align: right;\">\n",
       "      <th></th>\n",
       "      <th>n_ratings</th>\n",
       "      <th>n_reviews</th>\n",
       "      <th>uid</th>\n",
       "      <th>username</th>\n",
       "      <th>joined</th>\n",
       "      <th>location</th>\n",
       "    </tr>\n",
       "  </thead>\n",
       "  <tbody>\n",
       "    <tr>\n",
       "      <th>0</th>\n",
       "      <td>7820</td>\n",
       "      <td>465</td>\n",
       "      <td>nmann08.184925</td>\n",
       "      <td>nmann08</td>\n",
       "      <td>2008-01-07 11:00:00</td>\n",
       "      <td>United States, Washington</td>\n",
       "    </tr>\n",
       "    <tr>\n",
       "      <th>1</th>\n",
       "      <td>2521</td>\n",
       "      <td>2504</td>\n",
       "      <td>stjamesgate.163714</td>\n",
       "      <td>StJamesGate</td>\n",
       "      <td>2007-10-08 10:00:00</td>\n",
       "      <td>United States, New York</td>\n",
       "    </tr>\n",
       "    <tr>\n",
       "      <th>2</th>\n",
       "      <td>1797</td>\n",
       "      <td>1143</td>\n",
       "      <td>mdagnew.19527</td>\n",
       "      <td>mdagnew</td>\n",
       "      <td>2005-05-18 10:00:00</td>\n",
       "      <td>Northern Ireland</td>\n",
       "    </tr>\n",
       "    <tr>\n",
       "      <th>3</th>\n",
       "      <td>31</td>\n",
       "      <td>31</td>\n",
       "      <td>helloloser12345.10867</td>\n",
       "      <td>helloloser12345</td>\n",
       "      <td>2004-11-25 11:00:00</td>\n",
       "      <td>Northern Ireland</td>\n",
       "    </tr>\n",
       "    <tr>\n",
       "      <th>4</th>\n",
       "      <td>604</td>\n",
       "      <td>604</td>\n",
       "      <td>cypressbob.3708</td>\n",
       "      <td>cypressbob</td>\n",
       "      <td>2003-11-20 11:00:00</td>\n",
       "      <td>Northern Ireland</td>\n",
       "    </tr>\n",
       "  </tbody>\n",
       "</table>\n",
       "</div>"
      ],
      "text/plain": [
       "   n_ratings  n_reviews                    uid         username  \\\n",
       "0       7820        465         nmann08.184925          nmann08   \n",
       "1       2521       2504     stjamesgate.163714      StJamesGate   \n",
       "2       1797       1143          mdagnew.19527          mdagnew   \n",
       "3         31         31  helloloser12345.10867  helloloser12345   \n",
       "4        604        604        cypressbob.3708       cypressbob   \n",
       "\n",
       "               joined                   location  \n",
       "0 2008-01-07 11:00:00  United States, Washington  \n",
       "1 2007-10-08 10:00:00    United States, New York  \n",
       "2 2005-05-18 10:00:00           Northern Ireland  \n",
       "3 2004-11-25 11:00:00           Northern Ireland  \n",
       "4 2003-11-20 11:00:00           Northern Ireland  "
      ]
     },
     "execution_count": 8,
     "metadata": {},
     "output_type": "execute_result"
    }
   ],
   "source": [
    "users_df[\"joined\"] = ddf.to_datetime(users_df.joined, unit=\"s\")\n",
    "users_df.head(5)"
   ]
  },
  {
   "cell_type": "code",
   "execution_count": 9,
   "metadata": {},
   "outputs": [
    {
     "name": "stdout",
     "output_type": "stream",
     "text": [
      "CHECK: max date year must be at most 2017, the last year data was collected.\n"
     ]
    },
    {
     "data": {
      "text/plain": [
       "dd.Scalar<series-..., type=Timestamp>"
      ]
     },
     "execution_count": 9,
     "metadata": {},
     "output_type": "execute_result"
    }
   ],
   "source": [
    "# CHECK\n",
    "print(\"CHECK: max date year must be at most 2017, the last year data was collected.\")\n",
    "users_df.joined.max()"
   ]
  },
  {
   "cell_type": "markdown",
   "metadata": {},
   "source": [
    "Appending the Country of Each Territory"
   ]
  },
  {
   "cell_type": "code",
   "execution_count": 10,
   "metadata": {},
   "outputs": [
    {
     "name": "stderr",
     "output_type": "stream",
     "text": [
      "c:\\Users\\Henrique\\anaconda3\\lib\\site-packages\\dask\\dataframe\\core.py:3858: UserWarning: \n",
      "You did not provide metadata, so Dask is running your function on a small dataset to guess output types. It is possible that Dask will guess incorrectly.\n",
      "To provide an explicit output types or to silence this message, please provide the `meta=` keyword, as described in the map or apply function that you are using.\n",
      "  Before: .apply(func)\n",
      "  After:  .apply(func, meta=('location', 'object'))\n",
      "\n",
      "  warnings.warn(meta_warning(meta))\n"
     ]
    },
    {
     "data": {
      "text/html": [
       "<div>\n",
       "<style scoped>\n",
       "    .dataframe tbody tr th:only-of-type {\n",
       "        vertical-align: middle;\n",
       "    }\n",
       "\n",
       "    .dataframe tbody tr th {\n",
       "        vertical-align: top;\n",
       "    }\n",
       "\n",
       "    .dataframe thead th {\n",
       "        text-align: right;\n",
       "    }\n",
       "</style>\n",
       "<table border=\"1\" class=\"dataframe\">\n",
       "  <thead>\n",
       "    <tr style=\"text-align: right;\">\n",
       "      <th></th>\n",
       "      <th>n_ratings</th>\n",
       "      <th>n_reviews</th>\n",
       "      <th>uid</th>\n",
       "      <th>username</th>\n",
       "      <th>joined</th>\n",
       "      <th>location</th>\n",
       "      <th>country</th>\n",
       "    </tr>\n",
       "  </thead>\n",
       "  <tbody>\n",
       "    <tr>\n",
       "      <th>0</th>\n",
       "      <td>7820</td>\n",
       "      <td>465</td>\n",
       "      <td>nmann08.184925</td>\n",
       "      <td>nmann08</td>\n",
       "      <td>2008-01-07 11:00:00</td>\n",
       "      <td>United States, Washington</td>\n",
       "      <td>United States</td>\n",
       "    </tr>\n",
       "    <tr>\n",
       "      <th>1</th>\n",
       "      <td>2521</td>\n",
       "      <td>2504</td>\n",
       "      <td>stjamesgate.163714</td>\n",
       "      <td>StJamesGate</td>\n",
       "      <td>2007-10-08 10:00:00</td>\n",
       "      <td>United States, New York</td>\n",
       "      <td>United States</td>\n",
       "    </tr>\n",
       "    <tr>\n",
       "      <th>2</th>\n",
       "      <td>1797</td>\n",
       "      <td>1143</td>\n",
       "      <td>mdagnew.19527</td>\n",
       "      <td>mdagnew</td>\n",
       "      <td>2005-05-18 10:00:00</td>\n",
       "      <td>Northern Ireland</td>\n",
       "      <td>Northern Ireland</td>\n",
       "    </tr>\n",
       "    <tr>\n",
       "      <th>3</th>\n",
       "      <td>31</td>\n",
       "      <td>31</td>\n",
       "      <td>helloloser12345.10867</td>\n",
       "      <td>helloloser12345</td>\n",
       "      <td>2004-11-25 11:00:00</td>\n",
       "      <td>Northern Ireland</td>\n",
       "      <td>Northern Ireland</td>\n",
       "    </tr>\n",
       "    <tr>\n",
       "      <th>4</th>\n",
       "      <td>604</td>\n",
       "      <td>604</td>\n",
       "      <td>cypressbob.3708</td>\n",
       "      <td>cypressbob</td>\n",
       "      <td>2003-11-20 11:00:00</td>\n",
       "      <td>Northern Ireland</td>\n",
       "      <td>Northern Ireland</td>\n",
       "    </tr>\n",
       "  </tbody>\n",
       "</table>\n",
       "</div>"
      ],
      "text/plain": [
       "   n_ratings  n_reviews                    uid         username  \\\n",
       "0       7820        465         nmann08.184925          nmann08   \n",
       "1       2521       2504     stjamesgate.163714      StJamesGate   \n",
       "2       1797       1143          mdagnew.19527          mdagnew   \n",
       "3         31         31  helloloser12345.10867  helloloser12345   \n",
       "4        604        604        cypressbob.3708       cypressbob   \n",
       "\n",
       "               joined                   location           country  \n",
       "0 2008-01-07 11:00:00  United States, Washington     United States  \n",
       "1 2007-10-08 10:00:00    United States, New York     United States  \n",
       "2 2005-05-18 10:00:00           Northern Ireland  Northern Ireland  \n",
       "3 2004-11-25 11:00:00           Northern Ireland  Northern Ireland  \n",
       "4 2003-11-20 11:00:00           Northern Ireland  Northern Ireland  "
      ]
     },
     "execution_count": 10,
     "metadata": {},
     "output_type": "execute_result"
    }
   ],
   "source": [
    "users_df[\"country\"] = users_df[\"location\"].apply(lambda territory: prc.get_country(territory))\n",
    "users_df.head(5)"
   ]
  },
  {
   "cell_type": "markdown",
   "metadata": {},
   "source": [
    "**[III] Descriptive Statistics & Distributions**"
   ]
  },
  {
   "cell_type": "code",
   "execution_count": 12,
   "metadata": {},
   "outputs": [
    {
     "data": {
      "text/html": [
       "<div><strong>Dask DataFrame Structure:</strong></div>\n",
       "<div>\n",
       "<style scoped>\n",
       "    .dataframe tbody tr th:only-of-type {\n",
       "        vertical-align: middle;\n",
       "    }\n",
       "\n",
       "    .dataframe tbody tr th {\n",
       "        vertical-align: top;\n",
       "    }\n",
       "\n",
       "    .dataframe thead th {\n",
       "        text-align: right;\n",
       "    }\n",
       "</style>\n",
       "<table border=\"1\" class=\"dataframe\">\n",
       "  <thead>\n",
       "    <tr style=\"text-align: right;\">\n",
       "      <th></th>\n",
       "      <th>n_ratings</th>\n",
       "      <th>n_reviews</th>\n",
       "    </tr>\n",
       "    <tr>\n",
       "      <th>npartitions=1</th>\n",
       "      <th></th>\n",
       "      <th></th>\n",
       "    </tr>\n",
       "  </thead>\n",
       "  <tbody>\n",
       "    <tr>\n",
       "      <th></th>\n",
       "      <td>float64</td>\n",
       "      <td>float64</td>\n",
       "    </tr>\n",
       "    <tr>\n",
       "      <th></th>\n",
       "      <td>...</td>\n",
       "      <td>...</td>\n",
       "    </tr>\n",
       "  </tbody>\n",
       "</table>\n",
       "</div>\n",
       "<div>Dask Name: describe-numeric, 39 tasks</div>"
      ],
      "text/plain": [
       "Dask DataFrame Structure:\n",
       "              n_ratings n_reviews\n",
       "npartitions=1                    \n",
       "                float64   float64\n",
       "                    ...       ...\n",
       "Dask Name: describe-numeric, 39 tasks"
      ]
     },
     "execution_count": 12,
     "metadata": {},
     "output_type": "execute_result"
    }
   ],
   "source": [
    "users_df.describe()"
   ]
  },
  {
   "cell_type": "markdown",
   "metadata": {},
   "source": [
    "user_id"
   ]
  },
  {
   "cell_type": "code",
   "execution_count": 13,
   "metadata": {},
   "outputs": [
    {
     "name": "stdout",
     "output_type": "stream",
     "text": [
      "Is any user ID missing ?\n"
     ]
    },
    {
     "data": {
      "text/plain": [
       "dd.Scalar<series-..., dtype=bool>"
      ]
     },
     "execution_count": 13,
     "metadata": {},
     "output_type": "execute_result"
    }
   ],
   "source": [
    "print(\"Is any user ID missing ?\")\n",
    "users_df.uid.isna().any()"
   ]
  },
  {
   "cell_type": "code",
   "execution_count": 14,
   "metadata": {},
   "outputs": [
    {
     "name": "stdout",
     "output_type": "stream",
     "text": [
      "How many unique users ?\n"
     ]
    },
    {
     "data": {
      "text/plain": [
       "153704"
      ]
     },
     "execution_count": 14,
     "metadata": {},
     "output_type": "execute_result"
    }
   ],
   "source": [
    "print(\"How many unique users ?\")\n",
    "n_users = len(users_df.uid.unique())\n",
    "n_users"
   ]
  },
  {
   "cell_type": "markdown",
   "metadata": {},
   "source": [
    "location"
   ]
  },
  {
   "cell_type": "code",
   "execution_count": 15,
   "metadata": {},
   "outputs": [
    {
     "name": "stdout",
     "output_type": "stream",
     "text": [
      "Is there a user with unknown location ?\n"
     ]
    },
    {
     "data": {
      "text/plain": [
       "dd.Scalar<series-..., dtype=bool>"
      ]
     },
     "execution_count": 15,
     "metadata": {},
     "output_type": "execute_result"
    }
   ],
   "source": [
    "print(\"Is there a user with unknown location ?\")\n",
    "users_df.location.isna().any()"
   ]
  },
  {
   "cell_type": "code",
   "execution_count": 16,
   "metadata": {},
   "outputs": [
    {
     "name": "stdout",
     "output_type": "stream",
     "text": [
      "How many users have an unknown location ?\n"
     ]
    },
    {
     "data": {
      "text/plain": [
       "dd.Scalar<series-..., dtype=int64>"
      ]
     },
     "execution_count": 16,
     "metadata": {},
     "output_type": "execute_result"
    }
   ],
   "source": [
    "print(\"How many users have an unknown location ?\")\n",
    "n_users_unknown_loc = users_df.location.isna().sum()\n",
    "n_users_unknown_loc"
   ]
  },
  {
   "cell_type": "code",
   "execution_count": 17,
   "metadata": {},
   "outputs": [
    {
     "name": "stdout",
     "output_type": "stream",
     "text": [
      "What fraction do these users make up of the total number of users ?\n"
     ]
    },
    {
     "data": {
      "text/plain": [
       "dd.Scalar<truediv..., dtype=float64>"
      ]
     },
     "execution_count": 17,
     "metadata": {},
     "output_type": "execute_result"
    }
   ],
   "source": [
    "print(\"What fraction do these users make up of the total number of users ?\")\n",
    "n_users_unknown_loc / n_users"
   ]
  },
  {
   "cell_type": "code",
   "execution_count": 18,
   "metadata": {},
   "outputs": [
    {
     "name": "stdout",
     "output_type": "stream",
     "text": [
      "Where are all users located ?\n"
     ]
    },
    {
     "ename": "AttributeError",
     "evalue": "'Series' object has no attribute 'sort'",
     "output_type": "error",
     "traceback": [
      "\u001b[1;31m---------------------------------------------------------------------------\u001b[0m",
      "\u001b[1;31mAttributeError\u001b[0m                            Traceback (most recent call last)",
      "\u001b[1;32mc:\\Users\\Henrique\\Desktop\\EPFL_MA1\\ADA\\project\\project_milestone2\\last_version\\ada-2022-project-analyteam\\processing_users(henrique).ipynb Cell 30\u001b[0m in \u001b[0;36m<cell line: 3>\u001b[1;34m()\u001b[0m\n\u001b[0;32m      <a href='vscode-notebook-cell:/c%3A/Users/Henrique/Desktop/EPFL_MA1/ADA/project/project_milestone2/last_version/ada-2022-project-analyteam/processing_users%28henrique%29.ipynb#X41sZmlsZQ%3D%3D?line=0'>1</a>\u001b[0m \u001b[39mprint\u001b[39m(\u001b[39m\"\u001b[39m\u001b[39mWhere are all users located ?\u001b[39m\u001b[39m\"\u001b[39m)\n\u001b[0;32m      <a href='vscode-notebook-cell:/c%3A/Users/Henrique/Desktop/EPFL_MA1/ADA/project/project_milestone2/last_version/ada-2022-project-analyteam/processing_users%28henrique%29.ipynb#X41sZmlsZQ%3D%3D?line=1'>2</a>\u001b[0m all_countries \u001b[39m=\u001b[39m users_df\u001b[39m.\u001b[39mcountry[\u001b[39m~\u001b[39musers_df\u001b[39m.\u001b[39mcountry\u001b[39m.\u001b[39misna()]\u001b[39m.\u001b[39munique()\n\u001b[1;32m----> <a href='vscode-notebook-cell:/c%3A/Users/Henrique/Desktop/EPFL_MA1/ADA/project/project_milestone2/last_version/ada-2022-project-analyteam/processing_users%28henrique%29.ipynb#X41sZmlsZQ%3D%3D?line=2'>3</a>\u001b[0m all_countries\u001b[39m.\u001b[39;49msort()\n\u001b[0;32m      <a href='vscode-notebook-cell:/c%3A/Users/Henrique/Desktop/EPFL_MA1/ADA/project/project_milestone2/last_version/ada-2022-project-analyteam/processing_users%28henrique%29.ipynb#X41sZmlsZQ%3D%3D?line=3'>4</a>\u001b[0m all_countries\n",
      "\u001b[1;31mAttributeError\u001b[0m: 'Series' object has no attribute 'sort'"
     ]
    }
   ],
   "source": [
    "print(\"Where are all users located ?\")\n",
    "all_countries = users_df.country[~users_df.country.isna()].unique()\n",
    "all_countries.sort()\n",
    "all_countries"
   ]
  },
  {
   "cell_type": "code",
   "execution_count": 19,
   "metadata": {},
   "outputs": [
    {
     "name": "stdout",
     "output_type": "stream",
     "text": [
      "How many different locations are there ?\n"
     ]
    },
    {
     "data": {
      "text/plain": [
       "145"
      ]
     },
     "execution_count": 19,
     "metadata": {},
     "output_type": "execute_result"
    }
   ],
   "source": [
    "print(\"How many different locations are there ?\")\n",
    "len(all_countries)"
   ]
  },
  {
   "cell_type": "code",
   "execution_count": 20,
   "metadata": {},
   "outputs": [
    {
     "ename": "TypeError",
     "evalue": "__init__() got an unexpected keyword argument 'as_index'",
     "output_type": "error",
     "traceback": [
      "\u001b[1;31m---------------------------------------------------------------------------\u001b[0m",
      "\u001b[1;31mTypeError\u001b[0m                                 Traceback (most recent call last)",
      "\u001b[1;32mc:\\Users\\Henrique\\Desktop\\EPFL_MA1\\ADA\\project\\project_milestone2\\last_version\\ada-2022-project-analyteam\\processing_users(henrique).ipynb Cell 32\u001b[0m in \u001b[0;36m<cell line: 1>\u001b[1;34m()\u001b[0m\n\u001b[1;32m----> <a href='vscode-notebook-cell:/c%3A/Users/Henrique/Desktop/EPFL_MA1/ADA/project/project_milestone2/last_version/ada-2022-project-analyteam/processing_users%28henrique%29.ipynb#X43sZmlsZQ%3D%3D?line=0'>1</a>\u001b[0m n_users_per_country_wout_us \u001b[39m=\u001b[39m users_df[\\\n\u001b[0;32m      <a href='vscode-notebook-cell:/c%3A/Users/Henrique/Desktop/EPFL_MA1/ADA/project/project_milestone2/last_version/ada-2022-project-analyteam/processing_users%28henrique%29.ipynb#X43sZmlsZQ%3D%3D?line=1'>2</a>\u001b[0m     (\u001b[39m~\u001b[39;49musers_df\u001b[39m.\u001b[39;49mcountry\u001b[39m.\u001b[39;49misna()) \u001b[39m&\u001b[39;49m\\\n\u001b[0;32m      <a href='vscode-notebook-cell:/c%3A/Users/Henrique/Desktop/EPFL_MA1/ADA/project/project_milestone2/last_version/ada-2022-project-analyteam/processing_users%28henrique%29.ipynb#X43sZmlsZQ%3D%3D?line=2'>3</a>\u001b[0m     (users_df\u001b[39m.\u001b[39;49mcountry \u001b[39m!=\u001b[39;49m \u001b[39m\"\u001b[39;49m\u001b[39mUnited States\u001b[39;49m\u001b[39m\"\u001b[39;49m)]\u001b[39m.\u001b[39;49mgroupby(\u001b[39m\"\u001b[39;49m\u001b[39mcountry\u001b[39;49m\u001b[39m\"\u001b[39;49m, as_index\u001b[39m=\u001b[39;49m\u001b[39mFalse\u001b[39;49;00m)\u001b[39m.\u001b[39msize()\n\u001b[0;32m      <a href='vscode-notebook-cell:/c%3A/Users/Henrique/Desktop/EPFL_MA1/ADA/project/project_milestone2/last_version/ada-2022-project-analyteam/processing_users%28henrique%29.ipynb#X43sZmlsZQ%3D%3D?line=4'>5</a>\u001b[0m fig, ax \u001b[39m=\u001b[39m plt\u001b[39m.\u001b[39msubplots(\u001b[39m1\u001b[39m,\u001b[39m1\u001b[39m)\n\u001b[0;32m      <a href='vscode-notebook-cell:/c%3A/Users/Henrique/Desktop/EPFL_MA1/ADA/project/project_milestone2/last_version/ada-2022-project-analyteam/processing_users%28henrique%29.ipynb#X43sZmlsZQ%3D%3D?line=5'>6</a>\u001b[0m ax\u001b[39m.\u001b[39mset_title(\u001b[39m\"\u001b[39m\u001b[39mNumber of Users Across All Countries except the US\u001b[39m\u001b[39m\"\u001b[39m)\n",
      "File \u001b[1;32mc:\\Users\\Henrique\\anaconda3\\lib\\site-packages\\dask\\dataframe\\core.py:4658\u001b[0m, in \u001b[0;36mDataFrame.groupby\u001b[1;34m(self, by, group_keys, sort, observed, dropna, **kwargs)\u001b[0m\n\u001b[0;32m   4652\u001b[0m \u001b[39m@derived_from\u001b[39m(pd\u001b[39m.\u001b[39mDataFrame)\n\u001b[0;32m   4653\u001b[0m \u001b[39mdef\u001b[39;00m \u001b[39mgroupby\u001b[39m(\n\u001b[0;32m   4654\u001b[0m     \u001b[39mself\u001b[39m, by\u001b[39m=\u001b[39m\u001b[39mNone\u001b[39;00m, group_keys\u001b[39m=\u001b[39m\u001b[39mTrue\u001b[39;00m, sort\u001b[39m=\u001b[39m\u001b[39mNone\u001b[39;00m, observed\u001b[39m=\u001b[39m\u001b[39mNone\u001b[39;00m, dropna\u001b[39m=\u001b[39m\u001b[39mNone\u001b[39;00m, \u001b[39m*\u001b[39m\u001b[39m*\u001b[39mkwargs\n\u001b[0;32m   4655\u001b[0m ):\n\u001b[0;32m   4656\u001b[0m     \u001b[39mfrom\u001b[39;00m \u001b[39mdask\u001b[39;00m\u001b[39m.\u001b[39;00m\u001b[39mdataframe\u001b[39;00m\u001b[39m.\u001b[39;00m\u001b[39mgroupby\u001b[39;00m \u001b[39mimport\u001b[39;00m DataFrameGroupBy\n\u001b[1;32m-> 4658\u001b[0m     \u001b[39mreturn\u001b[39;00m DataFrameGroupBy(\n\u001b[0;32m   4659\u001b[0m         \u001b[39mself\u001b[39m,\n\u001b[0;32m   4660\u001b[0m         by\u001b[39m=\u001b[39mby,\n\u001b[0;32m   4661\u001b[0m         group_keys\u001b[39m=\u001b[39mgroup_keys,\n\u001b[0;32m   4662\u001b[0m         sort\u001b[39m=\u001b[39msort,\n\u001b[0;32m   4663\u001b[0m         observed\u001b[39m=\u001b[39mobserved,\n\u001b[0;32m   4664\u001b[0m         dropna\u001b[39m=\u001b[39mdropna,\n\u001b[0;32m   4665\u001b[0m         \u001b[39m*\u001b[39m\u001b[39m*\u001b[39mkwargs,\n\u001b[0;32m   4666\u001b[0m     )\n",
      "\u001b[1;31mTypeError\u001b[0m: __init__() got an unexpected keyword argument 'as_index'"
     ]
    }
   ],
   "source": [
    "n_users_per_country_wout_us = users_df[\\\n",
    "    (~users_df.country.isna()) &\\\n",
    "    (users_df.country != \"United States\")].groupby(\"country\", as_index=False).size()\n",
    "\n",
    "fig, ax = plt.subplots(1,1)\n",
    "ax.set_title(\"Number of Users Across All Countries except the US\")\n",
    "ax.set_ylabel(\"users' count\")\n",
    "ax.set_xlabel(\"country (represented via its index entry)\")\n",
    "sns.scatterplot(data=n_users_per_country_wout_us, ax=ax, s=10)"
   ]
  },
  {
   "cell_type": "code",
   "execution_count": 21,
   "metadata": {},
   "outputs": [
    {
     "name": "stdout",
     "output_type": "stream",
     "text": [
      "List of countries with at least 100 users\n"
     ]
    },
    {
     "ename": "TypeError",
     "evalue": "__init__() got an unexpected keyword argument 'as_index'",
     "output_type": "error",
     "traceback": [
      "\u001b[1;31m---------------------------------------------------------------------------\u001b[0m",
      "\u001b[1;31mTypeError\u001b[0m                                 Traceback (most recent call last)",
      "\u001b[1;32mc:\\Users\\Henrique\\Desktop\\EPFL_MA1\\ADA\\project\\project_milestone2\\last_version\\ada-2022-project-analyteam\\processing_users(henrique).ipynb Cell 33\u001b[0m in \u001b[0;36m<cell line: 2>\u001b[1;34m()\u001b[0m\n\u001b[0;32m      <a href='vscode-notebook-cell:/c%3A/Users/Henrique/Desktop/EPFL_MA1/ADA/project/project_milestone2/last_version/ada-2022-project-analyteam/processing_users%28henrique%29.ipynb#X44sZmlsZQ%3D%3D?line=0'>1</a>\u001b[0m \u001b[39mprint\u001b[39m(\u001b[39m\"\u001b[39m\u001b[39mList of countries with at least 100 users\u001b[39m\u001b[39m\"\u001b[39m)\n\u001b[1;32m----> <a href='vscode-notebook-cell:/c%3A/Users/Henrique/Desktop/EPFL_MA1/ADA/project/project_milestone2/last_version/ada-2022-project-analyteam/processing_users%28henrique%29.ipynb#X44sZmlsZQ%3D%3D?line=1'>2</a>\u001b[0m n_users_per_country \u001b[39m=\u001b[39m users_df\u001b[39m.\u001b[39;49mgroupby(\u001b[39m\"\u001b[39;49m\u001b[39mcountry\u001b[39;49m\u001b[39m\"\u001b[39;49m, as_index\u001b[39m=\u001b[39;49m\u001b[39mFalse\u001b[39;49;00m)\u001b[39m.\u001b[39msize()\n\u001b[0;32m      <a href='vscode-notebook-cell:/c%3A/Users/Henrique/Desktop/EPFL_MA1/ADA/project/project_milestone2/last_version/ada-2022-project-analyteam/processing_users%28henrique%29.ipynb#X44sZmlsZQ%3D%3D?line=2'>3</a>\u001b[0m countries_atleast_100users \u001b[39m=\u001b[39m n_users_per_country[n_users_per_country[\u001b[39m\"\u001b[39m\u001b[39msize\u001b[39m\u001b[39m\"\u001b[39m] \u001b[39m>\u001b[39m\u001b[39m=\u001b[39m \u001b[39m100\u001b[39m]\n\u001b[0;32m      <a href='vscode-notebook-cell:/c%3A/Users/Henrique/Desktop/EPFL_MA1/ADA/project/project_milestone2/last_version/ada-2022-project-analyteam/processing_users%28henrique%29.ipynb#X44sZmlsZQ%3D%3D?line=3'>4</a>\u001b[0m countries_atleast_100users[\u001b[39m\"\u001b[39m\u001b[39musers_frac\u001b[39m\u001b[39m\"\u001b[39m] \u001b[39m=\u001b[39m countries_atleast_100users[\u001b[39m\"\u001b[39m\u001b[39msize\u001b[39m\u001b[39m\"\u001b[39m] \u001b[39m/\u001b[39m users_df\u001b[39m.\u001b[39mlocation[\u001b[39m~\u001b[39m users_df\u001b[39m.\u001b[39mlocation\u001b[39m.\u001b[39misna()]\u001b[39m.\u001b[39msize\n",
      "File \u001b[1;32mc:\\Users\\Henrique\\anaconda3\\lib\\site-packages\\dask\\dataframe\\core.py:4658\u001b[0m, in \u001b[0;36mDataFrame.groupby\u001b[1;34m(self, by, group_keys, sort, observed, dropna, **kwargs)\u001b[0m\n\u001b[0;32m   4652\u001b[0m \u001b[39m@derived_from\u001b[39m(pd\u001b[39m.\u001b[39mDataFrame)\n\u001b[0;32m   4653\u001b[0m \u001b[39mdef\u001b[39;00m \u001b[39mgroupby\u001b[39m(\n\u001b[0;32m   4654\u001b[0m     \u001b[39mself\u001b[39m, by\u001b[39m=\u001b[39m\u001b[39mNone\u001b[39;00m, group_keys\u001b[39m=\u001b[39m\u001b[39mTrue\u001b[39;00m, sort\u001b[39m=\u001b[39m\u001b[39mNone\u001b[39;00m, observed\u001b[39m=\u001b[39m\u001b[39mNone\u001b[39;00m, dropna\u001b[39m=\u001b[39m\u001b[39mNone\u001b[39;00m, \u001b[39m*\u001b[39m\u001b[39m*\u001b[39mkwargs\n\u001b[0;32m   4655\u001b[0m ):\n\u001b[0;32m   4656\u001b[0m     \u001b[39mfrom\u001b[39;00m \u001b[39mdask\u001b[39;00m\u001b[39m.\u001b[39;00m\u001b[39mdataframe\u001b[39;00m\u001b[39m.\u001b[39;00m\u001b[39mgroupby\u001b[39;00m \u001b[39mimport\u001b[39;00m DataFrameGroupBy\n\u001b[1;32m-> 4658\u001b[0m     \u001b[39mreturn\u001b[39;00m DataFrameGroupBy(\n\u001b[0;32m   4659\u001b[0m         \u001b[39mself\u001b[39m,\n\u001b[0;32m   4660\u001b[0m         by\u001b[39m=\u001b[39mby,\n\u001b[0;32m   4661\u001b[0m         group_keys\u001b[39m=\u001b[39mgroup_keys,\n\u001b[0;32m   4662\u001b[0m         sort\u001b[39m=\u001b[39msort,\n\u001b[0;32m   4663\u001b[0m         observed\u001b[39m=\u001b[39mobserved,\n\u001b[0;32m   4664\u001b[0m         dropna\u001b[39m=\u001b[39mdropna,\n\u001b[0;32m   4665\u001b[0m         \u001b[39m*\u001b[39m\u001b[39m*\u001b[39mkwargs,\n\u001b[0;32m   4666\u001b[0m     )\n",
      "\u001b[1;31mTypeError\u001b[0m: __init__() got an unexpected keyword argument 'as_index'"
     ]
    }
   ],
   "source": [
    "print(\"List of countries with at least 100 users\")\n",
    "n_users_per_country = users_df.groupby(\"country\", as_index=False).size()\n",
    "countries_atleast_100users = n_users_per_country[n_users_per_country[\"size\"] >= 100]\n",
    "countries_atleast_100users[\"users_frac\"] = countries_atleast_100users[\"size\"] / users_df.location[~ users_df.location.isna()].size\n",
    "countries_atleast_100users = countries_atleast_100users.sort_values(by=\"size\", ascending=False)\n",
    "countries_atleast_100users"
   ]
  },
  {
   "cell_type": "markdown",
   "metadata": {},
   "source": [
    "n_ratings"
   ]
  },
  {
   "cell_type": "code",
   "execution_count": 22,
   "metadata": {},
   "outputs": [
    {
     "name": "stdout",
     "output_type": "stream",
     "text": [
      "Is there a user with unknown number of ratings ?\n"
     ]
    },
    {
     "data": {
      "text/plain": [
       "dd.Scalar<series-..., dtype=bool>"
      ]
     },
     "execution_count": 22,
     "metadata": {},
     "output_type": "execute_result"
    }
   ],
   "source": [
    "print(\"Is there a user with unknown number of ratings ?\")\n",
    "users_df.n_ratings.isna().any()"
   ]
  },
  {
   "cell_type": "code",
   "execution_count": 23,
   "metadata": {},
   "outputs": [
    {
     "name": "stdout",
     "output_type": "stream",
     "text": [
      "Total number of ratings\n"
     ]
    },
    {
     "data": {
      "text/plain": [
       "dd.Scalar<series-..., dtype=int64>"
      ]
     },
     "execution_count": 23,
     "metadata": {},
     "output_type": "execute_result"
    }
   ],
   "source": [
    "print(\"Total number of ratings\")\n",
    "total_n_ratings = users_df.n_ratings.sum()\n",
    "total_n_ratings"
   ]
  },
  {
   "cell_type": "code",
   "execution_count": 24,
   "metadata": {},
   "outputs": [
    {
     "data": {
      "text/plain": [
       "<AxesSubplot:title={'center':'Distribution of Ratings Across All Users'}, xlabel='ratings', ylabel='occurences'>"
      ]
     },
     "execution_count": 24,
     "metadata": {},
     "output_type": "execute_result"
    },
    {
     "data": {
      "image/png": "[encoded data removed]",
      "text/plain": [
       "<Figure size 432x288 with 1 Axes>"
      ]
     },
     "metadata": {
      "needs_background": "light"
     },
     "output_type": "display_data"
    }
   ],
   "source": [
    "fig, ax = plt.subplots(1,1)\n",
    "ax.set_title(\"Distribution of Ratings Across All Users\")\n",
    "ax.set_ylabel(\"occurences\")\n",
    "ax.set_xlabel(\"ratings\")\n",
    "sns.histplot(data=users_df, x=\"n_ratings\", ax=ax, bins=20, log_scale=True)\n"
   ]
  },
  {
   "cell_type": "code",
   "execution_count": 25,
   "metadata": {},
   "outputs": [
    {
     "ename": "TypeError",
     "evalue": "__init__() got an unexpected keyword argument 'as_index'",
     "output_type": "error",
     "traceback": [
      "\u001b[1;31m---------------------------------------------------------------------------\u001b[0m",
      "\u001b[1;31mTypeError\u001b[0m                                 Traceback (most recent call last)",
      "\u001b[1;32mc:\\Users\\Henrique\\Desktop\\EPFL_MA1\\ADA\\project\\project_milestone2\\last_version\\ada-2022-project-analyteam\\processing_users(henrique).ipynb Cell 38\u001b[0m in \u001b[0;36m<cell line: 1>\u001b[1;34m()\u001b[0m\n\u001b[1;32m----> <a href='vscode-notebook-cell:/c%3A/Users/Henrique/Desktop/EPFL_MA1/ADA/project/project_milestone2/last_version/ada-2022-project-analyteam/processing_users%28henrique%29.ipynb#X52sZmlsZQ%3D%3D?line=0'>1</a>\u001b[0m n_ratings_per_country \u001b[39m=\u001b[39m users_df[\\\n\u001b[0;32m      <a href='vscode-notebook-cell:/c%3A/Users/Henrique/Desktop/EPFL_MA1/ADA/project/project_milestone2/last_version/ada-2022-project-analyteam/processing_users%28henrique%29.ipynb#X52sZmlsZQ%3D%3D?line=1'>2</a>\u001b[0m     (\u001b[39m~\u001b[39;49musers_df\u001b[39m.\u001b[39;49mcountry\u001b[39m.\u001b[39;49misna()) \u001b[39m&\u001b[39;49m\\\n\u001b[0;32m      <a href='vscode-notebook-cell:/c%3A/Users/Henrique/Desktop/EPFL_MA1/ADA/project/project_milestone2/last_version/ada-2022-project-analyteam/processing_users%28henrique%29.ipynb#X52sZmlsZQ%3D%3D?line=2'>3</a>\u001b[0m     (users_df\u001b[39m.\u001b[39;49mcountry \u001b[39m!=\u001b[39;49m \u001b[39m\"\u001b[39;49m\u001b[39mUnited States\u001b[39;49m\u001b[39m\"\u001b[39;49m)]\u001b[39m.\u001b[39;49mgroupby(\u001b[39m\"\u001b[39;49m\u001b[39mcountry\u001b[39;49m\u001b[39m\"\u001b[39;49m, as_index\u001b[39m=\u001b[39;49m\u001b[39mFalse\u001b[39;49;00m)\u001b[39m.\u001b[39magg({\u001b[39m\"\u001b[39m\u001b[39mn_ratings\u001b[39m\u001b[39m\"\u001b[39m: np\u001b[39m.\u001b[39msum})\n\u001b[0;32m      <a href='vscode-notebook-cell:/c%3A/Users/Henrique/Desktop/EPFL_MA1/ADA/project/project_milestone2/last_version/ada-2022-project-analyteam/processing_users%28henrique%29.ipynb#X52sZmlsZQ%3D%3D?line=4'>5</a>\u001b[0m fig, ax \u001b[39m=\u001b[39m plt\u001b[39m.\u001b[39msubplots(\u001b[39m1\u001b[39m,\u001b[39m1\u001b[39m)\n\u001b[0;32m      <a href='vscode-notebook-cell:/c%3A/Users/Henrique/Desktop/EPFL_MA1/ADA/project/project_milestone2/last_version/ada-2022-project-analyteam/processing_users%28henrique%29.ipynb#X52sZmlsZQ%3D%3D?line=5'>6</a>\u001b[0m ax\u001b[39m.\u001b[39mset_title(\u001b[39m\"\u001b[39m\u001b[39mNumber of Ratings Across All Countries except the US\u001b[39m\u001b[39m\"\u001b[39m)\n",
      "File \u001b[1;32mc:\\Users\\Henrique\\anaconda3\\lib\\site-packages\\dask\\dataframe\\core.py:4658\u001b[0m, in \u001b[0;36mDataFrame.groupby\u001b[1;34m(self, by, group_keys, sort, observed, dropna, **kwargs)\u001b[0m\n\u001b[0;32m   4652\u001b[0m \u001b[39m@derived_from\u001b[39m(pd\u001b[39m.\u001b[39mDataFrame)\n\u001b[0;32m   4653\u001b[0m \u001b[39mdef\u001b[39;00m \u001b[39mgroupby\u001b[39m(\n\u001b[0;32m   4654\u001b[0m     \u001b[39mself\u001b[39m, by\u001b[39m=\u001b[39m\u001b[39mNone\u001b[39;00m, group_keys\u001b[39m=\u001b[39m\u001b[39mTrue\u001b[39;00m, sort\u001b[39m=\u001b[39m\u001b[39mNone\u001b[39;00m, observed\u001b[39m=\u001b[39m\u001b[39mNone\u001b[39;00m, dropna\u001b[39m=\u001b[39m\u001b[39mNone\u001b[39;00m, \u001b[39m*\u001b[39m\u001b[39m*\u001b[39mkwargs\n\u001b[0;32m   4655\u001b[0m ):\n\u001b[0;32m   4656\u001b[0m     \u001b[39mfrom\u001b[39;00m \u001b[39mdask\u001b[39;00m\u001b[39m.\u001b[39;00m\u001b[39mdataframe\u001b[39;00m\u001b[39m.\u001b[39;00m\u001b[39mgroupby\u001b[39;00m \u001b[39mimport\u001b[39;00m DataFrameGroupBy\n\u001b[1;32m-> 4658\u001b[0m     \u001b[39mreturn\u001b[39;00m DataFrameGroupBy(\n\u001b[0;32m   4659\u001b[0m         \u001b[39mself\u001b[39m,\n\u001b[0;32m   4660\u001b[0m         by\u001b[39m=\u001b[39mby,\n\u001b[0;32m   4661\u001b[0m         group_keys\u001b[39m=\u001b[39mgroup_keys,\n\u001b[0;32m   4662\u001b[0m         sort\u001b[39m=\u001b[39msort,\n\u001b[0;32m   4663\u001b[0m         observed\u001b[39m=\u001b[39mobserved,\n\u001b[0;32m   4664\u001b[0m         dropna\u001b[39m=\u001b[39mdropna,\n\u001b[0;32m   4665\u001b[0m         \u001b[39m*\u001b[39m\u001b[39m*\u001b[39mkwargs,\n\u001b[0;32m   4666\u001b[0m     )\n",
      "\u001b[1;31mTypeError\u001b[0m: __init__() got an unexpected keyword argument 'as_index'"
     ]
    }
   ],
   "source": [
    "n_ratings_per_country = users_df[\\\n",
    "    (~users_df.country.isna()) &\\\n",
    "    (users_df.country != \"United States\")].groupby(\"country\", as_index=False).agg({\"n_ratings\": np.sum})\n",
    "\n",
    "fig, ax = plt.subplots(1,1)\n",
    "ax.set_title(\"Number of Ratings Across All Countries except the US\")\n",
    "ax.set_ylabel(\"ratings' count\")\n",
    "ax.set_xlabel(\"country (represented by its entry index)\")\n",
    "sns.scatterplot(data=n_ratings_per_country, ax=ax, s=10)"
   ]
  },
  {
   "cell_type": "code",
   "execution_count": 26,
   "metadata": {},
   "outputs": [
    {
     "name": "stdout",
     "output_type": "stream",
     "text": [
      "List of countries with at least 10'000 ratings\n"
     ]
    },
    {
     "ename": "TypeError",
     "evalue": "__init__() got an unexpected keyword argument 'as_index'",
     "output_type": "error",
     "traceback": [
      "\u001b[1;31m---------------------------------------------------------------------------\u001b[0m",
      "\u001b[1;31mTypeError\u001b[0m                                 Traceback (most recent call last)",
      "\u001b[1;32mc:\\Users\\Henrique\\Desktop\\EPFL_MA1\\ADA\\project\\project_milestone2\\last_version\\ada-2022-project-analyteam\\processing_users(henrique).ipynb Cell 39\u001b[0m in \u001b[0;36m<cell line: 3>\u001b[1;34m()\u001b[0m\n\u001b[0;32m      <a href='vscode-notebook-cell:/c%3A/Users/Henrique/Desktop/EPFL_MA1/ADA/project/project_milestone2/last_version/ada-2022-project-analyteam/processing_users%28henrique%29.ipynb#X53sZmlsZQ%3D%3D?line=0'>1</a>\u001b[0m \u001b[39mprint\u001b[39m(\u001b[39m\"\u001b[39m\u001b[39mList of countries with at least 10\u001b[39m\u001b[39m'\u001b[39m\u001b[39m000 ratings\u001b[39m\u001b[39m\"\u001b[39m)\n\u001b[0;32m      <a href='vscode-notebook-cell:/c%3A/Users/Henrique/Desktop/EPFL_MA1/ADA/project/project_milestone2/last_version/ada-2022-project-analyteam/processing_users%28henrique%29.ipynb#X53sZmlsZQ%3D%3D?line=1'>2</a>\u001b[0m min_n_ratings \u001b[39m=\u001b[39m \u001b[39m10_000\u001b[39m\n\u001b[1;32m----> <a href='vscode-notebook-cell:/c%3A/Users/Henrique/Desktop/EPFL_MA1/ADA/project/project_milestone2/last_version/ada-2022-project-analyteam/processing_users%28henrique%29.ipynb#X53sZmlsZQ%3D%3D?line=2'>3</a>\u001b[0m n_ratings_per_country \u001b[39m=\u001b[39m users_df[\u001b[39m~\u001b[39;49musers_df\u001b[39m.\u001b[39;49mcountry\u001b[39m.\u001b[39;49misna()]\u001b[39m.\u001b[39;49mgroupby(\u001b[39m\"\u001b[39;49m\u001b[39mcountry\u001b[39;49m\u001b[39m\"\u001b[39;49m, as_index\u001b[39m=\u001b[39;49m\u001b[39mFalse\u001b[39;49;00m)\u001b[39m.\u001b[39magg({\u001b[39m\"\u001b[39m\u001b[39mn_ratings\u001b[39m\u001b[39m\"\u001b[39m: np\u001b[39m.\u001b[39msum})\n\u001b[0;32m      <a href='vscode-notebook-cell:/c%3A/Users/Henrique/Desktop/EPFL_MA1/ADA/project/project_milestone2/last_version/ada-2022-project-analyteam/processing_users%28henrique%29.ipynb#X53sZmlsZQ%3D%3D?line=3'>4</a>\u001b[0m countries_atleast_10Kratings \u001b[39m=\u001b[39m n_ratings_per_country[n_ratings_per_country\u001b[39m.\u001b[39mn_ratings \u001b[39m>\u001b[39m\u001b[39m=\u001b[39m min_n_ratings]\n\u001b[0;32m      <a href='vscode-notebook-cell:/c%3A/Users/Henrique/Desktop/EPFL_MA1/ADA/project/project_milestone2/last_version/ada-2022-project-analyteam/processing_users%28henrique%29.ipynb#X53sZmlsZQ%3D%3D?line=4'>5</a>\u001b[0m countries_atleast_10Kratings[\u001b[39m\"\u001b[39m\u001b[39mratings_frac\u001b[39m\u001b[39m\"\u001b[39m] \u001b[39m=\u001b[39m countries_atleast_10Kratings\u001b[39m.\u001b[39mn_ratings \u001b[39m/\u001b[39m users_df[\u001b[39m~\u001b[39musers_df\u001b[39m.\u001b[39mcountry\u001b[39m.\u001b[39misna()]\u001b[39m.\u001b[39mn_ratings\u001b[39m.\u001b[39msum()\n",
      "File \u001b[1;32mc:\\Users\\Henrique\\anaconda3\\lib\\site-packages\\dask\\dataframe\\core.py:4658\u001b[0m, in \u001b[0;36mDataFrame.groupby\u001b[1;34m(self, by, group_keys, sort, observed, dropna, **kwargs)\u001b[0m\n\u001b[0;32m   4652\u001b[0m \u001b[39m@derived_from\u001b[39m(pd\u001b[39m.\u001b[39mDataFrame)\n\u001b[0;32m   4653\u001b[0m \u001b[39mdef\u001b[39;00m \u001b[39mgroupby\u001b[39m(\n\u001b[0;32m   4654\u001b[0m     \u001b[39mself\u001b[39m, by\u001b[39m=\u001b[39m\u001b[39mNone\u001b[39;00m, group_keys\u001b[39m=\u001b[39m\u001b[39mTrue\u001b[39;00m, sort\u001b[39m=\u001b[39m\u001b[39mNone\u001b[39;00m, observed\u001b[39m=\u001b[39m\u001b[39mNone\u001b[39;00m, dropna\u001b[39m=\u001b[39m\u001b[39mNone\u001b[39;00m, \u001b[39m*\u001b[39m\u001b[39m*\u001b[39mkwargs\n\u001b[0;32m   4655\u001b[0m ):\n\u001b[0;32m   4656\u001b[0m     \u001b[39mfrom\u001b[39;00m \u001b[39mdask\u001b[39;00m\u001b[39m.\u001b[39;00m\u001b[39mdataframe\u001b[39;00m\u001b[39m.\u001b[39;00m\u001b[39mgroupby\u001b[39;00m \u001b[39mimport\u001b[39;00m DataFrameGroupBy\n\u001b[1;32m-> 4658\u001b[0m     \u001b[39mreturn\u001b[39;00m DataFrameGroupBy(\n\u001b[0;32m   4659\u001b[0m         \u001b[39mself\u001b[39m,\n\u001b[0;32m   4660\u001b[0m         by\u001b[39m=\u001b[39mby,\n\u001b[0;32m   4661\u001b[0m         group_keys\u001b[39m=\u001b[39mgroup_keys,\n\u001b[0;32m   4662\u001b[0m         sort\u001b[39m=\u001b[39msort,\n\u001b[0;32m   4663\u001b[0m         observed\u001b[39m=\u001b[39mobserved,\n\u001b[0;32m   4664\u001b[0m         dropna\u001b[39m=\u001b[39mdropna,\n\u001b[0;32m   4665\u001b[0m         \u001b[39m*\u001b[39m\u001b[39m*\u001b[39mkwargs,\n\u001b[0;32m   4666\u001b[0m     )\n",
      "\u001b[1;31mTypeError\u001b[0m: __init__() got an unexpected keyword argument 'as_index'"
     ]
    }
   ],
   "source": [
    "print(\"List of countries with at least 10'000 ratings\")\n",
    "min_n_ratings = 10_000\n",
    "n_ratings_per_country = users_df[~users_df.country.isna()].groupby(\"country\", as_index=False).agg({\"n_ratings\": np.sum})\n",
    "countries_atleast_10Kratings = n_ratings_per_country[n_ratings_per_country.n_ratings >= min_n_ratings]\n",
    "countries_atleast_10Kratings[\"ratings_frac\"] = countries_atleast_10Kratings.n_ratings / users_df[~users_df.country.isna()].n_ratings.sum()\n",
    "countries_atleast_10Kratings = countries_atleast_10Kratings.sort_values(by=\"n_ratings\", ascending=False)\n",
    "countries_atleast_10Kratings"
   ]
  },
  {
   "cell_type": "markdown",
   "metadata": {},
   "source": [
    "n_reviews"
   ]
  },
  {
   "cell_type": "code",
   "execution_count": 27,
   "metadata": {},
   "outputs": [
    {
     "name": "stdout",
     "output_type": "stream",
     "text": [
      "Is there a user with unknown number of reviews ?\n"
     ]
    },
    {
     "data": {
      "text/plain": [
       "dd.Scalar<series-..., dtype=bool>"
      ]
     },
     "execution_count": 27,
     "metadata": {},
     "output_type": "execute_result"
    }
   ],
   "source": [
    "print(\"Is there a user with unknown number of reviews ?\")\n",
    "users_df.n_reviews.isna().any()"
   ]
  },
  {
   "cell_type": "code",
   "execution_count": 28,
   "metadata": {},
   "outputs": [
    {
     "name": "stdout",
     "output_type": "stream",
     "text": [
      "Total number of reviews\n"
     ]
    },
    {
     "data": {
      "text/plain": [
       "dd.Scalar<series-..., dtype=int64>"
      ]
     },
     "execution_count": 28,
     "metadata": {},
     "output_type": "execute_result"
    }
   ],
   "source": [
    "print(\"Total number of reviews\")\n",
    "total_n_reviews = users_df.n_reviews.sum()\n",
    "total_n_reviews"
   ]
  },
  {
   "cell_type": "code",
   "execution_count": 29,
   "metadata": {},
   "outputs": [
    {
     "name": "stderr",
     "output_type": "stream",
     "text": [
      "c:\\Users\\Henrique\\anaconda3\\lib\\site-packages\\pandas\\core\\arraylike.py:397: RuntimeWarning: divide by zero encountered in log10\n",
      "  result = getattr(ufunc, method)(*inputs, **kwargs)\n"
     ]
    },
    {
     "data": {
      "text/plain": [
       "<AxesSubplot:title={'center':'Distribution of Reviews Across All Users'}, xlabel='reviews', ylabel='occurences'>"
      ]
     },
     "execution_count": 29,
     "metadata": {},
     "output_type": "execute_result"
    },
    {
     "data": {
      "image/png": "[encoded data removed]",
      "text/plain": [
       "<Figure size 432x288 with 1 Axes>"
      ]
     },
     "metadata": {
      "needs_background": "light"
     },
     "output_type": "display_data"
    }
   ],
   "source": [
    "fig, ax = plt.subplots(1,1)\n",
    "ax.set_title(\"Distribution of Reviews Across All Users\")\n",
    "ax.set_ylabel(\"occurences\")\n",
    "ax.set_xlabel(\"reviews\")\n",
    "sns.histplot(data=users_df, x=\"n_reviews\", ax=ax, bins=20, log_scale=True)"
   ]
  },
  {
   "cell_type": "code",
   "execution_count": 30,
   "metadata": {},
   "outputs": [
    {
     "name": "stdout",
     "output_type": "stream",
     "text": [
      "List of countries with at least 5'000 reviews\n"
     ]
    },
    {
     "ename": "TypeError",
     "evalue": "__init__() got an unexpected keyword argument 'as_index'",
     "output_type": "error",
     "traceback": [
      "\u001b[1;31m---------------------------------------------------------------------------\u001b[0m",
      "\u001b[1;31mTypeError\u001b[0m                                 Traceback (most recent call last)",
      "\u001b[1;32mc:\\Users\\Henrique\\Desktop\\EPFL_MA1\\ADA\\project\\project_milestone2\\last_version\\ada-2022-project-analyteam\\processing_users(henrique).ipynb Cell 44\u001b[0m in \u001b[0;36m<cell line: 3>\u001b[1;34m()\u001b[0m\n\u001b[0;32m      <a href='vscode-notebook-cell:/c%3A/Users/Henrique/Desktop/EPFL_MA1/ADA/project/project_milestone2/last_version/ada-2022-project-analyteam/processing_users%28henrique%29.ipynb#X61sZmlsZQ%3D%3D?line=0'>1</a>\u001b[0m \u001b[39mprint\u001b[39m(\u001b[39m\"\u001b[39m\u001b[39mList of countries with at least 5\u001b[39m\u001b[39m'\u001b[39m\u001b[39m000 reviews\u001b[39m\u001b[39m\"\u001b[39m)\n\u001b[0;32m      <a href='vscode-notebook-cell:/c%3A/Users/Henrique/Desktop/EPFL_MA1/ADA/project/project_milestone2/last_version/ada-2022-project-analyteam/processing_users%28henrique%29.ipynb#X61sZmlsZQ%3D%3D?line=1'>2</a>\u001b[0m min_n_reviews \u001b[39m=\u001b[39m \u001b[39m5_000\u001b[39m\n\u001b[1;32m----> <a href='vscode-notebook-cell:/c%3A/Users/Henrique/Desktop/EPFL_MA1/ADA/project/project_milestone2/last_version/ada-2022-project-analyteam/processing_users%28henrique%29.ipynb#X61sZmlsZQ%3D%3D?line=2'>3</a>\u001b[0m n_reviews_per_country \u001b[39m=\u001b[39m users_df[\u001b[39m~\u001b[39;49musers_df\u001b[39m.\u001b[39;49mcountry\u001b[39m.\u001b[39;49misna()]\u001b[39m.\u001b[39;49mgroupby(\u001b[39m\"\u001b[39;49m\u001b[39mcountry\u001b[39;49m\u001b[39m\"\u001b[39;49m, as_index\u001b[39m=\u001b[39;49m\u001b[39mFalse\u001b[39;49;00m)\u001b[39m.\u001b[39magg({\u001b[39m\"\u001b[39m\u001b[39mn_reviews\u001b[39m\u001b[39m\"\u001b[39m: np\u001b[39m.\u001b[39msum})\n\u001b[0;32m      <a href='vscode-notebook-cell:/c%3A/Users/Henrique/Desktop/EPFL_MA1/ADA/project/project_milestone2/last_version/ada-2022-project-analyteam/processing_users%28henrique%29.ipynb#X61sZmlsZQ%3D%3D?line=3'>4</a>\u001b[0m countries_atleast_5Kreviews \u001b[39m=\u001b[39m n_reviews_per_country[n_reviews_per_country\u001b[39m.\u001b[39mn_reviews \u001b[39m>\u001b[39m\u001b[39m=\u001b[39m min_n_reviews]\n\u001b[0;32m      <a href='vscode-notebook-cell:/c%3A/Users/Henrique/Desktop/EPFL_MA1/ADA/project/project_milestone2/last_version/ada-2022-project-analyteam/processing_users%28henrique%29.ipynb#X61sZmlsZQ%3D%3D?line=4'>5</a>\u001b[0m countries_atleast_5Kreviews[\u001b[39m\"\u001b[39m\u001b[39mreviews_frac\u001b[39m\u001b[39m\"\u001b[39m] \u001b[39m=\u001b[39m countries_atleast_5Kreviews\u001b[39m.\u001b[39mn_reviews \u001b[39m/\u001b[39m\\\n\u001b[0;32m      <a href='vscode-notebook-cell:/c%3A/Users/Henrique/Desktop/EPFL_MA1/ADA/project/project_milestone2/last_version/ada-2022-project-analyteam/processing_users%28henrique%29.ipynb#X61sZmlsZQ%3D%3D?line=5'>6</a>\u001b[0m     users_df\u001b[39m.\u001b[39mn_reviews[\u001b[39m~\u001b[39musers_df\u001b[39m.\u001b[39mcountry\u001b[39m.\u001b[39misna()]\u001b[39m.\u001b[39msum()\n",
      "File \u001b[1;32mc:\\Users\\Henrique\\anaconda3\\lib\\site-packages\\dask\\dataframe\\core.py:4658\u001b[0m, in \u001b[0;36mDataFrame.groupby\u001b[1;34m(self, by, group_keys, sort, observed, dropna, **kwargs)\u001b[0m\n\u001b[0;32m   4652\u001b[0m \u001b[39m@derived_from\u001b[39m(pd\u001b[39m.\u001b[39mDataFrame)\n\u001b[0;32m   4653\u001b[0m \u001b[39mdef\u001b[39;00m \u001b[39mgroupby\u001b[39m(\n\u001b[0;32m   4654\u001b[0m     \u001b[39mself\u001b[39m, by\u001b[39m=\u001b[39m\u001b[39mNone\u001b[39;00m, group_keys\u001b[39m=\u001b[39m\u001b[39mTrue\u001b[39;00m, sort\u001b[39m=\u001b[39m\u001b[39mNone\u001b[39;00m, observed\u001b[39m=\u001b[39m\u001b[39mNone\u001b[39;00m, dropna\u001b[39m=\u001b[39m\u001b[39mNone\u001b[39;00m, \u001b[39m*\u001b[39m\u001b[39m*\u001b[39mkwargs\n\u001b[0;32m   4655\u001b[0m ):\n\u001b[0;32m   4656\u001b[0m     \u001b[39mfrom\u001b[39;00m \u001b[39mdask\u001b[39;00m\u001b[39m.\u001b[39;00m\u001b[39mdataframe\u001b[39;00m\u001b[39m.\u001b[39;00m\u001b[39mgroupby\u001b[39;00m \u001b[39mimport\u001b[39;00m DataFrameGroupBy\n\u001b[1;32m-> 4658\u001b[0m     \u001b[39mreturn\u001b[39;00m DataFrameGroupBy(\n\u001b[0;32m   4659\u001b[0m         \u001b[39mself\u001b[39m,\n\u001b[0;32m   4660\u001b[0m         by\u001b[39m=\u001b[39mby,\n\u001b[0;32m   4661\u001b[0m         group_keys\u001b[39m=\u001b[39mgroup_keys,\n\u001b[0;32m   4662\u001b[0m         sort\u001b[39m=\u001b[39msort,\n\u001b[0;32m   4663\u001b[0m         observed\u001b[39m=\u001b[39mobserved,\n\u001b[0;32m   4664\u001b[0m         dropna\u001b[39m=\u001b[39mdropna,\n\u001b[0;32m   4665\u001b[0m         \u001b[39m*\u001b[39m\u001b[39m*\u001b[39mkwargs,\n\u001b[0;32m   4666\u001b[0m     )\n",
      "\u001b[1;31mTypeError\u001b[0m: __init__() got an unexpected keyword argument 'as_index'"
     ]
    }
   ],
   "source": [
    "print(\"List of countries with at least 5'000 reviews\")\n",
    "min_n_reviews = 5_000\n",
    "n_reviews_per_country = users_df[~users_df.country.isna()].groupby(\"country\", as_index=False).agg({\"n_reviews\": np.sum})\n",
    "countries_atleast_5Kreviews = n_reviews_per_country[n_reviews_per_country.n_reviews >= min_n_reviews]\n",
    "countries_atleast_5Kreviews[\"reviews_frac\"] = countries_atleast_5Kreviews.n_reviews /\\\n",
    "    users_df.n_reviews[~users_df.country.isna()].sum()\n",
    "countries_atleast_5Kreviews = countries_atleast_5Kreviews.sort_values(by=\"n_reviews\", ascending=False)\n",
    "countries_atleast_5Kreviews"
   ]
  },
  {
   "cell_type": "markdown",
   "metadata": {},
   "source": [
    "joined"
   ]
  },
  {
   "cell_type": "code",
   "execution_count": 31,
   "metadata": {},
   "outputs": [
    {
     "name": "stdout",
     "output_type": "stream",
     "text": [
      "Is there any missing joining date ?\n"
     ]
    },
    {
     "data": {
      "text/plain": [
       "dd.Scalar<series-..., dtype=bool>"
      ]
     },
     "execution_count": 31,
     "metadata": {},
     "output_type": "execute_result"
    }
   ],
   "source": [
    "print(\"Is there any missing joining date ?\")\n",
    "users_df.joined.isna().any()"
   ]
  },
  {
   "cell_type": "code",
   "execution_count": 32,
   "metadata": {},
   "outputs": [
    {
     "name": "stdout",
     "output_type": "stream",
     "text": [
      "How many users have unknown joining date ?\n"
     ]
    },
    {
     "data": {
      "text/plain": [
       "dd.Scalar<series-..., dtype=int64>"
      ]
     },
     "execution_count": 32,
     "metadata": {},
     "output_type": "execute_result"
    }
   ],
   "source": [
    "print(\"How many users have unknown joining date ?\")\n",
    "users_df.joined.isna().sum()"
   ]
  },
  {
   "cell_type": "code",
   "execution_count": 33,
   "metadata": {},
   "outputs": [
    {
     "ename": "TypeError",
     "evalue": "__init__() got an unexpected keyword argument 'as_index'",
     "output_type": "error",
     "traceback": [
      "\u001b[1;31m---------------------------------------------------------------------------\u001b[0m",
      "\u001b[1;31mTypeError\u001b[0m                                 Traceback (most recent call last)",
      "\u001b[1;32mc:\\Users\\Henrique\\Desktop\\EPFL_MA1\\ADA\\project\\project_milestone2\\last_version\\ada-2022-project-analyteam\\processing_users(henrique).ipynb Cell 48\u001b[0m in \u001b[0;36m<cell line: 4>\u001b[1;34m()\u001b[0m\n\u001b[0;32m      <a href='vscode-notebook-cell:/c%3A/Users/Henrique/Desktop/EPFL_MA1/ADA/project/project_milestone2/last_version/ada-2022-project-analyteam/processing_users%28henrique%29.ipynb#X65sZmlsZQ%3D%3D?line=1'>2</a>\u001b[0m plt\u001b[39m.\u001b[39msubplots_adjust(wspace\u001b[39m=\u001b[39m\u001b[39m1\u001b[39m, hspace\u001b[39m=\u001b[39m\u001b[39m1\u001b[39m)\n\u001b[0;32m      <a href='vscode-notebook-cell:/c%3A/Users/Henrique/Desktop/EPFL_MA1/ADA/project/project_milestone2/last_version/ada-2022-project-analyteam/processing_users%28henrique%29.ipynb#X65sZmlsZQ%3D%3D?line=2'>3</a>\u001b[0m fig\u001b[39m.\u001b[39msuptitle(\u001b[39m\"\u001b[39m\u001b[39mDistribution of Users Joining the Plateform from 1996 to 2017 Broken Down by Month\u001b[39m\u001b[39m\"\u001b[39m)\n\u001b[1;32m----> <a href='vscode-notebook-cell:/c%3A/Users/Henrique/Desktop/EPFL_MA1/ADA/project/project_milestone2/last_version/ada-2022-project-analyteam/processing_users%28henrique%29.ipynb#X65sZmlsZQ%3D%3D?line=3'>4</a>\u001b[0m users_joined_by_year \u001b[39m=\u001b[39m users_df\u001b[39m.\u001b[39;49mgroupby(users_df\u001b[39m.\u001b[39;49mjoined\u001b[39m.\u001b[39;49mdt\u001b[39m.\u001b[39;49myear, as_index\u001b[39m=\u001b[39;49m\u001b[39mFalse\u001b[39;49;00m)\n\u001b[0;32m      <a href='vscode-notebook-cell:/c%3A/Users/Henrique/Desktop/EPFL_MA1/ADA/project/project_milestone2/last_version/ada-2022-project-analyteam/processing_users%28henrique%29.ipynb#X65sZmlsZQ%3D%3D?line=4'>5</a>\u001b[0m \u001b[39mfor\u001b[39;00m i, (year, by_year) \u001b[39min\u001b[39;00m \u001b[39menumerate\u001b[39m(users_joined_by_year):\n\u001b[0;32m      <a href='vscode-notebook-cell:/c%3A/Users/Henrique/Desktop/EPFL_MA1/ADA/project/project_milestone2/last_version/ada-2022-project-analyteam/processing_users%28henrique%29.ipynb#X65sZmlsZQ%3D%3D?line=5'>6</a>\u001b[0m     a \u001b[39m=\u001b[39m \u001b[39mint\u001b[39m(i\u001b[39m/\u001b[39m\u001b[39m4\u001b[39m); b \u001b[39m=\u001b[39m i \u001b[39m%\u001b[39m \u001b[39m4\u001b[39m\n",
      "File \u001b[1;32mc:\\Users\\Henrique\\anaconda3\\lib\\site-packages\\dask\\dataframe\\core.py:4658\u001b[0m, in \u001b[0;36mDataFrame.groupby\u001b[1;34m(self, by, group_keys, sort, observed, dropna, **kwargs)\u001b[0m\n\u001b[0;32m   4652\u001b[0m \u001b[39m@derived_from\u001b[39m(pd\u001b[39m.\u001b[39mDataFrame)\n\u001b[0;32m   4653\u001b[0m \u001b[39mdef\u001b[39;00m \u001b[39mgroupby\u001b[39m(\n\u001b[0;32m   4654\u001b[0m     \u001b[39mself\u001b[39m, by\u001b[39m=\u001b[39m\u001b[39mNone\u001b[39;00m, group_keys\u001b[39m=\u001b[39m\u001b[39mTrue\u001b[39;00m, sort\u001b[39m=\u001b[39m\u001b[39mNone\u001b[39;00m, observed\u001b[39m=\u001b[39m\u001b[39mNone\u001b[39;00m, dropna\u001b[39m=\u001b[39m\u001b[39mNone\u001b[39;00m, \u001b[39m*\u001b[39m\u001b[39m*\u001b[39mkwargs\n\u001b[0;32m   4655\u001b[0m ):\n\u001b[0;32m   4656\u001b[0m     \u001b[39mfrom\u001b[39;00m \u001b[39mdask\u001b[39;00m\u001b[39m.\u001b[39;00m\u001b[39mdataframe\u001b[39;00m\u001b[39m.\u001b[39;00m\u001b[39mgroupby\u001b[39;00m \u001b[39mimport\u001b[39;00m DataFrameGroupBy\n\u001b[1;32m-> 4658\u001b[0m     \u001b[39mreturn\u001b[39;00m DataFrameGroupBy(\n\u001b[0;32m   4659\u001b[0m         \u001b[39mself\u001b[39m,\n\u001b[0;32m   4660\u001b[0m         by\u001b[39m=\u001b[39mby,\n\u001b[0;32m   4661\u001b[0m         group_keys\u001b[39m=\u001b[39mgroup_keys,\n\u001b[0;32m   4662\u001b[0m         sort\u001b[39m=\u001b[39msort,\n\u001b[0;32m   4663\u001b[0m         observed\u001b[39m=\u001b[39mobserved,\n\u001b[0;32m   4664\u001b[0m         dropna\u001b[39m=\u001b[39mdropna,\n\u001b[0;32m   4665\u001b[0m         \u001b[39m*\u001b[39m\u001b[39m*\u001b[39mkwargs,\n\u001b[0;32m   4666\u001b[0m     )\n",
      "\u001b[1;31mTypeError\u001b[0m: __init__() got an unexpected keyword argument 'as_index'"
     ]
    },
    {
     "data": {
      "image/png": "[encoded data removed]",
      "text/plain": [
       "<Figure size 864x720 with 20 Axes>"
      ]
     },
     "metadata": {
      "needs_background": "light"
     },
     "output_type": "display_data"
    }
   ],
   "source": [
    "fig, axs = plt.subplots(5, 4, figsize=(12,10))\n",
    "plt.subplots_adjust(wspace=1, hspace=1)\n",
    "fig.suptitle(\"Distribution of Users Joining the Plateform from 1996 to 2017 Broken Down by Month\")\n",
    "users_joined_by_year = users_df.groupby(users_df.joined.dt.year, as_index=False)\n",
    "for i, (year, by_year) in enumerate(users_joined_by_year):\n",
    "    a = int(i/4); b = i % 4\n",
    "    ax = axs[a][b]\n",
    "    ax.set_title(\"year %d\"%(year))\n",
    "    users_joined_by_month = by_year.groupby(by_year.joined.dt.month, as_index=False).size()\n",
    "    sns.barplot(data=users_joined_by_month, x=\"joined\", y=\"size\", color=\"blue\", ax=ax, orient=\"v\")"
   ]
  },
  {
   "cell_type": "markdown",
   "metadata": {},
   "source": [
    "# Location based statistics"
   ]
  },
  {
   "cell_type": "code",
   "execution_count": 55,
   "metadata": {},
   "outputs": [
    {
     "name": "stdout",
     "output_type": "stream",
     "text": [
      "Number of states with less than 1000 users: 21\n"
     ]
    }
   ],
   "source": [
    "# compute number of users per state (US only)\n",
    "n_users_per_state = users_df[users_df.country == \"United States\"].groupby(\"location\").size()\n",
    "\n",
    "# keep only states with at least 100 users\n",
    "min_n_users = 1000\n",
    "n_users_per_state_top = n_users_per_state[n_users_per_state >= min_n_users]\n",
    "\n",
    "# print the number of states with less than 100 users\n",
    "print(\"Number of states with less than {0} users: {1}\".format(min_n_users,\n",
    "    n_users_per_state.size.compute() - n_users_per_state_top.size.compute()))\n"
   ]
  },
  {
   "cell_type": "code",
   "execution_count": 57,
   "metadata": {},
   "outputs": [
    {
     "data": {
      "text/plain": [
       "<AxesSubplot:title={'center':'Distribution of number of users per state (US only) with at least 1000 users'}, xlabel='location', ylabel='nbr_users'>"
      ]
     },
     "execution_count": 57,
     "metadata": {},
     "output_type": "execute_result"
    },
    {
     "data": {
      "image/png": "[encoded data removed]",
      "text/plain": [
       "<Figure size 432x288 with 1 Axes>"
      ]
     },
     "metadata": {
      "needs_background": "light"
     },
     "output_type": "display_data"
    }
   ],
   "source": [
    "# sort states by number of users\n",
    "#n_users_per_state_100 = n_users_per_state_100.sort_values(ascending=False)\n",
    "\n",
    "fig, ax = plt.subplots(1,1)\n",
    "ax.set_title(\"Distribution of number of users per state (US only) with at least {0} users\".format(min_n_users))\n",
    "ax.set_ylabel(\"nbr_users\")\n",
    "ax.set_xlabel(\"state\")\n",
    "\n",
    "n_users_per_state_top.compute().sort_values(ascending=False).plot.bar(ax=ax, color=\"blue\")"
   ]
  },
  {
   "cell_type": "code",
   "execution_count": 66,
   "metadata": {},
   "outputs": [],
   "source": [
    "# compute number of ratings per state (US only)\n",
    "users_per_state = users_df[users_df.country == \"United States\"].groupby(\"location\")\n",
    "nb_rating_per_state = users_per_state.aggregate({\"n_ratings\": np.sum}).squeeze()"
   ]
  },
  {
   "cell_type": "code",
   "execution_count": 78,
   "metadata": {},
   "outputs": [
    {
     "data": {
      "text/plain": [
       "<AxesSubplot:title={'center':'Distribution of number of number of ratings per state (US only)'}, xlabel='location', ylabel='nbr_users'>"
      ]
     },
     "execution_count": 78,
     "metadata": {},
     "output_type": "execute_result"
    },
    {
     "data": {
      "image/png": "[encoded data removed]",
      "text/plain": [
       "<Figure size 432x288 with 1 Axes>"
      ]
     },
     "metadata": {
      "needs_background": "light"
     },
     "output_type": "display_data"
    }
   ],
   "source": [
    "fig, ax = plt.subplots(1,1)\n",
    "ax.set_title(\"Distribution of number of number of ratings per state (US only)\")\n",
    "ax.set_ylabel(\"nbr_ratings\")\n",
    "ax.set_xlabel(\"state\")\n",
    "nb_rating_per_state.compute().sort_values(ascending=False).plot.bar(ax=ax, color=\"blue\")"
   ]
  },
  {
   "cell_type": "code",
   "execution_count": 80,
   "metadata": {},
   "outputs": [
    {
     "data": {
      "text/plain": [
       "<AxesSubplot:title={'center':'Distribution of ratio of number of ratings per number of users ofr each state (US only)'}, xlabel='location', ylabel='nbr_ratings'>"
      ]
     },
     "execution_count": 80,
     "metadata": {},
     "output_type": "execute_result"
    },
    {
     "data": {
      "image/png": "[encoded data removed]",
      "text/plain": [
       "<Figure size 432x288 with 1 Axes>"
      ]
     },
     "metadata": {
      "needs_background": "light"
     },
     "output_type": "display_data"
    }
   ],
   "source": [
    "# number ratings divided by number of users for each state\n",
    "fig, ax = plt.subplots(1,1)\n",
    "ax.set_title(\"Distribution of ratio of number of ratings per number of users ofr each state (US only)\")\n",
    "ax.set_ylabel(\"nbr_ratings\")\n",
    "ax.set_xlabel(\"state\")\n",
    "n_rating_state_ratio = nb_rating_per_state / n_users_per_state\n",
    "n_rating_state_ratio.compute().sort_values(ascending=False).plot.bar(ax=ax, color=\"blue\")"
   ]
  },
  {
   "cell_type": "code",
   "execution_count": 75,
   "metadata": {},
   "outputs": [
    {
     "data": {
      "text/plain": [
       "54.60516317076979"
      ]
     },
     "execution_count": 75,
     "metadata": {},
     "output_type": "execute_result"
    }
   ],
   "source": [
    "users_df.n_ratings.mean().compute()"
   ]
  },
  {
   "cell_type": "code",
   "execution_count": 83,
   "metadata": {},
   "outputs": [
    {
     "data": {
      "text/html": [
       "<div>\n",
       "<style scoped>\n",
       "    .dataframe tbody tr th:only-of-type {\n",
       "        vertical-align: middle;\n",
       "    }\n",
       "\n",
       "    .dataframe tbody tr th {\n",
       "        vertical-align: top;\n",
       "    }\n",
       "\n",
       "    .dataframe thead th {\n",
       "        text-align: right;\n",
       "    }\n",
       "</style>\n",
       "<table border=\"1\" class=\"dataframe\">\n",
       "  <thead>\n",
       "    <tr style=\"text-align: right;\">\n",
       "      <th></th>\n",
       "      <th>date</th>\n",
       "      <th>bid</th>\n",
       "      <th>uid</th>\n",
       "      <th>appearance</th>\n",
       "      <th>aroma</th>\n",
       "      <th>palate</th>\n",
       "      <th>taste</th>\n",
       "      <th>overall</th>\n",
       "      <th>rating</th>\n",
       "      <th>has_review</th>\n",
       "      <th>review</th>\n",
       "    </tr>\n",
       "  </thead>\n",
       "  <tbody>\n",
       "    <tr>\n",
       "      <th>0</th>\n",
       "      <td>2015-08-20 10:00:00</td>\n",
       "      <td>142544.0</td>\n",
       "      <td>nmann08.184925</td>\n",
       "      <td>3.25</td>\n",
       "      <td>2.75</td>\n",
       "      <td>3.25</td>\n",
       "      <td>2.75</td>\n",
       "      <td>3.00</td>\n",
       "      <td>2.88</td>\n",
       "      <td>True</td>\n",
       "      <td>From a bottle, pours a piss yellow color with ...</td>\n",
       "    </tr>\n",
       "    <tr>\n",
       "      <th>1</th>\n",
       "      <td>2015-11-14 11:00:00</td>\n",
       "      <td>120824.0</td>\n",
       "      <td>nmann08.184925</td>\n",
       "      <td>4.00</td>\n",
       "      <td>3.50</td>\n",
       "      <td>3.75</td>\n",
       "      <td>3.50</td>\n",
       "      <td>3.50</td>\n",
       "      <td>3.56</td>\n",
       "      <td>False</td>\n",
       "      <td>None</td>\n",
       "    </tr>\n",
       "    <tr>\n",
       "      <th>2</th>\n",
       "      <td>2011-11-18 11:00:00</td>\n",
       "      <td>47581.0</td>\n",
       "      <td>nmann08.184925</td>\n",
       "      <td>NaN</td>\n",
       "      <td>NaN</td>\n",
       "      <td>NaN</td>\n",
       "      <td>NaN</td>\n",
       "      <td>NaN</td>\n",
       "      <td>4.50</td>\n",
       "      <td>False</td>\n",
       "      <td>None</td>\n",
       "    </tr>\n",
       "    <tr>\n",
       "      <th>3</th>\n",
       "      <td>2013-05-03 10:00:00</td>\n",
       "      <td>93113.0</td>\n",
       "      <td>nmann08.184925</td>\n",
       "      <td>NaN</td>\n",
       "      <td>NaN</td>\n",
       "      <td>NaN</td>\n",
       "      <td>NaN</td>\n",
       "      <td>NaN</td>\n",
       "      <td>3.75</td>\n",
       "      <td>False</td>\n",
       "      <td>None</td>\n",
       "    </tr>\n",
       "    <tr>\n",
       "      <th>4</th>\n",
       "      <td>2015-01-24 11:00:00</td>\n",
       "      <td>875.0</td>\n",
       "      <td>nmann08.184925</td>\n",
       "      <td>4.00</td>\n",
       "      <td>3.50</td>\n",
       "      <td>3.75</td>\n",
       "      <td>4.00</td>\n",
       "      <td>3.75</td>\n",
       "      <td>3.81</td>\n",
       "      <td>False</td>\n",
       "      <td>None</td>\n",
       "    </tr>\n",
       "  </tbody>\n",
       "</table>\n",
       "</div>"
      ],
      "text/plain": [
       "                 date       bid             uid  appearance  aroma  palate  \\\n",
       "0 2015-08-20 10:00:00  142544.0  nmann08.184925        3.25   2.75    3.25   \n",
       "1 2015-11-14 11:00:00  120824.0  nmann08.184925        4.00   3.50    3.75   \n",
       "2 2011-11-18 11:00:00   47581.0  nmann08.184925         NaN    NaN     NaN   \n",
       "3 2013-05-03 10:00:00   93113.0  nmann08.184925         NaN    NaN     NaN   \n",
       "4 2015-01-24 11:00:00     875.0  nmann08.184925        4.00   3.50    3.75   \n",
       "\n",
       "   taste  overall  rating  has_review  \\\n",
       "0   2.75     3.00    2.88        True   \n",
       "1   3.50     3.50    3.56       False   \n",
       "2    NaN      NaN    4.50       False   \n",
       "3    NaN      NaN    3.75       False   \n",
       "4   4.00     3.75    3.81       False   \n",
       "\n",
       "                                              review  \n",
       "0  From a bottle, pours a piss yellow color with ...  \n",
       "1                                               None  \n",
       "2                                               None  \n",
       "3                                               None  \n",
       "4                                               None  "
      ]
     },
     "execution_count": 83,
     "metadata": {},
     "output_type": "execute_result"
    }
   ],
   "source": [
    "ratings_ddf = prc.ratings_pipeline(prc.users_pipeline())\n",
    "ratings_ddf.head(5)"
   ]
  },
  {
   "cell_type": "code",
   "execution_count": 84,
   "metadata": {},
   "outputs": [
    {
     "data": {
      "text/html": [
       "<div>\n",
       "<style scoped>\n",
       "    .dataframe tbody tr th:only-of-type {\n",
       "        vertical-align: middle;\n",
       "    }\n",
       "\n",
       "    .dataframe tbody tr th {\n",
       "        vertical-align: top;\n",
       "    }\n",
       "\n",
       "    .dataframe thead th {\n",
       "        text-align: right;\n",
       "    }\n",
       "</style>\n",
       "<table border=\"1\" class=\"dataframe\">\n",
       "  <thead>\n",
       "    <tr style=\"text-align: right;\">\n",
       "      <th></th>\n",
       "      <th>n_ratings</th>\n",
       "      <th>n_reviews</th>\n",
       "      <th>uid</th>\n",
       "      <th>username</th>\n",
       "      <th>joined</th>\n",
       "      <th>location</th>\n",
       "      <th>country</th>\n",
       "      <th>date</th>\n",
       "      <th>bid</th>\n",
       "      <th>appearance</th>\n",
       "      <th>aroma</th>\n",
       "      <th>palate</th>\n",
       "      <th>taste</th>\n",
       "      <th>overall</th>\n",
       "      <th>rating</th>\n",
       "      <th>has_review</th>\n",
       "      <th>review</th>\n",
       "    </tr>\n",
       "  </thead>\n",
       "  <tbody>\n",
       "    <tr>\n",
       "      <th>0</th>\n",
       "      <td>7820</td>\n",
       "      <td>465</td>\n",
       "      <td>nmann08.184925</td>\n",
       "      <td>nmann08</td>\n",
       "      <td>2008-01-07 11:00:00</td>\n",
       "      <td>United States, Washington</td>\n",
       "      <td>United States</td>\n",
       "      <td>2015-08-20 10:00:00</td>\n",
       "      <td>142544.0</td>\n",
       "      <td>3.25</td>\n",
       "      <td>2.75</td>\n",
       "      <td>3.25</td>\n",
       "      <td>2.75</td>\n",
       "      <td>3.00</td>\n",
       "      <td>2.88</td>\n",
       "      <td>True</td>\n",
       "      <td>From a bottle, pours a piss yellow color with ...</td>\n",
       "    </tr>\n",
       "    <tr>\n",
       "      <th>1</th>\n",
       "      <td>7820</td>\n",
       "      <td>465</td>\n",
       "      <td>nmann08.184925</td>\n",
       "      <td>nmann08</td>\n",
       "      <td>2008-01-07 11:00:00</td>\n",
       "      <td>United States, Washington</td>\n",
       "      <td>United States</td>\n",
       "      <td>2015-11-14 11:00:00</td>\n",
       "      <td>120824.0</td>\n",
       "      <td>4.00</td>\n",
       "      <td>3.50</td>\n",
       "      <td>3.75</td>\n",
       "      <td>3.50</td>\n",
       "      <td>3.50</td>\n",
       "      <td>3.56</td>\n",
       "      <td>False</td>\n",
       "      <td>None</td>\n",
       "    </tr>\n",
       "    <tr>\n",
       "      <th>2</th>\n",
       "      <td>7820</td>\n",
       "      <td>465</td>\n",
       "      <td>nmann08.184925</td>\n",
       "      <td>nmann08</td>\n",
       "      <td>2008-01-07 11:00:00</td>\n",
       "      <td>United States, Washington</td>\n",
       "      <td>United States</td>\n",
       "      <td>2011-11-18 11:00:00</td>\n",
       "      <td>47581.0</td>\n",
       "      <td>NaN</td>\n",
       "      <td>NaN</td>\n",
       "      <td>NaN</td>\n",
       "      <td>NaN</td>\n",
       "      <td>NaN</td>\n",
       "      <td>4.50</td>\n",
       "      <td>False</td>\n",
       "      <td>None</td>\n",
       "    </tr>\n",
       "    <tr>\n",
       "      <th>3</th>\n",
       "      <td>7820</td>\n",
       "      <td>465</td>\n",
       "      <td>nmann08.184925</td>\n",
       "      <td>nmann08</td>\n",
       "      <td>2008-01-07 11:00:00</td>\n",
       "      <td>United States, Washington</td>\n",
       "      <td>United States</td>\n",
       "      <td>2013-05-03 10:00:00</td>\n",
       "      <td>93113.0</td>\n",
       "      <td>NaN</td>\n",
       "      <td>NaN</td>\n",
       "      <td>NaN</td>\n",
       "      <td>NaN</td>\n",
       "      <td>NaN</td>\n",
       "      <td>3.75</td>\n",
       "      <td>False</td>\n",
       "      <td>None</td>\n",
       "    </tr>\n",
       "    <tr>\n",
       "      <th>4</th>\n",
       "      <td>7820</td>\n",
       "      <td>465</td>\n",
       "      <td>nmann08.184925</td>\n",
       "      <td>nmann08</td>\n",
       "      <td>2008-01-07 11:00:00</td>\n",
       "      <td>United States, Washington</td>\n",
       "      <td>United States</td>\n",
       "      <td>2015-01-24 11:00:00</td>\n",
       "      <td>875.0</td>\n",
       "      <td>4.00</td>\n",
       "      <td>3.50</td>\n",
       "      <td>3.75</td>\n",
       "      <td>4.00</td>\n",
       "      <td>3.75</td>\n",
       "      <td>3.81</td>\n",
       "      <td>False</td>\n",
       "      <td>None</td>\n",
       "    </tr>\n",
       "    <tr>\n",
       "      <th>5</th>\n",
       "      <td>7820</td>\n",
       "      <td>465</td>\n",
       "      <td>nmann08.184925</td>\n",
       "      <td>nmann08</td>\n",
       "      <td>2008-01-07 11:00:00</td>\n",
       "      <td>United States, Washington</td>\n",
       "      <td>United States</td>\n",
       "      <td>2012-02-07 11:00:00</td>\n",
       "      <td>52610.0</td>\n",
       "      <td>NaN</td>\n",
       "      <td>NaN</td>\n",
       "      <td>NaN</td>\n",
       "      <td>NaN</td>\n",
       "      <td>NaN</td>\n",
       "      <td>3.50</td>\n",
       "      <td>False</td>\n",
       "      <td>None</td>\n",
       "    </tr>\n",
       "    <tr>\n",
       "      <th>6</th>\n",
       "      <td>7820</td>\n",
       "      <td>465</td>\n",
       "      <td>nmann08.184925</td>\n",
       "      <td>nmann08</td>\n",
       "      <td>2008-01-07 11:00:00</td>\n",
       "      <td>United States, Washington</td>\n",
       "      <td>United States</td>\n",
       "      <td>2012-02-07 11:00:00</td>\n",
       "      <td>12719.0</td>\n",
       "      <td>NaN</td>\n",
       "      <td>NaN</td>\n",
       "      <td>NaN</td>\n",
       "      <td>NaN</td>\n",
       "      <td>NaN</td>\n",
       "      <td>2.50</td>\n",
       "      <td>False</td>\n",
       "      <td>None</td>\n",
       "    </tr>\n",
       "    <tr>\n",
       "      <th>7</th>\n",
       "      <td>7820</td>\n",
       "      <td>465</td>\n",
       "      <td>nmann08.184925</td>\n",
       "      <td>nmann08</td>\n",
       "      <td>2008-01-07 11:00:00</td>\n",
       "      <td>United States, Washington</td>\n",
       "      <td>United States</td>\n",
       "      <td>2012-02-07 11:00:00</td>\n",
       "      <td>77595.0</td>\n",
       "      <td>NaN</td>\n",
       "      <td>NaN</td>\n",
       "      <td>NaN</td>\n",
       "      <td>NaN</td>\n",
       "      <td>NaN</td>\n",
       "      <td>2.50</td>\n",
       "      <td>False</td>\n",
       "      <td>None</td>\n",
       "    </tr>\n",
       "    <tr>\n",
       "      <th>8</th>\n",
       "      <td>7820</td>\n",
       "      <td>465</td>\n",
       "      <td>nmann08.184925</td>\n",
       "      <td>nmann08</td>\n",
       "      <td>2008-01-07 11:00:00</td>\n",
       "      <td>United States, Washington</td>\n",
       "      <td>United States</td>\n",
       "      <td>2012-02-07 11:00:00</td>\n",
       "      <td>39258.0</td>\n",
       "      <td>NaN</td>\n",
       "      <td>NaN</td>\n",
       "      <td>NaN</td>\n",
       "      <td>NaN</td>\n",
       "      <td>NaN</td>\n",
       "      <td>3.00</td>\n",
       "      <td>False</td>\n",
       "      <td>None</td>\n",
       "    </tr>\n",
       "    <tr>\n",
       "      <th>9</th>\n",
       "      <td>7820</td>\n",
       "      <td>465</td>\n",
       "      <td>nmann08.184925</td>\n",
       "      <td>nmann08</td>\n",
       "      <td>2008-01-07 11:00:00</td>\n",
       "      <td>United States, Washington</td>\n",
       "      <td>United States</td>\n",
       "      <td>2016-08-20 10:00:00</td>\n",
       "      <td>236196.0</td>\n",
       "      <td>4.00</td>\n",
       "      <td>4.25</td>\n",
       "      <td>4.00</td>\n",
       "      <td>4.00</td>\n",
       "      <td>4.00</td>\n",
       "      <td>4.06</td>\n",
       "      <td>False</td>\n",
       "      <td>None</td>\n",
       "    </tr>\n",
       "  </tbody>\n",
       "</table>\n",
       "</div>"
      ],
      "text/plain": [
       "   n_ratings  n_reviews             uid username              joined  \\\n",
       "0       7820        465  nmann08.184925  nmann08 2008-01-07 11:00:00   \n",
       "1       7820        465  nmann08.184925  nmann08 2008-01-07 11:00:00   \n",
       "2       7820        465  nmann08.184925  nmann08 2008-01-07 11:00:00   \n",
       "3       7820        465  nmann08.184925  nmann08 2008-01-07 11:00:00   \n",
       "4       7820        465  nmann08.184925  nmann08 2008-01-07 11:00:00   \n",
       "5       7820        465  nmann08.184925  nmann08 2008-01-07 11:00:00   \n",
       "6       7820        465  nmann08.184925  nmann08 2008-01-07 11:00:00   \n",
       "7       7820        465  nmann08.184925  nmann08 2008-01-07 11:00:00   \n",
       "8       7820        465  nmann08.184925  nmann08 2008-01-07 11:00:00   \n",
       "9       7820        465  nmann08.184925  nmann08 2008-01-07 11:00:00   \n",
       "\n",
       "                    location        country                date       bid  \\\n",
       "0  United States, Washington  United States 2015-08-20 10:00:00  142544.0   \n",
       "1  United States, Washington  United States 2015-11-14 11:00:00  120824.0   \n",
       "2  United States, Washington  United States 2011-11-18 11:00:00   47581.0   \n",
       "3  United States, Washington  United States 2013-05-03 10:00:00   93113.0   \n",
       "4  United States, Washington  United States 2015-01-24 11:00:00     875.0   \n",
       "5  United States, Washington  United States 2012-02-07 11:00:00   52610.0   \n",
       "6  United States, Washington  United States 2012-02-07 11:00:00   12719.0   \n",
       "7  United States, Washington  United States 2012-02-07 11:00:00   77595.0   \n",
       "8  United States, Washington  United States 2012-02-07 11:00:00   39258.0   \n",
       "9  United States, Washington  United States 2016-08-20 10:00:00  236196.0   \n",
       "\n",
       "   appearance  aroma  palate  taste  overall  rating  has_review  \\\n",
       "0        3.25   2.75    3.25   2.75     3.00    2.88        True   \n",
       "1        4.00   3.50    3.75   3.50     3.50    3.56       False   \n",
       "2         NaN    NaN     NaN    NaN      NaN    4.50       False   \n",
       "3         NaN    NaN     NaN    NaN      NaN    3.75       False   \n",
       "4        4.00   3.50    3.75   4.00     3.75    3.81       False   \n",
       "5         NaN    NaN     NaN    NaN      NaN    3.50       False   \n",
       "6         NaN    NaN     NaN    NaN      NaN    2.50       False   \n",
       "7         NaN    NaN     NaN    NaN      NaN    2.50       False   \n",
       "8         NaN    NaN     NaN    NaN      NaN    3.00       False   \n",
       "9        4.00   4.25    4.00   4.00     4.00    4.06       False   \n",
       "\n",
       "                                              review  \n",
       "0  From a bottle, pours a piss yellow color with ...  \n",
       "1                                               None  \n",
       "2                                               None  \n",
       "3                                               None  \n",
       "4                                               None  \n",
       "5                                               None  \n",
       "6                                               None  \n",
       "7                                               None  \n",
       "8                                               None  \n",
       "9                                               None  "
      ]
     },
     "execution_count": 84,
     "metadata": {},
     "output_type": "execute_result"
    }
   ],
   "source": [
    "user_ratings = users_df.merge(ratings_ddf, left_on=\"uid\", right_on=\"uid\")\n",
    "user_ratings.head(10)"
   ]
  },
  {
   "cell_type": "code",
   "execution_count": 91,
   "metadata": {},
   "outputs": [
    {
     "data": {
      "text/plain": [
       "rating    4.038979\n",
       "dtype: float64"
      ]
     },
     "execution_count": 91,
     "metadata": {},
     "output_type": "execute_result"
    }
   ],
   "source": [
    "# average rating across all users\n",
    "avg_ratings_all = user_ratings[[\"uid\", \"rating\"]].groupby(\"uid\").agg('mean')\n",
    "avg_ratings_all.compute().mean()"
   ]
  },
  {
   "cell_type": "code",
   "execution_count": 95,
   "metadata": {},
   "outputs": [
    {
     "data": {
      "text/html": [
       "<div>\n",
       "<style scoped>\n",
       "    .dataframe tbody tr th:only-of-type {\n",
       "        vertical-align: middle;\n",
       "    }\n",
       "\n",
       "    .dataframe tbody tr th {\n",
       "        vertical-align: top;\n",
       "    }\n",
       "\n",
       "    .dataframe thead th {\n",
       "        text-align: right;\n",
       "    }\n",
       "</style>\n",
       "<table border=\"1\" class=\"dataframe\">\n",
       "  <thead>\n",
       "    <tr style=\"text-align: right;\">\n",
       "      <th></th>\n",
       "      <th>rating</th>\n",
       "    </tr>\n",
       "    <tr>\n",
       "      <th>country</th>\n",
       "      <th></th>\n",
       "    </tr>\n",
       "  </thead>\n",
       "  <tbody>\n",
       "    <tr>\n",
       "      <th>Australia</th>\n",
       "      <td>3.617526</td>\n",
       "    </tr>\n",
       "    <tr>\n",
       "      <th>Canada</th>\n",
       "      <td>3.739052</td>\n",
       "    </tr>\n",
       "    <tr>\n",
       "      <th>England</th>\n",
       "      <td>3.684480</td>\n",
       "    </tr>\n",
       "    <tr>\n",
       "      <th>United States</th>\n",
       "      <td>3.896614</td>\n",
       "    </tr>\n",
       "  </tbody>\n",
       "</table>\n",
       "</div>"
      ],
      "text/plain": [
       "                 rating\n",
       "country                \n",
       "Australia      3.617526\n",
       "Canada         3.739052\n",
       "England        3.684480\n",
       "United States  3.896614"
      ]
     },
     "execution_count": 95,
     "metadata": {},
     "output_type": "execute_result"
    },
    {
     "name": "stderr",
     "output_type": "stream",
     "text": [
      "Task exception was never retrieved\n",
      "future: <Task finished name='Task-2802' coro=<Client._gather.<locals>.wait() done, defined at c:\\Users\\Henrique\\anaconda3\\lib\\site-packages\\distributed\\client.py:1994> exception=AllExit()>\n",
      "Traceback (most recent call last):\n",
      "  File \"c:\\Users\\Henrique\\anaconda3\\lib\\site-packages\\distributed\\client.py\", line 1999, in wait\n",
      "    raise AllExit()\n",
      "distributed.client.AllExit\n"
     ]
    }
   ],
   "source": [
    "# average rating per country\n",
    "avg_ratings_country = user_ratings[[\"rating\", \"country\"]].groupby(\"country\").agg('mean')\n",
    "avg_ratings_country.head(10)"
   ]
  },
  {
   "cell_type": "code",
   "execution_count": 102,
   "metadata": {},
   "outputs": [],
   "source": [
    "user_ratings_usa = user_ratings[user_ratings.country == \"United States\"]\n",
    "avg_ratings_states = user_ratings_usa[[\"rating\", \"location\"]].groupby(\"location\").agg('mean')"
   ]
  },
  {
   "cell_type": "code",
   "execution_count": 104,
   "metadata": {},
   "outputs": [
    {
     "data": {
      "text/html": [
       "<div>\n",
       "<style scoped>\n",
       "    .dataframe tbody tr th:only-of-type {\n",
       "        vertical-align: middle;\n",
       "    }\n",
       "\n",
       "    .dataframe tbody tr th {\n",
       "        vertical-align: top;\n",
       "    }\n",
       "\n",
       "    .dataframe thead th {\n",
       "        text-align: right;\n",
       "    }\n",
       "</style>\n",
       "<table border=\"1\" class=\"dataframe\">\n",
       "  <thead>\n",
       "    <tr style=\"text-align: right;\">\n",
       "      <th></th>\n",
       "      <th>rating</th>\n",
       "    </tr>\n",
       "    <tr>\n",
       "      <th>location</th>\n",
       "      <th></th>\n",
       "    </tr>\n",
       "  </thead>\n",
       "  <tbody>\n",
       "    <tr>\n",
       "      <th>United States, Alabama</th>\n",
       "      <td>3.825257</td>\n",
       "    </tr>\n",
       "    <tr>\n",
       "      <th>United States, Alaska</th>\n",
       "      <td>3.939863</td>\n",
       "    </tr>\n",
       "    <tr>\n",
       "      <th>United States, Arizona</th>\n",
       "      <td>3.905700</td>\n",
       "    </tr>\n",
       "    <tr>\n",
       "      <th>United States, Arkansas</th>\n",
       "      <td>3.852708</td>\n",
       "    </tr>\n",
       "    <tr>\n",
       "      <th>United States, California</th>\n",
       "      <td>3.937874</td>\n",
       "    </tr>\n",
       "    <tr>\n",
       "      <th>United States, Colorado</th>\n",
       "      <td>3.894112</td>\n",
       "    </tr>\n",
       "    <tr>\n",
       "      <th>United States, Connecticut</th>\n",
       "      <td>3.943980</td>\n",
       "    </tr>\n",
       "    <tr>\n",
       "      <th>United States, Delaware</th>\n",
       "      <td>3.934253</td>\n",
       "    </tr>\n",
       "    <tr>\n",
       "      <th>United States, Florida</th>\n",
       "      <td>3.901896</td>\n",
       "    </tr>\n",
       "    <tr>\n",
       "      <th>United States, Georgia</th>\n",
       "      <td>3.874257</td>\n",
       "    </tr>\n",
       "    <tr>\n",
       "      <th>United States, Hawaii</th>\n",
       "      <td>3.844354</td>\n",
       "    </tr>\n",
       "    <tr>\n",
       "      <th>United States, Idaho</th>\n",
       "      <td>3.748092</td>\n",
       "    </tr>\n",
       "    <tr>\n",
       "      <th>United States, Illinois</th>\n",
       "      <td>3.926763</td>\n",
       "    </tr>\n",
       "    <tr>\n",
       "      <th>United States, Indiana</th>\n",
       "      <td>3.926240</td>\n",
       "    </tr>\n",
       "    <tr>\n",
       "      <th>United States, Iowa</th>\n",
       "      <td>3.869957</td>\n",
       "    </tr>\n",
       "    <tr>\n",
       "      <th>United States, Kansas</th>\n",
       "      <td>3.824760</td>\n",
       "    </tr>\n",
       "    <tr>\n",
       "      <th>United States, Kentucky</th>\n",
       "      <td>3.867345</td>\n",
       "    </tr>\n",
       "    <tr>\n",
       "      <th>United States, Louisiana</th>\n",
       "      <td>3.872511</td>\n",
       "    </tr>\n",
       "    <tr>\n",
       "      <th>United States, Maine</th>\n",
       "      <td>3.874567</td>\n",
       "    </tr>\n",
       "    <tr>\n",
       "      <th>United States, Maryland</th>\n",
       "      <td>3.877917</td>\n",
       "    </tr>\n",
       "    <tr>\n",
       "      <th>United States, Massachusetts</th>\n",
       "      <td>3.941464</td>\n",
       "    </tr>\n",
       "    <tr>\n",
       "      <th>United States, Michigan</th>\n",
       "      <td>3.878550</td>\n",
       "    </tr>\n",
       "    <tr>\n",
       "      <th>United States, Minnesota</th>\n",
       "      <td>3.915057</td>\n",
       "    </tr>\n",
       "    <tr>\n",
       "      <th>United States, Mississippi</th>\n",
       "      <td>3.770706</td>\n",
       "    </tr>\n",
       "    <tr>\n",
       "      <th>United States, Missouri</th>\n",
       "      <td>3.876035</td>\n",
       "    </tr>\n",
       "    <tr>\n",
       "      <th>United States, Montana</th>\n",
       "      <td>3.807464</td>\n",
       "    </tr>\n",
       "    <tr>\n",
       "      <th>United States, Nebraska</th>\n",
       "      <td>3.878581</td>\n",
       "    </tr>\n",
       "    <tr>\n",
       "      <th>United States, Nevada</th>\n",
       "      <td>3.832591</td>\n",
       "    </tr>\n",
       "    <tr>\n",
       "      <th>United States, New Hampshire</th>\n",
       "      <td>3.943824</td>\n",
       "    </tr>\n",
       "    <tr>\n",
       "      <th>United States, New Jersey</th>\n",
       "      <td>3.880184</td>\n",
       "    </tr>\n",
       "    <tr>\n",
       "      <th>United States, New Mexico</th>\n",
       "      <td>3.878639</td>\n",
       "    </tr>\n",
       "    <tr>\n",
       "      <th>United States, New York</th>\n",
       "      <td>3.897956</td>\n",
       "    </tr>\n",
       "    <tr>\n",
       "      <th>United States, North Carolina</th>\n",
       "      <td>3.920089</td>\n",
       "    </tr>\n",
       "    <tr>\n",
       "      <th>United States, North Dakota</th>\n",
       "      <td>3.808751</td>\n",
       "    </tr>\n",
       "    <tr>\n",
       "      <th>United States, Ohio</th>\n",
       "      <td>3.897288</td>\n",
       "    </tr>\n",
       "    <tr>\n",
       "      <th>United States, Oklahoma</th>\n",
       "      <td>3.860990</td>\n",
       "    </tr>\n",
       "    <tr>\n",
       "      <th>United States, Oregon</th>\n",
       "      <td>3.892619</td>\n",
       "    </tr>\n",
       "    <tr>\n",
       "      <th>United States, Pennsylvania</th>\n",
       "      <td>3.866065</td>\n",
       "    </tr>\n",
       "    <tr>\n",
       "      <th>United States, Rhode Island</th>\n",
       "      <td>3.927690</td>\n",
       "    </tr>\n",
       "    <tr>\n",
       "      <th>United States, South Carolina</th>\n",
       "      <td>3.862997</td>\n",
       "    </tr>\n",
       "    <tr>\n",
       "      <th>United States, South Dakota</th>\n",
       "      <td>3.747604</td>\n",
       "    </tr>\n",
       "    <tr>\n",
       "      <th>United States, Tennessee</th>\n",
       "      <td>3.832913</td>\n",
       "    </tr>\n",
       "    <tr>\n",
       "      <th>United States, Texas</th>\n",
       "      <td>3.859024</td>\n",
       "    </tr>\n",
       "    <tr>\n",
       "      <th>United States, Utah</th>\n",
       "      <td>3.831079</td>\n",
       "    </tr>\n",
       "    <tr>\n",
       "      <th>United States, Vermont</th>\n",
       "      <td>3.988568</td>\n",
       "    </tr>\n",
       "    <tr>\n",
       "      <th>United States, Virginia</th>\n",
       "      <td>3.871302</td>\n",
       "    </tr>\n",
       "    <tr>\n",
       "      <th>United States, Washington</th>\n",
       "      <td>3.862309</td>\n",
       "    </tr>\n",
       "    <tr>\n",
       "      <th>United States, West Virginia</th>\n",
       "      <td>3.849758</td>\n",
       "    </tr>\n",
       "    <tr>\n",
       "      <th>United States, Wisconsin</th>\n",
       "      <td>3.908780</td>\n",
       "    </tr>\n",
       "    <tr>\n",
       "      <th>United States, Wyoming</th>\n",
       "      <td>3.819800</td>\n",
       "    </tr>\n",
       "  </tbody>\n",
       "</table>\n",
       "</div>"
      ],
      "text/plain": [
       "                                 rating\n",
       "location                               \n",
       "United States, Alabama         3.825257\n",
       "United States, Alaska          3.939863\n",
       "United States, Arizona         3.905700\n",
       "United States, Arkansas        3.852708\n",
       "United States, California      3.937874\n",
       "United States, Colorado        3.894112\n",
       "United States, Connecticut     3.943980\n",
       "United States, Delaware        3.934253\n",
       "United States, Florida         3.901896\n",
       "United States, Georgia         3.874257\n",
       "United States, Hawaii          3.844354\n",
       "United States, Idaho           3.748092\n",
       "United States, Illinois        3.926763\n",
       "United States, Indiana         3.926240\n",
       "United States, Iowa            3.869957\n",
       "United States, Kansas          3.824760\n",
       "United States, Kentucky        3.867345\n",
       "United States, Louisiana       3.872511\n",
       "United States, Maine           3.874567\n",
       "United States, Maryland        3.877917\n",
       "United States, Massachusetts   3.941464\n",
       "United States, Michigan        3.878550\n",
       "United States, Minnesota       3.915057\n",
       "United States, Mississippi     3.770706\n",
       "United States, Missouri        3.876035\n",
       "United States, Montana         3.807464\n",
       "United States, Nebraska        3.878581\n",
       "United States, Nevada          3.832591\n",
       "United States, New Hampshire   3.943824\n",
       "United States, New Jersey      3.880184\n",
       "United States, New Mexico      3.878639\n",
       "United States, New York        3.897956\n",
       "United States, North Carolina  3.920089\n",
       "United States, North Dakota    3.808751\n",
       "United States, Ohio            3.897288\n",
       "United States, Oklahoma        3.860990\n",
       "United States, Oregon          3.892619\n",
       "United States, Pennsylvania    3.866065\n",
       "United States, Rhode Island    3.927690\n",
       "United States, South Carolina  3.862997\n",
       "United States, South Dakota    3.747604\n",
       "United States, Tennessee       3.832913\n",
       "United States, Texas           3.859024\n",
       "United States, Utah            3.831079\n",
       "United States, Vermont         3.988568\n",
       "United States, Virginia        3.871302\n",
       "United States, Washington      3.862309\n",
       "United States, West Virginia   3.849758\n",
       "United States, Wisconsin       3.908780\n",
       "United States, Wyoming         3.819800"
      ]
     },
     "execution_count": 104,
     "metadata": {},
     "output_type": "execute_result"
    }
   ],
   "source": [
    "avg_ratings_states.head(50)"
   ]
  },
  {
   "cell_type": "code",
   "execution_count": null,
   "metadata": {},
   "outputs": [],
   "source": []
  }
 ],
 "metadata": {
  "kernelspec": {
   "display_name": "Python 3.9.12 ('base')",
   "language": "python",
   "name": "python3"
  },
  "language_info": {
   "codemirror_mode": {
    "name": "ipython",
    "version": 3
   },
   "file_extension": ".py",
   "mimetype": "text/x-python",
   "name": "python",
   "nbconvert_exporter": "python",
   "pygments_lexer": "ipython3",
   "version": "3.9.12"
  },
  "orig_nbformat": 4,
  "vscode": {
   "interpreter": {
    "hash": "6bb2e1f904bb6e863f2b9088396373e4778cab81ffde8089fcb5238aee912dca"
   }
  }
 },
 "nbformat": 4,
 "nbformat_minor": 2
}
