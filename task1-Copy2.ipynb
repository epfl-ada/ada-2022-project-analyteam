{
 "cells": [
  {
   "cell_type": "code",
   "execution_count": 7,
   "id": "81425332",
   "metadata": {},
   "outputs": [],
   "source": [
    "import pandas as pd\n",
    "import time\n",
    "\n",
    "import categories as cat"
   ]
  },
  {
   "cell_type": "code",
   "execution_count": 8,
   "id": "1783307f",
   "metadata": {},
   "outputs": [],
   "source": [
    "ratings_parquets_path = 'RefinedData/BeerAdvocate//ratings.parquet'\n",
    "beers_parquet_path = \"RefinedData/BeerAdvocate/beers.parquet/\"\n",
    "users_parquet_path = \"RefinedData/BeerAdvocate/users.parquet/\""
   ]
  },
  {
   "cell_type": "code",
   "execution_count": 9,
   "id": "05bcc7d2",
   "metadata": {},
   "outputs": [
    {
     "name": "stdout",
     "output_type": "stream",
     "text": [
      "RATINGS DDF\n",
      "---------------------------------------------\n",
      "BEERS DDF\n",
      "---------------------------------------------\n",
      "USERS DDF\n",
      "---------------------------------------------\n"
     ]
    }
   ],
   "source": [
    "categorization = cat.Categorization(ratings_parquets_path, beers_parquet_path, users_parquet_path)"
   ]
  },
  {
   "cell_type": "code",
   "execution_count": 10,
   "id": "b6763e96",
   "metadata": {},
   "outputs": [
    {
     "name": "stdout",
     "output_type": "stream",
     "text": [
      "nb users :  153704\n"
     ]
    },
    {
     "data": {
      "text/plain": [
       "['nmann08.184925', 'stjamesgate.163714']"
      ]
     },
     "execution_count": 10,
     "metadata": {},
     "output_type": "execute_result"
    }
   ],
   "source": [
    "users = categorization.get_userIds_list()[:2]\n",
    "print(\"nb users : \",len(categorization.get_userIds_list()))\n",
    "users"
   ]
  },
  {
   "cell_type": "code",
   "execution_count": null,
   "id": "6b51a171",
   "metadata": {},
   "outputs": [
    {
     "name": "stdout",
     "output_type": "stream",
     "text": [
      "EXPLORER SCORE FOR USER  nmann08.184925\n"
     ]
    }
   ],
   "source": [
    "for user in users:\n",
    "    t = time.time()\n",
    "    print(\"summation :\",categorization.get_explorer_score(user))\n",
    "    print(\"Total time for user\",user,\":\",time.time()-t)\n",
    "    print(\"---------------------------------------------------------\")"
   ]
  },
  {
   "cell_type": "code",
   "execution_count": null,
   "id": "e3a814ee",
   "metadata": {},
   "outputs": [],
   "source": []
  },
  {
   "cell_type": "code",
   "execution_count": null,
   "id": "5d9c152f",
   "metadata": {},
   "outputs": [],
   "source": []
  }
 ],
 "metadata": {
  "kernelspec": {
   "display_name": "Python 3 (ipykernel)",
   "language": "python",
   "name": "python3"
  },
  "language_info": {
   "codemirror_mode": {
    "name": "ipython",
    "version": 3
   },
   "file_extension": ".py",
   "mimetype": "text/x-python",
   "name": "python",
   "nbconvert_exporter": "python",
   "pygments_lexer": "ipython3",
   "version": "3.10.6"
  }
 },
 "nbformat": 4,
 "nbformat_minor": 5
}
