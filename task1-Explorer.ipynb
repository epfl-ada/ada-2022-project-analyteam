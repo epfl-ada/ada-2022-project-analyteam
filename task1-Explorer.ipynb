{
 "cells": [
  {
   "cell_type": "code",
   "execution_count": 7,
   "id": "81425332",
   "metadata": {},
   "outputs": [],
   "source": [
    "import pandas as pd\n",
    "import time\n",
    "\n",
    "import categories as cat"
   ]
  },
  {
   "cell_type": "code",
   "execution_count": 8,
   "id": "1783307f",
   "metadata": {},
   "outputs": [],
   "source": [
    "ratings_parquets_path = 'RefinedData/BeerAdvocate//ratings.parquet'\n",
    "beers_parquet_path = \"RefinedData/BeerAdvocate/beers.parquet/\"\n",
    "users_parquet_path = \"RefinedData/BeerAdvocate/users.parquet/\""
   ]
  },
  {
   "cell_type": "code",
   "execution_count": 9,
   "id": "05bcc7d2",
   "metadata": {},
   "outputs": [
    {
     "name": "stdout",
     "output_type": "stream",
     "text": [
      "RATINGS DDF\n",
      "---------------------------------------------\n",
      "BEERS DDF\n",
      "---------------------------------------------\n",
      "USERS DDF\n",
      "---------------------------------------------\n"
     ]
    }
   ],
   "source": [
    "categorization = cat.Categorization(ratings_parquets_path, beers_parquet_path, users_parquet_path)"
   ]
  },
  {
   "cell_type": "code",
   "execution_count": 12,
   "id": "b6763e96",
   "metadata": {},
   "outputs": [
    {
     "name": "stdout",
     "output_type": "stream",
     "text": [
      "nb users :  153704\n"
     ]
    },
    {
     "data": {
      "text/plain": [
       "['nmann08.184925',\n",
       " 'stjamesgate.163714',\n",
       " 'mdagnew.19527',\n",
       " 'helloloser12345.10867',\n",
       " 'cypressbob.3708',\n",
       " 'hellpop65.48993',\n",
       " 'latarnik.52897',\n",
       " 'rochefortchris.697017',\n",
       " 'okcnittany.144868',\n",
       " 'jaydoc.265507']"
      ]
     },
     "execution_count": 12,
     "metadata": {},
     "output_type": "execute_result"
    }
   ],
   "source": [
    "users = categorization.get_userIds_list()[:10]\n",
    "print(\"nb users : \",len(categorization.get_userIds_list()))\n",
    "users"
   ]
  },
  {
   "cell_type": "code",
   "execution_count": 13,
   "id": "6b51a171",
   "metadata": {},
   "outputs": [
    {
     "name": "stdout",
     "output_type": "stream",
     "text": [
      "EXPLORER SCORE FOR USER  nmann08.184925\n",
      "   Time prep user beers :  39.18034768104553\n",
      "   Time for all beers id : 72.62546968460083\n",
      "   total time  93.94778800010681\n",
      "summation : 2158\n",
      "Total time for user nmann08.184925 : 206.01849055290222\n",
      "---------------------------------------------------------\n",
      "EXPLORER SCORE FOR USER  stjamesgate.163714\n",
      "   Time prep user beers :  36.332518100738525\n",
      "   Time for all beers id : 62.14327120780945\n",
      "   total time  18.411722898483276\n",
      "summation : 1195\n",
      "Total time for user stjamesgate.163714 : 116.99441003799438\n",
      "---------------------------------------------------------\n",
      "EXPLORER SCORE FOR USER  mdagnew.19527\n",
      "   Time prep user beers :  33.13981747627258\n",
      "   Time for all beers id : 45.854689598083496\n",
      "   total time  1.6689300537109375e-06\n",
      "summation : 0\n",
      "Total time for user mdagnew.19527 : 78.9950315952301\n",
      "---------------------------------------------------------\n",
      "EXPLORER SCORE FOR USER  helloloser12345.10867\n",
      "   Time prep user beers :  30.43056559562683\n",
      "   Time for all beers id : 41.10060477256775\n",
      "   total time  1.9073486328125e-06\n",
      "summation : 0\n",
      "Total time for user helloloser12345.10867 : 71.53159546852112\n",
      "---------------------------------------------------------\n",
      "EXPLORER SCORE FOR USER  cypressbob.3708\n",
      "   Time prep user beers :  27.575275659561157\n",
      "   Time for all beers id : 42.75471520423889\n",
      "   total time  1.9073486328125e-06\n",
      "summation : 0\n",
      "Total time for user cypressbob.3708 : 70.33041858673096\n",
      "---------------------------------------------------------\n",
      "EXPLORER SCORE FOR USER  hellpop65.48993\n",
      "   Time prep user beers :  27.963266611099243\n",
      "   Time for all beers id : 51.872642993927\n",
      "   total time  15.028272867202759\n",
      "summation : 263\n",
      "Total time for user hellpop65.48993 : 94.9726550579071\n",
      "---------------------------------------------------------\n",
      "EXPLORER SCORE FOR USER  latarnik.52897\n",
      "   Time prep user beers :  27.87932562828064\n",
      "   Time for all beers id : 53.206507444381714\n",
      "   total time  19.89182138442993\n",
      "summation : 531\n",
      "Total time for user latarnik.52897 : 101.09910297393799\n",
      "---------------------------------------------------------\n",
      "EXPLORER SCORE FOR USER  rochefortchris.697017\n",
      "   Time prep user beers :  27.89011001586914\n",
      "   Time for all beers id : 52.95364809036255\n",
      "   total time  12.532644987106323\n",
      "summation : 391\n",
      "Total time for user rochefortchris.697017 : 93.49262285232544\n",
      "---------------------------------------------------------\n",
      "EXPLORER SCORE FOR USER  okcnittany.144868\n",
      "   Time prep user beers :  30.386873722076416\n",
      "   Time for all beers id : 53.92027306556702\n",
      "   total time  7.44837212562561\n",
      "summation : 69\n",
      "Total time for user okcnittany.144868 : 91.8504548072815\n",
      "---------------------------------------------------------\n",
      "EXPLORER SCORE FOR USER  jaydoc.265507\n",
      "   Time prep user beers :  28.31246304512024\n",
      "   Time for all beers id : 58.15286469459534\n",
      "   total time  92.51110768318176\n",
      "summation : 3036\n",
      "Total time for user jaydoc.265507 : 179.28444147109985\n",
      "---------------------------------------------------------\n"
     ]
    }
   ],
   "source": [
    "for user in users:\n",
    "    t = time.time()\n",
    "    print(\"summation :\",categorization.get_explorer_score(user))\n",
    "    print(\"Total time for user\",user,\":\",time.time()-t)\n",
    "    print(\"---------------------------------------------------------\")"
   ]
  },
  {
   "cell_type": "code",
   "execution_count": null,
   "id": "3e1244d7",
   "metadata": {},
   "outputs": [],
   "source": []
  },
  {
   "cell_type": "code",
   "execution_count": 22,
   "id": "7d2d68f0",
   "metadata": {},
   "outputs": [
    {
     "data": {
      "text/html": [
       "<div>\n",
       "<style scoped>\n",
       "    .dataframe tbody tr th:only-of-type {\n",
       "        vertical-align: middle;\n",
       "    }\n",
       "\n",
       "    .dataframe tbody tr th {\n",
       "        vertical-align: top;\n",
       "    }\n",
       "\n",
       "    .dataframe thead th {\n",
       "        text-align: right;\n",
       "    }\n",
       "</style>\n",
       "<table border=\"1\" class=\"dataframe\">\n",
       "  <thead>\n",
       "    <tr style=\"text-align: right;\">\n",
       "      <th></th>\n",
       "      <th>id</th>\n",
       "      <th>user_id</th>\n",
       "      <th>date</th>\n",
       "      <th>rating</th>\n",
       "    </tr>\n",
       "  </thead>\n",
       "  <tbody>\n",
       "    <tr>\n",
       "      <th>0</th>\n",
       "      <td>111</td>\n",
       "      <td>11</td>\n",
       "      <td>10</td>\n",
       "      <td>0</td>\n",
       "    </tr>\n",
       "    <tr>\n",
       "      <th>1</th>\n",
       "      <td>111</td>\n",
       "      <td>22</td>\n",
       "      <td>1</td>\n",
       "      <td>1</td>\n",
       "    </tr>\n",
       "    <tr>\n",
       "      <th>2</th>\n",
       "      <td>111</td>\n",
       "      <td>33</td>\n",
       "      <td>2</td>\n",
       "      <td>1</td>\n",
       "    </tr>\n",
       "    <tr>\n",
       "      <th>3</th>\n",
       "      <td>333</td>\n",
       "      <td>44</td>\n",
       "      <td>9</td>\n",
       "      <td>5</td>\n",
       "    </tr>\n",
       "    <tr>\n",
       "      <th>4</th>\n",
       "      <td>444</td>\n",
       "      <td>55</td>\n",
       "      <td>8</td>\n",
       "      <td>6</td>\n",
       "    </tr>\n",
       "  </tbody>\n",
       "</table>\n",
       "</div>"
      ],
      "text/plain": [
       "    id  user_id  date  rating\n",
       "0  111       11    10       0\n",
       "1  111       22     1       1\n",
       "2  111       33     2       1\n",
       "3  333       44     9       5\n",
       "4  444       55     8       6"
      ]
     },
     "execution_count": 22,
     "metadata": {},
     "output_type": "execute_result"
    }
   ],
   "source": [
    "df =pd.DataFrame(data={'id':[111,111,111,333,444],'user_id':[11,22,33,44,55],'date': [10,1, 2,9,8], 'rating': [0,1, 1,5,6]}) \n",
    "df"
   ]
  },
  {
   "cell_type": "code",
   "execution_count": 23,
   "id": "e43139a0",
   "metadata": {},
   "outputs": [
    {
     "data": {
      "text/html": [
       "<div>\n",
       "<style scoped>\n",
       "    .dataframe tbody tr th:only-of-type {\n",
       "        vertical-align: middle;\n",
       "    }\n",
       "\n",
       "    .dataframe tbody tr th {\n",
       "        vertical-align: top;\n",
       "    }\n",
       "\n",
       "    .dataframe thead th {\n",
       "        text-align: right;\n",
       "    }\n",
       "</style>\n",
       "<table border=\"1\" class=\"dataframe\">\n",
       "  <thead>\n",
       "    <tr style=\"text-align: right;\">\n",
       "      <th></th>\n",
       "      <th>user_id</th>\n",
       "      <th>date</th>\n",
       "      <th>rating</th>\n",
       "    </tr>\n",
       "    <tr>\n",
       "      <th>id</th>\n",
       "      <th></th>\n",
       "      <th></th>\n",
       "      <th></th>\n",
       "    </tr>\n",
       "  </thead>\n",
       "  <tbody>\n",
       "    <tr>\n",
       "      <th>111</th>\n",
       "      <td>66</td>\n",
       "      <td>13</td>\n",
       "      <td>2</td>\n",
       "    </tr>\n",
       "    <tr>\n",
       "      <th>333</th>\n",
       "      <td>44</td>\n",
       "      <td>9</td>\n",
       "      <td>5</td>\n",
       "    </tr>\n",
       "    <tr>\n",
       "      <th>444</th>\n",
       "      <td>55</td>\n",
       "      <td>8</td>\n",
       "      <td>6</td>\n",
       "    </tr>\n",
       "  </tbody>\n",
       "</table>\n",
       "</div>"
      ],
      "text/plain": [
       "     user_id  date  rating\n",
       "id                        \n",
       "111       66    13       2\n",
       "333       44     9       5\n",
       "444       55     8       6"
      ]
     },
     "execution_count": 23,
     "metadata": {},
     "output_type": "execute_result"
    }
   ],
   "source": [
    "df.groupby('id').sum()"
   ]
  },
  {
   "cell_type": "code",
   "execution_count": null,
   "id": "929e6515",
   "metadata": {},
   "outputs": [],
   "source": []
  }
 ],
 "metadata": {
  "kernelspec": {
   "display_name": "Python 3 (ipykernel)",
   "language": "python",
   "name": "python3"
  },
  "language_info": {
   "codemirror_mode": {
    "name": "ipython",
    "version": 3
   },
   "file_extension": ".py",
   "mimetype": "text/x-python",
   "name": "python",
   "nbconvert_exporter": "python",
   "pygments_lexer": "ipython3",
   "version": "3.10.6"
  }
 },
 "nbformat": 4,
 "nbformat_minor": 5
}
