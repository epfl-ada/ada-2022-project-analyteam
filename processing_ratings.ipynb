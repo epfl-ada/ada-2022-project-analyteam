{
 "cells": [
  {
   "cell_type": "markdown",
   "metadata": {},
   "source": [
    "## BeerAdvocate: Descriptive Analysis and Processing\n",
    "\n",
    "---\n",
    "\n",
    "**Processing and Transformations Summary of \"users.csv\"**\n",
    "\n",
    "- **Renaming Columns**:     \"beer_id\" to \"bid\",\n",
    "    \"user_id\" to \"uid\",\n",
    "    \"review\" to \"has_review\",\n",
    "    \"text\" to \"review\"\n",
    "- **Converting Data Types**: \n",
    "    \"bid\" to np.int32,\n",
    "    \"uid\" to \"str\",\n",
    "    \"has_review\" to \"bool\"\n",
    "- **Taking only the review of 4 contries of interest\"**: \"United States\", \"Canada\", \"England\", \"Australia\" thus loosing 9% of the ratings\n",
    "\n",
    "---\n",
    "\n",
    "**Descriptive Analysis Summary of \"users.csv\"**\n",
    "\n",
    "* **Missing values**: none, except for \"location\" that may contain \"nan\" (previously converted to None) and \"joined\" that may contain NaN (previously implictely converted to NaT).\n",
    "\n",
    "<br>\n",
    "\n",
    "* **ratings**:\n",
    "  - 8'393'032 ratings in total.\n",
    "  - The average of the ratings is 3.89 with a standard deviation of 0.61\n",
    "  - Approximatly follow the distribution $\\mathcal{N}(3.89,0.61^{2})\\ $\n",
    "\n",
    "* **reviews**:\n",
    "  - 2'414'889 review in total\n",
    "  - average number of char is $\\approx$ 680\n",
    "  - average number of word is $\\approx$ 119\n",
    " \n",
    "\n",
    "\n",
    "---\n",
    "\n"
   ]
  },
  {
   "cell_type": "code",
   "execution_count": 1,
   "metadata": {},
   "outputs": [],
   "source": [
    "from setup import dask_init, dask_shutdown\n",
    "import dask.distributed as dd\n",
    "import dask.dataframe as ddf\n",
    "\n",
    "import pandas as pd\n",
    "import numpy as np\n",
    "\n",
    "import ingestion as ing\n",
    "import processing as prc\n",
    "\n",
    "import datetime as dt\n",
    "\n",
    "import seaborn as sns\n",
    "import matplotlib.pyplot as plt\n",
    "%matplotlib inline\n",
    "\n",
    "%load_ext autoreload\n",
    "%autoreload 2"
   ]
  },
  {
   "cell_type": "markdown",
   "metadata": {},
   "source": [
    "# setup"
   ]
  },
  {
   "cell_type": "code",
   "execution_count": 2,
   "metadata": {},
   "outputs": [
    {
     "data": {
      "application/vnd.jupyter.widget-view+json": {
       "model_id": "1b467ab7339c4d4ea63d56c1d3fda00e",
       "version_major": 2,
       "version_minor": 0
      },
      "text/plain": [
       "Tab(children=(HTML(value='<div class=\"jp-RenderedHTMLCommon jp-RenderedHTML jp-mod-trusted jp-OutputArea-outpu…"
      ]
     },
     "metadata": {},
     "output_type": "display_data"
    }
   ],
   "source": [
    "# PANDAS SETUP\n",
    "pd.options.mode.use_inf_as_na = True\n",
    "\n",
    "# DASK SETUP\n",
    "client, cluster = dask_init()\n",
    "cluster"
   ]
  },
  {
   "cell_type": "markdown",
   "metadata": {},
   "source": [
    "### BeerAdvocate - ratings.csv (REFINED ratings.txt)"
   ]
  },
  {
   "cell_type": "markdown",
   "metadata": {},
   "source": [
    "# [I] Loading the Data"
   ]
  },
  {
   "cell_type": "code",
   "execution_count": null,
   "metadata": {},
   "outputs": [],
   "source": []
  },
  {
   "cell_type": "code",
   "execution_count": 3,
   "metadata": {},
   "outputs": [
    {
     "data": {
      "text/html": [
       "<div>\n",
       "<style scoped>\n",
       "    .dataframe tbody tr th:only-of-type {\n",
       "        vertical-align: middle;\n",
       "    }\n",
       "\n",
       "    .dataframe tbody tr th {\n",
       "        vertical-align: top;\n",
       "    }\n",
       "\n",
       "    .dataframe thead th {\n",
       "        text-align: right;\n",
       "    }\n",
       "</style>\n",
       "<table border=\"1\" class=\"dataframe\">\n",
       "  <thead>\n",
       "    <tr style=\"text-align: right;\">\n",
       "      <th></th>\n",
       "      <th>date</th>\n",
       "      <th>beer_id</th>\n",
       "      <th>user_id</th>\n",
       "      <th>appearance</th>\n",
       "      <th>aroma</th>\n",
       "      <th>palate</th>\n",
       "      <th>taste</th>\n",
       "      <th>overall</th>\n",
       "      <th>rating</th>\n",
       "      <th>review</th>\n",
       "      <th>text</th>\n",
       "    </tr>\n",
       "  </thead>\n",
       "  <tbody>\n",
       "    <tr>\n",
       "      <th>0</th>\n",
       "      <td>1.440065e+09</td>\n",
       "      <td>142544.0</td>\n",
       "      <td>nmann08.184925</td>\n",
       "      <td>3.25</td>\n",
       "      <td>2.75</td>\n",
       "      <td>3.25</td>\n",
       "      <td>2.75</td>\n",
       "      <td>3.0</td>\n",
       "      <td>2.88</td>\n",
       "      <td>True</td>\n",
       "      <td>From a bottle, pours a piss yellow color with ...</td>\n",
       "    </tr>\n",
       "    <tr>\n",
       "      <th>1</th>\n",
       "      <td>1.235128e+09</td>\n",
       "      <td>19590.0</td>\n",
       "      <td>stjamesgate.163714</td>\n",
       "      <td>3.00</td>\n",
       "      <td>3.50</td>\n",
       "      <td>3.50</td>\n",
       "      <td>4.00</td>\n",
       "      <td>3.5</td>\n",
       "      <td>3.67</td>\n",
       "      <td>True</td>\n",
       "      <td>Pours pale copper with a thin head that quickl...</td>\n",
       "    </tr>\n",
       "    <tr>\n",
       "      <th>2</th>\n",
       "      <td>1.142248e+09</td>\n",
       "      <td>19590.0</td>\n",
       "      <td>mdagnew.19527</td>\n",
       "      <td>4.00</td>\n",
       "      <td>3.50</td>\n",
       "      <td>3.50</td>\n",
       "      <td>4.00</td>\n",
       "      <td>3.5</td>\n",
       "      <td>3.73</td>\n",
       "      <td>True</td>\n",
       "      <td>500ml Bottle bought from The Vintage, Antrim.....</td>\n",
       "    </tr>\n",
       "    <tr>\n",
       "      <th>3</th>\n",
       "      <td>1.101899e+09</td>\n",
       "      <td>19590.0</td>\n",
       "      <td>helloloser12345.10867</td>\n",
       "      <td>4.00</td>\n",
       "      <td>3.50</td>\n",
       "      <td>4.00</td>\n",
       "      <td>4.00</td>\n",
       "      <td>4.5</td>\n",
       "      <td>3.98</td>\n",
       "      <td>True</td>\n",
       "      <td>Serving: 500ml brown bottlePour: Good head wit...</td>\n",
       "    </tr>\n",
       "    <tr>\n",
       "      <th>4</th>\n",
       "      <td>1.093860e+09</td>\n",
       "      <td>19590.0</td>\n",
       "      <td>cypressbob.3708</td>\n",
       "      <td>4.00</td>\n",
       "      <td>4.00</td>\n",
       "      <td>4.00</td>\n",
       "      <td>4.00</td>\n",
       "      <td>4.0</td>\n",
       "      <td>4.00</td>\n",
       "      <td>True</td>\n",
       "      <td>500ml bottlePours with a light, slightly hazy ...</td>\n",
       "    </tr>\n",
       "  </tbody>\n",
       "</table>\n",
       "</div>"
      ],
      "text/plain": [
       "           date   beer_id                user_id  appearance  aroma  palate  \\\n",
       "0  1.440065e+09  142544.0         nmann08.184925        3.25   2.75    3.25   \n",
       "1  1.235128e+09   19590.0     stjamesgate.163714        3.00   3.50    3.50   \n",
       "2  1.142248e+09   19590.0          mdagnew.19527        4.00   3.50    3.50   \n",
       "3  1.101899e+09   19590.0  helloloser12345.10867        4.00   3.50    4.00   \n",
       "4  1.093860e+09   19590.0        cypressbob.3708        4.00   4.00    4.00   \n",
       "\n",
       "   taste  overall  rating  review  \\\n",
       "0   2.75      3.0    2.88    True   \n",
       "1   4.00      3.5    3.67    True   \n",
       "2   4.00      3.5    3.73    True   \n",
       "3   4.00      4.5    3.98    True   \n",
       "4   4.00      4.0    4.00    True   \n",
       "\n",
       "                                                text  \n",
       "0  From a bottle, pours a piss yellow color with ...  \n",
       "1  Pours pale copper with a thin head that quickl...  \n",
       "2  500ml Bottle bought from The Vintage, Antrim.....  \n",
       "3  Serving: 500ml brown bottlePour: Good head wit...  \n",
       "4  500ml bottlePours with a light, slightly hazy ...  "
      ]
     },
     "execution_count": 3,
     "metadata": {},
     "output_type": "execute_result"
    }
   ],
   "source": [
    "__RATINGS_COLS=[\n",
    "    \"date\",\n",
    "    \"beer_id\",\n",
    "    \"user_id\",\n",
    "    \"appearance\",\n",
    "    \"aroma\",\n",
    "    \"palate\",\n",
    "    \"taste\",\n",
    "    \"overall\",\n",
    "    \"rating\",\n",
    "    \"review\",\n",
    "    \"text\"\n",
    "]\n",
    "ratings_ddf = ing.read_csv(\n",
    "        path=ing.build_path(folderind=\"ba\", filename=\"ratings\", basepath=ing.REFINED_PATH),\n",
    "        assume_missing=True,\n",
    "        keepcols=__RATINGS_COLS,\n",
    "        mode=\"lazy\")\n",
    "\n",
    "ratings_ddf.head(5)"
   ]
  },
  {
   "cell_type": "code",
   "execution_count": 4,
   "metadata": {},
   "outputs": [
    {
     "name": "stdout",
     "output_type": "stream",
     "text": [
      "8393032\n"
     ]
    },
    {
     "data": {
      "text/plain": [
       "date          float64\n",
       "beer_id       float64\n",
       "user_id        object\n",
       "appearance    float64\n",
       "aroma         float64\n",
       "palate        float64\n",
       "taste         float64\n",
       "overall       float64\n",
       "rating        float64\n",
       "review           bool\n",
       "text           object\n",
       "dtype: object"
      ]
     },
     "execution_count": 4,
     "metadata": {},
     "output_type": "execute_result"
    }
   ],
   "source": [
    "\n",
    "print(len(ratings_ddf.index.compute()))\n",
    "ratings_ddf.dtypes"
   ]
  },
  {
   "cell_type": "markdown",
   "metadata": {},
   "source": [
    "# [II] Impact of Processing"
   ]
  },
  {
   "cell_type": "code",
   "execution_count": 5,
   "metadata": {},
   "outputs": [],
   "source": [
    "__RATINGS_COLS_RENAMING = {\n",
    "    \"beer_id\": \"bid\",\n",
    "    \"user_id\": \"uid\",\n",
    "    \"review\" : \"has_review\",\n",
    "    \"text\" : \"review\"\n",
    "}\n",
    "ratings_ddf = ratings_ddf.rename(columns=__RATINGS_COLS_RENAMING)\n",
    "new_rating_colnames = [__RATINGS_COLS_RENAMING.get(old_colname, old_colname) for old_colname in __RATINGS_COLS]\n",
    "ratings_ddf = ratings_ddf[new_rating_colnames]"
   ]
  },
  {
   "cell_type": "code",
   "execution_count": 6,
   "metadata": {},
   "outputs": [
    {
     "name": "stdout",
     "output_type": "stream",
     "text": [
      "What's the number of ratings with unknown beers ?\n",
      "0\n"
     ]
    }
   ],
   "source": [
    "print(\"What's the number of ratings with unknown beers ?\")\n",
    "\n",
    "# drop beer ratings with missing beer ID since we do not know to which beer the rating corresponds\n",
    "discarded= len(ratings_ddf[ratings_ddf.bid.isnull()].index)\n",
    "print(discarded)\n"
   ]
  },
  {
   "cell_type": "code",
   "execution_count": 7,
   "metadata": {},
   "outputs": [
    {
     "name": "stdout",
     "output_type": "stream",
     "text": [
      "What's the number of ratings with unknown users ?\n",
      "0\n"
     ]
    }
   ],
   "source": [
    "print(\"What's the number of ratings with unknown users ?\")\n",
    "\n",
    "# drop beer ratings with missing beer ID since we do not know to which user the rating corresponds\n",
    "discarded= len(ratings_ddf[ratings_ddf.uid.isnull()].index)\n",
    "print(discarded)"
   ]
  },
  {
   "cell_type": "code",
   "execution_count": 8,
   "metadata": {},
   "outputs": [
    {
     "name": "stdout",
     "output_type": "stream",
     "text": [
      "What's the number of ratings with unknown score ?\n",
      "0\n"
     ]
    }
   ],
   "source": [
    "print(\"What's the number of ratings with unknown score ?\")\n",
    "\n",
    "# keep only ratings with computable beer rating\n",
    "# a beer rating is computable <=> all beer aspects' ratings are available\n",
    "# if the beer rating is available, do not drop the rating\n",
    "__RATING_ASPECTS = [\n",
    "    \"appearance\", \"aroma\", \"palate\", \"taste\", \"overall\"]\n",
    "computable_rating_mask = True # (False | X) == X\n",
    "for rating_aspect in __RATING_ASPECTS:\n",
    "    computable_rating_mask &= ratings_ddf[rating_aspect].notnull()\n",
    "discarded = (~(computable_rating_mask | ratings_ddf.rating.notnull())).sum().compute()\n",
    "print(discarded)\n"
   ]
  },
  {
   "cell_type": "code",
   "execution_count": 9,
   "metadata": {},
   "outputs": [],
   "source": [
    "users_ddf = ing.read_parquet(\n",
    "            path=ing.build_path(folderind=\"ba\", filename=\"users\", ext=\".parquet\", basepath=ing.REFINED_PATH),\n",
    "            mode=\"lazy\"\n",
    "        )\n",
    "users_w_ratings_ddf = ddf.merge(\n",
    "        ratings_ddf,\n",
    "        users_ddf, \n",
    "        how=\"inner\", left_on=\"uid\", right_on=\"uid\")\n",
    "\n",
    "ratings_ddf = ratings_ddf[new_rating_colnames] # drops the join columns"
   ]
  },
  {
   "cell_type": "code",
   "execution_count": 13,
   "metadata": {},
   "outputs": [
    {
     "name": "stdout",
     "output_type": "stream",
     "text": [
      "What's the percentage of ratings discarded when we select only ratings of users from the countries of interest?\n",
      "8.79%\n"
     ]
    }
   ],
   "source": [
    "print('What\\'s the percentage of ratings discarded when we select only ratings of users from the countries of interest?')\n",
    "__COUNTRIES_OF_INTEREST = [\n",
    "    \"United States\", \"Canada\", \"England\", \"Australia\"]\n",
    "discarded=1-len(users_w_ratings_ddf[users_w_ratings_ddf.country.isin(__COUNTRIES_OF_INTEREST)].index)/len(users_w_ratings_ddf.index)\n",
    "print(\"{}%\".format(round(discarded*100, 2)))"
   ]
  },
  {
   "cell_type": "markdown",
   "metadata": {},
   "source": [
    "# [III] Descriptive Statistics & Distributions"
   ]
  },
  {
   "cell_type": "code",
   "execution_count": 25,
   "metadata": {},
   "outputs": [
    {
     "name": "stdout",
     "output_type": "stream",
     "text": [
      "processing ratings\n"
     ]
    },
    {
     "data": {
      "application/vnd.jupyter.widget-view+json": {
       "model_id": "7146b0e92cad4fbc852f20b306e52aee",
       "version_major": 2,
       "version_minor": 0
      },
      "text/plain": [
       "Downloading:   0%|          | 0.00/5.60k [00:00<?, ?B/s]"
      ]
     },
     "metadata": {},
     "output_type": "display_data"
    },
    {
     "name": "stdout",
     "output_type": "stream",
     "text": [
      "correct_before\n",
      "correct_before1\n",
      "0    From a bottle, pours a piss yellow color with ...\n",
      "0    Pours a hazy golden color. Small white develop...\n",
      "0    650ml bomber poured into tulip 29/9/12A hazed ...\n",
      "0    12oz bottle poured into my new Darkness tulip....\n",
      "0    22oz bottle $5. I had this once years ago but ...\n",
      "0    Into Duvel tulip.A- fills the glass up with he...\n",
      "0    Pours a crystal clear copper color with a redd...\n",
      "0    22oz bottle. Pours an almost black color with ...\n",
      "0    This IPA pours an orange color with a thick, a...\n",
      "0    Reviewed 12/8/2007 (bottled 2007):Pours a dark...\n",
      "0    Poured from a 12 oz. bottle into a pilsner gla...\n",
      "0    22oz. Bottle poured into a pint glass.Appearan...\n",
      "0    Big cherries and great look. I've found this t...\n",
      "0    Cloudy yellow in appearance with a touch of br...\n",
      "0    Just moving to Florida! Have had this before b...\n",
      "0    Pours a beautiful deep brown, with a thin but ...\n",
      "0    Rogue Chocolate Stout is malty chocolate delic...\n",
      "0    Many thanks to woodychandler for yet another c...\n",
      "0    Color: sits burnished gold to dark copper with...\n",
      "0    The 2007 Vintage from a Tulip at 50 F.A thick ...\n",
      "Name: review, dtype: object\n",
      "correct_after1\n",
      "DF\n",
      "                                                text\n",
      "0  From a bottle, pours a piss yellow color with ...\n",
      "1  On draft, pours a dark brown with red hues, wi...\n",
      "2  On draft, pours an opaque black with a light b...\n",
      "3  On draft, pours a translucent but very dark re...\n",
      "4  On draft, pours a dark brown, pretty much opaq...\n",
      "(2414889, 1)\n",
      "HEAD\n",
      "                                                text\n",
      "0  From a bottle, pours a piss yellow color with ...\n",
      "1  On draft, pours a dark brown with red hues, wi...\n",
      "2  On draft, pours an opaque black with a light b...\n",
      "3  On draft, pours a translucent but very dark re...\n",
      "4  On draft, pours a dark brown, pretty much opaq...\n",
      "5  On draft, pours a hazy pale yellow, very froth...\n",
      "6  On draft, pours a slightly hazy pale orange, w...\n",
      "7  On draft, pours a slightly hazy gold yellow, g...\n",
      "8  Pours pale copper with a thin head that quickl...\n",
      "9  On cask at the Hilden Beer + Music Festival, '...\n"
     ]
    },
    {
     "data": {
      "application/vnd.jupyter.widget-view+json": {
       "model_id": "5e94b9b7665345a4977fe206b539cee0",
       "version_major": 2,
       "version_minor": 0
      },
      "text/plain": [
       "  0%|          | 0/75466 [00:00<?, ?it/s]"
      ]
     },
     "metadata": {},
     "output_type": "display_data"
    },
    {
     "ename": "KeyboardInterrupt",
     "evalue": "",
     "output_type": "error",
     "traceback": [
      "\u001b[1;31m---------------------------------------------------------------------------\u001b[0m",
      "\u001b[1;31mKeyboardInterrupt\u001b[0m                         Traceback (most recent call last)",
      "Cell \u001b[1;32mIn [25], line 3\u001b[0m\n\u001b[0;32m      1\u001b[0m \u001b[39mfrom\u001b[39;00m \u001b[39mprocessing\u001b[39;00m \u001b[39mimport\u001b[39;00m beers_pipeline, users_pipeline, ratings_pipeline\n\u001b[0;32m      2\u001b[0m \u001b[39mprint\u001b[39m(\u001b[39m\"\u001b[39m\u001b[39mprocessing ratings\u001b[39m\u001b[39m\"\u001b[39m)\n\u001b[1;32m----> 3\u001b[0m ratings_pipeline(persist\u001b[39m=\u001b[39;49m\u001b[39mTrue\u001b[39;49;00m, users_persisted\u001b[39m=\u001b[39;49m\u001b[39mTrue\u001b[39;49;00m)\n\u001b[0;32m      4\u001b[0m \u001b[39mprint\u001b[39m(\u001b[39m\"\u001b[39m\u001b[39mdone! persisted in ./RefinedData/BeerAdvocate/ratings.parquet\u001b[39m\u001b[39m\"\u001b[39m)\n",
      "File \u001b[1;32mc:\\Users\\Henrique\\Desktop\\EPFL_MA1\\ADA\\project\\project_milestone2\\git\\ada-2022-project-analyteam\\processing.py:278\u001b[0m, in \u001b[0;36mratings_pipeline\u001b[1;34m(persist, **kwargs)\u001b[0m\n\u001b[0;32m    275\u001b[0m ratings_ddf[\u001b[39m\"\u001b[39m\u001b[39mreview\u001b[39m\u001b[39m\"\u001b[39m] \u001b[39m=\u001b[39m ratings_ddf\u001b[39m.\u001b[39mreview\u001b[39m.\u001b[39mapply(to_none_ifnot_str, meta\u001b[39m=\u001b[39m(\u001b[39m\"\u001b[39m\u001b[39mreview\u001b[39m\u001b[39m\"\u001b[39m, \u001b[39m\"\u001b[39m\u001b[39mobject\u001b[39m\u001b[39m\"\u001b[39m))\n\u001b[0;32m    277\u001b[0m \u001b[39m# add sentiment column\u001b[39;00m\n\u001b[1;32m--> 278\u001b[0m ratings_ddf \u001b[39m=\u001b[39m batch_sentiment_pipeline(ratings_ddf)\n\u001b[0;32m    279\u001b[0m \u001b[39m# persist\u001b[39;00m\n\u001b[0;32m    280\u001b[0m \u001b[39mif\u001b[39;00m persist:\n",
      "File \u001b[1;32mc:\\Users\\Henrique\\Desktop\\EPFL_MA1\\ADA\\project\\project_milestone2\\git\\ada-2022-project-analyteam\\processing.py:482\u001b[0m, in \u001b[0;36mbatch_sentiment_pipeline\u001b[1;34m(ratings_ddf)\u001b[0m\n\u001b[0;32m    480\u001b[0m \u001b[39mprint\u001b[39m(\u001b[39m\"\u001b[39m\u001b[39mcorrect_after1\u001b[39m\u001b[39m\"\u001b[39m)\n\u001b[0;32m    481\u001b[0m \u001b[39m#pos_sentiments = pos_sentiment_in(reviews.values.compute().tolist())\u001b[39;00m\n\u001b[1;32m--> 482\u001b[0m pos_sentiments \u001b[39m=\u001b[39m pos_sentiment_in(reviews)\n\u001b[0;32m    484\u001b[0m sentiment_ddf[with_reviews, \u001b[39m\"\u001b[39m\u001b[39ms+\u001b[39m\u001b[39m\"\u001b[39m] \u001b[39m=\u001b[39m pos_sentiments\n\u001b[0;32m    485\u001b[0m sentiment_ddf[with_reviews, \u001b[39m\"\u001b[39m\u001b[39ms-\u001b[39m\u001b[39m\"\u001b[39m] \u001b[39m=\u001b[39m \u001b[39m1\u001b[39m \u001b[39m-\u001b[39m sentiment_ddf[with_reviews, \u001b[39m\"\u001b[39m\u001b[39ms+\u001b[39m\u001b[39m\"\u001b[39m]\n",
      "File \u001b[1;32mc:\\Users\\Henrique\\Desktop\\EPFL_MA1\\ADA\\project\\project_milestone2\\git\\ada-2022-project-analyteam\\processing.py:468\u001b[0m, in \u001b[0;36mbatch_sentiment_pipeline.<locals>.pos_sentiment_in\u001b[1;34m(reviews)\u001b[0m\n\u001b[0;32m    466\u001b[0m \u001b[39mdef\u001b[39;00m \u001b[39mpos_sentiment_in\u001b[39m(reviews):\n\u001b[0;32m    467\u001b[0m     \u001b[39m#label, score = analyser.compute(text)\u001b[39;00m\n\u001b[1;32m--> 468\u001b[0m     labels_scores \u001b[39m=\u001b[39m analyser\u001b[39m.\u001b[39;49mbatch_compute(reviews)\n\u001b[0;32m    469\u001b[0m     pos_sentiments \u001b[39m=\u001b[39m [score \u001b[39mif\u001b[39;00m label \u001b[39m==\u001b[39m \u001b[39m\"\u001b[39m\u001b[39mPOSITIVE\u001b[39m\u001b[39m\"\u001b[39m \u001b[39melse\u001b[39;00m \u001b[39m1\u001b[39m \u001b[39m-\u001b[39m score \u001b[39mfor\u001b[39;00m label, score \u001b[39min\u001b[39;00m labels_scores]\n\u001b[0;32m    470\u001b[0m     \u001b[39mprint\u001b[39m(pos_sentiments[:\u001b[39m10\u001b[39m])\n",
      "File \u001b[1;32mc:\\Users\\Henrique\\Desktop\\EPFL_MA1\\ADA\\project\\project_milestone2\\git\\ada-2022-project-analyteam\\nlp.py:99\u001b[0m, in \u001b[0;36mbatch_compute\u001b[1;34m(self, texts)\u001b[0m\n\u001b[0;32m     96\u001b[0m     sentiments \u001b[39m=\u001b[39m out\n\u001b[0;32m     97\u001b[0m \u001b[39m#sentiments = self.__pipeline(texts, device, truncation=True)\u001b[39;00m\n\u001b[1;32m---> 99\u001b[0m \u001b[39mreturn\u001b[39;00m [(sentiment[\u001b[39m\"\u001b[39m\u001b[39mlabel\u001b[39m\u001b[39m\"\u001b[39m], sentiment[\u001b[39m\"\u001b[39m\u001b[39mscore\u001b[39m\u001b[39m\"\u001b[39m]) \u001b[39mfor\u001b[39;00m sentiment \u001b[39min\u001b[39;00m sentiments]\n",
      "File \u001b[1;32mc:\\Users\\Henrique\\anaconda3\\lib\\site-packages\\tqdm\\notebook.py:259\u001b[0m, in \u001b[0;36mtqdm_notebook.__iter__\u001b[1;34m(self)\u001b[0m\n\u001b[0;32m    257\u001b[0m \u001b[39mtry\u001b[39;00m:\n\u001b[0;32m    258\u001b[0m     it \u001b[39m=\u001b[39m \u001b[39msuper\u001b[39m(tqdm_notebook, \u001b[39mself\u001b[39m)\u001b[39m.\u001b[39m\u001b[39m__iter__\u001b[39m()\n\u001b[1;32m--> 259\u001b[0m     \u001b[39mfor\u001b[39;00m obj \u001b[39min\u001b[39;00m it:\n\u001b[0;32m    260\u001b[0m         \u001b[39m# return super(tqdm...) will not catch exception\u001b[39;00m\n\u001b[0;32m    261\u001b[0m         \u001b[39myield\u001b[39;00m obj\n\u001b[0;32m    262\u001b[0m \u001b[39m# NB: except ... [ as ...] breaks IPython async KeyboardInterrupt\u001b[39;00m\n",
      "File \u001b[1;32mc:\\Users\\Henrique\\anaconda3\\lib\\site-packages\\tqdm\\std.py:1195\u001b[0m, in \u001b[0;36mtqdm.__iter__\u001b[1;34m(self)\u001b[0m\n\u001b[0;32m   1192\u001b[0m time \u001b[39m=\u001b[39m \u001b[39mself\u001b[39m\u001b[39m.\u001b[39m_time\n\u001b[0;32m   1194\u001b[0m \u001b[39mtry\u001b[39;00m:\n\u001b[1;32m-> 1195\u001b[0m     \u001b[39mfor\u001b[39;00m obj \u001b[39min\u001b[39;00m iterable:\n\u001b[0;32m   1196\u001b[0m         \u001b[39myield\u001b[39;00m obj\n\u001b[0;32m   1197\u001b[0m         \u001b[39m# Update and possibly print the progressbar.\u001b[39;00m\n\u001b[0;32m   1198\u001b[0m         \u001b[39m# Note: does not call self.update(1) for speed optimisation.\u001b[39;00m\n",
      "File \u001b[1;32mc:\\Users\\Henrique\\anaconda3\\lib\\site-packages\\transformers\\pipelines\\pt_utils.py:114\u001b[0m, in \u001b[0;36mPipelineIterator.__next__\u001b[1;34m(self)\u001b[0m\n\u001b[0;32m    111\u001b[0m     \u001b[39mreturn\u001b[39;00m \u001b[39mself\u001b[39m\u001b[39m.\u001b[39mloader_batch_item()\n\u001b[0;32m    113\u001b[0m \u001b[39m# We're out of items within a batch\u001b[39;00m\n\u001b[1;32m--> 114\u001b[0m item \u001b[39m=\u001b[39m \u001b[39mnext\u001b[39;49m(\u001b[39mself\u001b[39;49m\u001b[39m.\u001b[39;49miterator)\n\u001b[0;32m    115\u001b[0m processed \u001b[39m=\u001b[39m \u001b[39mself\u001b[39m\u001b[39m.\u001b[39minfer(item, \u001b[39m*\u001b[39m\u001b[39m*\u001b[39m\u001b[39mself\u001b[39m\u001b[39m.\u001b[39mparams)\n\u001b[0;32m    116\u001b[0m \u001b[39m# We now have a batch of \"inferred things\".\u001b[39;00m\n",
      "File \u001b[1;32mc:\\Users\\Henrique\\anaconda3\\lib\\site-packages\\transformers\\pipelines\\pt_utils.py:115\u001b[0m, in \u001b[0;36mPipelineIterator.__next__\u001b[1;34m(self)\u001b[0m\n\u001b[0;32m    113\u001b[0m \u001b[39m# We're out of items within a batch\u001b[39;00m\n\u001b[0;32m    114\u001b[0m item \u001b[39m=\u001b[39m \u001b[39mnext\u001b[39m(\u001b[39mself\u001b[39m\u001b[39m.\u001b[39miterator)\n\u001b[1;32m--> 115\u001b[0m processed \u001b[39m=\u001b[39m \u001b[39mself\u001b[39m\u001b[39m.\u001b[39minfer(item, \u001b[39m*\u001b[39m\u001b[39m*\u001b[39m\u001b[39mself\u001b[39m\u001b[39m.\u001b[39mparams)\n\u001b[0;32m    116\u001b[0m \u001b[39m# We now have a batch of \"inferred things\".\u001b[39;00m\n\u001b[0;32m    117\u001b[0m \u001b[39mif\u001b[39;00m \u001b[39mself\u001b[39m\u001b[39m.\u001b[39mloader_batch_size \u001b[39mis\u001b[39;00m \u001b[39mnot\u001b[39;00m \u001b[39mNone\u001b[39;00m:\n\u001b[0;32m    118\u001b[0m     \u001b[39m# Try to infer the size of the batch\u001b[39;00m\n",
      "File \u001b[1;32mc:\\Users\\Henrique\\anaconda3\\lib\\site-packages\\transformers\\pipelines\\base.py:991\u001b[0m, in \u001b[0;36mPipeline.forward\u001b[1;34m(self, model_inputs, **forward_params)\u001b[0m\n\u001b[0;32m    989\u001b[0m         model_inputs \u001b[39m=\u001b[39m \u001b[39mself\u001b[39m\u001b[39m.\u001b[39m_ensure_tensor_on_device(model_inputs, device\u001b[39m=\u001b[39m\u001b[39mself\u001b[39m\u001b[39m.\u001b[39mdevice)\n\u001b[0;32m    990\u001b[0m         model_outputs \u001b[39m=\u001b[39m \u001b[39mself\u001b[39m\u001b[39m.\u001b[39m_forward(model_inputs, \u001b[39m*\u001b[39m\u001b[39m*\u001b[39mforward_params)\n\u001b[1;32m--> 991\u001b[0m         model_outputs \u001b[39m=\u001b[39m \u001b[39mself\u001b[39;49m\u001b[39m.\u001b[39;49m_ensure_tensor_on_device(model_outputs, device\u001b[39m=\u001b[39;49mtorch\u001b[39m.\u001b[39;49mdevice(\u001b[39m\"\u001b[39;49m\u001b[39mcpu\u001b[39;49m\u001b[39m\"\u001b[39;49m))\n\u001b[0;32m    992\u001b[0m \u001b[39melse\u001b[39;00m:\n\u001b[0;32m    993\u001b[0m     \u001b[39mraise\u001b[39;00m \u001b[39mValueError\u001b[39;00m(\u001b[39mf\u001b[39m\u001b[39m\"\u001b[39m\u001b[39mFramework \u001b[39m\u001b[39m{\u001b[39;00m\u001b[39mself\u001b[39m\u001b[39m.\u001b[39mframework\u001b[39m}\u001b[39;00m\u001b[39m is not supported\u001b[39m\u001b[39m\"\u001b[39m)\n",
      "File \u001b[1;32mc:\\Users\\Henrique\\anaconda3\\lib\\site-packages\\transformers\\pipelines\\base.py:890\u001b[0m, in \u001b[0;36mPipeline._ensure_tensor_on_device\u001b[1;34m(self, inputs, device)\u001b[0m\n\u001b[0;32m    887\u001b[0m \u001b[39mdef\u001b[39;00m \u001b[39m_ensure_tensor_on_device\u001b[39m(\u001b[39mself\u001b[39m, inputs, device):\n\u001b[0;32m    888\u001b[0m     \u001b[39mif\u001b[39;00m \u001b[39misinstance\u001b[39m(inputs, ModelOutput):\n\u001b[0;32m    889\u001b[0m         \u001b[39mreturn\u001b[39;00m ModelOutput(\n\u001b[1;32m--> 890\u001b[0m             {name: \u001b[39mself\u001b[39m\u001b[39m.\u001b[39m_ensure_tensor_on_device(tensor, device) \u001b[39mfor\u001b[39;00m name, tensor \u001b[39min\u001b[39;00m inputs\u001b[39m.\u001b[39mitems()}\n\u001b[0;32m    891\u001b[0m         )\n\u001b[0;32m    892\u001b[0m     \u001b[39melif\u001b[39;00m \u001b[39misinstance\u001b[39m(inputs, \u001b[39mdict\u001b[39m):\n\u001b[0;32m    893\u001b[0m         \u001b[39mreturn\u001b[39;00m {name: \u001b[39mself\u001b[39m\u001b[39m.\u001b[39m_ensure_tensor_on_device(tensor, device) \u001b[39mfor\u001b[39;00m name, tensor \u001b[39min\u001b[39;00m inputs\u001b[39m.\u001b[39mitems()}\n",
      "File \u001b[1;32mc:\\Users\\Henrique\\anaconda3\\lib\\site-packages\\transformers\\pipelines\\base.py:890\u001b[0m, in \u001b[0;36m<dictcomp>\u001b[1;34m(.0)\u001b[0m\n\u001b[0;32m    887\u001b[0m \u001b[39mdef\u001b[39;00m \u001b[39m_ensure_tensor_on_device\u001b[39m(\u001b[39mself\u001b[39m, inputs, device):\n\u001b[0;32m    888\u001b[0m     \u001b[39mif\u001b[39;00m \u001b[39misinstance\u001b[39m(inputs, ModelOutput):\n\u001b[0;32m    889\u001b[0m         \u001b[39mreturn\u001b[39;00m ModelOutput(\n\u001b[1;32m--> 890\u001b[0m             {name: \u001b[39mself\u001b[39;49m\u001b[39m.\u001b[39;49m_ensure_tensor_on_device(tensor, device) \u001b[39mfor\u001b[39;00m name, tensor \u001b[39min\u001b[39;00m inputs\u001b[39m.\u001b[39mitems()}\n\u001b[0;32m    891\u001b[0m         )\n\u001b[0;32m    892\u001b[0m     \u001b[39melif\u001b[39;00m \u001b[39misinstance\u001b[39m(inputs, \u001b[39mdict\u001b[39m):\n\u001b[0;32m    893\u001b[0m         \u001b[39mreturn\u001b[39;00m {name: \u001b[39mself\u001b[39m\u001b[39m.\u001b[39m_ensure_tensor_on_device(tensor, device) \u001b[39mfor\u001b[39;00m name, tensor \u001b[39min\u001b[39;00m inputs\u001b[39m.\u001b[39mitems()}\n",
      "File \u001b[1;32mc:\\Users\\Henrique\\anaconda3\\lib\\site-packages\\transformers\\pipelines\\base.py:903\u001b[0m, in \u001b[0;36mPipeline._ensure_tensor_on_device\u001b[1;34m(self, inputs, device)\u001b[0m\n\u001b[0;32m    901\u001b[0m     \u001b[39mif\u001b[39;00m device \u001b[39m==\u001b[39m torch\u001b[39m.\u001b[39mdevice(\u001b[39m\"\u001b[39m\u001b[39mcpu\u001b[39m\u001b[39m\"\u001b[39m) \u001b[39mand\u001b[39;00m inputs\u001b[39m.\u001b[39mdtype \u001b[39min\u001b[39;00m {torch\u001b[39m.\u001b[39mfloat16, torch\u001b[39m.\u001b[39mbfloat16}:\n\u001b[0;32m    902\u001b[0m         inputs \u001b[39m=\u001b[39m inputs\u001b[39m.\u001b[39mfloat()\n\u001b[1;32m--> 903\u001b[0m     \u001b[39mreturn\u001b[39;00m inputs\u001b[39m.\u001b[39;49mto(device)\n\u001b[0;32m    904\u001b[0m \u001b[39melse\u001b[39;00m:\n\u001b[0;32m    905\u001b[0m     \u001b[39mreturn\u001b[39;00m inputs\n",
      "\u001b[1;31mKeyboardInterrupt\u001b[0m: "
     ]
    }
   ],
   "source": [
    "from processing import beers_pipeline, users_pipeline, ratings_pipeline\n",
    "print(\"processing ratings\")\n",
    "ratings_pipeline(persist=True, users_persisted=True)\n",
    "print(\"done! persisted in ./RefinedData/BeerAdvocate/ratings.parquet\")"
   ]
  },
  {
   "cell_type": "code",
   "execution_count": 10,
   "metadata": {},
   "outputs": [
    {
     "data": {
      "text/html": [
       "<div>\n",
       "<style scoped>\n",
       "    .dataframe tbody tr th:only-of-type {\n",
       "        vertical-align: middle;\n",
       "    }\n",
       "\n",
       "    .dataframe tbody tr th {\n",
       "        vertical-align: top;\n",
       "    }\n",
       "\n",
       "    .dataframe thead th {\n",
       "        text-align: right;\n",
       "    }\n",
       "</style>\n",
       "<table border=\"1\" class=\"dataframe\">\n",
       "  <thead>\n",
       "    <tr style=\"text-align: right;\">\n",
       "      <th></th>\n",
       "      <th>appearance</th>\n",
       "      <th>aroma</th>\n",
       "      <th>palate</th>\n",
       "      <th>taste</th>\n",
       "      <th>overall</th>\n",
       "      <th>rating</th>\n",
       "    </tr>\n",
       "  </thead>\n",
       "  <tbody>\n",
       "    <tr>\n",
       "      <th>count</th>\n",
       "      <td>4.406004e+06</td>\n",
       "      <td>4.406004e+06</td>\n",
       "      <td>4.406004e+06</td>\n",
       "      <td>4.406004e+06</td>\n",
       "      <td>4.406004e+06</td>\n",
       "      <td>7.654894e+06</td>\n",
       "    </tr>\n",
       "    <tr>\n",
       "      <th>mean</th>\n",
       "      <td>3.942058e+00</td>\n",
       "      <td>3.875325e+00</td>\n",
       "      <td>3.871813e+00</td>\n",
       "      <td>3.909083e+00</td>\n",
       "      <td>3.906254e+00</td>\n",
       "      <td>3.888538e+00</td>\n",
       "    </tr>\n",
       "    <tr>\n",
       "      <th>std</th>\n",
       "      <td>5.520657e-01</td>\n",
       "      <td>6.138992e-01</td>\n",
       "      <td>6.010812e-01</td>\n",
       "      <td>6.367106e-01</td>\n",
       "      <td>6.093449e-01</td>\n",
       "      <td>6.103158e-01</td>\n",
       "    </tr>\n",
       "    <tr>\n",
       "      <th>min</th>\n",
       "      <td>1.000000e+00</td>\n",
       "      <td>1.000000e+00</td>\n",
       "      <td>1.000000e+00</td>\n",
       "      <td>1.000000e+00</td>\n",
       "      <td>1.000000e+00</td>\n",
       "      <td>1.000000e+00</td>\n",
       "    </tr>\n",
       "    <tr>\n",
       "      <th>25%</th>\n",
       "      <td>4.000000e+00</td>\n",
       "      <td>3.750000e+00</td>\n",
       "      <td>3.750000e+00</td>\n",
       "      <td>3.750000e+00</td>\n",
       "      <td>3.750000e+00</td>\n",
       "      <td>3.750000e+00</td>\n",
       "    </tr>\n",
       "    <tr>\n",
       "      <th>50%</th>\n",
       "      <td>4.000000e+00</td>\n",
       "      <td>4.000000e+00</td>\n",
       "      <td>4.000000e+00</td>\n",
       "      <td>4.000000e+00</td>\n",
       "      <td>4.000000e+00</td>\n",
       "      <td>4.060000e+00</td>\n",
       "    </tr>\n",
       "    <tr>\n",
       "      <th>75%</th>\n",
       "      <td>4.500000e+00</td>\n",
       "      <td>4.500000e+00</td>\n",
       "      <td>4.500000e+00</td>\n",
       "      <td>4.500000e+00</td>\n",
       "      <td>4.500000e+00</td>\n",
       "      <td>4.500000e+00</td>\n",
       "    </tr>\n",
       "    <tr>\n",
       "      <th>max</th>\n",
       "      <td>5.000000e+00</td>\n",
       "      <td>5.000000e+00</td>\n",
       "      <td>5.000000e+00</td>\n",
       "      <td>5.000000e+00</td>\n",
       "      <td>5.000000e+00</td>\n",
       "      <td>5.000000e+00</td>\n",
       "    </tr>\n",
       "  </tbody>\n",
       "</table>\n",
       "</div>"
      ],
      "text/plain": [
       "         appearance         aroma        palate         taste       overall  \\\n",
       "count  4.406004e+06  4.406004e+06  4.406004e+06  4.406004e+06  4.406004e+06   \n",
       "mean   3.942058e+00  3.875325e+00  3.871813e+00  3.909083e+00  3.906254e+00   \n",
       "std    5.520657e-01  6.138992e-01  6.010812e-01  6.367106e-01  6.093449e-01   \n",
       "min    1.000000e+00  1.000000e+00  1.000000e+00  1.000000e+00  1.000000e+00   \n",
       "25%    4.000000e+00  3.750000e+00  3.750000e+00  3.750000e+00  3.750000e+00   \n",
       "50%    4.000000e+00  4.000000e+00  4.000000e+00  4.000000e+00  4.000000e+00   \n",
       "75%    4.500000e+00  4.500000e+00  4.500000e+00  4.500000e+00  4.500000e+00   \n",
       "max    5.000000e+00  5.000000e+00  5.000000e+00  5.000000e+00  5.000000e+00   \n",
       "\n",
       "             rating  \n",
       "count  7.654894e+06  \n",
       "mean   3.888538e+00  \n",
       "std    6.103158e-01  \n",
       "min    1.000000e+00  \n",
       "25%    3.750000e+00  \n",
       "50%    4.060000e+00  \n",
       "75%    4.500000e+00  \n",
       "max    5.000000e+00  "
      ]
     },
     "execution_count": 10,
     "metadata": {},
     "output_type": "execute_result"
    }
   ],
   "source": [
    "ratings_ddf=ing.read_parquet('RefinedData\\BeerAdvocate\\\\ratings.parquet')\n",
    "ratings_ddf[['appearance','aroma','palate','taste','overall','rating']].describe().compute()"
   ]
  },
  {
   "cell_type": "markdown",
   "metadata": {},
   "source": [
    "## rating"
   ]
  },
  {
   "cell_type": "code",
   "execution_count": 15,
   "metadata": {},
   "outputs": [
    {
     "name": "stdout",
     "output_type": "stream",
     "text": [
      "What's the distribution of the ratings ?\n"
     ]
    },
    {
     "data": {
      "text/plain": [
       "<AxesSubplot:title={'center':'Distribution of Ratings'}, xlabel='ratings', ylabel='occurences'>"
      ]
     },
     "execution_count": 15,
     "metadata": {},
     "output_type": "execute_result"
    },
    {
     "data": {
      "image/png": "[encoded data removed]",
      "text/plain": [
       "<Figure size 500x300 with 1 Axes>"
      ]
     },
     "metadata": {},
     "output_type": "display_data"
    }
   ],
   "source": [
    "print('What\\'s the distribution of the ratings ?')\n",
    "\n",
    "fig, ax = plt.subplots(1,1)\n",
    "\n",
    "# set the figure size\n",
    "fig.set_size_inches(5, 3)\n",
    "\n",
    "# set the title\n",
    "ax.set_title(\"Distribution of Ratings\")\n",
    "\n",
    "# set the x and y labels\n",
    "ax.set_ylabel(\"occurences\")\n",
    "ax.set_xlabel(\"ratings\")\n",
    "\n",
    "# plot the histogram\n",
    "sns.histplot(data=ratings_ddf,x='rating',ax=ax)"
   ]
  },
  {
   "cell_type": "markdown",
   "metadata": {},
   "source": [
    "Because the ratings are computed either from the unique note of the user or the average of the diffrent aspects for ratings we can see that the distribution has spikes when ratings is a multiple of 0.25.\n",
    "If we isolate the effect we get the following graphs that show a normal distribution."
   ]
  },
  {
   "cell_type": "code",
   "execution_count": 16,
   "metadata": {},
   "outputs": [
    {
     "data": {
      "text/plain": [
       "<AxesSubplot:title={'center':'Distribution of Ratings'}, xlabel='ratings', ylabel='occurences'>"
      ]
     },
     "execution_count": 16,
     "metadata": {},
     "output_type": "execute_result"
    },
    {
     "data": {
      "image/png": "[encoded data removed]",
      "text/plain": [
       "<Figure size 500x300 with 1 Axes>"
      ]
     },
     "metadata": {},
     "output_type": "display_data"
    }
   ],
   "source": [
    "#isolatings \n",
    "fig, ax = plt.subplots(1,1)\n",
    "\n",
    "# set figure size\n",
    "fig.set_size_inches(5, 3)\n",
    "\n",
    "# set title\n",
    "ax.set_title(\"Distribution of Ratings\")\n",
    "\n",
    "# set x and y label\n",
    "ax.set_ylabel(\"occurences\")\n",
    "ax.set_xlabel(\"ratings\")\n",
    "\n",
    "# plot the histogram\n",
    "sns.histplot(data=ratings_ddf[ratings_ddf['rating']%0.25==0],x='rating',ax=ax,bins=200)"
   ]
  },
  {
   "cell_type": "code",
   "execution_count": 18,
   "metadata": {},
   "outputs": [
    {
     "data": {
      "text/plain": [
       "<AxesSubplot:title={'center':'Distribution of the number of ratings per beer'}, xlabel='ratings', ylabel='occurences'>"
      ]
     },
     "execution_count": 18,
     "metadata": {},
     "output_type": "execute_result"
    },
    {
     "data": {
      "image/png": "[encoded data removed]",
      "text/plain": [
       "<Figure size 500x300 with 1 Axes>"
      ]
     },
     "metadata": {},
     "output_type": "display_data"
    }
   ],
   "source": [
    "# set the figure size\n",
    "plt.figure(figsize=(5, 3))\n",
    "\n",
    "# set x and y axis labels\n",
    "plt.xlabel(\"ratings\")\n",
    "plt.ylabel(\"occurences\")\n",
    "\n",
    "# set the title\n",
    "plt.title(\"Distribution of the number of ratings per beer\")\n",
    "sns.histplot(data=ratings_ddf[ratings_ddf['rating']%0.25!=0],x='rating',bins=500)"
   ]
  },
  {
   "cell_type": "markdown",
   "metadata": {},
   "source": [
    "## review"
   ]
  },
  {
   "cell_type": "code",
   "execution_count": 18,
   "metadata": {},
   "outputs": [
    {
     "name": "stdout",
     "output_type": "stream",
     "text": [
      "What percentage of ratings have a review ?\n",
      "31.55%\n"
     ]
    }
   ],
   "source": [
    "print('What percentage of ratings have a review ?')\n",
    "print(\"{}%\".format(round(len(ratings_ddf[ratings_ddf.has_review==True].index)/len(ratings_ddf.index)*100, 2)))"
   ]
  },
  {
   "cell_type": "code",
   "execution_count": 19,
   "metadata": {},
   "outputs": [
    {
     "name": "stdout",
     "output_type": "stream",
     "text": [
      "What's the number of review ?\n"
     ]
    },
    {
     "data": {
      "text/plain": [
       "2414889"
      ]
     },
     "execution_count": 19,
     "metadata": {},
     "output_type": "execute_result"
    }
   ],
   "source": [
    "print('What\\'s the number of review ?')\n",
    "ratings_ddf[ratings_ddf[\"has_review\"]].compute()['review'].size"
   ]
  },
  {
   "cell_type": "code",
   "execution_count": 20,
   "metadata": {},
   "outputs": [
    {
     "name": "stdout",
     "output_type": "stream",
     "text": [
      "What's the average number of characters per review ?\n"
     ]
    },
    {
     "data": {
      "text/plain": [
       "679.763346058556"
      ]
     },
     "execution_count": 20,
     "metadata": {},
     "output_type": "execute_result"
    }
   ],
   "source": [
    "print('What\\'s the average number of characters per review ?')\n",
    "ratings_ddf[ratings_ddf[\"has_review\"]].compute()['review'].astype(str).map(lambda x: len(x)).mean()\n"
   ]
  },
  {
   "cell_type": "code",
   "execution_count": 21,
   "metadata": {},
   "outputs": [
    {
     "name": "stdout",
     "output_type": "stream",
     "text": [
      "What's the average number of word of a review ?\n"
     ]
    },
    {
     "data": {
      "text/plain": [
       "118.81396370599228"
      ]
     },
     "execution_count": 21,
     "metadata": {},
     "output_type": "execute_result"
    }
   ],
   "source": [
    "print('What\\'s the average number of word of a review ?')\n",
    "ratings_ddf[ratings_ddf[\"has_review\"]].compute()['review'].astype(str).map(lambda x: len(x.split())).mean()"
   ]
  }
 ],
 "metadata": {
  "kernelspec": {
   "display_name": "base",
   "language": "python",
   "name": "python3"
  },
  "language_info": {
   "codemirror_mode": {
    "name": "ipython",
    "version": 3
   },
   "file_extension": ".py",
   "mimetype": "text/x-python",
   "name": "python",
   "nbconvert_exporter": "python",
   "pygments_lexer": "ipython3",
   "version": "3.9.12 (main, Apr  4 2022, 05:22:27) [MSC v.1916 64 bit (AMD64)]"
  },
  "orig_nbformat": 4,
  "vscode": {
   "interpreter": {
    "hash": "6bb2e1f904bb6e863f2b9088396373e4778cab81ffde8089fcb5238aee912dca"
   }
  }
 },
 "nbformat": 4,
 "nbformat_minor": 2
}
