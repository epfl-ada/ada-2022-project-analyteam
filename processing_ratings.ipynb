{
 "cells": [
  {
   "cell_type": "markdown",
   "metadata": {},
   "source": [
    "## BeerAdvocate: Descriptive Analysis and Processing\n",
    "\n",
    "---\n",
    "\n",
    "**Processing and Transformations Summary of \"users.csv\"**\n",
    "\n",
    "- **Renaming Columns**:     \"beer_id\" to \"bid\",\n",
    "    \"user_id\" to \"uid\",\n",
    "    \"review\" to \"has_review\",\n",
    "    \"text\" to \"review\"\n",
    "- **Converting Data Types**: \n",
    "    \"bid\" to np.int32,\n",
    "    \"uid\" to \"str\",\n",
    "    \"has_review\" to \"bool\"\n",
    "- **Taking only the review of 4 contries of interest\"**: \"United States\", \"Canada\", \"England\", \"Australia\" thus loosing 9% of the ratings\n",
    "\n",
    "---\n",
    "\n",
    "**Descriptive Analysis Summary of \"users.csv\"**\n",
    "\n",
    "* **Missing values**: none, except for \"location\" that may contain \"nan\" (previously converted to None) and \"joined\" that may contain NaN (previously implictely converted to NaT).\n",
    "\n",
    "<br>\n",
    "\n",
    "* **ratings**:\n",
    "  - 8'393'032 ratings in total.\n",
    "  - The average of the ratings is 3.89 with a standard deviation of 0.61\n",
    "  - Approximatly follow the distribution $\\mathcal{N}(3.89,0.61^{2})\\ $\n",
    "\n",
    "* **reviews**:\n",
    "  - 2'414'889 review in total\n",
    "  - average number of char is $\\approx$ 680\n",
    "  - average number of word is $\\approx$ 119\n",
    " \n",
    "\n",
    "\n",
    "---\n",
    "\n"
   ]
  },
  {
   "cell_type": "code",
   "execution_count": 1,
   "metadata": {},
   "outputs": [],
   "source": [
    "from setup import dask_init, dask_shutdown\n",
    "import dask.distributed as dd\n",
    "import dask.dataframe as ddf\n",
    "\n",
    "import pandas as pd\n",
    "import numpy as np\n",
    "\n",
    "import ingestion as ing\n",
    "import processing as prc\n",
    "\n",
    "import datetime as dt\n",
    "\n",
    "import seaborn as sns\n",
    "import matplotlib.pyplot as plt\n",
    "%matplotlib inline\n",
    "\n",
    "%load_ext autoreload\n",
    "%autoreload 2"
   ]
  },
  {
   "cell_type": "markdown",
   "metadata": {},
   "source": [
    "# setup"
   ]
  },
  {
   "cell_type": "code",
   "execution_count": 3,
   "metadata": {},
   "outputs": [
    {
     "name": "stderr",
     "output_type": "stream",
     "text": [
      "c:\\Users\\Henrique\\anaconda3\\lib\\site-packages\\distributed\\node.py:180: UserWarning: Port 8787 is already in use.\n",
      "Perhaps you already have a cluster running?\n",
      "Hosting the HTTP server on port 57789 instead\n",
      "  warnings.warn(\n"
     ]
    },
    {
     "data": {
      "application/vnd.jupyter.widget-view+json": {
       "model_id": "5f82c6ff1c8c4a54a8bbaa83d9747a61",
       "version_major": 2,
       "version_minor": 0
      },
      "text/plain": [
       "Tab(children=(HTML(value='<div class=\"jp-RenderedHTMLCommon jp-RenderedHTML jp-mod-trusted jp-OutputArea-outpu…"
      ]
     },
     "metadata": {},
     "output_type": "display_data"
    }
   ],
   "source": [
    "# PANDAS SETUP\n",
    "pd.options.mode.use_inf_as_na = True\n",
    "\n",
    "# DASK SETUP\n",
    "client, cluster = dask_init()\n",
    "cluster"
   ]
  },
  {
   "cell_type": "markdown",
   "metadata": {},
   "source": [
    "### BeerAdvocate - ratings.csv (REFINED ratings.txt)"
   ]
  },
  {
   "cell_type": "markdown",
   "metadata": {},
   "source": [
    "# [I] Loading the Data"
   ]
  },
  {
   "cell_type": "code",
   "execution_count": 4,
   "metadata": {},
   "outputs": [
    {
     "data": {
      "text/html": [
       "<div>\n",
       "<style scoped>\n",
       "    .dataframe tbody tr th:only-of-type {\n",
       "        vertical-align: middle;\n",
       "    }\n",
       "\n",
       "    .dataframe tbody tr th {\n",
       "        vertical-align: top;\n",
       "    }\n",
       "\n",
       "    .dataframe thead th {\n",
       "        text-align: right;\n",
       "    }\n",
       "</style>\n",
       "<table border=\"1\" class=\"dataframe\">\n",
       "  <thead>\n",
       "    <tr style=\"text-align: right;\">\n",
       "      <th></th>\n",
       "      <th>date</th>\n",
       "      <th>beer_id</th>\n",
       "      <th>user_id</th>\n",
       "      <th>appearance</th>\n",
       "      <th>aroma</th>\n",
       "      <th>palate</th>\n",
       "      <th>taste</th>\n",
       "      <th>overall</th>\n",
       "      <th>rating</th>\n",
       "      <th>review</th>\n",
       "      <th>text</th>\n",
       "    </tr>\n",
       "  </thead>\n",
       "  <tbody>\n",
       "    <tr>\n",
       "      <th>0</th>\n",
       "      <td>1.440065e+09</td>\n",
       "      <td>142544.0</td>\n",
       "      <td>nmann08.184925</td>\n",
       "      <td>3.25</td>\n",
       "      <td>2.75</td>\n",
       "      <td>3.25</td>\n",
       "      <td>2.75</td>\n",
       "      <td>3.0</td>\n",
       "      <td>2.88</td>\n",
       "      <td>True</td>\n",
       "      <td>From a bottle; pours a piss yellow color with ...</td>\n",
       "    </tr>\n",
       "    <tr>\n",
       "      <th>1</th>\n",
       "      <td>1.235128e+09</td>\n",
       "      <td>19590.0</td>\n",
       "      <td>stjamesgate.163714</td>\n",
       "      <td>3.00</td>\n",
       "      <td>3.50</td>\n",
       "      <td>3.50</td>\n",
       "      <td>4.00</td>\n",
       "      <td>3.5</td>\n",
       "      <td>3.67</td>\n",
       "      <td>True</td>\n",
       "      <td>Pours pale copper with a thin head that quickl...</td>\n",
       "    </tr>\n",
       "    <tr>\n",
       "      <th>2</th>\n",
       "      <td>1.142248e+09</td>\n",
       "      <td>19590.0</td>\n",
       "      <td>mdagnew.19527</td>\n",
       "      <td>4.00</td>\n",
       "      <td>3.50</td>\n",
       "      <td>3.50</td>\n",
       "      <td>4.00</td>\n",
       "      <td>3.5</td>\n",
       "      <td>3.73</td>\n",
       "      <td>True</td>\n",
       "      <td>500ml Bottle bought from The Vintage; Antrim.....</td>\n",
       "    </tr>\n",
       "    <tr>\n",
       "      <th>3</th>\n",
       "      <td>1.101899e+09</td>\n",
       "      <td>19590.0</td>\n",
       "      <td>helloloser12345.10867</td>\n",
       "      <td>4.00</td>\n",
       "      <td>3.50</td>\n",
       "      <td>4.00</td>\n",
       "      <td>4.00</td>\n",
       "      <td>4.5</td>\n",
       "      <td>3.98</td>\n",
       "      <td>True</td>\n",
       "      <td>Serving: 500ml brown bottlePour: Good head wit...</td>\n",
       "    </tr>\n",
       "    <tr>\n",
       "      <th>4</th>\n",
       "      <td>1.093860e+09</td>\n",
       "      <td>19590.0</td>\n",
       "      <td>cypressbob.3708</td>\n",
       "      <td>4.00</td>\n",
       "      <td>4.00</td>\n",
       "      <td>4.00</td>\n",
       "      <td>4.00</td>\n",
       "      <td>4.0</td>\n",
       "      <td>4.00</td>\n",
       "      <td>True</td>\n",
       "      <td>500ml bottlePours with a light; slightly hazy ...</td>\n",
       "    </tr>\n",
       "  </tbody>\n",
       "</table>\n",
       "</div>"
      ],
      "text/plain": [
       "           date   beer_id                user_id  appearance  aroma  palate  \\\n",
       "0  1.440065e+09  142544.0         nmann08.184925        3.25   2.75    3.25   \n",
       "1  1.235128e+09   19590.0     stjamesgate.163714        3.00   3.50    3.50   \n",
       "2  1.142248e+09   19590.0          mdagnew.19527        4.00   3.50    3.50   \n",
       "3  1.101899e+09   19590.0  helloloser12345.10867        4.00   3.50    4.00   \n",
       "4  1.093860e+09   19590.0        cypressbob.3708        4.00   4.00    4.00   \n",
       "\n",
       "   taste  overall  rating  review  \\\n",
       "0   2.75      3.0    2.88    True   \n",
       "1   4.00      3.5    3.67    True   \n",
       "2   4.00      3.5    3.73    True   \n",
       "3   4.00      4.5    3.98    True   \n",
       "4   4.00      4.0    4.00    True   \n",
       "\n",
       "                                                text  \n",
       "0  From a bottle; pours a piss yellow color with ...  \n",
       "1  Pours pale copper with a thin head that quickl...  \n",
       "2  500ml Bottle bought from The Vintage; Antrim.....  \n",
       "3  Serving: 500ml brown bottlePour: Good head wit...  \n",
       "4  500ml bottlePours with a light; slightly hazy ...  "
      ]
     },
     "execution_count": 4,
     "metadata": {},
     "output_type": "execute_result"
    }
   ],
   "source": [
    "__RATINGS_COLS=[\n",
    "    \"date\",\n",
    "    \"beer_id\",\n",
    "    \"user_id\",\n",
    "    \"appearance\",\n",
    "    \"aroma\",\n",
    "    \"palate\",\n",
    "    \"taste\",\n",
    "    \"overall\",\n",
    "    \"rating\",\n",
    "    \"review\",\n",
    "    \"text\"\n",
    "]\n",
    "ratings_ddf = ing.read_csv(\n",
    "        path=ing.build_path(folderind=\"ba\", filename=\"ratings\", basepath=ing.REFINED_PATH),\n",
    "        assume_missing=True,\n",
    "        keepcols=__RATINGS_COLS,\n",
    "        mode=\"lazy\")\n",
    "\n",
    "ratings_ddf.head(5)"
   ]
  },
  {
   "cell_type": "code",
   "execution_count": 5,
   "metadata": {},
   "outputs": [
    {
     "name": "stdout",
     "output_type": "stream",
     "text": [
      "8393032\n"
     ]
    },
    {
     "data": {
      "text/plain": [
       "date          float64\n",
       "beer_id       float64\n",
       "user_id        object\n",
       "appearance    float64\n",
       "aroma         float64\n",
       "palate        float64\n",
       "taste         float64\n",
       "overall       float64\n",
       "rating        float64\n",
       "review           bool\n",
       "text           object\n",
       "dtype: object"
      ]
     },
     "execution_count": 5,
     "metadata": {},
     "output_type": "execute_result"
    }
   ],
   "source": [
    "\n",
    "print(len(ratings_ddf.index.compute()))\n",
    "ratings_ddf.dtypes"
   ]
  },
  {
   "cell_type": "markdown",
   "metadata": {},
   "source": [
    "# [II] Impact of Processing"
   ]
  },
  {
   "cell_type": "code",
   "execution_count": 6,
   "metadata": {},
   "outputs": [],
   "source": [
    "__RATINGS_COLS_RENAMING = {\n",
    "    \"beer_id\": \"bid\",\n",
    "    \"user_id\": \"uid\",\n",
    "    \"review\" : \"has_review\",\n",
    "    \"text\" : \"review\"\n",
    "}\n",
    "ratings_ddf = ratings_ddf.rename(columns=__RATINGS_COLS_RENAMING)\n",
    "new_rating_colnames = [__RATINGS_COLS_RENAMING.get(old_colname, old_colname) for old_colname in __RATINGS_COLS]\n",
    "ratings_ddf = ratings_ddf[new_rating_colnames]"
   ]
  },
  {
   "cell_type": "code",
   "execution_count": 7,
   "metadata": {},
   "outputs": [
    {
     "name": "stdout",
     "output_type": "stream",
     "text": [
      "What's the number of ratings with unknown beers ?\n",
      "0\n"
     ]
    }
   ],
   "source": [
    "print(\"What's the number of ratings with unknown beers ?\")\n",
    "# drop beer ratings with missing beer ID since we do not know to which beer the rating corresponds\n",
    "discarded= len(ratings_ddf[ratings_ddf.bid.isnull()].index)\n",
    "print(discarded)\n"
   ]
  },
  {
   "cell_type": "code",
   "execution_count": 8,
   "metadata": {},
   "outputs": [
    {
     "name": "stdout",
     "output_type": "stream",
     "text": [
      "What's the number of ratings with unknown users ?\n",
      "0\n"
     ]
    }
   ],
   "source": [
    "print(\"What's the number of ratings with unknown users ?\")\n",
    "# drop beer ratings with missing beer ID since we do not know to which user the rating corresponds\n",
    "discarded= len(ratings_ddf[ratings_ddf.uid.isnull()].index)\n",
    "print(discarded)"
   ]
  },
  {
   "cell_type": "code",
   "execution_count": 9,
   "metadata": {},
   "outputs": [
    {
     "name": "stdout",
     "output_type": "stream",
     "text": [
      "What's the number of ratings with unknown score ?\n",
      "0\n"
     ]
    }
   ],
   "source": [
    "print(\"What's the number of ratings with unknown score ?\")\n",
    "# keep only ratings with computable beer rating\n",
    "# a beer rating is computable <=> all beer aspects' ratings are available\n",
    "# if the beer rating is available, do not drop the rating\n",
    "__RATING_ASPECTS = [\n",
    "    \"appearance\", \"aroma\", \"palate\", \"taste\", \"overall\"]\n",
    "computable_rating_mask = True # (False | X) == X\n",
    "for rating_aspect in __RATING_ASPECTS:\n",
    "    computable_rating_mask &= ratings_ddf[rating_aspect].notnull()\n",
    "discarded = (~(computable_rating_mask | ratings_ddf.rating.notnull())).sum().compute()\n",
    "print(discarded)\n"
   ]
  },
  {
   "cell_type": "code",
   "execution_count": 10,
   "metadata": {},
   "outputs": [],
   "source": [
    "users_ddf = ing.read_parquet(\n",
    "            path=ing.build_path(folderind=\"ba\", filename=\"users\", ext=\".parquet\", basepath=ing.REFINED_PATH),\n",
    "            mode=\"lazy\"\n",
    "        )\n",
    "users_w_ratings_ddf = ddf.merge(\n",
    "        ratings_ddf,\n",
    "        users_ddf, \n",
    "        how=\"inner\", left_on=\"uid\", right_on=\"uid\")\n",
    "\n",
    "ratings_ddf = ratings_ddf[new_rating_colnames] # drops the join columns"
   ]
  },
  {
   "cell_type": "code",
   "execution_count": 12,
   "metadata": {},
   "outputs": [
    {
     "name": "stdout",
     "output_type": "stream",
     "text": [
      "What's the percentange of ratings discarded when we select user from the diffrent contries of interest?\n",
      "8.79%\n"
     ]
    }
   ],
   "source": [
    "print('What\\'s the percentange of ratings discarded when we select user from the diffrent contries of interest?')\n",
    "__COUNTRIES_OF_INTEREST = [\n",
    "    \"United States\", \"Canada\", \"England\", \"Australia\"]\n",
    "discarded=1-len(users_w_ratings_ddf[users_w_ratings_ddf.country.isin(__COUNTRIES_OF_INTEREST)].index)/len(users_w_ratings_ddf.index)\n",
    "\n",
    "print(\"{}%\".format(round(discarded*100, 2)))"
   ]
  },
  {
   "cell_type": "markdown",
   "metadata": {},
   "source": [
    "# [III] Descriptive Statistics & Distributions"
   ]
  },
  {
   "cell_type": "code",
   "execution_count": 13,
   "metadata": {},
   "outputs": [
    {
     "data": {
      "text/html": [
       "<div>\n",
       "<style scoped>\n",
       "    .dataframe tbody tr th:only-of-type {\n",
       "        vertical-align: middle;\n",
       "    }\n",
       "\n",
       "    .dataframe tbody tr th {\n",
       "        vertical-align: top;\n",
       "    }\n",
       "\n",
       "    .dataframe thead th {\n",
       "        text-align: right;\n",
       "    }\n",
       "</style>\n",
       "<table border=\"1\" class=\"dataframe\">\n",
       "  <thead>\n",
       "    <tr style=\"text-align: right;\">\n",
       "      <th></th>\n",
       "      <th>appearance</th>\n",
       "      <th>aroma</th>\n",
       "      <th>palate</th>\n",
       "      <th>taste</th>\n",
       "      <th>overall</th>\n",
       "      <th>rating</th>\n",
       "    </tr>\n",
       "  </thead>\n",
       "  <tbody>\n",
       "    <tr>\n",
       "      <th>count</th>\n",
       "      <td>4.406004e+06</td>\n",
       "      <td>4.406004e+06</td>\n",
       "      <td>4.406004e+06</td>\n",
       "      <td>4.406004e+06</td>\n",
       "      <td>4.406004e+06</td>\n",
       "      <td>7.654894e+06</td>\n",
       "    </tr>\n",
       "    <tr>\n",
       "      <th>mean</th>\n",
       "      <td>3.942058e+00</td>\n",
       "      <td>3.875325e+00</td>\n",
       "      <td>3.871813e+00</td>\n",
       "      <td>3.909083e+00</td>\n",
       "      <td>3.906254e+00</td>\n",
       "      <td>3.888538e+00</td>\n",
       "    </tr>\n",
       "    <tr>\n",
       "      <th>std</th>\n",
       "      <td>5.520657e-01</td>\n",
       "      <td>6.138992e-01</td>\n",
       "      <td>6.010812e-01</td>\n",
       "      <td>6.367106e-01</td>\n",
       "      <td>6.093449e-01</td>\n",
       "      <td>6.103158e-01</td>\n",
       "    </tr>\n",
       "    <tr>\n",
       "      <th>min</th>\n",
       "      <td>1.000000e+00</td>\n",
       "      <td>1.000000e+00</td>\n",
       "      <td>1.000000e+00</td>\n",
       "      <td>1.000000e+00</td>\n",
       "      <td>1.000000e+00</td>\n",
       "      <td>1.000000e+00</td>\n",
       "    </tr>\n",
       "    <tr>\n",
       "      <th>25%</th>\n",
       "      <td>4.000000e+00</td>\n",
       "      <td>3.750000e+00</td>\n",
       "      <td>3.750000e+00</td>\n",
       "      <td>3.750000e+00</td>\n",
       "      <td>3.750000e+00</td>\n",
       "      <td>3.750000e+00</td>\n",
       "    </tr>\n",
       "    <tr>\n",
       "      <th>50%</th>\n",
       "      <td>4.000000e+00</td>\n",
       "      <td>4.000000e+00</td>\n",
       "      <td>4.000000e+00</td>\n",
       "      <td>4.000000e+00</td>\n",
       "      <td>4.000000e+00</td>\n",
       "      <td>4.060000e+00</td>\n",
       "    </tr>\n",
       "    <tr>\n",
       "      <th>75%</th>\n",
       "      <td>4.500000e+00</td>\n",
       "      <td>4.500000e+00</td>\n",
       "      <td>4.500000e+00</td>\n",
       "      <td>4.500000e+00</td>\n",
       "      <td>4.500000e+00</td>\n",
       "      <td>4.500000e+00</td>\n",
       "    </tr>\n",
       "    <tr>\n",
       "      <th>max</th>\n",
       "      <td>5.000000e+00</td>\n",
       "      <td>5.000000e+00</td>\n",
       "      <td>5.000000e+00</td>\n",
       "      <td>5.000000e+00</td>\n",
       "      <td>5.000000e+00</td>\n",
       "      <td>5.000000e+00</td>\n",
       "    </tr>\n",
       "  </tbody>\n",
       "</table>\n",
       "</div>"
      ],
      "text/plain": [
       "         appearance         aroma        palate         taste       overall  \\\n",
       "count  4.406004e+06  4.406004e+06  4.406004e+06  4.406004e+06  4.406004e+06   \n",
       "mean   3.942058e+00  3.875325e+00  3.871813e+00  3.909083e+00  3.906254e+00   \n",
       "std    5.520657e-01  6.138992e-01  6.010812e-01  6.367106e-01  6.093449e-01   \n",
       "min    1.000000e+00  1.000000e+00  1.000000e+00  1.000000e+00  1.000000e+00   \n",
       "25%    4.000000e+00  3.750000e+00  3.750000e+00  3.750000e+00  3.750000e+00   \n",
       "50%    4.000000e+00  4.000000e+00  4.000000e+00  4.000000e+00  4.000000e+00   \n",
       "75%    4.500000e+00  4.500000e+00  4.500000e+00  4.500000e+00  4.500000e+00   \n",
       "max    5.000000e+00  5.000000e+00  5.000000e+00  5.000000e+00  5.000000e+00   \n",
       "\n",
       "             rating  \n",
       "count  7.654894e+06  \n",
       "mean   3.888538e+00  \n",
       "std    6.103158e-01  \n",
       "min    1.000000e+00  \n",
       "25%    3.750000e+00  \n",
       "50%    4.060000e+00  \n",
       "75%    4.500000e+00  \n",
       "max    5.000000e+00  "
      ]
     },
     "execution_count": 13,
     "metadata": {},
     "output_type": "execute_result"
    }
   ],
   "source": [
    "ratings_ddf=ing.read_parquet('RefinedData\\BeerAdvocate\\\\ratings.parquet')\n",
    "ratings_ddf[['appearance','aroma','palate','taste','overall','rating']].describe().compute()"
   ]
  },
  {
   "cell_type": "markdown",
   "metadata": {},
   "source": [
    "## rating"
   ]
  },
  {
   "cell_type": "code",
   "execution_count": 14,
   "metadata": {},
   "outputs": [
    {
     "name": "stdout",
     "output_type": "stream",
     "text": [
      "What's the distribution of the ratings ?\n"
     ]
    },
    {
     "data": {
      "text/plain": [
       "<AxesSubplot:title={'center':'Distribution of Ratings'}, xlabel='ratings', ylabel='occurences'>"
      ]
     },
     "execution_count": 14,
     "metadata": {},
     "output_type": "execute_result"
    },
    {
     "data": {
      "image/png": "[encoded data removed]",
      "text/plain": [
       "<Figure size 640x480 with 1 Axes>"
      ]
     },
     "metadata": {},
     "output_type": "display_data"
    }
   ],
   "source": [
    "print('What\\'s the distribution of the ratings ?')\n",
    "fig, ax = plt.subplots(1,1)\n",
    "ax.set_title(\"Distribution of Ratings\")\n",
    "ax.set_ylabel(\"occurences\")\n",
    "ax.set_xlabel(\"ratings\")\n",
    "sns.histplot(data=ratings_ddf,x='rating',ax=ax)"
   ]
  },
  {
   "cell_type": "markdown",
   "metadata": {},
   "source": [
    "Because the ratings are computed either from the unique note of the user or the average of the diffrent aspects for ratings we can see that the distribution has spikes when ratings is a multiple of 0.25.\n",
    "If we isolate the effect we get the following graphs that show a normal distribution."
   ]
  },
  {
   "cell_type": "code",
   "execution_count": 16,
   "metadata": {},
   "outputs": [
    {
     "data": {
      "text/plain": [
       "<AxesSubplot:title={'center':'Distribution of Ratings'}, xlabel='ratings', ylabel='occurences'>"
      ]
     },
     "execution_count": 16,
     "metadata": {},
     "output_type": "execute_result"
    },
    {
     "data": {
      "image/png": "[encoded data removed]",
      "text/plain": [
       "<Figure size 640x480 with 1 Axes>"
      ]
     },
     "metadata": {},
     "output_type": "display_data"
    }
   ],
   "source": [
    "#isolatings \n",
    "fig, ax = plt.subplots(1,1)\n",
    "ax.set_title(\"Distribution of Ratings\")\n",
    "ax.set_ylabel(\"occurences\")\n",
    "ax.set_xlabel(\"ratings\")\n",
    "sns.histplot(data=ratings_ddf[ratings_ddf['rating']%0.25==0],x='rating',ax=ax,bins=200)"
   ]
  },
  {
   "cell_type": "code",
   "execution_count": 17,
   "metadata": {},
   "outputs": [
    {
     "data": {
      "text/plain": [
       "<AxesSubplot:xlabel='rating', ylabel='Count'>"
      ]
     },
     "execution_count": 17,
     "metadata": {},
     "output_type": "execute_result"
    },
    {
     "data": {
      "image/png": "[encoded data removed]",
      "text/plain": [
       "<Figure size 640x480 with 1 Axes>"
      ]
     },
     "metadata": {},
     "output_type": "display_data"
    }
   ],
   "source": [
    "ax.set_title(\"Distribution of Ratings\")\n",
    "ax.set_ylabel(\"occurences\")\n",
    "ax.set_xlabel(\"ratings\")\n",
    "sns.histplot(data=ratings_ddf[ratings_ddf['rating']%0.25!=0],x='rating',bins=500)"
   ]
  },
  {
   "cell_type": "markdown",
   "metadata": {},
   "source": [
    "## review"
   ]
  },
  {
   "cell_type": "code",
   "execution_count": 18,
   "metadata": {},
   "outputs": [
    {
     "name": "stdout",
     "output_type": "stream",
     "text": [
      "What percentage of ratings have a review ?\n",
      "31.55%\n"
     ]
    }
   ],
   "source": [
    "print('What percentage of ratings have a review ?')\n",
    "print(\"{}%\".format(round(len(ratings_ddf[ratings_ddf.has_review==True].index)/len(ratings_ddf.index)*100, 2)))"
   ]
  },
  {
   "cell_type": "code",
   "execution_count": 19,
   "metadata": {},
   "outputs": [
    {
     "name": "stdout",
     "output_type": "stream",
     "text": [
      "What's the number of review ?\n"
     ]
    },
    {
     "data": {
      "text/plain": [
       "2414889"
      ]
     },
     "execution_count": 19,
     "metadata": {},
     "output_type": "execute_result"
    }
   ],
   "source": [
    "print('What\\'s the number of review ?')\n",
    "ratings_ddf[ratings_ddf[\"has_review\"]].compute()['review'].size"
   ]
  },
  {
   "cell_type": "code",
   "execution_count": 20,
   "metadata": {},
   "outputs": [
    {
     "name": "stdout",
     "output_type": "stream",
     "text": [
      "What's the average number of characters per review ?\n"
     ]
    },
    {
     "data": {
      "text/plain": [
       "679.763346058556"
      ]
     },
     "execution_count": 20,
     "metadata": {},
     "output_type": "execute_result"
    }
   ],
   "source": [
    "print('What\\'s the average number of characters per review ?')\n",
    "ratings_ddf[ratings_ddf[\"has_review\"]].compute()['review'].astype(str).map(lambda x: len(x)).mean()\n"
   ]
  },
  {
   "cell_type": "code",
   "execution_count": 21,
   "metadata": {},
   "outputs": [
    {
     "name": "stdout",
     "output_type": "stream",
     "text": [
      "What's the average number of word of a review ?\n"
     ]
    },
    {
     "data": {
      "text/plain": [
       "118.81396370599228"
      ]
     },
     "execution_count": 21,
     "metadata": {},
     "output_type": "execute_result"
    }
   ],
   "source": [
    "print('What\\'s the average number of word of a review ?')\n",
    "ratings_ddf[ratings_ddf[\"has_review\"]].compute()['review'].astype(str).map(lambda x: len(x.split())).mean()"
   ]
  }
 ],
 "metadata": {
  "kernelspec": {
   "display_name": "Python 3.9.12 ('base')",
   "language": "python",
   "name": "python3"
  },
  "language_info": {
   "codemirror_mode": {
    "name": "ipython",
    "version": 3
   },
   "file_extension": ".py",
   "mimetype": "text/x-python",
   "name": "python",
   "nbconvert_exporter": "python",
   "pygments_lexer": "ipython3",
   "version": "3.9.12"
  },
  "orig_nbformat": 4,
  "vscode": {
   "interpreter": {
    "hash": "6bb2e1f904bb6e863f2b9088396373e4778cab81ffde8089fcb5238aee912dca"
   }
  }
 },
 "nbformat": 4,
 "nbformat_minor": 2
}
