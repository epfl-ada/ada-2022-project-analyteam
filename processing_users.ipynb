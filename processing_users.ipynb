{
 "cells": [
  {
   "cell_type": "markdown",
   "metadata": {},
   "source": [
    "## BeerAdvocate: Descriptive Analysis and Processing\n",
    "\n",
    "---\n",
    "\n",
    "**Processing and Transformations Summary of \"users.csv\"**\n",
    "\n",
    "- **Renaming Columns**: \"nbr_ratings\" to \"n_ratings\", \"nbr_reviews\" to \"n_reviews\", \"user_id\" to \"uid\", \"user_name\" to \"username\".\n",
    "- **Converting Data Types**: \"n_ratings\", \"n_reviews\" to int & \"username\", \"uid\", \"location\" to str.\n",
    "- **Converting \"nan\" to None**: in \"location\".\n",
    "- **Creating an additional \"country\" column from \"location\"**: by extracting the country name from the location (example: \"United States, Texas\" location belongs to country \"United States\").\n",
    "- **Converting the \"joined\" column values**: float values (time in seconds, reference is Jan.1st 1970 at 00:00) to pandas.Timestamp. Implicit conversion of NaN to NaT. \n",
    "\n",
    "---\n",
    "\n",
    "**Descriptive Analysis Summary of \"users.csv\"**\n",
    "\n",
    "* **Missing values**: none, except for \"location\" that may contain \"nan\" (previously converted to None) and \"joined\" that may contain NaN (previously implictely converted to NaT).\n",
    "\n",
    "<br>\n",
    "\n",
    "* **users**:\n",
    "  - 153'704 unique users.\n",
    "  - $\\approx$ 20.3% of users are of unknown location.\n",
    "  - most users are located in English speaking countries. top 5 countries in terms of number of users:\n",
    "  \n",
    "  | country | wrt to all users | wrt users with known location |\n",
    "  | :- | :-: | :-: |\n",
    "  | United States | 73.6% | 92.4% |\n",
    "  | Canada | 2.1% | 2.7% |\n",
    "  | England | 0.5% | 0.6% | \n",
    "  | Australia | 0.3% | 0.4% |\n",
    "  | Germany | 0.2% | 0.3% |\n",
    "\n",
    "<br>\n",
    "\n",
    "* **ratings**:\n",
    "  - 8'393'032 ratings in total.\n",
    "  - heavy-tailed distribution of the number of ratings per user.\n",
    "  - 50% of users have at most 3 ratings.\n",
    "  - the mean number of ratings $\\approx 54.6$ is quite low while the standard deviation $\\approx 252.38$ is very high.\n",
    "  - most rtings are given by users located in English speaking countries. Top 5 countries in terms of the number of ratings: \n",
    "\n",
    "  | country | wrt to all users | wrt users with known location |\n",
    "  | :- | :-: | :-: |\n",
    "  | United States | 87% | 92.5% |\n",
    "  | Canada | 3.2% | 3.4% |\n",
    "  | England | 0.4% | 0.5% | \n",
    "  | Australia | 0.4% | 0.4% |\n",
    "  | Sweden | 0.3% | 0.3% |\n",
    "\n",
    "<br>\n",
    "\n",
    "* **reviews**:\n",
    "  - reviews in total.\n",
    "  - distribtion ?\n",
    "  - 50% of users have 0 reviews.\n",
    "  - the mean number of reviews $\\approx 16.84$ is quite low while the standard deviation $\\approx 139.84$ is very high.\n",
    "  - most reviews are given by users from English speaking countries (US, Canada, Australia, England). Top 5 countries in terms of the number of reviews:\n",
    "  \n",
    "  | country | wrt to all users | wrt users with known location |\n",
    "  | :- | :-: | :-: |\n",
    "  | United States | 86.5% | 89.8% |\n",
    "  | Canada | 4.8% | 5% |\n",
    "  | Australia | 1% | 1% | \n",
    "  | England | 0.8% | 0.8% |\n",
    "  | Netherlands | 0.3% | 0.3% |\n",
    "\n",
    "<br>\n",
    "\n",
    "* **joined**:\n",
    "  - earliest year of joining: 1996.\n",
    "  - latest year of joining: 2017 (date of the end of the collection of data, which happened between 2001 and 2017).\n",
    "  - there are only 2652 users with unknown joining date.\n",
    "  - the yearly by month distribution of users joining the plateform is not disrupted throughout most of the years (starting 2001 until 2017). \n",
    "\n",
    "<br>\n",
    "\n",
    "* **country**:\n",
    "  - users are located in 145 different countries.\n",
    "\n",
    "---"
   ]
  },
  {
   "cell_type": "code",
   "execution_count": null,
   "metadata": {},
   "outputs": [],
   "source": [
    "from setup import dask_init, dask_shutdown\n",
    "import dask.distributed as dd\n",
    "import dask.dataframe as ddf\n",
    "\n",
    "import pandas as pd\n",
    "import numpy as np\n",
    "\n",
    "import ingestion as ing\n",
    "import processing as prc\n",
    "\n",
    "import datetime as dt\n",
    "\n",
    "import seaborn as sns\n",
    "import matplotlib.pyplot as plt\n",
    "%matplotlib inline\n",
    "\n",
    "%load_ext autoreload\n",
    "%autoreload 2"
   ]
  },
  {
   "cell_type": "markdown",
   "metadata": {},
   "source": [
    "**setup**"
   ]
  },
  {
   "cell_type": "code",
   "execution_count": null,
   "metadata": {},
   "outputs": [],
   "source": [
    "# PANDAS SETUP\n",
    "pd.options.mode.use_inf_as_na = True\n",
    "\n",
    "# DASK SETUP\n",
    "client, cluster = dask_init()\n",
    "cluster"
   ]
  },
  {
   "cell_type": "markdown",
   "metadata": {},
   "source": [
    "### BeerAdvocate - users.csv"
   ]
  },
  {
   "cell_type": "markdown",
   "metadata": {},
   "source": [
    "**[I] Loading the Data**"
   ]
  },
  {
   "cell_type": "code",
   "execution_count": null,
   "metadata": {},
   "outputs": [],
   "source": [
    "users_cols = [\n",
    "    \"nbr_ratings\",\n",
    "    \"nbr_reviews\",\n",
    "    \"user_id\",\n",
    "    \"user_name\",\n",
    "    \"joined\",\n",
    "    \"location\"]\n",
    "\n",
    "users_df = ing.read_csv(\n",
    "    path=ing.build_path(folderind=\"ba\", fileind=\"users\"),\n",
    "    assume_missing=True,\n",
    "    keepcols=users_cols)\n",
    "\n",
    "users_df.head(5)"
   ]
  },
  {
   "cell_type": "markdown",
   "metadata": {},
   "source": [
    "**[II] Data Transformation**"
   ]
  },
  {
   "cell_type": "markdown",
   "metadata": {},
   "source": [
    "Renaming the columns"
   ]
  },
  {
   "cell_type": "code",
   "execution_count": null,
   "metadata": {},
   "outputs": [],
   "source": [
    "cols_renaming = {\n",
    "    \"nbr_ratings\": \"n_ratings\",\n",
    "    \"nbr_reviews\": \"n_reviews\",\n",
    "    \"user_id\": \"uid\",\n",
    "    \"user_name\": \"username\"\n",
    "}\n",
    "\n",
    "users_df = users_df.rename(columns=cols_renaming)\n",
    "users_df.columns"
   ]
  },
  {
   "cell_type": "markdown",
   "metadata": {},
   "source": [
    "Converting data types"
   ]
  },
  {
   "cell_type": "code",
   "execution_count": null,
   "metadata": {},
   "outputs": [],
   "source": [
    "users_df.dtypes"
   ]
  },
  {
   "cell_type": "code",
   "execution_count": null,
   "metadata": {},
   "outputs": [],
   "source": [
    "users_dtypes = {\n",
    "    \"n_ratings\": np.int32, \n",
    "    \"n_reviews\": np.int32, \n",
    "    \"uid\": str, \n",
    "    \"username\": str,\n",
    "    \"location\": str\n",
    "}\n",
    "\n",
    "users_df = users_df.astype(users_dtypes)\n",
    "users_df.dtypes"
   ]
  },
  {
   "cell_type": "markdown",
   "metadata": {},
   "source": [
    "Converting \"nan\" strings in \"location\" to None"
   ]
  },
  {
   "cell_type": "code",
   "execution_count": null,
   "metadata": {},
   "outputs": [],
   "source": [
    "users_df[\"location\"] = users_df.location.apply(prc.str_nan_to_none)"
   ]
  },
  {
   "cell_type": "markdown",
   "metadata": {},
   "source": [
    "Converting the \"joined\" column values (time in seconds) to Timestamps"
   ]
  },
  {
   "cell_type": "code",
   "execution_count": null,
   "metadata": {},
   "outputs": [],
   "source": [
    "users_df[\"joined\"] = ddf.to_datetime(users_df.joined, unit=\"s\")\n",
    "users_df.head(5)"
   ]
  },
  {
   "cell_type": "code",
   "execution_count": null,
   "metadata": {},
   "outputs": [],
   "source": [
    "# CHECK\n",
    "print(\"CHECK: max date year must be at most 2017, the last year data was collected.\")\n",
    "users_df.joined.max()"
   ]
  },
  {
   "cell_type": "markdown",
   "metadata": {},
   "source": [
    "Appending the Country of Each Territory"
   ]
  },
  {
   "cell_type": "code",
   "execution_count": null,
   "metadata": {},
   "outputs": [],
   "source": [
    "users_df[\"country\"] = users_df[\"location\"].apply(lambda territory: prc.get_country(territory))\n",
    "users_df.head(5)"
   ]
  },
  {
   "cell_type": "markdown",
   "metadata": {},
   "source": [
    "**[III] Descriptive Statistics & Distributions**"
   ]
  },
  {
   "cell_type": "code",
   "execution_count": null,
   "metadata": {},
   "outputs": [],
   "source": [
    "users_df.describe()"
   ]
  },
  {
   "cell_type": "markdown",
   "metadata": {},
   "source": [
    "user_id"
   ]
  },
  {
   "cell_type": "code",
   "execution_count": null,
   "metadata": {},
   "outputs": [],
   "source": [
    "print(\"Is any user ID missing ?\")\n",
    "users_df.uid.isna().any()"
   ]
  },
  {
   "cell_type": "code",
   "execution_count": null,
   "metadata": {},
   "outputs": [],
   "source": [
    "print(\"How many unique users ?\")\n",
    "n_users = len(users_df.uid.unique())\n",
    "n_users"
   ]
  },
  {
   "cell_type": "markdown",
   "metadata": {},
   "source": [
    "location"
   ]
  },
  {
   "cell_type": "code",
   "execution_count": null,
   "metadata": {},
   "outputs": [],
   "source": [
    "print(\"Is there a user with unknown location ?\")\n",
    "users_df.location.isna().any()"
   ]
  },
  {
   "cell_type": "code",
   "execution_count": null,
   "metadata": {},
   "outputs": [],
   "source": [
    "print(\"How many users have an unknown location ?\")\n",
    "n_users_unknown_loc = users_df.location.isna().sum()\n",
    "n_users_unknown_loc"
   ]
  },
  {
   "cell_type": "code",
   "execution_count": null,
   "metadata": {},
   "outputs": [],
   "source": [
    "print(\"What fraction do these users make up of the total number of users ?\")\n",
    "n_users_unknown_loc / n_users"
   ]
  },
  {
   "cell_type": "code",
   "execution_count": null,
   "metadata": {},
   "outputs": [],
   "source": [
    "print(\"Where are all users located ?\")\n",
    "all_countries = users_df.country[~users_df.country.isna()].unique()\n",
    "all_countries.sort()\n",
    "all_countries"
   ]
  },
  {
   "cell_type": "code",
   "execution_count": null,
   "metadata": {},
   "outputs": [],
   "source": [
    "print(\"How many different locations are there ?\")\n",
    "len(all_countries)"
   ]
  },
  {
   "cell_type": "code",
   "execution_count": null,
   "metadata": {},
   "outputs": [],
   "source": [
    "n_users_per_country_wout_us = users_df[\\\n",
    "    (~users_df.country.isna()) &\\\n",
    "    (users_df.country != \"United States\")].groupby(\"country\", as_index=False).size()\n",
    "\n",
    "fig, ax = plt.subplots(1,1)\n",
    "ax.set_title(\"Number of Users Across All Countries except the US\")\n",
    "ax.set_ylabel(\"users' count\")\n",
    "ax.set_xlabel(\"country (represented via its index entry)\")\n",
    "sns.scatterplot(data=n_users_per_country_wout_us, ax=ax, s=10)"
   ]
  },
  {
   "cell_type": "code",
   "execution_count": null,
   "metadata": {},
   "outputs": [],
   "source": [
    "print(\"List of countries with at least 100 users\")\n",
    "n_users_per_country = users_df.groupby(\"country\", as_index=False).size()\n",
    "countries_atleast_100users = n_users_per_country[n_users_per_country[\"size\"] >= 100]\n",
    "countries_atleast_100users[\"users_frac\"] = countries_atleast_100users[\"size\"] / users_df.location[~ users_df.location.isna()].size\n",
    "countries_atleast_100users = countries_atleast_100users.sort_values(by=\"size\", ascending=False)\n",
    "countries_atleast_100users"
   ]
  },
  {
   "cell_type": "markdown",
   "metadata": {},
   "source": [
    "n_ratings"
   ]
  },
  {
   "cell_type": "code",
   "execution_count": null,
   "metadata": {},
   "outputs": [],
   "source": [
    "print(\"Is there a user with unknown number of ratings ?\")\n",
    "users_df.n_ratings.isna().any()"
   ]
  },
  {
   "cell_type": "code",
   "execution_count": null,
   "metadata": {},
   "outputs": [],
   "source": [
    "print(\"Total number of ratings\")\n",
    "total_n_ratings = users_df.n_ratings.sum()\n",
    "total_n_ratings"
   ]
  },
  {
   "cell_type": "code",
   "execution_count": null,
   "metadata": {},
   "outputs": [],
   "source": [
    "fig, ax = plt.subplots(1,1)\n",
    "ax.set_title(\"Distribution of Ratings Across All Users\")\n",
    "ax.set_ylabel(\"occurences\")\n",
    "ax.set_xlabel(\"ratings\")\n",
    "sns.histplot(data=users_df, x=\"n_ratings\", ax=ax, bins=20, log_scale=True)\n"
   ]
  },
  {
   "cell_type": "code",
   "execution_count": null,
   "metadata": {},
   "outputs": [],
   "source": [
    "n_ratings_per_country = users_df[\\\n",
    "    (~users_df.country.isna()) &\\\n",
    "    (users_df.country != \"United States\")].groupby(\"country\", as_index=False).agg({\"n_ratings\": np.sum})\n",
    "\n",
    "fig, ax = plt.subplots(1,1)\n",
    "ax.set_title(\"Number of Ratings Across All Countries except the US\")\n",
    "ax.set_ylabel(\"ratings' count\")\n",
    "ax.set_xlabel(\"country (represented by its entry index)\")\n",
    "sns.scatterplot(data=n_ratings_per_country, ax=ax, s=10)"
   ]
  },
  {
   "cell_type": "code",
   "execution_count": null,
   "metadata": {},
   "outputs": [],
   "source": [
    "print(\"List of countries with at least 10'000 ratings\")\n",
    "min_n_ratings = 10_000\n",
    "n_ratings_per_country = users_df[~users_df.country.isna()].groupby(\"country\", as_index=False).agg({\"n_ratings\": np.sum})\n",
    "countries_atleast_10Kratings = n_ratings_per_country[n_ratings_per_country.n_ratings >= min_n_ratings]\n",
    "countries_atleast_10Kratings[\"ratings_frac\"] = countries_atleast_10Kratings.n_ratings / users_df[~users_df.country.isna()].n_ratings.sum()\n",
    "countries_atleast_10Kratings = countries_atleast_10Kratings.sort_values(by=\"n_ratings\", ascending=False)\n",
    "countries_atleast_10Kratings"
   ]
  },
  {
   "cell_type": "markdown",
   "metadata": {},
   "source": [
    "n_reviews"
   ]
  },
  {
   "cell_type": "code",
   "execution_count": null,
   "metadata": {},
   "outputs": [],
   "source": [
    "print(\"Is there a user with unknown number of reviews ?\")\n",
    "users_df.n_reviews.isna().any()"
   ]
  },
  {
   "cell_type": "code",
   "execution_count": null,
   "metadata": {},
   "outputs": [],
   "source": [
    "print(\"Total number of reviews\")\n",
    "total_n_reviews = users_df.n_reviews.sum()\n",
    "total_n_reviews"
   ]
  },
  {
   "cell_type": "code",
   "execution_count": null,
   "metadata": {},
   "outputs": [],
   "source": [
    "fig, ax = plt.subplots(1,1)\n",
    "ax.set_title(\"Distribution of Reviews Across All Users\")\n",
    "ax.set_ylabel(\"occurences\")\n",
    "ax.set_xlabel(\"reviews\")\n",
    "sns.histplot(data=users_df, x=\"n_reviews\", ax=ax, bins=20, log_scale=True)"
   ]
  },
  {
   "cell_type": "code",
   "execution_count": null,
   "metadata": {},
   "outputs": [],
   "source": [
    "print(\"List of countries with at least 5'000 reviews\")\n",
    "min_n_reviews = 5_000\n",
    "n_reviews_per_country = users_df[~users_df.country.isna()].groupby(\"country\", as_index=False).agg({\"n_reviews\": np.sum})\n",
    "countries_atleast_5Kreviews = n_reviews_per_country[n_reviews_per_country.n_reviews >= min_n_reviews]\n",
    "countries_atleast_5Kreviews[\"reviews_frac\"] = countries_atleast_5Kreviews.n_reviews /\\\n",
    "    users_df.n_reviews[~users_df.country.isna()].sum()\n",
    "countries_atleast_5Kreviews = countries_atleast_5Kreviews.sort_values(by=\"n_reviews\", ascending=False)\n",
    "countries_atleast_5Kreviews"
   ]
  },
  {
   "cell_type": "markdown",
   "metadata": {},
   "source": [
    "joined"
   ]
  },
  {
   "cell_type": "code",
   "execution_count": null,
   "metadata": {},
   "outputs": [],
   "source": [
    "print(\"Is there any missing joining date ?\")\n",
    "users_df.joined.isna().any()"
   ]
  },
  {
   "cell_type": "code",
   "execution_count": null,
   "metadata": {},
   "outputs": [],
   "source": [
    "print(\"How many users have unknown joining date ?\")\n",
    "users_df.joined.isna().sum()"
   ]
  },
  {
   "cell_type": "code",
   "execution_count": null,
   "metadata": {},
   "outputs": [],
   "source": [
    "fig, axs = plt.subplots(5, 4, figsize=(12,10))\n",
    "plt.subplots_adjust(wspace=1, hspace=1)\n",
    "fig.suptitle(\"Distribution of Users Joining the Plateform from 1996 to 2017 Broken Down by Month\")\n",
    "users_joined_by_year = users_df.groupby(users_df.joined.dt.year, as_index=False)\n",
    "for i, (year, by_year) in enumerate(users_joined_by_year):\n",
    "    a = int(i/4); b = i % 4\n",
    "    ax = axs[a][b]\n",
    "    ax.set_title(\"year %d\"%(year))\n",
    "    users_joined_by_month = by_year.groupby(by_year.joined.dt.month, as_index=False).size()\n",
    "    sns.barplot(data=users_joined_by_month, x=\"joined\", y=\"size\", color=\"blue\", ax=ax, orient=\"v\")"
   ]
  }
 ],
 "metadata": {
  "kernelspec": {
   "display_name": "Python 3.9.13 ('py3-9')",
   "language": "python",
   "name": "python3"
  },
  "language_info": {
   "codemirror_mode": {
    "name": "ipython",
    "version": 3
   },
   "file_extension": ".py",
   "mimetype": "text/x-python",
   "name": "python",
   "nbconvert_exporter": "python",
   "pygments_lexer": "ipython3",
   "version": "3.9.13"
  },
  "orig_nbformat": 4,
  "vscode": {
   "interpreter": {
    "hash": "6a544d51636c8be653f08d3b5795ae65331d8a614316b445f10efa199710edbc"
   }
  }
 },
 "nbformat": 4,
 "nbformat_minor": 2
}
