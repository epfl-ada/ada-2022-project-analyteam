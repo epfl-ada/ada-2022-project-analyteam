{
 "cells": [
  {
   "cell_type": "code",
   "execution_count": null,
   "metadata": {},
   "outputs": [],
   "source": [
    "from ingestion import txt2csv\n",
    "from setup import nltk_init\n",
    "\n",
    "%load_ext autoreload\n",
    "%autoreload 2"
   ]
  },
  {
   "cell_type": "code",
   "execution_count": null,
   "metadata": {},
   "outputs": [],
   "source": [
    "ALL_TAGS = [\n",
    "    \"beer_name\", \n",
    "    \"beer_id\", \n",
    "    \"brewery_name\",\n",
    "    \"brewery_id\",\n",
    "    \"style\",\n",
    "    \"abv\",\n",
    "    \"date\",\n",
    "    \"user_name\",\n",
    "    \"user_id\",\n",
    "    \"appearance\",\n",
    "    \"aroma\",\n",
    "    \"palate\",\n",
    "    \"taste\",\n",
    "    \"overall\",\n",
    "    \"rating\",\n",
    "    \"text\",\n",
    "    \"review\"\n",
    "]\n",
    "\n",
    "SELECTED_TAGS = [\n",
    "    \"date\",\n",
    "    \"beer_id\", \n",
    "    \"user_id\",\n",
    "    \"brewery_id\",\n",
    "    \"appearance\",\n",
    "    \"aroma\",\n",
    "    \"palate\",\n",
    "    \"taste\",\n",
    "    \"overall\",\n",
    "    \"rating\"\n",
    "    \"review\",\n",
    "    \"text\"\n",
    "]"
   ]
  },
  {
   "cell_type": "code",
   "execution_count": null,
   "metadata": {},
   "outputs": [],
   "source": [
    "# RUN THIS ONLY ONCE IF MISSING NLTK DEPENDENCIES\n",
    "# nltk_init()"
   ]
  },
  {
   "cell_type": "code",
   "execution_count": null,
   "metadata": {},
   "outputs": [],
   "source": [
    "txt2csv(\n",
    "    from_path=\"./Data/BeerAdvocate/ratings.txt\", \n",
    "    to_path=\"./RefinedData/BeerAdvocate/ratings.csv\",\n",
    "    selected_tags=SELECTED_TAGS,\n",
    "    all_tags=ALL_TAGS)"
   ]
  }
 ],
 "metadata": {
  "kernelspec": {
   "display_name": "Python 3.9.13 ('py3-9')",
   "language": "python",
   "name": "python3"
  },
  "language_info": {
   "codemirror_mode": {
    "name": "ipython",
    "version": 3
   },
   "file_extension": ".py",
   "mimetype": "text/x-python",
   "name": "python",
   "nbconvert_exporter": "python",
   "pygments_lexer": "ipython3",
   "version": "3.9.13"
  },
  "orig_nbformat": 4,
  "vscode": {
   "interpreter": {
    "hash": "6a544d51636c8be653f08d3b5795ae65331d8a614316b445f10efa199710edbc"
   }
  }
 },
 "nbformat": 4,
 "nbformat_minor": 2
}
