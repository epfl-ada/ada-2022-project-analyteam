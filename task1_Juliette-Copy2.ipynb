{
 "cells": [
  {
   "cell_type": "markdown",
   "id": "147cd53b",
   "metadata": {},
   "source": [
    "- beers per user : 373 seconds\n",
    "- std : 66 seconds\n",
    "- explorer score per user : 0.3 seconds per user\n",
    "- adventurer score per user : 0.09 s per user"
   ]
  },
  {
   "cell_type": "code",
   "execution_count": 1,
   "id": "81425332",
   "metadata": {},
   "outputs": [],
   "source": [
    "import pandas as pd\n",
    "import time\n",
    "\n",
    "import categories as cat"
   ]
  },
  {
   "cell_type": "code",
   "execution_count": 2,
   "id": "303beab3",
   "metadata": {},
   "outputs": [],
   "source": [
    "ratings_parquets_path = 'RefinedData/BeerAdvocate//ratings.parquet'\n",
    "beers_parquet_path = \"RefinedData/BeerAdvocate/beers.parquet/\"\n",
    "users_parquet_path = \"RefinedData/BeerAdvocate/users.parquet/\""
   ]
  },
  {
   "cell_type": "code",
   "execution_count": null,
   "id": "b2ff89a0",
   "metadata": {},
   "outputs": [
    {
     "name": "stdout",
     "output_type": "stream",
     "text": [
      "ratings loaded\n",
      "beers loaded\n",
      "users loaded\n"
     ]
    }
   ],
   "source": [
    "t = time.time()\n",
    "categorization = cat.Categorization(ratings_parquets_path, beers_parquet_path, users_parquet_path)\n",
    "print(\"run time :\",time.time()-t)"
   ]
  },
  {
   "cell_type": "code",
   "execution_count": null,
   "id": "5be34a61",
   "metadata": {},
   "outputs": [],
   "source": [
    "categorization.get_ratings_head()"
   ]
  },
  {
   "cell_type": "code",
   "execution_count": null,
   "id": "1958cbc6",
   "metadata": {},
   "outputs": [],
   "source": [
    "categorization.get_users_head()"
   ]
  },
  {
   "cell_type": "code",
   "execution_count": null,
   "id": "df0e1e24",
   "metadata": {},
   "outputs": [],
   "source": [
    "categorization.get_beers_head()"
   ]
  },
  {
   "cell_type": "code",
   "execution_count": null,
   "id": "83164a25",
   "metadata": {},
   "outputs": [],
   "source": [
    "user_ids = categorization.get_userIds_list()\n",
    "print(len(user_ids))\n",
    "user_ids[:3]"
   ]
  },
  {
   "cell_type": "code",
   "execution_count": null,
   "id": "afc86361",
   "metadata": {},
   "outputs": [],
   "source": []
  },
  {
   "cell_type": "code",
   "execution_count": null,
   "id": "11fb158e",
   "metadata": {},
   "outputs": [],
   "source": [
    "categorization.co"
   ]
  },
  {
   "cell_type": "code",
   "execution_count": null,
   "id": "7da0894a",
   "metadata": {},
   "outputs": [],
   "source": []
  },
  {
   "cell_type": "code",
   "execution_count": null,
   "id": "90abea44",
   "metadata": {},
   "outputs": [],
   "source": [
    "adventurer_scores = categorization.get_adventurer_score()\n",
    "print(adventurer_scores)\n",
    "categorization.users_ddf"
   ]
  },
  {
   "cell_type": "code",
   "execution_count": null,
   "id": "366264c0",
   "metadata": {},
   "outputs": [],
   "source": []
  },
  {
   "cell_type": "code",
   "execution_count": null,
   "id": "d1fadad5",
   "metadata": {},
   "outputs": [],
   "source": [
    "explorer_scores = categorization.get_explorer_score_for_all_users()\n",
    "print(explorer_scoresorer_scores)\n",
    "categorization.users_ddf"
   ]
  },
  {
   "cell_type": "code",
   "execution_count": null,
   "id": "c276792c",
   "metadata": {},
   "outputs": [],
   "source": []
  },
  {
   "cell_type": "code",
   "execution_count": null,
   "id": "1850804f",
   "metadata": {},
   "outputs": [],
   "source": []
  },
  {
   "cell_type": "code",
   "execution_count": null,
   "id": "50a74861",
   "metadata": {},
   "outputs": [],
   "source": [
    "categorization."
   ]
  },
  {
   "cell_type": "code",
   "execution_count": null,
   "id": "b8c8fdb9",
   "metadata": {},
   "outputs": [],
   "source": [
    "from copy import copy\n",
    "import dask.dataframe as ddf\n",
    "T = 3\n",
    "\n",
    "ratings_ddf = copy(categorization.ratings_ddf)\n",
    "beers_per_users = copy(categorization.beers_per_users)\n",
    "users_ddf = copy(categorization.users_ddf)\n",
    "\n",
    "adventurer_score_fast_table=categorization.ratings_ddf.loc[categorization.ratings_ddf[\"dated_rating\"] < T].copy().groupby('uid').count()[['rank']]\n",
    "adventurer_score_fast_table=adventurer_score_fast_table.reset_index()\n",
    "\n",
    "users_ddf=ddf.merge(\n",
    "                users_ddf,\n",
    "                adventurer_score_fast_table,\n",
    "                how=\"left\", on='uid')\n",
    "users_ddf=users_ddf.rename(columns={'rank': 'adv_score'}).fillna(0)\n",
    "users_ddf['adv_score'] = users_ddf['adv_score'].astype('Int64')\n",
    "users_ddf"
   ]
  },
  {
   "cell_type": "code",
   "execution_count": null,
   "id": "8a52dd5e",
   "metadata": {},
   "outputs": [],
   "source": [
    "T = 3\n",
    "n = 240\n",
    "import numpy as np\n",
    "\n",
    "def jupyter_get_adventurer_score(user_ids, ratings_ddf, beers_per_users):\n",
    "    print(\"ADVENTURER SCORE FOR \", user_id)\n",
    "    rating_of_user_dated = ratings_ddf.loc[ratings_ddf[\"uid\"] == user_id][[\"dated_rating\"]]\n",
    "    rating_of_user_dated = ratings_ddf.groupby(\"uid\").apply(list)\n",
    "    \n",
    "    rating_of_user_dated = rating_of_user_dated.loc[rating_of_user_dated[\"dated_rating\"] < T]\n",
    "    return len(rating_of_user_dated.index)"
   ]
  },
  {
   "cell_type": "code",
   "execution_count": null,
   "id": "b884505b",
   "metadata": {},
   "outputs": [],
   "source": [
    "T = 3\n",
    "n = 240\n",
    "import numpy as np\n",
    "\n",
    "def jupyter_get_adventurer_score(user_id, ratings_ddf, beers_per_users):\n",
    "    #print(\"ADVENTURER SCORE FOR \", user_id)\n",
    "    #t = time.time()\n",
    "    rating_of_user_dated = ratings_ddf.loc[ratings_ddf[\"dated_rating\"] < T]\n",
    "    #print(\"line 1\", time.time()-t)\n",
    "\n",
    "    #t = time.time()\n",
    "    rating_of_user_dated = rating_of_user_dated.loc[rating_of_user_dated[\"uid\"] == user_id][[\"dated_rating\"]]\n",
    "    #print(\"line 2\", time.time()-t)\n",
    "    return len(rating_of_user_dated.index)"
   ]
  },
  {
   "cell_type": "code",
   "execution_count": null,
   "id": "cb83c4cc",
   "metadata": {},
   "outputs": [],
   "source": [
    "t = time.time()\n",
    "n = 100\n",
    "for user_id in user_ids[:n]:\n",
    "    jupyter_get_adventurer_score(user_id, categorization.ratings_ddf, categorization.beers_per_users)\n",
    "print((time.time()-t) / n)"
   ]
  },
  {
   "cell_type": "code",
   "execution_count": null,
   "id": "c41c4479",
   "metadata": {},
   "outputs": [],
   "source": [
    "t = time.time()\n",
    "jupyter_get_adventurer_score(\"jarodrishe.823911\", categorization.ratings_ddf, categorization.beers_per_users)\n",
    "print(time.time()-t)"
   ]
  },
  {
   "cell_type": "code",
   "execution_count": null,
   "id": "311aec17",
   "metadata": {},
   "outputs": [],
   "source": [
    "categorization.beers_ddf.loc[categorization.beers_ddf[\"bid\"] == 17538]"
   ]
  },
  {
   "cell_type": "code",
   "execution_count": null,
   "id": "e84d8fd1",
   "metadata": {},
   "outputs": [],
   "source": []
  },
  {
   "cell_type": "code",
   "execution_count": null,
   "id": "de306932",
   "metadata": {},
   "outputs": [],
   "source": [
    "from copy import copy\n",
    "#(ba_score+mean(avg_ratings)-mean(ba_score))/std(ba_score)4.054117*std(avf_ratings)0.385004\n",
    "\n",
    "categorization.beers_ddf.loc[~np.isnan(categorization.beers_ddf[\"ba_score\"])][\"ba_score\"]\n",
    "\n",
    "beers_ddf = copy(categorization.beers_ddf)\n",
    "beers_ddf[\"ba_score\"] /= 20\n",
    "beers_ddf"
   ]
  },
  {
   "cell_type": "code",
   "execution_count": null,
   "id": "557b161d",
   "metadata": {},
   "outputs": [],
   "source": [
    "def jupyter_get_explorer_score_for_user(ratings_ddf, user_id, beers_per_users):\n",
    "    first_ratings = ratings_ddf.loc[ratings_ddf[\"rank\"] <= 10][[\"uid\"]]\n",
    "    first_ratings = first_ratings.loc[first_ratings[\"uid\"] == user_id]\n",
    "    return len(first_ratings.index)"
   ]
  },
  {
   "cell_type": "code",
   "execution_count": null,
   "id": "a84d47a4",
   "metadata": {},
   "outputs": [],
   "source": [
    "from copy import copy\n",
    "\n",
    "ratings_ddf = copy(categorization.ratings_ddf)\n",
    "beers_per_users = copy(categorization.beers_per_users)\n",
    "\n",
    "t = time.time()\n",
    "n = 10\n",
    "for user_id in user_ids[:n]:\n",
    "    print(\"user id :\",user_id,\"score:\",jupyter_get_explorer_score_for_user(ratings_ddf, user_id, beers_per_users))\n",
    "print(\"Total time average: \", (time.time() - t)/n)\n",
    "\n",
    "jupyter_get_explorer_score_for_user(ratings_ddf, \"zymurgy4all.11427\", beers_per_users)"
   ]
  },
  {
   "cell_type": "code",
   "execution_count": null,
   "id": "919022f1",
   "metadata": {},
   "outputs": [],
   "source": []
  },
  {
   "cell_type": "code",
   "execution_count": null,
   "id": "78265116",
   "metadata": {},
   "outputs": [],
   "source": [
    "def jupyter_get_explorer_score(ratings_ddf, user_ids3, beers_per_users):\n",
    "    grouped_ratings_dff = ratings_ddf.groupby(\"uid\").apply(list)\n",
    "    \n",
    "    \n",
    "    first_ratings = ratings_ddf.loc[ratings_ddf[\"rank\"] <= 10][[\"uid\"]]\n",
    "    first_ratings = first_ratings.loc[first_ratings[\"uid\"] == user_id]\n",
    "    return len(first_ratings.index)"
   ]
  },
  {
   "cell_type": "code",
   "execution_count": null,
   "id": "fa4770ea",
   "metadata": {},
   "outputs": [],
   "source": [
    "from copy import copy\n",
    "import dask.dataframe as ddf\n",
    "\n",
    "ratings_ddf = copy(categorization.ratings_ddf)\n",
    "beers_per_users = copy(categorization.beers_per_users)\n",
    "users_ddf = copy(categorization.users_ddf)\n",
    "\n",
    "grouped_ratings_ddf = ratings_ddf[[\"uid\",\"rank\"]]\n",
    "grouped_ratings_ddf = grouped_ratings_ddf.loc[grouped_ratings_ddf[\"rank\"]<=10].groupby(\"uid\").count()\n",
    "\n",
    "grouped_ratings_table = grouped_ratings_ddf.reset_index()\n",
    "\n",
    "users_ddf = ddf.merge(\n",
    "                users_ddf,\n",
    "                grouped_ratings_table,\n",
    "                how=\"left\", on='uid')\n",
    "\n",
    "users_ddf = users_ddf.rename(columns={'rank': 'xpl_score'}).fillna(0)\n",
    "users_ddf['xpl_score'] = users_ddf['xpl_score'].astype('Int64')\n",
    "\n",
    "print(users_ddf[\"xpl_score\"])\n",
    "\n",
    "users_ddf"
   ]
  },
  {
   "cell_type": "code",
   "execution_count": null,
   "id": "d2014d74",
   "metadata": {},
   "outputs": [],
   "source": []
  },
  {
   "cell_type": "code",
   "execution_count": null,
   "id": "21a5f054",
   "metadata": {},
   "outputs": [],
   "source": [
    "def jupyter_get_expertlike_score(user_id, beers_per_users, beers_ddf, ratings_ddf):\n",
    "    beer_ids = beers_per_users[user_id]\n",
    "    ref = beers_ddf.loc[beers_ddf[\"bid\"].isin(beer_ids)][[\"bid\",\"ba_score\"]]\n",
    "    r_user_beers = ratings_ddf.loc[ratings_ddf[\"bid\"].isin(beer_ids)]\n",
    "    std = beers_ddf[\"std_rating\"]\n",
    "    print(std)\n",
    "\n",
    "    return\n"
   ]
  },
  {
   "cell_type": "code",
   "execution_count": null,
   "id": "70384e67",
   "metadata": {},
   "outputs": [],
   "source": [
    "from copy import copy\n",
    "\n",
    "user_id = user_ids[0]\n",
    "\n",
    "ratings_ddf = copy(categorization.ratings_ddf)\n",
    "beers_ddf = copy(categorization.beers_ddf)\n",
    "beers_per_users = copy(categorization.beers_per_users)\n",
    "users_ddf = copy(categorization.users_ddf)\n",
    "\n",
    "\n",
    "jupyter_get_expertlike_score(user_id, beers_per_users, beers_ddf, ratings_ddf)"
   ]
  },
  {
   "cell_type": "code",
   "execution_count": null,
   "id": "50a59ae6",
   "metadata": {},
   "outputs": [],
   "source": []
  },
  {
   "cell_type": "code",
   "execution_count": null,
   "id": "1445aa95",
   "metadata": {},
   "outputs": [],
   "source": [
    "df =pd.DataFrame(data={'id':[111,111,111,333,444],'user_id':[11,22,33,44,55],'date': [10,1, 2,9,8], 'rating': [0,1, 1,5,6]}) \n",
    "df"
   ]
  },
  {
   "cell_type": "code",
   "execution_count": null,
   "id": "44beecee",
   "metadata": {},
   "outputs": [],
   "source": [
    "df.loc[df[\"id\"] == 111][[\"user_id\",\"date\"]].sort_values(\"date\")"
   ]
  },
  {
   "cell_type": "code",
   "execution_count": null,
   "id": "fccc9cca",
   "metadata": {},
   "outputs": [],
   "source": [
    "df.loc[df[\"id\"] == 111].loc[df[\"rating\"] == 1]"
   ]
  },
  {
   "cell_type": "code",
   "execution_count": null,
   "id": "d8f60243",
   "metadata": {},
   "outputs": [],
   "source": [
    "type(df[\"col1\"][0])"
   ]
  }
 ],
 "metadata": {
  "kernelspec": {
   "display_name": "Python 3 (ipykernel)",
   "language": "python",
   "name": "python3"
  },
  "language_info": {
   "codemirror_mode": {
    "name": "ipython",
    "version": 3
   },
   "file_extension": ".py",
   "mimetype": "text/x-python",
   "name": "python",
   "nbconvert_exporter": "python",
   "pygments_lexer": "ipython3",
   "version": "3.10.6"
  },
  "vscode": {
   "interpreter": {
    "hash": "a6b17080f85ea43cbd537a9c7f7efa989c8a5a37822a332847af53db68a78ddf"
   }
  }
 },
 "nbformat": 4,
 "nbformat_minor": 5
}
