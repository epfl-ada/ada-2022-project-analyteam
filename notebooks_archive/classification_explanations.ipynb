{
 "cells": [
  {
   "cell_type": "markdown",
   "metadata": {},
   "source": [
    "## Plan and ideas for categorizing the diffrent users:\n",
    "We are going to compute a score for each users with more than 5 comments and classified them base on that score.\n",
    "We've choose 5 comments because if a user is conformist with just 1 comment it doesn't mean that this user will always be conformist. So in order to ballance the validity of our classified and the loss of user with this rule we've choose that 5 comments is a good limit.\n",
    "Let's call $n$ the number of biers the user has rated, $x_i$ the rating on a bier, $\\overline{x_i}$ the average rating for the i th bier, $\\sigma_i$ the standard deviation for the i th bier.\n",
    "# Non-Conformist + Conformist: \n",
    "We will compute how much the user ratings varied from the average rating.\n",
    "    $$ Conformism Score = \\frac{1}{n}\\frac{\\sum_{i=1}^{n} (x_i-\\overline{x_i})^{2}}{\\sigma_i^{2}}$$\n",
    "Using this formula we will take the 9th decile and call it the Free-Thinker because they varie a lot compare to the average user and we will call the first decile the Conformist because they are close to the average rating."
   ]
  },
  {
   "cell_type": "markdown",
   "metadata": {},
   "source": [
    "## Generous rating + Hard to please:\n",
    "We will compute how much the user ratings is higher or lower compared to the average rating.\n",
    "    $$ Bier Love Score = \\frac{\\sum_{i=1}^{n} x_i-\\overline{x_i}}{\\sigma_i^{2}*n}$$\n",
    "Using this formula we will take the 9th decile and call it the Beer-lovers because have higher rating in average and we will call the first decile the Hard-to-please because they have lower rating than average."
   ]
  },
  {
   "cell_type": "markdown",
   "metadata": {},
   "source": [
    "## Adventurer + Trend follower:\n",
    "Let's call $r_i$ the popularity score of the i th bier rated by a user. The popularity score is computed for each rating as the number of rating published on this bier during a 2 year timelaps that contain the date of the rating. Then these score computed for each ratings will be normalized using z-score.\n",
    "Then we can compute how much the user have a tendancy to rate unpopular bier or allways rated popular ones.\n",
    "$$ Trend follower Score = \\frac{\\sum_{i=1}^{n} r_i}{n}$$\n",
    "Here if the score is low it means that the user is trying rarely/never rated biers. So the first decile will be called adventurers and the 9th decil will be called Trend follower"
   ]
  },
  {
   "cell_type": "markdown",
   "metadata": {},
   "source": [
    "## Like the expert:\n",
    "We will compute how much the user ratings varied from the bro score. Let's call $b_i$ the bro's score fpr the i th bier.\n",
    "    $$ Expert Score = \\frac{\\sum_{i=1}^{n} (x_i-b_i)^{2}}{\\sigma_i^{2}*n}$$\n",
    "Using this formula we will take the 1th decile and call it the like the expert because theyr rate correspond to the ratings of the bros."
   ]
  }
 ],
 "metadata": {
  "kernelspec": {
   "display_name": "Python 3.8.10 64-bit",
   "language": "python",
   "name": "python3"
  },
  "language_info": {
   "name": "python",
   "version": "3.8.10"
  },
  "orig_nbformat": 4,
  "vscode": {
   "interpreter": {
    "hash": "916dbcbb3f70747c44a77c7bcd40155683ae19c65e1c03b4aa3499c5328201f1"
   }
  }
 },
 "nbformat": 4,
 "nbformat_minor": 2
}
