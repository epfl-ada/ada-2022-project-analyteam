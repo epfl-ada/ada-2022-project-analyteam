{
 "cells": [
  {
   "cell_type": "code",
   "execution_count": 1,
   "metadata": {},
   "outputs": [
    {
     "name": "stderr",
     "output_type": "stream",
     "text": [
      "/home/farouk/anaconda3/envs/py3-9/lib/python3.9/site-packages/tqdm/auto.py:22: TqdmWarning: IProgress not found. Please update jupyter and ipywidgets. See https://ipywidgets.readthedocs.io/en/stable/user_install.html\n",
      "  from .autonotebook import tqdm as notebook_tqdm\n"
     ]
    }
   ],
   "source": [
    "from ingestion import txt2csv\n",
    "from setup import nltk_init\n",
    "\n",
    "%load_ext autoreload\n",
    "%autoreload 2"
   ]
  },
  {
   "cell_type": "code",
   "execution_count": 2,
   "metadata": {},
   "outputs": [],
   "source": [
    "ALL_TAGS = [\n",
    "    \"beer_name\", \n",
    "    \"beer_id\", \n",
    "    \"brewery_name\",\n",
    "    \"brewery_id\",\n",
    "    \"style\",\n",
    "    \"abv\",\n",
    "    \"date\",\n",
    "    \"user_name\",\n",
    "    \"user_id\",\n",
    "    \"appearance\",\n",
    "    \"aroma\",\n",
    "    \"palate\",\n",
    "    \"taste\",\n",
    "    \"overall\",\n",
    "    \"rating\",\n",
    "    \"text\",\n",
    "    \"review\"\n",
    "]\n",
    "\n",
    "SELECTED_TAGS = [\n",
    "    \"date\",\n",
    "    \"beer_id\", \n",
    "    \"user_id\",\n",
    "    \"brewery_id\",\n",
    "    \"appearance\",\n",
    "    \"aroma\",\n",
    "    \"palate\",\n",
    "    \"taste\",\n",
    "    \"overall\",\n",
    "    \"rating\",\n",
    "    \"review\",\n",
    "    \"text\"\n",
    "]"
   ]
  },
  {
   "cell_type": "code",
   "execution_count": 3,
   "metadata": {},
   "outputs": [],
   "source": [
    "# RUN THIS ONLY ONCE IF MISSING NLTK DEPENDENCIES\n",
    "# nltk_init()"
   ]
  },
  {
   "cell_type": "code",
   "execution_count": 5,
   "metadata": {},
   "outputs": [
    {
     "name": "stderr",
     "output_type": "stream",
     "text": [
      "No model was supplied, defaulted to distilbert-base-uncased-finetuned-sst-2-english and revision af0f99b (https://huggingface.co/distilbert-base-uncased-finetuned-sst-2-english).\n",
      "Using a pipeline without specifying a model name and revision in production is not recommended.\n"
     ]
    }
   ],
   "source": [
    "txt2csv(\n",
    "    from_path=\"./test_files/ba_ratings_debug_sample_n7.txt\", \n",
    "    to_path=\"./test_files/ba_ratings_debug_sample_n7.csv\",\n",
    "    selected_tags=SELECTED_TAGS,\n",
    "    all_tags=ALL_TAGS)"
   ]
  }
 ],
 "metadata": {
  "kernelspec": {
   "display_name": "Python 3.9.13 ('py3-9')",
   "language": "python",
   "name": "python3"
  },
  "language_info": {
   "codemirror_mode": {
    "name": "ipython",
    "version": 3
   },
   "file_extension": ".py",
   "mimetype": "text/x-python",
   "name": "python",
   "nbconvert_exporter": "python",
   "pygments_lexer": "ipython3",
   "version": "3.9.13"
  },
  "orig_nbformat": 4,
  "vscode": {
   "interpreter": {
    "hash": "6a544d51636c8be653f08d3b5795ae65331d8a614316b445f10efa199710edbc"
   }
  }
 },
 "nbformat": 4,
 "nbformat_minor": 2
}
