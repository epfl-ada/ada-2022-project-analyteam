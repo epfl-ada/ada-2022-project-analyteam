{
 "cells": [
  {
   "cell_type": "code",
   "execution_count": 1,
   "metadata": {},
   "outputs": [],
   "source": [
    "import numpy as np\n",
    "import pandas as pd\n",
    "\n",
    "import string\n",
    "import csv  "
   ]
  },
  {
   "cell_type": "code",
   "execution_count": 2,
   "metadata": {},
   "outputs": [],
   "source": [
    "ratings_file_name = \"./Data/BeerAdvocate/ratings.txt\"\n",
    "\n",
    "enc = 'utf-8'\n",
    "\n",
    "bn =\"beer_name\"\n",
    "bi = \"beer_id\"\n",
    "bwn = \"brewery_name\"\n",
    "bwi = \"brewery_id\"\n",
    "st = \"style\"\n",
    "abv = \"abv\"\n",
    "date = \"date\"\n",
    "un = \"user_name\"\n",
    "ui = \"user_id\"\n",
    "ap = \"appearance\"\n",
    "ar = \"aroma\"\n",
    "palate = \"palate\"\n",
    "taste = \"taste\"\n",
    "ov = \"overall\"\n",
    "ra= \"rating\"\n",
    "t=\"text\"\n",
    "re = \"review\"\n",
    "\n",
    "n_pos = \"n_pos\"\n",
    "n_neg = \"n_neg\"\n",
    "\n",
    "interesting_data = [bi, ui, date, bwi, ap, palate, ar, taste, ov, ra, n_pos, n_neg]\n",
    "tags = [bn, bi, bwn, bwi, st, abv, date, un, ui, ap, ar, palate, taste, ov, ra, t, re]\n",
    "max_tag_len = max([len(tag) for tag in tags])\n",
    "nb_line_per_rating = len(tags)\n",
    "\n",
    "pos_words_set = set()\n",
    "with open('data/sentiment_words/positive-words.txt') as pw:\n",
    "    pos_words_set = set(pw.read().splitlines())\n",
    "    \n",
    "neg_words_set = set()\n",
    "with open('data/sentiment_words/negative-words.txt') as nw:\n",
    "    neg_words_set = set(nw.read().splitlines())"
   ]
  },
  {
   "cell_type": "code",
   "execution_count": 3,
   "metadata": {},
   "outputs": [],
   "source": [
    "def find_tag(s):\n",
    "    for tag in tags:\n",
    "        if tag in s[:max_tag_len]:\n",
    "            return tag\n",
    "    return \"\"\n",
    "\n",
    "def remove_tag(s, t):\n",
    "    return s.replace(t+\": \",\"\", 1)\n",
    "\n",
    "def has_sentiment(text, sentiment_set):\n",
    "    for p in string.punctuation:\n",
    "        text = text.lower().replace(p, \" \")\n",
    "    text = text.split()  \n",
    "    return len(set(text).intersection(sentiment_set))\n",
    "\n",
    "def read_one_rating(f, n):\n",
    "    rating = dict()\n",
    "    \n",
    "    for tag in tags:\n",
    "            rating[tag] = \"\"\n",
    "            \n",
    "    for i in range(n):        \n",
    "        l = f.readline().strip()\n",
    "        \n",
    "        tag = find_tag(l)\n",
    "        l = remove_tag(l, tag)\n",
    "        if len(tag) > 0:\n",
    "            rating[tag] = l\n",
    "    \n",
    "    rating[n_pos] = has_sentiment(rating[t], pos_words_set) if bool(rating[re]) else 0\n",
    "    rating[n_neg] = has_sentiment(rating[t], neg_words_set) if bool(rating[re]) else 0\n",
    "    return rating\n",
    "\n",
    "def line_for_csv(rating):\n",
    "    line = []\n",
    "    for d in interesting_data:\n",
    "        line.append(rating[d])\n",
    "    return line"
   ]
  },
  {
   "cell_type": "code",
   "execution_count": null,
   "metadata": {},
   "outputs": [],
   "source": [
    "with open('real2.csv', 'w', encoding=enc, newline='') as csv_f:\n",
    "    writer = csv.writer(csv_f)\n",
    "    writer.writerow(interesting_data)\n",
    "    \n",
    "    with open(ratings_file_name, encoding=enc) as file:  \n",
    "        while True:            \n",
    "            rating = read_one_rating(file, nb_line_per_rating)         \n",
    "            writer.writerow(line_for_csv(rating))\n",
    "            l = file.readline() # remove blank line                   \n",
    "            if not l:\n",
    "                break"
   ]
  },
  {
   "cell_type": "code",
   "execution_count": null,
   "metadata": {},
   "outputs": [],
   "source": []
  },
  {
   "cell_type": "code",
   "execution_count": null,
   "metadata": {},
   "outputs": [],
   "source": []
  },
  {
   "cell_type": "code",
   "execution_count": null,
   "metadata": {},
   "outputs": [],
   "source": [
    "nb_line_per_rating = len(tags)\n",
    "#nb_ratings = 10\n",
    "i = 1\n",
    "\n",
    "with open('real1.csv', 'w', encoding=enc, newline='') as csv_f:\n",
    "    writer = csv.writer(csv_f)\n",
    "    writer.writerow(interesting_data)\n",
    "    \n",
    "    with open(ratings_file_name, encoding=enc) as file:  \n",
    "        while True:\n",
    "            i += 1\n",
    "            if i % 100000 == 0:\n",
    "                print(i)\n",
    "            \n",
    "            rating = read_one_rating(file, nb_line_per_rating)         \n",
    "            writer.writerow(line_for_csv(rating))\n",
    "            l = file.readline() # remove blank line   \n",
    "                \n",
    "            if i > 1000:\n",
    "                break\n",
    "                \n",
    "            if not l:\n",
    "                break"
   ]
  },
  {
   "cell_type": "markdown",
   "metadata": {},
   "source": [
    "nb_line_per_rating = len(tags)\n",
    "nb_ratings = 10\n",
    "\n",
    "with open('test1.csv', 'w', encoding=enc, newline='') as csv_f:\n",
    "    writer = csv.writer(csv_f)\n",
    "    writer.writerow(interesting_data)\n",
    "    \n",
    "    with open(ratings_file_name, encoding=enc) as file:    \n",
    "        for _ in range(nb_ratings):\n",
    "            rating = read_one_rating(file, nb_line_per_rating)\n",
    "            file.readline() # remove blank line            \n",
    "            writer.writerow(line_for_csv(rating))"
   ]
  },
  {
   "cell_type": "code",
   "execution_count": null,
   "metadata": {},
   "outputs": [],
   "source": []
  },
  {
   "cell_type": "code",
   "execution_count": null,
   "metadata": {},
   "outputs": [],
   "source": [
    "nb_line_per_rating = len(tags)\n",
    "nb_ratings = 10\n",
    "\n",
    "with open('test10.csv', 'w', encoding=enc, newline='') as csv_f:\n",
    "    writer = csv.writer(csv_f)\n",
    "    writer.writerow(interesting_data)\n",
    "    \n",
    "    with open(ratings_file_name, encoding=enc) as file:    \n",
    "        for _ in range(nb_ratings):\n",
    "            rating = read_one_rating(file, nb_line_per_rating)\n",
    "            file.readline() # remove blank line            \n",
    "            writer.writerow(line_for_csv(rating))"
   ]
  },
  {
   "cell_type": "code",
   "execution_count": null,
   "metadata": {},
   "outputs": [],
   "source": []
  },
  {
   "cell_type": "code",
   "execution_count": null,
   "metadata": {},
   "outputs": [],
   "source": []
  },
  {
   "cell_type": "code",
   "execution_count": null,
   "metadata": {},
   "outputs": [],
   "source": [
    "nb_line_per_rating = len(tags)\n",
    "nb_ratings = 10\n",
    "i = 1\n",
    "\n",
    "with open('test9.csv', 'w', encoding=enc, newline='') as csv_f:\n",
    "    writer = csv.writer(csv_f)\n",
    "    writer.writerow(interesting_data)\n",
    "    \n",
    "    with open(ratings_file_name, encoding=enc) as file:    \n",
    "        while True:\n",
    "            i += 1\n",
    "            if i % 100000 == 0:\n",
    "                print(i)\n",
    "            rating = read_one_rating(file, nb_line_per_rating)    \n",
    "            print(rating)\n",
    "            writer.writerow(line_for_csv(rating))\n",
    "            l = file.readline() # remove blank line  \n",
    "            if i > 200:\n",
    "                break\n",
    "            if not l:\n",
    "                break\n"
   ]
  },
  {
   "cell_type": "code",
   "execution_count": null,
   "metadata": {},
   "outputs": [],
   "source": [
    "data = pd.read_csv('test10.csv')\n",
    "data.head(10)"
   ]
  },
  {
   "cell_type": "code",
   "execution_count": null,
   "metadata": {},
   "outputs": [],
   "source": []
  },
  {
   "cell_type": "code",
   "execution_count": null,
   "metadata": {},
   "outputs": [],
   "source": []
  },
  {
   "cell_type": "code",
   "execution_count": null,
   "metadata": {},
   "outputs": [],
   "source": []
  },
  {
   "cell_type": "code",
   "execution_count": null,
   "metadata": {},
   "outputs": [],
   "source": [
    "with open(ratings_file_name, encoding='utf-8') as file:\n",
    "    ratings = \"\"\n",
    "    for i in range(100):\n",
    "        ratings += file.readline()\n",
    "#print(ratings)"
   ]
  },
  {
   "cell_type": "code",
   "execution_count": null,
   "metadata": {},
   "outputs": [],
   "source": [
    "with open(reviews_file_name, encoding='utf-8') as file:\n",
    "    reviews = \"\"\n",
    "    for i in range(100):\n",
    "        reviews += file.readline()\n",
    "print(reviews)"
   ]
  },
  {
   "cell_type": "code",
   "execution_count": null,
   "metadata": {},
   "outputs": [],
   "source": [
    "ratings_columns = [\"beer_id\", \"user_id\", \"date\", \"brewery_id\", \"appearance\", \"palate\", \"aroma\", \"taste\", \"overall\", \"rating\", \"n_pos\", \"n_neg\"]\n",
    "print(ratings_columns)\n",
    "nb_features = len(ratings_columns)\n",
    "print(nb_features)"
   ]
  },
  {
   "cell_type": "markdown",
   "metadata": {},
   "source": [
    "columns = [\"beer_name\", \"beer_id\", \"brewery_name\", \"brewery_id\", \"style\", \"abv\", \"date\", \"user_name\", \"user_id\", \"appearance\", \"aroma\", \"palate\", \"taste\", \"overall\", \"rating\", \"text\"]\n",
    "print(columns)\n",
    "nb_features = len(columns)\n",
    "print(nb_features)"
   ]
  },
  {
   "cell_type": "code",
   "execution_count": null,
   "metadata": {},
   "outputs": [],
   "source": [
    "tags = [\"beer_name\", \"beer_id\", \"brewery_name\", \"brewery_id\", \"style\", \"abv\", \"date\", \"user_name\", \"user_id\", \"appearance\", \"aroma\", \"palate\", \"taste\", \"overall\", \"rating\", \"text\"]\n",
    "\n",
    "def remove_tag(s):\n",
    "    for tag in tags:\n",
    "        s = s.replace(tag+\": \", \"\")\n",
    "    return s"
   ]
  },
  {
   "cell_type": "code",
   "execution_count": null,
   "metadata": {},
   "outputs": [],
   "source": [
    "interesting_data = [\"beer_id\", \"user_id\", \"date\", \"brewery_id\", \"appearance\", \"palate\", \"aroma\", \"taste\", \"overall\", \"rating\", \"n_pos\", \"n_neg\"]\n",
    "\n",
    "def keep_only_interesting_data(s):\n",
    "    for d in interesting_data:\n",
    "        if "
   ]
  },
  {
   "cell_type": "code",
   "execution_count": null,
   "metadata": {},
   "outputs": [],
   "source": [
    "def read_one_rating(f, n):\n",
    "    rating = []\n",
    "    for i in range(n):\n",
    "        l = f.readline().strip()\n",
    "        l = keep_only_interesting_data(l)\n",
    "        l = remove_tag(l)\n",
    "        #print(l)\n",
    "        rating.append(l)\n",
    "    return rating"
   ]
  },
  {
   "cell_type": "code",
   "execution_count": null,
   "metadata": {},
   "outputs": [],
   "source": [
    "import csv  \n",
    "\n",
    "nb_line_per_rating = 16\n",
    "nb_ratings = 10\n",
    "ratings = []\n",
    "\n",
    "r = []\n",
    "for i in range(16):\n",
    "    r.append([])\n",
    "with open('test1.csv', 'w', encoding='UTF8') as f:\n",
    "    writer = csv.writer(f)\n",
    "    writer.writerow(ratings_columns)\n",
    "    \n",
    "    with open(ratings_file_name, encoding=enc) as file:\n",
    "        for _ in range(nb_ratings):\n",
    "            writer.writerow(read_one_rating(file, nb_line_per_rating))\n",
    "            file.readline()\n"
   ]
  },
  {
   "cell_type": "code",
   "execution_count": null,
   "metadata": {},
   "outputs": [],
   "source": [
    "i = 0\n",
    "nb_ratings = 5\n",
    "\n",
    "#r = np.empty((16,1))\n",
    "r = []\n",
    "for i in range(16):\n",
    "    r.append([])\n",
    "\n",
    "with open(ratings_file_name, encoding=enc) as file:\n",
    "    i = 0\n",
    "    for line in file:\n",
    "        if i > (nb_features+1) * nb_ratings - 1:\n",
    "            break\n",
    "        l = line.strip()\n",
    "        for j in range(nb_features):\n",
    "            if ratings_columns[j] in l[:12]:\n",
    "                l = l.replace(ratings_columns[j]+\": \",\"\")\n",
    "                r[j].append(l)\n",
    "        i += 1"
   ]
  },
  {
   "cell_type": "code",
   "execution_count": null,
   "metadata": {},
   "outputs": [],
   "source": [
    "for i in range(nb_features):\n",
    "    print(ratings_columns[i])\n",
    "    print(r[i])\n",
    "    print(len(r[i]))"
   ]
  },
  {
   "cell_type": "code",
   "execution_count": null,
   "metadata": {},
   "outputs": [],
   "source": []
  },
  {
   "cell_type": "code",
   "execution_count": null,
   "metadata": {},
   "outputs": [],
   "source": []
  },
  {
   "cell_type": "code",
   "execution_count": null,
   "metadata": {},
   "outputs": [],
   "source": []
  },
  {
   "cell_type": "code",
   "execution_count": null,
   "metadata": {},
   "outputs": [],
   "source": [
    "ratings_list = []\n",
    "with open(\"./Data/ratings.txt\", encoding='utf-8') as file:\n",
    "    ratings_list = file.readlines()"
   ]
  },
  {
   "cell_type": "code",
   "execution_count": null,
   "metadata": {},
   "outputs": [],
   "source": [
    "print(len(ratings_list))"
   ]
  },
  {
   "cell_type": "code",
   "execution_count": null,
   "metadata": {},
   "outputs": [],
   "source": [
    "reviews_list = []\n",
    "with open(\"./Data/reviews.txt\", encoding='utf-8') as file:\n",
    "    reviews_list = file.readlines()"
   ]
  },
  {
   "cell_type": "code",
   "execution_count": null,
   "metadata": {},
   "outputs": [],
   "source": [
    "print(len(reviews_list))"
   ]
  },
  {
   "cell_type": "code",
   "execution_count": null,
   "metadata": {},
   "outputs": [],
   "source": [
    "print(ratings_list[:10])"
   ]
  },
  {
   "cell_type": "code",
   "execution_count": null,
   "metadata": {},
   "outputs": [],
   "source": []
  },
  {
   "cell_type": "code",
   "execution_count": null,
   "metadata": {},
   "outputs": [],
   "source": [
    "import re\n",
    "[m.start() for m in re.finditer('beer_name', 'test test test test')]"
   ]
  },
  {
   "cell_type": "code",
   "execution_count": null,
   "metadata": {},
   "outputs": [],
   "source": [
    "beer_names = []\n",
    "beer_id = []\n",
    "\n",
    "\n",
    "for r in ratings_list:\n",
    "    if \"beer_name\" in r:\n",
    "        beer_names.append(r[11:len(r)-1])\n",
    "    elif \"beer_id\" in r:\n",
    "        beer_id.append(r[9:len(r)-1])\n",
    "print(beer_names)\n",
    "print(beer_id)"
   ]
  },
  {
   "cell_type": "code",
   "execution_count": null,
   "metadata": {},
   "outputs": [],
   "source": [
    "with open(ratings_file_name, encoding='utf-8') as file:\n",
    "    ratings = \"\"\n",
    "    for i in range(100):\n",
    "        ratings += file.readline()\n",
    "\n",
    "print(\"ratings : \", ratings)"
   ]
  },
  {
   "cell_type": "code",
   "execution_count": null,
   "metadata": {},
   "outputs": [],
   "source": [
    "with open(\"./Data/reviews.txt\", encoding='utf-8') as file:\n",
    "    reviews = \"\"\n",
    "    for i in range(100):\n",
    "        reviews += file.readline()\n",
    "print(reviews)"
   ]
  },
  {
   "cell_type": "code",
   "execution_count": null,
   "metadata": {},
   "outputs": [],
   "source": [
    "print(reviews == ratings)\n",
    "print(\" nan \" in reviews)\n",
    "print(\" nan \" in ratings)"
   ]
  },
  {
   "cell_type": "code",
   "execution_count": null,
   "metadata": {},
   "outputs": [],
   "source": []
  }
 ],
 "metadata": {
  "kernelspec": {
   "display_name": "Python 3",
   "language": "python",
   "name": "python3"
  },
  "language_info": {
   "codemirror_mode": {
    "name": "ipython",
    "version": 3
   },
   "file_extension": ".py",
   "mimetype": "text/x-python",
   "name": "python",
   "nbconvert_exporter": "python",
   "pygments_lexer": "ipython3",
   "version": "3.8.3"
  }
 },
 "nbformat": 4,
 "nbformat_minor": 4
}
