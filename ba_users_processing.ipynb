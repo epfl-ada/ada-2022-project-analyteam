{
 "cells": [
  {
   "cell_type": "markdown",
   "metadata": {},
   "source": [
    "## BeerAdvocate: Descriptive Analysis and Processing\n",
    "\n",
    "---\n",
    "\n",
    "**Processing and Transformations Summary of \"users.csv\"**\n",
    "\n",
    "- **Renaming Columns**: \"nbr_ratings\" to \"n_ratings\", \"nbr_reviews\" to \"n_reviews\", \"user_id\" to \"uid\", \"user_name\" to \"username\".\n",
    "- **Converting Data Types**: \"n_ratings\", \"n_reviews\" to int & \"username\", \"uid\", \"location\" to str.\n",
    "- **Converting \"nan\" to None**: in \"location\".\n",
    "- **Creating an additional \"country\" column from \"location\"**: by extracting the country name from the location (example: \"United States, Texas\" location belongs to country \"United States\").\n",
    "- **Converting the \"joined\" column values**: float values (time in seconds, reference is Jan.1st 1970 at 00:00) to pandas.Timestamp. Implicit conversion of NaN to NaT. \n",
    "\n",
    "---\n",
    "\n",
    "**Descriptive Analysis Summary of \"users.csv\"**\n",
    "\n",
    "* **Missing values**: none, except for \"location\" that may contain \"nan\" (previously converted to None) and \"joined\" that may contain NaN (previously implictely converted to NaT).\n",
    "\n",
    "<br>\n",
    "\n",
    "* **users**:\n",
    "  - 153'704 unique users.\n",
    "  - $\\approx$ 20.3% of users are of unknown location.\n",
    "  - most users are located in English speaking countries. top 5 countries in terms of number of users:\n",
    "  \n",
    "  | country | wrt to all users | wrt users with known location |\n",
    "  | :- | :-: | :-: |\n",
    "  | United States | 73.6% | 92.4% |\n",
    "  | Canada | 2.1% | 2.7% |\n",
    "  | England | 0.5% | 0.6% | \n",
    "  | Australia | 0.3% | 0.4% |\n",
    "  | Germany | 0.2% | 0.3% |\n",
    "\n",
    "<br>\n",
    "\n",
    "* **ratings**:\n",
    "  - 8'393'032 ratings in total.\n",
    "  - heavy-tailed distribution of the number of ratings per user.\n",
    "  - 50% of users have at most 3 ratings.\n",
    "  - the mean number of ratings $\\approx 54.6$ is quite low while the standard deviation $\\approx 252.38$ is very high.\n",
    "  - most rtings are given by users located in English speaking countries. Top 5 countries in terms of the number of ratings: \n",
    "  - the number of occurences of users having a fixed number of reviews follow a power law.\n",
    "\n",
    "  | country | wrt to all users | wrt users with known location |\n",
    "  | :- | :-: | :-: |\n",
    "  | United States | 87% | 92.5% |\n",
    "  | Canada | 3.2% | 3.4% |\n",
    "  | England | 0.4% | 0.5% | \n",
    "  | Australia | 0.4% | 0.4% |\n",
    "  | Sweden | 0.3% | 0.3% |\n",
    "\n",
    "<br>\n",
    "\n",
    "* **reviews**:\n",
    "  - reviews in total.\n",
    "  - distribtion ?\n",
    "  - 50% of users have 0 reviews.\n",
    "  - the mean number of reviews $\\approx 16.84$ is quite low while the standard deviation $\\approx 139.84$ is very high.\n",
    "  - most reviews are given by users from English speaking countries (US, Canada, Australia, England). Top 5 countries in terms of the number of reviews:\n",
    "  - the number of occurences of users having a fixed number of reviews follow a power law.\n",
    "  \n",
    "  | country | wrt to all users | wrt users with known location |\n",
    "  | :- | :-: | :-: |\n",
    "  | United States | 86.5% | 89.8% |\n",
    "  | Canada | 4.8% | 5% |\n",
    "  | Australia | 1% | 1% | \n",
    "  | England | 0.8% | 0.8% |\n",
    "  | Netherlands | 0.3% | 0.3% |\n",
    "\n",
    "<br>\n",
    "\n",
    "* **joined**:\n",
    "  - earliest year of joining: 1996.\n",
    "  - latest year of joining: 2017 (date of the end of the collection of data, which happened between 2001 and 2017).\n",
    "  - there are only 2652 users with unknown joining date.\n",
    "  - the yearly by month distribution of users joining the plateform is not disrupted throughout most of the years (starting 2001 until 2017). \n",
    "\n",
    "<br>\n",
    "\n",
    "* **country**:\n",
    "  - users are located in 145 different countries.\n",
    "\n",
    "---"
   ]
  },
  {
   "cell_type": "code",
   "execution_count": 6,
   "metadata": {},
   "outputs": [
    {
     "name": "stdout",
     "output_type": "stream",
     "text": [
      "The autoreload extension is already loaded. To reload it, use:\n",
      "  %reload_ext autoreload\n"
     ]
    }
   ],
   "source": [
    "from setup import dask_init, dask_shutdown\n",
    "import dask.distributed as dd\n",
    "import dask.dataframe as ddf\n",
    "\n",
    "import pandas as pd\n",
    "import numpy as np\n",
    "\n",
    "import ingestion as ing\n",
    "import processing as prc\n",
    "\n",
    "import datetime as dt\n",
    "\n",
    "import seaborn as sns\n",
    "import matplotlib.pyplot as plt\n",
    "%matplotlib inline\n",
    "\n",
    "%load_ext autoreload\n",
    "%autoreload 2"
   ]
  },
  {
   "cell_type": "markdown",
   "metadata": {},
   "source": [
    "**setup**"
   ]
  },
  {
   "cell_type": "code",
   "execution_count": 7,
   "metadata": {},
   "outputs": [
    {
     "name": "stderr",
     "output_type": "stream",
     "text": [
      "c:\\Users\\avern\\AppData\\Local\\Programs\\Python\\Python39\\lib\\site-packages\\distributed\\node.py:183: UserWarning: Port 8787 is already in use.\n",
      "Perhaps you already have a cluster running?\n",
      "Hosting the HTTP server on port 55900 instead\n",
      "  warnings.warn(\n"
     ]
    },
    {
     "data": {
      "text/html": [
       "<div class=\"jp-RenderedHTMLCommon jp-RenderedHTML jp-mod-trusted jp-OutputArea-output\">\n",
       "    <div style=\"width: 24px; height: 24px; background-color: #e1e1e1; border: 3px solid #9D9D9D; border-radius: 5px; position: absolute;\">\n",
       "    </div>\n",
       "    <div style=\"margin-left: 48px;\">\n",
       "        <h3 style=\"margin-bottom: 0px; margin-top: 0px;\">LocalCluster</h3>\n",
       "        <p style=\"color: #9D9D9D; margin-bottom: 0px;\">038bd5ef</p>\n",
       "        <table style=\"width: 100%; text-align: left;\">\n",
       "            <tr>\n",
       "                <td style=\"text-align: left;\">\n",
       "                    <strong>Dashboard:</strong> <a href=\"http://127.0.0.1:55900/status\" target=\"_blank\">http://127.0.0.1:55900/status</a>\n",
       "                </td>\n",
       "                <td style=\"text-align: left;\">\n",
       "                    <strong>Workers:</strong> 4\n",
       "                </td>\n",
       "            </tr>\n",
       "            <tr>\n",
       "                <td style=\"text-align: left;\">\n",
       "                    <strong>Total threads:</strong> 8\n",
       "                </td>\n",
       "                <td style=\"text-align: left;\">\n",
       "                    <strong>Total memory:</strong> 15.82 GiB\n",
       "                </td>\n",
       "            </tr>\n",
       "            \n",
       "            <tr>\n",
       "    <td style=\"text-align: left;\"><strong>Status:</strong> running</td>\n",
       "    <td style=\"text-align: left;\"><strong>Using processes:</strong> True</td>\n",
       "</tr>\n",
       "\n",
       "            \n",
       "        </table>\n",
       "\n",
       "        <details>\n",
       "            <summary style=\"margin-bottom: 20px;\">\n",
       "                <h3 style=\"display: inline;\">Scheduler Info</h3>\n",
       "            </summary>\n",
       "\n",
       "            <div style=\"\">\n",
       "    <div>\n",
       "        <div style=\"width: 24px; height: 24px; background-color: #FFF7E5; border: 3px solid #FF6132; border-radius: 5px; position: absolute;\"> </div>\n",
       "        <div style=\"margin-left: 48px;\">\n",
       "            <h3 style=\"margin-bottom: 0px;\">Scheduler</h3>\n",
       "            <p style=\"color: #9D9D9D; margin-bottom: 0px;\">Scheduler-06cef5d3-0497-4db5-ba8d-0503f8f066a6</p>\n",
       "            <table style=\"width: 100%; text-align: left;\">\n",
       "                <tr>\n",
       "                    <td style=\"text-align: left;\">\n",
       "                        <strong>Comm:</strong> tcp://127.0.0.1:55903\n",
       "                    </td>\n",
       "                    <td style=\"text-align: left;\">\n",
       "                        <strong>Workers:</strong> 4\n",
       "                    </td>\n",
       "                </tr>\n",
       "                <tr>\n",
       "                    <td style=\"text-align: left;\">\n",
       "                        <strong>Dashboard:</strong> <a href=\"http://127.0.0.1:55900/status\" target=\"_blank\">http://127.0.0.1:55900/status</a>\n",
       "                    </td>\n",
       "                    <td style=\"text-align: left;\">\n",
       "                        <strong>Total threads:</strong> 8\n",
       "                    </td>\n",
       "                </tr>\n",
       "                <tr>\n",
       "                    <td style=\"text-align: left;\">\n",
       "                        <strong>Started:</strong> Just now\n",
       "                    </td>\n",
       "                    <td style=\"text-align: left;\">\n",
       "                        <strong>Total memory:</strong> 15.82 GiB\n",
       "                    </td>\n",
       "                </tr>\n",
       "            </table>\n",
       "        </div>\n",
       "    </div>\n",
       "\n",
       "    <details style=\"margin-left: 48px;\">\n",
       "        <summary style=\"margin-bottom: 20px;\">\n",
       "            <h3 style=\"display: inline;\">Workers</h3>\n",
       "        </summary>\n",
       "\n",
       "        \n",
       "        <div style=\"margin-bottom: 20px;\">\n",
       "            <div style=\"width: 24px; height: 24px; background-color: #DBF5FF; border: 3px solid #4CC9FF; border-radius: 5px; position: absolute;\"> </div>\n",
       "            <div style=\"margin-left: 48px;\">\n",
       "            <details>\n",
       "                <summary>\n",
       "                    <h4 style=\"margin-bottom: 0px; display: inline;\">Worker: 0</h4>\n",
       "                </summary>\n",
       "                <table style=\"width: 100%; text-align: left;\">\n",
       "                    <tr>\n",
       "                        <td style=\"text-align: left;\">\n",
       "                            <strong>Comm: </strong> tcp://127.0.0.1:55940\n",
       "                        </td>\n",
       "                        <td style=\"text-align: left;\">\n",
       "                            <strong>Total threads: </strong> 2\n",
       "                        </td>\n",
       "                    </tr>\n",
       "                    <tr>\n",
       "                        <td style=\"text-align: left;\">\n",
       "                            <strong>Dashboard: </strong> <a href=\"http://127.0.0.1:55941/status\" target=\"_blank\">http://127.0.0.1:55941/status</a>\n",
       "                        </td>\n",
       "                        <td style=\"text-align: left;\">\n",
       "                            <strong>Memory: </strong> 3.96 GiB\n",
       "                        </td>\n",
       "                    </tr>\n",
       "                    <tr>\n",
       "                        <td style=\"text-align: left;\">\n",
       "                            <strong>Nanny: </strong> tcp://127.0.0.1:55908\n",
       "                        </td>\n",
       "                        <td style=\"text-align: left;\"></td>\n",
       "                    </tr>\n",
       "                    <tr>\n",
       "                        <td colspan=\"2\" style=\"text-align: left;\">\n",
       "                            <strong>Local directory: </strong> C:\\Users\\avern\\AppData\\Local\\Temp\\dask-worker-space\\worker-6jh9pfjt\n",
       "                        </td>\n",
       "                    </tr>\n",
       "\n",
       "                    \n",
       "\n",
       "                    \n",
       "\n",
       "                </table>\n",
       "            </details>\n",
       "            </div>\n",
       "        </div>\n",
       "        \n",
       "        <div style=\"margin-bottom: 20px;\">\n",
       "            <div style=\"width: 24px; height: 24px; background-color: #DBF5FF; border: 3px solid #4CC9FF; border-radius: 5px; position: absolute;\"> </div>\n",
       "            <div style=\"margin-left: 48px;\">\n",
       "            <details>\n",
       "                <summary>\n",
       "                    <h4 style=\"margin-bottom: 0px; display: inline;\">Worker: 1</h4>\n",
       "                </summary>\n",
       "                <table style=\"width: 100%; text-align: left;\">\n",
       "                    <tr>\n",
       "                        <td style=\"text-align: left;\">\n",
       "                            <strong>Comm: </strong> tcp://127.0.0.1:55943\n",
       "                        </td>\n",
       "                        <td style=\"text-align: left;\">\n",
       "                            <strong>Total threads: </strong> 2\n",
       "                        </td>\n",
       "                    </tr>\n",
       "                    <tr>\n",
       "                        <td style=\"text-align: left;\">\n",
       "                            <strong>Dashboard: </strong> <a href=\"http://127.0.0.1:55944/status\" target=\"_blank\">http://127.0.0.1:55944/status</a>\n",
       "                        </td>\n",
       "                        <td style=\"text-align: left;\">\n",
       "                            <strong>Memory: </strong> 3.96 GiB\n",
       "                        </td>\n",
       "                    </tr>\n",
       "                    <tr>\n",
       "                        <td style=\"text-align: left;\">\n",
       "                            <strong>Nanny: </strong> tcp://127.0.0.1:55906\n",
       "                        </td>\n",
       "                        <td style=\"text-align: left;\"></td>\n",
       "                    </tr>\n",
       "                    <tr>\n",
       "                        <td colspan=\"2\" style=\"text-align: left;\">\n",
       "                            <strong>Local directory: </strong> C:\\Users\\avern\\AppData\\Local\\Temp\\dask-worker-space\\worker-9mtrw7ns\n",
       "                        </td>\n",
       "                    </tr>\n",
       "\n",
       "                    \n",
       "\n",
       "                    \n",
       "\n",
       "                </table>\n",
       "            </details>\n",
       "            </div>\n",
       "        </div>\n",
       "        \n",
       "        <div style=\"margin-bottom: 20px;\">\n",
       "            <div style=\"width: 24px; height: 24px; background-color: #DBF5FF; border: 3px solid #4CC9FF; border-radius: 5px; position: absolute;\"> </div>\n",
       "            <div style=\"margin-left: 48px;\">\n",
       "            <details>\n",
       "                <summary>\n",
       "                    <h4 style=\"margin-bottom: 0px; display: inline;\">Worker: 2</h4>\n",
       "                </summary>\n",
       "                <table style=\"width: 100%; text-align: left;\">\n",
       "                    <tr>\n",
       "                        <td style=\"text-align: left;\">\n",
       "                            <strong>Comm: </strong> tcp://127.0.0.1:55935\n",
       "                        </td>\n",
       "                        <td style=\"text-align: left;\">\n",
       "                            <strong>Total threads: </strong> 2\n",
       "                        </td>\n",
       "                    </tr>\n",
       "                    <tr>\n",
       "                        <td style=\"text-align: left;\">\n",
       "                            <strong>Dashboard: </strong> <a href=\"http://127.0.0.1:55936/status\" target=\"_blank\">http://127.0.0.1:55936/status</a>\n",
       "                        </td>\n",
       "                        <td style=\"text-align: left;\">\n",
       "                            <strong>Memory: </strong> 3.96 GiB\n",
       "                        </td>\n",
       "                    </tr>\n",
       "                    <tr>\n",
       "                        <td style=\"text-align: left;\">\n",
       "                            <strong>Nanny: </strong> tcp://127.0.0.1:55907\n",
       "                        </td>\n",
       "                        <td style=\"text-align: left;\"></td>\n",
       "                    </tr>\n",
       "                    <tr>\n",
       "                        <td colspan=\"2\" style=\"text-align: left;\">\n",
       "                            <strong>Local directory: </strong> C:\\Users\\avern\\AppData\\Local\\Temp\\dask-worker-space\\worker-r11khr88\n",
       "                        </td>\n",
       "                    </tr>\n",
       "\n",
       "                    \n",
       "\n",
       "                    \n",
       "\n",
       "                </table>\n",
       "            </details>\n",
       "            </div>\n",
       "        </div>\n",
       "        \n",
       "        <div style=\"margin-bottom: 20px;\">\n",
       "            <div style=\"width: 24px; height: 24px; background-color: #DBF5FF; border: 3px solid #4CC9FF; border-radius: 5px; position: absolute;\"> </div>\n",
       "            <div style=\"margin-left: 48px;\">\n",
       "            <details>\n",
       "                <summary>\n",
       "                    <h4 style=\"margin-bottom: 0px; display: inline;\">Worker: 3</h4>\n",
       "                </summary>\n",
       "                <table style=\"width: 100%; text-align: left;\">\n",
       "                    <tr>\n",
       "                        <td style=\"text-align: left;\">\n",
       "                            <strong>Comm: </strong> tcp://127.0.0.1:55934\n",
       "                        </td>\n",
       "                        <td style=\"text-align: left;\">\n",
       "                            <strong>Total threads: </strong> 2\n",
       "                        </td>\n",
       "                    </tr>\n",
       "                    <tr>\n",
       "                        <td style=\"text-align: left;\">\n",
       "                            <strong>Dashboard: </strong> <a href=\"http://127.0.0.1:55937/status\" target=\"_blank\">http://127.0.0.1:55937/status</a>\n",
       "                        </td>\n",
       "                        <td style=\"text-align: left;\">\n",
       "                            <strong>Memory: </strong> 3.96 GiB\n",
       "                        </td>\n",
       "                    </tr>\n",
       "                    <tr>\n",
       "                        <td style=\"text-align: left;\">\n",
       "                            <strong>Nanny: </strong> tcp://127.0.0.1:55909\n",
       "                        </td>\n",
       "                        <td style=\"text-align: left;\"></td>\n",
       "                    </tr>\n",
       "                    <tr>\n",
       "                        <td colspan=\"2\" style=\"text-align: left;\">\n",
       "                            <strong>Local directory: </strong> C:\\Users\\avern\\AppData\\Local\\Temp\\dask-worker-space\\worker-ni33adta\n",
       "                        </td>\n",
       "                    </tr>\n",
       "\n",
       "                    \n",
       "\n",
       "                    \n",
       "\n",
       "                </table>\n",
       "            </details>\n",
       "            </div>\n",
       "        </div>\n",
       "        \n",
       "\n",
       "    </details>\n",
       "</div>\n",
       "\n",
       "        </details>\n",
       "    </div>\n",
       "</div>"
      ],
      "text/plain": [
       "LocalCluster(038bd5ef, 'tcp://127.0.0.1:55903', workers=4, threads=8, memory=15.82 GiB)"
      ]
     },
     "metadata": {},
     "output_type": "display_data"
    }
   ],
   "source": [
    "# PANDAS SETUP\n",
    "pd.options.mode.use_inf_as_na = True\n",
    "\n",
    "# DASK SETUP\n",
    "client, cluster = dask_init()\n",
    "cluster"
   ]
  },
  {
   "cell_type": "markdown",
   "metadata": {},
   "source": [
    "### BeerAdvocate - users.csv"
   ]
  },
  {
   "cell_type": "markdown",
   "metadata": {},
   "source": [
    "**[I] Loading the Data**"
   ]
  },
  {
   "cell_type": "code",
   "execution_count": 8,
   "metadata": {},
   "outputs": [
    {
     "data": {
      "text/html": [
       "<div>\n",
       "<style scoped>\n",
       "    .dataframe tbody tr th:only-of-type {\n",
       "        vertical-align: middle;\n",
       "    }\n",
       "\n",
       "    .dataframe tbody tr th {\n",
       "        vertical-align: top;\n",
       "    }\n",
       "\n",
       "    .dataframe thead th {\n",
       "        text-align: right;\n",
       "    }\n",
       "</style>\n",
       "<table border=\"1\" class=\"dataframe\">\n",
       "  <thead>\n",
       "    <tr style=\"text-align: right;\">\n",
       "      <th></th>\n",
       "      <th>nbr_ratings</th>\n",
       "      <th>nbr_reviews</th>\n",
       "      <th>user_id</th>\n",
       "      <th>user_name</th>\n",
       "      <th>joined</th>\n",
       "      <th>location</th>\n",
       "    </tr>\n",
       "  </thead>\n",
       "  <tbody>\n",
       "    <tr>\n",
       "      <th>0</th>\n",
       "      <td>7820.0</td>\n",
       "      <td>465.0</td>\n",
       "      <td>nmann08.184925</td>\n",
       "      <td>nmann08</td>\n",
       "      <td>1.199704e+09</td>\n",
       "      <td>United States, Washington</td>\n",
       "    </tr>\n",
       "    <tr>\n",
       "      <th>1</th>\n",
       "      <td>2521.0</td>\n",
       "      <td>2504.0</td>\n",
       "      <td>stjamesgate.163714</td>\n",
       "      <td>StJamesGate</td>\n",
       "      <td>1.191838e+09</td>\n",
       "      <td>United States, New York</td>\n",
       "    </tr>\n",
       "    <tr>\n",
       "      <th>2</th>\n",
       "      <td>1797.0</td>\n",
       "      <td>1143.0</td>\n",
       "      <td>mdagnew.19527</td>\n",
       "      <td>mdagnew</td>\n",
       "      <td>1.116410e+09</td>\n",
       "      <td>Northern Ireland</td>\n",
       "    </tr>\n",
       "    <tr>\n",
       "      <th>3</th>\n",
       "      <td>31.0</td>\n",
       "      <td>31.0</td>\n",
       "      <td>helloloser12345.10867</td>\n",
       "      <td>helloloser12345</td>\n",
       "      <td>1.101380e+09</td>\n",
       "      <td>Northern Ireland</td>\n",
       "    </tr>\n",
       "    <tr>\n",
       "      <th>4</th>\n",
       "      <td>604.0</td>\n",
       "      <td>604.0</td>\n",
       "      <td>cypressbob.3708</td>\n",
       "      <td>cypressbob</td>\n",
       "      <td>1.069326e+09</td>\n",
       "      <td>Northern Ireland</td>\n",
       "    </tr>\n",
       "  </tbody>\n",
       "</table>\n",
       "</div>"
      ],
      "text/plain": [
       "   nbr_ratings  nbr_reviews                user_id        user_name  \\\n",
       "0       7820.0        465.0         nmann08.184925          nmann08   \n",
       "1       2521.0       2504.0     stjamesgate.163714      StJamesGate   \n",
       "2       1797.0       1143.0          mdagnew.19527          mdagnew   \n",
       "3         31.0         31.0  helloloser12345.10867  helloloser12345   \n",
       "4        604.0        604.0        cypressbob.3708       cypressbob   \n",
       "\n",
       "         joined                   location  \n",
       "0  1.199704e+09  United States, Washington  \n",
       "1  1.191838e+09    United States, New York  \n",
       "2  1.116410e+09           Northern Ireland  \n",
       "3  1.101380e+09           Northern Ireland  \n",
       "4  1.069326e+09           Northern Ireland  "
      ]
     },
     "execution_count": 8,
     "metadata": {},
     "output_type": "execute_result"
    }
   ],
   "source": [
    "users_cols = [\n",
    "    \"nbr_ratings\", \n",
    "    \"nbr_reviews\", \n",
    "    \"user_id\", \n",
    "    \"user_name\", \n",
    "    \"joined\",\n",
    "    \"location\"]\n",
    "\n",
    "users_df = ing.read_csv(\n",
    "    path=ing.build_path(folderind=\"ba\", fileind=\"users\"),\n",
    "    assume_missing=True,\n",
    "    keepcols=users_cols)\n",
    "\n",
    "users_df.head(5)"
   ]
  },
  {
   "cell_type": "markdown",
   "metadata": {},
   "source": [
    "**[II] Data Transformation**"
   ]
  },
  {
   "cell_type": "markdown",
   "metadata": {},
   "source": [
    "Renaming the columns"
   ]
  },
  {
   "cell_type": "code",
   "execution_count": 9,
   "metadata": {},
   "outputs": [
    {
     "data": {
      "text/plain": [
       "Index(['n_ratings', 'n_reviews', 'uid', 'username', 'joined', 'location'], dtype='object')"
      ]
     },
     "execution_count": 9,
     "metadata": {},
     "output_type": "execute_result"
    }
   ],
   "source": [
    "cols_renaming = {\n",
    "    \"nbr_ratings\": \"n_ratings\",\n",
    "    \"nbr_reviews\": \"n_reviews\",\n",
    "    \"user_id\": \"uid\",\n",
    "    \"user_name\": \"username\"\n",
    "}\n",
    "\n",
    "users_df = users_df.rename(columns=cols_renaming)\n",
    "users_df.columns"
   ]
  },
  {
   "cell_type": "markdown",
   "metadata": {},
   "source": [
    "Converting data types"
   ]
  },
  {
   "cell_type": "code",
   "execution_count": 10,
   "metadata": {},
   "outputs": [
    {
     "data": {
      "text/plain": [
       "n_ratings    float64\n",
       "n_reviews    float64\n",
       "uid           object\n",
       "username      object\n",
       "joined       float64\n",
       "location      object\n",
       "dtype: object"
      ]
     },
     "execution_count": 10,
     "metadata": {},
     "output_type": "execute_result"
    }
   ],
   "source": [
    "users_df.dtypes"
   ]
  },
  {
   "cell_type": "code",
   "execution_count": 11,
   "metadata": {},
   "outputs": [
    {
     "data": {
      "text/plain": [
       "n_ratings      int32\n",
       "n_reviews      int32\n",
       "uid           object\n",
       "username      object\n",
       "joined       float64\n",
       "location      object\n",
       "dtype: object"
      ]
     },
     "execution_count": 11,
     "metadata": {},
     "output_type": "execute_result"
    }
   ],
   "source": [
    "users_dtypes = {\n",
    "    \"n_ratings\": np.int32, \n",
    "    \"n_reviews\": np.int32, \n",
    "    \"uid\": str, \n",
    "    \"username\": str,\n",
    "    \"location\": str\n",
    "}\n",
    "\n",
    "users_df = users_df.astype(users_dtypes)\n",
    "users_df.dtypes"
   ]
  },
  {
   "cell_type": "markdown",
   "metadata": {},
   "source": [
    "Converting \"nan\" strings in \"location\" to None"
   ]
  },
  {
   "cell_type": "code",
   "execution_count": 12,
   "metadata": {},
   "outputs": [],
   "source": [
    "users_df[\"location\"] = users_df.location.apply(prc.str_nan_to_none)"
   ]
  },
  {
   "cell_type": "markdown",
   "metadata": {},
   "source": [
    "Converting the \"joined\" column values (time in seconds) to Timestamps"
   ]
  },
  {
   "cell_type": "code",
   "execution_count": 13,
   "metadata": {},
   "outputs": [
    {
     "data": {
      "text/html": [
       "<div>\n",
       "<style scoped>\n",
       "    .dataframe tbody tr th:only-of-type {\n",
       "        vertical-align: middle;\n",
       "    }\n",
       "\n",
       "    .dataframe tbody tr th {\n",
       "        vertical-align: top;\n",
       "    }\n",
       "\n",
       "    .dataframe thead th {\n",
       "        text-align: right;\n",
       "    }\n",
       "</style>\n",
       "<table border=\"1\" class=\"dataframe\">\n",
       "  <thead>\n",
       "    <tr style=\"text-align: right;\">\n",
       "      <th></th>\n",
       "      <th>n_ratings</th>\n",
       "      <th>n_reviews</th>\n",
       "      <th>uid</th>\n",
       "      <th>username</th>\n",
       "      <th>joined</th>\n",
       "      <th>location</th>\n",
       "    </tr>\n",
       "  </thead>\n",
       "  <tbody>\n",
       "    <tr>\n",
       "      <th>0</th>\n",
       "      <td>7820</td>\n",
       "      <td>465</td>\n",
       "      <td>nmann08.184925</td>\n",
       "      <td>nmann08</td>\n",
       "      <td>2008-01-07 11:00:00</td>\n",
       "      <td>United States, Washington</td>\n",
       "    </tr>\n",
       "    <tr>\n",
       "      <th>1</th>\n",
       "      <td>2521</td>\n",
       "      <td>2504</td>\n",
       "      <td>stjamesgate.163714</td>\n",
       "      <td>StJamesGate</td>\n",
       "      <td>2007-10-08 10:00:00</td>\n",
       "      <td>United States, New York</td>\n",
       "    </tr>\n",
       "    <tr>\n",
       "      <th>2</th>\n",
       "      <td>1797</td>\n",
       "      <td>1143</td>\n",
       "      <td>mdagnew.19527</td>\n",
       "      <td>mdagnew</td>\n",
       "      <td>2005-05-18 10:00:00</td>\n",
       "      <td>Northern Ireland</td>\n",
       "    </tr>\n",
       "    <tr>\n",
       "      <th>3</th>\n",
       "      <td>31</td>\n",
       "      <td>31</td>\n",
       "      <td>helloloser12345.10867</td>\n",
       "      <td>helloloser12345</td>\n",
       "      <td>2004-11-25 11:00:00</td>\n",
       "      <td>Northern Ireland</td>\n",
       "    </tr>\n",
       "    <tr>\n",
       "      <th>4</th>\n",
       "      <td>604</td>\n",
       "      <td>604</td>\n",
       "      <td>cypressbob.3708</td>\n",
       "      <td>cypressbob</td>\n",
       "      <td>2003-11-20 11:00:00</td>\n",
       "      <td>Northern Ireland</td>\n",
       "    </tr>\n",
       "  </tbody>\n",
       "</table>\n",
       "</div>"
      ],
      "text/plain": [
       "   n_ratings  n_reviews                    uid         username  \\\n",
       "0       7820        465         nmann08.184925          nmann08   \n",
       "1       2521       2504     stjamesgate.163714      StJamesGate   \n",
       "2       1797       1143          mdagnew.19527          mdagnew   \n",
       "3         31         31  helloloser12345.10867  helloloser12345   \n",
       "4        604        604        cypressbob.3708       cypressbob   \n",
       "\n",
       "               joined                   location  \n",
       "0 2008-01-07 11:00:00  United States, Washington  \n",
       "1 2007-10-08 10:00:00    United States, New York  \n",
       "2 2005-05-18 10:00:00           Northern Ireland  \n",
       "3 2004-11-25 11:00:00           Northern Ireland  \n",
       "4 2003-11-20 11:00:00           Northern Ireland  "
      ]
     },
     "execution_count": 13,
     "metadata": {},
     "output_type": "execute_result"
    }
   ],
   "source": [
    "users_df[\"joined\"] = ddf.to_datetime(users_df.joined, unit=\"s\")\n",
    "users_df.head(5)"
   ]
  },
  {
   "cell_type": "code",
   "execution_count": 14,
   "metadata": {},
   "outputs": [
    {
     "name": "stdout",
     "output_type": "stream",
     "text": [
      "CHECK: max date year must be at most 2017, the last year data was collected.\n"
     ]
    },
    {
     "data": {
      "text/plain": [
       "Timestamp('2017-07-31 10:00:00')"
      ]
     },
     "execution_count": 14,
     "metadata": {},
     "output_type": "execute_result"
    }
   ],
   "source": [
    "# CHECK\n",
    "print(\"CHECK: max date year must be at most 2017, the last year data was collected.\")\n",
    "users_df.joined.max()"
   ]
  },
  {
   "cell_type": "markdown",
   "metadata": {},
   "source": [
    "Appending the Country of Each Territory"
   ]
  },
  {
   "cell_type": "code",
   "execution_count": 15,
   "metadata": {},
   "outputs": [
    {
     "data": {
      "text/html": [
       "<div>\n",
       "<style scoped>\n",
       "    .dataframe tbody tr th:only-of-type {\n",
       "        vertical-align: middle;\n",
       "    }\n",
       "\n",
       "    .dataframe tbody tr th {\n",
       "        vertical-align: top;\n",
       "    }\n",
       "\n",
       "    .dataframe thead th {\n",
       "        text-align: right;\n",
       "    }\n",
       "</style>\n",
       "<table border=\"1\" class=\"dataframe\">\n",
       "  <thead>\n",
       "    <tr style=\"text-align: right;\">\n",
       "      <th></th>\n",
       "      <th>n_ratings</th>\n",
       "      <th>n_reviews</th>\n",
       "      <th>uid</th>\n",
       "      <th>username</th>\n",
       "      <th>joined</th>\n",
       "      <th>location</th>\n",
       "      <th>country</th>\n",
       "    </tr>\n",
       "  </thead>\n",
       "  <tbody>\n",
       "    <tr>\n",
       "      <th>0</th>\n",
       "      <td>7820</td>\n",
       "      <td>465</td>\n",
       "      <td>nmann08.184925</td>\n",
       "      <td>nmann08</td>\n",
       "      <td>2008-01-07 11:00:00</td>\n",
       "      <td>United States, Washington</td>\n",
       "      <td>United States</td>\n",
       "    </tr>\n",
       "    <tr>\n",
       "      <th>1</th>\n",
       "      <td>2521</td>\n",
       "      <td>2504</td>\n",
       "      <td>stjamesgate.163714</td>\n",
       "      <td>StJamesGate</td>\n",
       "      <td>2007-10-08 10:00:00</td>\n",
       "      <td>United States, New York</td>\n",
       "      <td>United States</td>\n",
       "    </tr>\n",
       "    <tr>\n",
       "      <th>2</th>\n",
       "      <td>1797</td>\n",
       "      <td>1143</td>\n",
       "      <td>mdagnew.19527</td>\n",
       "      <td>mdagnew</td>\n",
       "      <td>2005-05-18 10:00:00</td>\n",
       "      <td>Northern Ireland</td>\n",
       "      <td>Northern Ireland</td>\n",
       "    </tr>\n",
       "    <tr>\n",
       "      <th>3</th>\n",
       "      <td>31</td>\n",
       "      <td>31</td>\n",
       "      <td>helloloser12345.10867</td>\n",
       "      <td>helloloser12345</td>\n",
       "      <td>2004-11-25 11:00:00</td>\n",
       "      <td>Northern Ireland</td>\n",
       "      <td>Northern Ireland</td>\n",
       "    </tr>\n",
       "    <tr>\n",
       "      <th>4</th>\n",
       "      <td>604</td>\n",
       "      <td>604</td>\n",
       "      <td>cypressbob.3708</td>\n",
       "      <td>cypressbob</td>\n",
       "      <td>2003-11-20 11:00:00</td>\n",
       "      <td>Northern Ireland</td>\n",
       "      <td>Northern Ireland</td>\n",
       "    </tr>\n",
       "  </tbody>\n",
       "</table>\n",
       "</div>"
      ],
      "text/plain": [
       "   n_ratings  n_reviews                    uid         username  \\\n",
       "0       7820        465         nmann08.184925          nmann08   \n",
       "1       2521       2504     stjamesgate.163714      StJamesGate   \n",
       "2       1797       1143          mdagnew.19527          mdagnew   \n",
       "3         31         31  helloloser12345.10867  helloloser12345   \n",
       "4        604        604        cypressbob.3708       cypressbob   \n",
       "\n",
       "               joined                   location           country  \n",
       "0 2008-01-07 11:00:00  United States, Washington     United States  \n",
       "1 2007-10-08 10:00:00    United States, New York     United States  \n",
       "2 2005-05-18 10:00:00           Northern Ireland  Northern Ireland  \n",
       "3 2004-11-25 11:00:00           Northern Ireland  Northern Ireland  \n",
       "4 2003-11-20 11:00:00           Northern Ireland  Northern Ireland  "
      ]
     },
     "execution_count": 15,
     "metadata": {},
     "output_type": "execute_result"
    }
   ],
   "source": [
    "users_df[\"country\"] = users_df[\"location\"].apply(lambda territory: prc.get_country(territory))\n",
    "users_df.head(5)"
   ]
  },
  {
   "cell_type": "markdown",
   "metadata": {},
   "source": [
    "**[III] Descriptive Statistics & Distributions**"
   ]
  },
  {
   "cell_type": "code",
   "execution_count": 16,
   "metadata": {},
   "outputs": [
    {
     "data": {
      "text/html": [
       "<div>\n",
       "<style scoped>\n",
       "    .dataframe tbody tr th:only-of-type {\n",
       "        vertical-align: middle;\n",
       "    }\n",
       "\n",
       "    .dataframe tbody tr th {\n",
       "        vertical-align: top;\n",
       "    }\n",
       "\n",
       "    .dataframe thead th {\n",
       "        text-align: right;\n",
       "    }\n",
       "</style>\n",
       "<table border=\"1\" class=\"dataframe\">\n",
       "  <thead>\n",
       "    <tr style=\"text-align: right;\">\n",
       "      <th></th>\n",
       "      <th>n_ratings</th>\n",
       "      <th>n_reviews</th>\n",
       "    </tr>\n",
       "  </thead>\n",
       "  <tbody>\n",
       "    <tr>\n",
       "      <th>count</th>\n",
       "      <td>153704.000000</td>\n",
       "      <td>153704.000000</td>\n",
       "    </tr>\n",
       "    <tr>\n",
       "      <th>mean</th>\n",
       "      <td>54.605163</td>\n",
       "      <td>16.847876</td>\n",
       "    </tr>\n",
       "    <tr>\n",
       "      <th>std</th>\n",
       "      <td>252.388790</td>\n",
       "      <td>139.846706</td>\n",
       "    </tr>\n",
       "    <tr>\n",
       "      <th>min</th>\n",
       "      <td>1.000000</td>\n",
       "      <td>0.000000</td>\n",
       "    </tr>\n",
       "    <tr>\n",
       "      <th>25%</th>\n",
       "      <td>1.000000</td>\n",
       "      <td>0.000000</td>\n",
       "    </tr>\n",
       "    <tr>\n",
       "      <th>50%</th>\n",
       "      <td>3.000000</td>\n",
       "      <td>0.000000</td>\n",
       "    </tr>\n",
       "    <tr>\n",
       "      <th>75%</th>\n",
       "      <td>16.000000</td>\n",
       "      <td>2.000000</td>\n",
       "    </tr>\n",
       "    <tr>\n",
       "      <th>max</th>\n",
       "      <td>12046.000000</td>\n",
       "      <td>8970.000000</td>\n",
       "    </tr>\n",
       "  </tbody>\n",
       "</table>\n",
       "</div>"
      ],
      "text/plain": [
       "           n_ratings      n_reviews\n",
       "count  153704.000000  153704.000000\n",
       "mean       54.605163      16.847876\n",
       "std       252.388790     139.846706\n",
       "min         1.000000       0.000000\n",
       "25%         1.000000       0.000000\n",
       "50%         3.000000       0.000000\n",
       "75%        16.000000       2.000000\n",
       "max     12046.000000    8970.000000"
      ]
     },
     "execution_count": 16,
     "metadata": {},
     "output_type": "execute_result"
    }
   ],
   "source": [
    "users_df.describe()"
   ]
  },
  {
   "cell_type": "markdown",
   "metadata": {},
   "source": [
    "user_id"
   ]
  },
  {
   "cell_type": "code",
   "execution_count": 17,
   "metadata": {},
   "outputs": [
    {
     "name": "stdout",
     "output_type": "stream",
     "text": [
      "Is any user ID missing ?\n"
     ]
    },
    {
     "data": {
      "text/plain": [
       "False"
      ]
     },
     "execution_count": 17,
     "metadata": {},
     "output_type": "execute_result"
    }
   ],
   "source": [
    "print(\"Is any user ID missing ?\")\n",
    "users_df.uid.isna().any()"
   ]
  },
  {
   "cell_type": "code",
   "execution_count": 18,
   "metadata": {},
   "outputs": [
    {
     "name": "stdout",
     "output_type": "stream",
     "text": [
      "How many unique users ?\n"
     ]
    },
    {
     "data": {
      "text/plain": [
       "153704"
      ]
     },
     "execution_count": 18,
     "metadata": {},
     "output_type": "execute_result"
    }
   ],
   "source": [
    "print(\"How many unique users ?\")\n",
    "n_users = len(users_df.uid.unique())\n",
    "n_users"
   ]
  },
  {
   "cell_type": "markdown",
   "metadata": {},
   "source": [
    "location"
   ]
  },
  {
   "cell_type": "code",
   "execution_count": 19,
   "metadata": {},
   "outputs": [
    {
     "name": "stdout",
     "output_type": "stream",
     "text": [
      "Is there a user with unknown location ?\n"
     ]
    },
    {
     "data": {
      "text/plain": [
       "True"
      ]
     },
     "execution_count": 19,
     "metadata": {},
     "output_type": "execute_result"
    }
   ],
   "source": [
    "print(\"Is there a user with unknown location ?\")\n",
    "users_df.location.isna().any()"
   ]
  },
  {
   "cell_type": "code",
   "execution_count": 20,
   "metadata": {},
   "outputs": [
    {
     "name": "stdout",
     "output_type": "stream",
     "text": [
      "How many users have an unknown location ?\n"
     ]
    },
    {
     "data": {
      "text/plain": [
       "31279"
      ]
     },
     "execution_count": 20,
     "metadata": {},
     "output_type": "execute_result"
    }
   ],
   "source": [
    "print(\"How many users have an unknown location ?\")\n",
    "n_users_unknown_loc = users_df.location.isna().sum()\n",
    "n_users_unknown_loc"
   ]
  },
  {
   "cell_type": "code",
   "execution_count": 21,
   "metadata": {},
   "outputs": [
    {
     "name": "stdout",
     "output_type": "stream",
     "text": [
      "What fraction do these users make up of the total number of users ?\n"
     ]
    },
    {
     "data": {
      "text/plain": [
       "0.2035015354187269"
      ]
     },
     "execution_count": 21,
     "metadata": {},
     "output_type": "execute_result"
    }
   ],
   "source": [
    "print(\"What fraction do these users make up of the total number of users ?\")\n",
    "n_users_unknown_loc / n_users"
   ]
  },
  {
   "cell_type": "code",
   "execution_count": 22,
   "metadata": {},
   "outputs": [
    {
     "name": "stdout",
     "output_type": "stream",
     "text": [
      "Where are all users located ?\n"
     ]
    },
    {
     "data": {
      "text/plain": [
       "array(['Afghanistan', 'Albania', 'American Samoa', 'Andorra', 'Angola',\n",
       "       'Anguilla', 'Antarctica', 'Antigua and Barbuda', 'Aotearoa',\n",
       "       'Argentina', 'Aruba', 'Australia', 'Austria', 'Bahamas',\n",
       "       'Barbados', 'Belarus', 'Belgium', 'Belize', 'Bermuda', 'Bhutan',\n",
       "       'Bolivia', 'Bosnia and Herzegovina', 'Bouvet Island', 'Brazil',\n",
       "       'British Indian Ocean Territory', 'Bulgaria', 'Burkina Faso',\n",
       "       'Cambodia', 'Canada', 'Cayman Islands', 'Chile', 'China',\n",
       "       'Christmas Island', 'Colombia', 'Costa Rica', 'Croatia', 'Cyprus',\n",
       "       'Czech Republic', 'Denmark', 'Dominican Republic', 'Ecuador',\n",
       "       'Egypt', 'El Salvador', 'England', 'Equatorial Guinea', 'Estonia',\n",
       "       'Ethiopia', 'Faroe Islands', 'Fiji Islands', 'Finland', 'France',\n",
       "       'Germany', 'Gibraltar', 'Greece', 'Guam', 'Guatemala', 'Guernsey',\n",
       "       'Haiti', 'Heard and McDonald Islands', 'Honduras', 'Hong Kong',\n",
       "       'Hungary', 'Iceland', 'India', 'Indonesia', 'Ireland',\n",
       "       'Isle of Man', 'Israel', 'Italy', 'Japan', 'Jersey', 'Jordan',\n",
       "       'Kazakhstan', 'Kenya', 'Kyrgyzstan', 'Latvia', 'Lebanon',\n",
       "       'Lesotho', 'Liberia', 'Lithuania', 'Luxembourg', 'Macedonia',\n",
       "       'Malaysia', 'Malta', 'Malvinas', 'Marshall Islands', 'Mauritania',\n",
       "       'Mauritius', 'Mexico', 'Moldova', 'Mozambique', 'Netherlands',\n",
       "       'New Caledonia', 'Nicaragua', 'Nigeria', 'Northern Ireland',\n",
       "       'Northern Mariana Islands', 'Norway', 'Palestine', 'Panama',\n",
       "       'Papua New Guinea', 'Paraguay', 'Peru', 'Philippines', 'Poland',\n",
       "       'Portugal', 'Puerto Rico', 'Romania', 'Russia', 'Rwanda',\n",
       "       'Scotland', 'Senegal', 'Serbia', 'Seychelles', 'Singapore',\n",
       "       'Sint Maarten', 'Slovak Republic', 'Slovenia', 'Solomon Islands',\n",
       "       'South Africa', 'South Georgia and South Sandwich Islands',\n",
       "       'Spain', 'Sri Lanka', 'Svalbard and Jan Mayen Islands', 'Sweden',\n",
       "       'Switzerland', 'Taiwan', 'Tajikistan', 'Tanzania', 'Thailand',\n",
       "       'Tokelau', 'Trinidad and Tobago', 'Turkey', 'Turkmenistan',\n",
       "       'Uganda', 'Ukraine', 'United Arab Emirates', 'United States',\n",
       "       'Uruguay', 'Uzbekistan', 'Vanuatu', 'Venezuela', 'Vietnam',\n",
       "       'Wales', 'Zimbabwe'], dtype=object)"
      ]
     },
     "execution_count": 22,
     "metadata": {},
     "output_type": "execute_result"
    }
   ],
   "source": [
    "print(\"Where are all users located ?\")\n",
    "all_countries = users_df.country[~users_df.country.isna()].unique()\n",
    "all_countries.sort()\n",
    "all_countries"
   ]
  },
  {
   "cell_type": "code",
   "execution_count": 23,
   "metadata": {},
   "outputs": [
    {
     "name": "stdout",
     "output_type": "stream",
     "text": [
      "How many different locations are there ?\n"
     ]
    },
    {
     "data": {
      "text/plain": [
       "145"
      ]
     },
     "execution_count": 23,
     "metadata": {},
     "output_type": "execute_result"
    }
   ],
   "source": [
    "print(\"How many different locations are there ?\")\n",
    "len(all_countries)"
   ]
  },
  {
   "cell_type": "code",
   "execution_count": 24,
   "metadata": {},
   "outputs": [
    {
     "data": {
      "text/plain": [
       "<AxesSubplot:title={'center':'Number of Users Across All Countries except the US'}, xlabel='country (represented via its index entry)', ylabel=\"users' count\">"
      ]
     },
     "execution_count": 24,
     "metadata": {},
     "output_type": "execute_result"
    },
    {
     "data": {
      "image/png": "[encoded data removed]",
      "text/plain": [
       "<Figure size 432x288 with 1 Axes>"
      ]
     },
     "metadata": {
      "needs_background": "light"
     },
     "output_type": "display_data"
    }
   ],
   "source": [
    "n_users_per_country_wout_us = users_df[\\\n",
    "    (~users_df.country.isna()) &\\\n",
    "    (users_df.country != \"United States\")].groupby(\"country\", as_index=False).size()\n",
    "\n",
    "fig, ax = plt.subplots(1,1)\n",
    "ax.set_title(\"Number of Users Across All Countries except the US\")\n",
    "ax.set_ylabel(\"users' count\")\n",
    "ax.set_xlabel(\"country (represented via its index entry)\")\n",
    "sns.scatterplot(data=n_users_per_country_wout_us, ax=ax, s=10)"
   ]
  },
  {
   "cell_type": "code",
   "execution_count": 25,
   "metadata": {},
   "outputs": [
    {
     "name": "stdout",
     "output_type": "stream",
     "text": [
      "List of countries with at least 100 users\n"
     ]
    },
    {
     "name": "stderr",
     "output_type": "stream",
     "text": [
      "C:\\Users\\avern\\AppData\\Local\\Temp\\ipykernel_16380\\3478117932.py:4: SettingWithCopyWarning: \n",
      "A value is trying to be set on a copy of a slice from a DataFrame.\n",
      "Try using .loc[row_indexer,col_indexer] = value instead\n",
      "\n",
      "See the caveats in the documentation: https://pandas.pydata.org/pandas-docs/stable/user_guide/indexing.html#returning-a-view-versus-a-copy\n",
      "  countries_atleast_100users[\"users_frac\"] = countries_atleast_100users[\"size\"] / users_df.location[~ users_df.location.isna()].size\n"
     ]
    },
    {
     "data": {
      "text/html": [
       "<div>\n",
       "<style scoped>\n",
       "    .dataframe tbody tr th:only-of-type {\n",
       "        vertical-align: middle;\n",
       "    }\n",
       "\n",
       "    .dataframe tbody tr th {\n",
       "        vertical-align: top;\n",
       "    }\n",
       "\n",
       "    .dataframe thead th {\n",
       "        text-align: right;\n",
       "    }\n",
       "</style>\n",
       "<table border=\"1\" class=\"dataframe\">\n",
       "  <thead>\n",
       "    <tr style=\"text-align: right;\">\n",
       "      <th></th>\n",
       "      <th>country</th>\n",
       "      <th>size</th>\n",
       "      <th>users_frac</th>\n",
       "    </tr>\n",
       "  </thead>\n",
       "  <tbody>\n",
       "    <tr>\n",
       "      <th>137</th>\n",
       "      <td>United States</td>\n",
       "      <td>113223</td>\n",
       "      <td>0.924836</td>\n",
       "    </tr>\n",
       "    <tr>\n",
       "      <th>28</th>\n",
       "      <td>Canada</td>\n",
       "      <td>3324</td>\n",
       "      <td>0.027151</td>\n",
       "    </tr>\n",
       "    <tr>\n",
       "      <th>43</th>\n",
       "      <td>England</td>\n",
       "      <td>791</td>\n",
       "      <td>0.006461</td>\n",
       "    </tr>\n",
       "    <tr>\n",
       "      <th>11</th>\n",
       "      <td>Australia</td>\n",
       "      <td>520</td>\n",
       "      <td>0.004247</td>\n",
       "    </tr>\n",
       "    <tr>\n",
       "      <th>51</th>\n",
       "      <td>Germany</td>\n",
       "      <td>372</td>\n",
       "      <td>0.003039</td>\n",
       "    </tr>\n",
       "    <tr>\n",
       "      <th>124</th>\n",
       "      <td>Sweden</td>\n",
       "      <td>308</td>\n",
       "      <td>0.002516</td>\n",
       "    </tr>\n",
       "    <tr>\n",
       "      <th>91</th>\n",
       "      <td>Netherlands</td>\n",
       "      <td>271</td>\n",
       "      <td>0.002214</td>\n",
       "    </tr>\n",
       "    <tr>\n",
       "      <th>23</th>\n",
       "      <td>Brazil</td>\n",
       "      <td>267</td>\n",
       "      <td>0.002181</td>\n",
       "    </tr>\n",
       "    <tr>\n",
       "      <th>16</th>\n",
       "      <td>Belgium</td>\n",
       "      <td>227</td>\n",
       "      <td>0.001854</td>\n",
       "    </tr>\n",
       "    <tr>\n",
       "      <th>88</th>\n",
       "      <td>Mexico</td>\n",
       "      <td>193</td>\n",
       "      <td>0.001576</td>\n",
       "    </tr>\n",
       "    <tr>\n",
       "      <th>108</th>\n",
       "      <td>Russia</td>\n",
       "      <td>191</td>\n",
       "      <td>0.001560</td>\n",
       "    </tr>\n",
       "    <tr>\n",
       "      <th>65</th>\n",
       "      <td>Ireland</td>\n",
       "      <td>175</td>\n",
       "      <td>0.001429</td>\n",
       "    </tr>\n",
       "    <tr>\n",
       "      <th>121</th>\n",
       "      <td>Spain</td>\n",
       "      <td>167</td>\n",
       "      <td>0.001364</td>\n",
       "    </tr>\n",
       "    <tr>\n",
       "      <th>68</th>\n",
       "      <td>Italy</td>\n",
       "      <td>147</td>\n",
       "      <td>0.001201</td>\n",
       "    </tr>\n",
       "    <tr>\n",
       "      <th>69</th>\n",
       "      <td>Japan</td>\n",
       "      <td>142</td>\n",
       "      <td>0.001160</td>\n",
       "    </tr>\n",
       "    <tr>\n",
       "      <th>50</th>\n",
       "      <td>France</td>\n",
       "      <td>135</td>\n",
       "      <td>0.001103</td>\n",
       "    </tr>\n",
       "    <tr>\n",
       "      <th>97</th>\n",
       "      <td>Norway</td>\n",
       "      <td>120</td>\n",
       "      <td>0.000980</td>\n",
       "    </tr>\n",
       "    <tr>\n",
       "      <th>110</th>\n",
       "      <td>Scotland</td>\n",
       "      <td>100</td>\n",
       "      <td>0.000817</td>\n",
       "    </tr>\n",
       "  </tbody>\n",
       "</table>\n",
       "</div>"
      ],
      "text/plain": [
       "           country    size  users_frac\n",
       "137  United States  113223    0.924836\n",
       "28          Canada    3324    0.027151\n",
       "43         England     791    0.006461\n",
       "11       Australia     520    0.004247\n",
       "51         Germany     372    0.003039\n",
       "124         Sweden     308    0.002516\n",
       "91     Netherlands     271    0.002214\n",
       "23          Brazil     267    0.002181\n",
       "16         Belgium     227    0.001854\n",
       "88          Mexico     193    0.001576\n",
       "108         Russia     191    0.001560\n",
       "65         Ireland     175    0.001429\n",
       "121          Spain     167    0.001364\n",
       "68           Italy     147    0.001201\n",
       "69           Japan     142    0.001160\n",
       "50          France     135    0.001103\n",
       "97          Norway     120    0.000980\n",
       "110       Scotland     100    0.000817"
      ]
     },
     "execution_count": 25,
     "metadata": {},
     "output_type": "execute_result"
    }
   ],
   "source": [
    "print(\"List of countries with at least 100 users\")\n",
    "n_users_per_country = users_df.groupby(\"country\", as_index=False).size()\n",
    "countries_atleast_100users = n_users_per_country[n_users_per_country[\"size\"] >= 100]\n",
    "countries_atleast_100users[\"users_frac\"] = countries_atleast_100users[\"size\"] / users_df.location[~ users_df.location.isna()].size\n",
    "countries_atleast_100users = countries_atleast_100users.sort_values(by=\"size\", ascending=False)\n",
    "countries_atleast_100users"
   ]
  },
  {
   "cell_type": "markdown",
   "metadata": {},
   "source": [
    "n_ratings"
   ]
  },
  {
   "cell_type": "code",
   "execution_count": 26,
   "metadata": {},
   "outputs": [
    {
     "name": "stdout",
     "output_type": "stream",
     "text": [
      "Is there a user with unknown number of ratings ?\n"
     ]
    },
    {
     "data": {
      "text/plain": [
       "False"
      ]
     },
     "execution_count": 26,
     "metadata": {},
     "output_type": "execute_result"
    }
   ],
   "source": [
    "print(\"Is there a user with unknown number of ratings ?\")\n",
    "users_df.n_ratings.isna().any()"
   ]
  },
  {
   "cell_type": "code",
   "execution_count": 27,
   "metadata": {},
   "outputs": [
    {
     "name": "stdout",
     "output_type": "stream",
     "text": [
      "Total number of ratings\n"
     ]
    },
    {
     "data": {
      "text/plain": [
       "8393032"
      ]
     },
     "execution_count": 27,
     "metadata": {},
     "output_type": "execute_result"
    }
   ],
   "source": [
    "print(\"Total number of ratings\")\n",
    "total_n_ratings = users_df.n_ratings.sum()\n",
    "total_n_ratings"
   ]
  },
  {
   "cell_type": "code",
   "execution_count": 63,
   "metadata": {},
   "outputs": [
    {
     "data": {
      "text/plain": [
       "<AxesSubplot:title={'center':'Distribution of Ratings Across All Users'}, xlabel='ratings', ylabel='occurences'>"
      ]
     },
     "execution_count": 63,
     "metadata": {},
     "output_type": "execute_result"
    },
    {
     "data": {
      "image/png": "[encoded data removed]",
      "text/plain": [
       "<Figure size 432x288 with 1 Axes>"
      ]
     },
     "metadata": {
      "needs_background": "light"
     },
     "output_type": "display_data"
    }
   ],
   "source": [
    "fig, ax = plt.subplots(1,1)\n",
    "ax.set_yscale('log')\n",
    "ax.set_title(\"Distribution of Ratings Across All Users\")\n",
    "ax.set_ylabel(\"occurences\")\n",
    "ax.set_xlabel(\"ratings\")\n",
    "sns.histplot(data=users_df, x=\"n_ratings\", ax=ax, bins=10)\n"
   ]
  },
  {
   "cell_type": "code",
   "execution_count": 29,
   "metadata": {},
   "outputs": [
    {
     "data": {
      "text/plain": [
       "<AxesSubplot:title={'center':'Number of Ratings Across All Countries except the US'}, xlabel='country (represented by its entry index)', ylabel=\"ratings' count\">"
      ]
     },
     "execution_count": 29,
     "metadata": {},
     "output_type": "execute_result"
    },
    {
     "data": {
      "image/png": "[encoded data removed]",
      "text/plain": [
       "<Figure size 432x288 with 1 Axes>"
      ]
     },
     "metadata": {
      "needs_background": "light"
     },
     "output_type": "display_data"
    }
   ],
   "source": [
    "n_ratings_per_country = users_df[\\\n",
    "    (~users_df.country.isna()) &\\\n",
    "    (users_df.country != \"United States\")].groupby(\"country\", as_index=False).agg({\"n_ratings\": np.sum})\n",
    "\n",
    "fig, ax = plt.subplots(1,1)\n",
    "ax.set_title(\"Number of Ratings Across All Countries except the US\")\n",
    "ax.set_ylabel(\"ratings' count\")\n",
    "ax.set_xlabel(\"country (represented by its entry index)\")\n",
    "sns.scatterplot(data=n_ratings_per_country, ax=ax, s=10)"
   ]
  },
  {
   "cell_type": "code",
   "execution_count": 30,
   "metadata": {},
   "outputs": [
    {
     "name": "stdout",
     "output_type": "stream",
     "text": [
      "List of countries with at least 10'000 ratings\n"
     ]
    },
    {
     "name": "stderr",
     "output_type": "stream",
     "text": [
      "C:\\Users\\avern\\AppData\\Local\\Temp\\ipykernel_16380\\740162740.py:5: SettingWithCopyWarning: \n",
      "A value is trying to be set on a copy of a slice from a DataFrame.\n",
      "Try using .loc[row_indexer,col_indexer] = value instead\n",
      "\n",
      "See the caveats in the documentation: https://pandas.pydata.org/pandas-docs/stable/user_guide/indexing.html#returning-a-view-versus-a-copy\n",
      "  countries_atleast_10Kratings[\"ratings_frac\"] = countries_atleast_10Kratings.n_ratings / users_df[~users_df.country.isna()].n_ratings.sum()\n"
     ]
    },
    {
     "data": {
      "text/html": [
       "<div>\n",
       "<style scoped>\n",
       "    .dataframe tbody tr th:only-of-type {\n",
       "        vertical-align: middle;\n",
       "    }\n",
       "\n",
       "    .dataframe tbody tr th {\n",
       "        vertical-align: top;\n",
       "    }\n",
       "\n",
       "    .dataframe thead th {\n",
       "        text-align: right;\n",
       "    }\n",
       "</style>\n",
       "<table border=\"1\" class=\"dataframe\">\n",
       "  <thead>\n",
       "    <tr style=\"text-align: right;\">\n",
       "      <th></th>\n",
       "      <th>country</th>\n",
       "      <th>n_ratings</th>\n",
       "      <th>ratings_frac</th>\n",
       "    </tr>\n",
       "  </thead>\n",
       "  <tbody>\n",
       "    <tr>\n",
       "      <th>137</th>\n",
       "      <td>United States</td>\n",
       "      <td>7303870</td>\n",
       "      <td>0.925389</td>\n",
       "    </tr>\n",
       "    <tr>\n",
       "      <th>28</th>\n",
       "      <td>Canada</td>\n",
       "      <td>274512</td>\n",
       "      <td>0.034780</td>\n",
       "    </tr>\n",
       "    <tr>\n",
       "      <th>43</th>\n",
       "      <td>England</td>\n",
       "      <td>41597</td>\n",
       "      <td>0.005270</td>\n",
       "    </tr>\n",
       "    <tr>\n",
       "      <th>11</th>\n",
       "      <td>Australia</td>\n",
       "      <td>34915</td>\n",
       "      <td>0.004424</td>\n",
       "    </tr>\n",
       "    <tr>\n",
       "      <th>124</th>\n",
       "      <td>Sweden</td>\n",
       "      <td>29914</td>\n",
       "      <td>0.003790</td>\n",
       "    </tr>\n",
       "    <tr>\n",
       "      <th>91</th>\n",
       "      <td>Netherlands</td>\n",
       "      <td>22952</td>\n",
       "      <td>0.002908</td>\n",
       "    </tr>\n",
       "    <tr>\n",
       "      <th>51</th>\n",
       "      <td>Germany</td>\n",
       "      <td>17460</td>\n",
       "      <td>0.002212</td>\n",
       "    </tr>\n",
       "    <tr>\n",
       "      <th>107</th>\n",
       "      <td>Romania</td>\n",
       "      <td>16823</td>\n",
       "      <td>0.002131</td>\n",
       "    </tr>\n",
       "    <tr>\n",
       "      <th>16</th>\n",
       "      <td>Belgium</td>\n",
       "      <td>16478</td>\n",
       "      <td>0.002088</td>\n",
       "    </tr>\n",
       "    <tr>\n",
       "      <th>108</th>\n",
       "      <td>Russia</td>\n",
       "      <td>10521</td>\n",
       "      <td>0.001333</td>\n",
       "    </tr>\n",
       "  </tbody>\n",
       "</table>\n",
       "</div>"
      ],
      "text/plain": [
       "           country  n_ratings  ratings_frac\n",
       "137  United States    7303870      0.925389\n",
       "28          Canada     274512      0.034780\n",
       "43         England      41597      0.005270\n",
       "11       Australia      34915      0.004424\n",
       "124         Sweden      29914      0.003790\n",
       "91     Netherlands      22952      0.002908\n",
       "51         Germany      17460      0.002212\n",
       "107        Romania      16823      0.002131\n",
       "16         Belgium      16478      0.002088\n",
       "108         Russia      10521      0.001333"
      ]
     },
     "execution_count": 30,
     "metadata": {},
     "output_type": "execute_result"
    }
   ],
   "source": [
    "print(\"List of countries with at least 10'000 ratings\")\n",
    "min_n_ratings = 10_000\n",
    "n_ratings_per_country = users_df[~users_df.country.isna()].groupby(\"country\", as_index=False).agg({\"n_ratings\": np.sum})\n",
    "countries_atleast_10Kratings = n_ratings_per_country[n_ratings_per_country.n_ratings >= min_n_ratings]\n",
    "countries_atleast_10Kratings[\"ratings_frac\"] = countries_atleast_10Kratings.n_ratings / users_df[~users_df.country.isna()].n_ratings.sum()\n",
    "countries_atleast_10Kratings = countries_atleast_10Kratings.sort_values(by=\"n_ratings\", ascending=False)\n",
    "countries_atleast_10Kratings"
   ]
  },
  {
   "cell_type": "markdown",
   "metadata": {},
   "source": [
    "n_reviews"
   ]
  },
  {
   "cell_type": "code",
   "execution_count": 31,
   "metadata": {},
   "outputs": [
    {
     "name": "stdout",
     "output_type": "stream",
     "text": [
      "Is there a user with unknown number of reviews ?\n"
     ]
    },
    {
     "data": {
      "text/plain": [
       "False"
      ]
     },
     "execution_count": 31,
     "metadata": {},
     "output_type": "execute_result"
    }
   ],
   "source": [
    "print(\"Is there a user with unknown number of reviews ?\")\n",
    "users_df.n_reviews.isna().any()"
   ]
  },
  {
   "cell_type": "code",
   "execution_count": 32,
   "metadata": {},
   "outputs": [
    {
     "name": "stdout",
     "output_type": "stream",
     "text": [
      "Total number of reviews\n"
     ]
    },
    {
     "data": {
      "text/plain": [
       "2589586"
      ]
     },
     "execution_count": 32,
     "metadata": {},
     "output_type": "execute_result"
    }
   ],
   "source": [
    "print(\"Total number of reviews\")\n",
    "total_n_reviews = users_df.n_reviews.sum()\n",
    "total_n_reviews"
   ]
  },
  {
   "cell_type": "code",
   "execution_count": 62,
   "metadata": {},
   "outputs": [
    {
     "data": {
      "text/plain": [
       "<AxesSubplot:title={'center':'Distribution of Reviews Across All Users'}, xlabel='reviews', ylabel='occurences'>"
      ]
     },
     "execution_count": 62,
     "metadata": {},
     "output_type": "execute_result"
    },
    {
     "data": {
      "image/png": "[encoded data removed]",
      "text/plain": [
       "<Figure size 432x288 with 1 Axes>"
      ]
     },
     "metadata": {
      "needs_background": "light"
     },
     "output_type": "display_data"
    }
   ],
   "source": [
    "fig, ax = plt.subplots(1,1)\n",
    "ax.set_yscale('log')\n",
    "ax.set_title(\"Distribution of Reviews Across All Users\")\n",
    "ax.set_ylabel(\"occurences\")\n",
    "ax.set_xlabel(\"reviews\")\n",
    "sns.histplot(data=users_df, x=\"n_reviews\", ax=ax, bins=10)"
   ]
  },
  {
   "cell_type": "code",
   "execution_count": 34,
   "metadata": {},
   "outputs": [
    {
     "name": "stdout",
     "output_type": "stream",
     "text": [
      "List of countries with at least 5'000 reviews\n"
     ]
    },
    {
     "name": "stderr",
     "output_type": "stream",
     "text": [
      "C:\\Users\\avern\\AppData\\Local\\Temp\\ipykernel_16380\\756774691.py:5: SettingWithCopyWarning: \n",
      "A value is trying to be set on a copy of a slice from a DataFrame.\n",
      "Try using .loc[row_indexer,col_indexer] = value instead\n",
      "\n",
      "See the caveats in the documentation: https://pandas.pydata.org/pandas-docs/stable/user_guide/indexing.html#returning-a-view-versus-a-copy\n",
      "  countries_atleast_5Kreviews[\"reviews_frac\"] = countries_atleast_5Kreviews.n_reviews /\\\n"
     ]
    },
    {
     "data": {
      "text/html": [
       "<div>\n",
       "<style scoped>\n",
       "    .dataframe tbody tr th:only-of-type {\n",
       "        vertical-align: middle;\n",
       "    }\n",
       "\n",
       "    .dataframe tbody tr th {\n",
       "        vertical-align: top;\n",
       "    }\n",
       "\n",
       "    .dataframe thead th {\n",
       "        text-align: right;\n",
       "    }\n",
       "</style>\n",
       "<table border=\"1\" class=\"dataframe\">\n",
       "  <thead>\n",
       "    <tr style=\"text-align: right;\">\n",
       "      <th></th>\n",
       "      <th>country</th>\n",
       "      <th>n_reviews</th>\n",
       "      <th>reviews_frac</th>\n",
       "    </tr>\n",
       "  </thead>\n",
       "  <tbody>\n",
       "    <tr>\n",
       "      <th>137</th>\n",
       "      <td>United States</td>\n",
       "      <td>2241334</td>\n",
       "      <td>0.898518</td>\n",
       "    </tr>\n",
       "    <tr>\n",
       "      <th>28</th>\n",
       "      <td>Canada</td>\n",
       "      <td>126591</td>\n",
       "      <td>0.050748</td>\n",
       "    </tr>\n",
       "    <tr>\n",
       "      <th>11</th>\n",
       "      <td>Australia</td>\n",
       "      <td>25947</td>\n",
       "      <td>0.010402</td>\n",
       "    </tr>\n",
       "    <tr>\n",
       "      <th>43</th>\n",
       "      <td>England</td>\n",
       "      <td>21017</td>\n",
       "      <td>0.008425</td>\n",
       "    </tr>\n",
       "    <tr>\n",
       "      <th>91</th>\n",
       "      <td>Netherlands</td>\n",
       "      <td>9740</td>\n",
       "      <td>0.003905</td>\n",
       "    </tr>\n",
       "    <tr>\n",
       "      <th>124</th>\n",
       "      <td>Sweden</td>\n",
       "      <td>9067</td>\n",
       "      <td>0.003635</td>\n",
       "    </tr>\n",
       "    <tr>\n",
       "      <th>51</th>\n",
       "      <td>Germany</td>\n",
       "      <td>8234</td>\n",
       "      <td>0.003301</td>\n",
       "    </tr>\n",
       "  </tbody>\n",
       "</table>\n",
       "</div>"
      ],
      "text/plain": [
       "           country  n_reviews  reviews_frac\n",
       "137  United States    2241334      0.898518\n",
       "28          Canada     126591      0.050748\n",
       "11       Australia      25947      0.010402\n",
       "43         England      21017      0.008425\n",
       "91     Netherlands       9740      0.003905\n",
       "124         Sweden       9067      0.003635\n",
       "51         Germany       8234      0.003301"
      ]
     },
     "execution_count": 34,
     "metadata": {},
     "output_type": "execute_result"
    }
   ],
   "source": [
    "print(\"List of countries with at least 5'000 reviews\")\n",
    "min_n_reviews = 5_000\n",
    "n_reviews_per_country = users_df[~users_df.country.isna()].groupby(\"country\", as_index=False).agg({\"n_reviews\": np.sum})\n",
    "countries_atleast_5Kreviews = n_reviews_per_country[n_reviews_per_country.n_reviews >= min_n_reviews]\n",
    "countries_atleast_5Kreviews[\"reviews_frac\"] = countries_atleast_5Kreviews.n_reviews /\\\n",
    "    users_df.n_reviews[~users_df.country.isna()].sum()\n",
    "countries_atleast_5Kreviews = countries_atleast_5Kreviews.sort_values(by=\"n_reviews\", ascending=False)\n",
    "countries_atleast_5Kreviews"
   ]
  },
  {
   "cell_type": "markdown",
   "metadata": {},
   "source": [
    "joined"
   ]
  },
  {
   "cell_type": "code",
   "execution_count": 35,
   "metadata": {},
   "outputs": [
    {
     "name": "stdout",
     "output_type": "stream",
     "text": [
      "Is there any missing joining date ?\n"
     ]
    },
    {
     "data": {
      "text/plain": [
       "True"
      ]
     },
     "execution_count": 35,
     "metadata": {},
     "output_type": "execute_result"
    }
   ],
   "source": [
    "print(\"Is there any missing joining date ?\")\n",
    "users_df.joined.isna().any()"
   ]
  },
  {
   "cell_type": "code",
   "execution_count": 36,
   "metadata": {},
   "outputs": [
    {
     "name": "stdout",
     "output_type": "stream",
     "text": [
      "How many users have unknown joining date ?\n"
     ]
    },
    {
     "data": {
      "text/plain": [
       "2652"
      ]
     },
     "execution_count": 36,
     "metadata": {},
     "output_type": "execute_result"
    }
   ],
   "source": [
    "print(\"How many users have unknown joining date ?\")\n",
    "users_df.joined.isna().sum()"
   ]
  },
  {
   "cell_type": "code",
   "execution_count": 37,
   "metadata": {},
   "outputs": [
    {
     "data": {
      "image/png": "[encoded data removed]",
      "text/plain": [
       "<Figure size 864x720 with 20 Axes>"
      ]
     },
     "metadata": {
      "needs_background": "light"
     },
     "output_type": "display_data"
    }
   ],
   "source": [
    "fig, axs = plt.subplots(5, 4, figsize=(12,10))\n",
    "plt.subplots_adjust(wspace=1, hspace=1)\n",
    "fig.suptitle(\"Distribution of Users Joining the Plateform from 1996 to 2017 Broken Down by Month\")\n",
    "users_joined_by_year = users_df.groupby(users_df.joined.dt.year, as_index=False)\n",
    "for i, (year, by_year) in enumerate(users_joined_by_year):\n",
    "    a = int(i/4); b = i % 4\n",
    "    ax = axs[a][b]\n",
    "    ax.set_title(\"year %d\"%(year))\n",
    "    users_joined_by_month = by_year.groupby(by_year.joined.dt.month, as_index=False).size()\n",
    "    sns.barplot(data=users_joined_by_month, x=\"joined\", y=\"size\", color=\"blue\", ax=ax, orient=\"v\")"
   ]
  }
 ],
 "metadata": {
  "kernelspec": {
   "display_name": "Python 3.9.10 64-bit",
   "language": "python",
   "name": "python3"
  },
  "language_info": {
   "codemirror_mode": {
    "name": "ipython",
    "version": 3
   },
   "file_extension": ".py",
   "mimetype": "text/x-python",
   "name": "python",
   "nbconvert_exporter": "python",
   "pygments_lexer": "ipython3",
   "version": "3.9.10"
  },
  "orig_nbformat": 4,
  "vscode": {
   "interpreter": {
    "hash": "a6b17080f85ea43cbd537a9c7f7efa989c8a5a37822a332847af53db68a78ddf"
   }
  }
 },
 "nbformat": 4,
 "nbformat_minor": 2
}
