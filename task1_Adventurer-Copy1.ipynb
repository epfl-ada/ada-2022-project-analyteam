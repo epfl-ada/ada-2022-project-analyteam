{
 "cells": [
  {
   "cell_type": "code",
   "execution_count": 1,
   "id": "81425332",
   "metadata": {},
   "outputs": [],
   "source": [
    "import pandas as pd\n",
    "import time\n",
    "\n",
    "import categories as cat"
   ]
  },
  {
   "cell_type": "code",
   "execution_count": 2,
   "id": "303beab3",
   "metadata": {},
   "outputs": [],
   "source": [
    "ratings_parquets_path = 'RefinedData/BeerAdvocate//ratings.parquet'\n",
    "beers_parquet_path = \"RefinedData/BeerAdvocate/beers.parquet/\"\n",
    "users_parquet_path = \"RefinedData/BeerAdvocate/users.parquet/\""
   ]
  },
  {
   "cell_type": "code",
   "execution_count": 3,
   "id": "b2ff89a0",
   "metadata": {},
   "outputs": [
    {
     "name": "stdout",
     "output_type": "stream",
     "text": [
      "RATINGS DDF\n",
      "---------------------------------------------\n",
      "BEERS DDF\n",
      "---------------------------------------------\n",
      "USERS DDF\n",
      "---------------------------------------------\n"
     ]
    }
   ],
   "source": [
    "categorization = cat.Categorization(ratings_parquets_path, beers_parquet_path, users_parquet_path)"
   ]
  },
  {
   "cell_type": "code",
   "execution_count": 4,
   "id": "86bd0a8e",
   "metadata": {},
   "outputs": [
    {
     "name": "stdout",
     "output_type": "stream",
     "text": [
      "nb users :  153704\n"
     ]
    },
    {
     "data": {
      "text/plain": [
       "['nmann08.184925',\n",
       " 'stjamesgate.163714',\n",
       " 'mdagnew.19527',\n",
       " 'helloloser12345.10867',\n",
       " 'cypressbob.3708']"
      ]
     },
     "execution_count": 4,
     "metadata": {},
     "output_type": "execute_result"
    }
   ],
   "source": [
    "users = categorization.get_userIds_list()[:5]\n",
    "print(\"nb users : \",len(categorization.get_userIds_list()))\n",
    "users"
   ]
  },
  {
   "cell_type": "code",
   "execution_count": 5,
   "id": "2fa05104",
   "metadata": {},
   "outputs": [
    {
     "name": "stdout",
     "output_type": "stream",
     "text": [
      "ADVENTURER SCORE FOR  nmann08.184925\n",
      "   time prep user :  35.83208727836609\n",
      "   time ratings for all beers for user :  20.231497764587402\n",
      "   total time for user :  99.26501798629761\n",
      "summation : 2\n",
      "Total time for user :  nmann08.184925 : 155.55029702186584\n",
      "---------------------------------------------------------\n",
      "ADVENTURER SCORE FOR  stjamesgate.163714\n",
      "   time prep user :  33.92940902709961\n",
      "   time ratings for all beers for user :  15.881221771240234\n",
      "   total time for user :  20.59688901901245\n",
      "summation : 0\n",
      "Total time for user :  stjamesgate.163714 : 70.5062882900238\n",
      "---------------------------------------------------------\n",
      "ADVENTURER SCORE FOR  mdagnew.19527\n",
      "   time prep user :  30.489964485168457\n",
      "   time ratings for all beers for user :  14.72182321548462\n",
      "   total time for user :  1.6689300537109375e-06\n",
      "summation : 0\n",
      "Total time for user :  mdagnew.19527 : 45.22953534126282\n",
      "---------------------------------------------------------\n",
      "ADVENTURER SCORE FOR  helloloser12345.10867\n",
      "   time prep user :  31.948710203170776\n",
      "   time ratings for all beers for user :  14.389825582504272\n",
      "   total time for user :  1.430511474609375e-06\n",
      "summation : 0\n",
      "Total time for user :  helloloser12345.10867 : 46.35240292549133\n",
      "---------------------------------------------------------\n",
      "ADVENTURER SCORE FOR  cypressbob.3708\n",
      "   time prep user :  31.40325903892517\n",
      "   time ratings for all beers for user :  14.70195722579956\n",
      "   total time for user :  2.384185791015625e-06\n",
      "summation : 0\n",
      "Total time for user :  cypressbob.3708 : 46.11521291732788\n",
      "---------------------------------------------------------\n"
     ]
    }
   ],
   "source": [
    "for user in users:\n",
    "    t = time.time()\n",
    "    print(\"summation :\",categorization.get_adventurer_score(user))\n",
    "    print(\"Total time for user : \",user,\":\", time.time()-t)\n",
    "    print(\"---------------------------------------------------------\")"
   ]
  },
  {
   "cell_type": "code",
   "execution_count": null,
   "id": "22e42616",
   "metadata": {},
   "outputs": [],
   "source": []
  },
  {
   "cell_type": "code",
   "execution_count": null,
   "id": "9825fb71",
   "metadata": {},
   "outputs": [],
   "source": []
  },
  {
   "cell_type": "code",
   "execution_count": null,
   "id": "47aaa57b",
   "metadata": {},
   "outputs": [],
   "source": [
    "x = 0\n",
    "x = 1/x if x!=0 else 1\n",
    "x"
   ]
  },
  {
   "cell_type": "code",
   "execution_count": null,
   "id": "16e5d791",
   "metadata": {},
   "outputs": [],
   "source": [
    "df =pd.DataFrame(data={'id':[111,111,111,333,444],'user_id':[11,22,33,44,55],'date': [10,1, 2,9,8], 'rating': [0,1, 1,5,6]}) \n",
    "df"
   ]
  },
  {
   "cell_type": "code",
   "execution_count": null,
   "id": "05eac672",
   "metadata": {},
   "outputs": [],
   "source": [
    "len(df.index)"
   ]
  },
  {
   "cell_type": "code",
   "execution_count": null,
   "id": "44beecee",
   "metadata": {},
   "outputs": [],
   "source": [
    "df.loc[df[\"id\"] == 111][[\"user_id\",\"date\"]].sort_values(\"date\")"
   ]
  },
  {
   "cell_type": "code",
   "execution_count": null,
   "id": "fccc9cca",
   "metadata": {},
   "outputs": [],
   "source": [
    "df.loc[df[\"id\"] == 111].loc[df[\"rating\"] == 1]"
   ]
  },
  {
   "cell_type": "code",
   "execution_count": null,
   "id": "d8f60243",
   "metadata": {},
   "outputs": [],
   "source": [
    "type(df[\"col1\"][0])"
   ]
  }
 ],
 "metadata": {
  "kernelspec": {
   "display_name": "Python 3 (ipykernel)",
   "language": "python",
   "name": "python3"
  },
  "language_info": {
   "codemirror_mode": {
    "name": "ipython",
    "version": 3
   },
   "file_extension": ".py",
   "mimetype": "text/x-python",
   "name": "python",
   "nbconvert_exporter": "python",
   "pygments_lexer": "ipython3",
   "version": "3.10.6"
  }
 },
 "nbformat": 4,
 "nbformat_minor": 5
}
