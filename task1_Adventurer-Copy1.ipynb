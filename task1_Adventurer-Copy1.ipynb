{
 "cells": [
  {
   "cell_type": "code",
   "execution_count": 1,
   "id": "81425332",
   "metadata": {},
   "outputs": [],
   "source": [
    "import pandas as pd\n",
    "import time\n",
    "\n",
    "import categories as cat"
   ]
  },
  {
   "cell_type": "code",
   "execution_count": 2,
   "id": "303beab3",
   "metadata": {},
   "outputs": [],
   "source": [
    "ratings_parquets_path = 'RefinedData/BeerAdvocate//ratings.parquet'\n",
    "beers_parquet_path = \"RefinedData/BeerAdvocate/beers.parquet/\"\n",
    "users_parquet_path = \"RefinedData/BeerAdvocate/users.parquet/\""
   ]
  },
  {
   "cell_type": "code",
   "execution_count": null,
   "id": "b2ff89a0",
   "metadata": {},
   "outputs": [
    {
     "name": "stdout",
     "output_type": "stream",
     "text": [
      "ratings loaded\n",
      "beers loaded\n",
      "users loaded\n"
     ]
    }
   ],
   "source": [
    "t = time.time()\n",
    "categorization = cat.Categorization(ratings_parquets_path, beers_parquet_path, users_parquet_path, SIZE=1000)\n",
    "print(\"run time :\",time.time()-t)"
   ]
  },
  {
   "cell_type": "code",
   "execution_count": null,
   "id": "5be34a61",
   "metadata": {},
   "outputs": [],
   "source": [
    "categorization.get_ratings_head()"
   ]
  },
  {
   "cell_type": "code",
   "execution_count": null,
   "id": "1958cbc6",
   "metadata": {},
   "outputs": [],
   "source": [
    "categorization.get_users_head()"
   ]
  },
  {
   "cell_type": "code",
   "execution_count": null,
   "id": "df0e1e24",
   "metadata": {},
   "outputs": [],
   "source": [
    "categorization.get_beers_head()"
   ]
  },
  {
   "cell_type": "code",
   "execution_count": null,
   "id": "cb83c4cc",
   "metadata": {},
   "outputs": [],
   "source": []
  },
  {
   "cell_type": "code",
   "execution_count": null,
   "id": "311aec17",
   "metadata": {},
   "outputs": [],
   "source": []
  },
  {
   "cell_type": "code",
   "execution_count": null,
   "id": "16e5d791",
   "metadata": {},
   "outputs": [],
   "source": [
    "df =pd.DataFrame(data={'id':[111,111,111,333,444],'user_id':[11,22,33,44,55],'date': [10,1, 2,9,8], 'rating': [0,1, 1,5,6]}) \n",
    "df"
   ]
  },
  {
   "cell_type": "code",
   "execution_count": null,
   "id": "44beecee",
   "metadata": {},
   "outputs": [],
   "source": [
    "df.loc[df[\"id\"] == 111][[\"user_id\",\"date\"]].sort_values(\"date\")"
   ]
  },
  {
   "cell_type": "code",
   "execution_count": null,
   "id": "fccc9cca",
   "metadata": {},
   "outputs": [],
   "source": [
    "df.loc[df[\"id\"] == 111].loc[df[\"rating\"] == 1]"
   ]
  },
  {
   "cell_type": "code",
   "execution_count": null,
   "id": "d8f60243",
   "metadata": {},
   "outputs": [],
   "source": [
    "type(df[\"col1\"][0])"
   ]
  }
 ],
 "metadata": {
  "kernelspec": {
   "display_name": "Python 3 (ipykernel)",
   "language": "python",
   "name": "python3"
  },
  "language_info": {
   "codemirror_mode": {
    "name": "ipython",
    "version": 3
   },
   "file_extension": ".py",
   "mimetype": "text/x-python",
   "name": "python",
   "nbconvert_exporter": "python",
   "pygments_lexer": "ipython3",
   "version": "3.10.6"
  },
  "vscode": {
   "interpreter": {
    "hash": "a6b17080f85ea43cbd537a9c7f7efa989c8a5a37822a332847af53db68a78ddf"
   }
  }
 },
 "nbformat": 4,
 "nbformat_minor": 5
}
