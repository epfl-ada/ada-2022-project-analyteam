{
 "cells": [
  {
   "cell_type": "code",
   "execution_count": 1,
   "metadata": {},
   "outputs": [],
   "source": [
    "from setup import dask_init, dask_shutdown\n",
    "import dask.distributed as dd\n",
    "import dask.dataframe as ddf\n",
    "from tqdm import tqdm\n",
    "import pickle\n",
    "\n",
    "import pandas as pd\n",
    "import numpy as np\n",
    "\n",
    "import ingestion as ing\n",
    "import processing as prc\n",
    "\n",
    "import datetime as dt\n",
    "\n",
    "\n",
    "import seaborn as sns\n",
    "import matplotlib.pyplot as plt\n",
    "%matplotlib inline\n",
    "\n",
    "%load_ext autoreload\n",
    "%autoreload 2"
   ]
  },
  {
   "cell_type": "markdown",
   "metadata": {},
   "source": [
    "# Setup"
   ]
  },
  {
   "cell_type": "code",
   "execution_count": 2,
   "metadata": {},
   "outputs": [
    {
     "name": "stderr",
     "output_type": "stream",
     "text": [
      "c:\\Users\\Henrique\\anaconda3\\lib\\site-packages\\distributed\\node.py:180: UserWarning: Port 8787 is already in use.\n",
      "Perhaps you already have a cluster running?\n",
      "Hosting the HTTP server on port 62184 instead\n",
      "  warnings.warn(\n"
     ]
    },
    {
     "data": {
      "application/vnd.jupyter.widget-view+json": {
       "model_id": "543fefebc5e94f939ba0ac0bac51397a",
       "version_major": 2,
       "version_minor": 0
      },
      "text/plain": [
       "Tab(children=(HTML(value='<div class=\"jp-RenderedHTMLCommon jp-RenderedHTML jp-mod-trusted jp-OutputArea-outpu…"
      ]
     },
     "metadata": {},
     "output_type": "display_data"
    }
   ],
   "source": [
    "# PANDAS SETUP\n",
    "pd.options.mode.use_inf_as_na = True\n",
    "\n",
    "# DASK SETUP\n",
    "client, cluster = dask_init()\n",
    "cluster"
   ]
  },
  {
   "cell_type": "markdown",
   "metadata": {},
   "source": [
    "# [I] Loading the data"
   ]
  },
  {
   "cell_type": "code",
   "execution_count": 3,
   "metadata": {},
   "outputs": [
    {
     "data": {
      "text/html": [
       "<div>\n",
       "<style scoped>\n",
       "    .dataframe tbody tr th:only-of-type {\n",
       "        vertical-align: middle;\n",
       "    }\n",
       "\n",
       "    .dataframe tbody tr th {\n",
       "        vertical-align: top;\n",
       "    }\n",
       "\n",
       "    .dataframe thead th {\n",
       "        text-align: right;\n",
       "    }\n",
       "</style>\n",
       "<table border=\"1\" class=\"dataframe\">\n",
       "  <thead>\n",
       "    <tr style=\"text-align: right;\">\n",
       "      <th></th>\n",
       "      <th>n_ratings</th>\n",
       "      <th>n_reviews</th>\n",
       "      <th>uid</th>\n",
       "      <th>username</th>\n",
       "      <th>joined</th>\n",
       "      <th>location</th>\n",
       "      <th>country</th>\n",
       "      <th>cfm_score</th>\n",
       "      <th>exp_score</th>\n",
       "      <th>xpl_score</th>\n",
       "      <th>adv_score</th>\n",
       "      <th>is_cfm</th>\n",
       "      <th>is_exp</th>\n",
       "      <th>is_xpl</th>\n",
       "      <th>is_adv</th>\n",
       "    </tr>\n",
       "  </thead>\n",
       "  <tbody>\n",
       "    <tr>\n",
       "      <th>0</th>\n",
       "      <td>7820</td>\n",
       "      <td>465</td>\n",
       "      <td>nmann08.184925</td>\n",
       "      <td>nmann08</td>\n",
       "      <td>2008-01-07 11:00:00</td>\n",
       "      <td>United States, Washington</td>\n",
       "      <td>United States</td>\n",
       "      <td>-0.875556</td>\n",
       "      <td>-0.423436</td>\n",
       "      <td>0.276726</td>\n",
       "      <td>0.066368</td>\n",
       "      <td>0</td>\n",
       "      <td>0</td>\n",
       "      <td>1</td>\n",
       "      <td>0</td>\n",
       "    </tr>\n",
       "    <tr>\n",
       "      <th>1</th>\n",
       "      <td>2521</td>\n",
       "      <td>2504</td>\n",
       "      <td>stjamesgate.163714</td>\n",
       "      <td>StJamesGate</td>\n",
       "      <td>2007-10-08 10:00:00</td>\n",
       "      <td>United States, New York</td>\n",
       "      <td>United States</td>\n",
       "      <td>-0.516299</td>\n",
       "      <td>-0.282777</td>\n",
       "      <td>0.473622</td>\n",
       "      <td>0.037287</td>\n",
       "      <td>0</td>\n",
       "      <td>0</td>\n",
       "      <td>1</td>\n",
       "      <td>0</td>\n",
       "    </tr>\n",
       "    <tr>\n",
       "      <th>2</th>\n",
       "      <td>2326</td>\n",
       "      <td>0</td>\n",
       "      <td>hellpop65.48993</td>\n",
       "      <td>Hellpop65</td>\n",
       "      <td>2005-11-14 11:00:00</td>\n",
       "      <td>United States, Kansas</td>\n",
       "      <td>United States</td>\n",
       "      <td>-1.783445</td>\n",
       "      <td>-0.621249</td>\n",
       "      <td>0.11264</td>\n",
       "      <td>0.11307</td>\n",
       "      <td>0</td>\n",
       "      <td>0</td>\n",
       "      <td>0</td>\n",
       "      <td>0</td>\n",
       "    </tr>\n",
       "    <tr>\n",
       "      <th>3</th>\n",
       "      <td>3098</td>\n",
       "      <td>0</td>\n",
       "      <td>latarnik.52897</td>\n",
       "      <td>Latarnik</td>\n",
       "      <td>2005-12-02 11:00:00</td>\n",
       "      <td>United States, New Jersey</td>\n",
       "      <td>United States</td>\n",
       "      <td>-0.451196</td>\n",
       "      <td>-0.362152</td>\n",
       "      <td>0.171724</td>\n",
       "      <td>0.244028</td>\n",
       "      <td>0</td>\n",
       "      <td>0</td>\n",
       "      <td>0</td>\n",
       "      <td>1</td>\n",
       "    </tr>\n",
       "    <tr>\n",
       "      <th>4</th>\n",
       "      <td>1866</td>\n",
       "      <td>23</td>\n",
       "      <td>rochefortchris.697017</td>\n",
       "      <td>RochefortChris</td>\n",
       "      <td>2012-10-02 10:00:00</td>\n",
       "      <td>United States, North Carolina</td>\n",
       "      <td>United States</td>\n",
       "      <td>-1.375863</td>\n",
       "      <td>-0.414637</td>\n",
       "      <td>0.209539</td>\n",
       "      <td>0.084137</td>\n",
       "      <td>0</td>\n",
       "      <td>0</td>\n",
       "      <td>1</td>\n",
       "      <td>0</td>\n",
       "    </tr>\n",
       "  </tbody>\n",
       "</table>\n",
       "</div>"
      ],
      "text/plain": [
       "   n_ratings  n_reviews                    uid        username  \\\n",
       "0       7820        465         nmann08.184925         nmann08   \n",
       "1       2521       2504     stjamesgate.163714     StJamesGate   \n",
       "2       2326          0        hellpop65.48993       Hellpop65   \n",
       "3       3098          0         latarnik.52897        Latarnik   \n",
       "4       1866         23  rochefortchris.697017  RochefortChris   \n",
       "\n",
       "               joined                       location        country  \\\n",
       "0 2008-01-07 11:00:00      United States, Washington  United States   \n",
       "1 2007-10-08 10:00:00        United States, New York  United States   \n",
       "2 2005-11-14 11:00:00          United States, Kansas  United States   \n",
       "3 2005-12-02 11:00:00      United States, New Jersey  United States   \n",
       "4 2012-10-02 10:00:00  United States, North Carolina  United States   \n",
       "\n",
       "   cfm_score  exp_score  xpl_score  adv_score  is_cfm  is_exp  is_xpl  is_adv  \n",
       "0  -0.875556  -0.423436   0.276726   0.066368       0       0       1       0  \n",
       "1  -0.516299  -0.282777   0.473622   0.037287       0       0       1       0  \n",
       "2  -1.783445  -0.621249    0.11264    0.11307       0       0       0       0  \n",
       "3  -0.451196  -0.362152   0.171724   0.244028       0       0       0       1  \n",
       "4  -1.375863  -0.414637   0.209539   0.084137       0       0       1       0  "
      ]
     },
     "execution_count": 3,
     "metadata": {},
     "output_type": "execute_result"
    }
   ],
   "source": [
    "scores_ddf = ing.read_parquet('RefinedData\\BeerAdvocate\\\\users_with_scores.parquet')\n",
    "scores_ddf.head()"
   ]
  },
  {
   "cell_type": "code",
   "execution_count": 4,
   "metadata": {},
   "outputs": [
    {
     "data": {
      "text/html": [
       "<div>\n",
       "<style scoped>\n",
       "    .dataframe tbody tr th:only-of-type {\n",
       "        vertical-align: middle;\n",
       "    }\n",
       "\n",
       "    .dataframe tbody tr th {\n",
       "        vertical-align: top;\n",
       "    }\n",
       "\n",
       "    .dataframe thead th {\n",
       "        text-align: right;\n",
       "    }\n",
       "</style>\n",
       "<table border=\"1\" class=\"dataframe\">\n",
       "  <thead>\n",
       "    <tr style=\"text-align: right;\">\n",
       "      <th></th>\n",
       "      <th>date</th>\n",
       "      <th>bid</th>\n",
       "      <th>uid</th>\n",
       "      <th>rating</th>\n",
       "      <th>has_review</th>\n",
       "      <th>review</th>\n",
       "      <th>compound</th>\n",
       "    </tr>\n",
       "  </thead>\n",
       "  <tbody>\n",
       "    <tr>\n",
       "      <th>0</th>\n",
       "      <td>2015-08-20 10:00:00</td>\n",
       "      <td>142544</td>\n",
       "      <td>nmann08.184925</td>\n",
       "      <td>2.88</td>\n",
       "      <td>True</td>\n",
       "      <td>From a bottle, pours a piss yellow color with ...</td>\n",
       "      <td>0</td>\n",
       "    </tr>\n",
       "    <tr>\n",
       "      <th>1</th>\n",
       "      <td>2015-11-14 11:00:00</td>\n",
       "      <td>120824</td>\n",
       "      <td>nmann08.184925</td>\n",
       "      <td>3.56</td>\n",
       "      <td>False</td>\n",
       "      <td>None</td>\n",
       "      <td>0</td>\n",
       "    </tr>\n",
       "    <tr>\n",
       "      <th>2</th>\n",
       "      <td>2011-11-18 11:00:00</td>\n",
       "      <td>47581</td>\n",
       "      <td>nmann08.184925</td>\n",
       "      <td>4.50</td>\n",
       "      <td>False</td>\n",
       "      <td>None</td>\n",
       "      <td>0</td>\n",
       "    </tr>\n",
       "    <tr>\n",
       "      <th>3</th>\n",
       "      <td>2013-05-03 10:00:00</td>\n",
       "      <td>93113</td>\n",
       "      <td>nmann08.184925</td>\n",
       "      <td>3.75</td>\n",
       "      <td>False</td>\n",
       "      <td>None</td>\n",
       "      <td>0</td>\n",
       "    </tr>\n",
       "    <tr>\n",
       "      <th>4</th>\n",
       "      <td>2015-01-24 11:00:00</td>\n",
       "      <td>875</td>\n",
       "      <td>nmann08.184925</td>\n",
       "      <td>3.81</td>\n",
       "      <td>False</td>\n",
       "      <td>None</td>\n",
       "      <td>0</td>\n",
       "    </tr>\n",
       "  </tbody>\n",
       "</table>\n",
       "</div>"
      ],
      "text/plain": [
       "                 date     bid             uid  rating  has_review  \\\n",
       "0 2015-08-20 10:00:00  142544  nmann08.184925    2.88        True   \n",
       "1 2015-11-14 11:00:00  120824  nmann08.184925    3.56       False   \n",
       "2 2011-11-18 11:00:00   47581  nmann08.184925    4.50       False   \n",
       "3 2013-05-03 10:00:00   93113  nmann08.184925    3.75       False   \n",
       "4 2015-01-24 11:00:00     875  nmann08.184925    3.81       False   \n",
       "\n",
       "                                              review  compound  \n",
       "0  From a bottle, pours a piss yellow color with ...         0  \n",
       "1                                               None         0  \n",
       "2                                               None         0  \n",
       "3                                               None         0  \n",
       "4                                               None         0  "
      ]
     },
     "execution_count": 4,
     "metadata": {},
     "output_type": "execute_result"
    }
   ],
   "source": [
    "ratings_ddf = ing.read_parquet('RefinedData\\BeerAdvocate\\\\ratings.parquet')\n",
    "ratings_ddf.head()"
   ]
  },
  {
   "cell_type": "code",
   "execution_count": 5,
   "metadata": {},
   "outputs": [
    {
     "data": {
      "text/html": [
       "<div>\n",
       "<style scoped>\n",
       "    .dataframe tbody tr th:only-of-type {\n",
       "        vertical-align: middle;\n",
       "    }\n",
       "\n",
       "    .dataframe tbody tr th {\n",
       "        vertical-align: top;\n",
       "    }\n",
       "\n",
       "    .dataframe thead th {\n",
       "        text-align: right;\n",
       "    }\n",
       "</style>\n",
       "<table border=\"1\" class=\"dataframe\">\n",
       "  <thead>\n",
       "    <tr style=\"text-align: right;\">\n",
       "      <th></th>\n",
       "      <th>bid</th>\n",
       "      <th>n_ratings</th>\n",
       "      <th>avg_rating</th>\n",
       "      <th>n_reviews</th>\n",
       "      <th>review_rate</th>\n",
       "      <th>ba_score</th>\n",
       "      <th>bros_score</th>\n",
       "      <th>name</th>\n",
       "      <th>style</th>\n",
       "      <th>abv</th>\n",
       "    </tr>\n",
       "  </thead>\n",
       "  <tbody>\n",
       "    <tr>\n",
       "      <th>0</th>\n",
       "      <td>5</td>\n",
       "      <td>1538</td>\n",
       "      <td>3.441203</td>\n",
       "      <td>520</td>\n",
       "      <td>0.338101</td>\n",
       "      <td>78.0</td>\n",
       "      <td>89.0</td>\n",
       "      <td>Amber</td>\n",
       "      <td>Vienna Lager</td>\n",
       "      <td>4.5</td>\n",
       "    </tr>\n",
       "    <tr>\n",
       "      <th>1</th>\n",
       "      <td>6</td>\n",
       "      <td>2660</td>\n",
       "      <td>3.657617</td>\n",
       "      <td>968</td>\n",
       "      <td>0.363910</td>\n",
       "      <td>82.0</td>\n",
       "      <td>90.0</td>\n",
       "      <td>Turbodog</td>\n",
       "      <td>English Brown Ale</td>\n",
       "      <td>5.6</td>\n",
       "    </tr>\n",
       "    <tr>\n",
       "      <th>2</th>\n",
       "      <td>7</td>\n",
       "      <td>2977</td>\n",
       "      <td>3.265694</td>\n",
       "      <td>778</td>\n",
       "      <td>0.261337</td>\n",
       "      <td>74.0</td>\n",
       "      <td>88.0</td>\n",
       "      <td>Purple Haze</td>\n",
       "      <td>Fruit / Vegetable Beer</td>\n",
       "      <td>4.2</td>\n",
       "    </tr>\n",
       "    <tr>\n",
       "      <th>3</th>\n",
       "      <td>8</td>\n",
       "      <td>132</td>\n",
       "      <td>3.290682</td>\n",
       "      <td>70</td>\n",
       "      <td>0.530303</td>\n",
       "      <td>77.0</td>\n",
       "      <td>89.0</td>\n",
       "      <td>Wheat</td>\n",
       "      <td>American Adjunct Lager</td>\n",
       "      <td>4.2</td>\n",
       "    </tr>\n",
       "    <tr>\n",
       "      <th>4</th>\n",
       "      <td>9</td>\n",
       "      <td>215</td>\n",
       "      <td>3.172698</td>\n",
       "      <td>120</td>\n",
       "      <td>0.558140</td>\n",
       "      <td>74.0</td>\n",
       "      <td>83.0</td>\n",
       "      <td>Golden</td>\n",
       "      <td>American Pale Lager</td>\n",
       "      <td>4.2</td>\n",
       "    </tr>\n",
       "  </tbody>\n",
       "</table>\n",
       "</div>"
      ],
      "text/plain": [
       "   bid  n_ratings  avg_rating  n_reviews  review_rate  ba_score  bros_score  \\\n",
       "0    5       1538    3.441203        520     0.338101      78.0        89.0   \n",
       "1    6       2660    3.657617        968     0.363910      82.0        90.0   \n",
       "2    7       2977    3.265694        778     0.261337      74.0        88.0   \n",
       "3    8        132    3.290682         70     0.530303      77.0        89.0   \n",
       "4    9        215    3.172698        120     0.558140      74.0        83.0   \n",
       "\n",
       "          name                   style  abv  \n",
       "0        Amber            Vienna Lager  4.5  \n",
       "1     Turbodog       English Brown Ale  5.6  \n",
       "2  Purple Haze  Fruit / Vegetable Beer  4.2  \n",
       "3        Wheat  American Adjunct Lager  4.2  \n",
       "4       Golden     American Pale Lager  4.2  "
      ]
     },
     "execution_count": 5,
     "metadata": {},
     "output_type": "execute_result"
    }
   ],
   "source": [
    "beers_ddf = ing.read_parquet('RefinedData\\BeerAdvocate\\\\beers.parquet')\n",
    "beers_ddf.head()"
   ]
  },
  {
   "cell_type": "code",
   "execution_count": 6,
   "metadata": {},
   "outputs": [
    {
     "data": {
      "text/plain": [
       "(57108, 15)"
      ]
     },
     "execution_count": 6,
     "metadata": {},
     "output_type": "execute_result"
    }
   ],
   "source": [
    "scores_ddf.compute().shape"
   ]
  },
  {
   "cell_type": "code",
   "execution_count": 11,
   "metadata": {},
   "outputs": [
    {
     "data": {
      "text/plain": [
       "3.9247556815410296"
      ]
     },
     "execution_count": 11,
     "metadata": {},
     "output_type": "execute_result"
    }
   ],
   "source": [
    "cfm_scores = scores_ddf[scores_ddf[\"is_cfm\"] == True]\n",
    "ratings_cfm_ddf = ratings_ddf.merge(cfm_scores, on=\"uid\", how=\"inner\")\n",
    "ratings_cfm_ddf['rating'].mean().compute()"
   ]
  },
  {
   "cell_type": "code",
   "execution_count": null,
   "metadata": {},
   "outputs": [],
   "source": []
  },
  {
   "cell_type": "code",
   "execution_count": 12,
   "metadata": {},
   "outputs": [
    {
     "data": {
      "text/plain": [
       "4.393289570287195"
      ]
     },
     "execution_count": 12,
     "metadata": {},
     "output_type": "execute_result"
    }
   ],
   "source": [
    "exp_scores = scores_ddf[scores_ddf[\"is_exp\"] == True]\n",
    "ratings_exp_ddf = ratings_ddf.merge(exp_scores, on=\"uid\", how=\"inner\")\n",
    "ratings_exp_ddf['rating'].mean().compute()"
   ]
  },
  {
   "cell_type": "code",
   "execution_count": 13,
   "metadata": {},
   "outputs": [
    {
     "data": {
      "text/plain": [
       "3.8067740577413063"
      ]
     },
     "execution_count": 13,
     "metadata": {},
     "output_type": "execute_result"
    }
   ],
   "source": [
    "xpl_scores = scores_ddf[scores_ddf[\"is_xpl\"] == True]\n",
    "ratings_xpl_ddf = ratings_ddf.merge(xpl_scores, on=\"uid\", how=\"inner\")\n",
    "ratings_xpl_ddf['rating'].mean().compute()"
   ]
  },
  {
   "cell_type": "code",
   "execution_count": 14,
   "metadata": {},
   "outputs": [
    {
     "data": {
      "text/plain": [
       "3.454024245033038"
      ]
     },
     "execution_count": 14,
     "metadata": {},
     "output_type": "execute_result"
    }
   ],
   "source": [
    "adv_scores = scores_ddf[scores_ddf[\"is_adv\"] == True]\n",
    "ratings_adv_ddf = ratings_ddf.merge(adv_scores, on=\"uid\", how=\"inner\")\n",
    "ratings_adv_ddf['rating'].mean().compute()"
   ]
  },
  {
   "cell_type": "code",
   "execution_count": 15,
   "metadata": {},
   "outputs": [],
   "source": [
    "from nlp import VaderSentimentAnalyser\n",
    "\n",
    "def ratings_categories_sentiment(score_ddf, category, frac=0.1, save=False):\n",
    "    \"\"\"\n",
    "    Returns a dataframe with the sentiment scores for a given category\n",
    "    \"\"\"\n",
    "    # only take ratings from conformist users\n",
    "    ratings_category_ddf = ratings_ddf.merge(score_ddf, on=\"uid\", how=\"inner\")\n",
    "\n",
    "    # only take beers with reviews\n",
    "    ratings_category_ddf = ratings_category_ddf[ratings_category_ddf[\"has_review\"] == True]\n",
    "    \n",
    "    # sample\n",
    "    #ratings_category_ddf = ratings_category_ddf.sample(frac=1, random_state=42)\n",
    "    ratings_category_ddf = ratings_category_ddf.sample(frac=frac, random_state=42)\n",
    "    \n",
    "    # only take the review column\n",
    "    #reviews = ratings_category_ddf[\"review\"].astype(str)\n",
    "    reviews = ratings_category_ddf[\"review\"].compute().astype(str)\n",
    "\n",
    "    # compute sentiment scores\n",
    "    vader_analyser = VaderSentimentAnalyser()\n",
    "    #sents = reviews.map_partitions(lambda text: vader_analyser.compute(text))\n",
    "    sents = reviews.map(lambda text: vader_analyser.compute(text))\n",
    "\n",
    "    return sents"
   ]
  },
  {
   "cell_type": "code",
   "execution_count": 16,
   "metadata": {},
   "outputs": [],
   "source": [
    "cfm_sents = ratings_categories_sentiment(scores_ddf[scores_ddf[\"is_cfm\"] == True], \"conformist\", save=True)"
   ]
  },
  {
   "cell_type": "code",
   "execution_count": 20,
   "metadata": {},
   "outputs": [],
   "source": [
    "exp_sents = ratings_categories_sentiment(scores_ddf[scores_ddf[\"is_exp\"] == True], \"expert_like\", frac=1, save=True)"
   ]
  },
  {
   "cell_type": "code",
   "execution_count": 21,
   "metadata": {},
   "outputs": [],
   "source": [
    "xpl_sents = ratings_categories_sentiment(scores_ddf[scores_ddf[\"is_xpl\"] == True], \"explorator\", save=True)"
   ]
  },
  {
   "cell_type": "code",
   "execution_count": 22,
   "metadata": {},
   "outputs": [],
   "source": [
    "adv_sents = ratings_categories_sentiment(scores_ddf[scores_ddf[\"is_adv\"] == True], \"adventurer\",save=True)"
   ]
  },
  {
   "cell_type": "code",
   "execution_count": 23,
   "metadata": {},
   "outputs": [],
   "source": [
    "ratings_reviews_ddf = ratings_ddf[ratings_ddf[\"has_review\"] == True]\n",
    "reviews = ratings_reviews_ddf[\"review\"].compute().astype(str)\n",
    "\n",
    "# only take 10000 reviews\n",
    "reviews = reviews.sample(n=10000, random_state=42)\n",
    "\n",
    "# compute sentiment scores\n",
    "vader_analyser = VaderSentimentAnalyser()\n",
    "\n",
    "#sents = reviews.map_partitions(lambda text: vader_analyser.compute(text))\n",
    "overall_sents = reviews.map(lambda text: vader_analyser.compute(text))"
   ]
  },
  {
   "cell_type": "code",
   "execution_count": 24,
   "metadata": {},
   "outputs": [
    {
     "data": {
      "text/plain": [
       "10966    0.023600\n",
       "11548   -0.118950\n",
       "14265    0.229356\n",
       "5943     0.443550\n",
       "11653    0.299067\n",
       "           ...   \n",
       "4118     0.190133\n",
       "4401     0.115107\n",
       "11388    0.191222\n",
       "7891     0.379244\n",
       "8822     0.135937\n",
       "Name: review, Length: 34228, dtype: float64"
      ]
     },
     "execution_count": 24,
     "metadata": {},
     "output_type": "execute_result"
    }
   ],
   "source": [
    "cfm_sents"
   ]
  },
  {
   "cell_type": "code",
   "execution_count": 25,
   "metadata": {},
   "outputs": [
    {
     "data": {
      "text/plain": [
       "242    0.269329\n",
       "292    0.143595\n",
       "141    0.383873\n",
       "140    0.136400\n",
       "132    0.304926\n",
       "         ...   \n",
       "3      0.383919\n",
       "221    0.475962\n",
       "224    0.348575\n",
       "129    0.241607\n",
       "251    0.195067\n",
       "Name: review, Length: 3226, dtype: float64"
      ]
     },
     "execution_count": 25,
     "metadata": {},
     "output_type": "execute_result"
    }
   ],
   "source": [
    "exp_sents"
   ]
  },
  {
   "cell_type": "code",
   "execution_count": 26,
   "metadata": {},
   "outputs": [
    {
     "data": {
      "text/plain": [
       "28516   -0.050891\n",
       "33749    0.273629\n",
       "558     -0.012336\n",
       "31989    0.198900\n",
       "14176   -0.085165\n",
       "           ...   \n",
       "30498    0.324117\n",
       "3206    -0.034300\n",
       "35143    0.073820\n",
       "22312    0.634600\n",
       "45333    0.111185\n",
       "Name: review, Length: 79695, dtype: float64"
      ]
     },
     "execution_count": 26,
     "metadata": {},
     "output_type": "execute_result"
    }
   ],
   "source": [
    "xpl_sents"
   ]
  },
  {
   "cell_type": "code",
   "execution_count": 27,
   "metadata": {},
   "outputs": [
    {
     "data": {
      "text/plain": [
       "215215    0.383760\n",
       "141982    0.171322\n",
       "31371     0.100024\n",
       "76336     0.460600\n",
       "112949    0.202257\n",
       "            ...   \n",
       "41861     0.103709\n",
       "65946     0.096013\n",
       "135863    0.033561\n",
       "106646    0.275300\n",
       "225743    0.234606\n",
       "Name: review, Length: 10000, dtype: float64"
      ]
     },
     "execution_count": 27,
     "metadata": {},
     "output_type": "execute_result"
    }
   ],
   "source": [
    "overall_sents"
   ]
  },
  {
   "cell_type": "code",
   "execution_count": 1,
   "metadata": {},
   "outputs": [
    {
     "ename": "NameError",
     "evalue": "name 'pickle' is not defined",
     "output_type": "error",
     "traceback": [
      "\u001b[1;31m---------------------------------------------------------------------------\u001b[0m",
      "\u001b[1;31mNameError\u001b[0m                                 Traceback (most recent call last)",
      "Cell \u001b[1;32mIn [1], line 3\u001b[0m\n\u001b[0;32m      1\u001b[0m \u001b[39m# save the sentiment scores to pickle files\u001b[39;00m\n\u001b[0;32m      2\u001b[0m \u001b[39mwith\u001b[39;00m \u001b[39mopen\u001b[39m(\u001b[39m\"\u001b[39m\u001b[39mRefinedData\u001b[39m\u001b[39m\\\u001b[39m\u001b[39mBeerAdvocate\u001b[39m\u001b[39m\\\\\u001b[39;00m\u001b[39msentiment_analysis\u001b[39m\u001b[39m\\\\\u001b[39;00m\u001b[39mprocessed_cfm_sentiment.pkl\u001b[39m\u001b[39m\"\u001b[39m, \u001b[39m\"\u001b[39m\u001b[39mwb\u001b[39m\u001b[39m\"\u001b[39m) \u001b[39mas\u001b[39;00m f:\n\u001b[1;32m----> 3\u001b[0m     pickle\u001b[39m.\u001b[39mdump(cfm_sents, f)\n",
      "\u001b[1;31mNameError\u001b[0m: name 'pickle' is not defined"
     ]
    }
   ],
   "source": [
    "# save the sentiment scores to pickle files\n",
    "with open(\"RefinedData\\BeerAdvocate\\\\sentiment_analysis\\\\processed_cfm_sentiment.pkl\", \"wb\") as f:\n",
    "    pickle.dump(cfm_sents, f)"
   ]
  },
  {
   "cell_type": "code",
   "execution_count": 29,
   "metadata": {},
   "outputs": [],
   "source": [
    "with open(\"RefinedData\\BeerAdvocate\\\\sentiment_analysis\\\\processed_exp_sentiment.pkl\", \"wb\") as f:\n",
    "    pickle.dump(exp_sents, f)"
   ]
  },
  {
   "cell_type": "code",
   "execution_count": 30,
   "metadata": {},
   "outputs": [],
   "source": [
    "with open(\"RefinedData\\BeerAdvocate\\\\sentiment_analysis\\\\processed_xpl_sentiment.pkl\", \"wb\") as f:\n",
    "    pickle.dump(xpl_sents, f)"
   ]
  },
  {
   "cell_type": "code",
   "execution_count": 31,
   "metadata": {},
   "outputs": [],
   "source": [
    "with open(\"RefinedData\\BeerAdvocate\\\\sentiment_analysis\\\\processed_adv_sentiment.pkl\", \"wb\") as f:\n",
    "    pickle.dump(adv_sents, f)"
   ]
  },
  {
   "cell_type": "code",
   "execution_count": 32,
   "metadata": {},
   "outputs": [],
   "source": [
    "with open(\"RefinedData\\BeerAdvocate\\\\sentiment_analysis\\\\processed_overall_sentiment.pkl\", \"wb\") as f:\n",
    "    pickle.dump(overall_sents, f)"
   ]
  },
  {
   "cell_type": "code",
   "execution_count": 7,
   "metadata": {},
   "outputs": [],
   "source": [
    "# read pickle files if saved\n",
    "cfm_sents = pickle.load(open(\"RefinedData\\BeerAdvocate\\\\sentiment_analysis\\\\processed_cfm_sentiment.pkl\", \"rb\"))\n",
    "exp_sents = pickle.load(open(\"RefinedData\\BeerAdvocate\\\\sentiment_analysis\\\\processed_exp_sentiment.pkl\", \"rb\"))\n",
    "xpl_sents = pickle.load(open(\"RefinedData\\BeerAdvocate\\\\sentiment_analysis\\\\processed_xpl_sentiment.pkl\", \"rb\"))\n",
    "adv_sents = pickle.load(open(\"RefinedData\\BeerAdvocate\\\\sentiment_analysis\\\\processed_adv_sentiment.pkl\", \"rb\"))\n",
    "overall_sents = pickle.load(open(\"RefinedData\\BeerAdvocate\\\\sentiment_analysis\\\\processed_overall_sentiment.pkl\", \"rb\"))"
   ]
  },
  {
   "cell_type": "markdown",
   "metadata": {},
   "source": [
    "# [II] Sentiment analysis of each category of users"
   ]
  },
  {
   "cell_type": "markdown",
   "metadata": {},
   "source": [
    "## Conformist sentiment analysis"
   ]
  },
  {
   "cell_type": "code",
   "execution_count": 34,
   "metadata": {},
   "outputs": [
    {
     "data": {
      "text/plain": [
       "(30151, 1000, 3077)"
      ]
     },
     "execution_count": 34,
     "metadata": {},
     "output_type": "execute_result"
    }
   ],
   "source": [
    "nb_pos = cfm_sents[cfm_sents > 0.05].shape[0]\n",
    "nb_neg = cfm_sents[cfm_sents < -0.05].shape[0]\n",
    "nb_neu = cfm_sents[cfm_sents.between(-0.05, 0.05)].shape[0]\n",
    "nb_pos, nb_neg, nb_neu"
   ]
  },
  {
   "cell_type": "code",
   "execution_count": 35,
   "metadata": {},
   "outputs": [
    {
     "name": "stdout",
     "output_type": "stream",
     "text": [
      "Positive: 88.09%\n",
      "Negative: 2.92%\n",
      "Neutral: 8.99%\n"
     ]
    }
   ],
   "source": [
    "# proportion of positive, negative and neutral reviews in percentage\n",
    "n_ratings = cfm_sents.shape[0]\n",
    "print(f\"Positive: {nb_pos/n_ratings*100:.2f}%\")\n",
    "print(f\"Negative: {nb_neg/n_ratings*100:.2f}%\")\n",
    "print(f\"Neutral: {nb_neu/n_ratings*100:.2f}%\")"
   ]
  },
  {
   "cell_type": "code",
   "execution_count": 36,
   "metadata": {},
   "outputs": [
    {
     "data": {
      "text/plain": [
       "<AxesSubplot:xlabel='review', ylabel='Count'>"
      ]
     },
     "execution_count": 36,
     "metadata": {},
     "output_type": "execute_result"
    },
    {
     "data": {
      "image/png": "[encoded data removed]",
      "text/plain": [
       "<Figure size 640x480 with 1 Axes>"
      ]
     },
     "metadata": {},
     "output_type": "display_data"
    }
   ],
   "source": [
    "# plot histogram of sentiment scores\n",
    "sns.histplot(cfm_sents, bins=100)"
   ]
  },
  {
   "cell_type": "markdown",
   "metadata": {},
   "source": [
    "## expert-like sentiment analysis"
   ]
  },
  {
   "cell_type": "code",
   "execution_count": null,
   "metadata": {},
   "outputs": [
    {
     "data": {
      "text/plain": [
       "(2995, 64, 167)"
      ]
     },
     "execution_count": 43,
     "metadata": {},
     "output_type": "execute_result"
    }
   ],
   "source": [
    "nb_pos = exp_sents[exp_sents > 0.05].shape[0]\n",
    "nb_neg = exp_sents[exp_sents < -0.05].shape[0]\n",
    "nb_neu = exp_sents[exp_sents.between(-0.05, 0.05)].shape[0]\n",
    "nb_pos, nb_neg, nb_neu"
   ]
  },
  {
   "cell_type": "code",
   "execution_count": null,
   "metadata": {},
   "outputs": [
    {
     "name": "stdout",
     "output_type": "stream",
     "text": [
      "Positive: 92.84%\n",
      "Negative: 1.98%\n",
      "Neutral: 5.18%\n"
     ]
    }
   ],
   "source": [
    "# proportion of positive, negative and neutral reviews in percentage\n",
    "n_ratings = exp_sents.shape[0]\n",
    "print(f\"Positive: {nb_pos/n_ratings*100:.2f}%\")\n",
    "print(f\"Negative: {nb_neg/n_ratings*100:.2f}%\")\n",
    "print(f\"Neutral: {nb_neu/n_ratings*100:.2f}%\")"
   ]
  },
  {
   "cell_type": "code",
   "execution_count": null,
   "metadata": {},
   "outputs": [
    {
     "data": {
      "text/plain": [
       "<AxesSubplot:xlabel='review', ylabel='Count'>"
      ]
     },
     "execution_count": 45,
     "metadata": {},
     "output_type": "execute_result"
    },
    {
     "data": {
      "image/png": "[encoded data removed]",
      "text/plain": [
       "<Figure size 640x480 with 1 Axes>"
      ]
     },
     "metadata": {},
     "output_type": "display_data"
    }
   ],
   "source": [
    "# plot histogram of sentiment scores\n",
    "sns.histplot(exp_sents, bins=100)"
   ]
  },
  {
   "cell_type": "markdown",
   "metadata": {},
   "source": [
    "## explorer sentiment analysis"
   ]
  },
  {
   "cell_type": "code",
   "execution_count": null,
   "metadata": {},
   "outputs": [
    {
     "data": {
      "text/plain": [
       "(68235, 3093, 8367)"
      ]
     },
     "execution_count": 46,
     "metadata": {},
     "output_type": "execute_result"
    }
   ],
   "source": [
    "nb_pos = xpl_sents[xpl_sents > 0.05].shape[0]\n",
    "nb_neg = xpl_sents[xpl_sents < -0.05].shape[0]\n",
    "nb_neu = xpl_sents[xpl_sents.between(-0.05, 0.05)].shape[0]\n",
    "nb_pos, nb_neg, nb_neu"
   ]
  },
  {
   "cell_type": "code",
   "execution_count": null,
   "metadata": {},
   "outputs": [
    {
     "name": "stdout",
     "output_type": "stream",
     "text": [
      "Positive: 85.62%\n",
      "Negative: 3.88%\n",
      "Neutral: 10.50%\n"
     ]
    }
   ],
   "source": [
    "# proportion of positive, negative and neutral reviews in percentage\n",
    "n_ratings = xpl_sents.shape[0]\n",
    "print(f\"Positive: {nb_pos/n_ratings*100:.2f}%\")\n",
    "print(f\"Negative: {nb_neg/n_ratings*100:.2f}%\")\n",
    "print(f\"Neutral: {nb_neu/n_ratings*100:.2f}%\")"
   ]
  },
  {
   "cell_type": "code",
   "execution_count": null,
   "metadata": {},
   "outputs": [
    {
     "data": {
      "text/plain": [
       "<AxesSubplot:xlabel='review', ylabel='Count'>"
      ]
     },
     "execution_count": 48,
     "metadata": {},
     "output_type": "execute_result"
    },
    {
     "data": {
      "image/png": "[encoded data removed]",
      "text/plain": [
       "<Figure size 640x480 with 1 Axes>"
      ]
     },
     "metadata": {},
     "output_type": "display_data"
    }
   ],
   "source": [
    "# plot histogram of sentiment scores\n",
    "sns.histplot(xpl_sents, bins=100)"
   ]
  },
  {
   "cell_type": "markdown",
   "metadata": {},
   "source": [
    "## adventurer sentiment analysis"
   ]
  },
  {
   "cell_type": "code",
   "execution_count": null,
   "metadata": {},
   "outputs": [
    {
     "data": {
      "text/plain": [
       "(12070, 865, 1759)"
      ]
     },
     "execution_count": 49,
     "metadata": {},
     "output_type": "execute_result"
    }
   ],
   "source": [
    "nb_pos = adv_sents[adv_sents > 0.05].shape[0]\n",
    "nb_neg = adv_sents[adv_sents < -0.05].shape[0]\n",
    "nb_neu = adv_sents[adv_sents.between(-0.05, 0.05)].shape[0]\n",
    "nb_pos, nb_neg, nb_neu"
   ]
  },
  {
   "cell_type": "code",
   "execution_count": null,
   "metadata": {},
   "outputs": [
    {
     "name": "stdout",
     "output_type": "stream",
     "text": [
      "Positive: 82.14%\n",
      "Negative: 5.89%\n",
      "Neutral: 11.97%\n"
     ]
    }
   ],
   "source": [
    "# proportion of positive, negative and neutral reviews in percentage\n",
    "n_ratings = adv_sents.shape[0]\n",
    "print(f\"Positive: {nb_pos/n_ratings*100:.2f}%\")\n",
    "print(f\"Negative: {nb_neg/n_ratings*100:.2f}%\")\n",
    "print(f\"Neutral: {nb_neu/n_ratings*100:.2f}%\")"
   ]
  },
  {
   "cell_type": "code",
   "execution_count": null,
   "metadata": {},
   "outputs": [
    {
     "data": {
      "text/plain": [
       "<AxesSubplot:xlabel='review', ylabel='Count'>"
      ]
     },
     "execution_count": 51,
     "metadata": {},
     "output_type": "execute_result"
    },
    {
     "data": {
      "image/png": "[encoded data removed]",
      "text/plain": [
       "<Figure size 640x480 with 1 Axes>"
      ]
     },
     "metadata": {},
     "output_type": "display_data"
    }
   ],
   "source": [
    "# plot histogram of sentiment scores\n",
    "sns.histplot(adv_sents, bins=100)"
   ]
  },
  {
   "cell_type": "markdown",
   "metadata": {},
   "source": [
    "# sentiment analysis on sample of whole data(regardless of categories)"
   ]
  },
  {
   "cell_type": "code",
   "execution_count": null,
   "metadata": {},
   "outputs": [],
   "source": [
    "nb_pos = overall_sents[overall_sents > 0.05].shape[0]\n",
    "nb_neg = overall_sents[overall_sents < -0.05].shape[0]\n",
    "nb_neu = overall_sents[overall_sents.between(-0.05, 0.05)].shape[0]"
   ]
  },
  {
   "cell_type": "code",
   "execution_count": null,
   "metadata": {},
   "outputs": [
    {
     "name": "stdout",
     "output_type": "stream",
     "text": [
      "Positive: 86.79%\n",
      "Negative: 3.37%\n",
      "Neutral: 9.84%\n"
     ]
    }
   ],
   "source": [
    "# proportion of positive, negative and neutral reviews in percentage\n",
    "n_ratings = overall_sents.shape[0]\n",
    "print(f\"Positive: {nb_pos/n_ratings*100:.2f}%\")\n",
    "print(f\"Negative: {nb_neg/n_ratings*100:.2f}%\")\n",
    "print(f\"Neutral: {nb_neu/n_ratings*100:.2f}%\")"
   ]
  },
  {
   "cell_type": "code",
   "execution_count": null,
   "metadata": {},
   "outputs": [
    {
     "data": {
      "text/plain": [
       "<AxesSubplot:xlabel='review', ylabel='Count'>"
      ]
     },
     "execution_count": 54,
     "metadata": {},
     "output_type": "execute_result"
    },
    {
     "data": {
      "image/png": "[encoded data removed]",
      "text/plain": [
       "<Figure size 640x480 with 1 Axes>"
      ]
     },
     "metadata": {},
     "output_type": "display_data"
    }
   ],
   "source": [
    "# plot histogram of sentiment scores\n",
    "sns.histplot(overall_sents, bins=100)"
   ]
  },
  {
   "cell_type": "markdown",
   "metadata": {},
   "source": [
    "# summarize for all category using one countplot and one histogram with hue"
   ]
  },
  {
   "cell_type": "code",
   "execution_count": 8,
   "metadata": {},
   "outputs": [
    {
     "data": {
      "image/png": "[encoded data removed]",
      "text/plain": [
       "<Figure size 640x480 with 1 Axes>"
      ]
     },
     "metadata": {},
     "output_type": "display_data"
    }
   ],
   "source": [
    "# find min size of category\n",
    "min_size = min(cfm_sents.shape[0], exp_sents.shape[0], xpl_sents.shape[0])\n",
    "\n",
    "# sample each category to have the same number of reviews\n",
    "cfm_sents = cfm_sents.sample(min_size)\n",
    "exp_sents = exp_sents.sample(min_size)\n",
    "xpl_sents = xpl_sents.sample(min_size)\n",
    "adv_sents = adv_sents.sample(min_size)\n",
    "overall_sents = overall_sents.sample(min_size)\n",
    "\n",
    "\n",
    "# create dataframe with a column for each category \n",
    "sents_df = pd.DataFrame(columns=['conformist', 'expert_like', 'explorator', 'adventurer', 'overall'])\n",
    "sents_df['conformist'] = cfm_sents.values\n",
    "sents_df['expert_like'] = exp_sents.values\n",
    "sents_df['explorator'] = xpl_sents.values\n",
    "sents_df['adventurer'] = adv_sents.values\n",
    "sents_df['overall'] = overall_sents.values\n",
    "\n",
    "\n",
    "# set title\n",
    "plt.title(\"Sentiment Scores of Each Category\")\n",
    "\n",
    "# set y axis label\n",
    "plt.ylabel(\"Compound Sentiment Score\")\n",
    "\n",
    "# plot boxplot of sentiment scores of each category\n",
    "sns.boxplot(data=sents_df)\n",
    "\n",
    "# save figure as svg\n",
    "plt.savefig(\"sentiment_scores.svg\", transparent=True)\n"
   ]
  },
  {
   "cell_type": "code",
   "execution_count": 11,
   "metadata": {},
   "outputs": [],
   "source": [
    "# create dataframe with a column for each category using cfm_sentd, exp_sents, xpl_sents, adv_sents and overall_sents\n",
    "# with two columns: category and sentiment score\n",
    "sents_df = pd.DataFrame(columns=['category', 'sentiment_score'])\n",
    "sents_df['category'] = ['CFM'] * cfm_sents.shape[0] + ['EXP'] * exp_sents.shape[0] + ['XPL'] * xpl_sents.shape[0] + ['ADV'] * adv_sents.shape[0] + ['ALL'] * overall_sents.shape[0]\n",
    "sents_df['sentiment_score'] = cfm_sents.values.tolist() + exp_sents.values.tolist() + xpl_sents.values.tolist() + adv_sents.values.tolist() + overall_sents.values.tolist()\n"
   ]
  },
  {
   "cell_type": "code",
   "execution_count": 13,
   "metadata": {},
   "outputs": [
    {
     "data": {
      "image/png": "[encoded data removed]",
      "text/plain": [
       "<Figure size 640x480 with 1 Axes>"
      ]
     },
     "metadata": {},
     "output_type": "display_data"
    }
   ],
   "source": [
    "# different colors for each category\n",
    "#ax = sns.barplot(x='category', y='sentiment_score', data=sents_df, palette=['#1f77b4', '#ff7f0e', '#2ca02c', '#d62728', '#9467bd'])\n",
    "ax = sns.barplot(x='category', y='sentiment_score', data=sents_df, palette=['#4477AA', '#CCBB44', '#228833', '#AA3377', '#777777'])\n",
    "\n",
    "# set title\n",
    "plt.title(\"Sentiment Scores of Each Category\")\n",
    "\n",
    "# set y axis label\n",
    "plt.ylabel(\"Compound Sentiment Score\")\n",
    "\n",
    "# set lines\n",
    "ax.axhline(0.05, ls='--', color='black')\n",
    "\n",
    "# save figure as svg\n",
    "plt.savefig(\"./plots/sentiment_scores.svg\", transparent=True)"
   ]
  },
  {
   "cell_type": "markdown",
   "metadata": {},
   "source": [
    "Analysis: Sentiment of review is mostly very positive for each category. The average sentiment is significantly above the threshold for positive sentiment. Conformist, explorers have the same average sentiment as the general user. However, expert-like are slighly more postive and adventurers slightly more negative compared to the general user.  \n",
    "This can be easily explained by looking at the mean rating for each category ie. 4.39 for exp users and 3.45 for adventurers, while conformist and explorers have the same mean rating as the general user.  \n",
    "The average rating of 3.45 for adventurers is not surprising because by definition they rate beers which are already rated badly by other users. However, the sentiment analyis show that they are not very negative in their reviews. Indeed, while the difference of average rating is huge between adventurers and the general user, the difference of average sentiment is not that noticeable. "
   ]
  },
  {
   "cell_type": "code",
   "execution_count": null,
   "metadata": {},
   "outputs": [
    {
     "data": {
      "text/plain": [
       "<matplotlib.legend.Legend at 0x1e75ad99970>"
      ]
     },
     "execution_count": 134,
     "metadata": {},
     "output_type": "execute_result"
    },
    {
     "data": {
      "image/png": "[encoded data removed]",
      "text/plain": [
       "<Figure size 640x480 with 1 Axes>"
      ]
     },
     "metadata": {},
     "output_type": "display_data"
    }
   ],
   "source": [
    "# superimpose the histograms of each category\n",
    "sns.histplot(cfm_sents, bins=100)\n",
    "sns.histplot(exp_sents, bins=100)\n",
    "sns.histplot(xpl_sents, bins=100)\n",
    "sns.histplot(adv_sents, bins=100, label='adventurer')\n",
    "sns.histplot(overall_sents, bins=100, label='overall')\n",
    "\n",
    "# legends as categories\n",
    "plt.legend(['conformist', 'expert_like', 'explorator', 'adventurer', 'overall'])\n",
    "\n"
   ]
  },
  {
   "cell_type": "code",
   "execution_count": null,
   "metadata": {},
   "outputs": [
    {
     "data": {
      "text/plain": [
       "<AxesSubplot:>"
      ]
     },
     "execution_count": 135,
     "metadata": {},
     "output_type": "execute_result"
    },
    {
     "data": {
      "image/png": "[encoded data removed]",
      "text/plain": [
       "<Figure size 640x480 with 1 Axes>"
      ]
     },
     "metadata": {},
     "output_type": "display_data"
    }
   ],
   "source": [
    "# count number of positive, negative and neutral reviews in each category\n",
    "nb_pos = sents_df[sents_df > 0.05].count()\n",
    "nb_neg = sents_df[sents_df < -0.05].count()\n",
    "\n",
    "# compute number of neutral reviews (sents_df is a dataframe, so we need to use .values to get the numpy array)\n",
    "nb_neu = (sents_df.values > -0.05) & (sents_df.values < 0.05)\n",
    "nb_neu = nb_neu.sum(axis=0)\n",
    "\n",
    "# create dataframe with the number of positive, negative and neutral reviews in each category\n",
    "nb_sents = pd.DataFrame({'positive': nb_pos, 'negative': nb_neg, 'neutral': nb_neu})\n",
    "\n",
    "# plot barplot of number of positive, negative and neutral reviews in each category\n",
    "nb_sents.plot.bar()\n"
   ]
  }
 ],
 "metadata": {
  "kernelspec": {
   "display_name": "Python 3 (ipykernel)",
   "language": "python",
   "name": "python3"
  },
  "language_info": {
   "codemirror_mode": {
    "name": "ipython",
    "version": 3
   },
   "file_extension": ".py",
   "mimetype": "text/x-python",
   "name": "python",
   "nbconvert_exporter": "python",
   "pygments_lexer": "ipython3",
   "version": "3.9.12"
  },
  "vscode": {
   "interpreter": {
    "hash": "6bb2e1f904bb6e863f2b9088396373e4778cab81ffde8089fcb5238aee912dca"
   }
  }
 },
 "nbformat": 4,
 "nbformat_minor": 2
}
