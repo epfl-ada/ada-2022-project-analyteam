{
 "cells": [
  {
   "cell_type": "code",
   "execution_count": 1,
   "metadata": {},
   "outputs": [],
   "source": [
    "from setup import dask_init, dask_shutdown\n",
    "import dask.distributed as dd\n",
    "import dask.dataframe as ddf\n",
    "from tqdm import tqdm\n",
    "\n",
    "import pandas as pd\n",
    "import numpy as np\n",
    "\n",
    "import ingestion as ing\n",
    "import processing as prc\n",
    "\n",
    "import datetime as dt\n",
    "\n",
    "import seaborn as sns\n",
    "import matplotlib.pyplot as plt\n",
    "%matplotlib inline\n",
    "\n",
    "%load_ext autoreload\n",
    "%autoreload 2"
   ]
  },
  {
   "attachments": {},
   "cell_type": "markdown",
   "metadata": {},
   "source": [
    "# Setup"
   ]
  },
  {
   "cell_type": "code",
   "execution_count": 2,
   "metadata": {},
   "outputs": [
    {
     "data": {
      "application/vnd.jupyter.widget-view+json": {
       "model_id": "b02828fa89ba435bb58b00de45eeb3f0",
       "version_major": 2,
       "version_minor": 0
      },
      "text/plain": [
       "Tab(children=(HTML(value='<div class=\"jp-RenderedHTMLCommon jp-RenderedHTML jp-mod-trusted jp-OutputArea-outpu…"
      ]
     },
     "metadata": {},
     "output_type": "display_data"
    }
   ],
   "source": [
    "# PANDAS SETUP\n",
    "pd.options.mode.use_inf_as_na = True\n",
    "\n",
    "# DASK SETUP\n",
    "client, cluster = dask_init()\n",
    "cluster"
   ]
  },
  {
   "attachments": {},
   "cell_type": "markdown",
   "metadata": {},
   "source": [
    "# [I] Loading the data"
   ]
  },
  {
   "cell_type": "code",
   "execution_count": 3,
   "metadata": {},
   "outputs": [
    {
     "data": {
      "text/html": [
       "<div>\n",
       "<style scoped>\n",
       "    .dataframe tbody tr th:only-of-type {\n",
       "        vertical-align: middle;\n",
       "    }\n",
       "\n",
       "    .dataframe tbody tr th {\n",
       "        vertical-align: top;\n",
       "    }\n",
       "\n",
       "    .dataframe thead th {\n",
       "        text-align: right;\n",
       "    }\n",
       "</style>\n",
       "<table border=\"1\" class=\"dataframe\">\n",
       "  <thead>\n",
       "    <tr style=\"text-align: right;\">\n",
       "      <th></th>\n",
       "      <th>n_ratings</th>\n",
       "      <th>n_reviews</th>\n",
       "      <th>uid</th>\n",
       "      <th>username</th>\n",
       "      <th>joined</th>\n",
       "      <th>location</th>\n",
       "      <th>country</th>\n",
       "      <th>cfm_score</th>\n",
       "      <th>exp_score</th>\n",
       "      <th>xpl_score</th>\n",
       "      <th>adv_score</th>\n",
       "      <th>is_cfm</th>\n",
       "      <th>is_exp</th>\n",
       "      <th>is_xpl</th>\n",
       "      <th>is_adv</th>\n",
       "    </tr>\n",
       "  </thead>\n",
       "  <tbody>\n",
       "    <tr>\n",
       "      <th>0</th>\n",
       "      <td>7820</td>\n",
       "      <td>465</td>\n",
       "      <td>nmann08.184925</td>\n",
       "      <td>nmann08</td>\n",
       "      <td>2008-01-07 11:00:00</td>\n",
       "      <td>United States, Washington</td>\n",
       "      <td>United States</td>\n",
       "      <td>1.144488</td>\n",
       "      <td>1.033064</td>\n",
       "      <td>2164</td>\n",
       "      <td>240</td>\n",
       "      <td>0</td>\n",
       "      <td>0</td>\n",
       "      <td>1</td>\n",
       "      <td>1</td>\n",
       "    </tr>\n",
       "    <tr>\n",
       "      <th>1</th>\n",
       "      <td>2521</td>\n",
       "      <td>2504</td>\n",
       "      <td>stjamesgate.163714</td>\n",
       "      <td>StJamesGate</td>\n",
       "      <td>2007-10-08 10:00:00</td>\n",
       "      <td>United States, New York</td>\n",
       "      <td>United States</td>\n",
       "      <td>2.161687</td>\n",
       "      <td>1.310320</td>\n",
       "      <td>1194</td>\n",
       "      <td>33</td>\n",
       "      <td>0</td>\n",
       "      <td>0</td>\n",
       "      <td>1</td>\n",
       "      <td>1</td>\n",
       "    </tr>\n",
       "    <tr>\n",
       "      <th>2</th>\n",
       "      <td>1797</td>\n",
       "      <td>1143</td>\n",
       "      <td>mdagnew.19527</td>\n",
       "      <td>mdagnew</td>\n",
       "      <td>2005-05-18 10:00:00</td>\n",
       "      <td>Northern Ireland</td>\n",
       "      <td>Northern Ireland</td>\n",
       "      <td>0.000000</td>\n",
       "      <td>0.000000</td>\n",
       "      <td>0</td>\n",
       "      <td>0</td>\n",
       "      <td>0</td>\n",
       "      <td>0</td>\n",
       "      <td>0</td>\n",
       "      <td>0</td>\n",
       "    </tr>\n",
       "    <tr>\n",
       "      <th>3</th>\n",
       "      <td>31</td>\n",
       "      <td>31</td>\n",
       "      <td>helloloser12345.10867</td>\n",
       "      <td>helloloser12345</td>\n",
       "      <td>2004-11-25 11:00:00</td>\n",
       "      <td>Northern Ireland</td>\n",
       "      <td>Northern Ireland</td>\n",
       "      <td>0.000000</td>\n",
       "      <td>0.000000</td>\n",
       "      <td>0</td>\n",
       "      <td>0</td>\n",
       "      <td>0</td>\n",
       "      <td>0</td>\n",
       "      <td>0</td>\n",
       "      <td>0</td>\n",
       "    </tr>\n",
       "    <tr>\n",
       "      <th>4</th>\n",
       "      <td>604</td>\n",
       "      <td>604</td>\n",
       "      <td>cypressbob.3708</td>\n",
       "      <td>cypressbob</td>\n",
       "      <td>2003-11-20 11:00:00</td>\n",
       "      <td>Northern Ireland</td>\n",
       "      <td>Northern Ireland</td>\n",
       "      <td>0.000000</td>\n",
       "      <td>0.000000</td>\n",
       "      <td>0</td>\n",
       "      <td>0</td>\n",
       "      <td>0</td>\n",
       "      <td>0</td>\n",
       "      <td>0</td>\n",
       "      <td>0</td>\n",
       "    </tr>\n",
       "  </tbody>\n",
       "</table>\n",
       "</div>"
      ],
      "text/plain": [
       "   n_ratings  n_reviews                    uid         username  \\\n",
       "0       7820        465         nmann08.184925          nmann08   \n",
       "1       2521       2504     stjamesgate.163714      StJamesGate   \n",
       "2       1797       1143          mdagnew.19527          mdagnew   \n",
       "3         31         31  helloloser12345.10867  helloloser12345   \n",
       "4        604        604        cypressbob.3708       cypressbob   \n",
       "\n",
       "               joined                   location           country  cfm_score  \\\n",
       "0 2008-01-07 11:00:00  United States, Washington     United States   1.144488   \n",
       "1 2007-10-08 10:00:00    United States, New York     United States   2.161687   \n",
       "2 2005-05-18 10:00:00           Northern Ireland  Northern Ireland   0.000000   \n",
       "3 2004-11-25 11:00:00           Northern Ireland  Northern Ireland   0.000000   \n",
       "4 2003-11-20 11:00:00           Northern Ireland  Northern Ireland   0.000000   \n",
       "\n",
       "   exp_score  xpl_score  adv_score  is_cfm  is_exp  is_xpl  is_adv  \n",
       "0   1.033064       2164        240       0       0       1       1  \n",
       "1   1.310320       1194         33       0       0       1       1  \n",
       "2   0.000000          0          0       0       0       0       0  \n",
       "3   0.000000          0          0       0       0       0       0  \n",
       "4   0.000000          0          0       0       0       0       0  "
      ]
     },
     "execution_count": 3,
     "metadata": {},
     "output_type": "execute_result"
    }
   ],
   "source": [
    "scores_ddf = ing.read_parquet('RefinedData\\BeerAdvocate\\\\users_with_scores.parquet')\n",
    "scores_ddf.head()"
   ]
  },
  {
   "cell_type": "code",
   "execution_count": 4,
   "metadata": {},
   "outputs": [
    {
     "data": {
      "text/html": [
       "<div>\n",
       "<style scoped>\n",
       "    .dataframe tbody tr th:only-of-type {\n",
       "        vertical-align: middle;\n",
       "    }\n",
       "\n",
       "    .dataframe tbody tr th {\n",
       "        vertical-align: top;\n",
       "    }\n",
       "\n",
       "    .dataframe thead th {\n",
       "        text-align: right;\n",
       "    }\n",
       "</style>\n",
       "<table border=\"1\" class=\"dataframe\">\n",
       "  <thead>\n",
       "    <tr style=\"text-align: right;\">\n",
       "      <th></th>\n",
       "      <th>date</th>\n",
       "      <th>bid</th>\n",
       "      <th>uid</th>\n",
       "      <th>rating</th>\n",
       "      <th>has_review</th>\n",
       "      <th>review</th>\n",
       "      <th>compound</th>\n",
       "    </tr>\n",
       "  </thead>\n",
       "  <tbody>\n",
       "    <tr>\n",
       "      <th>0</th>\n",
       "      <td>2015-08-20 10:00:00</td>\n",
       "      <td>142544</td>\n",
       "      <td>nmann08.184925</td>\n",
       "      <td>2.88</td>\n",
       "      <td>True</td>\n",
       "      <td>From a bottle, pours a piss yellow color with ...</td>\n",
       "      <td>0</td>\n",
       "    </tr>\n",
       "    <tr>\n",
       "      <th>1</th>\n",
       "      <td>2015-11-14 11:00:00</td>\n",
       "      <td>120824</td>\n",
       "      <td>nmann08.184925</td>\n",
       "      <td>3.56</td>\n",
       "      <td>False</td>\n",
       "      <td>None</td>\n",
       "      <td>0</td>\n",
       "    </tr>\n",
       "    <tr>\n",
       "      <th>2</th>\n",
       "      <td>2011-11-18 11:00:00</td>\n",
       "      <td>47581</td>\n",
       "      <td>nmann08.184925</td>\n",
       "      <td>4.50</td>\n",
       "      <td>False</td>\n",
       "      <td>None</td>\n",
       "      <td>0</td>\n",
       "    </tr>\n",
       "    <tr>\n",
       "      <th>3</th>\n",
       "      <td>2013-05-03 10:00:00</td>\n",
       "      <td>93113</td>\n",
       "      <td>nmann08.184925</td>\n",
       "      <td>3.75</td>\n",
       "      <td>False</td>\n",
       "      <td>None</td>\n",
       "      <td>0</td>\n",
       "    </tr>\n",
       "    <tr>\n",
       "      <th>4</th>\n",
       "      <td>2015-01-24 11:00:00</td>\n",
       "      <td>875</td>\n",
       "      <td>nmann08.184925</td>\n",
       "      <td>3.81</td>\n",
       "      <td>False</td>\n",
       "      <td>None</td>\n",
       "      <td>0</td>\n",
       "    </tr>\n",
       "  </tbody>\n",
       "</table>\n",
       "</div>"
      ],
      "text/plain": [
       "                 date     bid             uid  rating  has_review  \\\n",
       "0 2015-08-20 10:00:00  142544  nmann08.184925    2.88        True   \n",
       "1 2015-11-14 11:00:00  120824  nmann08.184925    3.56       False   \n",
       "2 2011-11-18 11:00:00   47581  nmann08.184925    4.50       False   \n",
       "3 2013-05-03 10:00:00   93113  nmann08.184925    3.75       False   \n",
       "4 2015-01-24 11:00:00     875  nmann08.184925    3.81       False   \n",
       "\n",
       "                                              review  compound  \n",
       "0  From a bottle, pours a piss yellow color with ...         0  \n",
       "1                                               None         0  \n",
       "2                                               None         0  \n",
       "3                                               None         0  \n",
       "4                                               None         0  "
      ]
     },
     "execution_count": 4,
     "metadata": {},
     "output_type": "execute_result"
    }
   ],
   "source": [
    "ratings_ddf = ing.read_parquet('RefinedData\\BeerAdvocate\\\\ratings.parquet')\n",
    "ratings_ddf.head()"
   ]
  },
  {
   "cell_type": "code",
   "execution_count": 5,
   "metadata": {},
   "outputs": [
    {
     "data": {
      "text/html": [
       "<div>\n",
       "<style scoped>\n",
       "    .dataframe tbody tr th:only-of-type {\n",
       "        vertical-align: middle;\n",
       "    }\n",
       "\n",
       "    .dataframe tbody tr th {\n",
       "        vertical-align: top;\n",
       "    }\n",
       "\n",
       "    .dataframe thead th {\n",
       "        text-align: right;\n",
       "    }\n",
       "</style>\n",
       "<table border=\"1\" class=\"dataframe\">\n",
       "  <thead>\n",
       "    <tr style=\"text-align: right;\">\n",
       "      <th></th>\n",
       "      <th>bid</th>\n",
       "      <th>avg_rating</th>\n",
       "      <th>review_rate</th>\n",
       "      <th>n_ratings</th>\n",
       "      <th>n_reviews</th>\n",
       "    </tr>\n",
       "  </thead>\n",
       "  <tbody>\n",
       "    <tr>\n",
       "      <th>0</th>\n",
       "      <td>10.0</td>\n",
       "      <td>3.807351</td>\n",
       "      <td>0.475124</td>\n",
       "      <td>1608</td>\n",
       "      <td>764</td>\n",
       "    </tr>\n",
       "    <tr>\n",
       "      <th>1</th>\n",
       "      <td>100.0</td>\n",
       "      <td>3.109523</td>\n",
       "      <td>0.286713</td>\n",
       "      <td>2431</td>\n",
       "      <td>697</td>\n",
       "    </tr>\n",
       "    <tr>\n",
       "      <th>2</th>\n",
       "      <td>1000.0</td>\n",
       "      <td>3.801689</td>\n",
       "      <td>0.648649</td>\n",
       "      <td>148</td>\n",
       "      <td>96</td>\n",
       "    </tr>\n",
       "    <tr>\n",
       "      <th>3</th>\n",
       "      <td>100000.0</td>\n",
       "      <td>3.706538</td>\n",
       "      <td>0.230769</td>\n",
       "      <td>26</td>\n",
       "      <td>6</td>\n",
       "    </tr>\n",
       "    <tr>\n",
       "      <th>4</th>\n",
       "      <td>100001.0</td>\n",
       "      <td>3.940000</td>\n",
       "      <td>1.000000</td>\n",
       "      <td>1</td>\n",
       "      <td>1</td>\n",
       "    </tr>\n",
       "  </tbody>\n",
       "</table>\n",
       "</div>"
      ],
      "text/plain": [
       "        bid  avg_rating  review_rate  n_ratings  n_reviews\n",
       "0      10.0    3.807351     0.475124       1608        764\n",
       "1     100.0    3.109523     0.286713       2431        697\n",
       "2    1000.0    3.801689     0.648649        148         96\n",
       "3  100000.0    3.706538     0.230769         26          6\n",
       "4  100001.0    3.940000     1.000000          1          1"
      ]
     },
     "execution_count": 5,
     "metadata": {},
     "output_type": "execute_result"
    }
   ],
   "source": [
    "beers_ddf = ing.read_parquet('RefinedData\\BeerAdvocate\\\\beers.parquet')\n",
    "beers_ddf.head()"
   ]
  },
  {
   "cell_type": "code",
   "execution_count": 6,
   "metadata": {},
   "outputs": [
    {
     "data": {
      "text/plain": [
       "(153704, 15)"
      ]
     },
     "execution_count": 6,
     "metadata": {},
     "output_type": "execute_result"
    }
   ],
   "source": [
    "scores_ddf.compute().shape"
   ]
  },
  {
   "cell_type": "code",
   "execution_count": 7,
   "metadata": {},
   "outputs": [
    {
     "data": {
      "text/plain": [
       "(15371, 15)"
      ]
     },
     "execution_count": 7,
     "metadata": {},
     "output_type": "execute_result"
    }
   ],
   "source": [
    "scores_ddf[scores_ddf[\"is_cfm\"] == True].compute().shape"
   ]
  },
  {
   "cell_type": "code",
   "execution_count": 8,
   "metadata": {},
   "outputs": [
    {
     "data": {
      "text/plain": [
       "(15371, 15)"
      ]
     },
     "execution_count": 8,
     "metadata": {},
     "output_type": "execute_result"
    }
   ],
   "source": [
    "scores_ddf[scores_ddf[\"is_exp\"] == True].compute().shape"
   ]
  },
  {
   "cell_type": "code",
   "execution_count": 9,
   "metadata": {},
   "outputs": [
    {
     "data": {
      "text/plain": [
       "(14752, 15)"
      ]
     },
     "execution_count": 9,
     "metadata": {},
     "output_type": "execute_result"
    }
   ],
   "source": [
    "scores_ddf[scores_ddf[\"is_xpl\"] == True].compute().shape"
   ]
  },
  {
   "cell_type": "code",
   "execution_count": 10,
   "metadata": {},
   "outputs": [
    {
     "data": {
      "text/plain": [
       "(13547, 15)"
      ]
     },
     "execution_count": 10,
     "metadata": {},
     "output_type": "execute_result"
    }
   ],
   "source": [
    "scores_ddf[scores_ddf[\"is_adv\"] == True].compute().shape"
   ]
  },
  {
   "attachments": {},
   "cell_type": "markdown",
   "metadata": {},
   "source": [
    "# [II] Sentiment analysis of each category of users"
   ]
  },
  {
   "attachments": {},
   "cell_type": "markdown",
   "metadata": {},
   "source": [
    "## Conformist sentiment analysis"
   ]
  },
  {
   "cell_type": "code",
   "execution_count": 11,
   "metadata": {},
   "outputs": [
    {
     "data": {
      "text/html": [
       "<div>\n",
       "<style scoped>\n",
       "    .dataframe tbody tr th:only-of-type {\n",
       "        vertical-align: middle;\n",
       "    }\n",
       "\n",
       "    .dataframe tbody tr th {\n",
       "        vertical-align: top;\n",
       "    }\n",
       "\n",
       "    .dataframe thead th {\n",
       "        text-align: right;\n",
       "    }\n",
       "</style>\n",
       "<table border=\"1\" class=\"dataframe\">\n",
       "  <thead>\n",
       "    <tr style=\"text-align: right;\">\n",
       "      <th></th>\n",
       "      <th>date</th>\n",
       "      <th>bid</th>\n",
       "      <th>uid</th>\n",
       "      <th>rating</th>\n",
       "      <th>has_review</th>\n",
       "      <th>review</th>\n",
       "      <th>compound</th>\n",
       "      <th>n_ratings</th>\n",
       "      <th>n_reviews</th>\n",
       "      <th>username</th>\n",
       "      <th>...</th>\n",
       "      <th>location</th>\n",
       "      <th>country</th>\n",
       "      <th>cfm_score</th>\n",
       "      <th>exp_score</th>\n",
       "      <th>xpl_score</th>\n",
       "      <th>adv_score</th>\n",
       "      <th>is_cfm</th>\n",
       "      <th>is_exp</th>\n",
       "      <th>is_xpl</th>\n",
       "      <th>is_adv</th>\n",
       "    </tr>\n",
       "  </thead>\n",
       "  <tbody>\n",
       "    <tr>\n",
       "      <th>4</th>\n",
       "      <td>2008-05-04 10:00:00</td>\n",
       "      <td>1778</td>\n",
       "      <td>animal69.160100</td>\n",
       "      <td>3.03</td>\n",
       "      <td>True</td>\n",
       "      <td>on sale for $3.49 prob due to the BBD, 1/08 ; ...</td>\n",
       "      <td>0</td>\n",
       "      <td>1489</td>\n",
       "      <td>355</td>\n",
       "      <td>animal69</td>\n",
       "      <td>...</td>\n",
       "      <td>United States, Louisiana</td>\n",
       "      <td>United States</td>\n",
       "      <td>2.96216</td>\n",
       "      <td>1.753199</td>\n",
       "      <td>82</td>\n",
       "      <td>130</td>\n",
       "      <td>1</td>\n",
       "      <td>0</td>\n",
       "      <td>1</td>\n",
       "      <td>1</td>\n",
       "    </tr>\n",
       "    <tr>\n",
       "      <th>5</th>\n",
       "      <td>2007-11-06 11:00:00</td>\n",
       "      <td>1275</td>\n",
       "      <td>animal69.160100</td>\n",
       "      <td>4.30</td>\n",
       "      <td>True</td>\n",
       "      <td>my fav. scotty ; pours a deep copper color w/ ...</td>\n",
       "      <td>0</td>\n",
       "      <td>1489</td>\n",
       "      <td>355</td>\n",
       "      <td>animal69</td>\n",
       "      <td>...</td>\n",
       "      <td>United States, Louisiana</td>\n",
       "      <td>United States</td>\n",
       "      <td>2.96216</td>\n",
       "      <td>1.753199</td>\n",
       "      <td>82</td>\n",
       "      <td>130</td>\n",
       "      <td>1</td>\n",
       "      <td>0</td>\n",
       "      <td>1</td>\n",
       "      <td>1</td>\n",
       "    </tr>\n",
       "    <tr>\n",
       "      <th>9</th>\n",
       "      <td>2007-10-19 10:00:00</td>\n",
       "      <td>79</td>\n",
       "      <td>animal69.160100</td>\n",
       "      <td>3.90</td>\n",
       "      <td>True</td>\n",
       "      <td>I've always wanted to try this one; pours a ni...</td>\n",
       "      <td>0</td>\n",
       "      <td>1489</td>\n",
       "      <td>355</td>\n",
       "      <td>animal69</td>\n",
       "      <td>...</td>\n",
       "      <td>United States, Louisiana</td>\n",
       "      <td>United States</td>\n",
       "      <td>2.96216</td>\n",
       "      <td>1.753199</td>\n",
       "      <td>82</td>\n",
       "      <td>130</td>\n",
       "      <td>1</td>\n",
       "      <td>0</td>\n",
       "      <td>1</td>\n",
       "      <td>1</td>\n",
       "    </tr>\n",
       "    <tr>\n",
       "      <th>10</th>\n",
       "      <td>2010-02-09 11:00:00</td>\n",
       "      <td>46718</td>\n",
       "      <td>animal69.160100</td>\n",
       "      <td>3.99</td>\n",
       "      <td>True</td>\n",
       "      <td>A- pours a deep brown not quite black w/ absol...</td>\n",
       "      <td>0</td>\n",
       "      <td>1489</td>\n",
       "      <td>355</td>\n",
       "      <td>animal69</td>\n",
       "      <td>...</td>\n",
       "      <td>United States, Louisiana</td>\n",
       "      <td>United States</td>\n",
       "      <td>2.96216</td>\n",
       "      <td>1.753199</td>\n",
       "      <td>82</td>\n",
       "      <td>130</td>\n",
       "      <td>1</td>\n",
       "      <td>0</td>\n",
       "      <td>1</td>\n",
       "      <td>1</td>\n",
       "    </tr>\n",
       "    <tr>\n",
       "      <th>18</th>\n",
       "      <td>2007-11-01 11:00:00</td>\n",
       "      <td>576</td>\n",
       "      <td>animal69.160100</td>\n",
       "      <td>4.42</td>\n",
       "      <td>True</td>\n",
       "      <td>this is the style example i believe ; pours a ...</td>\n",
       "      <td>0</td>\n",
       "      <td>1489</td>\n",
       "      <td>355</td>\n",
       "      <td>animal69</td>\n",
       "      <td>...</td>\n",
       "      <td>United States, Louisiana</td>\n",
       "      <td>United States</td>\n",
       "      <td>2.96216</td>\n",
       "      <td>1.753199</td>\n",
       "      <td>82</td>\n",
       "      <td>130</td>\n",
       "      <td>1</td>\n",
       "      <td>0</td>\n",
       "      <td>1</td>\n",
       "      <td>1</td>\n",
       "    </tr>\n",
       "  </tbody>\n",
       "</table>\n",
       "<p>5 rows × 21 columns</p>\n",
       "</div>"
      ],
      "text/plain": [
       "                  date    bid              uid  rating  has_review  \\\n",
       "4  2008-05-04 10:00:00   1778  animal69.160100    3.03        True   \n",
       "5  2007-11-06 11:00:00   1275  animal69.160100    4.30        True   \n",
       "9  2007-10-19 10:00:00     79  animal69.160100    3.90        True   \n",
       "10 2010-02-09 11:00:00  46718  animal69.160100    3.99        True   \n",
       "18 2007-11-01 11:00:00    576  animal69.160100    4.42        True   \n",
       "\n",
       "                                               review  compound  n_ratings  \\\n",
       "4   on sale for $3.49 prob due to the BBD, 1/08 ; ...         0       1489   \n",
       "5   my fav. scotty ; pours a deep copper color w/ ...         0       1489   \n",
       "9   I've always wanted to try this one; pours a ni...         0       1489   \n",
       "10  A- pours a deep brown not quite black w/ absol...         0       1489   \n",
       "18  this is the style example i believe ; pours a ...         0       1489   \n",
       "\n",
       "    n_reviews  username  ...                  location        country  \\\n",
       "4         355  animal69  ...  United States, Louisiana  United States   \n",
       "5         355  animal69  ...  United States, Louisiana  United States   \n",
       "9         355  animal69  ...  United States, Louisiana  United States   \n",
       "10        355  animal69  ...  United States, Louisiana  United States   \n",
       "18        355  animal69  ...  United States, Louisiana  United States   \n",
       "\n",
       "   cfm_score  exp_score  xpl_score  adv_score  is_cfm  is_exp  is_xpl  is_adv  \n",
       "4    2.96216   1.753199         82        130       1       0       1       1  \n",
       "5    2.96216   1.753199         82        130       1       0       1       1  \n",
       "9    2.96216   1.753199         82        130       1       0       1       1  \n",
       "10   2.96216   1.753199         82        130       1       0       1       1  \n",
       "18   2.96216   1.753199         82        130       1       0       1       1  \n",
       "\n",
       "[5 rows x 21 columns]"
      ]
     },
     "execution_count": 11,
     "metadata": {},
     "output_type": "execute_result"
    }
   ],
   "source": [
    "from processing import sentiment_pipeline_vader\n",
    "# conformist ratings\n",
    "cfm_users_ddf = scores_ddf[scores_ddf[\"is_cfm\"] == True]\n",
    "\n",
    "# only take ratings from conformist users\n",
    "cf_ratings_conformist_ddf = ratings_ddf.merge(cfm_users_ddf, on=\"uid\", how=\"inner\")\n",
    "\n",
    "# only take beers with reviews\n",
    "cf_ratings_conformist_ddf = cf_ratings_conformist_ddf[cf_ratings_conformist_ddf[\"has_review\"] == True]\n",
    "\n",
    "cf_ratings_conformist_ddf.head()\n",
    "\n"
   ]
  },
  {
   "cell_type": "code",
   "execution_count": 13,
   "metadata": {},
   "outputs": [
    {
     "data": {
      "text/plain": [
       "(165640, 21)"
      ]
     },
     "execution_count": 13,
     "metadata": {},
     "output_type": "execute_result"
    }
   ],
   "source": [
    "cf_ratings_conformist_ddf.compute().shape"
   ]
  },
  {
   "cell_type": "code",
   "execution_count": 12,
   "metadata": {},
   "outputs": [],
   "source": [
    "cf_ratings_samples = cf_ratings_conformist_ddf.sample(frac=0.1, random_state=42)"
   ]
  },
  {
   "cell_type": "code",
   "execution_count": 13,
   "metadata": {},
   "outputs": [
    {
     "data": {
      "text/plain": [
       "(16566, 21)"
      ]
     },
     "execution_count": 13,
     "metadata": {},
     "output_type": "execute_result"
    }
   ],
   "source": [
    "cf_ratings_samples.compute().shape"
   ]
  },
  {
   "cell_type": "code",
   "execution_count": 16,
   "metadata": {},
   "outputs": [
    {
     "name": "stderr",
     "output_type": "stream",
     "text": [
      "100%|██████████| 16566/16566 [10:19<00:00, 26.73it/s]\n"
     ]
    }
   ],
   "source": [
    "cfm_sentiments_sample = sentiment_pipeline_vader(cf_ratings_samples)"
   ]
  },
  {
   "cell_type": "code",
   "execution_count": 17,
   "metadata": {},
   "outputs": [
    {
     "data": {
      "text/html": [
       "<div>\n",
       "<style scoped>\n",
       "    .dataframe tbody tr th:only-of-type {\n",
       "        vertical-align: middle;\n",
       "    }\n",
       "\n",
       "    .dataframe tbody tr th {\n",
       "        vertical-align: top;\n",
       "    }\n",
       "\n",
       "    .dataframe thead th {\n",
       "        text-align: right;\n",
       "    }\n",
       "</style>\n",
       "<table border=\"1\" class=\"dataframe\">\n",
       "  <thead>\n",
       "    <tr style=\"text-align: right;\">\n",
       "      <th></th>\n",
       "      <th>date</th>\n",
       "      <th>bid</th>\n",
       "      <th>uid</th>\n",
       "      <th>rating</th>\n",
       "      <th>has_review</th>\n",
       "      <th>review</th>\n",
       "      <th>compound_sentiment</th>\n",
       "    </tr>\n",
       "  </thead>\n",
       "  <tbody>\n",
       "    <tr>\n",
       "      <th>1188</th>\n",
       "      <td>2013-11-26 11:00:00</td>\n",
       "      <td>86189</td>\n",
       "      <td>jrenihan.529001</td>\n",
       "      <td>3.85</td>\n",
       "      <td>True</td>\n",
       "      <td>Bottled June 28, 2013.Beer is very dark brown,...</td>\n",
       "      <td>0.346262</td>\n",
       "    </tr>\n",
       "    <tr>\n",
       "      <th>4310</th>\n",
       "      <td>2016-07-16 10:00:00</td>\n",
       "      <td>782</td>\n",
       "      <td>hat_fulla_beer.1081123</td>\n",
       "      <td>4.28</td>\n",
       "      <td>True</td>\n",
       "      <td>550ml bottle poured into Sam Adams pint glass....</td>\n",
       "      <td>0.126040</td>\n",
       "    </tr>\n",
       "    <tr>\n",
       "      <th>8594</th>\n",
       "      <td>2011-11-22 11:00:00</td>\n",
       "      <td>19426</td>\n",
       "      <td>kap1356.312685</td>\n",
       "      <td>3.72</td>\n",
       "      <td>True</td>\n",
       "      <td>Part of my review catch up. 2010 bottle (didn'...</td>\n",
       "      <td>0.258364</td>\n",
       "    </tr>\n",
       "    <tr>\n",
       "      <th>715</th>\n",
       "      <td>2012-04-21 10:00:00</td>\n",
       "      <td>79652</td>\n",
       "      <td>andrenaline.393082</td>\n",
       "      <td>3.78</td>\n",
       "      <td>True</td>\n",
       "      <td>A random I picked up on a recent visit to the ...</td>\n",
       "      <td>0.133883</td>\n",
       "    </tr>\n",
       "    <tr>\n",
       "      <th>8839</th>\n",
       "      <td>2011-01-13 11:00:00</td>\n",
       "      <td>782</td>\n",
       "      <td>njpink1887.299050</td>\n",
       "      <td>4.05</td>\n",
       "      <td>True</td>\n",
       "      <td>first BA review herepoured into red wine glass...</td>\n",
       "      <td>0.580150</td>\n",
       "    </tr>\n",
       "  </tbody>\n",
       "</table>\n",
       "</div>"
      ],
      "text/plain": [
       "                    date    bid                     uid  rating  has_review  \\\n",
       "1188 2013-11-26 11:00:00  86189         jrenihan.529001    3.85        True   \n",
       "4310 2016-07-16 10:00:00    782  hat_fulla_beer.1081123    4.28        True   \n",
       "8594 2011-11-22 11:00:00  19426          kap1356.312685    3.72        True   \n",
       "715  2012-04-21 10:00:00  79652      andrenaline.393082    3.78        True   \n",
       "8839 2011-01-13 11:00:00    782       njpink1887.299050    4.05        True   \n",
       "\n",
       "                                                 review  compound_sentiment  \n",
       "1188  Bottled June 28, 2013.Beer is very dark brown,...            0.346262  \n",
       "4310  550ml bottle poured into Sam Adams pint glass....            0.126040  \n",
       "8594  Part of my review catch up. 2010 bottle (didn'...            0.258364  \n",
       "715   A random I picked up on a recent visit to the ...            0.133883  \n",
       "8839  first BA review herepoured into red wine glass...            0.580150  "
      ]
     },
     "execution_count": 17,
     "metadata": {},
     "output_type": "execute_result"
    }
   ],
   "source": [
    "cfm_sentiments_sample.head()"
   ]
  },
  {
   "cell_type": "code",
   "execution_count": null,
   "metadata": {},
   "outputs": [],
   "source": []
  },
  {
   "cell_type": "code",
   "execution_count": 18,
   "metadata": {},
   "outputs": [],
   "source": [
    "# save to parquet\n",
    "cfm_sentiments_sample.to_parquet('RefinedData\\BeerAdvocate\\\\cfm_sentiments_sample.parquet')"
   ]
  },
  {
   "cell_type": "code",
   "execution_count": null,
   "metadata": {},
   "outputs": [],
   "source": [
    "# load from parquet\n",
    "cfm_sentiments_sample = ing.read_parquet('RefinedData\\BeerAdvocate\\sentiment_analysis\\\\cfm_sentiments_sample.parquet')"
   ]
  },
  {
   "cell_type": "code",
   "execution_count": 22,
   "metadata": {},
   "outputs": [],
   "source": [
    "nb_pos = cfm_sentiments_sample[cfm_sentiments_sample[\"compound_sentiment\"] > 0.05].shape[0]\n",
    "nb_neg = cfm_sentiments_sample[cfm_sentiments_sample[\"compound_sentiment\"] < -0.05].shape[0]\n",
    "nb_neu = cfm_sentiments_sample[cfm_sentiments_sample[\"compound_sentiment\"].between(-0.05, 0.05)].shape[0]"
   ]
  },
  {
   "cell_type": "code",
   "execution_count": 23,
   "metadata": {},
   "outputs": [
    {
     "data": {
      "text/plain": [
       "(14532, 580, 1454)"
      ]
     },
     "execution_count": 23,
     "metadata": {},
     "output_type": "execute_result"
    }
   ],
   "source": [
    "nb_pos, nb_neg, nb_neu"
   ]
  },
  {
   "cell_type": "code",
   "execution_count": 24,
   "metadata": {},
   "outputs": [
    {
     "data": {
      "text/plain": [
       "<AxesSubplot:xlabel='compound_sentiment', ylabel='Count'>"
      ]
     },
     "execution_count": 24,
     "metadata": {},
     "output_type": "execute_result"
    },
    {
     "data": {
      "image/png": "[encoded data removed]",
      "text/plain": [
       "<Figure size 640x480 with 1 Axes>"
      ]
     },
     "metadata": {},
     "output_type": "display_data"
    }
   ],
   "source": [
    "# plot histogram of sentiment scores\n",
    "sns.histplot(cfm_sentiments_sample[\"compound_sentiment\"], bins=100)"
   ]
  },
  {
   "cell_type": "code",
   "execution_count": 14,
   "metadata": {},
   "outputs": [
    {
     "data": {
      "application/vnd.jupyter.widget-view+json": {
       "model_id": "bd2a385a7f1b46cf8cc607e89fc0fc2c",
       "version_major": 2,
       "version_minor": 0
      },
      "text/plain": [
       "Downloading:   0%|          | 0.00/14.3k [00:00<?, ?B/s]"
      ]
     },
     "metadata": {},
     "output_type": "display_data"
    },
    {
     "data": {
      "application/vnd.jupyter.widget-view+json": {
       "model_id": "a22f9c84e73345aba4d53fe1382566c1",
       "version_major": 2,
       "version_minor": 0
      },
      "text/plain": [
       "  0%|          | 0/518 [00:00<?, ?it/s]"
      ]
     },
     "metadata": {},
     "output_type": "display_data"
    },
    {
     "ename": "NotImplementedError",
     "evalue": "Item assignment with <class 'tuple'> not supported",
     "output_type": "error",
     "traceback": [
      "\u001b[1;31m---------------------------------------------------------------------------\u001b[0m",
      "\u001b[1;31mNotImplementedError\u001b[0m                       Traceback (most recent call last)",
      "Cell \u001b[1;32mIn [14], line 2\u001b[0m\n\u001b[0;32m      1\u001b[0m \u001b[39mfrom\u001b[39;00m \u001b[39mprocessing\u001b[39;00m \u001b[39mimport\u001b[39;00m batch_sentiment_pipeline\n\u001b[1;32m----> 2\u001b[0m cfm_sentiments_sample_hg \u001b[39m=\u001b[39m batch_sentiment_pipeline(cf_ratings_samples)\n",
      "File \u001b[1;32mc:\\Users\\Henrique\\Desktop\\EPFL_MA1\\ADA\\project\\project_milestone2\\git\\ada-2022-project-analyteam\\processing.py:483\u001b[0m, in \u001b[0;36mbatch_sentiment_pipeline\u001b[1;34m(ratings_ddf)\u001b[0m\n\u001b[0;32m    480\u001b[0m \u001b[39m# get sentiment analysis of ratings with a review\u001b[39;00m\n\u001b[0;32m    481\u001b[0m pos_sentiments \u001b[39m=\u001b[39m pos_sentiment_in(reviews)\n\u001b[1;32m--> 483\u001b[0m sentiment_ddf[with_reviews, \u001b[39m\"\u001b[39m\u001b[39ms+\u001b[39m\u001b[39m\"\u001b[39m] \u001b[39m=\u001b[39m pos_sentiments\n\u001b[0;32m    484\u001b[0m sentiment_ddf[with_reviews, \u001b[39m\"\u001b[39m\u001b[39ms-\u001b[39m\u001b[39m\"\u001b[39m] \u001b[39m=\u001b[39m \u001b[39m1\u001b[39m \u001b[39m-\u001b[39m sentiment_ddf[with_reviews, \u001b[39m\"\u001b[39m\u001b[39ms+\u001b[39m\u001b[39m\"\u001b[39m]\n",
      "File \u001b[1;32mc:\\Users\\Henrique\\anaconda3\\lib\\site-packages\\dask\\dataframe\\core.py:4342\u001b[0m, in \u001b[0;36mDataFrame.__setitem__\u001b[1;34m(self, key, value)\u001b[0m\n\u001b[0;32m   4340\u001b[0m     df \u001b[39m=\u001b[39m \u001b[39mself\u001b[39m\u001b[39m.\u001b[39mwhere(\u001b[39m~\u001b[39mkey, value)\n\u001b[0;32m   4341\u001b[0m \u001b[39melif\u001b[39;00m \u001b[39mnot\u001b[39;00m \u001b[39misinstance\u001b[39m(key, \u001b[39mstr\u001b[39m):\n\u001b[1;32m-> 4342\u001b[0m     \u001b[39mraise\u001b[39;00m \u001b[39mNotImplementedError\u001b[39;00m(\u001b[39mf\u001b[39m\u001b[39m\"\u001b[39m\u001b[39mItem assignment with \u001b[39m\u001b[39m{\u001b[39;00m\u001b[39mtype\u001b[39m(key)\u001b[39m}\u001b[39;00m\u001b[39m not supported\u001b[39m\u001b[39m\"\u001b[39m)\n\u001b[0;32m   4343\u001b[0m \u001b[39melse\u001b[39;00m:\n\u001b[0;32m   4344\u001b[0m     df \u001b[39m=\u001b[39m \u001b[39mself\u001b[39m\u001b[39m.\u001b[39massign(\u001b[39m*\u001b[39m\u001b[39m*\u001b[39m{key: value})\n",
      "\u001b[1;31mNotImplementedError\u001b[0m: Item assignment with <class 'tuple'> not supported"
     ]
    }
   ],
   "source": [
    "from processing import batch_sentiment_pipeline\n",
    "cfm_sentiments_sample_hg = batch_sentiment_pipeline(cf_ratings_samples)"
   ]
  },
  {
   "cell_type": "code",
   "execution_count": null,
   "metadata": {},
   "outputs": [],
   "source": []
  }
 ],
 "metadata": {
  "kernelspec": {
   "display_name": "base",
   "language": "python",
   "name": "python3"
  },
  "language_info": {
   "codemirror_mode": {
    "name": "ipython",
    "version": 3
   },
   "file_extension": ".py",
   "mimetype": "text/x-python",
   "name": "python",
   "nbconvert_exporter": "python",
   "pygments_lexer": "ipython3",
   "version": "3.9.12 (main, Apr  4 2022, 05:22:27) [MSC v.1916 64 bit (AMD64)]"
  },
  "orig_nbformat": 4,
  "vscode": {
   "interpreter": {
    "hash": "6bb2e1f904bb6e863f2b9088396373e4778cab81ffde8089fcb5238aee912dca"
   }
  }
 },
 "nbformat": 4,
 "nbformat_minor": 2
}
