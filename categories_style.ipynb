{
 "cells": [
  {
   "cell_type": "code",
   "execution_count": 1,
   "metadata": {},
   "outputs": [],
   "source": [
    "from setup import dask_init, dask_shutdown\n",
    "import dask.distributed as dd\n",
    "import dask.dataframe as ddf\n",
    "from tqdm import tqdm\n",
    "\n",
    "import pandas as pd\n",
    "import numpy as np\n",
    "\n",
    "import ingestion as ing\n",
    "import processing as prc\n",
    "\n",
    "import datetime as dt\n",
    "\n",
    "import seaborn as sns\n",
    "import matplotlib.pyplot as plt\n",
    "%matplotlib inline\n",
    "\n",
    "%load_ext autoreload\n",
    "%autoreload 2"
   ]
  },
  {
   "cell_type": "code",
   "execution_count": 2,
   "metadata": {},
   "outputs": [
    {
     "data": {
      "application/vnd.jupyter.widget-view+json": {
       "model_id": "e36f4ae0a7374baeb96b32e6e5c7bc89",
       "version_major": 2,
       "version_minor": 0
      },
      "text/plain": [
       "Tab(children=(HTML(value='<div class=\"jp-RenderedHTMLCommon jp-RenderedHTML jp-mod-trusted jp-OutputArea-outpu…"
      ]
     },
     "metadata": {},
     "output_type": "display_data"
    }
   ],
   "source": [
    "# PANDAS SETUP\n",
    "pd.options.mode.use_inf_as_na = True\n",
    "\n",
    "# DASK SETUP\n",
    "client, cluster = dask_init()\n",
    "cluster"
   ]
  },
  {
   "cell_type": "code",
   "execution_count": 9,
   "metadata": {},
   "outputs": [
    {
     "data": {
      "text/html": [
       "<div>\n",
       "<style scoped>\n",
       "    .dataframe tbody tr th:only-of-type {\n",
       "        vertical-align: middle;\n",
       "    }\n",
       "\n",
       "    .dataframe tbody tr th {\n",
       "        vertical-align: top;\n",
       "    }\n",
       "\n",
       "    .dataframe thead th {\n",
       "        text-align: right;\n",
       "    }\n",
       "</style>\n",
       "<table border=\"1\" class=\"dataframe\">\n",
       "  <thead>\n",
       "    <tr style=\"text-align: right;\">\n",
       "      <th></th>\n",
       "      <th>n_ratings</th>\n",
       "      <th>n_reviews</th>\n",
       "      <th>uid</th>\n",
       "      <th>username</th>\n",
       "      <th>joined</th>\n",
       "      <th>location</th>\n",
       "      <th>country</th>\n",
       "      <th>cfm_score</th>\n",
       "      <th>exp_score</th>\n",
       "      <th>xpl_score</th>\n",
       "      <th>adv_score</th>\n",
       "      <th>is_cfm</th>\n",
       "      <th>is_exp</th>\n",
       "      <th>is_xpl</th>\n",
       "      <th>is_adv</th>\n",
       "    </tr>\n",
       "  </thead>\n",
       "  <tbody>\n",
       "    <tr>\n",
       "      <th>0</th>\n",
       "      <td>7820</td>\n",
       "      <td>465</td>\n",
       "      <td>nmann08.184925</td>\n",
       "      <td>nmann08</td>\n",
       "      <td>2008-01-07 11:00:00</td>\n",
       "      <td>United States, Washington</td>\n",
       "      <td>United States</td>\n",
       "      <td>-0.875556</td>\n",
       "      <td>-0.423436</td>\n",
       "      <td>0.276726</td>\n",
       "      <td>0.066368</td>\n",
       "      <td>0</td>\n",
       "      <td>0</td>\n",
       "      <td>1</td>\n",
       "      <td>0</td>\n",
       "    </tr>\n",
       "    <tr>\n",
       "      <th>1</th>\n",
       "      <td>2521</td>\n",
       "      <td>2504</td>\n",
       "      <td>stjamesgate.163714</td>\n",
       "      <td>StJamesGate</td>\n",
       "      <td>2007-10-08 10:00:00</td>\n",
       "      <td>United States, New York</td>\n",
       "      <td>United States</td>\n",
       "      <td>-0.516299</td>\n",
       "      <td>-0.282777</td>\n",
       "      <td>0.473622</td>\n",
       "      <td>0.037287</td>\n",
       "      <td>0</td>\n",
       "      <td>0</td>\n",
       "      <td>1</td>\n",
       "      <td>0</td>\n",
       "    </tr>\n",
       "    <tr>\n",
       "      <th>2</th>\n",
       "      <td>2326</td>\n",
       "      <td>0</td>\n",
       "      <td>hellpop65.48993</td>\n",
       "      <td>Hellpop65</td>\n",
       "      <td>2005-11-14 11:00:00</td>\n",
       "      <td>United States, Kansas</td>\n",
       "      <td>United States</td>\n",
       "      <td>-1.783445</td>\n",
       "      <td>-0.621249</td>\n",
       "      <td>0.11264</td>\n",
       "      <td>0.11307</td>\n",
       "      <td>0</td>\n",
       "      <td>0</td>\n",
       "      <td>0</td>\n",
       "      <td>0</td>\n",
       "    </tr>\n",
       "    <tr>\n",
       "      <th>3</th>\n",
       "      <td>3098</td>\n",
       "      <td>0</td>\n",
       "      <td>latarnik.52897</td>\n",
       "      <td>Latarnik</td>\n",
       "      <td>2005-12-02 11:00:00</td>\n",
       "      <td>United States, New Jersey</td>\n",
       "      <td>United States</td>\n",
       "      <td>-0.451196</td>\n",
       "      <td>-0.362152</td>\n",
       "      <td>0.171724</td>\n",
       "      <td>0.244028</td>\n",
       "      <td>0</td>\n",
       "      <td>0</td>\n",
       "      <td>0</td>\n",
       "      <td>1</td>\n",
       "    </tr>\n",
       "    <tr>\n",
       "      <th>4</th>\n",
       "      <td>1866</td>\n",
       "      <td>23</td>\n",
       "      <td>rochefortchris.697017</td>\n",
       "      <td>RochefortChris</td>\n",
       "      <td>2012-10-02 10:00:00</td>\n",
       "      <td>United States, North Carolina</td>\n",
       "      <td>United States</td>\n",
       "      <td>-1.375863</td>\n",
       "      <td>-0.414637</td>\n",
       "      <td>0.209539</td>\n",
       "      <td>0.084137</td>\n",
       "      <td>0</td>\n",
       "      <td>0</td>\n",
       "      <td>1</td>\n",
       "      <td>0</td>\n",
       "    </tr>\n",
       "  </tbody>\n",
       "</table>\n",
       "</div>"
      ],
      "text/plain": [
       "   n_ratings  n_reviews                    uid        username  \\\n",
       "0       7820        465         nmann08.184925         nmann08   \n",
       "1       2521       2504     stjamesgate.163714     StJamesGate   \n",
       "2       2326          0        hellpop65.48993       Hellpop65   \n",
       "3       3098          0         latarnik.52897        Latarnik   \n",
       "4       1866         23  rochefortchris.697017  RochefortChris   \n",
       "\n",
       "               joined                       location        country  \\\n",
       "0 2008-01-07 11:00:00      United States, Washington  United States   \n",
       "1 2007-10-08 10:00:00        United States, New York  United States   \n",
       "2 2005-11-14 11:00:00          United States, Kansas  United States   \n",
       "3 2005-12-02 11:00:00      United States, New Jersey  United States   \n",
       "4 2012-10-02 10:00:00  United States, North Carolina  United States   \n",
       "\n",
       "   cfm_score  exp_score  xpl_score  adv_score  is_cfm  is_exp  is_xpl  is_adv  \n",
       "0  -0.875556  -0.423436   0.276726   0.066368       0       0       1       0  \n",
       "1  -0.516299  -0.282777   0.473622   0.037287       0       0       1       0  \n",
       "2  -1.783445  -0.621249    0.11264    0.11307       0       0       0       0  \n",
       "3  -0.451196  -0.362152   0.171724   0.244028       0       0       0       1  \n",
       "4  -1.375863  -0.414637   0.209539   0.084137       0       0       1       0  "
      ]
     },
     "execution_count": 9,
     "metadata": {},
     "output_type": "execute_result"
    }
   ],
   "source": [
    "scores_ddf = ing.read_parquet('RefinedData\\BeerAdvocate\\\\users_with_scores.parquet')\n",
    "scores_ddf = scores_ddf.compute()\n",
    "scores_ddf.head()"
   ]
  },
  {
   "cell_type": "code",
   "execution_count": 8,
   "metadata": {},
   "outputs": [
    {
     "data": {
      "text/html": [
       "<div>\n",
       "<style scoped>\n",
       "    .dataframe tbody tr th:only-of-type {\n",
       "        vertical-align: middle;\n",
       "    }\n",
       "\n",
       "    .dataframe tbody tr th {\n",
       "        vertical-align: top;\n",
       "    }\n",
       "\n",
       "    .dataframe thead th {\n",
       "        text-align: right;\n",
       "    }\n",
       "</style>\n",
       "<table border=\"1\" class=\"dataframe\">\n",
       "  <thead>\n",
       "    <tr style=\"text-align: right;\">\n",
       "      <th></th>\n",
       "      <th>date</th>\n",
       "      <th>bid</th>\n",
       "      <th>uid</th>\n",
       "      <th>rating</th>\n",
       "      <th>has_review</th>\n",
       "      <th>review</th>\n",
       "      <th>compound</th>\n",
       "    </tr>\n",
       "  </thead>\n",
       "  <tbody>\n",
       "    <tr>\n",
       "      <th>0</th>\n",
       "      <td>2015-08-20 10:00:00</td>\n",
       "      <td>142544</td>\n",
       "      <td>nmann08.184925</td>\n",
       "      <td>2.88</td>\n",
       "      <td>True</td>\n",
       "      <td>From a bottle, pours a piss yellow color with ...</td>\n",
       "      <td>0</td>\n",
       "    </tr>\n",
       "    <tr>\n",
       "      <th>1</th>\n",
       "      <td>2015-11-14 11:00:00</td>\n",
       "      <td>120824</td>\n",
       "      <td>nmann08.184925</td>\n",
       "      <td>3.56</td>\n",
       "      <td>False</td>\n",
       "      <td>None</td>\n",
       "      <td>0</td>\n",
       "    </tr>\n",
       "    <tr>\n",
       "      <th>2</th>\n",
       "      <td>2011-11-18 11:00:00</td>\n",
       "      <td>47581</td>\n",
       "      <td>nmann08.184925</td>\n",
       "      <td>4.50</td>\n",
       "      <td>False</td>\n",
       "      <td>None</td>\n",
       "      <td>0</td>\n",
       "    </tr>\n",
       "    <tr>\n",
       "      <th>3</th>\n",
       "      <td>2013-05-03 10:00:00</td>\n",
       "      <td>93113</td>\n",
       "      <td>nmann08.184925</td>\n",
       "      <td>3.75</td>\n",
       "      <td>False</td>\n",
       "      <td>None</td>\n",
       "      <td>0</td>\n",
       "    </tr>\n",
       "    <tr>\n",
       "      <th>4</th>\n",
       "      <td>2015-01-24 11:00:00</td>\n",
       "      <td>875</td>\n",
       "      <td>nmann08.184925</td>\n",
       "      <td>3.81</td>\n",
       "      <td>False</td>\n",
       "      <td>None</td>\n",
       "      <td>0</td>\n",
       "    </tr>\n",
       "  </tbody>\n",
       "</table>\n",
       "</div>"
      ],
      "text/plain": [
       "                 date     bid             uid  rating  has_review  \\\n",
       "0 2015-08-20 10:00:00  142544  nmann08.184925    2.88        True   \n",
       "1 2015-11-14 11:00:00  120824  nmann08.184925    3.56       False   \n",
       "2 2011-11-18 11:00:00   47581  nmann08.184925    4.50       False   \n",
       "3 2013-05-03 10:00:00   93113  nmann08.184925    3.75       False   \n",
       "4 2015-01-24 11:00:00     875  nmann08.184925    3.81       False   \n",
       "\n",
       "                                              review  compound  \n",
       "0  From a bottle, pours a piss yellow color with ...         0  \n",
       "1                                               None         0  \n",
       "2                                               None         0  \n",
       "3                                               None         0  \n",
       "4                                               None         0  "
      ]
     },
     "execution_count": 8,
     "metadata": {},
     "output_type": "execute_result"
    }
   ],
   "source": [
    "ratings_ddf = ing.read_parquet('RefinedData\\BeerAdvocate\\\\ratings.parquet')\n",
    "ratings_ddf = ratings_ddf.compute()\n",
    "ratings_ddf.head()"
   ]
  },
  {
   "cell_type": "code",
   "execution_count": 13,
   "metadata": {},
   "outputs": [
    {
     "data": {
      "text/html": [
       "<div>\n",
       "<style scoped>\n",
       "    .dataframe tbody tr th:only-of-type {\n",
       "        vertical-align: middle;\n",
       "    }\n",
       "\n",
       "    .dataframe tbody tr th {\n",
       "        vertical-align: top;\n",
       "    }\n",
       "\n",
       "    .dataframe thead th {\n",
       "        text-align: right;\n",
       "    }\n",
       "</style>\n",
       "<table border=\"1\" class=\"dataframe\">\n",
       "  <thead>\n",
       "    <tr style=\"text-align: right;\">\n",
       "      <th></th>\n",
       "      <th>bid</th>\n",
       "      <th>n_ratings</th>\n",
       "      <th>avg_rating</th>\n",
       "      <th>n_reviews</th>\n",
       "      <th>review_rate</th>\n",
       "      <th>ba_score</th>\n",
       "      <th>bros_score</th>\n",
       "      <th>name</th>\n",
       "      <th>style</th>\n",
       "      <th>abv</th>\n",
       "    </tr>\n",
       "  </thead>\n",
       "  <tbody>\n",
       "    <tr>\n",
       "      <th>0</th>\n",
       "      <td>5</td>\n",
       "      <td>1538</td>\n",
       "      <td>3.441203</td>\n",
       "      <td>520</td>\n",
       "      <td>0.338101</td>\n",
       "      <td>78.0</td>\n",
       "      <td>89.0</td>\n",
       "      <td>Amber</td>\n",
       "      <td>Vienna Lager</td>\n",
       "      <td>4.5</td>\n",
       "    </tr>\n",
       "    <tr>\n",
       "      <th>1</th>\n",
       "      <td>6</td>\n",
       "      <td>2660</td>\n",
       "      <td>3.657617</td>\n",
       "      <td>968</td>\n",
       "      <td>0.363910</td>\n",
       "      <td>82.0</td>\n",
       "      <td>90.0</td>\n",
       "      <td>Turbodog</td>\n",
       "      <td>English Brown Ale</td>\n",
       "      <td>5.6</td>\n",
       "    </tr>\n",
       "    <tr>\n",
       "      <th>2</th>\n",
       "      <td>7</td>\n",
       "      <td>2977</td>\n",
       "      <td>3.265694</td>\n",
       "      <td>778</td>\n",
       "      <td>0.261337</td>\n",
       "      <td>74.0</td>\n",
       "      <td>88.0</td>\n",
       "      <td>Purple Haze</td>\n",
       "      <td>Fruit / Vegetable Beer</td>\n",
       "      <td>4.2</td>\n",
       "    </tr>\n",
       "    <tr>\n",
       "      <th>3</th>\n",
       "      <td>8</td>\n",
       "      <td>132</td>\n",
       "      <td>3.290682</td>\n",
       "      <td>70</td>\n",
       "      <td>0.530303</td>\n",
       "      <td>77.0</td>\n",
       "      <td>89.0</td>\n",
       "      <td>Wheat</td>\n",
       "      <td>American Adjunct Lager</td>\n",
       "      <td>4.2</td>\n",
       "    </tr>\n",
       "    <tr>\n",
       "      <th>4</th>\n",
       "      <td>9</td>\n",
       "      <td>215</td>\n",
       "      <td>3.172698</td>\n",
       "      <td>120</td>\n",
       "      <td>0.558140</td>\n",
       "      <td>74.0</td>\n",
       "      <td>83.0</td>\n",
       "      <td>Golden</td>\n",
       "      <td>American Pale Lager</td>\n",
       "      <td>4.2</td>\n",
       "    </tr>\n",
       "  </tbody>\n",
       "</table>\n",
       "</div>"
      ],
      "text/plain": [
       "   bid  n_ratings  avg_rating  n_reviews  review_rate  ba_score  bros_score  \\\n",
       "0    5       1538    3.441203        520     0.338101      78.0        89.0   \n",
       "1    6       2660    3.657617        968     0.363910      82.0        90.0   \n",
       "2    7       2977    3.265694        778     0.261337      74.0        88.0   \n",
       "3    8        132    3.290682         70     0.530303      77.0        89.0   \n",
       "4    9        215    3.172698        120     0.558140      74.0        83.0   \n",
       "\n",
       "          name                   style  abv  \n",
       "0        Amber            Vienna Lager  4.5  \n",
       "1     Turbodog       English Brown Ale  5.6  \n",
       "2  Purple Haze  Fruit / Vegetable Beer  4.2  \n",
       "3        Wheat  American Adjunct Lager  4.2  \n",
       "4       Golden     American Pale Lager  4.2  "
      ]
     },
     "execution_count": 13,
     "metadata": {},
     "output_type": "execute_result"
    }
   ],
   "source": [
    "beers_ddf = ing.read_parquet('RefinedData\\BeerAdvocate\\\\beers.parquet')\n",
    "beers_ddf = beers_ddf.compute()\n",
    "beers_ddf.head()"
   ]
  },
  {
   "attachments": {},
   "cell_type": "markdown",
   "metadata": {},
   "source": [
    "# Goal of the analysis:\n",
    "1) what types of beers are rated more by each categories relative to their number of ratings\n",
    "2) what type of beer each category like more (ie. are the ratings better for some category of beers)"
   ]
  },
  {
   "attachments": {},
   "cell_type": "markdown",
   "metadata": {},
   "source": [
    "## What style of beer are more rated by each category"
   ]
  },
  {
   "cell_type": "code",
   "execution_count": 17,
   "metadata": {},
   "outputs": [],
   "source": [
    "# get user for each category\n",
    "cfm_users = scores_ddf[scores_ddf[\"is_cfm\"] == True]\n",
    "exp_users = scores_ddf[scores_ddf[\"is_exp\"] == True]\n",
    "xpl_users = scores_ddf[scores_ddf[\"is_xpl\"] == True]\n",
    "adv_users = scores_ddf[scores_ddf[\"is_adv\"] == True]\n",
    "\n",
    "# group by rating for each category\n",
    "cfm_ratings = ratings_ddf[ratings_ddf[\"uid\"].isin(cfm_users[\"uid\"])]\n",
    "exp_ratings = ratings_ddf[ratings_ddf[\"uid\"].isin(exp_users[\"uid\"])]\n",
    "xpl_ratings = ratings_ddf[ratings_ddf[\"uid\"].isin(xpl_users[\"uid\"])]\n",
    "adv_ratings = ratings_ddf[ratings_ddf[\"uid\"].isin(adv_users[\"uid\"])]\n",
    "\n"
   ]
  },
  {
   "cell_type": "code",
   "execution_count": 36,
   "metadata": {},
   "outputs": [
    {
     "data": {
      "text/html": [
       "<div>\n",
       "<style scoped>\n",
       "    .dataframe tbody tr th:only-of-type {\n",
       "        vertical-align: middle;\n",
       "    }\n",
       "\n",
       "    .dataframe tbody tr th {\n",
       "        vertical-align: top;\n",
       "    }\n",
       "\n",
       "    .dataframe thead th {\n",
       "        text-align: right;\n",
       "    }\n",
       "</style>\n",
       "<table border=\"1\" class=\"dataframe\">\n",
       "  <thead>\n",
       "    <tr style=\"text-align: right;\">\n",
       "      <th></th>\n",
       "      <th>date</th>\n",
       "      <th>bid</th>\n",
       "      <th>uid</th>\n",
       "      <th>rating</th>\n",
       "      <th>has_review</th>\n",
       "      <th>review</th>\n",
       "      <th>compound</th>\n",
       "    </tr>\n",
       "  </thead>\n",
       "  <tbody>\n",
       "    <tr>\n",
       "      <th>1862</th>\n",
       "      <td>2014-01-25 11:00:00</td>\n",
       "      <td>19827</td>\n",
       "      <td>jaydoc.265507</td>\n",
       "      <td>3.25</td>\n",
       "      <td>False</td>\n",
       "      <td>None</td>\n",
       "      <td>0</td>\n",
       "    </tr>\n",
       "    <tr>\n",
       "      <th>1863</th>\n",
       "      <td>2014-01-25 11:00:00</td>\n",
       "      <td>20842</td>\n",
       "      <td>jaydoc.265507</td>\n",
       "      <td>3.75</td>\n",
       "      <td>False</td>\n",
       "      <td>None</td>\n",
       "      <td>0</td>\n",
       "    </tr>\n",
       "    <tr>\n",
       "      <th>1864</th>\n",
       "      <td>2013-11-27 11:00:00</td>\n",
       "      <td>4720</td>\n",
       "      <td>jaydoc.265507</td>\n",
       "      <td>3.50</td>\n",
       "      <td>False</td>\n",
       "      <td>None</td>\n",
       "      <td>0</td>\n",
       "    </tr>\n",
       "    <tr>\n",
       "      <th>1865</th>\n",
       "      <td>2013-11-27 11:00:00</td>\n",
       "      <td>41037</td>\n",
       "      <td>jaydoc.265507</td>\n",
       "      <td>4.00</td>\n",
       "      <td>False</td>\n",
       "      <td>None</td>\n",
       "      <td>0</td>\n",
       "    </tr>\n",
       "    <tr>\n",
       "      <th>1866</th>\n",
       "      <td>2013-11-27 11:00:00</td>\n",
       "      <td>41012</td>\n",
       "      <td>jaydoc.265507</td>\n",
       "      <td>4.00</td>\n",
       "      <td>False</td>\n",
       "      <td>None</td>\n",
       "      <td>0</td>\n",
       "    </tr>\n",
       "    <tr>\n",
       "      <th>...</th>\n",
       "      <td>...</td>\n",
       "      <td>...</td>\n",
       "      <td>...</td>\n",
       "      <td>...</td>\n",
       "      <td>...</td>\n",
       "      <td>...</td>\n",
       "      <td>...</td>\n",
       "    </tr>\n",
       "    <tr>\n",
       "      <th>154230</th>\n",
       "      <td>2005-11-15 11:00:00</td>\n",
       "      <td>1505</td>\n",
       "      <td>tboom29.8226</td>\n",
       "      <td>3.59</td>\n",
       "      <td>True</td>\n",
       "      <td>This beer pours a very dark auburn red. The no...</td>\n",
       "      <td>0</td>\n",
       "    </tr>\n",
       "    <tr>\n",
       "      <th>154284</th>\n",
       "      <td>2005-11-17 11:00:00</td>\n",
       "      <td>25684</td>\n",
       "      <td>skittlebrau.41838</td>\n",
       "      <td>4.43</td>\n",
       "      <td>True</td>\n",
       "      <td>Wow, where do I start with this one. Well, as ...</td>\n",
       "      <td>0</td>\n",
       "    </tr>\n",
       "    <tr>\n",
       "      <th>154328</th>\n",
       "      <td>2013-10-25 10:00:00</td>\n",
       "      <td>70471</td>\n",
       "      <td>hipboy221.727431</td>\n",
       "      <td>3.75</td>\n",
       "      <td>False</td>\n",
       "      <td>None</td>\n",
       "      <td>0</td>\n",
       "    </tr>\n",
       "    <tr>\n",
       "      <th>154334</th>\n",
       "      <td>2015-01-29 11:00:00</td>\n",
       "      <td>141790</td>\n",
       "      <td>johlac66.829174</td>\n",
       "      <td>4.38</td>\n",
       "      <td>False</td>\n",
       "      <td>None</td>\n",
       "      <td>0</td>\n",
       "    </tr>\n",
       "    <tr>\n",
       "      <th>154335</th>\n",
       "      <td>2014-10-06 10:00:00</td>\n",
       "      <td>64097</td>\n",
       "      <td>johlac66.829174</td>\n",
       "      <td>3.80</td>\n",
       "      <td>False</td>\n",
       "      <td>None</td>\n",
       "      <td>0</td>\n",
       "    </tr>\n",
       "  </tbody>\n",
       "</table>\n",
       "<p>1271046 rows × 7 columns</p>\n",
       "</div>"
      ],
      "text/plain": [
       "                      date     bid                uid  rating  has_review  \\\n",
       "1862   2014-01-25 11:00:00   19827      jaydoc.265507    3.25       False   \n",
       "1863   2014-01-25 11:00:00   20842      jaydoc.265507    3.75       False   \n",
       "1864   2013-11-27 11:00:00    4720      jaydoc.265507    3.50       False   \n",
       "1865   2013-11-27 11:00:00   41037      jaydoc.265507    4.00       False   \n",
       "1866   2013-11-27 11:00:00   41012      jaydoc.265507    4.00       False   \n",
       "...                    ...     ...                ...     ...         ...   \n",
       "154230 2005-11-15 11:00:00    1505       tboom29.8226    3.59        True   \n",
       "154284 2005-11-17 11:00:00   25684  skittlebrau.41838    4.43        True   \n",
       "154328 2013-10-25 10:00:00   70471   hipboy221.727431    3.75       False   \n",
       "154334 2015-01-29 11:00:00  141790    johlac66.829174    4.38       False   \n",
       "154335 2014-10-06 10:00:00   64097    johlac66.829174    3.80       False   \n",
       "\n",
       "                                                   review  compound  \n",
       "1862                                                 None         0  \n",
       "1863                                                 None         0  \n",
       "1864                                                 None         0  \n",
       "1865                                                 None         0  \n",
       "1866                                                 None         0  \n",
       "...                                                   ...       ...  \n",
       "154230  This beer pours a very dark auburn red. The no...         0  \n",
       "154284  Wow, where do I start with this one. Well, as ...         0  \n",
       "154328                                               None         0  \n",
       "154334                                               None         0  \n",
       "154335                                               None         0  \n",
       "\n",
       "[1271046 rows x 7 columns]"
      ]
     },
     "execution_count": 36,
     "metadata": {},
     "output_type": "execute_result"
    }
   ],
   "source": [
    "cfm_ratings"
   ]
  },
  {
   "cell_type": "code",
   "execution_count": 112,
   "metadata": {},
   "outputs": [],
   "source": [
    "# get style of beer for each bid\n",
    "cfm_ratings = cfm_ratings.merge(beers_ddf[[\"bid\", \"style\"]], on=\"bid\")\n",
    "exp_ratings = exp_ratings.merge(beers_ddf[[\"bid\", \"style\"]], on=\"bid\")\n",
    "xpl_ratings = xpl_ratings.merge(beers_ddf[[\"bid\", \"style\"]], on=\"bid\")\n",
    "adv_ratings = adv_ratings.merge(beers_ddf[[\"bid\", \"style\"]], on=\"bid\")"
   ]
  },
  {
   "cell_type": "code",
   "execution_count": 39,
   "metadata": {},
   "outputs": [
    {
     "data": {
      "text/plain": [
       "(1271046, 8)"
      ]
     },
     "execution_count": 39,
     "metadata": {},
     "output_type": "execute_result"
    }
   ],
   "source": [
    "cfm_ratings.shape"
   ]
  },
  {
   "cell_type": "code",
   "execution_count": 47,
   "metadata": {},
   "outputs": [],
   "source": [
    "# count of each style for each category\n",
    "cfm_style_count = cfm_ratings.groupby(\"style\").count()[\"uid\"]\n",
    "exp_style_count = exp_ratings.groupby(\"style\").count()[\"uid\"]\n",
    "xpl_style_count = xpl_ratings.groupby(\"style\").count()[\"uid\"]\n",
    "adv_style_count = adv_ratings.groupby(\"style\").count()[\"uid\"]\n"
   ]
  },
  {
   "cell_type": "code",
   "execution_count": 49,
   "metadata": {},
   "outputs": [],
   "source": [
    "# normalize count of each style for each category by number of ratings for each category\n",
    "cfm_style_count = cfm_style_count / cfm_ratings.shape[0]\n",
    "exp_style_count = exp_style_count / exp_ratings.shape[0]\n",
    "xpl_style_count = xpl_style_count / xpl_ratings.shape[0]\n",
    "adv_style_count = adv_style_count / adv_ratings.shape[0]"
   ]
  },
  {
   "cell_type": "code",
   "execution_count": 52,
   "metadata": {},
   "outputs": [],
   "source": [
    "# sort by highest count\n",
    "cfm_style_count = cfm_style_count.sort_values(ascending=False)\n",
    "exp_style_count = exp_style_count.sort_values(ascending=False)\n",
    "xpl_style_count = xpl_style_count.sort_values(ascending=False)\n",
    "adv_style_count = adv_style_count.sort_values(ascending=False)"
   ]
  },
  {
   "cell_type": "code",
   "execution_count": 54,
   "metadata": {},
   "outputs": [],
   "source": [
    "# get top 10 styles for each category\n",
    "cfm_style_count = cfm_style_count[:10]\n",
    "exp_style_count = exp_style_count[:10]\n",
    "xpl_style_count = xpl_style_count[:10]\n",
    "adv_style_count = adv_style_count[:10]"
   ]
  },
  {
   "attachments": {},
   "cell_type": "markdown",
   "metadata": {},
   "source": [
    "Goal: obtain the percentage of rating for each style of beer(percent in terms of their total number of rating) for each category of users"
   ]
  },
  {
   "cell_type": "code",
   "execution_count": 28,
   "metadata": {},
   "outputs": [
    {
     "data": {
      "text/plain": [
       "American IPA                        0.010845\n",
       "American Pale Ale (APA)             0.005314\n",
       "American Double / Imperial IPA      0.005147\n",
       "Saison / Farmhouse Ale              0.004995\n",
       "American Wild Ale                   0.003772\n",
       "American Porter                     0.003158\n",
       "American Double / Imperial Stout    0.003091\n",
       "American Amber / Red Ale            0.002592\n",
       "American Stout                      0.002288\n",
       "American Brown Ale                  0.001748\n",
       "Name: style, dtype: float64"
      ]
     },
     "execution_count": 28,
     "metadata": {},
     "output_type": "execute_result"
    }
   ],
   "source": [
    "cfm_styles"
   ]
  },
  {
   "cell_type": "code",
   "execution_count": 62,
   "metadata": {},
   "outputs": [
    {
     "data": {
      "image/png": "[encoded data removed]",
      "text/plain": [
       "<Figure size 1500x1500 with 4 Axes>"
      ]
     },
     "metadata": {},
     "output_type": "display_data"
    }
   ],
   "source": [
    "# plot top 10 styles for each category using style_count using seaborn on 4 subplots\n",
    "fig, axs = plt.subplots(2, 2, figsize=(15, 15))\n",
    "sns.barplot(x=cfm_style_count.values, y=cfm_style_count.index, ax=axs[0, 0])\n",
    "sns.barplot(x=exp_style_count.values, y=exp_style_count.index, ax=axs[0, 1])\n",
    "sns.barplot(x=xpl_style_count.values, y=xpl_style_count.index, ax=axs[1, 0])\n",
    "sns.barplot(x=adv_style_count.values, y=adv_style_count.index, ax=axs[1, 1])\n",
    "\n",
    "axs[0, 0].set_title(\"CFM\")\n",
    "axs[0, 1].set_title(\"EXP\")\n",
    "axs[1, 0].set_title(\"XPL\")\n",
    "axs[1, 1].set_title(\"ADV\")\n",
    "\n",
    "axs[0, 0].set_xlabel(\"Percentage of Ratings\")\n",
    "axs[0, 1].set_xlabel(\"Percentage of Ratings\")\n",
    "axs[1, 0].set_xlabel(\"Percentage of Ratings\")\n",
    "axs[1, 1].set_xlabel(\"Percentage of Ratings\")\n",
    "\n",
    "axs[0, 0].set_ylabel(\"Style\")\n",
    "axs[0, 1].set_ylabel(\"Style\")\n",
    "axs[1, 0].set_ylabel(\"Style\")\n",
    "axs[1, 1].set_ylabel(\"Style\")\n",
    "\n",
    "plt.show()\n",
    "\n",
    "\n",
    "\n",
    "\n",
    "\n"
   ]
  },
  {
   "cell_type": "code",
   "execution_count": 66,
   "metadata": {},
   "outputs": [
    {
     "data": {
      "image/png": "[encoded data removed]",
      "text/plain": [
       "<Figure size 1500x1500 with 4 Axes>"
      ]
     },
     "metadata": {},
     "output_type": "display_data"
    }
   ],
   "source": [
    "# same plot as above but with vertical bars and make the text diagonal under the bars\n",
    "fig, axs = plt.subplots(2, 2, figsize=(15, 15))\n",
    "sns.barplot(y=cfm_style_count.values, x=cfm_style_count.index, ax=axs[0, 0])\n",
    "sns.barplot(y=exp_style_count.values, x=exp_style_count.index, ax=axs[0, 1])\n",
    "sns.barplot(y=xpl_style_count.values, x=xpl_style_count.index, ax=axs[1, 0])\n",
    "sns.barplot(y=adv_style_count.values, x=adv_style_count.index, ax=axs[1, 1])\n",
    "\n",
    "axs[0, 0].set_title(\"CFM\")\n",
    "axs[0, 1].set_title(\"EXP\")\n",
    "axs[1, 0].set_title(\"XPL\")\n",
    "axs[1, 1].set_title(\"ADV\")\n",
    "\n",
    "axs[0, 0].set_ylabel(\"Percentage of Ratings\")\n",
    "axs[0, 1].set_ylabel(\"Percentage of Ratings\")\n",
    "axs[1, 0].set_ylabel(\"Percentage of Ratings\")\n",
    "axs[1, 1].set_ylabel(\"Percentage of Ratings\")\n",
    "\n",
    "axs[0, 0].set_xlabel(\"Style\")\n",
    "axs[0, 1].set_xlabel(\"Style\")\n",
    "axs[1, 0].set_xlabel(\"Style\")\n",
    "axs[1, 1].set_xlabel(\"Style\")\n",
    "\n",
    "plt.setp(axs[0, 0].get_xticklabels(), rotation=45, ha=\"right\", rotation_mode=\"anchor\")\n",
    "plt.setp(axs[0, 1].get_xticklabels(), rotation=45, ha=\"right\", rotation_mode=\"anchor\")\n",
    "plt.setp(axs[1, 0].get_xticklabels(), rotation=45, ha=\"right\", rotation_mode=\"anchor\")\n",
    "plt.setp(axs[1, 1].get_xticklabels(), rotation=45, ha=\"right\", rotation_mode=\"anchor\")\n",
    "\n",
    "plt.show()"
   ]
  },
  {
   "cell_type": "code",
   "execution_count": 80,
   "metadata": {},
   "outputs": [
    {
     "data": {
      "application/vnd.plotly.v1+json": {
       "config": {
        "plotlyServerURL": "https://plot.ly"
       },
       "data": [
        {
         "marker": {
          "color": "#FF0000"
         },
         "name": "CFM",
         "orientation": "v",
         "type": "bar",
         "x": [
          "American IPA",
          "American Double / Imperial IPA",
          "American Double / Imperial Stout",
          "American Pale Ale (APA)",
          "Saison / Farmhouse Ale",
          "American Wild Ale",
          "American Porter",
          "Russian Imperial Stout",
          "American Amber / Red Ale",
          "Fruit / Vegetable Beer"
         ],
         "y": [
          0.12961371972375507,
          0.09501937774085281,
          0.06328095127949736,
          0.049198848822151205,
          0.039140204209761095,
          0.03361247350607295,
          0.03152364273204904,
          0.029796718608138494,
          0.02377805366603569,
          0.018532767500153417
         ]
        },
        {
         "marker": {
          "color": "#00FF00"
         },
         "name": "EXP",
         "orientation": "v",
         "type": "bar",
         "x": [
          "American Double / Imperial IPA",
          "American IPA",
          "American Double / Imperial Stout",
          "American Pale Ale (APA)",
          "Russian Imperial Stout",
          "American Wild Ale",
          "American Porter",
          "Saison / Farmhouse Ale",
          "American Amber / Red Ale",
          "Quadrupel (Quad)"
         ],
         "y": [
          0.1735262362340747,
          0.15024832649535738,
          0.10408119196717772,
          0.051176851651911034,
          0.03796156337724034,
          0.029280932843878213,
          0.02595551716691859,
          0.02487583675232131,
          0.019822932412006045,
          0.01705895055063701
         ]
        },
        {
         "marker": {
          "color": "#0000FF"
         },
         "name": "XPL",
         "orientation": "v",
         "type": "bar",
         "x": [
          "American IPA",
          "American Double / Imperial IPA",
          "American Pale Ale (APA)",
          "American Double / Imperial Stout",
          "Saison / Farmhouse Ale",
          "American Wild Ale",
          "American Porter",
          "American Amber / Red Ale",
          "Russian Imperial Stout",
          "Fruit / Vegetable Beer"
         ],
         "y": [
          0.10818623465937088,
          0.06645426821856286,
          0.04843716368022115,
          0.046616774970900464,
          0.04497783217202021,
          0.03878495279738006,
          0.03172160742101914,
          0.02549492929835578,
          0.02474305539496209,
          0.019634107799031457
         ]
        },
        {
         "marker": {
          "color": "#FFFF00"
         },
         "name": "ADV",
         "orientation": "v",
         "type": "bar",
         "x": [
          "American Adjunct Lager",
          "American IPA",
          "Light Lager",
          "American Pale Ale (APA)",
          "Fruit / Vegetable Beer",
          "Euro Pale Lager",
          "American Amber / Red Ale",
          "Witbier",
          "American Double / Imperial IPA",
          "German Pilsener"
         ],
         "y": [
          0.07892633132456033,
          0.0698589013986874,
          0.04366286155119017,
          0.04000682013841527,
          0.038517011214096446,
          0.0315375498932257,
          0.028359477197258526,
          0.027903869590009057,
          0.026514685658702384,
          0.022713297033798818
         ]
        }
       ],
       "layout": {
        "barmode": "group",
        "colorway": [
         "#FF0000",
         "#00FF00",
         "#0000FF",
         "#FFFF00"
        ],
        "template": {
         "data": {
          "bar": [
           {
            "error_x": {
             "color": "#2a3f5f"
            },
            "error_y": {
             "color": "#2a3f5f"
            },
            "marker": {
             "line": {
              "color": "#E5ECF6",
              "width": 0.5
             },
             "pattern": {
              "fillmode": "overlay",
              "size": 10,
              "solidity": 0.2
             }
            },
            "type": "bar"
           }
          ],
          "barpolar": [
           {
            "marker": {
             "line": {
              "color": "#E5ECF6",
              "width": 0.5
             },
             "pattern": {
              "fillmode": "overlay",
              "size": 10,
              "solidity": 0.2
             }
            },
            "type": "barpolar"
           }
          ],
          "carpet": [
           {
            "aaxis": {
             "endlinecolor": "#2a3f5f",
             "gridcolor": "white",
             "linecolor": "white",
             "minorgridcolor": "white",
             "startlinecolor": "#2a3f5f"
            },
            "baxis": {
             "endlinecolor": "#2a3f5f",
             "gridcolor": "white",
             "linecolor": "white",
             "minorgridcolor": "white",
             "startlinecolor": "#2a3f5f"
            },
            "type": "carpet"
           }
          ],
          "choropleth": [
           {
            "colorbar": {
             "outlinewidth": 0,
             "ticks": ""
            },
            "type": "choropleth"
           }
          ],
          "contour": [
           {
            "colorbar": {
             "outlinewidth": 0,
             "ticks": ""
            },
            "colorscale": [
             [
              0,
              "#0d0887"
             ],
             [
              0.1111111111111111,
              "#46039f"
             ],
             [
              0.2222222222222222,
              "#7201a8"
             ],
             [
              0.3333333333333333,
              "#9c179e"
             ],
             [
              0.4444444444444444,
              "#bd3786"
             ],
             [
              0.5555555555555556,
              "#d8576b"
             ],
             [
              0.6666666666666666,
              "#ed7953"
             ],
             [
              0.7777777777777778,
              "#fb9f3a"
             ],
             [
              0.8888888888888888,
              "#fdca26"
             ],
             [
              1,
              "#f0f921"
             ]
            ],
            "type": "contour"
           }
          ],
          "contourcarpet": [
           {
            "colorbar": {
             "outlinewidth": 0,
             "ticks": ""
            },
            "type": "contourcarpet"
           }
          ],
          "heatmap": [
           {
            "colorbar": {
             "outlinewidth": 0,
             "ticks": ""
            },
            "colorscale": [
             [
              0,
              "#0d0887"
             ],
             [
              0.1111111111111111,
              "#46039f"
             ],
             [
              0.2222222222222222,
              "#7201a8"
             ],
             [
              0.3333333333333333,
              "#9c179e"
             ],
             [
              0.4444444444444444,
              "#bd3786"
             ],
             [
              0.5555555555555556,
              "#d8576b"
             ],
             [
              0.6666666666666666,
              "#ed7953"
             ],
             [
              0.7777777777777778,
              "#fb9f3a"
             ],
             [
              0.8888888888888888,
              "#fdca26"
             ],
             [
              1,
              "#f0f921"
             ]
            ],
            "type": "heatmap"
           }
          ],
          "heatmapgl": [
           {
            "colorbar": {
             "outlinewidth": 0,
             "ticks": ""
            },
            "colorscale": [
             [
              0,
              "#0d0887"
             ],
             [
              0.1111111111111111,
              "#46039f"
             ],
             [
              0.2222222222222222,
              "#7201a8"
             ],
             [
              0.3333333333333333,
              "#9c179e"
             ],
             [
              0.4444444444444444,
              "#bd3786"
             ],
             [
              0.5555555555555556,
              "#d8576b"
             ],
             [
              0.6666666666666666,
              "#ed7953"
             ],
             [
              0.7777777777777778,
              "#fb9f3a"
             ],
             [
              0.8888888888888888,
              "#fdca26"
             ],
             [
              1,
              "#f0f921"
             ]
            ],
            "type": "heatmapgl"
           }
          ],
          "histogram": [
           {
            "marker": {
             "pattern": {
              "fillmode": "overlay",
              "size": 10,
              "solidity": 0.2
             }
            },
            "type": "histogram"
           }
          ],
          "histogram2d": [
           {
            "colorbar": {
             "outlinewidth": 0,
             "ticks": ""
            },
            "colorscale": [
             [
              0,
              "#0d0887"
             ],
             [
              0.1111111111111111,
              "#46039f"
             ],
             [
              0.2222222222222222,
              "#7201a8"
             ],
             [
              0.3333333333333333,
              "#9c179e"
             ],
             [
              0.4444444444444444,
              "#bd3786"
             ],
             [
              0.5555555555555556,
              "#d8576b"
             ],
             [
              0.6666666666666666,
              "#ed7953"
             ],
             [
              0.7777777777777778,
              "#fb9f3a"
             ],
             [
              0.8888888888888888,
              "#fdca26"
             ],
             [
              1,
              "#f0f921"
             ]
            ],
            "type": "histogram2d"
           }
          ],
          "histogram2dcontour": [
           {
            "colorbar": {
             "outlinewidth": 0,
             "ticks": ""
            },
            "colorscale": [
             [
              0,
              "#0d0887"
             ],
             [
              0.1111111111111111,
              "#46039f"
             ],
             [
              0.2222222222222222,
              "#7201a8"
             ],
             [
              0.3333333333333333,
              "#9c179e"
             ],
             [
              0.4444444444444444,
              "#bd3786"
             ],
             [
              0.5555555555555556,
              "#d8576b"
             ],
             [
              0.6666666666666666,
              "#ed7953"
             ],
             [
              0.7777777777777778,
              "#fb9f3a"
             ],
             [
              0.8888888888888888,
              "#fdca26"
             ],
             [
              1,
              "#f0f921"
             ]
            ],
            "type": "histogram2dcontour"
           }
          ],
          "mesh3d": [
           {
            "colorbar": {
             "outlinewidth": 0,
             "ticks": ""
            },
            "type": "mesh3d"
           }
          ],
          "parcoords": [
           {
            "line": {
             "colorbar": {
              "outlinewidth": 0,
              "ticks": ""
             }
            },
            "type": "parcoords"
           }
          ],
          "pie": [
           {
            "automargin": true,
            "type": "pie"
           }
          ],
          "scatter": [
           {
            "fillpattern": {
             "fillmode": "overlay",
             "size": 10,
             "solidity": 0.2
            },
            "type": "scatter"
           }
          ],
          "scatter3d": [
           {
            "line": {
             "colorbar": {
              "outlinewidth": 0,
              "ticks": ""
             }
            },
            "marker": {
             "colorbar": {
              "outlinewidth": 0,
              "ticks": ""
             }
            },
            "type": "scatter3d"
           }
          ],
          "scattercarpet": [
           {
            "marker": {
             "colorbar": {
              "outlinewidth": 0,
              "ticks": ""
             }
            },
            "type": "scattercarpet"
           }
          ],
          "scattergeo": [
           {
            "marker": {
             "colorbar": {
              "outlinewidth": 0,
              "ticks": ""
             }
            },
            "type": "scattergeo"
           }
          ],
          "scattergl": [
           {
            "marker": {
             "colorbar": {
              "outlinewidth": 0,
              "ticks": ""
             }
            },
            "type": "scattergl"
           }
          ],
          "scattermapbox": [
           {
            "marker": {
             "colorbar": {
              "outlinewidth": 0,
              "ticks": ""
             }
            },
            "type": "scattermapbox"
           }
          ],
          "scatterpolar": [
           {
            "marker": {
             "colorbar": {
              "outlinewidth": 0,
              "ticks": ""
             }
            },
            "type": "scatterpolar"
           }
          ],
          "scatterpolargl": [
           {
            "marker": {
             "colorbar": {
              "outlinewidth": 0,
              "ticks": ""
             }
            },
            "type": "scatterpolargl"
           }
          ],
          "scatterternary": [
           {
            "marker": {
             "colorbar": {
              "outlinewidth": 0,
              "ticks": ""
             }
            },
            "type": "scatterternary"
           }
          ],
          "surface": [
           {
            "colorbar": {
             "outlinewidth": 0,
             "ticks": ""
            },
            "colorscale": [
             [
              0,
              "#0d0887"
             ],
             [
              0.1111111111111111,
              "#46039f"
             ],
             [
              0.2222222222222222,
              "#7201a8"
             ],
             [
              0.3333333333333333,
              "#9c179e"
             ],
             [
              0.4444444444444444,
              "#bd3786"
             ],
             [
              0.5555555555555556,
              "#d8576b"
             ],
             [
              0.6666666666666666,
              "#ed7953"
             ],
             [
              0.7777777777777778,
              "#fb9f3a"
             ],
             [
              0.8888888888888888,
              "#fdca26"
             ],
             [
              1,
              "#f0f921"
             ]
            ],
            "type": "surface"
           }
          ],
          "table": [
           {
            "cells": {
             "fill": {
              "color": "#EBF0F8"
             },
             "line": {
              "color": "white"
             }
            },
            "header": {
             "fill": {
              "color": "#C8D4E3"
             },
             "line": {
              "color": "white"
             }
            },
            "type": "table"
           }
          ]
         },
         "layout": {
          "annotationdefaults": {
           "arrowcolor": "#2a3f5f",
           "arrowhead": 0,
           "arrowwidth": 1
          },
          "autotypenumbers": "strict",
          "coloraxis": {
           "colorbar": {
            "outlinewidth": 0,
            "ticks": ""
           }
          },
          "colorscale": {
           "diverging": [
            [
             0,
             "#8e0152"
            ],
            [
             0.1,
             "#c51b7d"
            ],
            [
             0.2,
             "#de77ae"
            ],
            [
             0.3,
             "#f1b6da"
            ],
            [
             0.4,
             "#fde0ef"
            ],
            [
             0.5,
             "#f7f7f7"
            ],
            [
             0.6,
             "#e6f5d0"
            ],
            [
             0.7,
             "#b8e186"
            ],
            [
             0.8,
             "#7fbc41"
            ],
            [
             0.9,
             "#4d9221"
            ],
            [
             1,
             "#276419"
            ]
           ],
           "sequential": [
            [
             0,
             "#0d0887"
            ],
            [
             0.1111111111111111,
             "#46039f"
            ],
            [
             0.2222222222222222,
             "#7201a8"
            ],
            [
             0.3333333333333333,
             "#9c179e"
            ],
            [
             0.4444444444444444,
             "#bd3786"
            ],
            [
             0.5555555555555556,
             "#d8576b"
            ],
            [
             0.6666666666666666,
             "#ed7953"
            ],
            [
             0.7777777777777778,
             "#fb9f3a"
            ],
            [
             0.8888888888888888,
             "#fdca26"
            ],
            [
             1,
             "#f0f921"
            ]
           ],
           "sequentialminus": [
            [
             0,
             "#0d0887"
            ],
            [
             0.1111111111111111,
             "#46039f"
            ],
            [
             0.2222222222222222,
             "#7201a8"
            ],
            [
             0.3333333333333333,
             "#9c179e"
            ],
            [
             0.4444444444444444,
             "#bd3786"
            ],
            [
             0.5555555555555556,
             "#d8576b"
            ],
            [
             0.6666666666666666,
             "#ed7953"
            ],
            [
             0.7777777777777778,
             "#fb9f3a"
            ],
            [
             0.8888888888888888,
             "#fdca26"
            ],
            [
             1,
             "#f0f921"
            ]
           ]
          },
          "colorway": [
           "#636efa",
           "#EF553B",
           "#00cc96",
           "#ab63fa",
           "#FFA15A",
           "#19d3f3",
           "#FF6692",
           "#B6E880",
           "#FF97FF",
           "#FECB52"
          ],
          "font": {
           "color": "#2a3f5f"
          },
          "geo": {
           "bgcolor": "white",
           "lakecolor": "white",
           "landcolor": "#E5ECF6",
           "showlakes": true,
           "showland": true,
           "subunitcolor": "white"
          },
          "hoverlabel": {
           "align": "left"
          },
          "hovermode": "closest",
          "mapbox": {
           "style": "light"
          },
          "paper_bgcolor": "white",
          "plot_bgcolor": "#E5ECF6",
          "polar": {
           "angularaxis": {
            "gridcolor": "white",
            "linecolor": "white",
            "ticks": ""
           },
           "bgcolor": "#E5ECF6",
           "radialaxis": {
            "gridcolor": "white",
            "linecolor": "white",
            "ticks": ""
           }
          },
          "scene": {
           "xaxis": {
            "backgroundcolor": "#E5ECF6",
            "gridcolor": "white",
            "gridwidth": 2,
            "linecolor": "white",
            "showbackground": true,
            "ticks": "",
            "zerolinecolor": "white"
           },
           "yaxis": {
            "backgroundcolor": "#E5ECF6",
            "gridcolor": "white",
            "gridwidth": 2,
            "linecolor": "white",
            "showbackground": true,
            "ticks": "",
            "zerolinecolor": "white"
           },
           "zaxis": {
            "backgroundcolor": "#E5ECF6",
            "gridcolor": "white",
            "gridwidth": 2,
            "linecolor": "white",
            "showbackground": true,
            "ticks": "",
            "zerolinecolor": "white"
           }
          },
          "shapedefaults": {
           "line": {
            "color": "#2a3f5f"
           }
          },
          "ternary": {
           "aaxis": {
            "gridcolor": "white",
            "linecolor": "white",
            "ticks": ""
           },
           "baxis": {
            "gridcolor": "white",
            "linecolor": "white",
            "ticks": ""
           },
           "bgcolor": "#E5ECF6",
           "caxis": {
            "gridcolor": "white",
            "linecolor": "white",
            "ticks": ""
           }
          },
          "title": {
           "x": 0.05
          },
          "xaxis": {
           "automargin": true,
           "gridcolor": "white",
           "linecolor": "white",
           "ticks": "",
           "title": {
            "standoff": 15
           },
           "zerolinecolor": "white",
           "zerolinewidth": 2
          },
          "yaxis": {
           "automargin": true,
           "gridcolor": "white",
           "linecolor": "white",
           "ticks": "",
           "title": {
            "standoff": 15
           },
           "zerolinecolor": "white",
           "zerolinewidth": 2
          }
         }
        },
        "title": {
         "text": "Top 10 rated beer styles for each Category"
        },
        "xaxis": {
         "categoryarray": [
          "American IPA",
          "American Double / Imperial IPA",
          "American Double / Imperial Stout",
          "American Pale Ale (APA)",
          "Saison / Farmhouse Ale",
          "American Wild Ale",
          "American Porter",
          "Russian Imperial Stout",
          "American Amber / Red Ale",
          "Fruit / Vegetable Beer"
         ],
         "categoryorder": "array"
        },
        "yaxis": {
         "title": {
          "text": "Percentage of Ratings"
         }
        }
       }
      }
     },
     "metadata": {},
     "output_type": "display_data"
    }
   ],
   "source": [
    "# create interactive vertical bar plot of top 10 styles for each category using style_count\n",
    "# you can click on a category to display it and the plot are superimposed on each other\n",
    "\n",
    "import plotly.graph_objects as go\n",
    "\n",
    "fig = go.Figure()\n",
    "\n",
    "\n",
    "fig.add_trace(go.Bar(\n",
    "    y=cfm_style_count.values,\n",
    "    x=cfm_style_count.index,\n",
    "    name=\"CFM\",\n",
    "    orientation='v',\n",
    "    marker_color='#FF0000'\n",
    "))\n",
    "fig.add_trace(go.Bar(\n",
    "    y=exp_style_count.values,\n",
    "    x=exp_style_count.index,\n",
    "    name=\"EXP\",\n",
    "    orientation='v',\n",
    "    marker_color='#00FF00'\n",
    "))\n",
    "fig.add_trace(go.Bar(\n",
    "    y=xpl_style_count.values,\n",
    "    x=xpl_style_count.index,\n",
    "    name=\"XPL\",\n",
    "    orientation='v',\n",
    "\n",
    "    marker_color='#0000FF'\n",
    "))\n",
    "fig.add_trace(go.Bar(\n",
    "    y=adv_style_count.values,\n",
    "    x=adv_style_count.index,\n",
    "    name=\"ADV\",\n",
    "    orientation='v',\n",
    "    marker_color='#FFFF00'\n",
    "))\n",
    "\n",
    "\n",
    "\n",
    "\n",
    "# set the x-axis to be the style names\n",
    "fig.update_layout(xaxis={'categoryorder':'array', 'categoryarray':cfm_style_count.index})\n",
    "\n",
    "# set the y-axis to be the percentage of ratings\n",
    "fig.update_layout(yaxis_title=\"Percentage of Ratings\")\n",
    "\n",
    "# set the title\n",
    "fig.update_layout(title_text=\"Top 10 rated beer styles for each Category\")\n",
    "\n",
    "fig.update_layout(barmode='group')\n",
    "fig.show()\n"
   ]
  },
  {
   "cell_type": "code",
   "execution_count": 83,
   "metadata": {},
   "outputs": [
    {
     "data": {
      "application/vnd.plotly.v1+json": {
       "config": {
        "plotlyServerURL": "https://plot.ly"
       },
       "data": [
        {
         "marker": {
          "color": "#FF0000"
         },
         "name": "CFM",
         "orientation": "v",
         "type": "bar",
         "x": [
          "American IPA",
          "American Double / Imperial IPA",
          "American Double / Imperial Stout",
          "American Pale Ale (APA)",
          "Saison / Farmhouse Ale",
          "American Wild Ale",
          "American Porter",
          "Russian Imperial Stout",
          "American Amber / Red Ale",
          "Fruit / Vegetable Beer"
         ],
         "y": [
          0.12961371972375507,
          0.09501937774085281,
          0.06328095127949736,
          0.049198848822151205,
          0.039140204209761095,
          0.03361247350607295,
          0.03152364273204904,
          0.029796718608138494,
          0.02377805366603569,
          0.018532767500153417
         ]
        },
        {
         "marker": {
          "color": "#00FF00"
         },
         "name": "EXP",
         "orientation": "v",
         "type": "bar",
         "x": [
          "American Double / Imperial IPA",
          "American IPA",
          "American Double / Imperial Stout",
          "American Pale Ale (APA)",
          "Russian Imperial Stout",
          "American Wild Ale",
          "American Porter",
          "Saison / Farmhouse Ale",
          "American Amber / Red Ale",
          "Quadrupel (Quad)"
         ],
         "y": [
          0.1735262362340747,
          0.15024832649535738,
          0.10408119196717772,
          0.051176851651911034,
          0.03796156337724034,
          0.029280932843878213,
          0.02595551716691859,
          0.02487583675232131,
          0.019822932412006045,
          0.01705895055063701
         ]
        },
        {
         "marker": {
          "color": "#0000FF"
         },
         "name": "XPL",
         "orientation": "v",
         "type": "bar",
         "x": [
          "American IPA",
          "American Double / Imperial IPA",
          "American Pale Ale (APA)",
          "American Double / Imperial Stout",
          "Saison / Farmhouse Ale",
          "American Wild Ale",
          "American Porter",
          "American Amber / Red Ale",
          "Russian Imperial Stout",
          "Fruit / Vegetable Beer"
         ],
         "y": [
          0.10818623465937088,
          0.06645426821856286,
          0.04843716368022115,
          0.046616774970900464,
          0.04497783217202021,
          0.03878495279738006,
          0.03172160742101914,
          0.02549492929835578,
          0.02474305539496209,
          0.019634107799031457
         ]
        },
        {
         "marker": {
          "color": "#FFFF00"
         },
         "name": "ADV",
         "orientation": "v",
         "type": "bar",
         "x": [
          "American Adjunct Lager",
          "American IPA",
          "Light Lager",
          "American Pale Ale (APA)",
          "Fruit / Vegetable Beer",
          "Euro Pale Lager",
          "American Amber / Red Ale",
          "Witbier",
          "American Double / Imperial IPA",
          "German Pilsener"
         ],
         "y": [
          0.07892633132456033,
          0.0698589013986874,
          0.04366286155119017,
          0.04000682013841527,
          0.038517011214096446,
          0.0315375498932257,
          0.028359477197258526,
          0.027903869590009057,
          0.026514685658702384,
          0.022713297033798818
         ]
        }
       ],
       "layout": {
        "barmode": "group",
        "template": {
         "data": {
          "bar": [
           {
            "error_x": {
             "color": "#2a3f5f"
            },
            "error_y": {
             "color": "#2a3f5f"
            },
            "marker": {
             "line": {
              "color": "#E5ECF6",
              "width": 0.5
             },
             "pattern": {
              "fillmode": "overlay",
              "size": 10,
              "solidity": 0.2
             }
            },
            "type": "bar"
           }
          ],
          "barpolar": [
           {
            "marker": {
             "line": {
              "color": "#E5ECF6",
              "width": 0.5
             },
             "pattern": {
              "fillmode": "overlay",
              "size": 10,
              "solidity": 0.2
             }
            },
            "type": "barpolar"
           }
          ],
          "carpet": [
           {
            "aaxis": {
             "endlinecolor": "#2a3f5f",
             "gridcolor": "white",
             "linecolor": "white",
             "minorgridcolor": "white",
             "startlinecolor": "#2a3f5f"
            },
            "baxis": {
             "endlinecolor": "#2a3f5f",
             "gridcolor": "white",
             "linecolor": "white",
             "minorgridcolor": "white",
             "startlinecolor": "#2a3f5f"
            },
            "type": "carpet"
           }
          ],
          "choropleth": [
           {
            "colorbar": {
             "outlinewidth": 0,
             "ticks": ""
            },
            "type": "choropleth"
           }
          ],
          "contour": [
           {
            "colorbar": {
             "outlinewidth": 0,
             "ticks": ""
            },
            "colorscale": [
             [
              0,
              "#0d0887"
             ],
             [
              0.1111111111111111,
              "#46039f"
             ],
             [
              0.2222222222222222,
              "#7201a8"
             ],
             [
              0.3333333333333333,
              "#9c179e"
             ],
             [
              0.4444444444444444,
              "#bd3786"
             ],
             [
              0.5555555555555556,
              "#d8576b"
             ],
             [
              0.6666666666666666,
              "#ed7953"
             ],
             [
              0.7777777777777778,
              "#fb9f3a"
             ],
             [
              0.8888888888888888,
              "#fdca26"
             ],
             [
              1,
              "#f0f921"
             ]
            ],
            "type": "contour"
           }
          ],
          "contourcarpet": [
           {
            "colorbar": {
             "outlinewidth": 0,
             "ticks": ""
            },
            "type": "contourcarpet"
           }
          ],
          "heatmap": [
           {
            "colorbar": {
             "outlinewidth": 0,
             "ticks": ""
            },
            "colorscale": [
             [
              0,
              "#0d0887"
             ],
             [
              0.1111111111111111,
              "#46039f"
             ],
             [
              0.2222222222222222,
              "#7201a8"
             ],
             [
              0.3333333333333333,
              "#9c179e"
             ],
             [
              0.4444444444444444,
              "#bd3786"
             ],
             [
              0.5555555555555556,
              "#d8576b"
             ],
             [
              0.6666666666666666,
              "#ed7953"
             ],
             [
              0.7777777777777778,
              "#fb9f3a"
             ],
             [
              0.8888888888888888,
              "#fdca26"
             ],
             [
              1,
              "#f0f921"
             ]
            ],
            "type": "heatmap"
           }
          ],
          "heatmapgl": [
           {
            "colorbar": {
             "outlinewidth": 0,
             "ticks": ""
            },
            "colorscale": [
             [
              0,
              "#0d0887"
             ],
             [
              0.1111111111111111,
              "#46039f"
             ],
             [
              0.2222222222222222,
              "#7201a8"
             ],
             [
              0.3333333333333333,
              "#9c179e"
             ],
             [
              0.4444444444444444,
              "#bd3786"
             ],
             [
              0.5555555555555556,
              "#d8576b"
             ],
             [
              0.6666666666666666,
              "#ed7953"
             ],
             [
              0.7777777777777778,
              "#fb9f3a"
             ],
             [
              0.8888888888888888,
              "#fdca26"
             ],
             [
              1,
              "#f0f921"
             ]
            ],
            "type": "heatmapgl"
           }
          ],
          "histogram": [
           {
            "marker": {
             "pattern": {
              "fillmode": "overlay",
              "size": 10,
              "solidity": 0.2
             }
            },
            "type": "histogram"
           }
          ],
          "histogram2d": [
           {
            "colorbar": {
             "outlinewidth": 0,
             "ticks": ""
            },
            "colorscale": [
             [
              0,
              "#0d0887"
             ],
             [
              0.1111111111111111,
              "#46039f"
             ],
             [
              0.2222222222222222,
              "#7201a8"
             ],
             [
              0.3333333333333333,
              "#9c179e"
             ],
             [
              0.4444444444444444,
              "#bd3786"
             ],
             [
              0.5555555555555556,
              "#d8576b"
             ],
             [
              0.6666666666666666,
              "#ed7953"
             ],
             [
              0.7777777777777778,
              "#fb9f3a"
             ],
             [
              0.8888888888888888,
              "#fdca26"
             ],
             [
              1,
              "#f0f921"
             ]
            ],
            "type": "histogram2d"
           }
          ],
          "histogram2dcontour": [
           {
            "colorbar": {
             "outlinewidth": 0,
             "ticks": ""
            },
            "colorscale": [
             [
              0,
              "#0d0887"
             ],
             [
              0.1111111111111111,
              "#46039f"
             ],
             [
              0.2222222222222222,
              "#7201a8"
             ],
             [
              0.3333333333333333,
              "#9c179e"
             ],
             [
              0.4444444444444444,
              "#bd3786"
             ],
             [
              0.5555555555555556,
              "#d8576b"
             ],
             [
              0.6666666666666666,
              "#ed7953"
             ],
             [
              0.7777777777777778,
              "#fb9f3a"
             ],
             [
              0.8888888888888888,
              "#fdca26"
             ],
             [
              1,
              "#f0f921"
             ]
            ],
            "type": "histogram2dcontour"
           }
          ],
          "mesh3d": [
           {
            "colorbar": {
             "outlinewidth": 0,
             "ticks": ""
            },
            "type": "mesh3d"
           }
          ],
          "parcoords": [
           {
            "line": {
             "colorbar": {
              "outlinewidth": 0,
              "ticks": ""
             }
            },
            "type": "parcoords"
           }
          ],
          "pie": [
           {
            "automargin": true,
            "type": "pie"
           }
          ],
          "scatter": [
           {
            "fillpattern": {
             "fillmode": "overlay",
             "size": 10,
             "solidity": 0.2
            },
            "type": "scatter"
           }
          ],
          "scatter3d": [
           {
            "line": {
             "colorbar": {
              "outlinewidth": 0,
              "ticks": ""
             }
            },
            "marker": {
             "colorbar": {
              "outlinewidth": 0,
              "ticks": ""
             }
            },
            "type": "scatter3d"
           }
          ],
          "scattercarpet": [
           {
            "marker": {
             "colorbar": {
              "outlinewidth": 0,
              "ticks": ""
             }
            },
            "type": "scattercarpet"
           }
          ],
          "scattergeo": [
           {
            "marker": {
             "colorbar": {
              "outlinewidth": 0,
              "ticks": ""
             }
            },
            "type": "scattergeo"
           }
          ],
          "scattergl": [
           {
            "marker": {
             "colorbar": {
              "outlinewidth": 0,
              "ticks": ""
             }
            },
            "type": "scattergl"
           }
          ],
          "scattermapbox": [
           {
            "marker": {
             "colorbar": {
              "outlinewidth": 0,
              "ticks": ""
             }
            },
            "type": "scattermapbox"
           }
          ],
          "scatterpolar": [
           {
            "marker": {
             "colorbar": {
              "outlinewidth": 0,
              "ticks": ""
             }
            },
            "type": "scatterpolar"
           }
          ],
          "scatterpolargl": [
           {
            "marker": {
             "colorbar": {
              "outlinewidth": 0,
              "ticks": ""
             }
            },
            "type": "scatterpolargl"
           }
          ],
          "scatterternary": [
           {
            "marker": {
             "colorbar": {
              "outlinewidth": 0,
              "ticks": ""
             }
            },
            "type": "scatterternary"
           }
          ],
          "surface": [
           {
            "colorbar": {
             "outlinewidth": 0,
             "ticks": ""
            },
            "colorscale": [
             [
              0,
              "#0d0887"
             ],
             [
              0.1111111111111111,
              "#46039f"
             ],
             [
              0.2222222222222222,
              "#7201a8"
             ],
             [
              0.3333333333333333,
              "#9c179e"
             ],
             [
              0.4444444444444444,
              "#bd3786"
             ],
             [
              0.5555555555555556,
              "#d8576b"
             ],
             [
              0.6666666666666666,
              "#ed7953"
             ],
             [
              0.7777777777777778,
              "#fb9f3a"
             ],
             [
              0.8888888888888888,
              "#fdca26"
             ],
             [
              1,
              "#f0f921"
             ]
            ],
            "type": "surface"
           }
          ],
          "table": [
           {
            "cells": {
             "fill": {
              "color": "#EBF0F8"
             },
             "line": {
              "color": "white"
             }
            },
            "header": {
             "fill": {
              "color": "#C8D4E3"
             },
             "line": {
              "color": "white"
             }
            },
            "type": "table"
           }
          ]
         },
         "layout": {
          "annotationdefaults": {
           "arrowcolor": "#2a3f5f",
           "arrowhead": 0,
           "arrowwidth": 1
          },
          "autotypenumbers": "strict",
          "coloraxis": {
           "colorbar": {
            "outlinewidth": 0,
            "ticks": ""
           }
          },
          "colorscale": {
           "diverging": [
            [
             0,
             "#8e0152"
            ],
            [
             0.1,
             "#c51b7d"
            ],
            [
             0.2,
             "#de77ae"
            ],
            [
             0.3,
             "#f1b6da"
            ],
            [
             0.4,
             "#fde0ef"
            ],
            [
             0.5,
             "#f7f7f7"
            ],
            [
             0.6,
             "#e6f5d0"
            ],
            [
             0.7,
             "#b8e186"
            ],
            [
             0.8,
             "#7fbc41"
            ],
            [
             0.9,
             "#4d9221"
            ],
            [
             1,
             "#276419"
            ]
           ],
           "sequential": [
            [
             0,
             "#0d0887"
            ],
            [
             0.1111111111111111,
             "#46039f"
            ],
            [
             0.2222222222222222,
             "#7201a8"
            ],
            [
             0.3333333333333333,
             "#9c179e"
            ],
            [
             0.4444444444444444,
             "#bd3786"
            ],
            [
             0.5555555555555556,
             "#d8576b"
            ],
            [
             0.6666666666666666,
             "#ed7953"
            ],
            [
             0.7777777777777778,
             "#fb9f3a"
            ],
            [
             0.8888888888888888,
             "#fdca26"
            ],
            [
             1,
             "#f0f921"
            ]
           ],
           "sequentialminus": [
            [
             0,
             "#0d0887"
            ],
            [
             0.1111111111111111,
             "#46039f"
            ],
            [
             0.2222222222222222,
             "#7201a8"
            ],
            [
             0.3333333333333333,
             "#9c179e"
            ],
            [
             0.4444444444444444,
             "#bd3786"
            ],
            [
             0.5555555555555556,
             "#d8576b"
            ],
            [
             0.6666666666666666,
             "#ed7953"
            ],
            [
             0.7777777777777778,
             "#fb9f3a"
            ],
            [
             0.8888888888888888,
             "#fdca26"
            ],
            [
             1,
             "#f0f921"
            ]
           ]
          },
          "colorway": [
           "#636efa",
           "#EF553B",
           "#00cc96",
           "#ab63fa",
           "#FFA15A",
           "#19d3f3",
           "#FF6692",
           "#B6E880",
           "#FF97FF",
           "#FECB52"
          ],
          "font": {
           "color": "#2a3f5f"
          },
          "geo": {
           "bgcolor": "white",
           "lakecolor": "white",
           "landcolor": "#E5ECF6",
           "showlakes": true,
           "showland": true,
           "subunitcolor": "white"
          },
          "hoverlabel": {
           "align": "left"
          },
          "hovermode": "closest",
          "mapbox": {
           "style": "light"
          },
          "paper_bgcolor": "white",
          "plot_bgcolor": "#E5ECF6",
          "polar": {
           "angularaxis": {
            "gridcolor": "white",
            "linecolor": "white",
            "ticks": ""
           },
           "bgcolor": "#E5ECF6",
           "radialaxis": {
            "gridcolor": "white",
            "linecolor": "white",
            "ticks": ""
           }
          },
          "scene": {
           "xaxis": {
            "backgroundcolor": "#E5ECF6",
            "gridcolor": "white",
            "gridwidth": 2,
            "linecolor": "white",
            "showbackground": true,
            "ticks": "",
            "zerolinecolor": "white"
           },
           "yaxis": {
            "backgroundcolor": "#E5ECF6",
            "gridcolor": "white",
            "gridwidth": 2,
            "linecolor": "white",
            "showbackground": true,
            "ticks": "",
            "zerolinecolor": "white"
           },
           "zaxis": {
            "backgroundcolor": "#E5ECF6",
            "gridcolor": "white",
            "gridwidth": 2,
            "linecolor": "white",
            "showbackground": true,
            "ticks": "",
            "zerolinecolor": "white"
           }
          },
          "shapedefaults": {
           "line": {
            "color": "#2a3f5f"
           }
          },
          "ternary": {
           "aaxis": {
            "gridcolor": "white",
            "linecolor": "white",
            "ticks": ""
           },
           "baxis": {
            "gridcolor": "white",
            "linecolor": "white",
            "ticks": ""
           },
           "bgcolor": "#E5ECF6",
           "caxis": {
            "gridcolor": "white",
            "linecolor": "white",
            "ticks": ""
           }
          },
          "title": {
           "x": 0.05
          },
          "xaxis": {
           "automargin": true,
           "gridcolor": "white",
           "linecolor": "white",
           "ticks": "",
           "title": {
            "standoff": 15
           },
           "zerolinecolor": "white",
           "zerolinewidth": 2
          },
          "yaxis": {
           "automargin": true,
           "gridcolor": "white",
           "linecolor": "white",
           "ticks": "",
           "title": {
            "standoff": 15
           },
           "zerolinecolor": "white",
           "zerolinewidth": 2
          }
         }
        },
        "title": {
         "text": "Top 10 rated beer styles for each Category"
        },
        "updatemenus": [
         {
          "active": 0,
          "buttons": [
           {
            "args": [
             {
              "visible": [
               true,
               false,
               false,
               false
              ]
             },
             {
              "title": "CFM",
              "xaxis": {
               "categoryarray": [
                "American IPA",
                "American Double / Imperial IPA",
                "American Double / Imperial Stout",
                "American Pale Ale (APA)",
                "Saison / Farmhouse Ale",
                "American Wild Ale",
                "American Porter",
                "Russian Imperial Stout",
                "American Amber / Red Ale",
                "Fruit / Vegetable Beer"
               ],
               "categoryorder": "array"
              }
             }
            ],
            "label": "CFM",
            "method": "update"
           },
           {
            "args": [
             {
              "visible": [
               false,
               true,
               false,
               false
              ]
             },
             {
              "title": "EXP",
              "xaxis": {
               "categoryarray": [
                "American Double / Imperial IPA",
                "American IPA",
                "American Double / Imperial Stout",
                "American Pale Ale (APA)",
                "Russian Imperial Stout",
                "American Wild Ale",
                "American Porter",
                "Saison / Farmhouse Ale",
                "American Amber / Red Ale",
                "Quadrupel (Quad)"
               ],
               "categoryorder": "array"
              }
             }
            ],
            "label": "EXP",
            "method": "update"
           },
           {
            "args": [
             {
              "visible": [
               false,
               false,
               true,
               false
              ]
             },
             {
              "title": "XPL",
              "xaxis": {
               "categoryarray": [
                "American IPA",
                "American Double / Imperial IPA",
                "American Pale Ale (APA)",
                "American Double / Imperial Stout",
                "Saison / Farmhouse Ale",
                "American Wild Ale",
                "American Porter",
                "American Amber / Red Ale",
                "Russian Imperial Stout",
                "Fruit / Vegetable Beer"
               ],
               "categoryorder": "array"
              }
             }
            ],
            "label": "XPL",
            "method": "update"
           },
           {
            "args": [
             {
              "visible": [
               false,
               false,
               false,
               true
              ]
             },
             {
              "title": "ADV",
              "xaxis": {
               "categoryarray": [
                "American Adjunct Lager",
                "American IPA",
                "Light Lager",
                "American Pale Ale (APA)",
                "Fruit / Vegetable Beer",
                "Euro Pale Lager",
                "American Amber / Red Ale",
                "Witbier",
                "American Double / Imperial IPA",
                "German Pilsener"
               ],
               "categoryorder": "array"
              }
             }
            ],
            "label": "ADV",
            "method": "update"
           }
          ]
         }
        ],
        "xaxis": {
         "categoryarray": [
          "American IPA",
          "American Double / Imperial IPA",
          "American Double / Imperial Stout",
          "American Pale Ale (APA)",
          "Saison / Farmhouse Ale",
          "American Wild Ale",
          "American Porter",
          "Russian Imperial Stout",
          "American Amber / Red Ale",
          "Fruit / Vegetable Beer"
         ],
         "categoryorder": "array"
        },
        "yaxis": {
         "title": {
          "text": "Percentage of Ratings"
         }
        }
       }
      }
     },
     "metadata": {},
     "output_type": "display_data"
    }
   ],
   "source": [
    "# same plot as above but when you click on a category it will be sorted by that category\n",
    "\n",
    "fig = go.Figure()\n",
    "\n",
    "fig.add_trace(go.Bar(\n",
    "    y=cfm_style_count.values,\n",
    "    x=cfm_style_count.index,\n",
    "    name=\"CFM\",\n",
    "    orientation='v',\n",
    "    marker_color='#FF0000'\n",
    "))\n",
    "fig.add_trace(go.Bar(\n",
    "    y=exp_style_count.values,\n",
    "    x=exp_style_count.index,\n",
    "    name=\"EXP\",\n",
    "    orientation='v',\n",
    "    marker_color='#00FF00'\n",
    "))\n",
    "fig.add_trace(go.Bar(\n",
    "    y=xpl_style_count.values,\n",
    "    x=xpl_style_count.index,\n",
    "    name=\"XPL\",\n",
    "    orientation='v',\n",
    "\n",
    "    marker_color='#0000FF'\n",
    "))\n",
    "fig.add_trace(go.Bar(\n",
    "    y=adv_style_count.values,\n",
    "    x=adv_style_count.index,\n",
    "    name=\"ADV\",\n",
    "    orientation='v',\n",
    "    marker_color='#FFFF00'\n",
    "))\n",
    "\n",
    "# set the x-axis to be the style names\n",
    "fig.update_layout(xaxis={'categoryorder':'array', 'categoryarray':cfm_style_count.index})\n",
    "\n",
    "# set the y-axis to be the percentage of ratings\n",
    "fig.update_layout(yaxis_title=\"Percentage of Ratings\")\n",
    "\n",
    "# set the title\n",
    "fig.update_layout(title_text=\"Top 10 rated beer styles for each Category\")\n",
    "\n",
    "fig.update_layout(barmode='group')\n",
    "\n",
    "# add a dropdown menu to select the category\n",
    "fig.update_layout(\n",
    "    updatemenus=[\n",
    "        dict(\n",
    "            active=0,\n",
    "            buttons=list([\n",
    "                dict(label=\"CFM\",\n",
    "                        method=\"update\",\n",
    "                        args=[{\"visible\": [True, False, False, False]},\n",
    "                            {\"title\": \"CFM\",\n",
    "                            \"xaxis\": {'categoryorder':'array', 'categoryarray':cfm_style_count.index}}]),\n",
    "                dict(label=\"EXP\",\n",
    "                        method=\"update\",\n",
    "                        args=[{\"visible\": [False, True, False, False]},\n",
    "                            {\"title\": \"EXP\",\n",
    "                            \"xaxis\": {'categoryorder':'array', 'categoryarray':exp_style_count.index}}]),\n",
    "                dict(label=\"XPL\",\n",
    "                        method=\"update\",\n",
    "                        args=[{\"visible\": [False, False, True, False]},\n",
    "                            {\"title\": \"XPL\",\n",
    "                            \"xaxis\": {'categoryorder':'array', 'categoryarray':xpl_style_count.index}}]),\n",
    "                dict(label=\"ADV\",\n",
    "                        method=\"update\",\n",
    "                        args=[{\"visible\": [False, False, False, True]},\n",
    "                            {\"title\": \"ADV\",\n",
    "                            \"xaxis\": {'categoryorder':'array', 'categoryarray':adv_style_count.index}}])\n",
    "            ]),\n",
    "        )\n",
    "    ])\n",
    "\n",
    "fig.show()\n",
    "\n"
   ]
  },
  {
   "cell_type": "code",
   "execution_count": 89,
   "metadata": {},
   "outputs": [
    {
     "data": {
      "text/html": [
       "<div>\n",
       "<style scoped>\n",
       "    .dataframe tbody tr th:only-of-type {\n",
       "        vertical-align: middle;\n",
       "    }\n",
       "\n",
       "    .dataframe tbody tr th {\n",
       "        vertical-align: top;\n",
       "    }\n",
       "\n",
       "    .dataframe thead th {\n",
       "        text-align: right;\n",
       "    }\n",
       "</style>\n",
       "<table border=\"1\" class=\"dataframe\">\n",
       "  <thead>\n",
       "    <tr style=\"text-align: right;\">\n",
       "      <th></th>\n",
       "      <th>date</th>\n",
       "      <th>bid</th>\n",
       "      <th>uid</th>\n",
       "      <th>rating</th>\n",
       "      <th>has_review</th>\n",
       "      <th>review</th>\n",
       "      <th>compound</th>\n",
       "      <th>style</th>\n",
       "    </tr>\n",
       "  </thead>\n",
       "  <tbody>\n",
       "    <tr>\n",
       "      <th>0</th>\n",
       "      <td>2014-01-25 11:00:00</td>\n",
       "      <td>19827</td>\n",
       "      <td>jaydoc.265507</td>\n",
       "      <td>3.25</td>\n",
       "      <td>False</td>\n",
       "      <td>None</td>\n",
       "      <td>0</td>\n",
       "      <td>English Pale Ale</td>\n",
       "    </tr>\n",
       "    <tr>\n",
       "      <th>1</th>\n",
       "      <td>2012-12-02 11:00:00</td>\n",
       "      <td>19827</td>\n",
       "      <td>byofb.537281</td>\n",
       "      <td>3.50</td>\n",
       "      <td>False</td>\n",
       "      <td>None</td>\n",
       "      <td>0</td>\n",
       "      <td>English Pale Ale</td>\n",
       "    </tr>\n",
       "    <tr>\n",
       "      <th>2</th>\n",
       "      <td>2012-07-14 10:00:00</td>\n",
       "      <td>19827</td>\n",
       "      <td>othershoe2.233642</td>\n",
       "      <td>3.68</td>\n",
       "      <td>True</td>\n",
       "      <td>Pours a rich brownish red with some chill haze...</td>\n",
       "      <td>0</td>\n",
       "      <td>English Pale Ale</td>\n",
       "    </tr>\n",
       "    <tr>\n",
       "      <th>3</th>\n",
       "      <td>2012-01-02 11:00:00</td>\n",
       "      <td>19827</td>\n",
       "      <td>animal69.160100</td>\n",
       "      <td>3.50</td>\n",
       "      <td>False</td>\n",
       "      <td>None</td>\n",
       "      <td>0</td>\n",
       "      <td>English Pale Ale</td>\n",
       "    </tr>\n",
       "    <tr>\n",
       "      <th>4</th>\n",
       "      <td>2011-09-07 10:00:00</td>\n",
       "      <td>19827</td>\n",
       "      <td>treyliff.490010</td>\n",
       "      <td>3.62</td>\n",
       "      <td>True</td>\n",
       "      <td>Pours a dark brown with a decent creamy head. ...</td>\n",
       "      <td>0</td>\n",
       "      <td>English Pale Ale</td>\n",
       "    </tr>\n",
       "  </tbody>\n",
       "</table>\n",
       "</div>"
      ],
      "text/plain": [
       "                 date    bid                uid  rating  has_review  \\\n",
       "0 2014-01-25 11:00:00  19827      jaydoc.265507    3.25       False   \n",
       "1 2012-12-02 11:00:00  19827       byofb.537281    3.50       False   \n",
       "2 2012-07-14 10:00:00  19827  othershoe2.233642    3.68        True   \n",
       "3 2012-01-02 11:00:00  19827    animal69.160100    3.50       False   \n",
       "4 2011-09-07 10:00:00  19827    treyliff.490010    3.62        True   \n",
       "\n",
       "                                              review  compound  \\\n",
       "0                                               None         0   \n",
       "1                                               None         0   \n",
       "2  Pours a rich brownish red with some chill haze...         0   \n",
       "3                                               None         0   \n",
       "4  Pours a dark brown with a decent creamy head. ...         0   \n",
       "\n",
       "              style  \n",
       "0  English Pale Ale  \n",
       "1  English Pale Ale  \n",
       "2  English Pale Ale  \n",
       "3  English Pale Ale  \n",
       "4  English Pale Ale  "
      ]
     },
     "execution_count": 89,
     "metadata": {},
     "output_type": "execute_result"
    }
   ],
   "source": [
    "cfm_ratings.head()"
   ]
  },
  {
   "attachments": {},
   "cell_type": "markdown",
   "metadata": {},
   "source": [
    "## What style of beer are more liked by each category"
   ]
  },
  {
   "cell_type": "code",
   "execution_count": 96,
   "metadata": {},
   "outputs": [],
   "source": [
    "# group by cfm_ratings by style and get average rating for each style\n",
    "cfm_ratings_by_style = cfm_ratings.groupby('style').mean().sort_values(by='rating', ascending=False)\n",
    "exp_ratings_by_style = exp_ratings.groupby('style').mean().sort_values(by='rating', ascending=False)\n",
    "xpl_ratings_by_style = xpl_ratings.groupby('style').mean().sort_values(by='rating', ascending=False)\n",
    "adv_ratings_by_style = adv_ratings.groupby('style').mean().sort_values(by='rating', ascending=False)\n",
    "\n",
    "# normalize the avg ratings by dividing by the average rating for all their ratings\n",
    "cfm_ratings_by_style['norm_rating'] = cfm_ratings_by_style['rating'] / cfm_ratings['rating'].mean()\n",
    "exp_ratings_by_style['norm_rating'] = exp_ratings_by_style['rating'] / exp_ratings['rating'].mean()\n",
    "xpl_ratings_by_style['norm_rating'] = xpl_ratings_by_style['rating'] / xpl_ratings['rating'].mean()\n",
    "adv_ratings_by_style['norm_rating'] = adv_ratings_by_style['rating'] / adv_ratings['rating'].mean()"
   ]
  },
  {
   "cell_type": "code",
   "execution_count": 98,
   "metadata": {},
   "outputs": [],
   "source": [
    "# get the top 10 styles for each category\n",
    "cfm_ratings_by_style_top10 = cfm_ratings_by_style.head(10)\n",
    "exp_ratings_by_style_top10 = exp_ratings_by_style.head(10)\n",
    "xpl_ratings_by_style_top10 = xpl_ratings_by_style.head(10)\n",
    "adv_ratings_by_style_top10 = adv_ratings_by_style.head(10)"
   ]
  },
  {
   "cell_type": "code",
   "execution_count": 104,
   "metadata": {},
   "outputs": [
    {
     "data": {
      "text/html": [
       "<div>\n",
       "<style scoped>\n",
       "    .dataframe tbody tr th:only-of-type {\n",
       "        vertical-align: middle;\n",
       "    }\n",
       "\n",
       "    .dataframe tbody tr th {\n",
       "        vertical-align: top;\n",
       "    }\n",
       "\n",
       "    .dataframe thead th {\n",
       "        text-align: right;\n",
       "    }\n",
       "</style>\n",
       "<table border=\"1\" class=\"dataframe\">\n",
       "  <thead>\n",
       "    <tr style=\"text-align: right;\">\n",
       "      <th></th>\n",
       "      <th>bid</th>\n",
       "      <th>rating</th>\n",
       "      <th>has_review</th>\n",
       "      <th>compound</th>\n",
       "      <th>norm_rating</th>\n",
       "    </tr>\n",
       "    <tr>\n",
       "      <th>style</th>\n",
       "      <th></th>\n",
       "      <th></th>\n",
       "      <th></th>\n",
       "      <th></th>\n",
       "      <th></th>\n",
       "    </tr>\n",
       "  </thead>\n",
       "  <tbody>\n",
       "    <tr>\n",
       "      <th>Gueuze</th>\n",
       "      <td>41152.901423</td>\n",
       "      <td>4.279337</td>\n",
       "      <td>0.239643</td>\n",
       "      <td>0.0</td>\n",
       "      <td>1.090345</td>\n",
       "    </tr>\n",
       "    <tr>\n",
       "      <th>American Double / Imperial Stout</th>\n",
       "      <td>95337.416583</td>\n",
       "      <td>4.271372</td>\n",
       "      <td>0.217386</td>\n",
       "      <td>0.0</td>\n",
       "      <td>1.088315</td>\n",
       "    </tr>\n",
       "    <tr>\n",
       "      <th>Russian Imperial Stout</th>\n",
       "      <td>58034.193964</td>\n",
       "      <td>4.204332</td>\n",
       "      <td>0.275130</td>\n",
       "      <td>0.0</td>\n",
       "      <td>1.071234</td>\n",
       "    </tr>\n",
       "    <tr>\n",
       "      <th>Quadrupel (Quad)</th>\n",
       "      <td>53387.653710</td>\n",
       "      <td>4.185874</td>\n",
       "      <td>0.302674</td>\n",
       "      <td>0.0</td>\n",
       "      <td>1.066531</td>\n",
       "    </tr>\n",
       "    <tr>\n",
       "      <th>Flanders Red Ale</th>\n",
       "      <td>62750.630511</td>\n",
       "      <td>4.172130</td>\n",
       "      <td>0.246463</td>\n",
       "      <td>0.0</td>\n",
       "      <td>1.063029</td>\n",
       "    </tr>\n",
       "    <tr>\n",
       "      <th>Eisbock</th>\n",
       "      <td>27121.087607</td>\n",
       "      <td>4.170085</td>\n",
       "      <td>0.413462</td>\n",
       "      <td>0.0</td>\n",
       "      <td>1.062508</td>\n",
       "    </tr>\n",
       "    <tr>\n",
       "      <th>American Wild Ale</th>\n",
       "      <td>124768.935140</td>\n",
       "      <td>4.162731</td>\n",
       "      <td>0.166163</td>\n",
       "      <td>0.0</td>\n",
       "      <td>1.060634</td>\n",
       "    </tr>\n",
       "    <tr>\n",
       "      <th>American Double / Imperial IPA</th>\n",
       "      <td>95953.064451</td>\n",
       "      <td>4.161204</td>\n",
       "      <td>0.230712</td>\n",
       "      <td>0.0</td>\n",
       "      <td>1.060245</td>\n",
       "    </tr>\n",
       "    <tr>\n",
       "      <th>English Barleywine</th>\n",
       "      <td>68887.504606</td>\n",
       "      <td>4.152700</td>\n",
       "      <td>0.310747</td>\n",
       "      <td>0.0</td>\n",
       "      <td>1.058079</td>\n",
       "    </tr>\n",
       "    <tr>\n",
       "      <th>Lambic - Unblended</th>\n",
       "      <td>53063.923841</td>\n",
       "      <td>4.144956</td>\n",
       "      <td>0.215232</td>\n",
       "      <td>0.0</td>\n",
       "      <td>1.056105</td>\n",
       "    </tr>\n",
       "  </tbody>\n",
       "</table>\n",
       "</div>"
      ],
      "text/plain": [
       "                                            bid    rating  has_review  \\\n",
       "style                                                                   \n",
       "Gueuze                             41152.901423  4.279337    0.239643   \n",
       "American Double / Imperial Stout   95337.416583  4.271372    0.217386   \n",
       "Russian Imperial Stout             58034.193964  4.204332    0.275130   \n",
       "Quadrupel (Quad)                   53387.653710  4.185874    0.302674   \n",
       "Flanders Red Ale                   62750.630511  4.172130    0.246463   \n",
       "Eisbock                            27121.087607  4.170085    0.413462   \n",
       "American Wild Ale                 124768.935140  4.162731    0.166163   \n",
       "American Double / Imperial IPA     95953.064451  4.161204    0.230712   \n",
       "English Barleywine                 68887.504606  4.152700    0.310747   \n",
       "Lambic - Unblended                 53063.923841  4.144956    0.215232   \n",
       "\n",
       "                                  compound  norm_rating  \n",
       "style                                                    \n",
       "Gueuze                                 0.0     1.090345  \n",
       "American Double / Imperial Stout       0.0     1.088315  \n",
       "Russian Imperial Stout                 0.0     1.071234  \n",
       "Quadrupel (Quad)                       0.0     1.066531  \n",
       "Flanders Red Ale                       0.0     1.063029  \n",
       "Eisbock                                0.0     1.062508  \n",
       "American Wild Ale                      0.0     1.060634  \n",
       "American Double / Imperial IPA         0.0     1.060245  \n",
       "English Barleywine                     0.0     1.058079  \n",
       "Lambic - Unblended                     0.0     1.056105  "
      ]
     },
     "execution_count": 104,
     "metadata": {},
     "output_type": "execute_result"
    }
   ],
   "source": [
    "cfm_ratings_by_style_top10"
   ]
  },
  {
   "cell_type": "code",
   "execution_count": 109,
   "metadata": {},
   "outputs": [
    {
     "data": {
      "image/png": "[encoded data removed]",
      "text/plain": [
       "<Figure size 1500x1000 with 4 Axes>"
      ]
     },
     "metadata": {},
     "output_type": "display_data"
    }
   ],
   "source": [
    "fig, axs = plt.subplots(2, 2, figsize=(15, 10))\n",
    "sns.barplot(y=cfm_ratings_by_style_top10[\"norm_rating\"].values, x=cfm_ratings_by_style_top10.index, ax=axs[0, 0])\n",
    "sns.barplot(y=exp_ratings_by_style_top10[\"norm_rating\"].values, x=exp_ratings_by_style_top10.index, ax=axs[0, 1])\n",
    "sns.barplot(y=xpl_ratings_by_style_top10[\"norm_rating\"].values, x=xpl_ratings_by_style_top10.index, ax=axs[1, 0])\n",
    "sns.barplot(y=adv_ratings_by_style_top10[\"norm_rating\"].values, x=adv_ratings_by_style_top10.index, ax=axs[1, 1])\n",
    "\n",
    "axs[0, 0].set_title(\"CFM\")\n",
    "axs[0, 1].set_title(\"EXP\")\n",
    "axs[1, 0].set_title(\"XPL\")\n",
    "axs[1, 1].set_title(\"ADV\")\n",
    "\n",
    "axs[0, 0].set_ylabel(\"Ratio of avg rating for the style to avg rating for all ratings\")\n",
    "axs[0, 1].set_ylabel(\"Ratio of avg rating for the style to avg rating for all ratings\")\n",
    "axs[1, 0].set_ylabel(\"Ratio of avg rating for the style to avg rating for all ratings\")\n",
    "axs[1, 1].set_ylabel(\"Ratio of avg rating for the style to avg rating for all ratings\")\n",
    "\n",
    "axs[0, 0].set_xlabel(\"Style\")\n",
    "axs[0, 1].set_xlabel(\"Style\")\n",
    "axs[1, 0].set_xlabel(\"Style\")\n",
    "axs[1, 1].set_xlabel(\"Style\")\n",
    "\n",
    "plt.setp(axs[0, 0].get_xticklabels(), rotation=45, ha=\"right\", rotation_mode=\"anchor\")\n",
    "plt.setp(axs[0, 1].get_xticklabels(), rotation=45, ha=\"right\", rotation_mode=\"anchor\")\n",
    "plt.setp(axs[1, 0].get_xticklabels(), rotation=45, ha=\"right\", rotation_mode=\"anchor\")\n",
    "plt.setp(axs[1, 1].get_xticklabels(), rotation=45, ha=\"right\", rotation_mode=\"anchor\")\n",
    "\n",
    "# make the plot start at y = 0.9\n",
    "axs[0, 0].set_ylim(0.9, 1.5)\n",
    "axs[0, 1].set_ylim(0.9, 1.5)\n",
    "axs[1, 0].set_ylim(0.9, 1.5)\n",
    "axs[1, 1].set_ylim(0.9, 1.5)\n",
    "\n",
    "\n",
    "plt.show()"
   ]
  },
  {
   "cell_type": "code",
   "execution_count": 111,
   "metadata": {},
   "outputs": [
    {
     "data": {
      "application/vnd.plotly.v1+json": {
       "config": {
        "plotlyServerURL": "https://plot.ly"
       },
       "data": [
        {
         "marker": {
          "color": "#FF0000"
         },
         "name": "CFM",
         "type": "bar",
         "x": [
          "Gueuze",
          "American Double / Imperial Stout",
          "Russian Imperial Stout",
          "Quadrupel (Quad)",
          "Flanders Red Ale",
          "Eisbock",
          "American Wild Ale",
          "American Double / Imperial IPA",
          "English Barleywine",
          "Lambic - Unblended"
         ],
         "y": [
          1.0903448531971527,
          1.088315437841662,
          1.0712340301026568,
          1.066531152323663,
          1.063029331394971,
          1.0625082956622562,
          1.0606344494757898,
          1.0602453136823742,
          1.058078626877244,
          1.0561054461004271
         ]
        },
        {
         "marker": {
          "color": "#00FF00"
         },
         "name": "EXP",
         "type": "bar",
         "x": [
          "Gueuze",
          "American Double / Imperial Stout",
          "Quadrupel (Quad)",
          "Lambic - Fruit",
          "American Double / Imperial IPA",
          "English Barleywine",
          "Eisbock",
          "Flanders Red Ale",
          "Russian Imperial Stout",
          "American Wild Ale"
         ],
         "y": [
          1.0938725635644881,
          1.0855352152686184,
          1.0807737169994427,
          1.0781839252263852,
          1.0657980330833072,
          1.0647817909567714,
          1.063309963227212,
          1.0612315037983069,
          1.0590849566726348,
          1.0574386559239237
         ]
        },
        {
         "marker": {
          "color": "#0000FF"
         },
         "name": "XPL",
         "type": "bar",
         "x": [
          "Gueuze",
          "American Double / Imperial Stout",
          "Russian Imperial Stout",
          "Eisbock",
          "Quadrupel (Quad)",
          "Flanders Red Ale",
          "American Wild Ale",
          "Lambic - Unblended",
          "American Double / Imperial IPA",
          "English Barleywine"
         ],
         "y": [
          1.094197781529613,
          1.0915033217359507,
          1.075098282147322,
          1.0687147813318216,
          1.0680712516648396,
          1.0650199211074045,
          1.064335142045919,
          1.0626796378675285,
          1.062000035872867,
          1.0526582443815071
         ]
        },
        {
         "marker": {
          "color": "#FFFF00"
         },
         "name": "ADV",
         "type": "bar",
         "x": [
          "Quadrupel (Quad)",
          "American Double / Imperial Stout",
          "Russian Imperial Stout",
          "Eisbock",
          "American Double / Imperial IPA",
          "Weizenbock",
          "Belgian Strong Dark Ale",
          "Tripel",
          "Belgian Strong Pale Ale",
          "Flanders Red Ale"
         ],
         "y": [
          1.2146955574988598,
          1.1928705152856045,
          1.1863969857995873,
          1.1813589565110343,
          1.1682712411337441,
          1.1649151775295585,
          1.1597058647382674,
          1.139479092759098,
          1.1384770355990048,
          1.137316331078778
         ]
        }
       ],
       "layout": {
        "barmode": "group",
        "template": {
         "data": {
          "bar": [
           {
            "error_x": {
             "color": "#2a3f5f"
            },
            "error_y": {
             "color": "#2a3f5f"
            },
            "marker": {
             "line": {
              "color": "#E5ECF6",
              "width": 0.5
             },
             "pattern": {
              "fillmode": "overlay",
              "size": 10,
              "solidity": 0.2
             }
            },
            "type": "bar"
           }
          ],
          "barpolar": [
           {
            "marker": {
             "line": {
              "color": "#E5ECF6",
              "width": 0.5
             },
             "pattern": {
              "fillmode": "overlay",
              "size": 10,
              "solidity": 0.2
             }
            },
            "type": "barpolar"
           }
          ],
          "carpet": [
           {
            "aaxis": {
             "endlinecolor": "#2a3f5f",
             "gridcolor": "white",
             "linecolor": "white",
             "minorgridcolor": "white",
             "startlinecolor": "#2a3f5f"
            },
            "baxis": {
             "endlinecolor": "#2a3f5f",
             "gridcolor": "white",
             "linecolor": "white",
             "minorgridcolor": "white",
             "startlinecolor": "#2a3f5f"
            },
            "type": "carpet"
           }
          ],
          "choropleth": [
           {
            "colorbar": {
             "outlinewidth": 0,
             "ticks": ""
            },
            "type": "choropleth"
           }
          ],
          "contour": [
           {
            "colorbar": {
             "outlinewidth": 0,
             "ticks": ""
            },
            "colorscale": [
             [
              0,
              "#0d0887"
             ],
             [
              0.1111111111111111,
              "#46039f"
             ],
             [
              0.2222222222222222,
              "#7201a8"
             ],
             [
              0.3333333333333333,
              "#9c179e"
             ],
             [
              0.4444444444444444,
              "#bd3786"
             ],
             [
              0.5555555555555556,
              "#d8576b"
             ],
             [
              0.6666666666666666,
              "#ed7953"
             ],
             [
              0.7777777777777778,
              "#fb9f3a"
             ],
             [
              0.8888888888888888,
              "#fdca26"
             ],
             [
              1,
              "#f0f921"
             ]
            ],
            "type": "contour"
           }
          ],
          "contourcarpet": [
           {
            "colorbar": {
             "outlinewidth": 0,
             "ticks": ""
            },
            "type": "contourcarpet"
           }
          ],
          "heatmap": [
           {
            "colorbar": {
             "outlinewidth": 0,
             "ticks": ""
            },
            "colorscale": [
             [
              0,
              "#0d0887"
             ],
             [
              0.1111111111111111,
              "#46039f"
             ],
             [
              0.2222222222222222,
              "#7201a8"
             ],
             [
              0.3333333333333333,
              "#9c179e"
             ],
             [
              0.4444444444444444,
              "#bd3786"
             ],
             [
              0.5555555555555556,
              "#d8576b"
             ],
             [
              0.6666666666666666,
              "#ed7953"
             ],
             [
              0.7777777777777778,
              "#fb9f3a"
             ],
             [
              0.8888888888888888,
              "#fdca26"
             ],
             [
              1,
              "#f0f921"
             ]
            ],
            "type": "heatmap"
           }
          ],
          "heatmapgl": [
           {
            "colorbar": {
             "outlinewidth": 0,
             "ticks": ""
            },
            "colorscale": [
             [
              0,
              "#0d0887"
             ],
             [
              0.1111111111111111,
              "#46039f"
             ],
             [
              0.2222222222222222,
              "#7201a8"
             ],
             [
              0.3333333333333333,
              "#9c179e"
             ],
             [
              0.4444444444444444,
              "#bd3786"
             ],
             [
              0.5555555555555556,
              "#d8576b"
             ],
             [
              0.6666666666666666,
              "#ed7953"
             ],
             [
              0.7777777777777778,
              "#fb9f3a"
             ],
             [
              0.8888888888888888,
              "#fdca26"
             ],
             [
              1,
              "#f0f921"
             ]
            ],
            "type": "heatmapgl"
           }
          ],
          "histogram": [
           {
            "marker": {
             "pattern": {
              "fillmode": "overlay",
              "size": 10,
              "solidity": 0.2
             }
            },
            "type": "histogram"
           }
          ],
          "histogram2d": [
           {
            "colorbar": {
             "outlinewidth": 0,
             "ticks": ""
            },
            "colorscale": [
             [
              0,
              "#0d0887"
             ],
             [
              0.1111111111111111,
              "#46039f"
             ],
             [
              0.2222222222222222,
              "#7201a8"
             ],
             [
              0.3333333333333333,
              "#9c179e"
             ],
             [
              0.4444444444444444,
              "#bd3786"
             ],
             [
              0.5555555555555556,
              "#d8576b"
             ],
             [
              0.6666666666666666,
              "#ed7953"
             ],
             [
              0.7777777777777778,
              "#fb9f3a"
             ],
             [
              0.8888888888888888,
              "#fdca26"
             ],
             [
              1,
              "#f0f921"
             ]
            ],
            "type": "histogram2d"
           }
          ],
          "histogram2dcontour": [
           {
            "colorbar": {
             "outlinewidth": 0,
             "ticks": ""
            },
            "colorscale": [
             [
              0,
              "#0d0887"
             ],
             [
              0.1111111111111111,
              "#46039f"
             ],
             [
              0.2222222222222222,
              "#7201a8"
             ],
             [
              0.3333333333333333,
              "#9c179e"
             ],
             [
              0.4444444444444444,
              "#bd3786"
             ],
             [
              0.5555555555555556,
              "#d8576b"
             ],
             [
              0.6666666666666666,
              "#ed7953"
             ],
             [
              0.7777777777777778,
              "#fb9f3a"
             ],
             [
              0.8888888888888888,
              "#fdca26"
             ],
             [
              1,
              "#f0f921"
             ]
            ],
            "type": "histogram2dcontour"
           }
          ],
          "mesh3d": [
           {
            "colorbar": {
             "outlinewidth": 0,
             "ticks": ""
            },
            "type": "mesh3d"
           }
          ],
          "parcoords": [
           {
            "line": {
             "colorbar": {
              "outlinewidth": 0,
              "ticks": ""
             }
            },
            "type": "parcoords"
           }
          ],
          "pie": [
           {
            "automargin": true,
            "type": "pie"
           }
          ],
          "scatter": [
           {
            "fillpattern": {
             "fillmode": "overlay",
             "size": 10,
             "solidity": 0.2
            },
            "type": "scatter"
           }
          ],
          "scatter3d": [
           {
            "line": {
             "colorbar": {
              "outlinewidth": 0,
              "ticks": ""
             }
            },
            "marker": {
             "colorbar": {
              "outlinewidth": 0,
              "ticks": ""
             }
            },
            "type": "scatter3d"
           }
          ],
          "scattercarpet": [
           {
            "marker": {
             "colorbar": {
              "outlinewidth": 0,
              "ticks": ""
             }
            },
            "type": "scattercarpet"
           }
          ],
          "scattergeo": [
           {
            "marker": {
             "colorbar": {
              "outlinewidth": 0,
              "ticks": ""
             }
            },
            "type": "scattergeo"
           }
          ],
          "scattergl": [
           {
            "marker": {
             "colorbar": {
              "outlinewidth": 0,
              "ticks": ""
             }
            },
            "type": "scattergl"
           }
          ],
          "scattermapbox": [
           {
            "marker": {
             "colorbar": {
              "outlinewidth": 0,
              "ticks": ""
             }
            },
            "type": "scattermapbox"
           }
          ],
          "scatterpolar": [
           {
            "marker": {
             "colorbar": {
              "outlinewidth": 0,
              "ticks": ""
             }
            },
            "type": "scatterpolar"
           }
          ],
          "scatterpolargl": [
           {
            "marker": {
             "colorbar": {
              "outlinewidth": 0,
              "ticks": ""
             }
            },
            "type": "scatterpolargl"
           }
          ],
          "scatterternary": [
           {
            "marker": {
             "colorbar": {
              "outlinewidth": 0,
              "ticks": ""
             }
            },
            "type": "scatterternary"
           }
          ],
          "surface": [
           {
            "colorbar": {
             "outlinewidth": 0,
             "ticks": ""
            },
            "colorscale": [
             [
              0,
              "#0d0887"
             ],
             [
              0.1111111111111111,
              "#46039f"
             ],
             [
              0.2222222222222222,
              "#7201a8"
             ],
             [
              0.3333333333333333,
              "#9c179e"
             ],
             [
              0.4444444444444444,
              "#bd3786"
             ],
             [
              0.5555555555555556,
              "#d8576b"
             ],
             [
              0.6666666666666666,
              "#ed7953"
             ],
             [
              0.7777777777777778,
              "#fb9f3a"
             ],
             [
              0.8888888888888888,
              "#fdca26"
             ],
             [
              1,
              "#f0f921"
             ]
            ],
            "type": "surface"
           }
          ],
          "table": [
           {
            "cells": {
             "fill": {
              "color": "#EBF0F8"
             },
             "line": {
              "color": "white"
             }
            },
            "header": {
             "fill": {
              "color": "#C8D4E3"
             },
             "line": {
              "color": "white"
             }
            },
            "type": "table"
           }
          ]
         },
         "layout": {
          "annotationdefaults": {
           "arrowcolor": "#2a3f5f",
           "arrowhead": 0,
           "arrowwidth": 1
          },
          "autotypenumbers": "strict",
          "coloraxis": {
           "colorbar": {
            "outlinewidth": 0,
            "ticks": ""
           }
          },
          "colorscale": {
           "diverging": [
            [
             0,
             "#8e0152"
            ],
            [
             0.1,
             "#c51b7d"
            ],
            [
             0.2,
             "#de77ae"
            ],
            [
             0.3,
             "#f1b6da"
            ],
            [
             0.4,
             "#fde0ef"
            ],
            [
             0.5,
             "#f7f7f7"
            ],
            [
             0.6,
             "#e6f5d0"
            ],
            [
             0.7,
             "#b8e186"
            ],
            [
             0.8,
             "#7fbc41"
            ],
            [
             0.9,
             "#4d9221"
            ],
            [
             1,
             "#276419"
            ]
           ],
           "sequential": [
            [
             0,
             "#0d0887"
            ],
            [
             0.1111111111111111,
             "#46039f"
            ],
            [
             0.2222222222222222,
             "#7201a8"
            ],
            [
             0.3333333333333333,
             "#9c179e"
            ],
            [
             0.4444444444444444,
             "#bd3786"
            ],
            [
             0.5555555555555556,
             "#d8576b"
            ],
            [
             0.6666666666666666,
             "#ed7953"
            ],
            [
             0.7777777777777778,
             "#fb9f3a"
            ],
            [
             0.8888888888888888,
             "#fdca26"
            ],
            [
             1,
             "#f0f921"
            ]
           ],
           "sequentialminus": [
            [
             0,
             "#0d0887"
            ],
            [
             0.1111111111111111,
             "#46039f"
            ],
            [
             0.2222222222222222,
             "#7201a8"
            ],
            [
             0.3333333333333333,
             "#9c179e"
            ],
            [
             0.4444444444444444,
             "#bd3786"
            ],
            [
             0.5555555555555556,
             "#d8576b"
            ],
            [
             0.6666666666666666,
             "#ed7953"
            ],
            [
             0.7777777777777778,
             "#fb9f3a"
            ],
            [
             0.8888888888888888,
             "#fdca26"
            ],
            [
             1,
             "#f0f921"
            ]
           ]
          },
          "colorway": [
           "#636efa",
           "#EF553B",
           "#00cc96",
           "#ab63fa",
           "#FFA15A",
           "#19d3f3",
           "#FF6692",
           "#B6E880",
           "#FF97FF",
           "#FECB52"
          ],
          "font": {
           "color": "#2a3f5f"
          },
          "geo": {
           "bgcolor": "white",
           "lakecolor": "white",
           "landcolor": "#E5ECF6",
           "showlakes": true,
           "showland": true,
           "subunitcolor": "white"
          },
          "hoverlabel": {
           "align": "left"
          },
          "hovermode": "closest",
          "mapbox": {
           "style": "light"
          },
          "paper_bgcolor": "white",
          "plot_bgcolor": "#E5ECF6",
          "polar": {
           "angularaxis": {
            "gridcolor": "white",
            "linecolor": "white",
            "ticks": ""
           },
           "bgcolor": "#E5ECF6",
           "radialaxis": {
            "gridcolor": "white",
            "linecolor": "white",
            "ticks": ""
           }
          },
          "scene": {
           "xaxis": {
            "backgroundcolor": "#E5ECF6",
            "gridcolor": "white",
            "gridwidth": 2,
            "linecolor": "white",
            "showbackground": true,
            "ticks": "",
            "zerolinecolor": "white"
           },
           "yaxis": {
            "backgroundcolor": "#E5ECF6",
            "gridcolor": "white",
            "gridwidth": 2,
            "linecolor": "white",
            "showbackground": true,
            "ticks": "",
            "zerolinecolor": "white"
           },
           "zaxis": {
            "backgroundcolor": "#E5ECF6",
            "gridcolor": "white",
            "gridwidth": 2,
            "linecolor": "white",
            "showbackground": true,
            "ticks": "",
            "zerolinecolor": "white"
           }
          },
          "shapedefaults": {
           "line": {
            "color": "#2a3f5f"
           }
          },
          "ternary": {
           "aaxis": {
            "gridcolor": "white",
            "linecolor": "white",
            "ticks": ""
           },
           "baxis": {
            "gridcolor": "white",
            "linecolor": "white",
            "ticks": ""
           },
           "bgcolor": "#E5ECF6",
           "caxis": {
            "gridcolor": "white",
            "linecolor": "white",
            "ticks": ""
           }
          },
          "title": {
           "x": 0.05
          },
          "xaxis": {
           "automargin": true,
           "gridcolor": "white",
           "linecolor": "white",
           "ticks": "",
           "title": {
            "standoff": 15
           },
           "zerolinecolor": "white",
           "zerolinewidth": 2
          },
          "yaxis": {
           "automargin": true,
           "gridcolor": "white",
           "linecolor": "white",
           "ticks": "",
           "title": {
            "standoff": 15
           },
           "zerolinecolor": "white",
           "zerolinewidth": 2
          }
         }
        },
        "title": {
         "text": "Top 10 Styles by Avg Rating for Each Difficulty"
        }
       }
      }
     },
     "metadata": {},
     "output_type": "display_data"
    }
   ],
   "source": [
    "# make the plot interactive\n",
    "fig = go.Figure()\n",
    "\n",
    "fig.add_trace(go.Bar(\n",
    "    x=cfm_ratings_by_style_top10.index,\n",
    "    y=cfm_ratings_by_style_top10[\"norm_rating\"].values,\n",
    "    name='CFM',\n",
    "    marker_color='#FF0000'\n",
    "))\n",
    "fig.add_trace(go.Bar(\n",
    "    x=exp_ratings_by_style_top10.index,\n",
    "    y=exp_ratings_by_style_top10[\"norm_rating\"].values,\n",
    "    name='EXP',\n",
    "    marker_color='#00FF00'\n",
    "))\n",
    "fig.add_trace(go.Bar(\n",
    "    x=xpl_ratings_by_style_top10.index,\n",
    "    y=xpl_ratings_by_style_top10[\"norm_rating\"].values,\n",
    "    name='XPL',\n",
    "    marker_color='#0000FF'\n",
    "))\n",
    "fig.add_trace(go.Bar(\n",
    "    x=adv_ratings_by_style_top10.index,\n",
    "    y=adv_ratings_by_style_top10[\"norm_rating\"].values,\n",
    "    name='ADV',\n",
    "    marker_color='#FFFF00'\n",
    "))\n",
    "\n",
    "# Change the bar mode\n",
    "fig.update_layout(barmode='group', title=\"Top 10 Styles by Avg Rating for Each Difficulty\")\n",
    "fig.show()\n"
   ]
  },
  {
   "attachments": {},
   "cell_type": "markdown",
   "metadata": {},
   "source": [
    "TODO: 1) add in the analysis the baseline of all users regardless of category  \n",
    "2) analysis of where the rating of each category go to (which country eg. belgium beers)  \n",
    "3) where do the users of each category come from "
   ]
  },
  {
   "cell_type": "markdown",
   "metadata": {},
   "source": []
  }
 ],
 "metadata": {
  "kernelspec": {
   "display_name": "base",
   "language": "python",
   "name": "python3"
  },
  "language_info": {
   "codemirror_mode": {
    "name": "ipython",
    "version": 3
   },
   "file_extension": ".py",
   "mimetype": "text/x-python",
   "name": "python",
   "nbconvert_exporter": "python",
   "pygments_lexer": "ipython3",
   "version": "3.9.12"
  },
  "orig_nbformat": 4,
  "vscode": {
   "interpreter": {
    "hash": "6bb2e1f904bb6e863f2b9088396373e4778cab81ffde8089fcb5238aee912dca"
   }
  }
 },
 "nbformat": 4,
 "nbformat_minor": 2
}
