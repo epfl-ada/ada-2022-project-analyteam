{
 "cells": [
  {
   "cell_type": "code",
   "execution_count": 31,
   "metadata": {},
   "outputs": [
    {
     "name": "stdout",
     "output_type": "stream",
     "text": [
      "The autoreload extension is already loaded. To reload it, use:\n",
      "  %reload_ext autoreload\n"
     ]
    }
   ],
   "source": [
    "from setup import dask_init, dask_shutdown\n",
    "import dask.distributed as dd\n",
    "import dask.dataframe as ddf\n",
    "from tqdm import tqdm\n",
    "\n",
    "import pandas as pd\n",
    "import numpy as np\n",
    "\n",
    "import ingestion as ing\n",
    "import processing as prc\n",
    "\n",
    "import datetime as dt\n",
    "\n",
    "import seaborn as sns\n",
    "import matplotlib.pyplot as plt\n",
    "%matplotlib inline\n",
    "\n",
    "import plotly.graph_objects as go\n",
    "\n",
    "%load_ext autoreload\n",
    "%autoreload 2"
   ]
  },
  {
   "cell_type": "code",
   "execution_count": 32,
   "metadata": {},
   "outputs": [
    {
     "name": "stderr",
     "output_type": "stream",
     "text": [
      "c:\\Users\\Henrique\\anaconda3\\lib\\site-packages\\distributed\\node.py:180: UserWarning:\n",
      "\n",
      "Port 8787 is already in use.\n",
      "Perhaps you already have a cluster running?\n",
      "Hosting the HTTP server on port 55365 instead\n",
      "\n"
     ]
    },
    {
     "data": {
      "application/vnd.jupyter.widget-view+json": {
       "model_id": "e6d6413eb93f4afa932a35dd95e4ce45",
       "version_major": 2,
       "version_minor": 0
      },
      "text/plain": [
       "Tab(children=(HTML(value='<div class=\"jp-RenderedHTMLCommon jp-RenderedHTML jp-mod-trusted jp-OutputArea-outpu…"
      ]
     },
     "metadata": {},
     "output_type": "display_data"
    }
   ],
   "source": [
    "# PANDAS SETUP\n",
    "pd.options.mode.use_inf_as_na = True\n",
    "\n",
    "# DASK SETUP\n",
    "client, cluster = dask_init()\n",
    "cluster"
   ]
  },
  {
   "cell_type": "code",
   "execution_count": 33,
   "metadata": {},
   "outputs": [
    {
     "data": {
      "text/html": [
       "<div>\n",
       "<style scoped>\n",
       "    .dataframe tbody tr th:only-of-type {\n",
       "        vertical-align: middle;\n",
       "    }\n",
       "\n",
       "    .dataframe tbody tr th {\n",
       "        vertical-align: top;\n",
       "    }\n",
       "\n",
       "    .dataframe thead th {\n",
       "        text-align: right;\n",
       "    }\n",
       "</style>\n",
       "<table border=\"1\" class=\"dataframe\">\n",
       "  <thead>\n",
       "    <tr style=\"text-align: right;\">\n",
       "      <th></th>\n",
       "      <th>n_ratings</th>\n",
       "      <th>n_reviews</th>\n",
       "      <th>uid</th>\n",
       "      <th>username</th>\n",
       "      <th>joined</th>\n",
       "      <th>location</th>\n",
       "      <th>country</th>\n",
       "      <th>cfm_score</th>\n",
       "      <th>exp_score</th>\n",
       "      <th>xpl_score</th>\n",
       "      <th>adv_score</th>\n",
       "      <th>is_cfm</th>\n",
       "      <th>is_exp</th>\n",
       "      <th>is_xpl</th>\n",
       "      <th>is_adv</th>\n",
       "    </tr>\n",
       "  </thead>\n",
       "  <tbody>\n",
       "    <tr>\n",
       "      <th>0</th>\n",
       "      <td>7820</td>\n",
       "      <td>465</td>\n",
       "      <td>nmann08.184925</td>\n",
       "      <td>nmann08</td>\n",
       "      <td>2008-01-07 11:00:00</td>\n",
       "      <td>United States, Washington</td>\n",
       "      <td>United States</td>\n",
       "      <td>-0.875556</td>\n",
       "      <td>-0.423436</td>\n",
       "      <td>0.276726</td>\n",
       "      <td>0.066368</td>\n",
       "      <td>0</td>\n",
       "      <td>0</td>\n",
       "      <td>1</td>\n",
       "      <td>0</td>\n",
       "    </tr>\n",
       "    <tr>\n",
       "      <th>1</th>\n",
       "      <td>2521</td>\n",
       "      <td>2504</td>\n",
       "      <td>stjamesgate.163714</td>\n",
       "      <td>StJamesGate</td>\n",
       "      <td>2007-10-08 10:00:00</td>\n",
       "      <td>United States, New York</td>\n",
       "      <td>United States</td>\n",
       "      <td>-0.516299</td>\n",
       "      <td>-0.282777</td>\n",
       "      <td>0.473622</td>\n",
       "      <td>0.037287</td>\n",
       "      <td>0</td>\n",
       "      <td>0</td>\n",
       "      <td>1</td>\n",
       "      <td>0</td>\n",
       "    </tr>\n",
       "    <tr>\n",
       "      <th>2</th>\n",
       "      <td>2326</td>\n",
       "      <td>0</td>\n",
       "      <td>hellpop65.48993</td>\n",
       "      <td>Hellpop65</td>\n",
       "      <td>2005-11-14 11:00:00</td>\n",
       "      <td>United States, Kansas</td>\n",
       "      <td>United States</td>\n",
       "      <td>-1.783445</td>\n",
       "      <td>-0.621249</td>\n",
       "      <td>0.11264</td>\n",
       "      <td>0.11307</td>\n",
       "      <td>0</td>\n",
       "      <td>0</td>\n",
       "      <td>0</td>\n",
       "      <td>0</td>\n",
       "    </tr>\n",
       "    <tr>\n",
       "      <th>3</th>\n",
       "      <td>3098</td>\n",
       "      <td>0</td>\n",
       "      <td>latarnik.52897</td>\n",
       "      <td>Latarnik</td>\n",
       "      <td>2005-12-02 11:00:00</td>\n",
       "      <td>United States, New Jersey</td>\n",
       "      <td>United States</td>\n",
       "      <td>-0.451196</td>\n",
       "      <td>-0.362152</td>\n",
       "      <td>0.171724</td>\n",
       "      <td>0.244028</td>\n",
       "      <td>0</td>\n",
       "      <td>0</td>\n",
       "      <td>0</td>\n",
       "      <td>1</td>\n",
       "    </tr>\n",
       "    <tr>\n",
       "      <th>4</th>\n",
       "      <td>1866</td>\n",
       "      <td>23</td>\n",
       "      <td>rochefortchris.697017</td>\n",
       "      <td>RochefortChris</td>\n",
       "      <td>2012-10-02 10:00:00</td>\n",
       "      <td>United States, North Carolina</td>\n",
       "      <td>United States</td>\n",
       "      <td>-1.375863</td>\n",
       "      <td>-0.414637</td>\n",
       "      <td>0.209539</td>\n",
       "      <td>0.084137</td>\n",
       "      <td>0</td>\n",
       "      <td>0</td>\n",
       "      <td>1</td>\n",
       "      <td>0</td>\n",
       "    </tr>\n",
       "  </tbody>\n",
       "</table>\n",
       "</div>"
      ],
      "text/plain": [
       "   n_ratings  n_reviews                    uid        username  \\\n",
       "0       7820        465         nmann08.184925         nmann08   \n",
       "1       2521       2504     stjamesgate.163714     StJamesGate   \n",
       "2       2326          0        hellpop65.48993       Hellpop65   \n",
       "3       3098          0         latarnik.52897        Latarnik   \n",
       "4       1866         23  rochefortchris.697017  RochefortChris   \n",
       "\n",
       "               joined                       location        country  \\\n",
       "0 2008-01-07 11:00:00      United States, Washington  United States   \n",
       "1 2007-10-08 10:00:00        United States, New York  United States   \n",
       "2 2005-11-14 11:00:00          United States, Kansas  United States   \n",
       "3 2005-12-02 11:00:00      United States, New Jersey  United States   \n",
       "4 2012-10-02 10:00:00  United States, North Carolina  United States   \n",
       "\n",
       "   cfm_score  exp_score  xpl_score  adv_score  is_cfm  is_exp  is_xpl  is_adv  \n",
       "0  -0.875556  -0.423436   0.276726   0.066368       0       0       1       0  \n",
       "1  -0.516299  -0.282777   0.473622   0.037287       0       0       1       0  \n",
       "2  -1.783445  -0.621249    0.11264    0.11307       0       0       0       0  \n",
       "3  -0.451196  -0.362152   0.171724   0.244028       0       0       0       1  \n",
       "4  -1.375863  -0.414637   0.209539   0.084137       0       0       1       0  "
      ]
     },
     "execution_count": 33,
     "metadata": {},
     "output_type": "execute_result"
    }
   ],
   "source": [
    "scores_ddf = ing.read_parquet('RefinedData\\BeerAdvocate\\\\users_with_scores.parquet')\n",
    "scores_ddf = scores_ddf.compute()\n",
    "scores_ddf.head()"
   ]
  },
  {
   "cell_type": "code",
   "execution_count": 4,
   "metadata": {},
   "outputs": [
    {
     "data": {
      "text/html": [
       "<div>\n",
       "<style scoped>\n",
       "    .dataframe tbody tr th:only-of-type {\n",
       "        vertical-align: middle;\n",
       "    }\n",
       "\n",
       "    .dataframe tbody tr th {\n",
       "        vertical-align: top;\n",
       "    }\n",
       "\n",
       "    .dataframe thead th {\n",
       "        text-align: right;\n",
       "    }\n",
       "</style>\n",
       "<table border=\"1\" class=\"dataframe\">\n",
       "  <thead>\n",
       "    <tr style=\"text-align: right;\">\n",
       "      <th></th>\n",
       "      <th>date</th>\n",
       "      <th>bid</th>\n",
       "      <th>uid</th>\n",
       "      <th>rating</th>\n",
       "      <th>has_review</th>\n",
       "      <th>review</th>\n",
       "      <th>compound</th>\n",
       "    </tr>\n",
       "  </thead>\n",
       "  <tbody>\n",
       "    <tr>\n",
       "      <th>0</th>\n",
       "      <td>2015-08-20 10:00:00</td>\n",
       "      <td>142544</td>\n",
       "      <td>nmann08.184925</td>\n",
       "      <td>2.88</td>\n",
       "      <td>True</td>\n",
       "      <td>From a bottle, pours a piss yellow color with ...</td>\n",
       "      <td>0</td>\n",
       "    </tr>\n",
       "    <tr>\n",
       "      <th>1</th>\n",
       "      <td>2015-11-14 11:00:00</td>\n",
       "      <td>120824</td>\n",
       "      <td>nmann08.184925</td>\n",
       "      <td>3.56</td>\n",
       "      <td>False</td>\n",
       "      <td>None</td>\n",
       "      <td>0</td>\n",
       "    </tr>\n",
       "    <tr>\n",
       "      <th>2</th>\n",
       "      <td>2011-11-18 11:00:00</td>\n",
       "      <td>47581</td>\n",
       "      <td>nmann08.184925</td>\n",
       "      <td>4.50</td>\n",
       "      <td>False</td>\n",
       "      <td>None</td>\n",
       "      <td>0</td>\n",
       "    </tr>\n",
       "    <tr>\n",
       "      <th>3</th>\n",
       "      <td>2013-05-03 10:00:00</td>\n",
       "      <td>93113</td>\n",
       "      <td>nmann08.184925</td>\n",
       "      <td>3.75</td>\n",
       "      <td>False</td>\n",
       "      <td>None</td>\n",
       "      <td>0</td>\n",
       "    </tr>\n",
       "    <tr>\n",
       "      <th>4</th>\n",
       "      <td>2015-01-24 11:00:00</td>\n",
       "      <td>875</td>\n",
       "      <td>nmann08.184925</td>\n",
       "      <td>3.81</td>\n",
       "      <td>False</td>\n",
       "      <td>None</td>\n",
       "      <td>0</td>\n",
       "    </tr>\n",
       "  </tbody>\n",
       "</table>\n",
       "</div>"
      ],
      "text/plain": [
       "                 date     bid             uid  rating  has_review  \\\n",
       "0 2015-08-20 10:00:00  142544  nmann08.184925    2.88        True   \n",
       "1 2015-11-14 11:00:00  120824  nmann08.184925    3.56       False   \n",
       "2 2011-11-18 11:00:00   47581  nmann08.184925    4.50       False   \n",
       "3 2013-05-03 10:00:00   93113  nmann08.184925    3.75       False   \n",
       "4 2015-01-24 11:00:00     875  nmann08.184925    3.81       False   \n",
       "\n",
       "                                              review  compound  \n",
       "0  From a bottle, pours a piss yellow color with ...         0  \n",
       "1                                               None         0  \n",
       "2                                               None         0  \n",
       "3                                               None         0  \n",
       "4                                               None         0  "
      ]
     },
     "execution_count": 4,
     "metadata": {},
     "output_type": "execute_result"
    }
   ],
   "source": [
    "ratings_ddf = ing.read_parquet('RefinedData\\BeerAdvocate\\\\ratings.parquet')\n",
    "ratings_ddf = ratings_ddf.compute()\n",
    "ratings_ddf.head()"
   ]
  },
  {
   "cell_type": "code",
   "execution_count": 5,
   "metadata": {},
   "outputs": [
    {
     "data": {
      "text/html": [
       "<div>\n",
       "<style scoped>\n",
       "    .dataframe tbody tr th:only-of-type {\n",
       "        vertical-align: middle;\n",
       "    }\n",
       "\n",
       "    .dataframe tbody tr th {\n",
       "        vertical-align: top;\n",
       "    }\n",
       "\n",
       "    .dataframe thead th {\n",
       "        text-align: right;\n",
       "    }\n",
       "</style>\n",
       "<table border=\"1\" class=\"dataframe\">\n",
       "  <thead>\n",
       "    <tr style=\"text-align: right;\">\n",
       "      <th></th>\n",
       "      <th>bid</th>\n",
       "      <th>n_ratings</th>\n",
       "      <th>avg_rating</th>\n",
       "      <th>n_reviews</th>\n",
       "      <th>review_rate</th>\n",
       "      <th>ba_score</th>\n",
       "      <th>bros_score</th>\n",
       "      <th>name</th>\n",
       "      <th>style</th>\n",
       "      <th>abv</th>\n",
       "    </tr>\n",
       "  </thead>\n",
       "  <tbody>\n",
       "    <tr>\n",
       "      <th>0</th>\n",
       "      <td>5</td>\n",
       "      <td>1538</td>\n",
       "      <td>3.441203</td>\n",
       "      <td>520</td>\n",
       "      <td>0.338101</td>\n",
       "      <td>78.0</td>\n",
       "      <td>89.0</td>\n",
       "      <td>Amber</td>\n",
       "      <td>Vienna Lager</td>\n",
       "      <td>4.5</td>\n",
       "    </tr>\n",
       "    <tr>\n",
       "      <th>1</th>\n",
       "      <td>6</td>\n",
       "      <td>2660</td>\n",
       "      <td>3.657617</td>\n",
       "      <td>968</td>\n",
       "      <td>0.363910</td>\n",
       "      <td>82.0</td>\n",
       "      <td>90.0</td>\n",
       "      <td>Turbodog</td>\n",
       "      <td>English Brown Ale</td>\n",
       "      <td>5.6</td>\n",
       "    </tr>\n",
       "    <tr>\n",
       "      <th>2</th>\n",
       "      <td>7</td>\n",
       "      <td>2977</td>\n",
       "      <td>3.265694</td>\n",
       "      <td>778</td>\n",
       "      <td>0.261337</td>\n",
       "      <td>74.0</td>\n",
       "      <td>88.0</td>\n",
       "      <td>Purple Haze</td>\n",
       "      <td>Fruit / Vegetable Beer</td>\n",
       "      <td>4.2</td>\n",
       "    </tr>\n",
       "    <tr>\n",
       "      <th>3</th>\n",
       "      <td>8</td>\n",
       "      <td>132</td>\n",
       "      <td>3.290682</td>\n",
       "      <td>70</td>\n",
       "      <td>0.530303</td>\n",
       "      <td>77.0</td>\n",
       "      <td>89.0</td>\n",
       "      <td>Wheat</td>\n",
       "      <td>American Adjunct Lager</td>\n",
       "      <td>4.2</td>\n",
       "    </tr>\n",
       "    <tr>\n",
       "      <th>4</th>\n",
       "      <td>9</td>\n",
       "      <td>215</td>\n",
       "      <td>3.172698</td>\n",
       "      <td>120</td>\n",
       "      <td>0.558140</td>\n",
       "      <td>74.0</td>\n",
       "      <td>83.0</td>\n",
       "      <td>Golden</td>\n",
       "      <td>American Pale Lager</td>\n",
       "      <td>4.2</td>\n",
       "    </tr>\n",
       "  </tbody>\n",
       "</table>\n",
       "</div>"
      ],
      "text/plain": [
       "   bid  n_ratings  avg_rating  n_reviews  review_rate  ba_score  bros_score  \\\n",
       "0    5       1538    3.441203        520     0.338101      78.0        89.0   \n",
       "1    6       2660    3.657617        968     0.363910      82.0        90.0   \n",
       "2    7       2977    3.265694        778     0.261337      74.0        88.0   \n",
       "3    8        132    3.290682         70     0.530303      77.0        89.0   \n",
       "4    9        215    3.172698        120     0.558140      74.0        83.0   \n",
       "\n",
       "          name                   style  abv  \n",
       "0        Amber            Vienna Lager  4.5  \n",
       "1     Turbodog       English Brown Ale  5.6  \n",
       "2  Purple Haze  Fruit / Vegetable Beer  4.2  \n",
       "3        Wheat  American Adjunct Lager  4.2  \n",
       "4       Golden     American Pale Lager  4.2  "
      ]
     },
     "execution_count": 5,
     "metadata": {},
     "output_type": "execute_result"
    }
   ],
   "source": [
    "beers_ddf = ing.read_parquet('RefinedData\\BeerAdvocate\\\\beers.parquet')\n",
    "beers_ddf = beers_ddf.compute()\n",
    "beers_ddf.head()"
   ]
  },
  {
   "attachments": {},
   "cell_type": "markdown",
   "metadata": {},
   "source": [
    "# Goal of the analysis (beer style):\n",
    "1) what types of beers are rated more by each categories relative to their number of ratings\n",
    "2) what type of beer each category like more (ie. are the ratings better for some category of beers)"
   ]
  },
  {
   "attachments": {},
   "cell_type": "markdown",
   "metadata": {},
   "source": [
    "## What style of beer are more rated by each category"
   ]
  },
  {
   "cell_type": "code",
   "execution_count": 6,
   "metadata": {},
   "outputs": [],
   "source": [
    "# get user for each category\n",
    "cfm_users = scores_ddf[scores_ddf[\"is_cfm\"] == True]\n",
    "exp_users = scores_ddf[scores_ddf[\"is_exp\"] == True]\n",
    "xpl_users = scores_ddf[scores_ddf[\"is_xpl\"] == True]\n",
    "adv_users = scores_ddf[scores_ddf[\"is_adv\"] == True]\n",
    "\n",
    "# group by rating for each category\n",
    "cfm_ratings = ratings_ddf[ratings_ddf[\"uid\"].isin(cfm_users[\"uid\"])]\n",
    "exp_ratings = ratings_ddf[ratings_ddf[\"uid\"].isin(exp_users[\"uid\"])]\n",
    "xpl_ratings = ratings_ddf[ratings_ddf[\"uid\"].isin(xpl_users[\"uid\"])]\n",
    "adv_ratings = ratings_ddf[ratings_ddf[\"uid\"].isin(adv_users[\"uid\"])]\n",
    "\n"
   ]
  },
  {
   "cell_type": "code",
   "execution_count": 7,
   "metadata": {},
   "outputs": [
    {
     "data": {
      "text/html": [
       "<div>\n",
       "<style scoped>\n",
       "    .dataframe tbody tr th:only-of-type {\n",
       "        vertical-align: middle;\n",
       "    }\n",
       "\n",
       "    .dataframe tbody tr th {\n",
       "        vertical-align: top;\n",
       "    }\n",
       "\n",
       "    .dataframe thead th {\n",
       "        text-align: right;\n",
       "    }\n",
       "</style>\n",
       "<table border=\"1\" class=\"dataframe\">\n",
       "  <thead>\n",
       "    <tr style=\"text-align: right;\">\n",
       "      <th></th>\n",
       "      <th>date</th>\n",
       "      <th>bid</th>\n",
       "      <th>uid</th>\n",
       "      <th>rating</th>\n",
       "      <th>has_review</th>\n",
       "      <th>review</th>\n",
       "      <th>compound</th>\n",
       "    </tr>\n",
       "  </thead>\n",
       "  <tbody>\n",
       "    <tr>\n",
       "      <th>1862</th>\n",
       "      <td>2014-01-25 11:00:00</td>\n",
       "      <td>19827</td>\n",
       "      <td>jaydoc.265507</td>\n",
       "      <td>3.25</td>\n",
       "      <td>False</td>\n",
       "      <td>None</td>\n",
       "      <td>0</td>\n",
       "    </tr>\n",
       "    <tr>\n",
       "      <th>1863</th>\n",
       "      <td>2014-01-25 11:00:00</td>\n",
       "      <td>20842</td>\n",
       "      <td>jaydoc.265507</td>\n",
       "      <td>3.75</td>\n",
       "      <td>False</td>\n",
       "      <td>None</td>\n",
       "      <td>0</td>\n",
       "    </tr>\n",
       "    <tr>\n",
       "      <th>1864</th>\n",
       "      <td>2013-11-27 11:00:00</td>\n",
       "      <td>4720</td>\n",
       "      <td>jaydoc.265507</td>\n",
       "      <td>3.50</td>\n",
       "      <td>False</td>\n",
       "      <td>None</td>\n",
       "      <td>0</td>\n",
       "    </tr>\n",
       "    <tr>\n",
       "      <th>1865</th>\n",
       "      <td>2013-11-27 11:00:00</td>\n",
       "      <td>41037</td>\n",
       "      <td>jaydoc.265507</td>\n",
       "      <td>4.00</td>\n",
       "      <td>False</td>\n",
       "      <td>None</td>\n",
       "      <td>0</td>\n",
       "    </tr>\n",
       "    <tr>\n",
       "      <th>1866</th>\n",
       "      <td>2013-11-27 11:00:00</td>\n",
       "      <td>41012</td>\n",
       "      <td>jaydoc.265507</td>\n",
       "      <td>4.00</td>\n",
       "      <td>False</td>\n",
       "      <td>None</td>\n",
       "      <td>0</td>\n",
       "    </tr>\n",
       "    <tr>\n",
       "      <th>...</th>\n",
       "      <td>...</td>\n",
       "      <td>...</td>\n",
       "      <td>...</td>\n",
       "      <td>...</td>\n",
       "      <td>...</td>\n",
       "      <td>...</td>\n",
       "      <td>...</td>\n",
       "    </tr>\n",
       "    <tr>\n",
       "      <th>154230</th>\n",
       "      <td>2005-11-15 11:00:00</td>\n",
       "      <td>1505</td>\n",
       "      <td>tboom29.8226</td>\n",
       "      <td>3.59</td>\n",
       "      <td>True</td>\n",
       "      <td>This beer pours a very dark auburn red. The no...</td>\n",
       "      <td>0</td>\n",
       "    </tr>\n",
       "    <tr>\n",
       "      <th>154284</th>\n",
       "      <td>2005-11-17 11:00:00</td>\n",
       "      <td>25684</td>\n",
       "      <td>skittlebrau.41838</td>\n",
       "      <td>4.43</td>\n",
       "      <td>True</td>\n",
       "      <td>Wow, where do I start with this one. Well, as ...</td>\n",
       "      <td>0</td>\n",
       "    </tr>\n",
       "    <tr>\n",
       "      <th>154328</th>\n",
       "      <td>2013-10-25 10:00:00</td>\n",
       "      <td>70471</td>\n",
       "      <td>hipboy221.727431</td>\n",
       "      <td>3.75</td>\n",
       "      <td>False</td>\n",
       "      <td>None</td>\n",
       "      <td>0</td>\n",
       "    </tr>\n",
       "    <tr>\n",
       "      <th>154334</th>\n",
       "      <td>2015-01-29 11:00:00</td>\n",
       "      <td>141790</td>\n",
       "      <td>johlac66.829174</td>\n",
       "      <td>4.38</td>\n",
       "      <td>False</td>\n",
       "      <td>None</td>\n",
       "      <td>0</td>\n",
       "    </tr>\n",
       "    <tr>\n",
       "      <th>154335</th>\n",
       "      <td>2014-10-06 10:00:00</td>\n",
       "      <td>64097</td>\n",
       "      <td>johlac66.829174</td>\n",
       "      <td>3.80</td>\n",
       "      <td>False</td>\n",
       "      <td>None</td>\n",
       "      <td>0</td>\n",
       "    </tr>\n",
       "  </tbody>\n",
       "</table>\n",
       "<p>1271046 rows × 7 columns</p>\n",
       "</div>"
      ],
      "text/plain": [
       "                      date     bid                uid  rating  has_review  \\\n",
       "1862   2014-01-25 11:00:00   19827      jaydoc.265507    3.25       False   \n",
       "1863   2014-01-25 11:00:00   20842      jaydoc.265507    3.75       False   \n",
       "1864   2013-11-27 11:00:00    4720      jaydoc.265507    3.50       False   \n",
       "1865   2013-11-27 11:00:00   41037      jaydoc.265507    4.00       False   \n",
       "1866   2013-11-27 11:00:00   41012      jaydoc.265507    4.00       False   \n",
       "...                    ...     ...                ...     ...         ...   \n",
       "154230 2005-11-15 11:00:00    1505       tboom29.8226    3.59        True   \n",
       "154284 2005-11-17 11:00:00   25684  skittlebrau.41838    4.43        True   \n",
       "154328 2013-10-25 10:00:00   70471   hipboy221.727431    3.75       False   \n",
       "154334 2015-01-29 11:00:00  141790    johlac66.829174    4.38       False   \n",
       "154335 2014-10-06 10:00:00   64097    johlac66.829174    3.80       False   \n",
       "\n",
       "                                                   review  compound  \n",
       "1862                                                 None         0  \n",
       "1863                                                 None         0  \n",
       "1864                                                 None         0  \n",
       "1865                                                 None         0  \n",
       "1866                                                 None         0  \n",
       "...                                                   ...       ...  \n",
       "154230  This beer pours a very dark auburn red. The no...         0  \n",
       "154284  Wow, where do I start with this one. Well, as ...         0  \n",
       "154328                                               None         0  \n",
       "154334                                               None         0  \n",
       "154335                                               None         0  \n",
       "\n",
       "[1271046 rows x 7 columns]"
      ]
     },
     "execution_count": 7,
     "metadata": {},
     "output_type": "execute_result"
    }
   ],
   "source": [
    "cfm_ratings"
   ]
  },
  {
   "cell_type": "code",
   "execution_count": 8,
   "metadata": {},
   "outputs": [],
   "source": [
    "# get style of beer for each bid\n",
    "cfm_ratings = cfm_ratings.merge(beers_ddf[[\"bid\", \"style\"]], on=\"bid\")\n",
    "exp_ratings = exp_ratings.merge(beers_ddf[[\"bid\", \"style\"]], on=\"bid\")\n",
    "xpl_ratings = xpl_ratings.merge(beers_ddf[[\"bid\", \"style\"]], on=\"bid\")\n",
    "adv_ratings = adv_ratings.merge(beers_ddf[[\"bid\", \"style\"]], on=\"bid\")\n",
    "overall_ratings = ratings_ddf.merge(beers_ddf[[\"bid\", \"style\"]], on=\"bid\")"
   ]
  },
  {
   "cell_type": "code",
   "execution_count": 9,
   "metadata": {},
   "outputs": [
    {
     "data": {
      "text/plain": [
       "(7654894, 8)"
      ]
     },
     "execution_count": 9,
     "metadata": {},
     "output_type": "execute_result"
    }
   ],
   "source": [
    "overall_ratings.shape"
   ]
  },
  {
   "cell_type": "code",
   "execution_count": 10,
   "metadata": {},
   "outputs": [],
   "source": [
    "# count of each style for each category\n",
    "cfm_style_count = cfm_ratings.groupby(\"style\").count()[\"uid\"]\n",
    "exp_style_count = exp_ratings.groupby(\"style\").count()[\"uid\"]\n",
    "xpl_style_count = xpl_ratings.groupby(\"style\").count()[\"uid\"]\n",
    "adv_style_count = adv_ratings.groupby(\"style\").count()[\"uid\"]\n",
    "overall_style_count = overall_ratings.groupby(\"style\").count()[\"uid\"]\n"
   ]
  },
  {
   "cell_type": "code",
   "execution_count": 11,
   "metadata": {},
   "outputs": [],
   "source": [
    "# normalize count of each style for each category by number of ratings for each category\n",
    "cfm_style_count = cfm_style_count / cfm_ratings.shape[0]\n",
    "exp_style_count = exp_style_count / exp_ratings.shape[0]\n",
    "xpl_style_count = xpl_style_count / xpl_ratings.shape[0]\n",
    "adv_style_count = adv_style_count / adv_ratings.shape[0]\n",
    "overall_style_count = overall_style_count / overall_ratings.shape[0]"
   ]
  },
  {
   "cell_type": "code",
   "execution_count": 12,
   "metadata": {},
   "outputs": [],
   "source": [
    "# sort by highest count\n",
    "cfm_style_count = cfm_style_count.sort_values(ascending=False)\n",
    "exp_style_count = exp_style_count.sort_values(ascending=False)\n",
    "xpl_style_count = xpl_style_count.sort_values(ascending=False)\n",
    "adv_style_count = adv_style_count.sort_values(ascending=False)\n",
    "overall_style_count = overall_style_count.sort_values(ascending=False)"
   ]
  },
  {
   "cell_type": "code",
   "execution_count": 13,
   "metadata": {},
   "outputs": [],
   "source": [
    "# get top 10 styles for each category\n",
    "cfm_style_count_top_10 = cfm_style_count[:10]\n",
    "exp_style_count_top_10 = exp_style_count[:10]\n",
    "xpl_style_count_top_10 = xpl_style_count[:10]\n",
    "adv_style_count_top_10 = adv_style_count[:10]\n",
    "overall_style_count_top_10 = overall_style_count[:10]"
   ]
  },
  {
   "cell_type": "code",
   "execution_count": 14,
   "metadata": {},
   "outputs": [
    {
     "data": {
      "text/plain": [
       "['Quadrupel (Quad)',\n",
       " 'American Adjunct Lager',\n",
       " 'American IPA',\n",
       " 'German Pilsener',\n",
       " 'Saison / Farmhouse Ale',\n",
       " 'Witbier',\n",
       " 'American Wild Ale',\n",
       " 'American Pale Ale (APA)',\n",
       " 'American Amber / Red Ale',\n",
       " 'Russian Imperial Stout',\n",
       " 'Euro Pale Lager',\n",
       " 'American Porter',\n",
       " 'American Double / Imperial IPA',\n",
       " 'Fruit / Vegetable Beer',\n",
       " 'American Double / Imperial Stout',\n",
       " 'Light Lager']"
      ]
     },
     "execution_count": 14,
     "metadata": {},
     "output_type": "execute_result"
    }
   ],
   "source": [
    "# get list of all styles which are present in the top 10 of any category\n",
    "styles = list(set(cfm_style_count_top_10.index).union(set(exp_style_count_top_10.index)).union(set(xpl_style_count_top_10.index)).union(set(adv_style_count_top_10.index)).union(set(overall_style_count_top_10.index)))\n",
    "styles"
   ]
  },
  {
   "cell_type": "code",
   "execution_count": 15,
   "metadata": {},
   "outputs": [],
   "source": [
    "# keep only styles which are present in the top 10 of any category\n",
    "cfm_style_count = cfm_style_count[cfm_style_count.index.isin(styles)]\n",
    "exp_style_count = exp_style_count[exp_style_count.index.isin(styles)]\n",
    "xpl_style_count = xpl_style_count[xpl_style_count.index.isin(styles)]\n",
    "adv_style_count = adv_style_count[adv_style_count.index.isin(styles)]\n",
    "overall_style_count = overall_style_count[overall_style_count.index.isin(styles)]"
   ]
  },
  {
   "attachments": {},
   "cell_type": "markdown",
   "metadata": {},
   "source": [
    "Goal: obtain the percentage of rating for each style of beer(percent in terms of their total number of rating) for each category of users"
   ]
  },
  {
   "cell_type": "code",
   "execution_count": 16,
   "metadata": {},
   "outputs": [
    {
     "data": {
      "text/plain": [
       "style\n",
       "American IPA                        0.120096\n",
       "American Double / Imperial IPA      0.089675\n",
       "American Double / Imperial Stout    0.060493\n",
       "American Pale Ale (APA)             0.046723\n",
       "Saison / Farmhouse Ale              0.036436\n",
       "American Wild Ale                   0.032632\n",
       "American Porter                     0.031244\n",
       "Russian Imperial Stout              0.030692\n",
       "American Amber / Red Ale            0.024390\n",
       "Fruit / Vegetable Beer              0.020014\n",
       "Witbier                             0.014655\n",
       "American Adjunct Lager              0.012252\n",
       "Quadrupel (Quad)                    0.010645\n",
       "German Pilsener                     0.009590\n",
       "Light Lager                         0.006586\n",
       "Euro Pale Lager                     0.005671\n",
       "Name: uid, dtype: float64"
      ]
     },
     "execution_count": 16,
     "metadata": {},
     "output_type": "execute_result"
    }
   ],
   "source": [
    "overall_style_count"
   ]
  },
  {
   "cell_type": "code",
   "execution_count": 17,
   "metadata": {},
   "outputs": [],
   "source": [
    "# convert style count for each category to percentage with rounding\n",
    "cfm_style_count = cfm_style_count.apply(lambda x: round(x * 100, 2))\n",
    "exp_style_count = exp_style_count.apply(lambda x: round(x * 100, 2))\n",
    "xpl_style_count = xpl_style_count.apply(lambda x: round(x * 100, 2))\n",
    "adv_style_count = adv_style_count.apply(lambda x: round(x * 100, 2))\n",
    "overall_style_count = overall_style_count.apply(lambda x: round(x * 100, 2))"
   ]
  },
  {
   "cell_type": "code",
   "execution_count": 21,
   "metadata": {},
   "outputs": [
    {
     "data": {
      "application/vnd.plotly.v1+json": {
       "config": {
        "plotlyServerURL": "https://plot.ly"
       },
       "data": [
        {
         "marker": {
          "color": "#F7F5C2"
         },
         "name": "CFM",
         "orientation": "v",
         "type": "bar",
         "x": [
          "American IPA",
          "American Double / Imperial IPA",
          "American Double / Imperial Stout",
          "American Pale Ale (APA)",
          "Saison / Farmhouse Ale",
          "American Wild Ale",
          "American Porter",
          "Russian Imperial Stout",
          "American Amber / Red Ale",
          "Fruit / Vegetable Beer",
          "Witbier",
          "Quadrupel (Quad)",
          "American Adjunct Lager",
          "German Pilsener",
          "Light Lager",
          "Euro Pale Lager"
         ],
         "y": [
          12.96,
          9.5,
          6.33,
          4.92,
          3.91,
          3.36,
          3.15,
          2.98,
          2.38,
          1.85,
          1.36,
          1.04,
          1,
          0.92,
          0.52,
          0.46
         ]
        },
        {
         "marker": {
          "color": "#666666"
         },
         "name": "EXP",
         "orientation": "v",
         "type": "bar",
         "x": [
          "American Double / Imperial IPA",
          "American IPA",
          "American Double / Imperial Stout",
          "American Pale Ale (APA)",
          "Russian Imperial Stout",
          "American Wild Ale",
          "American Porter",
          "Saison / Farmhouse Ale",
          "American Amber / Red Ale",
          "Quadrupel (Quad)",
          "Fruit / Vegetable Beer",
          "Witbier",
          "German Pilsener",
          "American Adjunct Lager",
          "Light Lager",
          "Euro Pale Lager"
         ],
         "y": [
          17.35,
          15.02,
          10.41,
          5.12,
          3.8,
          2.93,
          2.6,
          2.49,
          1.98,
          1.71,
          1.4,
          0.9,
          0.61,
          0.6,
          0.27,
          0.26
         ]
        },
        {
         "marker": {
          "color": "#572200"
         },
         "name": "XPL",
         "orientation": "v",
         "type": "bar",
         "x": [
          "American IPA",
          "American Double / Imperial IPA",
          "American Pale Ale (APA)",
          "American Double / Imperial Stout",
          "Saison / Farmhouse Ale",
          "American Wild Ale",
          "American Porter",
          "American Amber / Red Ale",
          "Russian Imperial Stout",
          "Fruit / Vegetable Beer",
          "Witbier",
          "German Pilsener",
          "American Adjunct Lager",
          "Quadrupel (Quad)",
          "Euro Pale Lager",
          "Light Lager"
         ],
         "y": [
          10.82,
          6.65,
          4.84,
          4.66,
          4.5,
          3.88,
          3.17,
          2.55,
          2.47,
          1.96,
          1.47,
          1.14,
          1.07,
          0.89,
          0.77,
          0.46
         ]
        },
        {
         "marker": {
          "color": "#887777"
         },
         "name": "ADV",
         "orientation": "v",
         "type": "bar",
         "x": [
          "American Adjunct Lager",
          "American IPA",
          "Light Lager",
          "American Pale Ale (APA)",
          "Fruit / Vegetable Beer",
          "Euro Pale Lager",
          "American Amber / Red Ale",
          "Witbier",
          "American Double / Imperial IPA",
          "German Pilsener",
          "American Porter",
          "American Double / Imperial Stout",
          "Saison / Farmhouse Ale",
          "Russian Imperial Stout",
          "Quadrupel (Quad)",
          "American Wild Ale"
         ],
         "y": [
          7.89,
          6.99,
          4.37,
          4,
          3.85,
          3.15,
          2.84,
          2.79,
          2.65,
          2.27,
          2.14,
          1.14,
          1.1,
          1.07,
          0.5,
          0.28
         ]
        },
        {
         "marker": {
          "color": "#333333"
         },
         "name": "Overall",
         "orientation": "v",
         "type": "bar",
         "x": [
          "American IPA",
          "American Double / Imperial IPA",
          "American Double / Imperial Stout",
          "American Pale Ale (APA)",
          "Saison / Farmhouse Ale",
          "American Wild Ale",
          "American Porter",
          "Russian Imperial Stout",
          "American Amber / Red Ale",
          "Fruit / Vegetable Beer",
          "Witbier",
          "American Adjunct Lager",
          "Quadrupel (Quad)",
          "German Pilsener",
          "Light Lager",
          "Euro Pale Lager"
         ],
         "y": [
          12.01,
          8.97,
          6.05,
          4.67,
          3.64,
          3.26,
          3.12,
          3.07,
          2.44,
          2,
          1.47,
          1.23,
          1.06,
          0.96,
          0.66,
          0.57
         ]
        }
       ],
       "layout": {
        "barmode": "group",
        "paper_bgcolor": "rgba(0,0,0,0)",
        "plot_bgcolor": "rgba(0,0,0,0)",
        "template": {
         "data": {
          "bar": [
           {
            "error_x": {
             "color": "#2a3f5f"
            },
            "error_y": {
             "color": "#2a3f5f"
            },
            "marker": {
             "line": {
              "color": "#E5ECF6",
              "width": 0.5
             },
             "pattern": {
              "fillmode": "overlay",
              "size": 10,
              "solidity": 0.2
             }
            },
            "type": "bar"
           }
          ],
          "barpolar": [
           {
            "marker": {
             "line": {
              "color": "#E5ECF6",
              "width": 0.5
             },
             "pattern": {
              "fillmode": "overlay",
              "size": 10,
              "solidity": 0.2
             }
            },
            "type": "barpolar"
           }
          ],
          "carpet": [
           {
            "aaxis": {
             "endlinecolor": "#2a3f5f",
             "gridcolor": "white",
             "linecolor": "white",
             "minorgridcolor": "white",
             "startlinecolor": "#2a3f5f"
            },
            "baxis": {
             "endlinecolor": "#2a3f5f",
             "gridcolor": "white",
             "linecolor": "white",
             "minorgridcolor": "white",
             "startlinecolor": "#2a3f5f"
            },
            "type": "carpet"
           }
          ],
          "choropleth": [
           {
            "colorbar": {
             "outlinewidth": 0,
             "ticks": ""
            },
            "type": "choropleth"
           }
          ],
          "contour": [
           {
            "colorbar": {
             "outlinewidth": 0,
             "ticks": ""
            },
            "colorscale": [
             [
              0,
              "#0d0887"
             ],
             [
              0.1111111111111111,
              "#46039f"
             ],
             [
              0.2222222222222222,
              "#7201a8"
             ],
             [
              0.3333333333333333,
              "#9c179e"
             ],
             [
              0.4444444444444444,
              "#bd3786"
             ],
             [
              0.5555555555555556,
              "#d8576b"
             ],
             [
              0.6666666666666666,
              "#ed7953"
             ],
             [
              0.7777777777777778,
              "#fb9f3a"
             ],
             [
              0.8888888888888888,
              "#fdca26"
             ],
             [
              1,
              "#f0f921"
             ]
            ],
            "type": "contour"
           }
          ],
          "contourcarpet": [
           {
            "colorbar": {
             "outlinewidth": 0,
             "ticks": ""
            },
            "type": "contourcarpet"
           }
          ],
          "heatmap": [
           {
            "colorbar": {
             "outlinewidth": 0,
             "ticks": ""
            },
            "colorscale": [
             [
              0,
              "#0d0887"
             ],
             [
              0.1111111111111111,
              "#46039f"
             ],
             [
              0.2222222222222222,
              "#7201a8"
             ],
             [
              0.3333333333333333,
              "#9c179e"
             ],
             [
              0.4444444444444444,
              "#bd3786"
             ],
             [
              0.5555555555555556,
              "#d8576b"
             ],
             [
              0.6666666666666666,
              "#ed7953"
             ],
             [
              0.7777777777777778,
              "#fb9f3a"
             ],
             [
              0.8888888888888888,
              "#fdca26"
             ],
             [
              1,
              "#f0f921"
             ]
            ],
            "type": "heatmap"
           }
          ],
          "heatmapgl": [
           {
            "colorbar": {
             "outlinewidth": 0,
             "ticks": ""
            },
            "colorscale": [
             [
              0,
              "#0d0887"
             ],
             [
              0.1111111111111111,
              "#46039f"
             ],
             [
              0.2222222222222222,
              "#7201a8"
             ],
             [
              0.3333333333333333,
              "#9c179e"
             ],
             [
              0.4444444444444444,
              "#bd3786"
             ],
             [
              0.5555555555555556,
              "#d8576b"
             ],
             [
              0.6666666666666666,
              "#ed7953"
             ],
             [
              0.7777777777777778,
              "#fb9f3a"
             ],
             [
              0.8888888888888888,
              "#fdca26"
             ],
             [
              1,
              "#f0f921"
             ]
            ],
            "type": "heatmapgl"
           }
          ],
          "histogram": [
           {
            "marker": {
             "pattern": {
              "fillmode": "overlay",
              "size": 10,
              "solidity": 0.2
             }
            },
            "type": "histogram"
           }
          ],
          "histogram2d": [
           {
            "colorbar": {
             "outlinewidth": 0,
             "ticks": ""
            },
            "colorscale": [
             [
              0,
              "#0d0887"
             ],
             [
              0.1111111111111111,
              "#46039f"
             ],
             [
              0.2222222222222222,
              "#7201a8"
             ],
             [
              0.3333333333333333,
              "#9c179e"
             ],
             [
              0.4444444444444444,
              "#bd3786"
             ],
             [
              0.5555555555555556,
              "#d8576b"
             ],
             [
              0.6666666666666666,
              "#ed7953"
             ],
             [
              0.7777777777777778,
              "#fb9f3a"
             ],
             [
              0.8888888888888888,
              "#fdca26"
             ],
             [
              1,
              "#f0f921"
             ]
            ],
            "type": "histogram2d"
           }
          ],
          "histogram2dcontour": [
           {
            "colorbar": {
             "outlinewidth": 0,
             "ticks": ""
            },
            "colorscale": [
             [
              0,
              "#0d0887"
             ],
             [
              0.1111111111111111,
              "#46039f"
             ],
             [
              0.2222222222222222,
              "#7201a8"
             ],
             [
              0.3333333333333333,
              "#9c179e"
             ],
             [
              0.4444444444444444,
              "#bd3786"
             ],
             [
              0.5555555555555556,
              "#d8576b"
             ],
             [
              0.6666666666666666,
              "#ed7953"
             ],
             [
              0.7777777777777778,
              "#fb9f3a"
             ],
             [
              0.8888888888888888,
              "#fdca26"
             ],
             [
              1,
              "#f0f921"
             ]
            ],
            "type": "histogram2dcontour"
           }
          ],
          "mesh3d": [
           {
            "colorbar": {
             "outlinewidth": 0,
             "ticks": ""
            },
            "type": "mesh3d"
           }
          ],
          "parcoords": [
           {
            "line": {
             "colorbar": {
              "outlinewidth": 0,
              "ticks": ""
             }
            },
            "type": "parcoords"
           }
          ],
          "pie": [
           {
            "automargin": true,
            "type": "pie"
           }
          ],
          "scatter": [
           {
            "fillpattern": {
             "fillmode": "overlay",
             "size": 10,
             "solidity": 0.2
            },
            "type": "scatter"
           }
          ],
          "scatter3d": [
           {
            "line": {
             "colorbar": {
              "outlinewidth": 0,
              "ticks": ""
             }
            },
            "marker": {
             "colorbar": {
              "outlinewidth": 0,
              "ticks": ""
             }
            },
            "type": "scatter3d"
           }
          ],
          "scattercarpet": [
           {
            "marker": {
             "colorbar": {
              "outlinewidth": 0,
              "ticks": ""
             }
            },
            "type": "scattercarpet"
           }
          ],
          "scattergeo": [
           {
            "marker": {
             "colorbar": {
              "outlinewidth": 0,
              "ticks": ""
             }
            },
            "type": "scattergeo"
           }
          ],
          "scattergl": [
           {
            "marker": {
             "colorbar": {
              "outlinewidth": 0,
              "ticks": ""
             }
            },
            "type": "scattergl"
           }
          ],
          "scattermapbox": [
           {
            "marker": {
             "colorbar": {
              "outlinewidth": 0,
              "ticks": ""
             }
            },
            "type": "scattermapbox"
           }
          ],
          "scatterpolar": [
           {
            "marker": {
             "colorbar": {
              "outlinewidth": 0,
              "ticks": ""
             }
            },
            "type": "scatterpolar"
           }
          ],
          "scatterpolargl": [
           {
            "marker": {
             "colorbar": {
              "outlinewidth": 0,
              "ticks": ""
             }
            },
            "type": "scatterpolargl"
           }
          ],
          "scatterternary": [
           {
            "marker": {
             "colorbar": {
              "outlinewidth": 0,
              "ticks": ""
             }
            },
            "type": "scatterternary"
           }
          ],
          "surface": [
           {
            "colorbar": {
             "outlinewidth": 0,
             "ticks": ""
            },
            "colorscale": [
             [
              0,
              "#0d0887"
             ],
             [
              0.1111111111111111,
              "#46039f"
             ],
             [
              0.2222222222222222,
              "#7201a8"
             ],
             [
              0.3333333333333333,
              "#9c179e"
             ],
             [
              0.4444444444444444,
              "#bd3786"
             ],
             [
              0.5555555555555556,
              "#d8576b"
             ],
             [
              0.6666666666666666,
              "#ed7953"
             ],
             [
              0.7777777777777778,
              "#fb9f3a"
             ],
             [
              0.8888888888888888,
              "#fdca26"
             ],
             [
              1,
              "#f0f921"
             ]
            ],
            "type": "surface"
           }
          ],
          "table": [
           {
            "cells": {
             "fill": {
              "color": "#EBF0F8"
             },
             "line": {
              "color": "white"
             }
            },
            "header": {
             "fill": {
              "color": "#C8D4E3"
             },
             "line": {
              "color": "white"
             }
            },
            "type": "table"
           }
          ]
         },
         "layout": {
          "annotationdefaults": {
           "arrowcolor": "#2a3f5f",
           "arrowhead": 0,
           "arrowwidth": 1
          },
          "autotypenumbers": "strict",
          "coloraxis": {
           "colorbar": {
            "outlinewidth": 0,
            "ticks": ""
           }
          },
          "colorscale": {
           "diverging": [
            [
             0,
             "#8e0152"
            ],
            [
             0.1,
             "#c51b7d"
            ],
            [
             0.2,
             "#de77ae"
            ],
            [
             0.3,
             "#f1b6da"
            ],
            [
             0.4,
             "#fde0ef"
            ],
            [
             0.5,
             "#f7f7f7"
            ],
            [
             0.6,
             "#e6f5d0"
            ],
            [
             0.7,
             "#b8e186"
            ],
            [
             0.8,
             "#7fbc41"
            ],
            [
             0.9,
             "#4d9221"
            ],
            [
             1,
             "#276419"
            ]
           ],
           "sequential": [
            [
             0,
             "#0d0887"
            ],
            [
             0.1111111111111111,
             "#46039f"
            ],
            [
             0.2222222222222222,
             "#7201a8"
            ],
            [
             0.3333333333333333,
             "#9c179e"
            ],
            [
             0.4444444444444444,
             "#bd3786"
            ],
            [
             0.5555555555555556,
             "#d8576b"
            ],
            [
             0.6666666666666666,
             "#ed7953"
            ],
            [
             0.7777777777777778,
             "#fb9f3a"
            ],
            [
             0.8888888888888888,
             "#fdca26"
            ],
            [
             1,
             "#f0f921"
            ]
           ],
           "sequentialminus": [
            [
             0,
             "#0d0887"
            ],
            [
             0.1111111111111111,
             "#46039f"
            ],
            [
             0.2222222222222222,
             "#7201a8"
            ],
            [
             0.3333333333333333,
             "#9c179e"
            ],
            [
             0.4444444444444444,
             "#bd3786"
            ],
            [
             0.5555555555555556,
             "#d8576b"
            ],
            [
             0.6666666666666666,
             "#ed7953"
            ],
            [
             0.7777777777777778,
             "#fb9f3a"
            ],
            [
             0.8888888888888888,
             "#fdca26"
            ],
            [
             1,
             "#f0f921"
            ]
           ]
          },
          "colorway": [
           "#636efa",
           "#EF553B",
           "#00cc96",
           "#ab63fa",
           "#FFA15A",
           "#19d3f3",
           "#FF6692",
           "#B6E880",
           "#FF97FF",
           "#FECB52"
          ],
          "font": {
           "color": "#2a3f5f"
          },
          "geo": {
           "bgcolor": "white",
           "lakecolor": "white",
           "landcolor": "#E5ECF6",
           "showlakes": true,
           "showland": true,
           "subunitcolor": "white"
          },
          "hoverlabel": {
           "align": "left"
          },
          "hovermode": "closest",
          "mapbox": {
           "style": "light"
          },
          "paper_bgcolor": "white",
          "plot_bgcolor": "#E5ECF6",
          "polar": {
           "angularaxis": {
            "gridcolor": "white",
            "linecolor": "white",
            "ticks": ""
           },
           "bgcolor": "#E5ECF6",
           "radialaxis": {
            "gridcolor": "white",
            "linecolor": "white",
            "ticks": ""
           }
          },
          "scene": {
           "xaxis": {
            "backgroundcolor": "#E5ECF6",
            "gridcolor": "white",
            "gridwidth": 2,
            "linecolor": "white",
            "showbackground": true,
            "ticks": "",
            "zerolinecolor": "white"
           },
           "yaxis": {
            "backgroundcolor": "#E5ECF6",
            "gridcolor": "white",
            "gridwidth": 2,
            "linecolor": "white",
            "showbackground": true,
            "ticks": "",
            "zerolinecolor": "white"
           },
           "zaxis": {
            "backgroundcolor": "#E5ECF6",
            "gridcolor": "white",
            "gridwidth": 2,
            "linecolor": "white",
            "showbackground": true,
            "ticks": "",
            "zerolinecolor": "white"
           }
          },
          "shapedefaults": {
           "line": {
            "color": "#2a3f5f"
           }
          },
          "ternary": {
           "aaxis": {
            "gridcolor": "white",
            "linecolor": "white",
            "ticks": ""
           },
           "baxis": {
            "gridcolor": "white",
            "linecolor": "white",
            "ticks": ""
           },
           "bgcolor": "#E5ECF6",
           "caxis": {
            "gridcolor": "white",
            "linecolor": "white",
            "ticks": ""
           }
          },
          "title": {
           "x": 0.05
          },
          "xaxis": {
           "automargin": true,
           "gridcolor": "white",
           "linecolor": "white",
           "ticks": "",
           "title": {
            "standoff": 15
           },
           "zerolinecolor": "white",
           "zerolinewidth": 2
          },
          "yaxis": {
           "automargin": true,
           "gridcolor": "white",
           "linecolor": "white",
           "ticks": "",
           "title": {
            "standoff": 15
           },
           "zerolinecolor": "white",
           "zerolinewidth": 2
          }
         }
        },
        "title": {
         "text": "Top 10 rated beer styles for each Category"
        },
        "xaxis": {
         "categoryarray": [
          "American IPA",
          "American Double / Imperial IPA",
          "American Double / Imperial Stout",
          "American Pale Ale (APA)",
          "Saison / Farmhouse Ale",
          "American Wild Ale",
          "American Porter",
          "Russian Imperial Stout",
          "American Amber / Red Ale",
          "Fruit / Vegetable Beer",
          "Witbier",
          "Quadrupel (Quad)",
          "American Adjunct Lager",
          "German Pilsener",
          "Light Lager",
          "Euro Pale Lager"
         ],
         "categoryorder": "array"
        },
        "yaxis": {
         "title": {
          "text": "Percentage of Ratings"
         }
        }
       }
      }
     },
     "metadata": {},
     "output_type": "display_data"
    }
   ],
   "source": [
    "# create interactive vertical bar plot of top 10 styles for each category using style_count\n",
    "# you can click on a category to display it and the plot are superimposed on each other\n",
    "\n",
    "import plotly.graph_objects as go\n",
    "\n",
    "fig = go.Figure()\n",
    "\n",
    "\n",
    "fig.add_trace(go.Bar(\n",
    "    y=cfm_style_count.values,\n",
    "    x=cfm_style_count.index,\n",
    "    name=\"CFM\",\n",
    "    orientation='v',\n",
    "    marker_color='#F7F5C2'\n",
    "))\n",
    "fig.add_trace(go.Bar(\n",
    "    y=exp_style_count.values,\n",
    "    x=exp_style_count.index,\n",
    "    name=\"EXP\",\n",
    "    orientation='v',\n",
    "    marker_color='#666666'\n",
    "))\n",
    "fig.add_trace(go.Bar(\n",
    "    y=xpl_style_count.values,\n",
    "    x=xpl_style_count.index,\n",
    "    name=\"XPL\",\n",
    "    orientation='v',\n",
    "\n",
    "    marker_color='#572200'\n",
    "))\n",
    "fig.add_trace(go.Bar(\n",
    "    y=adv_style_count.values,\n",
    "    x=adv_style_count.index,\n",
    "    name=\"ADV\",\n",
    "    orientation='v',\n",
    "    marker_color='#887777'\n",
    "))\n",
    "fig.add_trace(go.Bar(\n",
    "    y=overall_style_count.values,\n",
    "    x=overall_style_count.index,\n",
    "    name=\"Overall\",\n",
    "    orientation='v',\n",
    "    marker_color='#333333'\n",
    "))\n",
    "\n",
    "# make plot transparent\n",
    "fig.update_layout(paper_bgcolor='rgba(0,0,0,0)', plot_bgcolor='rgba(0,0,0,0)')\n",
    "\n",
    "# set the x-axis to be the style names\n",
    "fig.update_layout(xaxis={'categoryorder':'array', 'categoryarray':cfm_style_count.index})\n",
    "\n",
    "# set the y-axis to be the percentage of ratings\n",
    "fig.update_layout(yaxis_title=\"Percentage of Ratings\")\n",
    "\n",
    "# set the title\n",
    "fig.update_layout(title_text=\"Top 10 rated beer styles for each Category\")\n",
    "\n",
    "fig.update_layout(barmode='group')\n",
    "fig.show()\n"
   ]
  },
  {
   "cell_type": "code",
   "execution_count": 27,
   "metadata": {},
   "outputs": [
    {
     "data": {
      "application/vnd.plotly.v1+json": {
       "config": {
        "plotlyServerURL": "https://plot.ly"
       },
       "data": [
        {
         "marker": {
          "color": "#8D5103"
         },
         "name": "CFM",
         "orientation": "v",
         "type": "bar",
         "x": [
          "American IPA",
          "American Double / Imperial IPA",
          "American Double / Imperial Stout",
          "American Pale Ale (APA)",
          "Saison / Farmhouse Ale",
          "American Wild Ale",
          "American Porter",
          "Russian Imperial Stout",
          "American Amber / Red Ale",
          "Fruit / Vegetable Beer",
          "Witbier",
          "Quadrupel (Quad)",
          "American Adjunct Lager",
          "German Pilsener",
          "Light Lager",
          "Euro Pale Lager"
         ],
         "y": [
          12.96,
          9.5,
          6.33,
          4.92,
          3.91,
          3.36,
          3.15,
          2.98,
          2.38,
          1.85,
          1.36,
          1.04,
          1,
          0.92,
          0.52,
          0.46
         ]
        },
        {
         "marker": {
          "color": "#F0A800"
         },
         "name": "EXP",
         "orientation": "v",
         "type": "bar",
         "x": [
          "American Double / Imperial IPA",
          "American IPA",
          "American Double / Imperial Stout",
          "American Pale Ale (APA)",
          "Russian Imperial Stout",
          "American Wild Ale",
          "American Porter",
          "Saison / Farmhouse Ale",
          "American Amber / Red Ale",
          "Quadrupel (Quad)",
          "Fruit / Vegetable Beer",
          "Witbier",
          "German Pilsener",
          "American Adjunct Lager",
          "Light Lager",
          "Euro Pale Lager"
         ],
         "y": [
          17.35,
          15.02,
          10.41,
          5.12,
          3.8,
          2.93,
          2.6,
          2.49,
          1.98,
          1.71,
          1.4,
          0.9,
          0.61,
          0.6,
          0.27,
          0.26
         ]
        },
        {
         "marker": {
          "color": "#FFD600"
         },
         "name": "XPL",
         "orientation": "v",
         "type": "bar",
         "x": [
          "American IPA",
          "American Double / Imperial IPA",
          "American Pale Ale (APA)",
          "American Double / Imperial Stout",
          "Saison / Farmhouse Ale",
          "American Wild Ale",
          "American Porter",
          "American Amber / Red Ale",
          "Russian Imperial Stout",
          "Fruit / Vegetable Beer",
          "Witbier",
          "German Pilsener",
          "American Adjunct Lager",
          "Quadrupel (Quad)",
          "Euro Pale Lager",
          "Light Lager"
         ],
         "y": [
          10.82,
          6.65,
          4.84,
          4.66,
          4.5,
          3.88,
          3.17,
          2.55,
          2.47,
          1.96,
          1.47,
          1.14,
          1.07,
          0.89,
          0.77,
          0.46
         ]
        },
        {
         "marker": {
          "color": "#F0F0C0"
         },
         "name": "ADV",
         "orientation": "v",
         "type": "bar",
         "x": [
          "American Adjunct Lager",
          "American IPA",
          "Light Lager",
          "American Pale Ale (APA)",
          "Fruit / Vegetable Beer",
          "Euro Pale Lager",
          "American Amber / Red Ale",
          "Witbier",
          "American Double / Imperial IPA",
          "German Pilsener",
          "American Porter",
          "American Double / Imperial Stout",
          "Saison / Farmhouse Ale",
          "Russian Imperial Stout",
          "Quadrupel (Quad)",
          "American Wild Ale"
         ],
         "y": [
          7.89,
          6.99,
          4.37,
          4,
          3.85,
          3.15,
          2.84,
          2.79,
          2.65,
          2.27,
          2.14,
          1.14,
          1.1,
          1.07,
          0.5,
          0.28
         ]
        },
        {
         "marker": {
          "color": "#F76F05"
         },
         "name": "Overall",
         "orientation": "v",
         "type": "bar",
         "x": [
          "American IPA",
          "American Double / Imperial IPA",
          "American Double / Imperial Stout",
          "American Pale Ale (APA)",
          "Saison / Farmhouse Ale",
          "American Wild Ale",
          "American Porter",
          "Russian Imperial Stout",
          "American Amber / Red Ale",
          "Fruit / Vegetable Beer",
          "Witbier",
          "American Adjunct Lager",
          "Quadrupel (Quad)",
          "German Pilsener",
          "Light Lager",
          "Euro Pale Lager"
         ],
         "y": [
          12.01,
          8.97,
          6.05,
          4.67,
          3.64,
          3.26,
          3.12,
          3.07,
          2.44,
          2,
          1.47,
          1.23,
          1.06,
          0.96,
          0.66,
          0.57
         ]
        }
       ],
       "layout": {
        "barmode": "group",
        "paper_bgcolor": "rgba(0,0,0,0)",
        "plot_bgcolor": "rgba(0,0,0,0)",
        "template": {
         "data": {
          "bar": [
           {
            "error_x": {
             "color": "#2a3f5f"
            },
            "error_y": {
             "color": "#2a3f5f"
            },
            "marker": {
             "line": {
              "color": "#E5ECF6",
              "width": 0.5
             },
             "pattern": {
              "fillmode": "overlay",
              "size": 10,
              "solidity": 0.2
             }
            },
            "type": "bar"
           }
          ],
          "barpolar": [
           {
            "marker": {
             "line": {
              "color": "#E5ECF6",
              "width": 0.5
             },
             "pattern": {
              "fillmode": "overlay",
              "size": 10,
              "solidity": 0.2
             }
            },
            "type": "barpolar"
           }
          ],
          "carpet": [
           {
            "aaxis": {
             "endlinecolor": "#2a3f5f",
             "gridcolor": "white",
             "linecolor": "white",
             "minorgridcolor": "white",
             "startlinecolor": "#2a3f5f"
            },
            "baxis": {
             "endlinecolor": "#2a3f5f",
             "gridcolor": "white",
             "linecolor": "white",
             "minorgridcolor": "white",
             "startlinecolor": "#2a3f5f"
            },
            "type": "carpet"
           }
          ],
          "choropleth": [
           {
            "colorbar": {
             "outlinewidth": 0,
             "ticks": ""
            },
            "type": "choropleth"
           }
          ],
          "contour": [
           {
            "colorbar": {
             "outlinewidth": 0,
             "ticks": ""
            },
            "colorscale": [
             [
              0,
              "#0d0887"
             ],
             [
              0.1111111111111111,
              "#46039f"
             ],
             [
              0.2222222222222222,
              "#7201a8"
             ],
             [
              0.3333333333333333,
              "#9c179e"
             ],
             [
              0.4444444444444444,
              "#bd3786"
             ],
             [
              0.5555555555555556,
              "#d8576b"
             ],
             [
              0.6666666666666666,
              "#ed7953"
             ],
             [
              0.7777777777777778,
              "#fb9f3a"
             ],
             [
              0.8888888888888888,
              "#fdca26"
             ],
             [
              1,
              "#f0f921"
             ]
            ],
            "type": "contour"
           }
          ],
          "contourcarpet": [
           {
            "colorbar": {
             "outlinewidth": 0,
             "ticks": ""
            },
            "type": "contourcarpet"
           }
          ],
          "heatmap": [
           {
            "colorbar": {
             "outlinewidth": 0,
             "ticks": ""
            },
            "colorscale": [
             [
              0,
              "#0d0887"
             ],
             [
              0.1111111111111111,
              "#46039f"
             ],
             [
              0.2222222222222222,
              "#7201a8"
             ],
             [
              0.3333333333333333,
              "#9c179e"
             ],
             [
              0.4444444444444444,
              "#bd3786"
             ],
             [
              0.5555555555555556,
              "#d8576b"
             ],
             [
              0.6666666666666666,
              "#ed7953"
             ],
             [
              0.7777777777777778,
              "#fb9f3a"
             ],
             [
              0.8888888888888888,
              "#fdca26"
             ],
             [
              1,
              "#f0f921"
             ]
            ],
            "type": "heatmap"
           }
          ],
          "heatmapgl": [
           {
            "colorbar": {
             "outlinewidth": 0,
             "ticks": ""
            },
            "colorscale": [
             [
              0,
              "#0d0887"
             ],
             [
              0.1111111111111111,
              "#46039f"
             ],
             [
              0.2222222222222222,
              "#7201a8"
             ],
             [
              0.3333333333333333,
              "#9c179e"
             ],
             [
              0.4444444444444444,
              "#bd3786"
             ],
             [
              0.5555555555555556,
              "#d8576b"
             ],
             [
              0.6666666666666666,
              "#ed7953"
             ],
             [
              0.7777777777777778,
              "#fb9f3a"
             ],
             [
              0.8888888888888888,
              "#fdca26"
             ],
             [
              1,
              "#f0f921"
             ]
            ],
            "type": "heatmapgl"
           }
          ],
          "histogram": [
           {
            "marker": {
             "pattern": {
              "fillmode": "overlay",
              "size": 10,
              "solidity": 0.2
             }
            },
            "type": "histogram"
           }
          ],
          "histogram2d": [
           {
            "colorbar": {
             "outlinewidth": 0,
             "ticks": ""
            },
            "colorscale": [
             [
              0,
              "#0d0887"
             ],
             [
              0.1111111111111111,
              "#46039f"
             ],
             [
              0.2222222222222222,
              "#7201a8"
             ],
             [
              0.3333333333333333,
              "#9c179e"
             ],
             [
              0.4444444444444444,
              "#bd3786"
             ],
             [
              0.5555555555555556,
              "#d8576b"
             ],
             [
              0.6666666666666666,
              "#ed7953"
             ],
             [
              0.7777777777777778,
              "#fb9f3a"
             ],
             [
              0.8888888888888888,
              "#fdca26"
             ],
             [
              1,
              "#f0f921"
             ]
            ],
            "type": "histogram2d"
           }
          ],
          "histogram2dcontour": [
           {
            "colorbar": {
             "outlinewidth": 0,
             "ticks": ""
            },
            "colorscale": [
             [
              0,
              "#0d0887"
             ],
             [
              0.1111111111111111,
              "#46039f"
             ],
             [
              0.2222222222222222,
              "#7201a8"
             ],
             [
              0.3333333333333333,
              "#9c179e"
             ],
             [
              0.4444444444444444,
              "#bd3786"
             ],
             [
              0.5555555555555556,
              "#d8576b"
             ],
             [
              0.6666666666666666,
              "#ed7953"
             ],
             [
              0.7777777777777778,
              "#fb9f3a"
             ],
             [
              0.8888888888888888,
              "#fdca26"
             ],
             [
              1,
              "#f0f921"
             ]
            ],
            "type": "histogram2dcontour"
           }
          ],
          "mesh3d": [
           {
            "colorbar": {
             "outlinewidth": 0,
             "ticks": ""
            },
            "type": "mesh3d"
           }
          ],
          "parcoords": [
           {
            "line": {
             "colorbar": {
              "outlinewidth": 0,
              "ticks": ""
             }
            },
            "type": "parcoords"
           }
          ],
          "pie": [
           {
            "automargin": true,
            "type": "pie"
           }
          ],
          "scatter": [
           {
            "fillpattern": {
             "fillmode": "overlay",
             "size": 10,
             "solidity": 0.2
            },
            "type": "scatter"
           }
          ],
          "scatter3d": [
           {
            "line": {
             "colorbar": {
              "outlinewidth": 0,
              "ticks": ""
             }
            },
            "marker": {
             "colorbar": {
              "outlinewidth": 0,
              "ticks": ""
             }
            },
            "type": "scatter3d"
           }
          ],
          "scattercarpet": [
           {
            "marker": {
             "colorbar": {
              "outlinewidth": 0,
              "ticks": ""
             }
            },
            "type": "scattercarpet"
           }
          ],
          "scattergeo": [
           {
            "marker": {
             "colorbar": {
              "outlinewidth": 0,
              "ticks": ""
             }
            },
            "type": "scattergeo"
           }
          ],
          "scattergl": [
           {
            "marker": {
             "colorbar": {
              "outlinewidth": 0,
              "ticks": ""
             }
            },
            "type": "scattergl"
           }
          ],
          "scattermapbox": [
           {
            "marker": {
             "colorbar": {
              "outlinewidth": 0,
              "ticks": ""
             }
            },
            "type": "scattermapbox"
           }
          ],
          "scatterpolar": [
           {
            "marker": {
             "colorbar": {
              "outlinewidth": 0,
              "ticks": ""
             }
            },
            "type": "scatterpolar"
           }
          ],
          "scatterpolargl": [
           {
            "marker": {
             "colorbar": {
              "outlinewidth": 0,
              "ticks": ""
             }
            },
            "type": "scatterpolargl"
           }
          ],
          "scatterternary": [
           {
            "marker": {
             "colorbar": {
              "outlinewidth": 0,
              "ticks": ""
             }
            },
            "type": "scatterternary"
           }
          ],
          "surface": [
           {
            "colorbar": {
             "outlinewidth": 0,
             "ticks": ""
            },
            "colorscale": [
             [
              0,
              "#0d0887"
             ],
             [
              0.1111111111111111,
              "#46039f"
             ],
             [
              0.2222222222222222,
              "#7201a8"
             ],
             [
              0.3333333333333333,
              "#9c179e"
             ],
             [
              0.4444444444444444,
              "#bd3786"
             ],
             [
              0.5555555555555556,
              "#d8576b"
             ],
             [
              0.6666666666666666,
              "#ed7953"
             ],
             [
              0.7777777777777778,
              "#fb9f3a"
             ],
             [
              0.8888888888888888,
              "#fdca26"
             ],
             [
              1,
              "#f0f921"
             ]
            ],
            "type": "surface"
           }
          ],
          "table": [
           {
            "cells": {
             "fill": {
              "color": "#EBF0F8"
             },
             "line": {
              "color": "white"
             }
            },
            "header": {
             "fill": {
              "color": "#C8D4E3"
             },
             "line": {
              "color": "white"
             }
            },
            "type": "table"
           }
          ]
         },
         "layout": {
          "annotationdefaults": {
           "arrowcolor": "#2a3f5f",
           "arrowhead": 0,
           "arrowwidth": 1
          },
          "autotypenumbers": "strict",
          "coloraxis": {
           "colorbar": {
            "outlinewidth": 0,
            "ticks": ""
           }
          },
          "colorscale": {
           "diverging": [
            [
             0,
             "#8e0152"
            ],
            [
             0.1,
             "#c51b7d"
            ],
            [
             0.2,
             "#de77ae"
            ],
            [
             0.3,
             "#f1b6da"
            ],
            [
             0.4,
             "#fde0ef"
            ],
            [
             0.5,
             "#f7f7f7"
            ],
            [
             0.6,
             "#e6f5d0"
            ],
            [
             0.7,
             "#b8e186"
            ],
            [
             0.8,
             "#7fbc41"
            ],
            [
             0.9,
             "#4d9221"
            ],
            [
             1,
             "#276419"
            ]
           ],
           "sequential": [
            [
             0,
             "#0d0887"
            ],
            [
             0.1111111111111111,
             "#46039f"
            ],
            [
             0.2222222222222222,
             "#7201a8"
            ],
            [
             0.3333333333333333,
             "#9c179e"
            ],
            [
             0.4444444444444444,
             "#bd3786"
            ],
            [
             0.5555555555555556,
             "#d8576b"
            ],
            [
             0.6666666666666666,
             "#ed7953"
            ],
            [
             0.7777777777777778,
             "#fb9f3a"
            ],
            [
             0.8888888888888888,
             "#fdca26"
            ],
            [
             1,
             "#f0f921"
            ]
           ],
           "sequentialminus": [
            [
             0,
             "#0d0887"
            ],
            [
             0.1111111111111111,
             "#46039f"
            ],
            [
             0.2222222222222222,
             "#7201a8"
            ],
            [
             0.3333333333333333,
             "#9c179e"
            ],
            [
             0.4444444444444444,
             "#bd3786"
            ],
            [
             0.5555555555555556,
             "#d8576b"
            ],
            [
             0.6666666666666666,
             "#ed7953"
            ],
            [
             0.7777777777777778,
             "#fb9f3a"
            ],
            [
             0.8888888888888888,
             "#fdca26"
            ],
            [
             1,
             "#f0f921"
            ]
           ]
          },
          "colorway": [
           "#636efa",
           "#EF553B",
           "#00cc96",
           "#ab63fa",
           "#FFA15A",
           "#19d3f3",
           "#FF6692",
           "#B6E880",
           "#FF97FF",
           "#FECB52"
          ],
          "font": {
           "color": "#2a3f5f"
          },
          "geo": {
           "bgcolor": "white",
           "lakecolor": "white",
           "landcolor": "#E5ECF6",
           "showlakes": true,
           "showland": true,
           "subunitcolor": "white"
          },
          "hoverlabel": {
           "align": "left"
          },
          "hovermode": "closest",
          "mapbox": {
           "style": "light"
          },
          "paper_bgcolor": "white",
          "plot_bgcolor": "#E5ECF6",
          "polar": {
           "angularaxis": {
            "gridcolor": "white",
            "linecolor": "white",
            "ticks": ""
           },
           "bgcolor": "#E5ECF6",
           "radialaxis": {
            "gridcolor": "white",
            "linecolor": "white",
            "ticks": ""
           }
          },
          "scene": {
           "xaxis": {
            "backgroundcolor": "#E5ECF6",
            "gridcolor": "white",
            "gridwidth": 2,
            "linecolor": "white",
            "showbackground": true,
            "ticks": "",
            "zerolinecolor": "white"
           },
           "yaxis": {
            "backgroundcolor": "#E5ECF6",
            "gridcolor": "white",
            "gridwidth": 2,
            "linecolor": "white",
            "showbackground": true,
            "ticks": "",
            "zerolinecolor": "white"
           },
           "zaxis": {
            "backgroundcolor": "#E5ECF6",
            "gridcolor": "white",
            "gridwidth": 2,
            "linecolor": "white",
            "showbackground": true,
            "ticks": "",
            "zerolinecolor": "white"
           }
          },
          "shapedefaults": {
           "line": {
            "color": "#2a3f5f"
           }
          },
          "ternary": {
           "aaxis": {
            "gridcolor": "white",
            "linecolor": "white",
            "ticks": ""
           },
           "baxis": {
            "gridcolor": "white",
            "linecolor": "white",
            "ticks": ""
           },
           "bgcolor": "#E5ECF6",
           "caxis": {
            "gridcolor": "white",
            "linecolor": "white",
            "ticks": ""
           }
          },
          "title": {
           "x": 0.05
          },
          "xaxis": {
           "automargin": true,
           "gridcolor": "white",
           "linecolor": "white",
           "ticks": "",
           "title": {
            "standoff": 15
           },
           "zerolinecolor": "white",
           "zerolinewidth": 2
          },
          "yaxis": {
           "automargin": true,
           "gridcolor": "white",
           "linecolor": "white",
           "ticks": "",
           "title": {
            "standoff": 15
           },
           "zerolinecolor": "white",
           "zerolinewidth": 2
          }
         }
        },
        "title": {
         "text": "Top beer styles with most number of ratings per user category"
        },
        "xaxis": {
         "categoryarray": [
          "American IPA",
          "American Double / Imperial IPA",
          "American Double / Imperial Stout",
          "American Pale Ale (APA)",
          "Saison / Farmhouse Ale",
          "American Wild Ale",
          "American Porter",
          "Russian Imperial Stout",
          "American Amber / Red Ale",
          "Fruit / Vegetable Beer",
          "Witbier",
          "Quadrupel (Quad)",
          "American Adjunct Lager",
          "German Pilsener",
          "Light Lager",
          "Euro Pale Lager"
         ],
         "categoryorder": "array"
        },
        "yaxis": {
         "title": {
          "text": "Percentage of Ratings (in %)"
         }
        }
       }
      }
     },
     "metadata": {},
     "output_type": "display_data"
    }
   ],
   "source": [
    "# create interactive vertical bar plot of top 10 styles for each category using style_count\n",
    "# you can click on a category to display it and the plot are superimposed on each other\n",
    "\n",
    "import plotly.graph_objects as go\n",
    "\n",
    "fig = go.Figure()\n",
    "\n",
    "\n",
    "fig.add_trace(go.Bar(\n",
    "    y=cfm_style_count.values,\n",
    "    x=cfm_style_count.index,\n",
    "    name=\"CFM\",\n",
    "    orientation='v',\n",
    "    marker_color='#8D5103'\n",
    "))\n",
    "fig.add_trace(go.Bar(\n",
    "    y=exp_style_count.values,\n",
    "    x=exp_style_count.index,\n",
    "    name=\"EXP\",\n",
    "    orientation='v',\n",
    "    marker_color='#F0A800'\n",
    "))\n",
    "fig.add_trace(go.Bar(\n",
    "    y=xpl_style_count.values,\n",
    "    x=xpl_style_count.index,\n",
    "    name=\"XPL\",\n",
    "    orientation='v',\n",
    "    marker_color='#FFD600'\n",
    "))\n",
    "fig.add_trace(go.Bar(\n",
    "    y=adv_style_count.values,\n",
    "    x=adv_style_count.index,\n",
    "    name=\"ADV\",\n",
    "    orientation='v',\n",
    "    marker_color='#F0F0C0'\n",
    "))\n",
    "fig.add_trace(go.Bar(\n",
    "    y=overall_style_count.values,\n",
    "    x=overall_style_count.index,\n",
    "    name=\"Overall\",\n",
    "    orientation='v',\n",
    "    marker_color='#F76F05'\n",
    "))\n",
    "\n",
    "# make plot transparent\n",
    "fig.update_layout(paper_bgcolor='rgba(0,0,0,0)', plot_bgcolor='rgba(0,0,0,0)')\n",
    "\n",
    "# set the x-axis to be the style names\n",
    "fig.update_layout(xaxis={'categoryorder':'array', 'categoryarray':cfm_style_count.index})\n",
    "\n",
    "# set the y-axis to be the percentage of ratings\n",
    "fig.update_layout(yaxis_title=\"Percentage of Ratings (in %)\")\n",
    "\n",
    "# set the title\n",
    "fig.update_layout(title_text=\"Top beer styles with most number of ratings per user category\")\n",
    "\n",
    "fig.update_layout(barmode='group')\n",
    "fig.show()\n",
    "\n",
    "# save plot to html file\n",
    "fig.write_html(\"top_beer_styles.html\")\n"
   ]
  },
  {
   "cell_type": "code",
   "execution_count": 30,
   "metadata": {},
   "outputs": [
    {
     "data": {
      "application/vnd.plotly.v1+json": {
       "config": {
        "plotlyServerURL": "https://plot.ly"
       },
       "data": [
        {
         "marker": {
          "color": "#171133"
         },
         "name": "CFM",
         "orientation": "v",
         "type": "bar",
         "x": [
          "American IPA",
          "American Double / Imperial IPA",
          "American Double / Imperial Stout",
          "American Pale Ale (APA)",
          "Saison / Farmhouse Ale",
          "American Wild Ale",
          "American Porter",
          "Russian Imperial Stout",
          "American Amber / Red Ale",
          "Fruit / Vegetable Beer",
          "Witbier",
          "Quadrupel (Quad)",
          "American Adjunct Lager",
          "German Pilsener",
          "Light Lager",
          "Euro Pale Lager"
         ],
         "y": [
          12.96,
          9.5,
          6.33,
          4.92,
          3.91,
          3.36,
          3.15,
          2.98,
          2.38,
          1.85,
          1.36,
          1.04,
          1,
          0.92,
          0.52,
          0.46
         ]
        },
        {
         "marker": {
          "color": "#581E44"
         },
         "name": "EXP",
         "orientation": "v",
         "type": "bar",
         "x": [
          "American Double / Imperial IPA",
          "American IPA",
          "American Double / Imperial Stout",
          "American Pale Ale (APA)",
          "Russian Imperial Stout",
          "American Wild Ale",
          "American Porter",
          "Saison / Farmhouse Ale",
          "American Amber / Red Ale",
          "Quadrupel (Quad)",
          "Fruit / Vegetable Beer",
          "Witbier",
          "German Pilsener",
          "American Adjunct Lager",
          "Light Lager",
          "Euro Pale Lager"
         ],
         "y": [
          17.35,
          15.02,
          10.41,
          5.12,
          3.8,
          2.93,
          2.6,
          2.49,
          1.98,
          1.71,
          1.4,
          0.9,
          0.61,
          0.6,
          0.27,
          0.26
         ]
        },
        {
         "marker": {
          "color": "#C5485A"
         },
         "name": "XPL",
         "orientation": "v",
         "type": "bar",
         "x": [
          "American IPA",
          "American Double / Imperial IPA",
          "American Pale Ale (APA)",
          "American Double / Imperial Stout",
          "Saison / Farmhouse Ale",
          "American Wild Ale",
          "American Porter",
          "American Amber / Red Ale",
          "Russian Imperial Stout",
          "Fruit / Vegetable Beer",
          "Witbier",
          "German Pilsener",
          "American Adjunct Lager",
          "Quadrupel (Quad)",
          "Euro Pale Lager",
          "Light Lager"
         ],
         "y": [
          10.82,
          6.65,
          4.84,
          4.66,
          4.5,
          3.88,
          3.17,
          2.55,
          2.47,
          1.96,
          1.47,
          1.14,
          1.07,
          0.89,
          0.77,
          0.46
         ]
        },
        {
         "marker": {
          "color": "#D4BE99"
         },
         "name": "ADV",
         "orientation": "v",
         "type": "bar",
         "x": [
          "American Adjunct Lager",
          "American IPA",
          "Light Lager",
          "American Pale Ale (APA)",
          "Fruit / Vegetable Beer",
          "Euro Pale Lager",
          "American Amber / Red Ale",
          "Witbier",
          "American Double / Imperial IPA",
          "German Pilsener",
          "American Porter",
          "American Double / Imperial Stout",
          "Saison / Farmhouse Ale",
          "Russian Imperial Stout",
          "Quadrupel (Quad)",
          "American Wild Ale"
         ],
         "y": [
          7.89,
          6.99,
          4.37,
          4,
          3.85,
          3.15,
          2.84,
          2.79,
          2.65,
          2.27,
          2.14,
          1.14,
          1.1,
          1.07,
          0.5,
          0.28
         ]
        },
        {
         "marker": {
          "color": "#E0FFCC"
         },
         "name": "Overall",
         "orientation": "v",
         "type": "bar",
         "x": [
          "American IPA",
          "American Double / Imperial IPA",
          "American Double / Imperial Stout",
          "American Pale Ale (APA)",
          "Saison / Farmhouse Ale",
          "American Wild Ale",
          "American Porter",
          "Russian Imperial Stout",
          "American Amber / Red Ale",
          "Fruit / Vegetable Beer",
          "Witbier",
          "American Adjunct Lager",
          "Quadrupel (Quad)",
          "German Pilsener",
          "Light Lager",
          "Euro Pale Lager"
         ],
         "y": [
          12.01,
          8.97,
          6.05,
          4.67,
          3.64,
          3.26,
          3.12,
          3.07,
          2.44,
          2,
          1.47,
          1.23,
          1.06,
          0.96,
          0.66,
          0.57
         ]
        }
       ],
       "layout": {
        "barmode": "group",
        "paper_bgcolor": "rgba(0,0,0,0)",
        "plot_bgcolor": "rgba(0,0,0,0)",
        "template": {
         "data": {
          "bar": [
           {
            "error_x": {
             "color": "#2a3f5f"
            },
            "error_y": {
             "color": "#2a3f5f"
            },
            "marker": {
             "line": {
              "color": "#E5ECF6",
              "width": 0.5
             },
             "pattern": {
              "fillmode": "overlay",
              "size": 10,
              "solidity": 0.2
             }
            },
            "type": "bar"
           }
          ],
          "barpolar": [
           {
            "marker": {
             "line": {
              "color": "#E5ECF6",
              "width": 0.5
             },
             "pattern": {
              "fillmode": "overlay",
              "size": 10,
              "solidity": 0.2
             }
            },
            "type": "barpolar"
           }
          ],
          "carpet": [
           {
            "aaxis": {
             "endlinecolor": "#2a3f5f",
             "gridcolor": "white",
             "linecolor": "white",
             "minorgridcolor": "white",
             "startlinecolor": "#2a3f5f"
            },
            "baxis": {
             "endlinecolor": "#2a3f5f",
             "gridcolor": "white",
             "linecolor": "white",
             "minorgridcolor": "white",
             "startlinecolor": "#2a3f5f"
            },
            "type": "carpet"
           }
          ],
          "choropleth": [
           {
            "colorbar": {
             "outlinewidth": 0,
             "ticks": ""
            },
            "type": "choropleth"
           }
          ],
          "contour": [
           {
            "colorbar": {
             "outlinewidth": 0,
             "ticks": ""
            },
            "colorscale": [
             [
              0,
              "#0d0887"
             ],
             [
              0.1111111111111111,
              "#46039f"
             ],
             [
              0.2222222222222222,
              "#7201a8"
             ],
             [
              0.3333333333333333,
              "#9c179e"
             ],
             [
              0.4444444444444444,
              "#bd3786"
             ],
             [
              0.5555555555555556,
              "#d8576b"
             ],
             [
              0.6666666666666666,
              "#ed7953"
             ],
             [
              0.7777777777777778,
              "#fb9f3a"
             ],
             [
              0.8888888888888888,
              "#fdca26"
             ],
             [
              1,
              "#f0f921"
             ]
            ],
            "type": "contour"
           }
          ],
          "contourcarpet": [
           {
            "colorbar": {
             "outlinewidth": 0,
             "ticks": ""
            },
            "type": "contourcarpet"
           }
          ],
          "heatmap": [
           {
            "colorbar": {
             "outlinewidth": 0,
             "ticks": ""
            },
            "colorscale": [
             [
              0,
              "#0d0887"
             ],
             [
              0.1111111111111111,
              "#46039f"
             ],
             [
              0.2222222222222222,
              "#7201a8"
             ],
             [
              0.3333333333333333,
              "#9c179e"
             ],
             [
              0.4444444444444444,
              "#bd3786"
             ],
             [
              0.5555555555555556,
              "#d8576b"
             ],
             [
              0.6666666666666666,
              "#ed7953"
             ],
             [
              0.7777777777777778,
              "#fb9f3a"
             ],
             [
              0.8888888888888888,
              "#fdca26"
             ],
             [
              1,
              "#f0f921"
             ]
            ],
            "type": "heatmap"
           }
          ],
          "heatmapgl": [
           {
            "colorbar": {
             "outlinewidth": 0,
             "ticks": ""
            },
            "colorscale": [
             [
              0,
              "#0d0887"
             ],
             [
              0.1111111111111111,
              "#46039f"
             ],
             [
              0.2222222222222222,
              "#7201a8"
             ],
             [
              0.3333333333333333,
              "#9c179e"
             ],
             [
              0.4444444444444444,
              "#bd3786"
             ],
             [
              0.5555555555555556,
              "#d8576b"
             ],
             [
              0.6666666666666666,
              "#ed7953"
             ],
             [
              0.7777777777777778,
              "#fb9f3a"
             ],
             [
              0.8888888888888888,
              "#fdca26"
             ],
             [
              1,
              "#f0f921"
             ]
            ],
            "type": "heatmapgl"
           }
          ],
          "histogram": [
           {
            "marker": {
             "pattern": {
              "fillmode": "overlay",
              "size": 10,
              "solidity": 0.2
             }
            },
            "type": "histogram"
           }
          ],
          "histogram2d": [
           {
            "colorbar": {
             "outlinewidth": 0,
             "ticks": ""
            },
            "colorscale": [
             [
              0,
              "#0d0887"
             ],
             [
              0.1111111111111111,
              "#46039f"
             ],
             [
              0.2222222222222222,
              "#7201a8"
             ],
             [
              0.3333333333333333,
              "#9c179e"
             ],
             [
              0.4444444444444444,
              "#bd3786"
             ],
             [
              0.5555555555555556,
              "#d8576b"
             ],
             [
              0.6666666666666666,
              "#ed7953"
             ],
             [
              0.7777777777777778,
              "#fb9f3a"
             ],
             [
              0.8888888888888888,
              "#fdca26"
             ],
             [
              1,
              "#f0f921"
             ]
            ],
            "type": "histogram2d"
           }
          ],
          "histogram2dcontour": [
           {
            "colorbar": {
             "outlinewidth": 0,
             "ticks": ""
            },
            "colorscale": [
             [
              0,
              "#0d0887"
             ],
             [
              0.1111111111111111,
              "#46039f"
             ],
             [
              0.2222222222222222,
              "#7201a8"
             ],
             [
              0.3333333333333333,
              "#9c179e"
             ],
             [
              0.4444444444444444,
              "#bd3786"
             ],
             [
              0.5555555555555556,
              "#d8576b"
             ],
             [
              0.6666666666666666,
              "#ed7953"
             ],
             [
              0.7777777777777778,
              "#fb9f3a"
             ],
             [
              0.8888888888888888,
              "#fdca26"
             ],
             [
              1,
              "#f0f921"
             ]
            ],
            "type": "histogram2dcontour"
           }
          ],
          "mesh3d": [
           {
            "colorbar": {
             "outlinewidth": 0,
             "ticks": ""
            },
            "type": "mesh3d"
           }
          ],
          "parcoords": [
           {
            "line": {
             "colorbar": {
              "outlinewidth": 0,
              "ticks": ""
             }
            },
            "type": "parcoords"
           }
          ],
          "pie": [
           {
            "automargin": true,
            "type": "pie"
           }
          ],
          "scatter": [
           {
            "fillpattern": {
             "fillmode": "overlay",
             "size": 10,
             "solidity": 0.2
            },
            "type": "scatter"
           }
          ],
          "scatter3d": [
           {
            "line": {
             "colorbar": {
              "outlinewidth": 0,
              "ticks": ""
             }
            },
            "marker": {
             "colorbar": {
              "outlinewidth": 0,
              "ticks": ""
             }
            },
            "type": "scatter3d"
           }
          ],
          "scattercarpet": [
           {
            "marker": {
             "colorbar": {
              "outlinewidth": 0,
              "ticks": ""
             }
            },
            "type": "scattercarpet"
           }
          ],
          "scattergeo": [
           {
            "marker": {
             "colorbar": {
              "outlinewidth": 0,
              "ticks": ""
             }
            },
            "type": "scattergeo"
           }
          ],
          "scattergl": [
           {
            "marker": {
             "colorbar": {
              "outlinewidth": 0,
              "ticks": ""
             }
            },
            "type": "scattergl"
           }
          ],
          "scattermapbox": [
           {
            "marker": {
             "colorbar": {
              "outlinewidth": 0,
              "ticks": ""
             }
            },
            "type": "scattermapbox"
           }
          ],
          "scatterpolar": [
           {
            "marker": {
             "colorbar": {
              "outlinewidth": 0,
              "ticks": ""
             }
            },
            "type": "scatterpolar"
           }
          ],
          "scatterpolargl": [
           {
            "marker": {
             "colorbar": {
              "outlinewidth": 0,
              "ticks": ""
             }
            },
            "type": "scatterpolargl"
           }
          ],
          "scatterternary": [
           {
            "marker": {
             "colorbar": {
              "outlinewidth": 0,
              "ticks": ""
             }
            },
            "type": "scatterternary"
           }
          ],
          "surface": [
           {
            "colorbar": {
             "outlinewidth": 0,
             "ticks": ""
            },
            "colorscale": [
             [
              0,
              "#0d0887"
             ],
             [
              0.1111111111111111,
              "#46039f"
             ],
             [
              0.2222222222222222,
              "#7201a8"
             ],
             [
              0.3333333333333333,
              "#9c179e"
             ],
             [
              0.4444444444444444,
              "#bd3786"
             ],
             [
              0.5555555555555556,
              "#d8576b"
             ],
             [
              0.6666666666666666,
              "#ed7953"
             ],
             [
              0.7777777777777778,
              "#fb9f3a"
             ],
             [
              0.8888888888888888,
              "#fdca26"
             ],
             [
              1,
              "#f0f921"
             ]
            ],
            "type": "surface"
           }
          ],
          "table": [
           {
            "cells": {
             "fill": {
              "color": "#EBF0F8"
             },
             "line": {
              "color": "white"
             }
            },
            "header": {
             "fill": {
              "color": "#C8D4E3"
             },
             "line": {
              "color": "white"
             }
            },
            "type": "table"
           }
          ]
         },
         "layout": {
          "annotationdefaults": {
           "arrowcolor": "#2a3f5f",
           "arrowhead": 0,
           "arrowwidth": 1
          },
          "autotypenumbers": "strict",
          "coloraxis": {
           "colorbar": {
            "outlinewidth": 0,
            "ticks": ""
           }
          },
          "colorscale": {
           "diverging": [
            [
             0,
             "#8e0152"
            ],
            [
             0.1,
             "#c51b7d"
            ],
            [
             0.2,
             "#de77ae"
            ],
            [
             0.3,
             "#f1b6da"
            ],
            [
             0.4,
             "#fde0ef"
            ],
            [
             0.5,
             "#f7f7f7"
            ],
            [
             0.6,
             "#e6f5d0"
            ],
            [
             0.7,
             "#b8e186"
            ],
            [
             0.8,
             "#7fbc41"
            ],
            [
             0.9,
             "#4d9221"
            ],
            [
             1,
             "#276419"
            ]
           ],
           "sequential": [
            [
             0,
             "#0d0887"
            ],
            [
             0.1111111111111111,
             "#46039f"
            ],
            [
             0.2222222222222222,
             "#7201a8"
            ],
            [
             0.3333333333333333,
             "#9c179e"
            ],
            [
             0.4444444444444444,
             "#bd3786"
            ],
            [
             0.5555555555555556,
             "#d8576b"
            ],
            [
             0.6666666666666666,
             "#ed7953"
            ],
            [
             0.7777777777777778,
             "#fb9f3a"
            ],
            [
             0.8888888888888888,
             "#fdca26"
            ],
            [
             1,
             "#f0f921"
            ]
           ],
           "sequentialminus": [
            [
             0,
             "#0d0887"
            ],
            [
             0.1111111111111111,
             "#46039f"
            ],
            [
             0.2222222222222222,
             "#7201a8"
            ],
            [
             0.3333333333333333,
             "#9c179e"
            ],
            [
             0.4444444444444444,
             "#bd3786"
            ],
            [
             0.5555555555555556,
             "#d8576b"
            ],
            [
             0.6666666666666666,
             "#ed7953"
            ],
            [
             0.7777777777777778,
             "#fb9f3a"
            ],
            [
             0.8888888888888888,
             "#fdca26"
            ],
            [
             1,
             "#f0f921"
            ]
           ]
          },
          "colorway": [
           "#636efa",
           "#EF553B",
           "#00cc96",
           "#ab63fa",
           "#FFA15A",
           "#19d3f3",
           "#FF6692",
           "#B6E880",
           "#FF97FF",
           "#FECB52"
          ],
          "font": {
           "color": "#2a3f5f"
          },
          "geo": {
           "bgcolor": "white",
           "lakecolor": "white",
           "landcolor": "#E5ECF6",
           "showlakes": true,
           "showland": true,
           "subunitcolor": "white"
          },
          "hoverlabel": {
           "align": "left"
          },
          "hovermode": "closest",
          "mapbox": {
           "style": "light"
          },
          "paper_bgcolor": "white",
          "plot_bgcolor": "#E5ECF6",
          "polar": {
           "angularaxis": {
            "gridcolor": "white",
            "linecolor": "white",
            "ticks": ""
           },
           "bgcolor": "#E5ECF6",
           "radialaxis": {
            "gridcolor": "white",
            "linecolor": "white",
            "ticks": ""
           }
          },
          "scene": {
           "xaxis": {
            "backgroundcolor": "#E5ECF6",
            "gridcolor": "white",
            "gridwidth": 2,
            "linecolor": "white",
            "showbackground": true,
            "ticks": "",
            "zerolinecolor": "white"
           },
           "yaxis": {
            "backgroundcolor": "#E5ECF6",
            "gridcolor": "white",
            "gridwidth": 2,
            "linecolor": "white",
            "showbackground": true,
            "ticks": "",
            "zerolinecolor": "white"
           },
           "zaxis": {
            "backgroundcolor": "#E5ECF6",
            "gridcolor": "white",
            "gridwidth": 2,
            "linecolor": "white",
            "showbackground": true,
            "ticks": "",
            "zerolinecolor": "white"
           }
          },
          "shapedefaults": {
           "line": {
            "color": "#2a3f5f"
           }
          },
          "ternary": {
           "aaxis": {
            "gridcolor": "white",
            "linecolor": "white",
            "ticks": ""
           },
           "baxis": {
            "gridcolor": "white",
            "linecolor": "white",
            "ticks": ""
           },
           "bgcolor": "#E5ECF6",
           "caxis": {
            "gridcolor": "white",
            "linecolor": "white",
            "ticks": ""
           }
          },
          "title": {
           "x": 0.05
          },
          "xaxis": {
           "automargin": true,
           "gridcolor": "white",
           "linecolor": "white",
           "ticks": "",
           "title": {
            "standoff": 15
           },
           "zerolinecolor": "white",
           "zerolinewidth": 2
          },
          "yaxis": {
           "automargin": true,
           "gridcolor": "white",
           "linecolor": "white",
           "ticks": "",
           "title": {
            "standoff": 15
           },
           "zerolinecolor": "white",
           "zerolinewidth": 2
          }
         }
        },
        "title": {
         "text": "Top beer styles with most number of ratings per user category"
        },
        "xaxis": {
         "categoryarray": [
          "American IPA",
          "American Double / Imperial IPA",
          "American Double / Imperial Stout",
          "American Pale Ale (APA)",
          "Saison / Farmhouse Ale",
          "American Wild Ale",
          "American Porter",
          "Russian Imperial Stout",
          "American Amber / Red Ale",
          "Fruit / Vegetable Beer",
          "Witbier",
          "Quadrupel (Quad)",
          "American Adjunct Lager",
          "German Pilsener",
          "Light Lager",
          "Euro Pale Lager"
         ],
         "categoryorder": "array"
        },
        "yaxis": {
         "title": {
          "text": "Percentage of Ratings (in %)"
         }
        }
       }
      }
     },
     "metadata": {},
     "output_type": "display_data"
    }
   ],
   "source": [
    "# create interactive vertical bar plot of top 10 styles for each category using style_count\n",
    "# you can click on a category to display it and the plot are superimposed on each other\n",
    "\n",
    "import plotly.graph_objects as go\n",
    "\n",
    "fig = go.Figure()\n",
    "\n",
    "\n",
    "fig.add_trace(go.Bar(\n",
    "    y=cfm_style_count.values,\n",
    "    x=cfm_style_count.index,\n",
    "    name=\"CFM\",\n",
    "    orientation='v',\n",
    "    marker_color='#171133'\n",
    "))\n",
    "fig.add_trace(go.Bar(\n",
    "    y=exp_style_count.values,\n",
    "    x=exp_style_count.index,\n",
    "    name=\"EXP\",\n",
    "    orientation='v',\n",
    "    marker_color='#581E44'\n",
    "))\n",
    "fig.add_trace(go.Bar(\n",
    "    y=xpl_style_count.values,\n",
    "    x=xpl_style_count.index,\n",
    "    name=\"XPL\",\n",
    "    orientation='v',\n",
    "    marker_color='#C5485A'\n",
    "))\n",
    "fig.add_trace(go.Bar(\n",
    "    y=adv_style_count.values,\n",
    "    x=adv_style_count.index,\n",
    "    name=\"ADV\",\n",
    "    orientation='v',\n",
    "    marker_color='#D4BE99'\n",
    "))\n",
    "fig.add_trace(go.Bar(\n",
    "    y=overall_style_count.values,\n",
    "    x=overall_style_count.index,\n",
    "    name=\"Overall\",\n",
    "    orientation='v',\n",
    "    marker_color='#E0FFCC'\n",
    "))\n",
    "\n",
    "# make plot transparent\n",
    "fig.update_layout(paper_bgcolor='rgba(0,0,0,0)', plot_bgcolor='rgba(0,0,0,0)')\n",
    "\n",
    "# set the x-axis to be the style names\n",
    "fig.update_layout(xaxis={'categoryorder':'array', 'categoryarray':cfm_style_count.index})\n",
    "\n",
    "# set the y-axis to be the percentage of ratings\n",
    "fig.update_layout(yaxis_title=\"Percentage of Ratings (in %)\")\n",
    "\n",
    "# set the title\n",
    "fig.update_layout(title_text=\"Top beer styles with most number of ratings per user category\")\n",
    "\n",
    "fig.update_layout(barmode='group')\n",
    "fig.show()\n",
    "\n",
    "# save plot to html file\n",
    "fig.write_html(\"top_beer_styles.html\")\n"
   ]
  },
  {
   "attachments": {},
   "cell_type": "markdown",
   "metadata": {},
   "source": [
    "### analysis:\n",
    "When we select 'overall' and 'conformist', we see that these two categories are very similar in terms of rated beer styles.  \n",
    "However, by selecting 'overall' and 'expert_like' or 'explorer' we see a similar ranking, but the distribution is not the same. This motivates the idea that 'conformist' are the closest user to the lambda user.  \n",
    "Finally, we see a very different ranking and distribution for the adventurers. It seems like they rate very different kind of beers compared to the other users.\n"
   ]
  },
  {
   "cell_type": "code",
   "execution_count": 89,
   "metadata": {},
   "outputs": [
    {
     "data": {
      "text/html": [
       "<div>\n",
       "<style scoped>\n",
       "    .dataframe tbody tr th:only-of-type {\n",
       "        vertical-align: middle;\n",
       "    }\n",
       "\n",
       "    .dataframe tbody tr th {\n",
       "        vertical-align: top;\n",
       "    }\n",
       "\n",
       "    .dataframe thead th {\n",
       "        text-align: right;\n",
       "    }\n",
       "</style>\n",
       "<table border=\"1\" class=\"dataframe\">\n",
       "  <thead>\n",
       "    <tr style=\"text-align: right;\">\n",
       "      <th></th>\n",
       "      <th>date</th>\n",
       "      <th>bid</th>\n",
       "      <th>uid</th>\n",
       "      <th>rating</th>\n",
       "      <th>has_review</th>\n",
       "      <th>review</th>\n",
       "      <th>compound</th>\n",
       "      <th>style</th>\n",
       "    </tr>\n",
       "  </thead>\n",
       "  <tbody>\n",
       "    <tr>\n",
       "      <th>0</th>\n",
       "      <td>2014-01-25 11:00:00</td>\n",
       "      <td>19827</td>\n",
       "      <td>jaydoc.265507</td>\n",
       "      <td>3.25</td>\n",
       "      <td>False</td>\n",
       "      <td>None</td>\n",
       "      <td>0</td>\n",
       "      <td>English Pale Ale</td>\n",
       "    </tr>\n",
       "    <tr>\n",
       "      <th>1</th>\n",
       "      <td>2012-12-02 11:00:00</td>\n",
       "      <td>19827</td>\n",
       "      <td>byofb.537281</td>\n",
       "      <td>3.50</td>\n",
       "      <td>False</td>\n",
       "      <td>None</td>\n",
       "      <td>0</td>\n",
       "      <td>English Pale Ale</td>\n",
       "    </tr>\n",
       "    <tr>\n",
       "      <th>2</th>\n",
       "      <td>2012-07-14 10:00:00</td>\n",
       "      <td>19827</td>\n",
       "      <td>othershoe2.233642</td>\n",
       "      <td>3.68</td>\n",
       "      <td>True</td>\n",
       "      <td>Pours a rich brownish red with some chill haze...</td>\n",
       "      <td>0</td>\n",
       "      <td>English Pale Ale</td>\n",
       "    </tr>\n",
       "    <tr>\n",
       "      <th>3</th>\n",
       "      <td>2012-01-02 11:00:00</td>\n",
       "      <td>19827</td>\n",
       "      <td>animal69.160100</td>\n",
       "      <td>3.50</td>\n",
       "      <td>False</td>\n",
       "      <td>None</td>\n",
       "      <td>0</td>\n",
       "      <td>English Pale Ale</td>\n",
       "    </tr>\n",
       "    <tr>\n",
       "      <th>4</th>\n",
       "      <td>2011-09-07 10:00:00</td>\n",
       "      <td>19827</td>\n",
       "      <td>treyliff.490010</td>\n",
       "      <td>3.62</td>\n",
       "      <td>True</td>\n",
       "      <td>Pours a dark brown with a decent creamy head. ...</td>\n",
       "      <td>0</td>\n",
       "      <td>English Pale Ale</td>\n",
       "    </tr>\n",
       "  </tbody>\n",
       "</table>\n",
       "</div>"
      ],
      "text/plain": [
       "                 date    bid                uid  rating  has_review  \\\n",
       "0 2014-01-25 11:00:00  19827      jaydoc.265507    3.25       False   \n",
       "1 2012-12-02 11:00:00  19827       byofb.537281    3.50       False   \n",
       "2 2012-07-14 10:00:00  19827  othershoe2.233642    3.68        True   \n",
       "3 2012-01-02 11:00:00  19827    animal69.160100    3.50       False   \n",
       "4 2011-09-07 10:00:00  19827    treyliff.490010    3.62        True   \n",
       "\n",
       "                                              review  compound  \\\n",
       "0                                               None         0   \n",
       "1                                               None         0   \n",
       "2  Pours a rich brownish red with some chill haze...         0   \n",
       "3                                               None         0   \n",
       "4  Pours a dark brown with a decent creamy head. ...         0   \n",
       "\n",
       "              style  \n",
       "0  English Pale Ale  \n",
       "1  English Pale Ale  \n",
       "2  English Pale Ale  \n",
       "3  English Pale Ale  \n",
       "4  English Pale Ale  "
      ]
     },
     "execution_count": 89,
     "metadata": {},
     "output_type": "execute_result"
    }
   ],
   "source": [
    "cfm_ratings.head()"
   ]
  },
  {
   "attachments": {},
   "cell_type": "markdown",
   "metadata": {},
   "source": [
    "## What style of beer are more liked by each category"
   ]
  },
  {
   "cell_type": "code",
   "execution_count": 208,
   "metadata": {},
   "outputs": [],
   "source": [
    "# group by cfm_ratings by style and get average rating for each style\n",
    "cfm_ratings_by_style = cfm_ratings.groupby('style').mean().sort_values(by='rating', ascending=False)\n",
    "exp_ratings_by_style = exp_ratings.groupby('style').mean().sort_values(by='rating', ascending=False)\n",
    "xpl_ratings_by_style = xpl_ratings.groupby('style').mean().sort_values(by='rating', ascending=False)\n",
    "adv_ratings_by_style = adv_ratings.groupby('style').mean().sort_values(by='rating', ascending=False)\n",
    "overall_ratings_by_style = overall_ratings.groupby('style').mean().sort_values(by='rating', ascending=False)\n",
    "\n",
    "# normalize the avg ratings by dividing by the average rating for all their ratings\n",
    "cfm_ratings_by_style['norm_rating'] = cfm_ratings_by_style['rating'] / cfm_ratings['rating'].mean()\n",
    "exp_ratings_by_style['norm_rating'] = exp_ratings_by_style['rating'] / exp_ratings['rating'].mean()\n",
    "xpl_ratings_by_style['norm_rating'] = xpl_ratings_by_style['rating'] / xpl_ratings['rating'].mean()\n",
    "adv_ratings_by_style['norm_rating'] = adv_ratings_by_style['rating'] / adv_ratings['rating'].mean()\n",
    "overall_ratings_by_style['norm_rating'] = overall_ratings_by_style['rating'] / overall_ratings['rating'].mean()"
   ]
  },
  {
   "cell_type": "code",
   "execution_count": 210,
   "metadata": {},
   "outputs": [],
   "source": [
    "# get the top 10 styles for each category\n",
    "cfm_ratings_by_style_top10 = cfm_ratings_by_style.head(10)\n",
    "exp_ratings_by_style_top10 = exp_ratings_by_style.head(10)\n",
    "xpl_ratings_by_style_top10 = xpl_ratings_by_style.head(10)\n",
    "adv_ratings_by_style_top10 = adv_ratings_by_style.head(10)\n",
    "overall_ratings_by_style_top10 = overall_ratings_by_style.head(10)"
   ]
  },
  {
   "cell_type": "code",
   "execution_count": 211,
   "metadata": {},
   "outputs": [
    {
     "data": {
      "text/plain": [
       "['Quadrupel (Quad)',\n",
       " 'American Double / Imperial Stout',\n",
       " 'Lambic - Unblended',\n",
       " 'Belgian Strong Dark Ale',\n",
       " 'Eisbock',\n",
       " 'Weizenbock',\n",
       " 'American Wild Ale',\n",
       " 'Gueuze',\n",
       " 'American Double / Imperial IPA',\n",
       " 'Belgian Strong Pale Ale',\n",
       " 'Lambic - Fruit',\n",
       " 'English Barleywine',\n",
       " 'Flanders Red Ale',\n",
       " 'Tripel',\n",
       " 'Russian Imperial Stout']"
      ]
     },
     "execution_count": 211,
     "metadata": {},
     "output_type": "execute_result"
    }
   ],
   "source": [
    "# get list of all styles which are present in the top 10 of any category\n",
    "styles = list(set(cfm_ratings_by_style_top10.index).union(set(exp_ratings_by_style_top10.index)).union(set(xpl_ratings_by_style_top10.index)).union(set(adv_ratings_by_style_top10.index)).union(set(overall_ratings_by_style_top10.index)))\n",
    "styles"
   ]
  },
  {
   "cell_type": "code",
   "execution_count": 212,
   "metadata": {},
   "outputs": [],
   "source": [
    "# keep only styles which are present in the top 10 of any category\n",
    "cfm_ratings_by_style_top = cfm_ratings_by_style[cfm_ratings_by_style.index.isin(styles)]\n",
    "exp_ratings_by_style_top = exp_ratings_by_style[exp_ratings_by_style.index.isin(styles)]\n",
    "xpl_ratings_by_style_top = xpl_ratings_by_style[xpl_ratings_by_style.index.isin(styles)]\n",
    "adv_ratings_by_style_top = adv_ratings_by_style[adv_ratings_by_style.index.isin(styles)]\n",
    "overall_ratings_by_style_top = overall_ratings_by_style[overall_ratings_by_style.index.isin(styles)]"
   ]
  },
  {
   "cell_type": "code",
   "execution_count": 213,
   "metadata": {},
   "outputs": [
    {
     "data": {
      "application/vnd.plotly.v1+json": {
       "config": {
        "plotlyServerURL": "https://plot.ly"
       },
       "data": [
        {
         "marker": {
          "color": "#FF0000"
         },
         "name": "CFM",
         "type": "bar",
         "x": [
          "Gueuze",
          "American Double / Imperial Stout",
          "Russian Imperial Stout",
          "Quadrupel (Quad)",
          "Flanders Red Ale",
          "Eisbock",
          "American Wild Ale",
          "American Double / Imperial IPA",
          "English Barleywine",
          "Lambic - Unblended",
          "Lambic - Fruit",
          "Old Ale",
          "American Strong Ale",
          "Weizenbock",
          "American Barleywine",
          "Baltic Porter",
          "Flanders Oud Bruin",
          "Belgian Strong Dark Ale",
          "Scotch Ale / Wee Heavy",
          "Milk / Sweet Stout",
          "Wheatwine",
          "Tripel",
          "American Porter",
          "Berliner Weissbier",
          "Saison / Farmhouse Ale",
          "American Double / Imperial Pilsner",
          "Belgian Strong Pale Ale",
          "American IPA",
          "American Black Ale",
          "Oatmeal Stout",
          "Doppelbock",
          "Gose",
          "Dubbel",
          "Foreign / Export Stout",
          "Bière de Garde",
          "Belgian IPA",
          "Rauchbier",
          "American Stout",
          "English Porter",
          "Rye Beer",
          "American Pale Ale (APA)",
          "English Stout",
          "American Brown Ale",
          "Bière de Champagne / Bière Brut",
          "Sahti",
          "Smoked Beer",
          "Dunkelweizen",
          "Braggot",
          "Hefeweizen",
          "Belgian Pale Ale",
          "English Strong Ale",
          "Scottish Gruit / Ancient Herbed Ale",
          "Kellerbier / Zwickelbier",
          "American Amber / Red Ale",
          "Belgian Dark Ale",
          "Roggenbier",
          "Schwarzbier",
          "Pumpkin Ale",
          "California Common / Steam Beer",
          "Winter Warmer",
          "Maibock / Helles Bock",
          "Extra Special / Strong Bitter (ESB)",
          "Scottish Ale",
          "Faro",
          "Altbier",
          "English Brown Ale",
          "Märzen / Oktoberfest",
          "Munich Helles Lager",
          "Dortmunder / Export Lager",
          "Munich Dunkel Lager",
          "Irish Dry Stout",
          "Kristalweizen",
          "Witbier",
          "English Pale Mild Ale",
          "English Dark Mild Ale",
          "English Bitter",
          "American Pale Wheat Ale",
          "Cream Ale",
          "American Dark Wheat Ale",
          "English India Pale Ale (IPA)",
          "Czech Pilsener",
          "German Pilsener",
          "Herbed / Spiced Beer",
          "Kölsch",
          "Chile Beer",
          "American Blonde Ale",
          "Vienna Lager",
          "English Pale Ale",
          "American Pale Lager",
          "Irish Red Ale",
          "Fruit / Vegetable Beer",
          "Bock",
          "Euro Dark Lager",
          "Black & Tan",
          "Kvass",
          "American Amber / Red Lager",
          "Euro Pale Lager",
          "Euro Strong Lager",
          "Happoshu",
          "Japanese Rice Lager",
          "American Adjunct Lager",
          "Low Alcohol Beer",
          "American Malt Liquor",
          "Light Lager"
         ],
         "y": [
          1.0903448531971527,
          1.088315437841662,
          1.0712340301026568,
          1.066531152323663,
          1.063029331394971,
          1.0625082956622562,
          1.0606344494757898,
          1.0602453136823742,
          1.058078626877244,
          1.0561054461004271,
          1.0553348020385005,
          1.0352471765343978,
          1.028125833596964,
          1.0172502152355067,
          1.0130422565957717
         ]
        },
        {
         "marker": {
          "color": "#00FF00"
         },
         "name": "EXP",
         "type": "bar",
         "x": [
          "Gueuze",
          "American Double / Imperial Stout",
          "Quadrupel (Quad)",
          "Lambic - Fruit",
          "American Double / Imperial IPA",
          "English Barleywine",
          "Eisbock",
          "Flanders Red Ale",
          "Russian Imperial Stout",
          "American Wild Ale",
          "Lambic - Unblended",
          "American Strong Ale",
          "Old Ale",
          "Belgian Strong Dark Ale",
          "American IPA",
          "American Porter",
          "American Barleywine",
          "Tripel",
          "Milk / Sweet Stout",
          "Flanders Oud Bruin",
          "Dubbel",
          "American Pale Ale (APA)",
          "Baltic Porter",
          "Belgian Strong Pale Ale",
          "American Double / Imperial Pilsner",
          "Weizenbock",
          "Scotch Ale / Wee Heavy",
          "Saison / Farmhouse Ale",
          "Bière de Garde",
          "Wheatwine",
          "Kvass",
          "Berliner Weissbier",
          "American Black Ale",
          "Doppelbock",
          "American Stout",
          "Oatmeal Stout",
          "Rauchbier",
          "Rye Beer",
          "Hefeweizen",
          "Foreign / Export Stout",
          "American Brown Ale",
          "Sahti",
          "Belgian IPA",
          "Gose",
          "English Stout",
          "Braggot",
          "American Amber / Red Ale",
          "English Porter",
          "Dunkelweizen",
          "Pumpkin Ale",
          "Winter Warmer",
          "Belgian Pale Ale",
          "Smoked Beer",
          "California Common / Steam Beer",
          "Maibock / Helles Bock",
          "Dortmunder / Export Lager",
          "English Strong Ale",
          "American Pale Wheat Ale",
          "Bière de Champagne / Bière Brut",
          "Chile Beer",
          "Extra Special / Strong Bitter (ESB)",
          "Kellerbier / Zwickelbier",
          "Scottish Gruit / Ancient Herbed Ale",
          "Kölsch",
          "Munich Dunkel Lager",
          "Belgian Dark Ale",
          "Munich Helles Lager",
          "Roggenbier",
          "Scottish Ale",
          "Schwarzbier",
          "Altbier",
          "Märzen / Oktoberfest",
          "English Brown Ale",
          "English India Pale Ale (IPA)",
          "Vienna Lager",
          "Fruit / Vegetable Beer",
          "Irish Red Ale",
          "German Pilsener",
          "Witbier",
          "Cream Ale",
          "Herbed / Spiced Beer",
          "English Dark Mild Ale",
          "American Blonde Ale",
          "Irish Dry Stout",
          "Kristalweizen",
          "English Bitter",
          "English Pale Ale",
          "American Pale Lager",
          "American Dark Wheat Ale",
          "Czech Pilsener",
          "Euro Dark Lager",
          "Bock",
          "English Pale Mild Ale",
          "American Amber / Red Lager",
          "Black & Tan",
          "Happoshu",
          "Japanese Rice Lager",
          "Euro Pale Lager",
          "Euro Strong Lager",
          "American Adjunct Lager",
          "American Malt Liquor",
          "Light Lager"
         ],
         "y": [
          1.0938725635644881,
          1.0855352152686184,
          1.0807737169994427,
          1.0781839252263852,
          1.0657980330833072,
          1.0647817909567714,
          1.063309963227212,
          1.0612315037983069,
          1.0590849566726348,
          1.0574386559239237,
          1.0455339352996622,
          1.0124078133539611,
          1.0015971066895382,
          0.9895593597750127,
          0.9873960268872263
         ]
        },
        {
         "marker": {
          "color": "#0000FF"
         },
         "name": "XPL",
         "type": "bar",
         "x": [
          "Gueuze",
          "American Double / Imperial Stout",
          "Russian Imperial Stout",
          "Eisbock",
          "Quadrupel (Quad)",
          "Flanders Red Ale",
          "American Wild Ale",
          "Lambic - Unblended",
          "American Double / Imperial IPA",
          "English Barleywine",
          "Lambic - Fruit",
          "Old Ale",
          "American Barleywine",
          "Baltic Porter",
          "Weizenbock",
          "Flanders Oud Bruin",
          "American Strong Ale",
          "Belgian Strong Dark Ale",
          "Milk / Sweet Stout",
          "Berliner Weissbier",
          "Wheatwine",
          "Saison / Farmhouse Ale",
          "Gose",
          "Scotch Ale / Wee Heavy",
          "Tripel",
          "American Porter",
          "Oatmeal Stout",
          "American IPA",
          "American Black Ale",
          "Doppelbock",
          "Belgian Strong Pale Ale",
          "Bière de Champagne / Bière Brut",
          "Belgian IPA",
          "Foreign / Export Stout",
          "Rauchbier",
          "American Double / Imperial Pilsner",
          "American Stout",
          "Dubbel",
          "Bière de Garde",
          "English Porter",
          "Rye Beer",
          "Smoked Beer",
          "American Brown Ale",
          "Sahti",
          "Kellerbier / Zwickelbier",
          "American Pale Ale (APA)",
          "English Strong Ale",
          "Braggot",
          "Scottish Gruit / Ancient Herbed Ale",
          "Roggenbier",
          "Dunkelweizen",
          "Belgian Pale Ale",
          "English Stout",
          "Schwarzbier",
          "Winter Warmer",
          "Maibock / Helles Bock",
          "Hefeweizen",
          "Altbier",
          "Irish Dry Stout",
          "Extra Special / Strong Bitter (ESB)",
          "Belgian Dark Ale",
          "Pumpkin Ale",
          "California Common / Steam Beer",
          "Faro",
          "Scottish Ale",
          "American Amber / Red Ale",
          "English Dark Mild Ale",
          "Munich Dunkel Lager",
          "Witbier",
          "Märzen / Oktoberfest",
          "Munich Helles Lager",
          "English Brown Ale",
          "Kölsch",
          "English India Pale Ale (IPA)",
          "English Pale Mild Ale",
          "American Dark Wheat Ale",
          "Czech Pilsener",
          "Dortmunder / Export Lager",
          "Cream Ale",
          "American Pale Wheat Ale",
          "English Bitter",
          "Kristalweizen",
          "Bock",
          "Herbed / Spiced Beer",
          "Irish Red Ale",
          "German Pilsener",
          "English Pale Ale",
          "Chile Beer",
          "Fruit / Vegetable Beer",
          "Vienna Lager",
          "American Blonde Ale",
          "Euro Dark Lager",
          "Kvass",
          "American Pale Lager",
          "Black & Tan",
          "American Amber / Red Lager",
          "Euro Pale Lager",
          "Japanese Rice Lager",
          "Happoshu",
          "Euro Strong Lager",
          "American Adjunct Lager",
          "Low Alcohol Beer",
          "American Malt Liquor",
          "Light Lager"
         ],
         "y": [
          1.094197781529613,
          1.0915033217359507,
          1.075098282147322,
          1.0687147813318216,
          1.0680712516648396,
          1.0650199211074045,
          1.064335142045919,
          1.0626796378675285,
          1.062000035872867,
          1.0526582443815071,
          1.051647747576913,
          1.0377040736763745,
          1.0367706746920617,
          1.0214676359937305,
          1.015732413094998
         ]
        },
        {
         "marker": {
          "color": "#FFFF00"
         },
         "name": "ADV",
         "type": "bar",
         "x": [
          "Quadrupel (Quad)",
          "American Double / Imperial Stout",
          "Russian Imperial Stout",
          "Eisbock",
          "American Double / Imperial IPA",
          "Weizenbock",
          "Belgian Strong Dark Ale",
          "Tripel",
          "Belgian Strong Pale Ale",
          "Flanders Red Ale",
          "American Strong Ale",
          "American Barleywine",
          "Milk / Sweet Stout",
          "Oatmeal Stout",
          "Old Ale",
          "Wheatwine",
          "Flanders Oud Bruin",
          "Doppelbock",
          "Scotch Ale / Wee Heavy",
          "Baltic Porter",
          "Dubbel",
          "Foreign / Export Stout",
          "American Black Ale",
          "American IPA",
          "Belgian IPA",
          "Gueuze",
          "American Porter",
          "American Wild Ale",
          "English Barleywine",
          "American Stout",
          "English Porter",
          "Lambic - Fruit",
          "American Double / Imperial Pilsner",
          "English Stout",
          "Sahti",
          "Dunkelweizen",
          "Scottish Ale",
          "California Common / Steam Beer",
          "Faro",
          "Rauchbier",
          "Hefeweizen",
          "English Strong Ale",
          "American Brown Ale",
          "Saison / Farmhouse Ale",
          "Rye Beer",
          "Maibock / Helles Bock",
          "Bière de Garde",
          "Schwarzbier",
          "Irish Dry Stout",
          "Winter Warmer",
          "Smoked Beer",
          "American Pale Ale (APA)",
          "Scottish Gruit / Ancient Herbed Ale",
          "Altbier",
          "Lambic - Unblended",
          "Märzen / Oktoberfest",
          "Gose",
          "Extra Special / Strong Bitter (ESB)",
          "Kellerbier / Zwickelbier",
          "Belgian Dark Ale",
          "Munich Helles Lager",
          "English Brown Ale",
          "Munich Dunkel Lager",
          "American Amber / Red Ale",
          "Belgian Pale Ale",
          "Pumpkin Ale",
          "Witbier",
          "English India Pale Ale (IPA)",
          "Braggot",
          "Berliner Weissbier",
          "Bière de Champagne / Bière Brut",
          "Vienna Lager",
          "Kölsch",
          "Irish Red Ale",
          "Roggenbier",
          "Czech Pilsener",
          "American Dark Wheat Ale",
          "English Pale Ale",
          "American Pale Wheat Ale",
          "English Dark Mild Ale",
          "Dortmunder / Export Lager",
          "Bock",
          "English Bitter",
          "Cream Ale",
          "Herbed / Spiced Beer",
          "American Blonde Ale",
          "Kristalweizen",
          "English Pale Mild Ale",
          "Euro Dark Lager",
          "Black & Tan",
          "German Pilsener",
          "American Amber / Red Lager",
          "Fruit / Vegetable Beer",
          "Chile Beer",
          "American Pale Lager",
          "Kvass",
          "Euro Pale Lager",
          "Japanese Rice Lager",
          "Euro Strong Lager",
          "Happoshu",
          "American Adjunct Lager",
          "Low Alcohol Beer",
          "American Malt Liquor",
          "Light Lager"
         ],
         "y": [
          1.2146955574988598,
          1.1928705152856045,
          1.1863969857995873,
          1.1813589565110343,
          1.1682712411337441,
          1.1649151775295585,
          1.1597058647382674,
          1.139479092759098,
          1.1384770355990048,
          1.137316331078778,
          1.098218133320366,
          1.09462955321346,
          1.093362007189844,
          1.0859805272120848,
          1.050096515316922
         ]
        },
        {
         "marker": {
          "color": "#000000"
         },
         "name": "Overall",
         "type": "bar",
         "x": [
          "Gueuze",
          "American Double / Imperial Stout",
          "Quadrupel (Quad)",
          "Russian Imperial Stout",
          "American Double / Imperial IPA",
          "Eisbock",
          "American Wild Ale",
          "Flanders Red Ale",
          "Lambic - Fruit",
          "Lambic - Unblended",
          "English Barleywine",
          "Old Ale",
          "American Strong Ale",
          "Weizenbock",
          "American Barleywine",
          "Flanders Oud Bruin",
          "Baltic Porter",
          "Belgian Strong Dark Ale",
          "Milk / Sweet Stout",
          "Scotch Ale / Wee Heavy",
          "Tripel",
          "American Porter",
          "American IPA",
          "Berliner Weissbier",
          "Wheatwine",
          "Saison / Farmhouse Ale",
          "American Black Ale",
          "Belgian Strong Pale Ale",
          "Oatmeal Stout",
          "American Double / Imperial Pilsner",
          "Doppelbock",
          "Gose",
          "Dubbel",
          "Foreign / Export Stout",
          "Belgian IPA",
          "Bière de Garde",
          "English Porter",
          "American Stout",
          "Rye Beer",
          "Rauchbier",
          "American Pale Ale (APA)",
          "English Stout",
          "American Brown Ale",
          "Hefeweizen",
          "Sahti",
          "Dunkelweizen",
          "Bière de Champagne / Bière Brut",
          "Braggot",
          "Smoked Beer",
          "English Strong Ale",
          "Belgian Pale Ale",
          "Roggenbier",
          "Kellerbier / Zwickelbier",
          "Scottish Gruit / Ancient Herbed Ale",
          "American Amber / Red Ale",
          "Maibock / Helles Bock",
          "Schwarzbier",
          "California Common / Steam Beer",
          "Winter Warmer",
          "Belgian Dark Ale",
          "Pumpkin Ale",
          "Scottish Ale",
          "Extra Special / Strong Bitter (ESB)",
          "Faro",
          "Altbier",
          "Irish Dry Stout",
          "Märzen / Oktoberfest",
          "Munich Helles Lager",
          "English Brown Ale",
          "Munich Dunkel Lager",
          "Dortmunder / Export Lager",
          "Witbier",
          "English Dark Mild Ale",
          "American Pale Wheat Ale",
          "Czech Pilsener",
          "American Dark Wheat Ale",
          "English India Pale Ale (IPA)",
          "Cream Ale",
          "English Bitter",
          "Kristalweizen",
          "Kölsch",
          "German Pilsener",
          "Herbed / Spiced Beer",
          "English Pale Mild Ale",
          "Vienna Lager",
          "English Pale Ale",
          "Irish Red Ale",
          "American Blonde Ale",
          "Chile Beer",
          "Bock",
          "Fruit / Vegetable Beer",
          "American Pale Lager",
          "Euro Dark Lager",
          "Kvass",
          "Black & Tan",
          "American Amber / Red Lager",
          "Euro Pale Lager",
          "Euro Strong Lager",
          "Japanese Rice Lager",
          "Happoshu",
          "American Adjunct Lager",
          "American Malt Liquor",
          "Low Alcohol Beer",
          "Light Lager"
         ],
         "y": [
          1.102415451696656,
          1.0986357893236838,
          1.0787460251064096,
          1.0782761685919888,
          1.0708312170557055,
          1.0688346901975612,
          1.0687858873840155,
          1.0656159383293742,
          1.0647411984033346,
          1.0615243262539837,
          1.0605117846569267,
          1.0393940953842633,
          1.0314352663946824,
          1.0202815186279992,
          1.0137435916780695
         ]
        }
       ],
       "layout": {
        "barmode": "group",
        "template": {
         "data": {
          "bar": [
           {
            "error_x": {
             "color": "#2a3f5f"
            },
            "error_y": {
             "color": "#2a3f5f"
            },
            "marker": {
             "line": {
              "color": "#E5ECF6",
              "width": 0.5
             },
             "pattern": {
              "fillmode": "overlay",
              "size": 10,
              "solidity": 0.2
             }
            },
            "type": "bar"
           }
          ],
          "barpolar": [
           {
            "marker": {
             "line": {
              "color": "#E5ECF6",
              "width": 0.5
             },
             "pattern": {
              "fillmode": "overlay",
              "size": 10,
              "solidity": 0.2
             }
            },
            "type": "barpolar"
           }
          ],
          "carpet": [
           {
            "aaxis": {
             "endlinecolor": "#2a3f5f",
             "gridcolor": "white",
             "linecolor": "white",
             "minorgridcolor": "white",
             "startlinecolor": "#2a3f5f"
            },
            "baxis": {
             "endlinecolor": "#2a3f5f",
             "gridcolor": "white",
             "linecolor": "white",
             "minorgridcolor": "white",
             "startlinecolor": "#2a3f5f"
            },
            "type": "carpet"
           }
          ],
          "choropleth": [
           {
            "colorbar": {
             "outlinewidth": 0,
             "ticks": ""
            },
            "type": "choropleth"
           }
          ],
          "contour": [
           {
            "colorbar": {
             "outlinewidth": 0,
             "ticks": ""
            },
            "colorscale": [
             [
              0,
              "#0d0887"
             ],
             [
              0.1111111111111111,
              "#46039f"
             ],
             [
              0.2222222222222222,
              "#7201a8"
             ],
             [
              0.3333333333333333,
              "#9c179e"
             ],
             [
              0.4444444444444444,
              "#bd3786"
             ],
             [
              0.5555555555555556,
              "#d8576b"
             ],
             [
              0.6666666666666666,
              "#ed7953"
             ],
             [
              0.7777777777777778,
              "#fb9f3a"
             ],
             [
              0.8888888888888888,
              "#fdca26"
             ],
             [
              1,
              "#f0f921"
             ]
            ],
            "type": "contour"
           }
          ],
          "contourcarpet": [
           {
            "colorbar": {
             "outlinewidth": 0,
             "ticks": ""
            },
            "type": "contourcarpet"
           }
          ],
          "heatmap": [
           {
            "colorbar": {
             "outlinewidth": 0,
             "ticks": ""
            },
            "colorscale": [
             [
              0,
              "#0d0887"
             ],
             [
              0.1111111111111111,
              "#46039f"
             ],
             [
              0.2222222222222222,
              "#7201a8"
             ],
             [
              0.3333333333333333,
              "#9c179e"
             ],
             [
              0.4444444444444444,
              "#bd3786"
             ],
             [
              0.5555555555555556,
              "#d8576b"
             ],
             [
              0.6666666666666666,
              "#ed7953"
             ],
             [
              0.7777777777777778,
              "#fb9f3a"
             ],
             [
              0.8888888888888888,
              "#fdca26"
             ],
             [
              1,
              "#f0f921"
             ]
            ],
            "type": "heatmap"
           }
          ],
          "heatmapgl": [
           {
            "colorbar": {
             "outlinewidth": 0,
             "ticks": ""
            },
            "colorscale": [
             [
              0,
              "#0d0887"
             ],
             [
              0.1111111111111111,
              "#46039f"
             ],
             [
              0.2222222222222222,
              "#7201a8"
             ],
             [
              0.3333333333333333,
              "#9c179e"
             ],
             [
              0.4444444444444444,
              "#bd3786"
             ],
             [
              0.5555555555555556,
              "#d8576b"
             ],
             [
              0.6666666666666666,
              "#ed7953"
             ],
             [
              0.7777777777777778,
              "#fb9f3a"
             ],
             [
              0.8888888888888888,
              "#fdca26"
             ],
             [
              1,
              "#f0f921"
             ]
            ],
            "type": "heatmapgl"
           }
          ],
          "histogram": [
           {
            "marker": {
             "pattern": {
              "fillmode": "overlay",
              "size": 10,
              "solidity": 0.2
             }
            },
            "type": "histogram"
           }
          ],
          "histogram2d": [
           {
            "colorbar": {
             "outlinewidth": 0,
             "ticks": ""
            },
            "colorscale": [
             [
              0,
              "#0d0887"
             ],
             [
              0.1111111111111111,
              "#46039f"
             ],
             [
              0.2222222222222222,
              "#7201a8"
             ],
             [
              0.3333333333333333,
              "#9c179e"
             ],
             [
              0.4444444444444444,
              "#bd3786"
             ],
             [
              0.5555555555555556,
              "#d8576b"
             ],
             [
              0.6666666666666666,
              "#ed7953"
             ],
             [
              0.7777777777777778,
              "#fb9f3a"
             ],
             [
              0.8888888888888888,
              "#fdca26"
             ],
             [
              1,
              "#f0f921"
             ]
            ],
            "type": "histogram2d"
           }
          ],
          "histogram2dcontour": [
           {
            "colorbar": {
             "outlinewidth": 0,
             "ticks": ""
            },
            "colorscale": [
             [
              0,
              "#0d0887"
             ],
             [
              0.1111111111111111,
              "#46039f"
             ],
             [
              0.2222222222222222,
              "#7201a8"
             ],
             [
              0.3333333333333333,
              "#9c179e"
             ],
             [
              0.4444444444444444,
              "#bd3786"
             ],
             [
              0.5555555555555556,
              "#d8576b"
             ],
             [
              0.6666666666666666,
              "#ed7953"
             ],
             [
              0.7777777777777778,
              "#fb9f3a"
             ],
             [
              0.8888888888888888,
              "#fdca26"
             ],
             [
              1,
              "#f0f921"
             ]
            ],
            "type": "histogram2dcontour"
           }
          ],
          "mesh3d": [
           {
            "colorbar": {
             "outlinewidth": 0,
             "ticks": ""
            },
            "type": "mesh3d"
           }
          ],
          "parcoords": [
           {
            "line": {
             "colorbar": {
              "outlinewidth": 0,
              "ticks": ""
             }
            },
            "type": "parcoords"
           }
          ],
          "pie": [
           {
            "automargin": true,
            "type": "pie"
           }
          ],
          "scatter": [
           {
            "fillpattern": {
             "fillmode": "overlay",
             "size": 10,
             "solidity": 0.2
            },
            "type": "scatter"
           }
          ],
          "scatter3d": [
           {
            "line": {
             "colorbar": {
              "outlinewidth": 0,
              "ticks": ""
             }
            },
            "marker": {
             "colorbar": {
              "outlinewidth": 0,
              "ticks": ""
             }
            },
            "type": "scatter3d"
           }
          ],
          "scattercarpet": [
           {
            "marker": {
             "colorbar": {
              "outlinewidth": 0,
              "ticks": ""
             }
            },
            "type": "scattercarpet"
           }
          ],
          "scattergeo": [
           {
            "marker": {
             "colorbar": {
              "outlinewidth": 0,
              "ticks": ""
             }
            },
            "type": "scattergeo"
           }
          ],
          "scattergl": [
           {
            "marker": {
             "colorbar": {
              "outlinewidth": 0,
              "ticks": ""
             }
            },
            "type": "scattergl"
           }
          ],
          "scattermapbox": [
           {
            "marker": {
             "colorbar": {
              "outlinewidth": 0,
              "ticks": ""
             }
            },
            "type": "scattermapbox"
           }
          ],
          "scatterpolar": [
           {
            "marker": {
             "colorbar": {
              "outlinewidth": 0,
              "ticks": ""
             }
            },
            "type": "scatterpolar"
           }
          ],
          "scatterpolargl": [
           {
            "marker": {
             "colorbar": {
              "outlinewidth": 0,
              "ticks": ""
             }
            },
            "type": "scatterpolargl"
           }
          ],
          "scatterternary": [
           {
            "marker": {
             "colorbar": {
              "outlinewidth": 0,
              "ticks": ""
             }
            },
            "type": "scatterternary"
           }
          ],
          "surface": [
           {
            "colorbar": {
             "outlinewidth": 0,
             "ticks": ""
            },
            "colorscale": [
             [
              0,
              "#0d0887"
             ],
             [
              0.1111111111111111,
              "#46039f"
             ],
             [
              0.2222222222222222,
              "#7201a8"
             ],
             [
              0.3333333333333333,
              "#9c179e"
             ],
             [
              0.4444444444444444,
              "#bd3786"
             ],
             [
              0.5555555555555556,
              "#d8576b"
             ],
             [
              0.6666666666666666,
              "#ed7953"
             ],
             [
              0.7777777777777778,
              "#fb9f3a"
             ],
             [
              0.8888888888888888,
              "#fdca26"
             ],
             [
              1,
              "#f0f921"
             ]
            ],
            "type": "surface"
           }
          ],
          "table": [
           {
            "cells": {
             "fill": {
              "color": "#EBF0F8"
             },
             "line": {
              "color": "white"
             }
            },
            "header": {
             "fill": {
              "color": "#C8D4E3"
             },
             "line": {
              "color": "white"
             }
            },
            "type": "table"
           }
          ]
         },
         "layout": {
          "annotationdefaults": {
           "arrowcolor": "#2a3f5f",
           "arrowhead": 0,
           "arrowwidth": 1
          },
          "autotypenumbers": "strict",
          "coloraxis": {
           "colorbar": {
            "outlinewidth": 0,
            "ticks": ""
           }
          },
          "colorscale": {
           "diverging": [
            [
             0,
             "#8e0152"
            ],
            [
             0.1,
             "#c51b7d"
            ],
            [
             0.2,
             "#de77ae"
            ],
            [
             0.3,
             "#f1b6da"
            ],
            [
             0.4,
             "#fde0ef"
            ],
            [
             0.5,
             "#f7f7f7"
            ],
            [
             0.6,
             "#e6f5d0"
            ],
            [
             0.7,
             "#b8e186"
            ],
            [
             0.8,
             "#7fbc41"
            ],
            [
             0.9,
             "#4d9221"
            ],
            [
             1,
             "#276419"
            ]
           ],
           "sequential": [
            [
             0,
             "#0d0887"
            ],
            [
             0.1111111111111111,
             "#46039f"
            ],
            [
             0.2222222222222222,
             "#7201a8"
            ],
            [
             0.3333333333333333,
             "#9c179e"
            ],
            [
             0.4444444444444444,
             "#bd3786"
            ],
            [
             0.5555555555555556,
             "#d8576b"
            ],
            [
             0.6666666666666666,
             "#ed7953"
            ],
            [
             0.7777777777777778,
             "#fb9f3a"
            ],
            [
             0.8888888888888888,
             "#fdca26"
            ],
            [
             1,
             "#f0f921"
            ]
           ],
           "sequentialminus": [
            [
             0,
             "#0d0887"
            ],
            [
             0.1111111111111111,
             "#46039f"
            ],
            [
             0.2222222222222222,
             "#7201a8"
            ],
            [
             0.3333333333333333,
             "#9c179e"
            ],
            [
             0.4444444444444444,
             "#bd3786"
            ],
            [
             0.5555555555555556,
             "#d8576b"
            ],
            [
             0.6666666666666666,
             "#ed7953"
            ],
            [
             0.7777777777777778,
             "#fb9f3a"
            ],
            [
             0.8888888888888888,
             "#fdca26"
            ],
            [
             1,
             "#f0f921"
            ]
           ]
          },
          "colorway": [
           "#636efa",
           "#EF553B",
           "#00cc96",
           "#ab63fa",
           "#FFA15A",
           "#19d3f3",
           "#FF6692",
           "#B6E880",
           "#FF97FF",
           "#FECB52"
          ],
          "font": {
           "color": "#2a3f5f"
          },
          "geo": {
           "bgcolor": "white",
           "lakecolor": "white",
           "landcolor": "#E5ECF6",
           "showlakes": true,
           "showland": true,
           "subunitcolor": "white"
          },
          "hoverlabel": {
           "align": "left"
          },
          "hovermode": "closest",
          "mapbox": {
           "style": "light"
          },
          "paper_bgcolor": "white",
          "plot_bgcolor": "#E5ECF6",
          "polar": {
           "angularaxis": {
            "gridcolor": "white",
            "linecolor": "white",
            "ticks": ""
           },
           "bgcolor": "#E5ECF6",
           "radialaxis": {
            "gridcolor": "white",
            "linecolor": "white",
            "ticks": ""
           }
          },
          "scene": {
           "xaxis": {
            "backgroundcolor": "#E5ECF6",
            "gridcolor": "white",
            "gridwidth": 2,
            "linecolor": "white",
            "showbackground": true,
            "ticks": "",
            "zerolinecolor": "white"
           },
           "yaxis": {
            "backgroundcolor": "#E5ECF6",
            "gridcolor": "white",
            "gridwidth": 2,
            "linecolor": "white",
            "showbackground": true,
            "ticks": "",
            "zerolinecolor": "white"
           },
           "zaxis": {
            "backgroundcolor": "#E5ECF6",
            "gridcolor": "white",
            "gridwidth": 2,
            "linecolor": "white",
            "showbackground": true,
            "ticks": "",
            "zerolinecolor": "white"
           }
          },
          "shapedefaults": {
           "line": {
            "color": "#2a3f5f"
           }
          },
          "ternary": {
           "aaxis": {
            "gridcolor": "white",
            "linecolor": "white",
            "ticks": ""
           },
           "baxis": {
            "gridcolor": "white",
            "linecolor": "white",
            "ticks": ""
           },
           "bgcolor": "#E5ECF6",
           "caxis": {
            "gridcolor": "white",
            "linecolor": "white",
            "ticks": ""
           }
          },
          "title": {
           "x": 0.05
          },
          "xaxis": {
           "automargin": true,
           "gridcolor": "white",
           "linecolor": "white",
           "ticks": "",
           "title": {
            "standoff": 15
           },
           "zerolinecolor": "white",
           "zerolinewidth": 2
          },
          "yaxis": {
           "automargin": true,
           "gridcolor": "white",
           "linecolor": "white",
           "ticks": "",
           "title": {
            "standoff": 15
           },
           "zerolinecolor": "white",
           "zerolinewidth": 2
          }
         }
        },
        "title": {
         "text": "Top 10 Styles by Avg Rating for Each category"
        },
        "yaxis": {
         "range": [
          0.9,
          1.2
         ]
        }
       }
      }
     },
     "metadata": {},
     "output_type": "display_data"
    }
   ],
   "source": [
    "# make the plot interactive\n",
    "fig = go.Figure()\n",
    "\n",
    "fig.add_trace(go.Bar(\n",
    "    x=cfm_ratings_by_style.index,\n",
    "    y=cfm_ratings_by_style_top[\"norm_rating\"].values,\n",
    "    name='CFM',\n",
    "    marker_color='#FF0000'\n",
    "))\n",
    "fig.add_trace(go.Bar(\n",
    "    x=exp_ratings_by_style.index,\n",
    "    y=exp_ratings_by_style_top[\"norm_rating\"].values,\n",
    "    name='EXP',\n",
    "    marker_color='#00FF00'\n",
    "))\n",
    "fig.add_trace(go.Bar(\n",
    "    x=xpl_ratings_by_style.index,\n",
    "    y=xpl_ratings_by_style_top[\"norm_rating\"].values,\n",
    "    name='XPL',\n",
    "    marker_color='#0000FF'\n",
    "))\n",
    "fig.add_trace(go.Bar(\n",
    "    x=adv_ratings_by_style.index,\n",
    "    y=adv_ratings_by_style_top[\"norm_rating\"].values,\n",
    "    name='ADV',\n",
    "    marker_color='#FFFF00'\n",
    "))\n",
    "\n",
    "fig.add_trace(go.Bar(\n",
    "    x=overall_ratings_by_style.index,\n",
    "    y=overall_ratings_by_style_top[\"norm_rating\"].values,\n",
    "    name='Overall',\n",
    "    marker_color='#000000'\n",
    "))\n",
    "\n",
    "# set y axis to start at 0.9 and end at 1.2\n",
    "fig.update_yaxes(range=[0.9, 1.2])\n",
    "\n",
    "\n",
    "\n",
    "# Change the bar mode\n",
    "fig.update_layout(barmode='group', title=\"Top 10 Styles by Avg Rating for Each category\")\n",
    "fig.show()\n"
   ]
  },
  {
   "attachments": {},
   "cell_type": "markdown",
   "metadata": {},
   "source": [
    "### Analysis:\n",
    "Conformist, explorers and expert-like rate style of beers similarly compared to their average rating. It seems like they all agree that \"Geuze\", a belgian style of beer, is the best style overall.  \n",
    "The only category that doesn't agree with this consensus is the adventurers. The Gueuzes are ranked 11 in their ranking. Their prefered style is quadrupel, which is also belgian and it's not the most common type of beer (at least for Americans)."
   ]
  },
  {
   "cell_type": "code",
   "execution_count": 215,
   "metadata": {},
   "outputs": [
    {
     "data": {
      "application/vnd.plotly.v1+json": {
       "config": {
        "plotlyServerURL": "https://plot.ly"
       },
       "data": [
        {
         "marker": {
          "color": "#FFFF00"
         },
         "name": "ADV",
         "type": "bar",
         "x": [
          "Light Lager",
          "American Malt Liquor",
          "Low Alcohol Beer",
          "American Adjunct Lager",
          "Happoshu",
          "Euro Strong Lager",
          "Japanese Rice Lager",
          "Euro Pale Lager",
          "Kvass",
          "American Pale Lager"
         ],
         "y": [
          0.646150272048032,
          0.6909260736278362,
          0.7075773408393952,
          0.7626992900292439,
          0.8020744554322238,
          0.8181770515204378,
          0.8297408942819127,
          0.8730350869231845,
          0.8779614110586379,
          0.9161674216923835
         ]
        }
       ],
       "layout": {
        "barmode": "group",
        "template": {
         "data": {
          "bar": [
           {
            "error_x": {
             "color": "#2a3f5f"
            },
            "error_y": {
             "color": "#2a3f5f"
            },
            "marker": {
             "line": {
              "color": "#E5ECF6",
              "width": 0.5
             },
             "pattern": {
              "fillmode": "overlay",
              "size": 10,
              "solidity": 0.2
             }
            },
            "type": "bar"
           }
          ],
          "barpolar": [
           {
            "marker": {
             "line": {
              "color": "#E5ECF6",
              "width": 0.5
             },
             "pattern": {
              "fillmode": "overlay",
              "size": 10,
              "solidity": 0.2
             }
            },
            "type": "barpolar"
           }
          ],
          "carpet": [
           {
            "aaxis": {
             "endlinecolor": "#2a3f5f",
             "gridcolor": "white",
             "linecolor": "white",
             "minorgridcolor": "white",
             "startlinecolor": "#2a3f5f"
            },
            "baxis": {
             "endlinecolor": "#2a3f5f",
             "gridcolor": "white",
             "linecolor": "white",
             "minorgridcolor": "white",
             "startlinecolor": "#2a3f5f"
            },
            "type": "carpet"
           }
          ],
          "choropleth": [
           {
            "colorbar": {
             "outlinewidth": 0,
             "ticks": ""
            },
            "type": "choropleth"
           }
          ],
          "contour": [
           {
            "colorbar": {
             "outlinewidth": 0,
             "ticks": ""
            },
            "colorscale": [
             [
              0,
              "#0d0887"
             ],
             [
              0.1111111111111111,
              "#46039f"
             ],
             [
              0.2222222222222222,
              "#7201a8"
             ],
             [
              0.3333333333333333,
              "#9c179e"
             ],
             [
              0.4444444444444444,
              "#bd3786"
             ],
             [
              0.5555555555555556,
              "#d8576b"
             ],
             [
              0.6666666666666666,
              "#ed7953"
             ],
             [
              0.7777777777777778,
              "#fb9f3a"
             ],
             [
              0.8888888888888888,
              "#fdca26"
             ],
             [
              1,
              "#f0f921"
             ]
            ],
            "type": "contour"
           }
          ],
          "contourcarpet": [
           {
            "colorbar": {
             "outlinewidth": 0,
             "ticks": ""
            },
            "type": "contourcarpet"
           }
          ],
          "heatmap": [
           {
            "colorbar": {
             "outlinewidth": 0,
             "ticks": ""
            },
            "colorscale": [
             [
              0,
              "#0d0887"
             ],
             [
              0.1111111111111111,
              "#46039f"
             ],
             [
              0.2222222222222222,
              "#7201a8"
             ],
             [
              0.3333333333333333,
              "#9c179e"
             ],
             [
              0.4444444444444444,
              "#bd3786"
             ],
             [
              0.5555555555555556,
              "#d8576b"
             ],
             [
              0.6666666666666666,
              "#ed7953"
             ],
             [
              0.7777777777777778,
              "#fb9f3a"
             ],
             [
              0.8888888888888888,
              "#fdca26"
             ],
             [
              1,
              "#f0f921"
             ]
            ],
            "type": "heatmap"
           }
          ],
          "heatmapgl": [
           {
            "colorbar": {
             "outlinewidth": 0,
             "ticks": ""
            },
            "colorscale": [
             [
              0,
              "#0d0887"
             ],
             [
              0.1111111111111111,
              "#46039f"
             ],
             [
              0.2222222222222222,
              "#7201a8"
             ],
             [
              0.3333333333333333,
              "#9c179e"
             ],
             [
              0.4444444444444444,
              "#bd3786"
             ],
             [
              0.5555555555555556,
              "#d8576b"
             ],
             [
              0.6666666666666666,
              "#ed7953"
             ],
             [
              0.7777777777777778,
              "#fb9f3a"
             ],
             [
              0.8888888888888888,
              "#fdca26"
             ],
             [
              1,
              "#f0f921"
             ]
            ],
            "type": "heatmapgl"
           }
          ],
          "histogram": [
           {
            "marker": {
             "pattern": {
              "fillmode": "overlay",
              "size": 10,
              "solidity": 0.2
             }
            },
            "type": "histogram"
           }
          ],
          "histogram2d": [
           {
            "colorbar": {
             "outlinewidth": 0,
             "ticks": ""
            },
            "colorscale": [
             [
              0,
              "#0d0887"
             ],
             [
              0.1111111111111111,
              "#46039f"
             ],
             [
              0.2222222222222222,
              "#7201a8"
             ],
             [
              0.3333333333333333,
              "#9c179e"
             ],
             [
              0.4444444444444444,
              "#bd3786"
             ],
             [
              0.5555555555555556,
              "#d8576b"
             ],
             [
              0.6666666666666666,
              "#ed7953"
             ],
             [
              0.7777777777777778,
              "#fb9f3a"
             ],
             [
              0.8888888888888888,
              "#fdca26"
             ],
             [
              1,
              "#f0f921"
             ]
            ],
            "type": "histogram2d"
           }
          ],
          "histogram2dcontour": [
           {
            "colorbar": {
             "outlinewidth": 0,
             "ticks": ""
            },
            "colorscale": [
             [
              0,
              "#0d0887"
             ],
             [
              0.1111111111111111,
              "#46039f"
             ],
             [
              0.2222222222222222,
              "#7201a8"
             ],
             [
              0.3333333333333333,
              "#9c179e"
             ],
             [
              0.4444444444444444,
              "#bd3786"
             ],
             [
              0.5555555555555556,
              "#d8576b"
             ],
             [
              0.6666666666666666,
              "#ed7953"
             ],
             [
              0.7777777777777778,
              "#fb9f3a"
             ],
             [
              0.8888888888888888,
              "#fdca26"
             ],
             [
              1,
              "#f0f921"
             ]
            ],
            "type": "histogram2dcontour"
           }
          ],
          "mesh3d": [
           {
            "colorbar": {
             "outlinewidth": 0,
             "ticks": ""
            },
            "type": "mesh3d"
           }
          ],
          "parcoords": [
           {
            "line": {
             "colorbar": {
              "outlinewidth": 0,
              "ticks": ""
             }
            },
            "type": "parcoords"
           }
          ],
          "pie": [
           {
            "automargin": true,
            "type": "pie"
           }
          ],
          "scatter": [
           {
            "fillpattern": {
             "fillmode": "overlay",
             "size": 10,
             "solidity": 0.2
            },
            "type": "scatter"
           }
          ],
          "scatter3d": [
           {
            "line": {
             "colorbar": {
              "outlinewidth": 0,
              "ticks": ""
             }
            },
            "marker": {
             "colorbar": {
              "outlinewidth": 0,
              "ticks": ""
             }
            },
            "type": "scatter3d"
           }
          ],
          "scattercarpet": [
           {
            "marker": {
             "colorbar": {
              "outlinewidth": 0,
              "ticks": ""
             }
            },
            "type": "scattercarpet"
           }
          ],
          "scattergeo": [
           {
            "marker": {
             "colorbar": {
              "outlinewidth": 0,
              "ticks": ""
             }
            },
            "type": "scattergeo"
           }
          ],
          "scattergl": [
           {
            "marker": {
             "colorbar": {
              "outlinewidth": 0,
              "ticks": ""
             }
            },
            "type": "scattergl"
           }
          ],
          "scattermapbox": [
           {
            "marker": {
             "colorbar": {
              "outlinewidth": 0,
              "ticks": ""
             }
            },
            "type": "scattermapbox"
           }
          ],
          "scatterpolar": [
           {
            "marker": {
             "colorbar": {
              "outlinewidth": 0,
              "ticks": ""
             }
            },
            "type": "scatterpolar"
           }
          ],
          "scatterpolargl": [
           {
            "marker": {
             "colorbar": {
              "outlinewidth": 0,
              "ticks": ""
             }
            },
            "type": "scatterpolargl"
           }
          ],
          "scatterternary": [
           {
            "marker": {
             "colorbar": {
              "outlinewidth": 0,
              "ticks": ""
             }
            },
            "type": "scatterternary"
           }
          ],
          "surface": [
           {
            "colorbar": {
             "outlinewidth": 0,
             "ticks": ""
            },
            "colorscale": [
             [
              0,
              "#0d0887"
             ],
             [
              0.1111111111111111,
              "#46039f"
             ],
             [
              0.2222222222222222,
              "#7201a8"
             ],
             [
              0.3333333333333333,
              "#9c179e"
             ],
             [
              0.4444444444444444,
              "#bd3786"
             ],
             [
              0.5555555555555556,
              "#d8576b"
             ],
             [
              0.6666666666666666,
              "#ed7953"
             ],
             [
              0.7777777777777778,
              "#fb9f3a"
             ],
             [
              0.8888888888888888,
              "#fdca26"
             ],
             [
              1,
              "#f0f921"
             ]
            ],
            "type": "surface"
           }
          ],
          "table": [
           {
            "cells": {
             "fill": {
              "color": "#EBF0F8"
             },
             "line": {
              "color": "white"
             }
            },
            "header": {
             "fill": {
              "color": "#C8D4E3"
             },
             "line": {
              "color": "white"
             }
            },
            "type": "table"
           }
          ]
         },
         "layout": {
          "annotationdefaults": {
           "arrowcolor": "#2a3f5f",
           "arrowhead": 0,
           "arrowwidth": 1
          },
          "autotypenumbers": "strict",
          "coloraxis": {
           "colorbar": {
            "outlinewidth": 0,
            "ticks": ""
           }
          },
          "colorscale": {
           "diverging": [
            [
             0,
             "#8e0152"
            ],
            [
             0.1,
             "#c51b7d"
            ],
            [
             0.2,
             "#de77ae"
            ],
            [
             0.3,
             "#f1b6da"
            ],
            [
             0.4,
             "#fde0ef"
            ],
            [
             0.5,
             "#f7f7f7"
            ],
            [
             0.6,
             "#e6f5d0"
            ],
            [
             0.7,
             "#b8e186"
            ],
            [
             0.8,
             "#7fbc41"
            ],
            [
             0.9,
             "#4d9221"
            ],
            [
             1,
             "#276419"
            ]
           ],
           "sequential": [
            [
             0,
             "#0d0887"
            ],
            [
             0.1111111111111111,
             "#46039f"
            ],
            [
             0.2222222222222222,
             "#7201a8"
            ],
            [
             0.3333333333333333,
             "#9c179e"
            ],
            [
             0.4444444444444444,
             "#bd3786"
            ],
            [
             0.5555555555555556,
             "#d8576b"
            ],
            [
             0.6666666666666666,
             "#ed7953"
            ],
            [
             0.7777777777777778,
             "#fb9f3a"
            ],
            [
             0.8888888888888888,
             "#fdca26"
            ],
            [
             1,
             "#f0f921"
            ]
           ],
           "sequentialminus": [
            [
             0,
             "#0d0887"
            ],
            [
             0.1111111111111111,
             "#46039f"
            ],
            [
             0.2222222222222222,
             "#7201a8"
            ],
            [
             0.3333333333333333,
             "#9c179e"
            ],
            [
             0.4444444444444444,
             "#bd3786"
            ],
            [
             0.5555555555555556,
             "#d8576b"
            ],
            [
             0.6666666666666666,
             "#ed7953"
            ],
            [
             0.7777777777777778,
             "#fb9f3a"
            ],
            [
             0.8888888888888888,
             "#fdca26"
            ],
            [
             1,
             "#f0f921"
            ]
           ]
          },
          "colorway": [
           "#636efa",
           "#EF553B",
           "#00cc96",
           "#ab63fa",
           "#FFA15A",
           "#19d3f3",
           "#FF6692",
           "#B6E880",
           "#FF97FF",
           "#FECB52"
          ],
          "font": {
           "color": "#2a3f5f"
          },
          "geo": {
           "bgcolor": "white",
           "lakecolor": "white",
           "landcolor": "#E5ECF6",
           "showlakes": true,
           "showland": true,
           "subunitcolor": "white"
          },
          "hoverlabel": {
           "align": "left"
          },
          "hovermode": "closest",
          "mapbox": {
           "style": "light"
          },
          "paper_bgcolor": "white",
          "plot_bgcolor": "#E5ECF6",
          "polar": {
           "angularaxis": {
            "gridcolor": "white",
            "linecolor": "white",
            "ticks": ""
           },
           "bgcolor": "#E5ECF6",
           "radialaxis": {
            "gridcolor": "white",
            "linecolor": "white",
            "ticks": ""
           }
          },
          "scene": {
           "xaxis": {
            "backgroundcolor": "#E5ECF6",
            "gridcolor": "white",
            "gridwidth": 2,
            "linecolor": "white",
            "showbackground": true,
            "ticks": "",
            "zerolinecolor": "white"
           },
           "yaxis": {
            "backgroundcolor": "#E5ECF6",
            "gridcolor": "white",
            "gridwidth": 2,
            "linecolor": "white",
            "showbackground": true,
            "ticks": "",
            "zerolinecolor": "white"
           },
           "zaxis": {
            "backgroundcolor": "#E5ECF6",
            "gridcolor": "white",
            "gridwidth": 2,
            "linecolor": "white",
            "showbackground": true,
            "ticks": "",
            "zerolinecolor": "white"
           }
          },
          "shapedefaults": {
           "line": {
            "color": "#2a3f5f"
           }
          },
          "ternary": {
           "aaxis": {
            "gridcolor": "white",
            "linecolor": "white",
            "ticks": ""
           },
           "baxis": {
            "gridcolor": "white",
            "linecolor": "white",
            "ticks": ""
           },
           "bgcolor": "#E5ECF6",
           "caxis": {
            "gridcolor": "white",
            "linecolor": "white",
            "ticks": ""
           }
          },
          "title": {
           "x": 0.05
          },
          "xaxis": {
           "automargin": true,
           "gridcolor": "white",
           "linecolor": "white",
           "ticks": "",
           "title": {
            "standoff": 15
           },
           "zerolinecolor": "white",
           "zerolinewidth": 2
          },
          "yaxis": {
           "automargin": true,
           "gridcolor": "white",
           "linecolor": "white",
           "ticks": "",
           "title": {
            "standoff": 15
           },
           "zerolinecolor": "white",
           "zerolinewidth": 2
          }
         }
        },
        "title": {
         "text": "Bottom 10 Styles by Avg Rating for Adventures"
        }
       }
      }
     },
     "metadata": {},
     "output_type": "display_data"
    }
   ],
   "source": [
    "# take 10 least liked beers for adventures\n",
    "adv_ratings_by_style_bottom10 = adv_ratings_by_style.tail(10)\n",
    "\n",
    "# sort in ascending order\n",
    "adv_ratings_by_style_bottom10 = adv_ratings_by_style_bottom10.sort_values(by='rating', ascending=True)\n",
    "\n",
    "# create interactive plot to show the 10 least liked beers for adventures\n",
    "fig = go.Figure()\n",
    "\n",
    "fig.add_trace(go.Bar(\n",
    "    x=adv_ratings_by_style_bottom10.index,\n",
    "    y=adv_ratings_by_style_bottom10[\"norm_rating\"].values,\n",
    "    name='ADV',\n",
    "    marker_color='#FFFF00'\n",
    "))\n",
    "\n",
    "# Change the bar mode\n",
    "fig.update_layout(barmode='group', title=\"Bottom 10 Styles by Avg Rating for Adventures\")\n",
    "fig.show()\n"
   ]
  },
  {
   "attachments": {},
   "cell_type": "markdown",
   "metadata": {},
   "source": [
    "### Analysis:\n",
    "By considering the top 10 worst style of beers according to adventurers, we see that the American Adjunct Lager is present, while being one of the most rated beers. We can also notice other beers that they rate a lot while considering it not good (eg. Euro Pale Lager). \n",
    "But we saw as well that adventurer also rate some popular beers a lot like the very popular American IPA. So they don't only rate beers styles that are considered as bad by them."
   ]
  },
  {
   "attachments": {},
   "cell_type": "markdown",
   "metadata": {},
   "source": [
    "# To which country (country of the beer) the ratings of each category go ?"
   ]
  },
  {
   "attachments": {},
   "cell_type": "markdown",
   "metadata": {},
   "source": [
    "## Where are user of each category comming from ? (is there any difference) ?"
   ]
  },
  {
   "cell_type": "code",
   "execution_count": 215,
   "metadata": {},
   "outputs": [],
   "source": [
    "# use cfm_users, exp_users, xpl_users, adv_users, and overall_users to get countries of users\n",
    "xpl_users_by_country = xpl_users.groupby(\"country\").count()\n",
    "adv_users_by_country = adv_users.groupby(\"country\").count()\n",
    "exp_users_by_country = exp_users.groupby(\"country\").count()\n",
    "cfm_users_by_country = cfm_users.groupby(\"country\").count()\n",
    "overall_users_by_country = scores_ddf.groupby(\"country\").count()\n",
    "\n",
    "# get the top 4 countries for each category\n",
    "xpl_users_by_country_top10 = xpl_users_by_country.sort_values(by=\"uid\", ascending=False).head(4)\n",
    "adv_users_by_country_top10 = adv_users_by_country.sort_values(by=\"uid\", ascending=False).head(4)\n",
    "exp_users_by_country_top10 = exp_users_by_country.sort_values(by=\"uid\", ascending=False).head(4)\n",
    "cfm_users_by_country_top10 = cfm_users_by_country.sort_values(by=\"uid\", ascending=False).head(4)\n",
    "overall_users_by_country_top10 = overall_users_by_country.sort_values(by=\"uid\", ascending=False).head(4)\n",
    "\n",
    "\n"
   ]
  },
  {
   "cell_type": "code",
   "execution_count": 220,
   "metadata": {},
   "outputs": [
    {
     "data": {
      "application/vnd.plotly.v1+json": {
       "config": {
        "plotlyServerURL": "https://plot.ly"
       },
       "data": [
        {
         "labels": [
          "United States",
          "Canada",
          "England",
          "Australia"
         ],
         "name": "XPL",
         "type": "pie",
         "values": [
          6820,
          608,
          192,
          150
         ]
        },
        {
         "labels": [
          "United States",
          "Canada",
          "Australia",
          "England"
         ],
         "name": "ADV",
         "type": "pie",
         "values": [
          5154,
          388,
          89,
          80
         ]
        },
        {
         "labels": [
          "United States",
          "Canada",
          "England",
          "Australia"
         ],
         "name": "EXP",
         "type": "pie",
         "values": [
          1633,
          44,
          9,
          4
         ]
        },
        {
         "labels": [
          "United States",
          "Canada",
          "England",
          "Australia"
         ],
         "name": "CFM",
         "type": "pie",
         "values": [
          5507,
          165,
          21,
          18
         ]
        },
        {
         "labels": [
          "United States",
          "Canada",
          "England",
          "Australia"
         ],
         "name": "Overall",
         "type": "pie",
         "values": [
          54957,
          1593,
          329,
          229
         ]
        }
       ],
       "layout": {
        "template": {
         "data": {
          "bar": [
           {
            "error_x": {
             "color": "#2a3f5f"
            },
            "error_y": {
             "color": "#2a3f5f"
            },
            "marker": {
             "line": {
              "color": "#E5ECF6",
              "width": 0.5
             },
             "pattern": {
              "fillmode": "overlay",
              "size": 10,
              "solidity": 0.2
             }
            },
            "type": "bar"
           }
          ],
          "barpolar": [
           {
            "marker": {
             "line": {
              "color": "#E5ECF6",
              "width": 0.5
             },
             "pattern": {
              "fillmode": "overlay",
              "size": 10,
              "solidity": 0.2
             }
            },
            "type": "barpolar"
           }
          ],
          "carpet": [
           {
            "aaxis": {
             "endlinecolor": "#2a3f5f",
             "gridcolor": "white",
             "linecolor": "white",
             "minorgridcolor": "white",
             "startlinecolor": "#2a3f5f"
            },
            "baxis": {
             "endlinecolor": "#2a3f5f",
             "gridcolor": "white",
             "linecolor": "white",
             "minorgridcolor": "white",
             "startlinecolor": "#2a3f5f"
            },
            "type": "carpet"
           }
          ],
          "choropleth": [
           {
            "colorbar": {
             "outlinewidth": 0,
             "ticks": ""
            },
            "type": "choropleth"
           }
          ],
          "contour": [
           {
            "colorbar": {
             "outlinewidth": 0,
             "ticks": ""
            },
            "colorscale": [
             [
              0,
              "#0d0887"
             ],
             [
              0.1111111111111111,
              "#46039f"
             ],
             [
              0.2222222222222222,
              "#7201a8"
             ],
             [
              0.3333333333333333,
              "#9c179e"
             ],
             [
              0.4444444444444444,
              "#bd3786"
             ],
             [
              0.5555555555555556,
              "#d8576b"
             ],
             [
              0.6666666666666666,
              "#ed7953"
             ],
             [
              0.7777777777777778,
              "#fb9f3a"
             ],
             [
              0.8888888888888888,
              "#fdca26"
             ],
             [
              1,
              "#f0f921"
             ]
            ],
            "type": "contour"
           }
          ],
          "contourcarpet": [
           {
            "colorbar": {
             "outlinewidth": 0,
             "ticks": ""
            },
            "type": "contourcarpet"
           }
          ],
          "heatmap": [
           {
            "colorbar": {
             "outlinewidth": 0,
             "ticks": ""
            },
            "colorscale": [
             [
              0,
              "#0d0887"
             ],
             [
              0.1111111111111111,
              "#46039f"
             ],
             [
              0.2222222222222222,
              "#7201a8"
             ],
             [
              0.3333333333333333,
              "#9c179e"
             ],
             [
              0.4444444444444444,
              "#bd3786"
             ],
             [
              0.5555555555555556,
              "#d8576b"
             ],
             [
              0.6666666666666666,
              "#ed7953"
             ],
             [
              0.7777777777777778,
              "#fb9f3a"
             ],
             [
              0.8888888888888888,
              "#fdca26"
             ],
             [
              1,
              "#f0f921"
             ]
            ],
            "type": "heatmap"
           }
          ],
          "heatmapgl": [
           {
            "colorbar": {
             "outlinewidth": 0,
             "ticks": ""
            },
            "colorscale": [
             [
              0,
              "#0d0887"
             ],
             [
              0.1111111111111111,
              "#46039f"
             ],
             [
              0.2222222222222222,
              "#7201a8"
             ],
             [
              0.3333333333333333,
              "#9c179e"
             ],
             [
              0.4444444444444444,
              "#bd3786"
             ],
             [
              0.5555555555555556,
              "#d8576b"
             ],
             [
              0.6666666666666666,
              "#ed7953"
             ],
             [
              0.7777777777777778,
              "#fb9f3a"
             ],
             [
              0.8888888888888888,
              "#fdca26"
             ],
             [
              1,
              "#f0f921"
             ]
            ],
            "type": "heatmapgl"
           }
          ],
          "histogram": [
           {
            "marker": {
             "pattern": {
              "fillmode": "overlay",
              "size": 10,
              "solidity": 0.2
             }
            },
            "type": "histogram"
           }
          ],
          "histogram2d": [
           {
            "colorbar": {
             "outlinewidth": 0,
             "ticks": ""
            },
            "colorscale": [
             [
              0,
              "#0d0887"
             ],
             [
              0.1111111111111111,
              "#46039f"
             ],
             [
              0.2222222222222222,
              "#7201a8"
             ],
             [
              0.3333333333333333,
              "#9c179e"
             ],
             [
              0.4444444444444444,
              "#bd3786"
             ],
             [
              0.5555555555555556,
              "#d8576b"
             ],
             [
              0.6666666666666666,
              "#ed7953"
             ],
             [
              0.7777777777777778,
              "#fb9f3a"
             ],
             [
              0.8888888888888888,
              "#fdca26"
             ],
             [
              1,
              "#f0f921"
             ]
            ],
            "type": "histogram2d"
           }
          ],
          "histogram2dcontour": [
           {
            "colorbar": {
             "outlinewidth": 0,
             "ticks": ""
            },
            "colorscale": [
             [
              0,
              "#0d0887"
             ],
             [
              0.1111111111111111,
              "#46039f"
             ],
             [
              0.2222222222222222,
              "#7201a8"
             ],
             [
              0.3333333333333333,
              "#9c179e"
             ],
             [
              0.4444444444444444,
              "#bd3786"
             ],
             [
              0.5555555555555556,
              "#d8576b"
             ],
             [
              0.6666666666666666,
              "#ed7953"
             ],
             [
              0.7777777777777778,
              "#fb9f3a"
             ],
             [
              0.8888888888888888,
              "#fdca26"
             ],
             [
              1,
              "#f0f921"
             ]
            ],
            "type": "histogram2dcontour"
           }
          ],
          "mesh3d": [
           {
            "colorbar": {
             "outlinewidth": 0,
             "ticks": ""
            },
            "type": "mesh3d"
           }
          ],
          "parcoords": [
           {
            "line": {
             "colorbar": {
              "outlinewidth": 0,
              "ticks": ""
             }
            },
            "type": "parcoords"
           }
          ],
          "pie": [
           {
            "automargin": true,
            "type": "pie"
           }
          ],
          "scatter": [
           {
            "fillpattern": {
             "fillmode": "overlay",
             "size": 10,
             "solidity": 0.2
            },
            "type": "scatter"
           }
          ],
          "scatter3d": [
           {
            "line": {
             "colorbar": {
              "outlinewidth": 0,
              "ticks": ""
             }
            },
            "marker": {
             "colorbar": {
              "outlinewidth": 0,
              "ticks": ""
             }
            },
            "type": "scatter3d"
           }
          ],
          "scattercarpet": [
           {
            "marker": {
             "colorbar": {
              "outlinewidth": 0,
              "ticks": ""
             }
            },
            "type": "scattercarpet"
           }
          ],
          "scattergeo": [
           {
            "marker": {
             "colorbar": {
              "outlinewidth": 0,
              "ticks": ""
             }
            },
            "type": "scattergeo"
           }
          ],
          "scattergl": [
           {
            "marker": {
             "colorbar": {
              "outlinewidth": 0,
              "ticks": ""
             }
            },
            "type": "scattergl"
           }
          ],
          "scattermapbox": [
           {
            "marker": {
             "colorbar": {
              "outlinewidth": 0,
              "ticks": ""
             }
            },
            "type": "scattermapbox"
           }
          ],
          "scatterpolar": [
           {
            "marker": {
             "colorbar": {
              "outlinewidth": 0,
              "ticks": ""
             }
            },
            "type": "scatterpolar"
           }
          ],
          "scatterpolargl": [
           {
            "marker": {
             "colorbar": {
              "outlinewidth": 0,
              "ticks": ""
             }
            },
            "type": "scatterpolargl"
           }
          ],
          "scatterternary": [
           {
            "marker": {
             "colorbar": {
              "outlinewidth": 0,
              "ticks": ""
             }
            },
            "type": "scatterternary"
           }
          ],
          "surface": [
           {
            "colorbar": {
             "outlinewidth": 0,
             "ticks": ""
            },
            "colorscale": [
             [
              0,
              "#0d0887"
             ],
             [
              0.1111111111111111,
              "#46039f"
             ],
             [
              0.2222222222222222,
              "#7201a8"
             ],
             [
              0.3333333333333333,
              "#9c179e"
             ],
             [
              0.4444444444444444,
              "#bd3786"
             ],
             [
              0.5555555555555556,
              "#d8576b"
             ],
             [
              0.6666666666666666,
              "#ed7953"
             ],
             [
              0.7777777777777778,
              "#fb9f3a"
             ],
             [
              0.8888888888888888,
              "#fdca26"
             ],
             [
              1,
              "#f0f921"
             ]
            ],
            "type": "surface"
           }
          ],
          "table": [
           {
            "cells": {
             "fill": {
              "color": "#EBF0F8"
             },
             "line": {
              "color": "white"
             }
            },
            "header": {
             "fill": {
              "color": "#C8D4E3"
             },
             "line": {
              "color": "white"
             }
            },
            "type": "table"
           }
          ]
         },
         "layout": {
          "annotationdefaults": {
           "arrowcolor": "#2a3f5f",
           "arrowhead": 0,
           "arrowwidth": 1
          },
          "autotypenumbers": "strict",
          "coloraxis": {
           "colorbar": {
            "outlinewidth": 0,
            "ticks": ""
           }
          },
          "colorscale": {
           "diverging": [
            [
             0,
             "#8e0152"
            ],
            [
             0.1,
             "#c51b7d"
            ],
            [
             0.2,
             "#de77ae"
            ],
            [
             0.3,
             "#f1b6da"
            ],
            [
             0.4,
             "#fde0ef"
            ],
            [
             0.5,
             "#f7f7f7"
            ],
            [
             0.6,
             "#e6f5d0"
            ],
            [
             0.7,
             "#b8e186"
            ],
            [
             0.8,
             "#7fbc41"
            ],
            [
             0.9,
             "#4d9221"
            ],
            [
             1,
             "#276419"
            ]
           ],
           "sequential": [
            [
             0,
             "#0d0887"
            ],
            [
             0.1111111111111111,
             "#46039f"
            ],
            [
             0.2222222222222222,
             "#7201a8"
            ],
            [
             0.3333333333333333,
             "#9c179e"
            ],
            [
             0.4444444444444444,
             "#bd3786"
            ],
            [
             0.5555555555555556,
             "#d8576b"
            ],
            [
             0.6666666666666666,
             "#ed7953"
            ],
            [
             0.7777777777777778,
             "#fb9f3a"
            ],
            [
             0.8888888888888888,
             "#fdca26"
            ],
            [
             1,
             "#f0f921"
            ]
           ],
           "sequentialminus": [
            [
             0,
             "#0d0887"
            ],
            [
             0.1111111111111111,
             "#46039f"
            ],
            [
             0.2222222222222222,
             "#7201a8"
            ],
            [
             0.3333333333333333,
             "#9c179e"
            ],
            [
             0.4444444444444444,
             "#bd3786"
            ],
            [
             0.5555555555555556,
             "#d8576b"
            ],
            [
             0.6666666666666666,
             "#ed7953"
            ],
            [
             0.7777777777777778,
             "#fb9f3a"
            ],
            [
             0.8888888888888888,
             "#fdca26"
            ],
            [
             1,
             "#f0f921"
            ]
           ]
          },
          "colorway": [
           "#636efa",
           "#EF553B",
           "#00cc96",
           "#ab63fa",
           "#FFA15A",
           "#19d3f3",
           "#FF6692",
           "#B6E880",
           "#FF97FF",
           "#FECB52"
          ],
          "font": {
           "color": "#2a3f5f"
          },
          "geo": {
           "bgcolor": "white",
           "lakecolor": "white",
           "landcolor": "#E5ECF6",
           "showlakes": true,
           "showland": true,
           "subunitcolor": "white"
          },
          "hoverlabel": {
           "align": "left"
          },
          "hovermode": "closest",
          "mapbox": {
           "style": "light"
          },
          "paper_bgcolor": "white",
          "plot_bgcolor": "#E5ECF6",
          "polar": {
           "angularaxis": {
            "gridcolor": "white",
            "linecolor": "white",
            "ticks": ""
           },
           "bgcolor": "#E5ECF6",
           "radialaxis": {
            "gridcolor": "white",
            "linecolor": "white",
            "ticks": ""
           }
          },
          "scene": {
           "xaxis": {
            "backgroundcolor": "#E5ECF6",
            "gridcolor": "white",
            "gridwidth": 2,
            "linecolor": "white",
            "showbackground": true,
            "ticks": "",
            "zerolinecolor": "white"
           },
           "yaxis": {
            "backgroundcolor": "#E5ECF6",
            "gridcolor": "white",
            "gridwidth": 2,
            "linecolor": "white",
            "showbackground": true,
            "ticks": "",
            "zerolinecolor": "white"
           },
           "zaxis": {
            "backgroundcolor": "#E5ECF6",
            "gridcolor": "white",
            "gridwidth": 2,
            "linecolor": "white",
            "showbackground": true,
            "ticks": "",
            "zerolinecolor": "white"
           }
          },
          "shapedefaults": {
           "line": {
            "color": "#2a3f5f"
           }
          },
          "ternary": {
           "aaxis": {
            "gridcolor": "white",
            "linecolor": "white",
            "ticks": ""
           },
           "baxis": {
            "gridcolor": "white",
            "linecolor": "white",
            "ticks": ""
           },
           "bgcolor": "#E5ECF6",
           "caxis": {
            "gridcolor": "white",
            "linecolor": "white",
            "ticks": ""
           }
          },
          "title": {
           "x": 0.05
          },
          "xaxis": {
           "automargin": true,
           "gridcolor": "white",
           "linecolor": "white",
           "ticks": "",
           "title": {
            "standoff": 15
           },
           "zerolinecolor": "white",
           "zerolinewidth": 2
          },
          "yaxis": {
           "automargin": true,
           "gridcolor": "white",
           "linecolor": "white",
           "ticks": "",
           "title": {
            "standoff": 15
           },
           "zerolinecolor": "white",
           "zerolinewidth": 2
          }
         }
        },
        "title": {
         "text": "Top 4 Countries for Each Category"
        },
        "updatemenus": [
         {
          "active": 4,
          "buttons": [
           {
            "args": [
             {
              "visible": [
               true,
               false,
               false,
               false,
               false
              ]
             },
             {
              "title": "Top 4 Countries for XPL"
             }
            ],
            "label": "XPL",
            "method": "update"
           },
           {
            "args": [
             {
              "visible": [
               false,
               true,
               false,
               false,
               false
              ]
             },
             {
              "title": "Top 4 Countries for ADV"
             }
            ],
            "label": "ADV",
            "method": "update"
           },
           {
            "args": [
             {
              "visible": [
               false,
               false,
               true,
               false,
               false
              ]
             },
             {
              "title": "Top 4 Countries for EXP"
             }
            ],
            "label": "EXP",
            "method": "update"
           },
           {
            "args": [
             {
              "visible": [
               false,
               false,
               false,
               true,
               false
              ]
             },
             {
              "title": "Top 4 Countries for CFM"
             }
            ],
            "label": "CFM",
            "method": "update"
           },
           {
            "args": [
             {
              "visible": [
               false,
               false,
               false,
               false,
               true
              ]
             },
             {
              "title": "Top 4 Countries for Overall"
             }
            ],
            "label": "Overall",
            "method": "update"
           }
          ]
         }
        ]
       }
      }
     },
     "metadata": {},
     "output_type": "display_data"
    }
   ],
   "source": [
    "# interactive pie chart with plotly for top 5 countries for each category\n",
    "# you can choose a category to show and display the top 5 countries for that category\n",
    "# you can also choose to show all categories at once\n",
    "\n",
    "# make the plot interactive\n",
    "fig = go.Figure()\n",
    "\n",
    "# define the colors for each country blue, red, yellow, green, purple\n",
    "colors = ['#0000FF', '#FF0000', '#FFFF00', '#00FF00', '#800080']\n",
    "\n",
    "fig.add_trace(go.Pie(\n",
    "    labels=xpl_users_by_country_top10.index,\n",
    "    values=xpl_users_by_country_top10[\"uid\"].values,\n",
    "    name='XPL'\n",
    "\n",
    "))\n",
    "fig.add_trace(go.Pie(\n",
    "    labels=adv_users_by_country_top10.index,\n",
    "    values=adv_users_by_country_top10[\"uid\"].values,\n",
    "    name='ADV'\n",
    "))\n",
    "fig.add_trace(go.Pie(\n",
    "    labels=exp_users_by_country_top10.index,\n",
    "    values=exp_users_by_country_top10[\"uid\"].values,\n",
    "    name='EXP'\n",
    "))\n",
    "fig.add_trace(go.Pie(\n",
    "    labels=cfm_users_by_country_top10.index,\n",
    "    values=cfm_users_by_country_top10[\"uid\"].values,\n",
    "    name='CFM'\n",
    "))\n",
    "fig.add_trace(go.Pie(\n",
    "    labels=overall_users_by_country_top10.index,\n",
    "    values=overall_users_by_country_top10[\"uid\"].values,\n",
    "    name='Overall'\n",
    "))\n",
    "\n",
    "# create a dropdown menu to choose which category to show (default is overall)\n",
    "fig.update_layout(\n",
    "    updatemenus=[\n",
    "        dict(\n",
    "            active=4,\n",
    "            buttons=list([\n",
    "                dict(label=\"XPL\",\n",
    "                        method=\"update\",\n",
    "                        args=[{\"visible\": [True, False, False, False, False]},\n",
    "                            {\"title\": \"Top 4 Countries for XPL\"}]),\n",
    "                dict(label=\"ADV\",\n",
    "                        method=\"update\",\n",
    "                        args=[{\"visible\": [False, True, False, False, False]},\n",
    "                            {\"title\": \"Top 4 Countries for ADV\"}]),\n",
    "                dict(label=\"EXP\",\n",
    "                        method=\"update\",\n",
    "                        args=[{\"visible\": [False, False, True, False, False]},\n",
    "                            {\"title\": \"Top 4 Countries for EXP\"}]),\n",
    "                dict(label=\"CFM\",\n",
    "                        method=\"update\",\n",
    "                        args=[{\"visible\": [False, False, False, True, False]},\n",
    "                            {\"title\": \"Top 4 Countries for CFM\"}]),\n",
    "                dict(label=\"Overall\",\n",
    "                        method=\"update\",\n",
    "                        args=[{\"visible\": [False, False, False, False, True]},\n",
    "                            {\"title\": \"Top 4 Countries for Overall\"}]),\n",
    "            ]), \n",
    "        )\n",
    "    ])\n",
    "\n",
    "fig.update_layout(title_text=\"Top 4 Countries for Each Category\")\n",
    "\n",
    "fig.show()\n"
   ]
  },
  {
   "attachments": {},
   "cell_type": "markdown",
   "metadata": {},
   "source": [
    "There are more canadian for explorer and adventurer because they are probably more likely to rate canadian beers (which are more rare)"
   ]
  },
  {
   "attachments": {},
   "cell_type": "markdown",
   "metadata": {},
   "source": [
    "##  To which country do the ratings for each category go to ?"
   ]
  },
  {
   "cell_type": "code",
   "execution_count": 216,
   "metadata": {},
   "outputs": [
    {
     "data": {
      "text/html": [
       "<div>\n",
       "<style scoped>\n",
       "    .dataframe tbody tr th:only-of-type {\n",
       "        vertical-align: middle;\n",
       "    }\n",
       "\n",
       "    .dataframe tbody tr th {\n",
       "        vertical-align: top;\n",
       "    }\n",
       "\n",
       "    .dataframe thead th {\n",
       "        text-align: right;\n",
       "    }\n",
       "</style>\n",
       "<table border=\"1\" class=\"dataframe\">\n",
       "  <thead>\n",
       "    <tr style=\"text-align: right;\">\n",
       "      <th></th>\n",
       "      <th>beer_id</th>\n",
       "      <th>beer_name</th>\n",
       "      <th>brewery_id</th>\n",
       "      <th>brewery_name</th>\n",
       "      <th>style</th>\n",
       "      <th>nbr_ratings</th>\n",
       "      <th>nbr_reviews</th>\n",
       "      <th>avg</th>\n",
       "      <th>ba_score</th>\n",
       "      <th>bros_score</th>\n",
       "      <th>abv</th>\n",
       "      <th>avg_computed</th>\n",
       "      <th>zscore</th>\n",
       "      <th>nbr_matched_valid_ratings</th>\n",
       "      <th>avg_matched_valid_ratings</th>\n",
       "    </tr>\n",
       "  </thead>\n",
       "  <tbody>\n",
       "    <tr>\n",
       "      <th>0</th>\n",
       "      <td>166064</td>\n",
       "      <td>Nashe Moskovskoe</td>\n",
       "      <td>39912</td>\n",
       "      <td>Abdysh-Ata (Абдыш Ата)</td>\n",
       "      <td>Euro Pale Lager</td>\n",
       "      <td>0</td>\n",
       "      <td>0</td>\n",
       "      <td>NaN</td>\n",
       "      <td>NaN</td>\n",
       "      <td>NaN</td>\n",
       "      <td>4.7</td>\n",
       "      <td>NaN</td>\n",
       "      <td>NaN</td>\n",
       "      <td>0</td>\n",
       "      <td>NaN</td>\n",
       "    </tr>\n",
       "    <tr>\n",
       "      <th>1</th>\n",
       "      <td>166065</td>\n",
       "      <td>Nashe Pivovskoe</td>\n",
       "      <td>39912</td>\n",
       "      <td>Abdysh-Ata (Абдыш Ата)</td>\n",
       "      <td>Euro Pale Lager</td>\n",
       "      <td>0</td>\n",
       "      <td>0</td>\n",
       "      <td>NaN</td>\n",
       "      <td>NaN</td>\n",
       "      <td>NaN</td>\n",
       "      <td>3.8</td>\n",
       "      <td>NaN</td>\n",
       "      <td>NaN</td>\n",
       "      <td>0</td>\n",
       "      <td>NaN</td>\n",
       "    </tr>\n",
       "    <tr>\n",
       "      <th>2</th>\n",
       "      <td>166066</td>\n",
       "      <td>Nashe Shakhterskoe</td>\n",
       "      <td>39912</td>\n",
       "      <td>Abdysh-Ata (Абдыш Ата)</td>\n",
       "      <td>Euro Pale Lager</td>\n",
       "      <td>0</td>\n",
       "      <td>0</td>\n",
       "      <td>NaN</td>\n",
       "      <td>NaN</td>\n",
       "      <td>NaN</td>\n",
       "      <td>4.8</td>\n",
       "      <td>NaN</td>\n",
       "      <td>NaN</td>\n",
       "      <td>0</td>\n",
       "      <td>NaN</td>\n",
       "    </tr>\n",
       "    <tr>\n",
       "      <th>3</th>\n",
       "      <td>166067</td>\n",
       "      <td>Nashe Zhigulevskoe</td>\n",
       "      <td>39912</td>\n",
       "      <td>Abdysh-Ata (Абдыш Ата)</td>\n",
       "      <td>Euro Pale Lager</td>\n",
       "      <td>0</td>\n",
       "      <td>0</td>\n",
       "      <td>NaN</td>\n",
       "      <td>NaN</td>\n",
       "      <td>NaN</td>\n",
       "      <td>4.0</td>\n",
       "      <td>NaN</td>\n",
       "      <td>NaN</td>\n",
       "      <td>0</td>\n",
       "      <td>NaN</td>\n",
       "    </tr>\n",
       "    <tr>\n",
       "      <th>4</th>\n",
       "      <td>166063</td>\n",
       "      <td>Zhivoe</td>\n",
       "      <td>39912</td>\n",
       "      <td>Abdysh-Ata (Абдыш Ата)</td>\n",
       "      <td>Euro Pale Lager</td>\n",
       "      <td>0</td>\n",
       "      <td>0</td>\n",
       "      <td>NaN</td>\n",
       "      <td>NaN</td>\n",
       "      <td>NaN</td>\n",
       "      <td>4.5</td>\n",
       "      <td>NaN</td>\n",
       "      <td>NaN</td>\n",
       "      <td>0</td>\n",
       "      <td>NaN</td>\n",
       "    </tr>\n",
       "  </tbody>\n",
       "</table>\n",
       "</div>"
      ],
      "text/plain": [
       "   beer_id           beer_name  brewery_id            brewery_name  \\\n",
       "0   166064    Nashe Moskovskoe       39912  Abdysh-Ata (Абдыш Ата)   \n",
       "1   166065     Nashe Pivovskoe       39912  Abdysh-Ata (Абдыш Ата)   \n",
       "2   166066  Nashe Shakhterskoe       39912  Abdysh-Ata (Абдыш Ата)   \n",
       "3   166067  Nashe Zhigulevskoe       39912  Abdysh-Ata (Абдыш Ата)   \n",
       "4   166063              Zhivoe       39912  Abdysh-Ata (Абдыш Ата)   \n",
       "\n",
       "             style  nbr_ratings  nbr_reviews  avg  ba_score  bros_score  abv  \\\n",
       "0  Euro Pale Lager            0            0  NaN       NaN         NaN  4.7   \n",
       "1  Euro Pale Lager            0            0  NaN       NaN         NaN  3.8   \n",
       "2  Euro Pale Lager            0            0  NaN       NaN         NaN  4.8   \n",
       "3  Euro Pale Lager            0            0  NaN       NaN         NaN  4.0   \n",
       "4  Euro Pale Lager            0            0  NaN       NaN         NaN  4.5   \n",
       "\n",
       "   avg_computed  zscore  nbr_matched_valid_ratings  avg_matched_valid_ratings  \n",
       "0           NaN     NaN                          0                        NaN  \n",
       "1           NaN     NaN                          0                        NaN  \n",
       "2           NaN     NaN                          0                        NaN  \n",
       "3           NaN     NaN                          0                        NaN  \n",
       "4           NaN     NaN                          0                        NaN  "
      ]
     },
     "execution_count": 216,
     "metadata": {},
     "output_type": "execute_result"
    }
   ],
   "source": [
    "BEERS_PATH = \"Data/BeerAdvocate/beers.csv\"\n",
    "beers_df = pd.read_csv(BEERS_PATH)\n",
    "beers_df.head()"
   ]
  },
  {
   "cell_type": "code",
   "execution_count": 217,
   "metadata": {},
   "outputs": [
    {
     "data": {
      "text/html": [
       "<div>\n",
       "<style scoped>\n",
       "    .dataframe tbody tr th:only-of-type {\n",
       "        vertical-align: middle;\n",
       "    }\n",
       "\n",
       "    .dataframe tbody tr th {\n",
       "        vertical-align: top;\n",
       "    }\n",
       "\n",
       "    .dataframe thead th {\n",
       "        text-align: right;\n",
       "    }\n",
       "</style>\n",
       "<table border=\"1\" class=\"dataframe\">\n",
       "  <thead>\n",
       "    <tr style=\"text-align: right;\">\n",
       "      <th></th>\n",
       "      <th>id</th>\n",
       "      <th>location</th>\n",
       "      <th>name</th>\n",
       "      <th>nbr_beers</th>\n",
       "    </tr>\n",
       "  </thead>\n",
       "  <tbody>\n",
       "    <tr>\n",
       "      <th>0</th>\n",
       "      <td>39912</td>\n",
       "      <td>Kyrgyzstan</td>\n",
       "      <td>Abdysh-Ata (Абдыш Ата)</td>\n",
       "      <td>5</td>\n",
       "    </tr>\n",
       "    <tr>\n",
       "      <th>1</th>\n",
       "      <td>39913</td>\n",
       "      <td>Kyrgyzstan</td>\n",
       "      <td>Arpa (АРПА)</td>\n",
       "      <td>1</td>\n",
       "    </tr>\n",
       "    <tr>\n",
       "      <th>2</th>\n",
       "      <td>39914</td>\n",
       "      <td>Kyrgyzstan</td>\n",
       "      <td>Bear Beer</td>\n",
       "      <td>4</td>\n",
       "    </tr>\n",
       "    <tr>\n",
       "      <th>3</th>\n",
       "      <td>39915</td>\n",
       "      <td>Kyrgyzstan</td>\n",
       "      <td>Blonder Pub</td>\n",
       "      <td>4</td>\n",
       "    </tr>\n",
       "    <tr>\n",
       "      <th>4</th>\n",
       "      <td>39916</td>\n",
       "      <td>Kyrgyzstan</td>\n",
       "      <td>Kellers Bier</td>\n",
       "      <td>2</td>\n",
       "    </tr>\n",
       "  </tbody>\n",
       "</table>\n",
       "</div>"
      ],
      "text/plain": [
       "      id    location                    name  nbr_beers\n",
       "0  39912  Kyrgyzstan  Abdysh-Ata (Абдыш Ата)          5\n",
       "1  39913  Kyrgyzstan             Arpa (АРПА)          1\n",
       "2  39914  Kyrgyzstan               Bear Beer          4\n",
       "3  39915  Kyrgyzstan             Blonder Pub          4\n",
       "4  39916  Kyrgyzstan            Kellers Bier          2"
      ]
     },
     "execution_count": 217,
     "metadata": {},
     "output_type": "execute_result"
    }
   ],
   "source": [
    "# load breweries data\n",
    "BREWERIES_PATH = \"Data/BeerAdvocate/breweries.csv\"\n",
    "breweries_df = pd.read_csv(\"Data/BeerAdvocate/breweries.csv\")\n",
    "breweries_df.head()"
   ]
  },
  {
   "cell_type": "code",
   "execution_count": 218,
   "metadata": {},
   "outputs": [
    {
     "data": {
      "text/html": [
       "<div>\n",
       "<style scoped>\n",
       "    .dataframe tbody tr th:only-of-type {\n",
       "        vertical-align: middle;\n",
       "    }\n",
       "\n",
       "    .dataframe tbody tr th {\n",
       "        vertical-align: top;\n",
       "    }\n",
       "\n",
       "    .dataframe thead th {\n",
       "        text-align: right;\n",
       "    }\n",
       "</style>\n",
       "<table border=\"1\" class=\"dataframe\">\n",
       "  <thead>\n",
       "    <tr style=\"text-align: right;\">\n",
       "      <th></th>\n",
       "      <th>beer_id</th>\n",
       "      <th>beer_name</th>\n",
       "      <th>brewery_id</th>\n",
       "      <th>brewery_name</th>\n",
       "      <th>style</th>\n",
       "      <th>nbr_ratings</th>\n",
       "      <th>nbr_reviews</th>\n",
       "      <th>avg</th>\n",
       "      <th>ba_score</th>\n",
       "      <th>bros_score</th>\n",
       "      <th>abv</th>\n",
       "      <th>avg_computed</th>\n",
       "      <th>zscore</th>\n",
       "      <th>nbr_matched_valid_ratings</th>\n",
       "      <th>avg_matched_valid_ratings</th>\n",
       "      <th>id</th>\n",
       "      <th>location</th>\n",
       "      <th>name</th>\n",
       "      <th>nbr_beers</th>\n",
       "    </tr>\n",
       "  </thead>\n",
       "  <tbody>\n",
       "    <tr>\n",
       "      <th>0</th>\n",
       "      <td>166064</td>\n",
       "      <td>Nashe Moskovskoe</td>\n",
       "      <td>39912</td>\n",
       "      <td>Abdysh-Ata (Абдыш Ата)</td>\n",
       "      <td>Euro Pale Lager</td>\n",
       "      <td>0</td>\n",
       "      <td>0</td>\n",
       "      <td>NaN</td>\n",
       "      <td>NaN</td>\n",
       "      <td>NaN</td>\n",
       "      <td>4.7</td>\n",
       "      <td>NaN</td>\n",
       "      <td>NaN</td>\n",
       "      <td>0</td>\n",
       "      <td>NaN</td>\n",
       "      <td>39912</td>\n",
       "      <td>Kyrgyzstan</td>\n",
       "      <td>Abdysh-Ata (Абдыш Ата)</td>\n",
       "      <td>5</td>\n",
       "    </tr>\n",
       "    <tr>\n",
       "      <th>1</th>\n",
       "      <td>166065</td>\n",
       "      <td>Nashe Pivovskoe</td>\n",
       "      <td>39912</td>\n",
       "      <td>Abdysh-Ata (Абдыш Ата)</td>\n",
       "      <td>Euro Pale Lager</td>\n",
       "      <td>0</td>\n",
       "      <td>0</td>\n",
       "      <td>NaN</td>\n",
       "      <td>NaN</td>\n",
       "      <td>NaN</td>\n",
       "      <td>3.8</td>\n",
       "      <td>NaN</td>\n",
       "      <td>NaN</td>\n",
       "      <td>0</td>\n",
       "      <td>NaN</td>\n",
       "      <td>39912</td>\n",
       "      <td>Kyrgyzstan</td>\n",
       "      <td>Abdysh-Ata (Абдыш Ата)</td>\n",
       "      <td>5</td>\n",
       "    </tr>\n",
       "    <tr>\n",
       "      <th>2</th>\n",
       "      <td>166066</td>\n",
       "      <td>Nashe Shakhterskoe</td>\n",
       "      <td>39912</td>\n",
       "      <td>Abdysh-Ata (Абдыш Ата)</td>\n",
       "      <td>Euro Pale Lager</td>\n",
       "      <td>0</td>\n",
       "      <td>0</td>\n",
       "      <td>NaN</td>\n",
       "      <td>NaN</td>\n",
       "      <td>NaN</td>\n",
       "      <td>4.8</td>\n",
       "      <td>NaN</td>\n",
       "      <td>NaN</td>\n",
       "      <td>0</td>\n",
       "      <td>NaN</td>\n",
       "      <td>39912</td>\n",
       "      <td>Kyrgyzstan</td>\n",
       "      <td>Abdysh-Ata (Абдыш Ата)</td>\n",
       "      <td>5</td>\n",
       "    </tr>\n",
       "    <tr>\n",
       "      <th>3</th>\n",
       "      <td>166067</td>\n",
       "      <td>Nashe Zhigulevskoe</td>\n",
       "      <td>39912</td>\n",
       "      <td>Abdysh-Ata (Абдыш Ата)</td>\n",
       "      <td>Euro Pale Lager</td>\n",
       "      <td>0</td>\n",
       "      <td>0</td>\n",
       "      <td>NaN</td>\n",
       "      <td>NaN</td>\n",
       "      <td>NaN</td>\n",
       "      <td>4.0</td>\n",
       "      <td>NaN</td>\n",
       "      <td>NaN</td>\n",
       "      <td>0</td>\n",
       "      <td>NaN</td>\n",
       "      <td>39912</td>\n",
       "      <td>Kyrgyzstan</td>\n",
       "      <td>Abdysh-Ata (Абдыш Ата)</td>\n",
       "      <td>5</td>\n",
       "    </tr>\n",
       "    <tr>\n",
       "      <th>4</th>\n",
       "      <td>166063</td>\n",
       "      <td>Zhivoe</td>\n",
       "      <td>39912</td>\n",
       "      <td>Abdysh-Ata (Абдыш Ата)</td>\n",
       "      <td>Euro Pale Lager</td>\n",
       "      <td>0</td>\n",
       "      <td>0</td>\n",
       "      <td>NaN</td>\n",
       "      <td>NaN</td>\n",
       "      <td>NaN</td>\n",
       "      <td>4.5</td>\n",
       "      <td>NaN</td>\n",
       "      <td>NaN</td>\n",
       "      <td>0</td>\n",
       "      <td>NaN</td>\n",
       "      <td>39912</td>\n",
       "      <td>Kyrgyzstan</td>\n",
       "      <td>Abdysh-Ata (Абдыш Ата)</td>\n",
       "      <td>5</td>\n",
       "    </tr>\n",
       "  </tbody>\n",
       "</table>\n",
       "</div>"
      ],
      "text/plain": [
       "   beer_id           beer_name  brewery_id            brewery_name  \\\n",
       "0   166064    Nashe Moskovskoe       39912  Abdysh-Ata (Абдыш Ата)   \n",
       "1   166065     Nashe Pivovskoe       39912  Abdysh-Ata (Абдыш Ата)   \n",
       "2   166066  Nashe Shakhterskoe       39912  Abdysh-Ata (Абдыш Ата)   \n",
       "3   166067  Nashe Zhigulevskoe       39912  Abdysh-Ata (Абдыш Ата)   \n",
       "4   166063              Zhivoe       39912  Abdysh-Ata (Абдыш Ата)   \n",
       "\n",
       "             style  nbr_ratings  nbr_reviews  avg  ba_score  bros_score  abv  \\\n",
       "0  Euro Pale Lager            0            0  NaN       NaN         NaN  4.7   \n",
       "1  Euro Pale Lager            0            0  NaN       NaN         NaN  3.8   \n",
       "2  Euro Pale Lager            0            0  NaN       NaN         NaN  4.8   \n",
       "3  Euro Pale Lager            0            0  NaN       NaN         NaN  4.0   \n",
       "4  Euro Pale Lager            0            0  NaN       NaN         NaN  4.5   \n",
       "\n",
       "   avg_computed  zscore  nbr_matched_valid_ratings  avg_matched_valid_ratings  \\\n",
       "0           NaN     NaN                          0                        NaN   \n",
       "1           NaN     NaN                          0                        NaN   \n",
       "2           NaN     NaN                          0                        NaN   \n",
       "3           NaN     NaN                          0                        NaN   \n",
       "4           NaN     NaN                          0                        NaN   \n",
       "\n",
       "      id    location                    name  nbr_beers  \n",
       "0  39912  Kyrgyzstan  Abdysh-Ata (Абдыш Ата)          5  \n",
       "1  39912  Kyrgyzstan  Abdysh-Ata (Абдыш Ата)          5  \n",
       "2  39912  Kyrgyzstan  Abdysh-Ata (Абдыш Ата)          5  \n",
       "3  39912  Kyrgyzstan  Abdysh-Ata (Абдыш Ата)          5  \n",
       "4  39912  Kyrgyzstan  Abdysh-Ata (Абдыш Ата)          5  "
      ]
     },
     "execution_count": 218,
     "metadata": {},
     "output_type": "execute_result"
    }
   ],
   "source": [
    "# merge beers and breweries locations\n",
    "beers_breweries_df = pd.merge(beers_df, breweries_df, left_on=\"brewery_id\", right_on=\"id\", how=\"left\")\n",
    "beers_breweries_df.head()"
   ]
  },
  {
   "cell_type": "code",
   "execution_count": 219,
   "metadata": {},
   "outputs": [
    {
     "data": {
      "text/html": [
       "<div>\n",
       "<style scoped>\n",
       "    .dataframe tbody tr th:only-of-type {\n",
       "        vertical-align: middle;\n",
       "    }\n",
       "\n",
       "    .dataframe tbody tr th {\n",
       "        vertical-align: top;\n",
       "    }\n",
       "\n",
       "    .dataframe thead th {\n",
       "        text-align: right;\n",
       "    }\n",
       "</style>\n",
       "<table border=\"1\" class=\"dataframe\">\n",
       "  <thead>\n",
       "    <tr style=\"text-align: right;\">\n",
       "      <th></th>\n",
       "      <th>beer_id</th>\n",
       "      <th>location</th>\n",
       "      <th>nbr_ratings</th>\n",
       "    </tr>\n",
       "  </thead>\n",
       "  <tbody>\n",
       "    <tr>\n",
       "      <th>0</th>\n",
       "      <td>166064</td>\n",
       "      <td>Kyrgyzstan</td>\n",
       "      <td>0</td>\n",
       "    </tr>\n",
       "    <tr>\n",
       "      <th>1</th>\n",
       "      <td>166065</td>\n",
       "      <td>Kyrgyzstan</td>\n",
       "      <td>0</td>\n",
       "    </tr>\n",
       "    <tr>\n",
       "      <th>2</th>\n",
       "      <td>166066</td>\n",
       "      <td>Kyrgyzstan</td>\n",
       "      <td>0</td>\n",
       "    </tr>\n",
       "    <tr>\n",
       "      <th>3</th>\n",
       "      <td>166067</td>\n",
       "      <td>Kyrgyzstan</td>\n",
       "      <td>0</td>\n",
       "    </tr>\n",
       "    <tr>\n",
       "      <th>4</th>\n",
       "      <td>166063</td>\n",
       "      <td>Kyrgyzstan</td>\n",
       "      <td>0</td>\n",
       "    </tr>\n",
       "  </tbody>\n",
       "</table>\n",
       "</div>"
      ],
      "text/plain": [
       "   beer_id    location  nbr_ratings\n",
       "0   166064  Kyrgyzstan            0\n",
       "1   166065  Kyrgyzstan            0\n",
       "2   166066  Kyrgyzstan            0\n",
       "3   166067  Kyrgyzstan            0\n",
       "4   166063  Kyrgyzstan            0"
      ]
     },
     "execution_count": 219,
     "metadata": {},
     "output_type": "execute_result"
    }
   ],
   "source": [
    "# only keep beer_id and location\n",
    "beers_breweries_df = beers_breweries_df[[\"beer_id\", \"location\", \"nbr_ratings\"]]\n",
    "beers_breweries_df.head()"
   ]
  },
  {
   "cell_type": "code",
   "execution_count": 220,
   "metadata": {},
   "outputs": [
    {
     "data": {
      "text/html": [
       "<div>\n",
       "<style scoped>\n",
       "    .dataframe tbody tr th:only-of-type {\n",
       "        vertical-align: middle;\n",
       "    }\n",
       "\n",
       "    .dataframe tbody tr th {\n",
       "        vertical-align: top;\n",
       "    }\n",
       "\n",
       "    .dataframe thead th {\n",
       "        text-align: right;\n",
       "    }\n",
       "</style>\n",
       "<table border=\"1\" class=\"dataframe\">\n",
       "  <thead>\n",
       "    <tr style=\"text-align: right;\">\n",
       "      <th></th>\n",
       "      <th>nbr_ratings</th>\n",
       "    </tr>\n",
       "    <tr>\n",
       "      <th>location</th>\n",
       "      <th></th>\n",
       "    </tr>\n",
       "  </thead>\n",
       "  <tbody>\n",
       "    <tr>\n",
       "      <th>Albania</th>\n",
       "      <td>83</td>\n",
       "    </tr>\n",
       "    <tr>\n",
       "      <th>Algeria</th>\n",
       "      <td>17</td>\n",
       "    </tr>\n",
       "    <tr>\n",
       "      <th>Andorra</th>\n",
       "      <td>26</td>\n",
       "    </tr>\n",
       "    <tr>\n",
       "      <th>Angola</th>\n",
       "      <td>6</td>\n",
       "    </tr>\n",
       "    <tr>\n",
       "      <th>Antigua &amp; Barbuda</th>\n",
       "      <td>51</td>\n",
       "    </tr>\n",
       "  </tbody>\n",
       "</table>\n",
       "</div>"
      ],
      "text/plain": [
       "                   nbr_ratings\n",
       "location                      \n",
       "Albania                     83\n",
       "Algeria                     17\n",
       "Andorra                     26\n",
       "Angola                       6\n",
       "Antigua & Barbuda           51"
      ]
     },
     "execution_count": 220,
     "metadata": {},
     "output_type": "execute_result"
    }
   ],
   "source": [
    "# group by location and count number of ratings\n",
    "beers_breweries_df = beers_breweries_df.groupby(\"location\").agg({\"nbr_ratings\": \"sum\"})\n",
    "beers_breweries_df.head()"
   ]
  },
  {
   "cell_type": "code",
   "execution_count": 221,
   "metadata": {},
   "outputs": [
    {
     "data": {
      "text/html": [
       "<div>\n",
       "<style scoped>\n",
       "    .dataframe tbody tr th:only-of-type {\n",
       "        vertical-align: middle;\n",
       "    }\n",
       "\n",
       "    .dataframe tbody tr th {\n",
       "        vertical-align: top;\n",
       "    }\n",
       "\n",
       "    .dataframe thead th {\n",
       "        text-align: right;\n",
       "    }\n",
       "</style>\n",
       "<table border=\"1\" class=\"dataframe\">\n",
       "  <thead>\n",
       "    <tr style=\"text-align: right;\">\n",
       "      <th></th>\n",
       "      <th>nbr_ratings</th>\n",
       "    </tr>\n",
       "    <tr>\n",
       "      <th>location</th>\n",
       "      <th></th>\n",
       "    </tr>\n",
       "  </thead>\n",
       "  <tbody>\n",
       "    <tr>\n",
       "      <th>United States, California</th>\n",
       "      <td>1384998</td>\n",
       "    </tr>\n",
       "    <tr>\n",
       "      <th>United States, Colorado</th>\n",
       "      <td>484803</td>\n",
       "    </tr>\n",
       "    <tr>\n",
       "      <th>United States, Michigan</th>\n",
       "      <td>479548</td>\n",
       "    </tr>\n",
       "    <tr>\n",
       "      <th>United States, New York</th>\n",
       "      <td>458950</td>\n",
       "    </tr>\n",
       "    <tr>\n",
       "      <th>United States, Massachusetts</th>\n",
       "      <td>411348</td>\n",
       "    </tr>\n",
       "    <tr>\n",
       "      <th>Belgium</th>\n",
       "      <td>406845</td>\n",
       "    </tr>\n",
       "    <tr>\n",
       "      <th>United States, Pennsylvania</th>\n",
       "      <td>349511</td>\n",
       "    </tr>\n",
       "    <tr>\n",
       "      <th>United States, Oregon</th>\n",
       "      <td>307641</td>\n",
       "    </tr>\n",
       "    <tr>\n",
       "      <th>United States, Illinois</th>\n",
       "      <td>281906</td>\n",
       "    </tr>\n",
       "    <tr>\n",
       "      <th>United States, Wisconsin</th>\n",
       "      <td>218734</td>\n",
       "    </tr>\n",
       "  </tbody>\n",
       "</table>\n",
       "</div>"
      ],
      "text/plain": [
       "                              nbr_ratings\n",
       "location                                 \n",
       "United States, California         1384998\n",
       "United States, Colorado            484803\n",
       "United States, Michigan            479548\n",
       "United States, New York            458950\n",
       "United States, Massachusetts       411348\n",
       "Belgium                            406845\n",
       "United States, Pennsylvania        349511\n",
       "United States, Oregon              307641\n",
       "United States, Illinois            281906\n",
       "United States, Wisconsin           218734"
      ]
     },
     "execution_count": 221,
     "metadata": {},
     "output_type": "execute_result"
    }
   ],
   "source": [
    "# sort by number of ratings\n",
    "beers_breweries_df = beers_breweries_df.sort_values(by=\"nbr_ratings\", ascending=False)\n",
    "beers_breweries_df.head(10)"
   ]
  },
  {
   "cell_type": "code",
   "execution_count": 222,
   "metadata": {},
   "outputs": [],
   "source": [
    "beers_breweries_df = pd.merge(beers_df, breweries_df, left_on=\"brewery_id\", right_on=\"id\", how=\"left\")\n",
    "beers_breweries_df.head()\n",
    "\n",
    "# only keep beer_id and location\n",
    "beers_breweries_df = beers_breweries_df[[\"beer_id\", \"location\"]]\n"
   ]
  },
  {
   "cell_type": "code",
   "execution_count": 223,
   "metadata": {},
   "outputs": [
    {
     "data": {
      "text/html": [
       "<div>\n",
       "<style scoped>\n",
       "    .dataframe tbody tr th:only-of-type {\n",
       "        vertical-align: middle;\n",
       "    }\n",
       "\n",
       "    .dataframe tbody tr th {\n",
       "        vertical-align: top;\n",
       "    }\n",
       "\n",
       "    .dataframe thead th {\n",
       "        text-align: right;\n",
       "    }\n",
       "</style>\n",
       "<table border=\"1\" class=\"dataframe\">\n",
       "  <thead>\n",
       "    <tr style=\"text-align: right;\">\n",
       "      <th></th>\n",
       "      <th>beer_id</th>\n",
       "      <th>location</th>\n",
       "      <th>date</th>\n",
       "      <th>bid</th>\n",
       "      <th>uid</th>\n",
       "      <th>rating</th>\n",
       "      <th>has_review</th>\n",
       "      <th>review</th>\n",
       "      <th>compound</th>\n",
       "    </tr>\n",
       "  </thead>\n",
       "  <tbody>\n",
       "    <tr>\n",
       "      <th>0</th>\n",
       "      <td>166064</td>\n",
       "      <td>Kyrgyzstan</td>\n",
       "      <td>NaT</td>\n",
       "      <td>NaN</td>\n",
       "      <td>NaN</td>\n",
       "      <td>NaN</td>\n",
       "      <td>NaN</td>\n",
       "      <td>NaN</td>\n",
       "      <td>NaN</td>\n",
       "    </tr>\n",
       "    <tr>\n",
       "      <th>1</th>\n",
       "      <td>166065</td>\n",
       "      <td>Kyrgyzstan</td>\n",
       "      <td>NaT</td>\n",
       "      <td>NaN</td>\n",
       "      <td>NaN</td>\n",
       "      <td>NaN</td>\n",
       "      <td>NaN</td>\n",
       "      <td>NaN</td>\n",
       "      <td>NaN</td>\n",
       "    </tr>\n",
       "    <tr>\n",
       "      <th>2</th>\n",
       "      <td>166066</td>\n",
       "      <td>Kyrgyzstan</td>\n",
       "      <td>NaT</td>\n",
       "      <td>NaN</td>\n",
       "      <td>NaN</td>\n",
       "      <td>NaN</td>\n",
       "      <td>NaN</td>\n",
       "      <td>NaN</td>\n",
       "      <td>NaN</td>\n",
       "    </tr>\n",
       "    <tr>\n",
       "      <th>3</th>\n",
       "      <td>166067</td>\n",
       "      <td>Kyrgyzstan</td>\n",
       "      <td>NaT</td>\n",
       "      <td>NaN</td>\n",
       "      <td>NaN</td>\n",
       "      <td>NaN</td>\n",
       "      <td>NaN</td>\n",
       "      <td>NaN</td>\n",
       "      <td>NaN</td>\n",
       "    </tr>\n",
       "    <tr>\n",
       "      <th>4</th>\n",
       "      <td>166063</td>\n",
       "      <td>Kyrgyzstan</td>\n",
       "      <td>NaT</td>\n",
       "      <td>NaN</td>\n",
       "      <td>NaN</td>\n",
       "      <td>NaN</td>\n",
       "      <td>NaN</td>\n",
       "      <td>NaN</td>\n",
       "      <td>NaN</td>\n",
       "    </tr>\n",
       "  </tbody>\n",
       "</table>\n",
       "</div>"
      ],
      "text/plain": [
       "   beer_id    location date  bid  uid  rating has_review review  compound\n",
       "0   166064  Kyrgyzstan  NaT  NaN  NaN     NaN        NaN    NaN       NaN\n",
       "1   166065  Kyrgyzstan  NaT  NaN  NaN     NaN        NaN    NaN       NaN\n",
       "2   166066  Kyrgyzstan  NaT  NaN  NaN     NaN        NaN    NaN       NaN\n",
       "3   166067  Kyrgyzstan  NaT  NaN  NaN     NaN        NaN    NaN       NaN\n",
       "4   166063  Kyrgyzstan  NaT  NaN  NaN     NaN        NaN    NaN       NaN"
      ]
     },
     "execution_count": 223,
     "metadata": {},
     "output_type": "execute_result"
    }
   ],
   "source": [
    "# merge with ratings\n",
    "beers_breweries_ratings_df = pd.merge(beers_breweries_df, ratings_ddf, left_on=\"beer_id\", right_on=\"bid\", how=\"left\")\n",
    "beers_breweries_ratings_df.head()"
   ]
  },
  {
   "cell_type": "code",
   "execution_count": 224,
   "metadata": {},
   "outputs": [],
   "source": [
    "# merge with scores_df\n",
    "beers_breweries_ratings_scores_df = pd.merge(beers_breweries_ratings_df, scores_ddf, left_on=\"uid\", right_on=\"uid\", how=\"left\")"
   ]
  },
  {
   "cell_type": "code",
   "execution_count": 225,
   "metadata": {},
   "outputs": [
    {
     "data": {
      "text/html": [
       "<div>\n",
       "<style scoped>\n",
       "    .dataframe tbody tr th:only-of-type {\n",
       "        vertical-align: middle;\n",
       "    }\n",
       "\n",
       "    .dataframe tbody tr th {\n",
       "        vertical-align: top;\n",
       "    }\n",
       "\n",
       "    .dataframe thead th {\n",
       "        text-align: right;\n",
       "    }\n",
       "</style>\n",
       "<table border=\"1\" class=\"dataframe\">\n",
       "  <thead>\n",
       "    <tr style=\"text-align: right;\">\n",
       "      <th></th>\n",
       "      <th>beer_id</th>\n",
       "      <th>location_x</th>\n",
       "      <th>date</th>\n",
       "      <th>bid</th>\n",
       "      <th>uid</th>\n",
       "      <th>rating</th>\n",
       "      <th>has_review</th>\n",
       "      <th>review</th>\n",
       "      <th>compound</th>\n",
       "      <th>n_ratings</th>\n",
       "      <th>...</th>\n",
       "      <th>location_y</th>\n",
       "      <th>country</th>\n",
       "      <th>cfm_score</th>\n",
       "      <th>exp_score</th>\n",
       "      <th>xpl_score</th>\n",
       "      <th>adv_score</th>\n",
       "      <th>is_cfm</th>\n",
       "      <th>is_exp</th>\n",
       "      <th>is_xpl</th>\n",
       "      <th>is_adv</th>\n",
       "    </tr>\n",
       "  </thead>\n",
       "  <tbody>\n",
       "    <tr>\n",
       "      <th>23</th>\n",
       "      <td>142544</td>\n",
       "      <td>Gabon</td>\n",
       "      <td>2015-08-20 10:00:00</td>\n",
       "      <td>142544.0</td>\n",
       "      <td>nmann08.184925</td>\n",
       "      <td>2.88</td>\n",
       "      <td>True</td>\n",
       "      <td>From a bottle, pours a piss yellow color with ...</td>\n",
       "      <td>0.0</td>\n",
       "      <td>7820.0</td>\n",
       "      <td>...</td>\n",
       "      <td>United States, Washington</td>\n",
       "      <td>United States</td>\n",
       "      <td>-0.875556</td>\n",
       "      <td>-0.423436</td>\n",
       "      <td>0.276726</td>\n",
       "      <td>0.066368</td>\n",
       "      <td>0.0</td>\n",
       "      <td>0.0</td>\n",
       "      <td>1.0</td>\n",
       "      <td>0.0</td>\n",
       "    </tr>\n",
       "    <tr>\n",
       "      <th>24</th>\n",
       "      <td>19590</td>\n",
       "      <td>Northern Ireland</td>\n",
       "      <td>2009-02-20 11:00:00</td>\n",
       "      <td>19590.0</td>\n",
       "      <td>stjamesgate.163714</td>\n",
       "      <td>3.67</td>\n",
       "      <td>True</td>\n",
       "      <td>Pours pale copper with a thin head that quickl...</td>\n",
       "      <td>0.0</td>\n",
       "      <td>2521.0</td>\n",
       "      <td>...</td>\n",
       "      <td>United States, New York</td>\n",
       "      <td>United States</td>\n",
       "      <td>-0.516299</td>\n",
       "      <td>-0.282777</td>\n",
       "      <td>0.473622</td>\n",
       "      <td>0.037287</td>\n",
       "      <td>0.0</td>\n",
       "      <td>0.0</td>\n",
       "      <td>1.0</td>\n",
       "      <td>0.0</td>\n",
       "    </tr>\n",
       "    <tr>\n",
       "      <th>25</th>\n",
       "      <td>19827</td>\n",
       "      <td>Northern Ireland</td>\n",
       "      <td>2014-12-01 11:00:00</td>\n",
       "      <td>19827.0</td>\n",
       "      <td>hellpop65.48993</td>\n",
       "      <td>3.25</td>\n",
       "      <td>False</td>\n",
       "      <td>None</td>\n",
       "      <td>0.0</td>\n",
       "      <td>2326.0</td>\n",
       "      <td>...</td>\n",
       "      <td>United States, Kansas</td>\n",
       "      <td>United States</td>\n",
       "      <td>-1.783445</td>\n",
       "      <td>-0.621249</td>\n",
       "      <td>0.11264</td>\n",
       "      <td>0.11307</td>\n",
       "      <td>0.0</td>\n",
       "      <td>0.0</td>\n",
       "      <td>0.0</td>\n",
       "      <td>0.0</td>\n",
       "    </tr>\n",
       "    <tr>\n",
       "      <th>26</th>\n",
       "      <td>19827</td>\n",
       "      <td>Northern Ireland</td>\n",
       "      <td>2014-05-29 10:00:00</td>\n",
       "      <td>19827.0</td>\n",
       "      <td>latarnik.52897</td>\n",
       "      <td>3.50</td>\n",
       "      <td>False</td>\n",
       "      <td>None</td>\n",
       "      <td>0.0</td>\n",
       "      <td>3098.0</td>\n",
       "      <td>...</td>\n",
       "      <td>United States, New Jersey</td>\n",
       "      <td>United States</td>\n",
       "      <td>-0.451196</td>\n",
       "      <td>-0.362152</td>\n",
       "      <td>0.171724</td>\n",
       "      <td>0.244028</td>\n",
       "      <td>0.0</td>\n",
       "      <td>0.0</td>\n",
       "      <td>0.0</td>\n",
       "      <td>1.0</td>\n",
       "    </tr>\n",
       "    <tr>\n",
       "      <th>27</th>\n",
       "      <td>19827</td>\n",
       "      <td>Northern Ireland</td>\n",
       "      <td>2014-02-26 11:00:00</td>\n",
       "      <td>19827.0</td>\n",
       "      <td>rochefortchris.697017</td>\n",
       "      <td>3.50</td>\n",
       "      <td>False</td>\n",
       "      <td>None</td>\n",
       "      <td>0.0</td>\n",
       "      <td>1866.0</td>\n",
       "      <td>...</td>\n",
       "      <td>United States, North Carolina</td>\n",
       "      <td>United States</td>\n",
       "      <td>-1.375863</td>\n",
       "      <td>-0.414637</td>\n",
       "      <td>0.209539</td>\n",
       "      <td>0.084137</td>\n",
       "      <td>0.0</td>\n",
       "      <td>0.0</td>\n",
       "      <td>1.0</td>\n",
       "      <td>0.0</td>\n",
       "    </tr>\n",
       "  </tbody>\n",
       "</table>\n",
       "<p>5 rows × 23 columns</p>\n",
       "</div>"
      ],
      "text/plain": [
       "    beer_id        location_x                date       bid  \\\n",
       "23   142544             Gabon 2015-08-20 10:00:00  142544.0   \n",
       "24    19590  Northern Ireland 2009-02-20 11:00:00   19590.0   \n",
       "25    19827  Northern Ireland 2014-12-01 11:00:00   19827.0   \n",
       "26    19827  Northern Ireland 2014-05-29 10:00:00   19827.0   \n",
       "27    19827  Northern Ireland 2014-02-26 11:00:00   19827.0   \n",
       "\n",
       "                      uid  rating has_review  \\\n",
       "23         nmann08.184925    2.88       True   \n",
       "24     stjamesgate.163714    3.67       True   \n",
       "25        hellpop65.48993    3.25      False   \n",
       "26         latarnik.52897    3.50      False   \n",
       "27  rochefortchris.697017    3.50      False   \n",
       "\n",
       "                                               review  compound  n_ratings  \\\n",
       "23  From a bottle, pours a piss yellow color with ...       0.0     7820.0   \n",
       "24  Pours pale copper with a thin head that quickl...       0.0     2521.0   \n",
       "25                                               None       0.0     2326.0   \n",
       "26                                               None       0.0     3098.0   \n",
       "27                                               None       0.0     1866.0   \n",
       "\n",
       "    ...                     location_y        country cfm_score exp_score  \\\n",
       "23  ...      United States, Washington  United States -0.875556 -0.423436   \n",
       "24  ...        United States, New York  United States -0.516299 -0.282777   \n",
       "25  ...          United States, Kansas  United States -1.783445 -0.621249   \n",
       "26  ...      United States, New Jersey  United States -0.451196 -0.362152   \n",
       "27  ...  United States, North Carolina  United States -1.375863 -0.414637   \n",
       "\n",
       "   xpl_score  adv_score  is_cfm  is_exp  is_xpl  is_adv  \n",
       "23  0.276726   0.066368     0.0     0.0     1.0     0.0  \n",
       "24  0.473622   0.037287     0.0     0.0     1.0     0.0  \n",
       "25   0.11264    0.11307     0.0     0.0     0.0     0.0  \n",
       "26  0.171724   0.244028     0.0     0.0     0.0     1.0  \n",
       "27  0.209539   0.084137     0.0     0.0     1.0     0.0  \n",
       "\n",
       "[5 rows x 23 columns]"
      ]
     },
     "execution_count": 225,
     "metadata": {},
     "output_type": "execute_result"
    }
   ],
   "source": [
    "# filter out nan ratings\n",
    "beers_breweries_ratings_scores_df = beers_breweries_ratings_scores_df[beers_breweries_ratings_scores_df[\"rating\"].notna()]\n",
    "beers_breweries_ratings_scores_df.head()"
   ]
  },
  {
   "cell_type": "code",
   "execution_count": 226,
   "metadata": {},
   "outputs": [
    {
     "data": {
      "text/html": [
       "<div>\n",
       "<style scoped>\n",
       "    .dataframe tbody tr th:only-of-type {\n",
       "        vertical-align: middle;\n",
       "    }\n",
       "\n",
       "    .dataframe tbody tr th {\n",
       "        vertical-align: top;\n",
       "    }\n",
       "\n",
       "    .dataframe thead th {\n",
       "        text-align: right;\n",
       "    }\n",
       "</style>\n",
       "<table border=\"1\" class=\"dataframe\">\n",
       "  <thead>\n",
       "    <tr style=\"text-align: right;\">\n",
       "      <th></th>\n",
       "      <th>rating</th>\n",
       "    </tr>\n",
       "    <tr>\n",
       "      <th>location_x</th>\n",
       "      <th></th>\n",
       "    </tr>\n",
       "  </thead>\n",
       "  <tbody>\n",
       "    <tr>\n",
       "      <th>United States, California</th>\n",
       "      <td>1281068</td>\n",
       "    </tr>\n",
       "    <tr>\n",
       "      <th>United States, Colorado</th>\n",
       "      <td>450813</td>\n",
       "    </tr>\n",
       "    <tr>\n",
       "      <th>United States, Michigan</th>\n",
       "      <td>446570</td>\n",
       "    </tr>\n",
       "    <tr>\n",
       "      <th>United States, New York</th>\n",
       "      <td>429100</td>\n",
       "    </tr>\n",
       "    <tr>\n",
       "      <th>United States, Massachusetts</th>\n",
       "      <td>385638</td>\n",
       "    </tr>\n",
       "    <tr>\n",
       "      <th>Belgium</th>\n",
       "      <td>338880</td>\n",
       "    </tr>\n",
       "    <tr>\n",
       "      <th>United States, Pennsylvania</th>\n",
       "      <td>327811</td>\n",
       "    </tr>\n",
       "    <tr>\n",
       "      <th>United States, Oregon</th>\n",
       "      <td>283117</td>\n",
       "    </tr>\n",
       "    <tr>\n",
       "      <th>United States, Illinois</th>\n",
       "      <td>264166</td>\n",
       "    </tr>\n",
       "    <tr>\n",
       "      <th>United States, Wisconsin</th>\n",
       "      <td>203413</td>\n",
       "    </tr>\n",
       "  </tbody>\n",
       "</table>\n",
       "</div>"
      ],
      "text/plain": [
       "                               rating\n",
       "location_x                           \n",
       "United States, California     1281068\n",
       "United States, Colorado        450813\n",
       "United States, Michigan        446570\n",
       "United States, New York        429100\n",
       "United States, Massachusetts   385638\n",
       "Belgium                        338880\n",
       "United States, Pennsylvania    327811\n",
       "United States, Oregon          283117\n",
       "United States, Illinois        264166\n",
       "United States, Wisconsin       203413"
      ]
     },
     "execution_count": 226,
     "metadata": {},
     "output_type": "execute_result"
    }
   ],
   "source": [
    "# group by location and count number of ratings per location\n",
    "location_count = beers_breweries_ratings_scores_df.groupby(\"location_x\").agg({\"rating\": \"count\"})\n",
    "\n",
    "# sort by number of ratings\n",
    "location_count = location_count.sort_values(by=\"rating\", ascending=False)\n",
    "location_count.head(10)"
   ]
  },
  {
   "cell_type": "code",
   "execution_count": 227,
   "metadata": {},
   "outputs": [
    {
     "data": {
      "text/plain": [
       "Index(['Haiti', 'Canada, Alberta',\n",
       "       'United States</a> | <a href=\"http://maps.google.com/maps?oi=map&q=%2C+US\" target=\"_blank\">map</a><br><a href=\"http://theram.com\" target=\"_blank\">theram.com',\n",
       "       'Uruguay', 'Montenegro', 'Egypt', 'Tanzania',\n",
       "       'Canada, British Columbia', 'Albania', 'Nepal',\n",
       "       ...\n",
       "       'United Kingdom, Scotland', 'Paraguay',\n",
       "       'Canada, Newfoundland and Labrador', 'Malawi', 'Libya', 'Botswana',\n",
       "       'Guadeloupe', 'Gabon', 'Equatorial Guinea', 'Niger'],\n",
       "      dtype='object', name='location_x', length=110)"
      ]
     },
     "execution_count": 227,
     "metadata": {},
     "output_type": "execute_result"
    }
   ],
   "source": [
    "# get list of locations with less than 100 ratings\n",
    "locations_to_remove = location_count[location_count[\"rating\"] < 100].index\n",
    "locations_to_remove"
   ]
  },
  {
   "cell_type": "code",
   "execution_count": 228,
   "metadata": {},
   "outputs": [
    {
     "data": {
      "text/html": [
       "<div>\n",
       "<style scoped>\n",
       "    .dataframe tbody tr th:only-of-type {\n",
       "        vertical-align: middle;\n",
       "    }\n",
       "\n",
       "    .dataframe tbody tr th {\n",
       "        vertical-align: top;\n",
       "    }\n",
       "\n",
       "    .dataframe thead th {\n",
       "        text-align: right;\n",
       "    }\n",
       "</style>\n",
       "<table border=\"1\" class=\"dataframe\">\n",
       "  <thead>\n",
       "    <tr style=\"text-align: right;\">\n",
       "      <th></th>\n",
       "      <th>beer_id</th>\n",
       "      <th>uid</th>\n",
       "      <th>beer_location</th>\n",
       "      <th>rating</th>\n",
       "      <th>is_cfm</th>\n",
       "      <th>is_exp</th>\n",
       "      <th>is_xpl</th>\n",
       "      <th>is_adv</th>\n",
       "    </tr>\n",
       "  </thead>\n",
       "  <tbody>\n",
       "    <tr>\n",
       "      <th>23</th>\n",
       "      <td>142544</td>\n",
       "      <td>nmann08.184925</td>\n",
       "      <td>Gabon</td>\n",
       "      <td>2.88</td>\n",
       "      <td>0.0</td>\n",
       "      <td>0.0</td>\n",
       "      <td>1.0</td>\n",
       "      <td>0.0</td>\n",
       "    </tr>\n",
       "    <tr>\n",
       "      <th>24</th>\n",
       "      <td>19590</td>\n",
       "      <td>stjamesgate.163714</td>\n",
       "      <td>Northern Ireland</td>\n",
       "      <td>3.67</td>\n",
       "      <td>0.0</td>\n",
       "      <td>0.0</td>\n",
       "      <td>1.0</td>\n",
       "      <td>0.0</td>\n",
       "    </tr>\n",
       "    <tr>\n",
       "      <th>25</th>\n",
       "      <td>19827</td>\n",
       "      <td>hellpop65.48993</td>\n",
       "      <td>Northern Ireland</td>\n",
       "      <td>3.25</td>\n",
       "      <td>0.0</td>\n",
       "      <td>0.0</td>\n",
       "      <td>0.0</td>\n",
       "      <td>0.0</td>\n",
       "    </tr>\n",
       "    <tr>\n",
       "      <th>26</th>\n",
       "      <td>19827</td>\n",
       "      <td>latarnik.52897</td>\n",
       "      <td>Northern Ireland</td>\n",
       "      <td>3.50</td>\n",
       "      <td>0.0</td>\n",
       "      <td>0.0</td>\n",
       "      <td>0.0</td>\n",
       "      <td>1.0</td>\n",
       "    </tr>\n",
       "    <tr>\n",
       "      <th>27</th>\n",
       "      <td>19827</td>\n",
       "      <td>rochefortchris.697017</td>\n",
       "      <td>Northern Ireland</td>\n",
       "      <td>3.50</td>\n",
       "      <td>0.0</td>\n",
       "      <td>0.0</td>\n",
       "      <td>1.0</td>\n",
       "      <td>0.0</td>\n",
       "    </tr>\n",
       "  </tbody>\n",
       "</table>\n",
       "</div>"
      ],
      "text/plain": [
       "    beer_id                    uid     beer_location  rating  is_cfm  is_exp  \\\n",
       "23   142544         nmann08.184925             Gabon    2.88     0.0     0.0   \n",
       "24    19590     stjamesgate.163714  Northern Ireland    3.67     0.0     0.0   \n",
       "25    19827        hellpop65.48993  Northern Ireland    3.25     0.0     0.0   \n",
       "26    19827         latarnik.52897  Northern Ireland    3.50     0.0     0.0   \n",
       "27    19827  rochefortchris.697017  Northern Ireland    3.50     0.0     0.0   \n",
       "\n",
       "    is_xpl  is_adv  \n",
       "23     1.0     0.0  \n",
       "24     1.0     0.0  \n",
       "25     0.0     0.0  \n",
       "26     0.0     1.0  \n",
       "27     1.0     0.0  "
      ]
     },
     "execution_count": 228,
     "metadata": {},
     "output_type": "execute_result"
    }
   ],
   "source": [
    "# only keep beer_id, location, rating, and score\n",
    "beers_breweries_ratings_scores_df = beers_breweries_ratings_scores_df[[\"beer_id\", \"uid\", \"location_x\", \"rating\", \"is_cfm\", \"is_exp\", \"is_xpl\", \"is_adv\"]]\n",
    "\n",
    "# rename location_x to beer_location\n",
    "beers_breweries_ratings_scores_df = beers_breweries_ratings_scores_df.rename(columns={\"location_x\": \"beer_location\"})\n",
    "beers_breweries_ratings_scores_df.head()"
   ]
  },
  {
   "cell_type": "code",
   "execution_count": 229,
   "metadata": {},
   "outputs": [],
   "source": [
    "cfm_ratings_by_location = beers_breweries_ratings_scores_df[beers_breweries_ratings_scores_df[\"is_cfm\"] == True]\n",
    "exp_ratings_by_location = beers_breweries_ratings_scores_df[beers_breweries_ratings_scores_df[\"is_exp\"] == True]\n",
    "xpl_ratings_by_location = beers_breweries_ratings_scores_df[beers_breweries_ratings_scores_df[\"is_xpl\"] == True]\n",
    "adv_ratings_by_location = beers_breweries_ratings_scores_df[beers_breweries_ratings_scores_df[\"is_adv\"] == True]\n",
    "overall_ratings_by_location = beers_breweries_ratings_scores_df\n",
    "\n",
    "# group by location and count number of ratings per location\n",
    "cfm_ratings_by_location = cfm_ratings_by_location.groupby(\"beer_location\").agg({\"rating\": \"count\"})\n",
    "exp_ratings_by_location = exp_ratings_by_location.groupby(\"beer_location\").agg({\"rating\": \"count\"})\n",
    "xpl_ratings_by_location = xpl_ratings_by_location.groupby(\"beer_location\").agg({\"rating\": \"count\"})\n",
    "adv_ratings_by_location = adv_ratings_by_location.groupby(\"beer_location\").agg({\"rating\": \"count\"})\n",
    "overall_ratings_by_location = overall_ratings_by_location.groupby(\"beer_location\").agg({\"rating\": \"count\"})"
   ]
  },
  {
   "cell_type": "code",
   "execution_count": 230,
   "metadata": {},
   "outputs": [],
   "source": [
    "# locations with less than 10 ratings per category\n",
    "cfm_locations_to_remove = cfm_ratings_by_location[cfm_ratings_by_location[\"rating\"] < 10].index\n",
    "exp_locations_to_remove = exp_ratings_by_location[exp_ratings_by_location[\"rating\"] < 10].index\n",
    "xpl_locations_to_remove = xpl_ratings_by_location[xpl_ratings_by_location[\"rating\"] < 10].index\n",
    "adv_locations_to_remove = adv_ratings_by_location[adv_ratings_by_location[\"rating\"] < 10].index\n",
    "overall_locations_to_remove = overall_ratings_by_location[overall_ratings_by_location[\"rating\"] < 10].index"
   ]
  },
  {
   "cell_type": "code",
   "execution_count": 231,
   "metadata": {},
   "outputs": [],
   "source": [
    "# normalize by total number of ratings for each category\n",
    "cfm_ratings_by_location[\"norm_rating\"] = cfm_ratings_by_location[\"rating\"] / cfm_ratings_by_location[\"rating\"].sum()\n",
    "exp_ratings_by_location[\"norm_rating\"] = exp_ratings_by_location[\"rating\"] / exp_ratings_by_location[\"rating\"].sum()\n",
    "xpl_ratings_by_location[\"norm_rating\"] = xpl_ratings_by_location[\"rating\"] / xpl_ratings_by_location[\"rating\"].sum()\n",
    "adv_ratings_by_location[\"norm_rating\"] = adv_ratings_by_location[\"rating\"] / adv_ratings_by_location[\"rating\"].sum()\n",
    "overall_ratings_by_location[\"norm_rating\"] = overall_ratings_by_location[\"rating\"] / overall_ratings_by_location[\"rating\"].sum()\n",
    "\n",
    "# sort by number of ratings\n",
    "cfm_ratings_by_location = cfm_ratings_by_location.sort_values(by=\"rating\", ascending=False)\n",
    "exp_ratings_by_location = exp_ratings_by_location.sort_values(by=\"rating\", ascending=False)\n",
    "xpl_ratings_by_location = xpl_ratings_by_location.sort_values(by=\"rating\", ascending=False)\n",
    "adv_ratings_by_location = adv_ratings_by_location.sort_values(by=\"rating\", ascending=False)\n",
    "overall_ratings_by_location = overall_ratings_by_location.sort_values(by=\"rating\", ascending=False)\n",
    "\n",
    "# get top 10 locations\n",
    "cfm_ratings_by_location_top_10 = cfm_ratings_by_location.head(10)\n",
    "exp_ratings_by_location_top_10  = exp_ratings_by_location.head(10)\n",
    "xpl_ratings_by_location_top_10  = xpl_ratings_by_location.head(10)\n",
    "adv_ratings_by_location_top_10  = adv_ratings_by_location.head(10)\n",
    "overall_ratings_by_location_top_10  = overall_ratings_by_location.head(10)"
   ]
  },
  {
   "cell_type": "code",
   "execution_count": 232,
   "metadata": {},
   "outputs": [
    {
     "data": {
      "text/plain": [
       "{'Belgium',\n",
       " 'Canada',\n",
       " 'England',\n",
       " 'Germany',\n",
       " 'United States, California',\n",
       " 'United States, Colorado',\n",
       " 'United States, Illinois',\n",
       " 'United States, Massachusetts',\n",
       " 'United States, Michigan',\n",
       " 'United States, Missouri',\n",
       " 'United States, New York',\n",
       " 'United States, Oregon',\n",
       " 'United States, Pennsylvania',\n",
       " 'United States, Vermont',\n",
       " 'United States, Wisconsin'}"
      ]
     },
     "execution_count": 232,
     "metadata": {},
     "output_type": "execute_result"
    }
   ],
   "source": [
    "# get list of locations that are in any top 10\n",
    "top_10_locations = set(cfm_ratings_by_location_top_10.index).union(set(exp_ratings_by_location_top_10.index)).union(set(xpl_ratings_by_location_top_10.index)).union(set(adv_ratings_by_location_top_10.index)).union(set(overall_ratings_by_location_top_10.index))\n",
    "top_10_locations"
   ]
  },
  {
   "cell_type": "code",
   "execution_count": 233,
   "metadata": {},
   "outputs": [],
   "source": [
    "# filter out location that are not in no top 10 for each category\n",
    "cfm_ratings_by_location = cfm_ratings_by_location[cfm_ratings_by_location.index.isin(top_10_locations)]\n",
    "exp_ratings_by_location = exp_ratings_by_location[exp_ratings_by_location.index.isin(top_10_locations)]\n",
    "xpl_ratings_by_location = xpl_ratings_by_location[xpl_ratings_by_location.index.isin(top_10_locations)]\n",
    "adv_ratings_by_location = adv_ratings_by_location[adv_ratings_by_location.index.isin(top_10_locations)]\n",
    "overall_ratings_by_location = overall_ratings_by_location[overall_ratings_by_location.index.isin(top_10_locations)]"
   ]
  },
  {
   "cell_type": "code",
   "execution_count": 234,
   "metadata": {},
   "outputs": [
    {
     "data": {
      "application/vnd.plotly.v1+json": {
       "config": {
        "plotlyServerURL": "https://plot.ly"
       },
       "data": [
        {
         "name": "CFM",
         "orientation": "v",
         "type": "bar",
         "x": [
          "United States, California",
          "United States, New York",
          "United States, Michigan",
          "United States, Colorado",
          "United States, Massachusetts",
          "United States, Pennsylvania",
          "Belgium",
          "United States, Illinois",
          "United States, Oregon",
          "Canada",
          "United States, Wisconsin",
          "United States, Vermont",
          "United States, Missouri",
          "Germany",
          "England"
         ],
         "y": [
          0.16495626436808739,
          0.06249655795305599,
          0.06076727356838384,
          0.05914105390363528,
          0.04971495917535636,
          0.04478122743000647,
          0.04021884337781638,
          0.037635931351028995,
          0.032658928158382936,
          0.02958114812524488,
          0.024808700865271597,
          0.02461751974358127,
          0.024527829834640132,
          0.018774300851424734,
          0.01211993901086192
         ]
        },
        {
         "name": "EXP",
         "orientation": "v",
         "type": "bar",
         "x": [
          "United States, California",
          "Canada",
          "United States, Michigan",
          "United States, Massachusetts",
          "United States, Vermont",
          "United States, New York",
          "Belgium",
          "United States, Illinois",
          "United States, Colorado",
          "United States, Pennsylvania",
          "United States, Missouri",
          "United States, Oregon",
          "United States, Wisconsin",
          "Germany",
          "England"
         ],
         "y": [
          0.17270567911898077,
          0.07428201252429281,
          0.07056791189807816,
          0.06646512632260851,
          0.0508313539192399,
          0.045173828546750165,
          0.04487151803066292,
          0.03886849492550205,
          0.036709134096307494,
          0.030101489958972143,
          0.024962211185489094,
          0.024919023968905205,
          0.013776722090261283,
          0.012610667242496222,
          0.012006046210321746
         ]
        },
        {
         "name": "XPL",
         "orientation": "v",
         "type": "bar",
         "x": [
          "United States, California",
          "Canada",
          "United States, Colorado",
          "United States, New York",
          "United States, Oregon",
          "Belgium",
          "United States, Michigan",
          "United States, Pennsylvania",
          "United States, Massachusetts",
          "United States, Illinois",
          "England",
          "Germany",
          "United States, Wisconsin",
          "United States, Vermont",
          "United States, Missouri"
         ],
         "y": [
          0.14865519525299548,
          0.06262789416603962,
          0.055133466512259754,
          0.049767767023450996,
          0.04649225326765703,
          0.046006025664516,
          0.04251348836878348,
          0.039638815905335044,
          0.03627969472022049,
          0.02794800685225144,
          0.025242921089410734,
          0.02313731838361342,
          0.02052769925992601,
          0.020307710917529274,
          0.018879862053671224
         ]
        },
        {
         "name": "ADV",
         "orientation": "v",
         "type": "bar",
         "x": [
          "United States, California",
          "Canada",
          "United States, Colorado",
          "United States, Missouri",
          "United States, Wisconsin",
          "United States, Massachusetts",
          "Germany",
          "Belgium",
          "United States, New York",
          "England",
          "United States, Michigan",
          "United States, Pennsylvania",
          "United States, Oregon",
          "United States, Illinois",
          "United States, Vermont"
         ],
         "y": [
          0.090459073579231,
          0.07348140114712493,
          0.06576961348822129,
          0.0628403081360897,
          0.05505025659373218,
          0.050879909661117384,
          0.04546572600932458,
          0.04129258393801501,
          0.04044845205219083,
          0.036814771748974184,
          0.03292673382453237,
          0.03078006730693977,
          0.02436801914110978,
          0.017134200199013874,
          0.011636162386377612
         ]
        },
        {
         "name": "Overall",
         "orientation": "v",
         "type": "bar",
         "x": [
          "United States, California",
          "United States, Colorado",
          "United States, Michigan",
          "United States, New York",
          "United States, Massachusetts",
          "Belgium",
          "United States, Pennsylvania",
          "United States, Oregon",
          "United States, Illinois",
          "United States, Wisconsin",
          "Canada",
          "United States, Vermont",
          "United States, Missouri",
          "Germany",
          "England"
         ],
         "y": [
          0.16735280723678211,
          0.05889212835605562,
          0.05833784243126031,
          0.05605564231196408,
          0.050377967350037765,
          0.04426971816984011,
          0.04282371512917096,
          0.03698509737691991,
          0.034509426257241446,
          0.026572934909353415,
          0.02612237347767324,
          0.025332943865715187,
          0.024380611932706058,
          0.02051040811277073,
          0.015843328464117203
         ]
        }
       ],
       "layout": {
        "barmode": "group",
        "template": {
         "data": {
          "bar": [
           {
            "error_x": {
             "color": "#2a3f5f"
            },
            "error_y": {
             "color": "#2a3f5f"
            },
            "marker": {
             "line": {
              "color": "#E5ECF6",
              "width": 0.5
             },
             "pattern": {
              "fillmode": "overlay",
              "size": 10,
              "solidity": 0.2
             }
            },
            "type": "bar"
           }
          ],
          "barpolar": [
           {
            "marker": {
             "line": {
              "color": "#E5ECF6",
              "width": 0.5
             },
             "pattern": {
              "fillmode": "overlay",
              "size": 10,
              "solidity": 0.2
             }
            },
            "type": "barpolar"
           }
          ],
          "carpet": [
           {
            "aaxis": {
             "endlinecolor": "#2a3f5f",
             "gridcolor": "white",
             "linecolor": "white",
             "minorgridcolor": "white",
             "startlinecolor": "#2a3f5f"
            },
            "baxis": {
             "endlinecolor": "#2a3f5f",
             "gridcolor": "white",
             "linecolor": "white",
             "minorgridcolor": "white",
             "startlinecolor": "#2a3f5f"
            },
            "type": "carpet"
           }
          ],
          "choropleth": [
           {
            "colorbar": {
             "outlinewidth": 0,
             "ticks": ""
            },
            "type": "choropleth"
           }
          ],
          "contour": [
           {
            "colorbar": {
             "outlinewidth": 0,
             "ticks": ""
            },
            "colorscale": [
             [
              0,
              "#0d0887"
             ],
             [
              0.1111111111111111,
              "#46039f"
             ],
             [
              0.2222222222222222,
              "#7201a8"
             ],
             [
              0.3333333333333333,
              "#9c179e"
             ],
             [
              0.4444444444444444,
              "#bd3786"
             ],
             [
              0.5555555555555556,
              "#d8576b"
             ],
             [
              0.6666666666666666,
              "#ed7953"
             ],
             [
              0.7777777777777778,
              "#fb9f3a"
             ],
             [
              0.8888888888888888,
              "#fdca26"
             ],
             [
              1,
              "#f0f921"
             ]
            ],
            "type": "contour"
           }
          ],
          "contourcarpet": [
           {
            "colorbar": {
             "outlinewidth": 0,
             "ticks": ""
            },
            "type": "contourcarpet"
           }
          ],
          "heatmap": [
           {
            "colorbar": {
             "outlinewidth": 0,
             "ticks": ""
            },
            "colorscale": [
             [
              0,
              "#0d0887"
             ],
             [
              0.1111111111111111,
              "#46039f"
             ],
             [
              0.2222222222222222,
              "#7201a8"
             ],
             [
              0.3333333333333333,
              "#9c179e"
             ],
             [
              0.4444444444444444,
              "#bd3786"
             ],
             [
              0.5555555555555556,
              "#d8576b"
             ],
             [
              0.6666666666666666,
              "#ed7953"
             ],
             [
              0.7777777777777778,
              "#fb9f3a"
             ],
             [
              0.8888888888888888,
              "#fdca26"
             ],
             [
              1,
              "#f0f921"
             ]
            ],
            "type": "heatmap"
           }
          ],
          "heatmapgl": [
           {
            "colorbar": {
             "outlinewidth": 0,
             "ticks": ""
            },
            "colorscale": [
             [
              0,
              "#0d0887"
             ],
             [
              0.1111111111111111,
              "#46039f"
             ],
             [
              0.2222222222222222,
              "#7201a8"
             ],
             [
              0.3333333333333333,
              "#9c179e"
             ],
             [
              0.4444444444444444,
              "#bd3786"
             ],
             [
              0.5555555555555556,
              "#d8576b"
             ],
             [
              0.6666666666666666,
              "#ed7953"
             ],
             [
              0.7777777777777778,
              "#fb9f3a"
             ],
             [
              0.8888888888888888,
              "#fdca26"
             ],
             [
              1,
              "#f0f921"
             ]
            ],
            "type": "heatmapgl"
           }
          ],
          "histogram": [
           {
            "marker": {
             "pattern": {
              "fillmode": "overlay",
              "size": 10,
              "solidity": 0.2
             }
            },
            "type": "histogram"
           }
          ],
          "histogram2d": [
           {
            "colorbar": {
             "outlinewidth": 0,
             "ticks": ""
            },
            "colorscale": [
             [
              0,
              "#0d0887"
             ],
             [
              0.1111111111111111,
              "#46039f"
             ],
             [
              0.2222222222222222,
              "#7201a8"
             ],
             [
              0.3333333333333333,
              "#9c179e"
             ],
             [
              0.4444444444444444,
              "#bd3786"
             ],
             [
              0.5555555555555556,
              "#d8576b"
             ],
             [
              0.6666666666666666,
              "#ed7953"
             ],
             [
              0.7777777777777778,
              "#fb9f3a"
             ],
             [
              0.8888888888888888,
              "#fdca26"
             ],
             [
              1,
              "#f0f921"
             ]
            ],
            "type": "histogram2d"
           }
          ],
          "histogram2dcontour": [
           {
            "colorbar": {
             "outlinewidth": 0,
             "ticks": ""
            },
            "colorscale": [
             [
              0,
              "#0d0887"
             ],
             [
              0.1111111111111111,
              "#46039f"
             ],
             [
              0.2222222222222222,
              "#7201a8"
             ],
             [
              0.3333333333333333,
              "#9c179e"
             ],
             [
              0.4444444444444444,
              "#bd3786"
             ],
             [
              0.5555555555555556,
              "#d8576b"
             ],
             [
              0.6666666666666666,
              "#ed7953"
             ],
             [
              0.7777777777777778,
              "#fb9f3a"
             ],
             [
              0.8888888888888888,
              "#fdca26"
             ],
             [
              1,
              "#f0f921"
             ]
            ],
            "type": "histogram2dcontour"
           }
          ],
          "mesh3d": [
           {
            "colorbar": {
             "outlinewidth": 0,
             "ticks": ""
            },
            "type": "mesh3d"
           }
          ],
          "parcoords": [
           {
            "line": {
             "colorbar": {
              "outlinewidth": 0,
              "ticks": ""
             }
            },
            "type": "parcoords"
           }
          ],
          "pie": [
           {
            "automargin": true,
            "type": "pie"
           }
          ],
          "scatter": [
           {
            "fillpattern": {
             "fillmode": "overlay",
             "size": 10,
             "solidity": 0.2
            },
            "type": "scatter"
           }
          ],
          "scatter3d": [
           {
            "line": {
             "colorbar": {
              "outlinewidth": 0,
              "ticks": ""
             }
            },
            "marker": {
             "colorbar": {
              "outlinewidth": 0,
              "ticks": ""
             }
            },
            "type": "scatter3d"
           }
          ],
          "scattercarpet": [
           {
            "marker": {
             "colorbar": {
              "outlinewidth": 0,
              "ticks": ""
             }
            },
            "type": "scattercarpet"
           }
          ],
          "scattergeo": [
           {
            "marker": {
             "colorbar": {
              "outlinewidth": 0,
              "ticks": ""
             }
            },
            "type": "scattergeo"
           }
          ],
          "scattergl": [
           {
            "marker": {
             "colorbar": {
              "outlinewidth": 0,
              "ticks": ""
             }
            },
            "type": "scattergl"
           }
          ],
          "scattermapbox": [
           {
            "marker": {
             "colorbar": {
              "outlinewidth": 0,
              "ticks": ""
             }
            },
            "type": "scattermapbox"
           }
          ],
          "scatterpolar": [
           {
            "marker": {
             "colorbar": {
              "outlinewidth": 0,
              "ticks": ""
             }
            },
            "type": "scatterpolar"
           }
          ],
          "scatterpolargl": [
           {
            "marker": {
             "colorbar": {
              "outlinewidth": 0,
              "ticks": ""
             }
            },
            "type": "scatterpolargl"
           }
          ],
          "scatterternary": [
           {
            "marker": {
             "colorbar": {
              "outlinewidth": 0,
              "ticks": ""
             }
            },
            "type": "scatterternary"
           }
          ],
          "surface": [
           {
            "colorbar": {
             "outlinewidth": 0,
             "ticks": ""
            },
            "colorscale": [
             [
              0,
              "#0d0887"
             ],
             [
              0.1111111111111111,
              "#46039f"
             ],
             [
              0.2222222222222222,
              "#7201a8"
             ],
             [
              0.3333333333333333,
              "#9c179e"
             ],
             [
              0.4444444444444444,
              "#bd3786"
             ],
             [
              0.5555555555555556,
              "#d8576b"
             ],
             [
              0.6666666666666666,
              "#ed7953"
             ],
             [
              0.7777777777777778,
              "#fb9f3a"
             ],
             [
              0.8888888888888888,
              "#fdca26"
             ],
             [
              1,
              "#f0f921"
             ]
            ],
            "type": "surface"
           }
          ],
          "table": [
           {
            "cells": {
             "fill": {
              "color": "#EBF0F8"
             },
             "line": {
              "color": "white"
             }
            },
            "header": {
             "fill": {
              "color": "#C8D4E3"
             },
             "line": {
              "color": "white"
             }
            },
            "type": "table"
           }
          ]
         },
         "layout": {
          "annotationdefaults": {
           "arrowcolor": "#2a3f5f",
           "arrowhead": 0,
           "arrowwidth": 1
          },
          "autotypenumbers": "strict",
          "coloraxis": {
           "colorbar": {
            "outlinewidth": 0,
            "ticks": ""
           }
          },
          "colorscale": {
           "diverging": [
            [
             0,
             "#8e0152"
            ],
            [
             0.1,
             "#c51b7d"
            ],
            [
             0.2,
             "#de77ae"
            ],
            [
             0.3,
             "#f1b6da"
            ],
            [
             0.4,
             "#fde0ef"
            ],
            [
             0.5,
             "#f7f7f7"
            ],
            [
             0.6,
             "#e6f5d0"
            ],
            [
             0.7,
             "#b8e186"
            ],
            [
             0.8,
             "#7fbc41"
            ],
            [
             0.9,
             "#4d9221"
            ],
            [
             1,
             "#276419"
            ]
           ],
           "sequential": [
            [
             0,
             "#0d0887"
            ],
            [
             0.1111111111111111,
             "#46039f"
            ],
            [
             0.2222222222222222,
             "#7201a8"
            ],
            [
             0.3333333333333333,
             "#9c179e"
            ],
            [
             0.4444444444444444,
             "#bd3786"
            ],
            [
             0.5555555555555556,
             "#d8576b"
            ],
            [
             0.6666666666666666,
             "#ed7953"
            ],
            [
             0.7777777777777778,
             "#fb9f3a"
            ],
            [
             0.8888888888888888,
             "#fdca26"
            ],
            [
             1,
             "#f0f921"
            ]
           ],
           "sequentialminus": [
            [
             0,
             "#0d0887"
            ],
            [
             0.1111111111111111,
             "#46039f"
            ],
            [
             0.2222222222222222,
             "#7201a8"
            ],
            [
             0.3333333333333333,
             "#9c179e"
            ],
            [
             0.4444444444444444,
             "#bd3786"
            ],
            [
             0.5555555555555556,
             "#d8576b"
            ],
            [
             0.6666666666666666,
             "#ed7953"
            ],
            [
             0.7777777777777778,
             "#fb9f3a"
            ],
            [
             0.8888888888888888,
             "#fdca26"
            ],
            [
             1,
             "#f0f921"
            ]
           ]
          },
          "colorway": [
           "#636efa",
           "#EF553B",
           "#00cc96",
           "#ab63fa",
           "#FFA15A",
           "#19d3f3",
           "#FF6692",
           "#B6E880",
           "#FF97FF",
           "#FECB52"
          ],
          "font": {
           "color": "#2a3f5f"
          },
          "geo": {
           "bgcolor": "white",
           "lakecolor": "white",
           "landcolor": "#E5ECF6",
           "showlakes": true,
           "showland": true,
           "subunitcolor": "white"
          },
          "hoverlabel": {
           "align": "left"
          },
          "hovermode": "closest",
          "mapbox": {
           "style": "light"
          },
          "paper_bgcolor": "white",
          "plot_bgcolor": "#E5ECF6",
          "polar": {
           "angularaxis": {
            "gridcolor": "white",
            "linecolor": "white",
            "ticks": ""
           },
           "bgcolor": "#E5ECF6",
           "radialaxis": {
            "gridcolor": "white",
            "linecolor": "white",
            "ticks": ""
           }
          },
          "scene": {
           "xaxis": {
            "backgroundcolor": "#E5ECF6",
            "gridcolor": "white",
            "gridwidth": 2,
            "linecolor": "white",
            "showbackground": true,
            "ticks": "",
            "zerolinecolor": "white"
           },
           "yaxis": {
            "backgroundcolor": "#E5ECF6",
            "gridcolor": "white",
            "gridwidth": 2,
            "linecolor": "white",
            "showbackground": true,
            "ticks": "",
            "zerolinecolor": "white"
           },
           "zaxis": {
            "backgroundcolor": "#E5ECF6",
            "gridcolor": "white",
            "gridwidth": 2,
            "linecolor": "white",
            "showbackground": true,
            "ticks": "",
            "zerolinecolor": "white"
           }
          },
          "shapedefaults": {
           "line": {
            "color": "#2a3f5f"
           }
          },
          "ternary": {
           "aaxis": {
            "gridcolor": "white",
            "linecolor": "white",
            "ticks": ""
           },
           "baxis": {
            "gridcolor": "white",
            "linecolor": "white",
            "ticks": ""
           },
           "bgcolor": "#E5ECF6",
           "caxis": {
            "gridcolor": "white",
            "linecolor": "white",
            "ticks": ""
           }
          },
          "title": {
           "x": 0.05
          },
          "xaxis": {
           "automargin": true,
           "gridcolor": "white",
           "linecolor": "white",
           "ticks": "",
           "title": {
            "standoff": 15
           },
           "zerolinecolor": "white",
           "zerolinewidth": 2
          },
          "yaxis": {
           "automargin": true,
           "gridcolor": "white",
           "linecolor": "white",
           "ticks": "",
           "title": {
            "standoff": 15
           },
           "zerolinecolor": "white",
           "zerolinewidth": 2
          }
         }
        }
       }
      }
     },
     "metadata": {},
     "output_type": "display_data"
    }
   ],
   "source": [
    "# same plot but interactive using plotly\n",
    "fig = go.Figure()\n",
    "fig.add_trace(go.Bar(\n",
    "    y=cfm_ratings_by_location[\"norm_rating\"],\n",
    "    x=cfm_ratings_by_location.index,\n",
    "    name=\"CFM\",\n",
    "    orientation='v',\n",
    "))\n",
    "fig.add_trace(go.Bar(\n",
    "    y=exp_ratings_by_location[\"norm_rating\"],\n",
    "    x=exp_ratings_by_location.index,\n",
    "    name=\"EXP\",\n",
    "    orientation='v',\n",
    "))\n",
    "fig.add_trace(go.Bar(\n",
    "    y=xpl_ratings_by_location[\"norm_rating\"],\n",
    "    x=xpl_ratings_by_location.index,\n",
    "    name=\"XPL\",\n",
    "    orientation='v',\n",
    "))\n",
    "fig.add_trace(go.Bar(\n",
    "    y=adv_ratings_by_location[\"norm_rating\"],\n",
    "    x=adv_ratings_by_location.index,\n",
    "    name=\"ADV\",\n",
    "    orientation='v',\n",
    "))\n",
    "fig.add_trace(go.Bar(\n",
    "    y=overall_ratings_by_location[\"norm_rating\"],\n",
    "    x=overall_ratings_by_location.index,\n",
    "    name=\"Overall\",\n",
    "    orientation='v',\n",
    "))\n",
    "fig.update_layout(barmode='group')\n",
    "fig.show()\n"
   ]
  },
  {
   "attachments": {},
   "cell_type": "markdown",
   "metadata": {},
   "source": [
    "# What country do each category like most ?"
   ]
  },
  {
   "cell_type": "code",
   "execution_count": 253,
   "metadata": {},
   "outputs": [],
   "source": [
    "# get average rating for each location for each category and overall\n",
    "cfm_ratings_by_location = beers_breweries_ratings_scores_df[beers_breweries_ratings_scores_df[\"is_cfm\"] == True]\n",
    "exp_ratings_by_location = beers_breweries_ratings_scores_df[beers_breweries_ratings_scores_df[\"is_exp\"] == True]\n",
    "xpl_ratings_by_location = beers_breweries_ratings_scores_df[beers_breweries_ratings_scores_df[\"is_xpl\"] == True]\n",
    "adv_ratings_by_location = beers_breweries_ratings_scores_df[beers_breweries_ratings_scores_df[\"is_adv\"] == True]\n",
    "overall_ratings_by_location = beers_breweries_ratings_scores_df\n",
    "\n",
    "\n",
    "cfm_ratings_by_location = cfm_ratings_by_location.groupby(\"beer_location\").agg({\"rating\": \"mean\"})\n",
    "exp_ratings_by_location = exp_ratings_by_location.groupby(\"beer_location\").agg({\"rating\": \"mean\"})\n",
    "xpl_ratings_by_location = xpl_ratings_by_location.groupby(\"beer_location\").agg({\"rating\": \"mean\"})\n",
    "adv_ratings_by_location = adv_ratings_by_location.groupby(\"beer_location\").agg({\"rating\": \"mean\"})\n",
    "overall_ratings_by_location = overall_ratings_by_location.groupby(\"beer_location\").agg({\"rating\": \"mean\"})\n"
   ]
  },
  {
   "cell_type": "code",
   "execution_count": 254,
   "metadata": {},
   "outputs": [
    {
     "data": {
      "text/html": [
       "<div>\n",
       "<style scoped>\n",
       "    .dataframe tbody tr th:only-of-type {\n",
       "        vertical-align: middle;\n",
       "    }\n",
       "\n",
       "    .dataframe tbody tr th {\n",
       "        vertical-align: top;\n",
       "    }\n",
       "\n",
       "    .dataframe thead th {\n",
       "        text-align: right;\n",
       "    }\n",
       "</style>\n",
       "<table border=\"1\" class=\"dataframe\">\n",
       "  <thead>\n",
       "    <tr style=\"text-align: right;\">\n",
       "      <th></th>\n",
       "      <th>rating</th>\n",
       "    </tr>\n",
       "    <tr>\n",
       "      <th>beer_location</th>\n",
       "      <th></th>\n",
       "    </tr>\n",
       "  </thead>\n",
       "  <tbody>\n",
       "    <tr>\n",
       "      <th>Albania</th>\n",
       "      <td>3.315556</td>\n",
       "    </tr>\n",
       "    <tr>\n",
       "      <th>Andorra</th>\n",
       "      <td>2.250000</td>\n",
       "    </tr>\n",
       "    <tr>\n",
       "      <th>Angola</th>\n",
       "      <td>2.800000</td>\n",
       "    </tr>\n",
       "    <tr>\n",
       "      <th>Antigua &amp; Barbuda</th>\n",
       "      <td>2.847500</td>\n",
       "    </tr>\n",
       "    <tr>\n",
       "      <th>Argentina</th>\n",
       "      <td>2.926750</td>\n",
       "    </tr>\n",
       "    <tr>\n",
       "      <th>...</th>\n",
       "      <td>...</td>\n",
       "    </tr>\n",
       "    <tr>\n",
       "      <th>Vietnam</th>\n",
       "      <td>2.782828</td>\n",
       "    </tr>\n",
       "    <tr>\n",
       "      <th>Virgin Islands (British)</th>\n",
       "      <td>3.000000</td>\n",
       "    </tr>\n",
       "    <tr>\n",
       "      <th>Virgin Islands (U.S.)</th>\n",
       "      <td>3.220833</td>\n",
       "    </tr>\n",
       "    <tr>\n",
       "      <th>Wales</th>\n",
       "      <td>3.722239</td>\n",
       "    </tr>\n",
       "    <tr>\n",
       "      <th>Zimbabwe</th>\n",
       "      <td>3.113333</td>\n",
       "    </tr>\n",
       "  </tbody>\n",
       "</table>\n",
       "<p>218 rows × 1 columns</p>\n",
       "</div>"
      ],
      "text/plain": [
       "                            rating\n",
       "beer_location                     \n",
       "Albania                   3.315556\n",
       "Andorra                   2.250000\n",
       "Angola                    2.800000\n",
       "Antigua & Barbuda         2.847500\n",
       "Argentina                 2.926750\n",
       "...                            ...\n",
       "Vietnam                   2.782828\n",
       "Virgin Islands (British)  3.000000\n",
       "Virgin Islands (U.S.)     3.220833\n",
       "Wales                     3.722239\n",
       "Zimbabwe                  3.113333\n",
       "\n",
       "[218 rows x 1 columns]"
      ]
     },
     "execution_count": 254,
     "metadata": {},
     "output_type": "execute_result"
    }
   ],
   "source": [
    "cfm_ratings_by_location"
   ]
  },
  {
   "cell_type": "code",
   "execution_count": 255,
   "metadata": {},
   "outputs": [],
   "source": [
    "# filter out locations with less than 10 ratings using location_to_remove\n",
    "cfm_ratings_by_location = cfm_ratings_by_location[~cfm_ratings_by_location.index.isin(cfm_locations_to_remove)]\n",
    "exp_ratings_by_location = exp_ratings_by_location[~exp_ratings_by_location.index.isin(exp_locations_to_remove)]\n",
    "xpl_ratings_by_location = xpl_ratings_by_location[~xpl_ratings_by_location.index.isin(xpl_locations_to_remove)]\n",
    "adv_ratings_by_location = adv_ratings_by_location[~adv_ratings_by_location.index.isin(adv_locations_to_remove)]\n",
    "overall_ratings_by_location = overall_ratings_by_location[~overall_ratings_by_location.index.isin(overall_locations_to_remove)]"
   ]
  },
  {
   "cell_type": "code",
   "execution_count": 256,
   "metadata": {},
   "outputs": [
    {
     "data": {
      "text/html": [
       "<div>\n",
       "<style scoped>\n",
       "    .dataframe tbody tr th:only-of-type {\n",
       "        vertical-align: middle;\n",
       "    }\n",
       "\n",
       "    .dataframe tbody tr th {\n",
       "        vertical-align: top;\n",
       "    }\n",
       "\n",
       "    .dataframe thead th {\n",
       "        text-align: right;\n",
       "    }\n",
       "</style>\n",
       "<table border=\"1\" class=\"dataframe\">\n",
       "  <thead>\n",
       "    <tr style=\"text-align: right;\">\n",
       "      <th></th>\n",
       "      <th>rating</th>\n",
       "    </tr>\n",
       "    <tr>\n",
       "      <th>beer_location</th>\n",
       "      <th></th>\n",
       "    </tr>\n",
       "  </thead>\n",
       "  <tbody>\n",
       "    <tr>\n",
       "      <th>Australia</th>\n",
       "      <td>3.766667</td>\n",
       "    </tr>\n",
       "    <tr>\n",
       "      <th>Austria</th>\n",
       "      <td>3.936250</td>\n",
       "    </tr>\n",
       "    <tr>\n",
       "      <th>Belgium</th>\n",
       "      <td>4.614735</td>\n",
       "    </tr>\n",
       "    <tr>\n",
       "      <th>Canada</th>\n",
       "      <td>3.896453</td>\n",
       "    </tr>\n",
       "    <tr>\n",
       "      <th>China</th>\n",
       "      <td>4.350714</td>\n",
       "    </tr>\n",
       "    <tr>\n",
       "      <th>...</th>\n",
       "      <td>...</td>\n",
       "    </tr>\n",
       "    <tr>\n",
       "      <th>United States, Vermont</th>\n",
       "      <td>4.745837</td>\n",
       "    </tr>\n",
       "    <tr>\n",
       "      <th>United States, Virginia</th>\n",
       "      <td>4.163511</td>\n",
       "    </tr>\n",
       "    <tr>\n",
       "      <th>United States, Washington</th>\n",
       "      <td>4.207939</td>\n",
       "    </tr>\n",
       "    <tr>\n",
       "      <th>United States, Wisconsin</th>\n",
       "      <td>4.102790</td>\n",
       "    </tr>\n",
       "    <tr>\n",
       "      <th>Utah&lt;/a&gt;&lt;br&gt;&lt;a href=\"http://utahbeers.com\" target=\"_blank\"&gt;utahbeers.com</th>\n",
       "      <td>3.973000</td>\n",
       "    </tr>\n",
       "  </tbody>\n",
       "</table>\n",
       "<p>67 rows × 1 columns</p>\n",
       "</div>"
      ],
      "text/plain": [
       "                                                      rating\n",
       "beer_location                                               \n",
       "Australia                                           3.766667\n",
       "Austria                                             3.936250\n",
       "Belgium                                             4.614735\n",
       "Canada                                              3.896453\n",
       "China                                               4.350714\n",
       "...                                                      ...\n",
       "United States, Vermont                              4.745837\n",
       "United States, Virginia                             4.163511\n",
       "United States, Washington                           4.207939\n",
       "United States, Wisconsin                            4.102790\n",
       "Utah</a><br><a href=\"http://utahbeers.com\" targ...  3.973000\n",
       "\n",
       "[67 rows x 1 columns]"
      ]
     },
     "execution_count": 256,
     "metadata": {},
     "output_type": "execute_result"
    }
   ],
   "source": [
    "exp_ratings_by_location"
   ]
  },
  {
   "cell_type": "code",
   "execution_count": 257,
   "metadata": {
    "vscode": {
     "languageId": "ruby"
    }
   },
   "outputs": [],
   "source": [
    "# normalize by average rating overall\n",
    "cfm_ratings_by_location = cfm_ratings_by_location['rating'] / cfm_ratings[\"rating\"].mean()\n",
    "exp_ratings_by_location = exp_ratings_by_location['rating'] / exp_ratings[\"rating\"].mean()\n",
    "xpl_ratings_by_location = xpl_ratings_by_location['rating'] / xpl_ratings[\"rating\"].mean()\n",
    "adv_ratings_by_location = adv_ratings_by_location['rating'] / adv_ratings[\"rating\"].mean()\n",
    "overall_ratings_by_location = overall_ratings_by_location['rating'] / overall_ratings_by_location[\"rating\"].mean()"
   ]
  },
  {
   "cell_type": "code",
   "execution_count": 258,
   "metadata": {
    "vscode": {
     "languageId": "ruby"
    }
   },
   "outputs": [],
   "source": [
    "# sort the the ratings series by rating\n",
    "cfm_ratings_by_location = cfm_ratings_by_location.sort_values(ascending=False)\n",
    "exp_ratings_by_location = exp_ratings_by_location.sort_values(ascending=False)\n",
    "xpl_ratings_by_location = xpl_ratings_by_location.sort_values(ascending=False)\n",
    "adv_ratings_by_location = adv_ratings_by_location.sort_values(ascending=False)\n",
    "overall_ratings_by_location = overall_ratings_by_location.sort_values(ascending=False)\n",
    "\n",
    "\n",
    "\n",
    "# get top 10 locations for each category and overall\n",
    "cfm_ratings_by_location_top_10 = cfm_ratings_by_location[:10]\n",
    "exp_ratings_by_location_top_10 = exp_ratings_by_location[:10]\n",
    "xpl_ratings_by_location_top_10 = xpl_ratings_by_location[:10]\n",
    "adv_ratings_by_location_top_10 = adv_ratings_by_location[:10]\n",
    "overall_ratings_by_location_top_10 = overall_ratings_by_location[:10]"
   ]
  },
  {
   "cell_type": "code",
   "execution_count": 259,
   "metadata": {
    "vscode": {
     "languageId": "ruby"
    }
   },
   "outputs": [
    {
     "data": {
      "text/plain": [
       "['United States, Oregon',\n",
       " 'New York</a>, 13057, <a href=\"/place/directory/9/US/\">United States',\n",
       " 'Belgium',\n",
       " 'United States, California',\n",
       " 'United States, Vermont',\n",
       " 'United States, Oklahoma',\n",
       " 'United States, Maine',\n",
       " 'United States, Georgia',\n",
       " 'Canada, Nova Scotia',\n",
       " 'United States, Florida',\n",
       " 'Sweden',\n",
       " 'United States, Arkansas',\n",
       " 'United States, Illinois',\n",
       " 'United States, Iowa',\n",
       " 'United States, Massachusetts',\n",
       " 'United States, Indiana',\n",
       " 'United States, Ohio',\n",
       " 'United States, Michigan',\n",
       " 'Scotland',\n",
       " 'United States</a> | <a href=\"http://maps.google.com/maps?oi=map&q=%2C+US\" target=\"_blank\">map</a><br><a href=\"http://sebagobrewing.com\" target=\"_blank\">sebagobrewing.com',\n",
       " 'United States, Delaware']"
      ]
     },
     "execution_count": 259,
     "metadata": {},
     "output_type": "execute_result"
    }
   ],
   "source": [
    "# get list of locations that appear in a top 10 list of any category\n",
    "top_10_locations = list(set(cfm_ratings_by_location_top_10.index).union(set(exp_ratings_by_location_top_10.index)).union(set(xpl_ratings_by_location_top_10.index)).union(set(adv_ratings_by_location_top_10.index)).union(set(overall_ratings_by_location_top_10.index)))\n",
    "top_10_locations"
   ]
  },
  {
   "cell_type": "code",
   "execution_count": 260,
   "metadata": {
    "vscode": {
     "languageId": "ruby"
    }
   },
   "outputs": [],
   "source": [
    "# filter out locations that are not in the top 10 list of any category\n",
    "cfm_ratings_by_location = cfm_ratings_by_location[cfm_ratings_by_location.index.isin(top_10_locations)]\n",
    "exp_ratings_by_location = exp_ratings_by_location[exp_ratings_by_location.index.isin(top_10_locations)]\n",
    "xpl_ratings_by_location = xpl_ratings_by_location[xpl_ratings_by_location.index.isin(top_10_locations)]\n",
    "adv_ratings_by_location = adv_ratings_by_location[adv_ratings_by_location.index.isin(top_10_locations)]\n",
    "overall_ratings_by_location = overall_ratings_by_location[overall_ratings_by_location.index.isin(top_10_locations)]\n",
    "\n",
    "\n"
   ]
  },
  {
   "cell_type": "code",
   "execution_count": 261,
   "metadata": {
    "vscode": {
     "languageId": "ruby"
    }
   },
   "outputs": [
    {
     "data": {
      "text/plain": [
       "beer_location\n",
       "United States, Iowa                                                                                                                                                          1.252303\n",
       "United States, Oklahoma                                                                                                                                                      1.236390\n",
       "Belgium                                                                                                                                                                      1.225923\n",
       "United States, Indiana                                                                                                                                                       1.225457\n",
       "United States, Vermont                                                                                                                                                       1.222351\n",
       "United States, California                                                                                                                                                    1.209111\n",
       "United States, Florida                                                                                                                                                       1.204986\n",
       "United States, Illinois                                                                                                                                                      1.204728\n",
       "United States, Ohio                                                                                                                                                          1.204477\n",
       "United States, Michigan                                                                                                                                                      1.202619\n",
       "New York</a>, 13057, <a href=\"/place/directory/9/US/\">United States                                                                                                          1.191718\n",
       "United States, Oregon                                                                                                                                                        1.187677\n",
       "United States, Maine                                                                                                                                                         1.187303\n",
       "United States, Delaware                                                                                                                                                      1.184221\n",
       "Sweden                                                                                                                                                                       1.179961\n",
       "Canada, Nova Scotia                                                                                                                                                          1.174758\n",
       "United States, Massachusetts                                                                                                                                                 1.162530\n",
       "United States, Georgia                                                                                                                                                       1.160363\n",
       "Scotland                                                                                                                                                                     1.152902\n",
       "United States, Arkansas                                                                                                                                                      1.145463\n",
       "United States</a> | <a href=\"http://maps.google.com/maps?oi=map&q=%2C+US\" target=\"_blank\">map</a><br><a href=\"http://sebagobrewing.com\" target=\"_blank\">sebagobrewing.com    1.138204\n",
       "Name: rating, dtype: float64"
      ]
     },
     "execution_count": 261,
     "metadata": {},
     "output_type": "execute_result"
    }
   ],
   "source": [
    "overall_ratings_by_location"
   ]
  },
  {
   "cell_type": "code",
   "execution_count": 263,
   "metadata": {
    "vscode": {
     "languageId": "ruby"
    }
   },
   "outputs": [
    {
     "data": {
      "application/vnd.plotly.v1+json": {
       "config": {
        "plotlyServerURL": "https://plot.ly"
       },
       "data": [
        {
         "marker": {
          "color": "#FF0000"
         },
         "name": "CFM",
         "orientation": "v",
         "type": "bar",
         "x": [
          "United States, Iowa",
          "United States, Oklahoma",
          "Belgium",
          "United States, Indiana",
          "United States, Vermont",
          "United States, California",
          "United States, Florida",
          "United States, Illinois",
          "United States, Ohio",
          "Sweden",
          "United States, Michigan",
          "United States, Maine",
          "United States, Oregon",
          "United States, Delaware",
          "United States, Massachusetts",
          "United States, Georgia",
          "United States, Arkansas",
          "Scotland",
          "United States</a> | <a href=\"http://maps.google.com/maps?oi=map&q=%2C+US\" target=\"_blank\">map</a><br><a href=\"http://sebagobrewing.com\" target=\"_blank\">sebagobrewing.com"
         ],
         "y": [
          1.0706660314959524,
          1.059062254121745,
          1.0440586397566007,
          1.0430096345731028,
          1.0400306216767472,
          1.029828176711804,
          1.028617002280365,
          1.0269919144434017,
          1.026943055461195,
          1.0249324204231876,
          1.0224221957045638,
          1.020083533991859,
          1.0151178421572578,
          1.00591256545437,
          1.0012483139231827,
          0.9884671208237955,
          0.9872035419943771,
          0.9853630668171447,
          0.9698268229115083
         ]
        },
        {
         "marker": {
          "color": "#00FF00"
         },
         "name": "EXP",
         "orientation": "v",
         "type": "bar",
         "x": [
          "United States, Vermont",
          "United States, Iowa",
          "United States, Indiana",
          "United States, Oklahoma",
          "Belgium",
          "United States, Illinois",
          "United States, Michigan",
          "United States, California",
          "United States, Maine",
          "United States, Massachusetts",
          "United States, Florida",
          "Sweden",
          "United States, Arkansas",
          "United States, Oregon",
          "United States, Ohio",
          "United States, Delaware",
          "United States, Georgia",
          "Scotland"
         ],
         "y": [
          1.0802467712358703,
          1.0733005693353574,
          1.0557286226544191,
          1.0547987038959008,
          1.050405453270347,
          1.0457539678404726,
          1.0431634754152286,
          1.037932376506883,
          1.0351617311496775,
          1.0315099482594967,
          1.0292440136140781,
          1.018761502994145,
          1.0179160577634445,
          1.0124350344167259,
          1.008844652648072,
          0.990437787080707,
          0.9576400588522095,
          0.903850258190283
         ]
        },
        {
         "marker": {
          "color": "#0000FF"
         },
         "name": "XPL",
         "orientation": "v",
         "type": "bar",
         "x": [
          "United States, Oklahoma",
          "United States, Indiana",
          "Belgium",
          "United States, Iowa",
          "United States, Vermont",
          "Canada, Nova Scotia",
          "New York</a>, 13057, <a href=\"/place/directory/9/US/\">United States",
          "United States, Florida",
          "United States, Ohio",
          "United States, Illinois",
          "United States, California",
          "United States, Oregon",
          "United States, Michigan",
          "United States, Maine",
          "United States, Delaware",
          "United States, Massachusetts",
          "Sweden",
          "United States, Georgia",
          "United States, Arkansas",
          "United States</a> | <a href=\"http://maps.google.com/maps?oi=map&q=%2C+US\" target=\"_blank\">map</a><br><a href=\"http://sebagobrewing.com\" target=\"_blank\">sebagobrewing.com",
          "Scotland"
         ],
         "y": [
          1.0498975780595412,
          1.0417271525281464,
          1.0416746696525399,
          1.0400723808234476,
          1.038654460925849,
          1.0381847652409035,
          1.0372036638138096,
          1.0323253765926377,
          1.0322276837397608,
          1.0292146447629726,
          1.0290914062322454,
          1.0228316409863534,
          1.0202466336947627,
          1.019055811486478,
          1.0106026318107242,
          1.0077677540274823,
          1.0069336327892842,
          1.0057886411218655,
          0.9977762541576861,
          0.9914685419260673,
          0.9901372673561808
         ]
        },
        {
         "marker": {
          "color": "#FFFF00"
         },
         "name": "ADV",
         "orientation": "v",
         "type": "bar",
         "x": [
          "United States, Delaware",
          "United States, Indiana",
          "Belgium",
          "United States, Ohio",
          "United States, Michigan",
          "United States</a> | <a href=\"http://maps.google.com/maps?oi=map&q=%2C+US\" target=\"_blank\">map</a><br><a href=\"http://sebagobrewing.com\" target=\"_blank\">sebagobrewing.com",
          "United States, Oregon",
          "United States, Georgia",
          "Scotland",
          "United States, Arkansas",
          "United States, California",
          "United States, Illinois",
          "Canada, Nova Scotia",
          "United States, Oklahoma",
          "United States, Maine",
          "United States, Massachusetts",
          "United States, Vermont",
          "United States, Iowa",
          "United States, Florida",
          "Sweden"
         ],
         "y": [
          1.1428348856735315,
          1.1170868213851313,
          1.114381795436214,
          1.11140311194659,
          1.1113406712792795,
          1.0868662851450348,
          1.0857724795382722,
          1.0804654519710064,
          1.078323919521194,
          1.0754066144214145,
          1.0721962480957776,
          1.0586318184163588,
          1.0554516404445877,
          1.0534813139289756,
          1.0430997136058093,
          1.039808067853737,
          1.0339657536519793,
          1.0339383953247683,
          0.9967201959590634,
          0.9668356234073081
         ]
        },
        {
         "marker": {
          "color": "#000000"
         },
         "name": "Overall",
         "orientation": "v",
         "type": "bar",
         "x": [
          "United States, Iowa",
          "United States, Oklahoma",
          "Belgium",
          "United States, Indiana",
          "United States, Vermont",
          "United States, California",
          "United States, Florida",
          "United States, Illinois",
          "United States, Ohio",
          "United States, Michigan",
          "New York</a>, 13057, <a href=\"/place/directory/9/US/\">United States",
          "United States, Oregon",
          "United States, Maine",
          "United States, Delaware",
          "Sweden",
          "Canada, Nova Scotia",
          "United States, Massachusetts",
          "United States, Georgia",
          "Scotland",
          "United States, Arkansas",
          "United States</a> | <a href=\"http://maps.google.com/maps?oi=map&q=%2C+US\" target=\"_blank\">map</a><br><a href=\"http://sebagobrewing.com\" target=\"_blank\">sebagobrewing.com"
         ],
         "y": [
          1.25230287038614,
          1.2363900754512354,
          1.225922832968995,
          1.225457111073545,
          1.2223507673295622,
          1.2091108968985271,
          1.2049857468508074,
          1.204727666003927,
          1.2044772534243704,
          1.2026188363659145,
          1.191718393627265,
          1.1876770156022176,
          1.1873031677090906,
          1.1842212472268814,
          1.17996062271341,
          1.1747580879028703,
          1.1625300602362232,
          1.1603629613570834,
          1.1529020224068718,
          1.1454632323508425,
          1.1382037800053268
         ]
        }
       ],
       "layout": {
        "barmode": "group",
        "template": {
         "data": {
          "bar": [
           {
            "error_x": {
             "color": "#2a3f5f"
            },
            "error_y": {
             "color": "#2a3f5f"
            },
            "marker": {
             "line": {
              "color": "#E5ECF6",
              "width": 0.5
             },
             "pattern": {
              "fillmode": "overlay",
              "size": 10,
              "solidity": 0.2
             }
            },
            "type": "bar"
           }
          ],
          "barpolar": [
           {
            "marker": {
             "line": {
              "color": "#E5ECF6",
              "width": 0.5
             },
             "pattern": {
              "fillmode": "overlay",
              "size": 10,
              "solidity": 0.2
             }
            },
            "type": "barpolar"
           }
          ],
          "carpet": [
           {
            "aaxis": {
             "endlinecolor": "#2a3f5f",
             "gridcolor": "white",
             "linecolor": "white",
             "minorgridcolor": "white",
             "startlinecolor": "#2a3f5f"
            },
            "baxis": {
             "endlinecolor": "#2a3f5f",
             "gridcolor": "white",
             "linecolor": "white",
             "minorgridcolor": "white",
             "startlinecolor": "#2a3f5f"
            },
            "type": "carpet"
           }
          ],
          "choropleth": [
           {
            "colorbar": {
             "outlinewidth": 0,
             "ticks": ""
            },
            "type": "choropleth"
           }
          ],
          "contour": [
           {
            "colorbar": {
             "outlinewidth": 0,
             "ticks": ""
            },
            "colorscale": [
             [
              0,
              "#0d0887"
             ],
             [
              0.1111111111111111,
              "#46039f"
             ],
             [
              0.2222222222222222,
              "#7201a8"
             ],
             [
              0.3333333333333333,
              "#9c179e"
             ],
             [
              0.4444444444444444,
              "#bd3786"
             ],
             [
              0.5555555555555556,
              "#d8576b"
             ],
             [
              0.6666666666666666,
              "#ed7953"
             ],
             [
              0.7777777777777778,
              "#fb9f3a"
             ],
             [
              0.8888888888888888,
              "#fdca26"
             ],
             [
              1,
              "#f0f921"
             ]
            ],
            "type": "contour"
           }
          ],
          "contourcarpet": [
           {
            "colorbar": {
             "outlinewidth": 0,
             "ticks": ""
            },
            "type": "contourcarpet"
           }
          ],
          "heatmap": [
           {
            "colorbar": {
             "outlinewidth": 0,
             "ticks": ""
            },
            "colorscale": [
             [
              0,
              "#0d0887"
             ],
             [
              0.1111111111111111,
              "#46039f"
             ],
             [
              0.2222222222222222,
              "#7201a8"
             ],
             [
              0.3333333333333333,
              "#9c179e"
             ],
             [
              0.4444444444444444,
              "#bd3786"
             ],
             [
              0.5555555555555556,
              "#d8576b"
             ],
             [
              0.6666666666666666,
              "#ed7953"
             ],
             [
              0.7777777777777778,
              "#fb9f3a"
             ],
             [
              0.8888888888888888,
              "#fdca26"
             ],
             [
              1,
              "#f0f921"
             ]
            ],
            "type": "heatmap"
           }
          ],
          "heatmapgl": [
           {
            "colorbar": {
             "outlinewidth": 0,
             "ticks": ""
            },
            "colorscale": [
             [
              0,
              "#0d0887"
             ],
             [
              0.1111111111111111,
              "#46039f"
             ],
             [
              0.2222222222222222,
              "#7201a8"
             ],
             [
              0.3333333333333333,
              "#9c179e"
             ],
             [
              0.4444444444444444,
              "#bd3786"
             ],
             [
              0.5555555555555556,
              "#d8576b"
             ],
             [
              0.6666666666666666,
              "#ed7953"
             ],
             [
              0.7777777777777778,
              "#fb9f3a"
             ],
             [
              0.8888888888888888,
              "#fdca26"
             ],
             [
              1,
              "#f0f921"
             ]
            ],
            "type": "heatmapgl"
           }
          ],
          "histogram": [
           {
            "marker": {
             "pattern": {
              "fillmode": "overlay",
              "size": 10,
              "solidity": 0.2
             }
            },
            "type": "histogram"
           }
          ],
          "histogram2d": [
           {
            "colorbar": {
             "outlinewidth": 0,
             "ticks": ""
            },
            "colorscale": [
             [
              0,
              "#0d0887"
             ],
             [
              0.1111111111111111,
              "#46039f"
             ],
             [
              0.2222222222222222,
              "#7201a8"
             ],
             [
              0.3333333333333333,
              "#9c179e"
             ],
             [
              0.4444444444444444,
              "#bd3786"
             ],
             [
              0.5555555555555556,
              "#d8576b"
             ],
             [
              0.6666666666666666,
              "#ed7953"
             ],
             [
              0.7777777777777778,
              "#fb9f3a"
             ],
             [
              0.8888888888888888,
              "#fdca26"
             ],
             [
              1,
              "#f0f921"
             ]
            ],
            "type": "histogram2d"
           }
          ],
          "histogram2dcontour": [
           {
            "colorbar": {
             "outlinewidth": 0,
             "ticks": ""
            },
            "colorscale": [
             [
              0,
              "#0d0887"
             ],
             [
              0.1111111111111111,
              "#46039f"
             ],
             [
              0.2222222222222222,
              "#7201a8"
             ],
             [
              0.3333333333333333,
              "#9c179e"
             ],
             [
              0.4444444444444444,
              "#bd3786"
             ],
             [
              0.5555555555555556,
              "#d8576b"
             ],
             [
              0.6666666666666666,
              "#ed7953"
             ],
             [
              0.7777777777777778,
              "#fb9f3a"
             ],
             [
              0.8888888888888888,
              "#fdca26"
             ],
             [
              1,
              "#f0f921"
             ]
            ],
            "type": "histogram2dcontour"
           }
          ],
          "mesh3d": [
           {
            "colorbar": {
             "outlinewidth": 0,
             "ticks": ""
            },
            "type": "mesh3d"
           }
          ],
          "parcoords": [
           {
            "line": {
             "colorbar": {
              "outlinewidth": 0,
              "ticks": ""
             }
            },
            "type": "parcoords"
           }
          ],
          "pie": [
           {
            "automargin": true,
            "type": "pie"
           }
          ],
          "scatter": [
           {
            "fillpattern": {
             "fillmode": "overlay",
             "size": 10,
             "solidity": 0.2
            },
            "type": "scatter"
           }
          ],
          "scatter3d": [
           {
            "line": {
             "colorbar": {
              "outlinewidth": 0,
              "ticks": ""
             }
            },
            "marker": {
             "colorbar": {
              "outlinewidth": 0,
              "ticks": ""
             }
            },
            "type": "scatter3d"
           }
          ],
          "scattercarpet": [
           {
            "marker": {
             "colorbar": {
              "outlinewidth": 0,
              "ticks": ""
             }
            },
            "type": "scattercarpet"
           }
          ],
          "scattergeo": [
           {
            "marker": {
             "colorbar": {
              "outlinewidth": 0,
              "ticks": ""
             }
            },
            "type": "scattergeo"
           }
          ],
          "scattergl": [
           {
            "marker": {
             "colorbar": {
              "outlinewidth": 0,
              "ticks": ""
             }
            },
            "type": "scattergl"
           }
          ],
          "scattermapbox": [
           {
            "marker": {
             "colorbar": {
              "outlinewidth": 0,
              "ticks": ""
             }
            },
            "type": "scattermapbox"
           }
          ],
          "scatterpolar": [
           {
            "marker": {
             "colorbar": {
              "outlinewidth": 0,
              "ticks": ""
             }
            },
            "type": "scatterpolar"
           }
          ],
          "scatterpolargl": [
           {
            "marker": {
             "colorbar": {
              "outlinewidth": 0,
              "ticks": ""
             }
            },
            "type": "scatterpolargl"
           }
          ],
          "scatterternary": [
           {
            "marker": {
             "colorbar": {
              "outlinewidth": 0,
              "ticks": ""
             }
            },
            "type": "scatterternary"
           }
          ],
          "surface": [
           {
            "colorbar": {
             "outlinewidth": 0,
             "ticks": ""
            },
            "colorscale": [
             [
              0,
              "#0d0887"
             ],
             [
              0.1111111111111111,
              "#46039f"
             ],
             [
              0.2222222222222222,
              "#7201a8"
             ],
             [
              0.3333333333333333,
              "#9c179e"
             ],
             [
              0.4444444444444444,
              "#bd3786"
             ],
             [
              0.5555555555555556,
              "#d8576b"
             ],
             [
              0.6666666666666666,
              "#ed7953"
             ],
             [
              0.7777777777777778,
              "#fb9f3a"
             ],
             [
              0.8888888888888888,
              "#fdca26"
             ],
             [
              1,
              "#f0f921"
             ]
            ],
            "type": "surface"
           }
          ],
          "table": [
           {
            "cells": {
             "fill": {
              "color": "#EBF0F8"
             },
             "line": {
              "color": "white"
             }
            },
            "header": {
             "fill": {
              "color": "#C8D4E3"
             },
             "line": {
              "color": "white"
             }
            },
            "type": "table"
           }
          ]
         },
         "layout": {
          "annotationdefaults": {
           "arrowcolor": "#2a3f5f",
           "arrowhead": 0,
           "arrowwidth": 1
          },
          "autotypenumbers": "strict",
          "coloraxis": {
           "colorbar": {
            "outlinewidth": 0,
            "ticks": ""
           }
          },
          "colorscale": {
           "diverging": [
            [
             0,
             "#8e0152"
            ],
            [
             0.1,
             "#c51b7d"
            ],
            [
             0.2,
             "#de77ae"
            ],
            [
             0.3,
             "#f1b6da"
            ],
            [
             0.4,
             "#fde0ef"
            ],
            [
             0.5,
             "#f7f7f7"
            ],
            [
             0.6,
             "#e6f5d0"
            ],
            [
             0.7,
             "#b8e186"
            ],
            [
             0.8,
             "#7fbc41"
            ],
            [
             0.9,
             "#4d9221"
            ],
            [
             1,
             "#276419"
            ]
           ],
           "sequential": [
            [
             0,
             "#0d0887"
            ],
            [
             0.1111111111111111,
             "#46039f"
            ],
            [
             0.2222222222222222,
             "#7201a8"
            ],
            [
             0.3333333333333333,
             "#9c179e"
            ],
            [
             0.4444444444444444,
             "#bd3786"
            ],
            [
             0.5555555555555556,
             "#d8576b"
            ],
            [
             0.6666666666666666,
             "#ed7953"
            ],
            [
             0.7777777777777778,
             "#fb9f3a"
            ],
            [
             0.8888888888888888,
             "#fdca26"
            ],
            [
             1,
             "#f0f921"
            ]
           ],
           "sequentialminus": [
            [
             0,
             "#0d0887"
            ],
            [
             0.1111111111111111,
             "#46039f"
            ],
            [
             0.2222222222222222,
             "#7201a8"
            ],
            [
             0.3333333333333333,
             "#9c179e"
            ],
            [
             0.4444444444444444,
             "#bd3786"
            ],
            [
             0.5555555555555556,
             "#d8576b"
            ],
            [
             0.6666666666666666,
             "#ed7953"
            ],
            [
             0.7777777777777778,
             "#fb9f3a"
            ],
            [
             0.8888888888888888,
             "#fdca26"
            ],
            [
             1,
             "#f0f921"
            ]
           ]
          },
          "colorway": [
           "#636efa",
           "#EF553B",
           "#00cc96",
           "#ab63fa",
           "#FFA15A",
           "#19d3f3",
           "#FF6692",
           "#B6E880",
           "#FF97FF",
           "#FECB52"
          ],
          "font": {
           "color": "#2a3f5f"
          },
          "geo": {
           "bgcolor": "white",
           "lakecolor": "white",
           "landcolor": "#E5ECF6",
           "showlakes": true,
           "showland": true,
           "subunitcolor": "white"
          },
          "hoverlabel": {
           "align": "left"
          },
          "hovermode": "closest",
          "mapbox": {
           "style": "light"
          },
          "paper_bgcolor": "white",
          "plot_bgcolor": "#E5ECF6",
          "polar": {
           "angularaxis": {
            "gridcolor": "white",
            "linecolor": "white",
            "ticks": ""
           },
           "bgcolor": "#E5ECF6",
           "radialaxis": {
            "gridcolor": "white",
            "linecolor": "white",
            "ticks": ""
           }
          },
          "scene": {
           "xaxis": {
            "backgroundcolor": "#E5ECF6",
            "gridcolor": "white",
            "gridwidth": 2,
            "linecolor": "white",
            "showbackground": true,
            "ticks": "",
            "zerolinecolor": "white"
           },
           "yaxis": {
            "backgroundcolor": "#E5ECF6",
            "gridcolor": "white",
            "gridwidth": 2,
            "linecolor": "white",
            "showbackground": true,
            "ticks": "",
            "zerolinecolor": "white"
           },
           "zaxis": {
            "backgroundcolor": "#E5ECF6",
            "gridcolor": "white",
            "gridwidth": 2,
            "linecolor": "white",
            "showbackground": true,
            "ticks": "",
            "zerolinecolor": "white"
           }
          },
          "shapedefaults": {
           "line": {
            "color": "#2a3f5f"
           }
          },
          "ternary": {
           "aaxis": {
            "gridcolor": "white",
            "linecolor": "white",
            "ticks": ""
           },
           "baxis": {
            "gridcolor": "white",
            "linecolor": "white",
            "ticks": ""
           },
           "bgcolor": "#E5ECF6",
           "caxis": {
            "gridcolor": "white",
            "linecolor": "white",
            "ticks": ""
           }
          },
          "title": {
           "x": 0.05
          },
          "xaxis": {
           "automargin": true,
           "gridcolor": "white",
           "linecolor": "white",
           "ticks": "",
           "title": {
            "standoff": 15
           },
           "zerolinecolor": "white",
           "zerolinewidth": 2
          },
          "yaxis": {
           "automargin": true,
           "gridcolor": "white",
           "linecolor": "white",
           "ticks": "",
           "title": {
            "standoff": 15
           },
           "zerolinecolor": "white",
           "zerolinewidth": 2
          }
         }
        },
        "title": {
         "text": "Top 10 rated beer styles for each Category"
        },
        "xaxis": {
         "categoryarray": [
          "United States, Iowa",
          "United States, Oklahoma",
          "Belgium",
          "United States, Indiana",
          "United States, Vermont",
          "United States, California",
          "United States, Florida",
          "United States, Illinois",
          "United States, Ohio",
          "Sweden",
          "United States, Michigan",
          "United States, Maine",
          "United States, Oregon",
          "United States, Delaware",
          "United States, Massachusetts",
          "United States, Georgia",
          "United States, Arkansas",
          "Scotland",
          "United States</a> | <a href=\"http://maps.google.com/maps?oi=map&q=%2C+US\" target=\"_blank\">map</a><br><a href=\"http://sebagobrewing.com\" target=\"_blank\">sebagobrewing.com"
         ],
         "categoryorder": "array"
        },
        "yaxis": {
         "range": [
          0.9,
          1.2
         ],
         "title": {
          "text": "Percentage of Ratings"
         }
        }
       }
      }
     },
     "metadata": {},
     "output_type": "display_data"
    }
   ],
   "source": [
    "fig = go.Figure()\n",
    "\n",
    "\n",
    "fig.add_trace(go.Bar(\n",
    "    y=cfm_ratings_by_location.values,\n",
    "    x=cfm_ratings_by_location.index,\n",
    "    name=\"CFM\",\n",
    "    orientation='v',\n",
    "    marker_color='#FF0000'\n",
    "))\n",
    "fig.add_trace(go.Bar(\n",
    "    y=exp_ratings_by_location.values,\n",
    "    x=exp_ratings_by_location.index,\n",
    "    name=\"EXP\",\n",
    "    orientation='v',\n",
    "    marker_color='#00FF00'\n",
    "))\n",
    "fig.add_trace(go.Bar( \n",
    "    y=xpl_ratings_by_location.values,\n",
    "    x=xpl_ratings_by_location.index,\n",
    "    name=\"XPL\",\n",
    "    orientation='v',\n",
    "    marker_color='#0000FF'\n",
    "))\n",
    "fig.add_trace(go.Bar(\n",
    "    y=adv_ratings_by_location.values,\n",
    "    x=adv_ratings_by_location.index,\n",
    "    name=\"ADV\",\n",
    "    orientation='v',\n",
    "    marker_color='#FFFF00'\n",
    "))\n",
    "fig.add_trace(go.Bar(\n",
    "    y=overall_ratings_by_location.values,\n",
    "    x=overall_ratings_by_location.index,\n",
    "    name=\"Overall\",\n",
    "    orientation='v',\n",
    "    marker_color='#000000'\n",
    "))\n",
    "\n",
    "\n",
    "fig.update_yaxes(range=[0.9, 1.2])\n",
    "\n",
    "# set the x-axis to be the style names\n",
    "fig.update_layout(xaxis={'categoryorder':'array', 'categoryarray':cfm_ratings_by_location.index})\n",
    "\n",
    "# set the y-axis to be the percentage of ratings\n",
    "fig.update_layout(yaxis_title=\"Percentage of Ratings\")\n",
    "\n",
    "# set the title\n",
    "fig.update_layout(title_text=\"Top 10 rated beer styles for each Category\")\n",
    "\n",
    "fig.update_layout(barmode='group')\n",
    "fig.show()\n",
    "\n"
   ]
  },
  {
   "cell_type": "code",
   "execution_count": null,
   "metadata": {
    "vscode": {
     "languageId": "ruby"
    }
   },
   "outputs": [],
   "source": []
  },
  {
   "cell_type": "code",
   "execution_count": null,
   "metadata": {
    "vscode": {
     "languageId": "ruby"
    }
   },
   "outputs": [],
   "source": []
  },
  {
   "attachments": {},
   "cell_type": "markdown",
   "metadata": {},
   "source": [
    "# Venn diagram of categories "
   ]
  },
  {
   "cell_type": "code",
   "execution_count": 34,
   "metadata": {},
   "outputs": [
    {
     "data": {
      "text/html": [
       "<div>\n",
       "<style scoped>\n",
       "    .dataframe tbody tr th:only-of-type {\n",
       "        vertical-align: middle;\n",
       "    }\n",
       "\n",
       "    .dataframe tbody tr th {\n",
       "        vertical-align: top;\n",
       "    }\n",
       "\n",
       "    .dataframe thead th {\n",
       "        text-align: right;\n",
       "    }\n",
       "</style>\n",
       "<table border=\"1\" class=\"dataframe\">\n",
       "  <thead>\n",
       "    <tr style=\"text-align: right;\">\n",
       "      <th></th>\n",
       "      <th>n_ratings</th>\n",
       "      <th>n_reviews</th>\n",
       "      <th>uid</th>\n",
       "      <th>username</th>\n",
       "      <th>joined</th>\n",
       "      <th>location</th>\n",
       "      <th>country</th>\n",
       "      <th>cfm_score</th>\n",
       "      <th>exp_score</th>\n",
       "      <th>xpl_score</th>\n",
       "      <th>adv_score</th>\n",
       "      <th>is_cfm</th>\n",
       "      <th>is_exp</th>\n",
       "      <th>is_xpl</th>\n",
       "      <th>is_adv</th>\n",
       "    </tr>\n",
       "  </thead>\n",
       "  <tbody>\n",
       "    <tr>\n",
       "      <th>0</th>\n",
       "      <td>7820</td>\n",
       "      <td>465</td>\n",
       "      <td>nmann08.184925</td>\n",
       "      <td>nmann08</td>\n",
       "      <td>2008-01-07 11:00:00</td>\n",
       "      <td>United States, Washington</td>\n",
       "      <td>United States</td>\n",
       "      <td>-0.875556</td>\n",
       "      <td>-0.423436</td>\n",
       "      <td>0.276726</td>\n",
       "      <td>0.066368</td>\n",
       "      <td>0</td>\n",
       "      <td>0</td>\n",
       "      <td>1</td>\n",
       "      <td>0</td>\n",
       "    </tr>\n",
       "    <tr>\n",
       "      <th>1</th>\n",
       "      <td>2521</td>\n",
       "      <td>2504</td>\n",
       "      <td>stjamesgate.163714</td>\n",
       "      <td>StJamesGate</td>\n",
       "      <td>2007-10-08 10:00:00</td>\n",
       "      <td>United States, New York</td>\n",
       "      <td>United States</td>\n",
       "      <td>-0.516299</td>\n",
       "      <td>-0.282777</td>\n",
       "      <td>0.473622</td>\n",
       "      <td>0.037287</td>\n",
       "      <td>0</td>\n",
       "      <td>0</td>\n",
       "      <td>1</td>\n",
       "      <td>0</td>\n",
       "    </tr>\n",
       "    <tr>\n",
       "      <th>2</th>\n",
       "      <td>2326</td>\n",
       "      <td>0</td>\n",
       "      <td>hellpop65.48993</td>\n",
       "      <td>Hellpop65</td>\n",
       "      <td>2005-11-14 11:00:00</td>\n",
       "      <td>United States, Kansas</td>\n",
       "      <td>United States</td>\n",
       "      <td>-1.783445</td>\n",
       "      <td>-0.621249</td>\n",
       "      <td>0.11264</td>\n",
       "      <td>0.11307</td>\n",
       "      <td>0</td>\n",
       "      <td>0</td>\n",
       "      <td>0</td>\n",
       "      <td>0</td>\n",
       "    </tr>\n",
       "    <tr>\n",
       "      <th>3</th>\n",
       "      <td>3098</td>\n",
       "      <td>0</td>\n",
       "      <td>latarnik.52897</td>\n",
       "      <td>Latarnik</td>\n",
       "      <td>2005-12-02 11:00:00</td>\n",
       "      <td>United States, New Jersey</td>\n",
       "      <td>United States</td>\n",
       "      <td>-0.451196</td>\n",
       "      <td>-0.362152</td>\n",
       "      <td>0.171724</td>\n",
       "      <td>0.244028</td>\n",
       "      <td>0</td>\n",
       "      <td>0</td>\n",
       "      <td>0</td>\n",
       "      <td>1</td>\n",
       "    </tr>\n",
       "    <tr>\n",
       "      <th>4</th>\n",
       "      <td>1866</td>\n",
       "      <td>23</td>\n",
       "      <td>rochefortchris.697017</td>\n",
       "      <td>RochefortChris</td>\n",
       "      <td>2012-10-02 10:00:00</td>\n",
       "      <td>United States, North Carolina</td>\n",
       "      <td>United States</td>\n",
       "      <td>-1.375863</td>\n",
       "      <td>-0.414637</td>\n",
       "      <td>0.209539</td>\n",
       "      <td>0.084137</td>\n",
       "      <td>0</td>\n",
       "      <td>0</td>\n",
       "      <td>1</td>\n",
       "      <td>0</td>\n",
       "    </tr>\n",
       "  </tbody>\n",
       "</table>\n",
       "</div>"
      ],
      "text/plain": [
       "   n_ratings  n_reviews                    uid        username  \\\n",
       "0       7820        465         nmann08.184925         nmann08   \n",
       "1       2521       2504     stjamesgate.163714     StJamesGate   \n",
       "2       2326          0        hellpop65.48993       Hellpop65   \n",
       "3       3098          0         latarnik.52897        Latarnik   \n",
       "4       1866         23  rochefortchris.697017  RochefortChris   \n",
       "\n",
       "               joined                       location        country  \\\n",
       "0 2008-01-07 11:00:00      United States, Washington  United States   \n",
       "1 2007-10-08 10:00:00        United States, New York  United States   \n",
       "2 2005-11-14 11:00:00          United States, Kansas  United States   \n",
       "3 2005-12-02 11:00:00      United States, New Jersey  United States   \n",
       "4 2012-10-02 10:00:00  United States, North Carolina  United States   \n",
       "\n",
       "   cfm_score  exp_score  xpl_score  adv_score  is_cfm  is_exp  is_xpl  is_adv  \n",
       "0  -0.875556  -0.423436   0.276726   0.066368       0       0       1       0  \n",
       "1  -0.516299  -0.282777   0.473622   0.037287       0       0       1       0  \n",
       "2  -1.783445  -0.621249    0.11264    0.11307       0       0       0       0  \n",
       "3  -0.451196  -0.362152   0.171724   0.244028       0       0       0       1  \n",
       "4  -1.375863  -0.414637   0.209539   0.084137       0       0       1       0  "
      ]
     },
     "execution_count": 34,
     "metadata": {},
     "output_type": "execute_result"
    }
   ],
   "source": [
    "scores_ddf.head()"
   ]
  },
  {
   "cell_type": "code",
   "execution_count": 39,
   "metadata": {},
   "outputs": [
    {
     "data": {
      "image/png": "[encoded data removed]",
      "text/plain": [
       "<Figure size 500x500 with 1 Axes>"
      ]
     },
     "metadata": {},
     "output_type": "display_data"
    }
   ],
   "source": [
    "import matplotlib.pyplot as plt\n",
    "from matplotlib_venn import venn2\n",
    "\n",
    "# Select the columns to visualize\n",
    "experts = scores_ddf[scores_ddf['is_exp'] == 1]\n",
    "conformists = scores_ddf[scores_ddf['is_cfm'] == 1]\n",
    "\n",
    "# Calculate the number of users in each category\n",
    "expert_count = len(experts)\n",
    "conformist_count = len(conformists)\n",
    "overlap_count = len(experts[experts['is_cfm'] == 1])\n",
    "\n",
    "# Create the Venn diagram using the venn2 function\n",
    "plt.figure(figsize=(5,5))\n",
    "v = venn2(subsets=(expert_count, conformist_count, overlap_count), set_labels=('Expert', 'Conformist'))\n",
    "\n",
    "# Show the plot\n",
    "plt.show()\n",
    "\n"
   ]
  },
  {
   "cell_type": "code",
   "execution_count": 46,
   "metadata": {},
   "outputs": [
    {
     "data": {
      "image/png": "[encoded data removed]",
      "text/plain": [
       "<Figure size 500x500 with 1 Axes>"
      ]
     },
     "metadata": {},
     "output_type": "display_data"
    }
   ],
   "source": [
    "import matplotlib.pyplot as plt\n",
    "from matplotlib_venn import venn2\n",
    "\n",
    "# Select the columns to visualize\n",
    "experts = scores_ddf[scores_ddf['is_exp'] == 1]\n",
    "adventurers = scores_ddf[scores_ddf['is_adv'] == 1]\n",
    "\n",
    "# Calculate the number of users in each category\n",
    "expert_count = len(experts)\n",
    "adventurer_count = len(adventurers)\n",
    "overlap_count = len(experts[experts['is_adv'] == 1])\n",
    "\n",
    "# Create the Venn diagram using the venn2 function\n",
    "plt.figure(figsize=(5,5))\n",
    "v = venn2(subsets=(expert_count, conformist_count, overlap_count), set_labels=('Expert', 'Adventurer'))\n",
    "\n",
    "# Show the plot\n",
    "plt.show()\n"
   ]
  },
  {
   "cell_type": "code",
   "execution_count": 49,
   "metadata": {},
   "outputs": [
    {
     "data": {
      "image/png": "[encoded data removed]",
      "text/plain": [
       "<Figure size 500x500 with 1 Axes>"
      ]
     },
     "metadata": {},
     "output_type": "display_data"
    }
   ],
   "source": [
    "import matplotlib.pyplot as plt\n",
    "from matplotlib_venn import venn3\n",
    "\n",
    "# Ven diagram to show overlap of expert_like, conformist, adventurer and explorer\n",
    "\n",
    "# Select the columns to visualize\n",
    "conformist = scores_ddf[scores_ddf['is_cfm'] == 1]\n",
    "adventurer = scores_ddf[scores_ddf['is_adv'] == 1]\n",
    "explorer = scores_ddf[scores_ddf['is_xpl'] == 1]\n",
    "\n",
    "# Calculate the number of users in each category\n",
    "conformist_count = len(conformist)\n",
    "adventurer_count = len(adventurer)\n",
    "explorer_count = len(explorer)\n",
    "\n",
    "# Calculate the overlap between the categories\n",
    "conformist_adventurer_overlap = len(conformist[conformist['is_adv'] == 1])\n",
    "conformist_explorer_overlap = len(conformist[conformist['is_xpl'] == 1])\n",
    "adventurer_explorer_overlap = len(adventurer[adventurer['is_xpl'] == 1])\n",
    "conformist_adventurer_explorer_overlap = len(conformist[(conformist['is_adv'] == 1) & (conformist['is_xpl'] == 1)])\n",
    "\n",
    "# Create the Venn diagram using the venn3 function\n",
    "plt.figure(figsize=(5,5))\n",
    "v = venn3(subsets=(conformist_count, adventurer_count, explorer_count,\n",
    "                    conformist_adventurer_overlap, conformist_explorer_overlap, adventurer_explorer_overlap, conformist_adventurer_explorer_overlap),\n",
    "           set_labels=('Conformist', 'Adventurer', 'Explorer'))\n",
    "\n",
    "# Show the plot\n",
    "plt.show()"
   ]
  },
  {
   "cell_type": "code",
   "execution_count": 50,
   "metadata": {},
   "outputs": [
    {
     "data": {
      "image/png": "[encoded data removed]",
      "text/plain": [
       "<Figure size 500x500 with 1 Axes>"
      ]
     },
     "metadata": {},
     "output_type": "display_data"
    }
   ],
   "source": [
    "# same but replace adventurer with expert\n",
    "import matplotlib.pyplot as plt\n",
    "from matplotlib_venn import venn3\n",
    "\n",
    "# Ven diagram to show overlap of expert_like, conformist, adventurer and explorer\n",
    "\n",
    "# Select the columns to visualize\n",
    "conformist = scores_ddf[scores_ddf['is_cfm'] == 1]\n",
    "expert = scores_ddf[scores_ddf['is_exp'] == 1]\n",
    "explorer = scores_ddf[scores_ddf['is_xpl'] == 1]\n",
    "\n",
    "# Calculate the number of users in each category\n",
    "conformist_count = len(conformist)\n",
    "expert_count = len(expert)\n",
    "explorer_count = len(explorer)\n",
    "\n",
    "# Calculate the overlap between the categories\n",
    "conformist_expert_overlap = len(conformist[conformist['is_exp'] == 1])\n",
    "conformist_explorer_overlap = len(conformist[conformist['is_xpl'] == 1])\n",
    "expert_explorer_overlap = len(expert[expert['is_xpl'] == 1])\n",
    "conformist_expert_explorer_overlap = len(conformist[(conformist['is_exp'] == 1) & (conformist['is_xpl'] == 1)])\n",
    "\n",
    "# Create the Venn diagram using the venn3 function\n",
    "plt.figure(figsize=(5,5))\n",
    "v = venn3(subsets=(conformist_count, expert_count, explorer_count,\n",
    "                    conformist_expert_overlap, conformist_explorer_overlap, expert_explorer_overlap, conformist_expert_explorer_overlap),\n",
    "              set_labels=('Conformist', 'Expert', 'Explorer'))\n",
    "\n",
    "# Show the plot\n",
    "plt.show()"
   ]
  },
  {
   "cell_type": "code",
   "execution_count": null,
   "metadata": {},
   "outputs": [],
   "source": []
  },
  {
   "cell_type": "markdown",
   "metadata": {},
   "source": []
  }
 ],
 "metadata": {
  "kernelspec": {
   "display_name": "base",
   "language": "python",
   "name": "python3"
  },
  "language_info": {
   "codemirror_mode": {
    "name": "ipython",
    "version": 3
   },
   "file_extension": ".py",
   "mimetype": "text/x-python",
   "name": "python",
   "nbconvert_exporter": "python",
   "pygments_lexer": "ipython3",
   "version": "3.9.12"
  },
  "orig_nbformat": 4,
  "vscode": {
   "interpreter": {
    "hash": "6bb2e1f904bb6e863f2b9088396373e4778cab81ffde8089fcb5238aee912dca"
   }
  }
 },
 "nbformat": 4,
 "nbformat_minor": 2
}
