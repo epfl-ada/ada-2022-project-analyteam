{
 "cells": [
  {
   "cell_type": "code",
   "execution_count": 2,
   "metadata": {},
   "outputs": [
    {
     "name": "stdout",
     "output_type": "stream",
     "text": [
      "The autoreload extension is already loaded. To reload it, use:\n",
      "  %reload_ext autoreload\n"
     ]
    }
   ],
   "source": [
    "from setup import dask_init, dask_shutdown\n",
    "import dask.distributed as dd\n",
    "import dask.dataframe as ddf\n",
    "from tqdm import tqdm\n",
    "\n",
    "import pandas as pd\n",
    "import numpy as np\n",
    "\n",
    "import ingestion as ing\n",
    "import processing as prc\n",
    "\n",
    "import datetime as dt\n",
    "\n",
    "import seaborn as sns\n",
    "import matplotlib.pyplot as plt\n",
    "%matplotlib inline\n",
    "\n",
    "import plotly.graph_objects as go\n",
    "\n",
    "%load_ext autoreload\n",
    "%autoreload 2"
   ]
  },
  {
   "cell_type": "code",
   "execution_count": 3,
   "metadata": {},
   "outputs": [
    {
     "name": "stderr",
     "output_type": "stream",
     "text": [
      "c:\\Users\\Henrique\\anaconda3\\lib\\site-packages\\distributed\\node.py:180: UserWarning: Port 8787 is already in use.\n",
      "Perhaps you already have a cluster running?\n",
      "Hosting the HTTP server on port 59443 instead\n",
      "  warnings.warn(\n"
     ]
    },
    {
     "data": {
      "application/vnd.jupyter.widget-view+json": {
       "model_id": "5c6e4f7b707845e78c97f8f70e776d3f",
       "version_major": 2,
       "version_minor": 0
      },
      "text/plain": [
       "Tab(children=(HTML(value='<div class=\"jp-RenderedHTMLCommon jp-RenderedHTML jp-mod-trusted jp-OutputArea-outpu…"
      ]
     },
     "metadata": {},
     "output_type": "display_data"
    }
   ],
   "source": [
    "# PANDAS SETUP\n",
    "pd.options.mode.use_inf_as_na = True\n",
    "\n",
    "# DASK SETUP\n",
    "client, cluster = dask_init()\n",
    "cluster"
   ]
  },
  {
   "cell_type": "code",
   "execution_count": 4,
   "metadata": {},
   "outputs": [
    {
     "data": {
      "text/html": [
       "<div>\n",
       "<style scoped>\n",
       "    .dataframe tbody tr th:only-of-type {\n",
       "        vertical-align: middle;\n",
       "    }\n",
       "\n",
       "    .dataframe tbody tr th {\n",
       "        vertical-align: top;\n",
       "    }\n",
       "\n",
       "    .dataframe thead th {\n",
       "        text-align: right;\n",
       "    }\n",
       "</style>\n",
       "<table border=\"1\" class=\"dataframe\">\n",
       "  <thead>\n",
       "    <tr style=\"text-align: right;\">\n",
       "      <th></th>\n",
       "      <th>n_ratings</th>\n",
       "      <th>n_reviews</th>\n",
       "      <th>uid</th>\n",
       "      <th>username</th>\n",
       "      <th>joined</th>\n",
       "      <th>location</th>\n",
       "      <th>country</th>\n",
       "      <th>cfm_score</th>\n",
       "      <th>exp_score</th>\n",
       "      <th>xpl_score</th>\n",
       "      <th>adv_score</th>\n",
       "      <th>is_cfm</th>\n",
       "      <th>is_exp</th>\n",
       "      <th>is_xpl</th>\n",
       "      <th>is_adv</th>\n",
       "    </tr>\n",
       "  </thead>\n",
       "  <tbody>\n",
       "    <tr>\n",
       "      <th>0</th>\n",
       "      <td>7820</td>\n",
       "      <td>465</td>\n",
       "      <td>nmann08.184925</td>\n",
       "      <td>nmann08</td>\n",
       "      <td>2008-01-07 11:00:00</td>\n",
       "      <td>United States, Washington</td>\n",
       "      <td>United States</td>\n",
       "      <td>-0.875556</td>\n",
       "      <td>-0.423436</td>\n",
       "      <td>0.276726</td>\n",
       "      <td>0.066368</td>\n",
       "      <td>0</td>\n",
       "      <td>0</td>\n",
       "      <td>1</td>\n",
       "      <td>0</td>\n",
       "    </tr>\n",
       "    <tr>\n",
       "      <th>1</th>\n",
       "      <td>2521</td>\n",
       "      <td>2504</td>\n",
       "      <td>stjamesgate.163714</td>\n",
       "      <td>StJamesGate</td>\n",
       "      <td>2007-10-08 10:00:00</td>\n",
       "      <td>United States, New York</td>\n",
       "      <td>United States</td>\n",
       "      <td>-0.516299</td>\n",
       "      <td>-0.282777</td>\n",
       "      <td>0.473622</td>\n",
       "      <td>0.037287</td>\n",
       "      <td>0</td>\n",
       "      <td>0</td>\n",
       "      <td>1</td>\n",
       "      <td>0</td>\n",
       "    </tr>\n",
       "    <tr>\n",
       "      <th>2</th>\n",
       "      <td>2326</td>\n",
       "      <td>0</td>\n",
       "      <td>hellpop65.48993</td>\n",
       "      <td>Hellpop65</td>\n",
       "      <td>2005-11-14 11:00:00</td>\n",
       "      <td>United States, Kansas</td>\n",
       "      <td>United States</td>\n",
       "      <td>-1.783445</td>\n",
       "      <td>-0.621249</td>\n",
       "      <td>0.11264</td>\n",
       "      <td>0.11307</td>\n",
       "      <td>0</td>\n",
       "      <td>0</td>\n",
       "      <td>0</td>\n",
       "      <td>0</td>\n",
       "    </tr>\n",
       "    <tr>\n",
       "      <th>3</th>\n",
       "      <td>3098</td>\n",
       "      <td>0</td>\n",
       "      <td>latarnik.52897</td>\n",
       "      <td>Latarnik</td>\n",
       "      <td>2005-12-02 11:00:00</td>\n",
       "      <td>United States, New Jersey</td>\n",
       "      <td>United States</td>\n",
       "      <td>-0.451196</td>\n",
       "      <td>-0.362152</td>\n",
       "      <td>0.171724</td>\n",
       "      <td>0.244028</td>\n",
       "      <td>0</td>\n",
       "      <td>0</td>\n",
       "      <td>0</td>\n",
       "      <td>1</td>\n",
       "    </tr>\n",
       "    <tr>\n",
       "      <th>4</th>\n",
       "      <td>1866</td>\n",
       "      <td>23</td>\n",
       "      <td>rochefortchris.697017</td>\n",
       "      <td>RochefortChris</td>\n",
       "      <td>2012-10-02 10:00:00</td>\n",
       "      <td>United States, North Carolina</td>\n",
       "      <td>United States</td>\n",
       "      <td>-1.375863</td>\n",
       "      <td>-0.414637</td>\n",
       "      <td>0.209539</td>\n",
       "      <td>0.084137</td>\n",
       "      <td>0</td>\n",
       "      <td>0</td>\n",
       "      <td>1</td>\n",
       "      <td>0</td>\n",
       "    </tr>\n",
       "  </tbody>\n",
       "</table>\n",
       "</div>"
      ],
      "text/plain": [
       "   n_ratings  n_reviews                    uid        username  \\\n",
       "0       7820        465         nmann08.184925         nmann08   \n",
       "1       2521       2504     stjamesgate.163714     StJamesGate   \n",
       "2       2326          0        hellpop65.48993       Hellpop65   \n",
       "3       3098          0         latarnik.52897        Latarnik   \n",
       "4       1866         23  rochefortchris.697017  RochefortChris   \n",
       "\n",
       "               joined                       location        country  \\\n",
       "0 2008-01-07 11:00:00      United States, Washington  United States   \n",
       "1 2007-10-08 10:00:00        United States, New York  United States   \n",
       "2 2005-11-14 11:00:00          United States, Kansas  United States   \n",
       "3 2005-12-02 11:00:00      United States, New Jersey  United States   \n",
       "4 2012-10-02 10:00:00  United States, North Carolina  United States   \n",
       "\n",
       "   cfm_score  exp_score  xpl_score  adv_score  is_cfm  is_exp  is_xpl  is_adv  \n",
       "0  -0.875556  -0.423436   0.276726   0.066368       0       0       1       0  \n",
       "1  -0.516299  -0.282777   0.473622   0.037287       0       0       1       0  \n",
       "2  -1.783445  -0.621249    0.11264    0.11307       0       0       0       0  \n",
       "3  -0.451196  -0.362152   0.171724   0.244028       0       0       0       1  \n",
       "4  -1.375863  -0.414637   0.209539   0.084137       0       0       1       0  "
      ]
     },
     "execution_count": 4,
     "metadata": {},
     "output_type": "execute_result"
    }
   ],
   "source": [
    "scores_ddf = ing.read_parquet('RefinedData\\BeerAdvocate\\\\users_with_scores.parquet')\n",
    "scores_ddf = scores_ddf.compute()\n",
    "scores_ddf.head()"
   ]
  },
  {
   "cell_type": "code",
   "execution_count": 5,
   "metadata": {},
   "outputs": [
    {
     "data": {
      "text/html": [
       "<div>\n",
       "<style scoped>\n",
       "    .dataframe tbody tr th:only-of-type {\n",
       "        vertical-align: middle;\n",
       "    }\n",
       "\n",
       "    .dataframe tbody tr th {\n",
       "        vertical-align: top;\n",
       "    }\n",
       "\n",
       "    .dataframe thead th {\n",
       "        text-align: right;\n",
       "    }\n",
       "</style>\n",
       "<table border=\"1\" class=\"dataframe\">\n",
       "  <thead>\n",
       "    <tr style=\"text-align: right;\">\n",
       "      <th></th>\n",
       "      <th>date</th>\n",
       "      <th>bid</th>\n",
       "      <th>uid</th>\n",
       "      <th>rating</th>\n",
       "      <th>has_review</th>\n",
       "      <th>review</th>\n",
       "      <th>compound</th>\n",
       "    </tr>\n",
       "  </thead>\n",
       "  <tbody>\n",
       "    <tr>\n",
       "      <th>0</th>\n",
       "      <td>2015-08-20 10:00:00</td>\n",
       "      <td>142544</td>\n",
       "      <td>nmann08.184925</td>\n",
       "      <td>2.88</td>\n",
       "      <td>True</td>\n",
       "      <td>From a bottle, pours a piss yellow color with ...</td>\n",
       "      <td>0</td>\n",
       "    </tr>\n",
       "    <tr>\n",
       "      <th>1</th>\n",
       "      <td>2015-11-14 11:00:00</td>\n",
       "      <td>120824</td>\n",
       "      <td>nmann08.184925</td>\n",
       "      <td>3.56</td>\n",
       "      <td>False</td>\n",
       "      <td>None</td>\n",
       "      <td>0</td>\n",
       "    </tr>\n",
       "    <tr>\n",
       "      <th>2</th>\n",
       "      <td>2011-11-18 11:00:00</td>\n",
       "      <td>47581</td>\n",
       "      <td>nmann08.184925</td>\n",
       "      <td>4.50</td>\n",
       "      <td>False</td>\n",
       "      <td>None</td>\n",
       "      <td>0</td>\n",
       "    </tr>\n",
       "    <tr>\n",
       "      <th>3</th>\n",
       "      <td>2013-05-03 10:00:00</td>\n",
       "      <td>93113</td>\n",
       "      <td>nmann08.184925</td>\n",
       "      <td>3.75</td>\n",
       "      <td>False</td>\n",
       "      <td>None</td>\n",
       "      <td>0</td>\n",
       "    </tr>\n",
       "    <tr>\n",
       "      <th>4</th>\n",
       "      <td>2015-01-24 11:00:00</td>\n",
       "      <td>875</td>\n",
       "      <td>nmann08.184925</td>\n",
       "      <td>3.81</td>\n",
       "      <td>False</td>\n",
       "      <td>None</td>\n",
       "      <td>0</td>\n",
       "    </tr>\n",
       "  </tbody>\n",
       "</table>\n",
       "</div>"
      ],
      "text/plain": [
       "                 date     bid             uid  rating  has_review  \\\n",
       "0 2015-08-20 10:00:00  142544  nmann08.184925    2.88        True   \n",
       "1 2015-11-14 11:00:00  120824  nmann08.184925    3.56       False   \n",
       "2 2011-11-18 11:00:00   47581  nmann08.184925    4.50       False   \n",
       "3 2013-05-03 10:00:00   93113  nmann08.184925    3.75       False   \n",
       "4 2015-01-24 11:00:00     875  nmann08.184925    3.81       False   \n",
       "\n",
       "                                              review  compound  \n",
       "0  From a bottle, pours a piss yellow color with ...         0  \n",
       "1                                               None         0  \n",
       "2                                               None         0  \n",
       "3                                               None         0  \n",
       "4                                               None         0  "
      ]
     },
     "execution_count": 5,
     "metadata": {},
     "output_type": "execute_result"
    }
   ],
   "source": [
    "ratings_ddf = ing.read_parquet('RefinedData\\BeerAdvocate\\\\ratings.parquet')\n",
    "ratings_ddf = ratings_ddf.compute()\n",
    "ratings_ddf.head()"
   ]
  },
  {
   "cell_type": "code",
   "execution_count": 6,
   "metadata": {},
   "outputs": [
    {
     "data": {
      "text/html": [
       "<div>\n",
       "<style scoped>\n",
       "    .dataframe tbody tr th:only-of-type {\n",
       "        vertical-align: middle;\n",
       "    }\n",
       "\n",
       "    .dataframe tbody tr th {\n",
       "        vertical-align: top;\n",
       "    }\n",
       "\n",
       "    .dataframe thead th {\n",
       "        text-align: right;\n",
       "    }\n",
       "</style>\n",
       "<table border=\"1\" class=\"dataframe\">\n",
       "  <thead>\n",
       "    <tr style=\"text-align: right;\">\n",
       "      <th></th>\n",
       "      <th>bid</th>\n",
       "      <th>n_ratings</th>\n",
       "      <th>avg_rating</th>\n",
       "      <th>n_reviews</th>\n",
       "      <th>review_rate</th>\n",
       "      <th>ba_score</th>\n",
       "      <th>bros_score</th>\n",
       "      <th>name</th>\n",
       "      <th>style</th>\n",
       "      <th>abv</th>\n",
       "    </tr>\n",
       "  </thead>\n",
       "  <tbody>\n",
       "    <tr>\n",
       "      <th>0</th>\n",
       "      <td>5</td>\n",
       "      <td>1538</td>\n",
       "      <td>3.441203</td>\n",
       "      <td>520</td>\n",
       "      <td>0.338101</td>\n",
       "      <td>78.0</td>\n",
       "      <td>89.0</td>\n",
       "      <td>Amber</td>\n",
       "      <td>Vienna Lager</td>\n",
       "      <td>4.5</td>\n",
       "    </tr>\n",
       "    <tr>\n",
       "      <th>1</th>\n",
       "      <td>6</td>\n",
       "      <td>2660</td>\n",
       "      <td>3.657617</td>\n",
       "      <td>968</td>\n",
       "      <td>0.363910</td>\n",
       "      <td>82.0</td>\n",
       "      <td>90.0</td>\n",
       "      <td>Turbodog</td>\n",
       "      <td>English Brown Ale</td>\n",
       "      <td>5.6</td>\n",
       "    </tr>\n",
       "    <tr>\n",
       "      <th>2</th>\n",
       "      <td>7</td>\n",
       "      <td>2977</td>\n",
       "      <td>3.265694</td>\n",
       "      <td>778</td>\n",
       "      <td>0.261337</td>\n",
       "      <td>74.0</td>\n",
       "      <td>88.0</td>\n",
       "      <td>Purple Haze</td>\n",
       "      <td>Fruit / Vegetable Beer</td>\n",
       "      <td>4.2</td>\n",
       "    </tr>\n",
       "    <tr>\n",
       "      <th>3</th>\n",
       "      <td>8</td>\n",
       "      <td>132</td>\n",
       "      <td>3.290682</td>\n",
       "      <td>70</td>\n",
       "      <td>0.530303</td>\n",
       "      <td>77.0</td>\n",
       "      <td>89.0</td>\n",
       "      <td>Wheat</td>\n",
       "      <td>American Adjunct Lager</td>\n",
       "      <td>4.2</td>\n",
       "    </tr>\n",
       "    <tr>\n",
       "      <th>4</th>\n",
       "      <td>9</td>\n",
       "      <td>215</td>\n",
       "      <td>3.172698</td>\n",
       "      <td>120</td>\n",
       "      <td>0.558140</td>\n",
       "      <td>74.0</td>\n",
       "      <td>83.0</td>\n",
       "      <td>Golden</td>\n",
       "      <td>American Pale Lager</td>\n",
       "      <td>4.2</td>\n",
       "    </tr>\n",
       "  </tbody>\n",
       "</table>\n",
       "</div>"
      ],
      "text/plain": [
       "   bid  n_ratings  avg_rating  n_reviews  review_rate  ba_score  bros_score  \\\n",
       "0    5       1538    3.441203        520     0.338101      78.0        89.0   \n",
       "1    6       2660    3.657617        968     0.363910      82.0        90.0   \n",
       "2    7       2977    3.265694        778     0.261337      74.0        88.0   \n",
       "3    8        132    3.290682         70     0.530303      77.0        89.0   \n",
       "4    9        215    3.172698        120     0.558140      74.0        83.0   \n",
       "\n",
       "          name                   style  abv  \n",
       "0        Amber            Vienna Lager  4.5  \n",
       "1     Turbodog       English Brown Ale  5.6  \n",
       "2  Purple Haze  Fruit / Vegetable Beer  4.2  \n",
       "3        Wheat  American Adjunct Lager  4.2  \n",
       "4       Golden     American Pale Lager  4.2  "
      ]
     },
     "execution_count": 6,
     "metadata": {},
     "output_type": "execute_result"
    }
   ],
   "source": [
    "beers_ddf = ing.read_parquet('RefinedData\\BeerAdvocate\\\\beers.parquet')\n",
    "beers_ddf = beers_ddf.compute()\n",
    "beers_ddf.head()"
   ]
  },
  {
   "cell_type": "markdown",
   "metadata": {},
   "source": [
    "# Beer Style Analysis\n",
    "1) what types of beers are rated more by each categories relative to their number of ratings\n",
    "2) what type of beer each category like more (ie. are the ratings better for some category of beers)"
   ]
  },
  {
   "cell_type": "markdown",
   "metadata": {},
   "source": [
    "## What style of beer are more rated by each category"
   ]
  },
  {
   "cell_type": "code",
   "execution_count": 7,
   "metadata": {},
   "outputs": [],
   "source": [
    "# get user for each category\n",
    "cfm_users = scores_ddf[scores_ddf[\"is_cfm\"] == True]\n",
    "exp_users = scores_ddf[scores_ddf[\"is_exp\"] == True]\n",
    "xpl_users = scores_ddf[scores_ddf[\"is_xpl\"] == True]\n",
    "adv_users = scores_ddf[scores_ddf[\"is_adv\"] == True]\n",
    "\n",
    "# group by rating for each category\n",
    "cfm_ratings = ratings_ddf[ratings_ddf[\"uid\"].isin(cfm_users[\"uid\"])]\n",
    "exp_ratings = ratings_ddf[ratings_ddf[\"uid\"].isin(exp_users[\"uid\"])]\n",
    "xpl_ratings = ratings_ddf[ratings_ddf[\"uid\"].isin(xpl_users[\"uid\"])]\n",
    "adv_ratings = ratings_ddf[ratings_ddf[\"uid\"].isin(adv_users[\"uid\"])]\n",
    "\n"
   ]
  },
  {
   "cell_type": "code",
   "execution_count": 170,
   "metadata": {},
   "outputs": [
    {
     "data": {
      "text/html": [
       "<div>\n",
       "<style scoped>\n",
       "    .dataframe tbody tr th:only-of-type {\n",
       "        vertical-align: middle;\n",
       "    }\n",
       "\n",
       "    .dataframe tbody tr th {\n",
       "        vertical-align: top;\n",
       "    }\n",
       "\n",
       "    .dataframe thead th {\n",
       "        text-align: right;\n",
       "    }\n",
       "</style>\n",
       "<table border=\"1\" class=\"dataframe\">\n",
       "  <thead>\n",
       "    <tr style=\"text-align: right;\">\n",
       "      <th></th>\n",
       "      <th>date</th>\n",
       "      <th>bid</th>\n",
       "      <th>uid</th>\n",
       "      <th>rating</th>\n",
       "      <th>has_review</th>\n",
       "      <th>review</th>\n",
       "      <th>compound</th>\n",
       "      <th>style</th>\n",
       "    </tr>\n",
       "  </thead>\n",
       "  <tbody>\n",
       "    <tr>\n",
       "      <th>0</th>\n",
       "      <td>2014-01-25 11:00:00</td>\n",
       "      <td>19827</td>\n",
       "      <td>jaydoc.265507</td>\n",
       "      <td>3.25</td>\n",
       "      <td>False</td>\n",
       "      <td>None</td>\n",
       "      <td>0</td>\n",
       "      <td>English Pale Ale</td>\n",
       "    </tr>\n",
       "    <tr>\n",
       "      <th>1</th>\n",
       "      <td>2012-12-02 11:00:00</td>\n",
       "      <td>19827</td>\n",
       "      <td>byofb.537281</td>\n",
       "      <td>3.50</td>\n",
       "      <td>False</td>\n",
       "      <td>None</td>\n",
       "      <td>0</td>\n",
       "      <td>English Pale Ale</td>\n",
       "    </tr>\n",
       "    <tr>\n",
       "      <th>2</th>\n",
       "      <td>2012-07-14 10:00:00</td>\n",
       "      <td>19827</td>\n",
       "      <td>othershoe2.233642</td>\n",
       "      <td>3.68</td>\n",
       "      <td>True</td>\n",
       "      <td>Pours a rich brownish red with some chill haze...</td>\n",
       "      <td>0</td>\n",
       "      <td>English Pale Ale</td>\n",
       "    </tr>\n",
       "    <tr>\n",
       "      <th>3</th>\n",
       "      <td>2012-01-02 11:00:00</td>\n",
       "      <td>19827</td>\n",
       "      <td>animal69.160100</td>\n",
       "      <td>3.50</td>\n",
       "      <td>False</td>\n",
       "      <td>None</td>\n",
       "      <td>0</td>\n",
       "      <td>English Pale Ale</td>\n",
       "    </tr>\n",
       "    <tr>\n",
       "      <th>4</th>\n",
       "      <td>2011-09-07 10:00:00</td>\n",
       "      <td>19827</td>\n",
       "      <td>treyliff.490010</td>\n",
       "      <td>3.62</td>\n",
       "      <td>True</td>\n",
       "      <td>Pours a dark brown with a decent creamy head. ...</td>\n",
       "      <td>0</td>\n",
       "      <td>English Pale Ale</td>\n",
       "    </tr>\n",
       "    <tr>\n",
       "      <th>...</th>\n",
       "      <td>...</td>\n",
       "      <td>...</td>\n",
       "      <td>...</td>\n",
       "      <td>...</td>\n",
       "      <td>...</td>\n",
       "      <td>...</td>\n",
       "      <td>...</td>\n",
       "      <td>...</td>\n",
       "    </tr>\n",
       "    <tr>\n",
       "      <th>1271041</th>\n",
       "      <td>2009-03-12 11:00:00</td>\n",
       "      <td>48172</td>\n",
       "      <td>rwdkosak.299494</td>\n",
       "      <td>4.23</td>\n",
       "      <td>True</td>\n",
       "      <td>On-tap at MBC in pint glass. Dark, dark beer, ...</td>\n",
       "      <td>0</td>\n",
       "      <td>American Porter</td>\n",
       "    </tr>\n",
       "    <tr>\n",
       "      <th>1271042</th>\n",
       "      <td>2009-03-12 11:00:00</td>\n",
       "      <td>47237</td>\n",
       "      <td>rwdkosak.299494</td>\n",
       "      <td>3.92</td>\n",
       "      <td>True</td>\n",
       "      <td>Had this on tap initially at the first samplin...</td>\n",
       "      <td>0</td>\n",
       "      <td>Witbier</td>\n",
       "    </tr>\n",
       "    <tr>\n",
       "      <th>1271043</th>\n",
       "      <td>2009-03-12 11:00:00</td>\n",
       "      <td>48112</td>\n",
       "      <td>rwdkosak.299494</td>\n",
       "      <td>4.03</td>\n",
       "      <td>True</td>\n",
       "      <td>Had this on tap as part of a flight of MBC bre...</td>\n",
       "      <td>0</td>\n",
       "      <td>Dubbel</td>\n",
       "    </tr>\n",
       "    <tr>\n",
       "      <th>1271044</th>\n",
       "      <td>2009-12-01 11:00:00</td>\n",
       "      <td>22574</td>\n",
       "      <td>traviserickson.391459</td>\n",
       "      <td>3.48</td>\n",
       "      <td>True</td>\n",
       "      <td>A- head falls apart like with a quick swiss ch...</td>\n",
       "      <td>0</td>\n",
       "      <td>American Pale Ale (APA)</td>\n",
       "    </tr>\n",
       "    <tr>\n",
       "      <th>1271045</th>\n",
       "      <td>2005-11-17 11:00:00</td>\n",
       "      <td>25684</td>\n",
       "      <td>skittlebrau.41838</td>\n",
       "      <td>4.43</td>\n",
       "      <td>True</td>\n",
       "      <td>Wow, where do I start with this one. Well, as ...</td>\n",
       "      <td>0</td>\n",
       "      <td>Russian Imperial Stout</td>\n",
       "    </tr>\n",
       "  </tbody>\n",
       "</table>\n",
       "<p>1271046 rows × 8 columns</p>\n",
       "</div>"
      ],
      "text/plain": [
       "                       date    bid                    uid  rating  has_review  \\\n",
       "0       2014-01-25 11:00:00  19827          jaydoc.265507    3.25       False   \n",
       "1       2012-12-02 11:00:00  19827           byofb.537281    3.50       False   \n",
       "2       2012-07-14 10:00:00  19827      othershoe2.233642    3.68        True   \n",
       "3       2012-01-02 11:00:00  19827        animal69.160100    3.50       False   \n",
       "4       2011-09-07 10:00:00  19827        treyliff.490010    3.62        True   \n",
       "...                     ...    ...                    ...     ...         ...   \n",
       "1271041 2009-03-12 11:00:00  48172        rwdkosak.299494    4.23        True   \n",
       "1271042 2009-03-12 11:00:00  47237        rwdkosak.299494    3.92        True   \n",
       "1271043 2009-03-12 11:00:00  48112        rwdkosak.299494    4.03        True   \n",
       "1271044 2009-12-01 11:00:00  22574  traviserickson.391459    3.48        True   \n",
       "1271045 2005-11-17 11:00:00  25684      skittlebrau.41838    4.43        True   \n",
       "\n",
       "                                                    review  compound  \\\n",
       "0                                                     None         0   \n",
       "1                                                     None         0   \n",
       "2        Pours a rich brownish red with some chill haze...         0   \n",
       "3                                                     None         0   \n",
       "4        Pours a dark brown with a decent creamy head. ...         0   \n",
       "...                                                    ...       ...   \n",
       "1271041  On-tap at MBC in pint glass. Dark, dark beer, ...         0   \n",
       "1271042  Had this on tap initially at the first samplin...         0   \n",
       "1271043  Had this on tap as part of a flight of MBC bre...         0   \n",
       "1271044  A- head falls apart like with a quick swiss ch...         0   \n",
       "1271045  Wow, where do I start with this one. Well, as ...         0   \n",
       "\n",
       "                           style  \n",
       "0               English Pale Ale  \n",
       "1               English Pale Ale  \n",
       "2               English Pale Ale  \n",
       "3               English Pale Ale  \n",
       "4               English Pale Ale  \n",
       "...                          ...  \n",
       "1271041          American Porter  \n",
       "1271042                  Witbier  \n",
       "1271043                   Dubbel  \n",
       "1271044  American Pale Ale (APA)  \n",
       "1271045   Russian Imperial Stout  \n",
       "\n",
       "[1271046 rows x 8 columns]"
      ]
     },
     "execution_count": 170,
     "metadata": {},
     "output_type": "execute_result"
    }
   ],
   "source": [
    "cfm_ratings"
   ]
  },
  {
   "cell_type": "code",
   "execution_count": 9,
   "metadata": {},
   "outputs": [],
   "source": [
    "# get style of beer for each bid\n",
    "cfm_ratings = cfm_ratings.merge(beers_ddf[[\"bid\", \"style\"]], on=\"bid\")\n",
    "exp_ratings = exp_ratings.merge(beers_ddf[[\"bid\", \"style\"]], on=\"bid\")\n",
    "xpl_ratings = xpl_ratings.merge(beers_ddf[[\"bid\", \"style\"]], on=\"bid\")\n",
    "adv_ratings = adv_ratings.merge(beers_ddf[[\"bid\", \"style\"]], on=\"bid\")\n",
    "overall_ratings = ratings_ddf.merge(beers_ddf[[\"bid\", \"style\"]], on=\"bid\")"
   ]
  },
  {
   "cell_type": "code",
   "execution_count": 10,
   "metadata": {},
   "outputs": [
    {
     "data": {
      "text/plain": [
       "(7654894, 8)"
      ]
     },
     "execution_count": 10,
     "metadata": {},
     "output_type": "execute_result"
    }
   ],
   "source": [
    "overall_ratings.shape"
   ]
  },
  {
   "cell_type": "code",
   "execution_count": 11,
   "metadata": {},
   "outputs": [],
   "source": [
    "# count of each style for each category\n",
    "cfm_style_count = cfm_ratings.groupby(\"style\").count()[\"uid\"]\n",
    "exp_style_count = exp_ratings.groupby(\"style\").count()[\"uid\"]\n",
    "xpl_style_count = xpl_ratings.groupby(\"style\").count()[\"uid\"]\n",
    "adv_style_count = adv_ratings.groupby(\"style\").count()[\"uid\"]\n",
    "overall_style_count = overall_ratings.groupby(\"style\").count()[\"uid\"]\n"
   ]
  },
  {
   "cell_type": "code",
   "execution_count": 12,
   "metadata": {},
   "outputs": [],
   "source": [
    "# normalize count of each style for each category by number of ratings for each category\n",
    "cfm_style_count = cfm_style_count / cfm_ratings.shape[0]\n",
    "exp_style_count = exp_style_count / exp_ratings.shape[0]\n",
    "xpl_style_count = xpl_style_count / xpl_ratings.shape[0]\n",
    "adv_style_count = adv_style_count / adv_ratings.shape[0]\n",
    "overall_style_count = overall_style_count / overall_ratings.shape[0]"
   ]
  },
  {
   "cell_type": "code",
   "execution_count": 13,
   "metadata": {},
   "outputs": [],
   "source": [
    "# sort by highest count\n",
    "cfm_style_count = cfm_style_count.sort_values(ascending=False)\n",
    "exp_style_count = exp_style_count.sort_values(ascending=False)\n",
    "xpl_style_count = xpl_style_count.sort_values(ascending=False)\n",
    "adv_style_count = adv_style_count.sort_values(ascending=False)\n",
    "overall_style_count = overall_style_count.sort_values(ascending=False)"
   ]
  },
  {
   "cell_type": "code",
   "execution_count": 14,
   "metadata": {},
   "outputs": [],
   "source": [
    "# get top 10 styles for each category\n",
    "cfm_style_count_top_10 = cfm_style_count[:10]\n",
    "exp_style_count_top_10 = exp_style_count[:10]\n",
    "xpl_style_count_top_10 = xpl_style_count[:10]\n",
    "adv_style_count_top_10 = adv_style_count[:10]\n",
    "overall_style_count_top_10 = overall_style_count[:10]"
   ]
  },
  {
   "cell_type": "code",
   "execution_count": 15,
   "metadata": {},
   "outputs": [
    {
     "data": {
      "text/plain": [
       "['Saison / Farmhouse Ale',\n",
       " 'American IPA',\n",
       " 'American Porter',\n",
       " 'American Amber / Red Ale',\n",
       " 'Light Lager',\n",
       " 'American Adjunct Lager',\n",
       " 'Quadrupel (Quad)',\n",
       " 'Witbier',\n",
       " 'Russian Imperial Stout',\n",
       " 'American Double / Imperial Stout',\n",
       " 'American Pale Ale (APA)',\n",
       " 'Fruit / Vegetable Beer',\n",
       " 'American Wild Ale',\n",
       " 'American Double / Imperial IPA',\n",
       " 'Euro Pale Lager',\n",
       " 'German Pilsener']"
      ]
     },
     "execution_count": 15,
     "metadata": {},
     "output_type": "execute_result"
    }
   ],
   "source": [
    "# get list of all styles which are present in the top 10 of any category\n",
    "styles = list(set(cfm_style_count_top_10.index).union(set(exp_style_count_top_10.index)).union(set(xpl_style_count_top_10.index)).union(set(adv_style_count_top_10.index)).union(set(overall_style_count_top_10.index)))\n",
    "styles"
   ]
  },
  {
   "cell_type": "code",
   "execution_count": 16,
   "metadata": {},
   "outputs": [],
   "source": [
    "# keep only styles which are present in the top 10 of any category\n",
    "cfm_style_count = cfm_style_count[cfm_style_count.index.isin(styles)]\n",
    "exp_style_count = exp_style_count[exp_style_count.index.isin(styles)]\n",
    "xpl_style_count = xpl_style_count[xpl_style_count.index.isin(styles)]\n",
    "adv_style_count = adv_style_count[adv_style_count.index.isin(styles)]\n",
    "overall_style_count = overall_style_count[overall_style_count.index.isin(styles)]"
   ]
  },
  {
   "cell_type": "markdown",
   "metadata": {},
   "source": [
    "Goal: obtain the percentage of rating for each style of beer(percent in terms of their total number of rating) for each category of users"
   ]
  },
  {
   "cell_type": "code",
   "execution_count": 17,
   "metadata": {},
   "outputs": [
    {
     "data": {
      "text/plain": [
       "style\n",
       "American IPA                        0.120096\n",
       "American Double / Imperial IPA      0.089675\n",
       "American Double / Imperial Stout    0.060493\n",
       "American Pale Ale (APA)             0.046723\n",
       "Saison / Farmhouse Ale              0.036436\n",
       "American Wild Ale                   0.032632\n",
       "American Porter                     0.031244\n",
       "Russian Imperial Stout              0.030692\n",
       "American Amber / Red Ale            0.024390\n",
       "Fruit / Vegetable Beer              0.020014\n",
       "Witbier                             0.014655\n",
       "American Adjunct Lager              0.012252\n",
       "Quadrupel (Quad)                    0.010645\n",
       "German Pilsener                     0.009590\n",
       "Light Lager                         0.006586\n",
       "Euro Pale Lager                     0.005671\n",
       "Name: uid, dtype: float64"
      ]
     },
     "execution_count": 17,
     "metadata": {},
     "output_type": "execute_result"
    }
   ],
   "source": [
    "overall_style_count"
   ]
  },
  {
   "cell_type": "code",
   "execution_count": 18,
   "metadata": {},
   "outputs": [],
   "source": [
    "# convert style count for each category to percentage with rounding\n",
    "cfm_style_count = cfm_style_count.apply(lambda x: round(x * 100, 2))\n",
    "exp_style_count = exp_style_count.apply(lambda x: round(x * 100, 2))\n",
    "xpl_style_count = xpl_style_count.apply(lambda x: round(x * 100, 2))\n",
    "adv_style_count = adv_style_count.apply(lambda x: round(x * 100, 2))\n",
    "overall_style_count = overall_style_count.apply(lambda x: round(x * 100, 2))"
   ]
  },
  {
   "cell_type": "code",
   "execution_count": 165,
   "metadata": {},
   "outputs": [
    {
     "data": {
      "application/vnd.plotly.v1+json": {
       "config": {
        "plotlyServerURL": "https://plot.ly"
       },
       "data": [
        {
         "marker": {
          "color": "#4477AA"
         },
         "name": "Conformist",
         "orientation": "v",
         "type": "bar",
         "x": [
          "American IPA",
          "American Double / Imperial IPA",
          "American Double / Imperial Stout",
          "American Pale Ale (APA)",
          "Saison / Farmhouse Ale",
          "American Wild Ale",
          "American Porter",
          "Russian Imperial Stout",
          "American Amber / Red Ale",
          "Fruit / Vegetable Beer",
          "Witbier",
          "Quadrupel (Quad)",
          "American Adjunct Lager",
          "German Pilsener",
          "Light Lager",
          "Euro Pale Lager"
         ],
         "y": [
          0.12960000000000002,
          0.095,
          0.0633,
          0.0492,
          0.0391,
          0.0336,
          0.0315,
          0.0298,
          0.023799999999999998,
          0.018500000000000003,
          0.013600000000000001,
          0.0104,
          0.01,
          0.0092,
          0.0052,
          0.0046
         ]
        },
        {
         "marker": {
          "color": "#CCBB44"
         },
         "name": "Expert-like",
         "orientation": "v",
         "type": "bar",
         "x": [
          "American Double / Imperial IPA",
          "American IPA",
          "American Double / Imperial Stout",
          "American Pale Ale (APA)",
          "Russian Imperial Stout",
          "American Wild Ale",
          "American Porter",
          "Saison / Farmhouse Ale",
          "American Amber / Red Ale",
          "Quadrupel (Quad)",
          "Fruit / Vegetable Beer",
          "Witbier",
          "German Pilsener",
          "American Adjunct Lager",
          "Light Lager",
          "Euro Pale Lager"
         ],
         "y": [
          0.17350000000000002,
          0.1502,
          0.1041,
          0.0512,
          0.038,
          0.029300000000000003,
          0.026000000000000002,
          0.024900000000000002,
          0.019799999999999998,
          0.0171,
          0.013999999999999999,
          0.009000000000000001,
          0.0060999999999999995,
          0.006,
          0.0027,
          0.0026
         ]
        },
        {
         "marker": {
          "color": "#228833"
         },
         "name": "Explorer",
         "orientation": "v",
         "type": "bar",
         "x": [
          "American IPA",
          "American Double / Imperial IPA",
          "American Pale Ale (APA)",
          "American Double / Imperial Stout",
          "Saison / Farmhouse Ale",
          "American Wild Ale",
          "American Porter",
          "American Amber / Red Ale",
          "Russian Imperial Stout",
          "Fruit / Vegetable Beer",
          "Witbier",
          "German Pilsener",
          "American Adjunct Lager",
          "Quadrupel (Quad)",
          "Euro Pale Lager",
          "Light Lager"
         ],
         "y": [
          0.1082,
          0.0665,
          0.0484,
          0.0466,
          0.045,
          0.0388,
          0.0317,
          0.0255,
          0.024700000000000003,
          0.0196,
          0.0147,
          0.011399999999999999,
          0.010700000000000001,
          0.0089,
          0.0077,
          0.0046
         ]
        },
        {
         "marker": {
          "color": "#AA3377"
         },
         "name": "Adventurer",
         "orientation": "v",
         "type": "bar",
         "x": [
          "American Adjunct Lager",
          "American IPA",
          "Light Lager",
          "American Pale Ale (APA)",
          "Fruit / Vegetable Beer",
          "Euro Pale Lager",
          "American Amber / Red Ale",
          "Witbier",
          "American Double / Imperial IPA",
          "German Pilsener",
          "American Porter",
          "American Double / Imperial Stout",
          "Saison / Farmhouse Ale",
          "Russian Imperial Stout",
          "Quadrupel (Quad)",
          "American Wild Ale"
         ],
         "y": [
          0.0789,
          0.0699,
          0.0437,
          0.04,
          0.0385,
          0.0315,
          0.028399999999999998,
          0.0279,
          0.0265,
          0.0227,
          0.021400000000000002,
          0.011399999999999999,
          0.011000000000000001,
          0.010700000000000001,
          0.005,
          0.0028000000000000004
         ]
        },
        {
         "marker": {
          "color": "#777777"
         },
         "name": "Overall",
         "orientation": "v",
         "type": "bar",
         "x": [
          "American IPA",
          "American Double / Imperial IPA",
          "American Double / Imperial Stout",
          "American Pale Ale (APA)",
          "Saison / Farmhouse Ale",
          "American Wild Ale",
          "American Porter",
          "Russian Imperial Stout",
          "American Amber / Red Ale",
          "Fruit / Vegetable Beer",
          "Witbier",
          "American Adjunct Lager",
          "Quadrupel (Quad)",
          "German Pilsener",
          "Light Lager",
          "Euro Pale Lager"
         ],
         "y": [
          0.1201,
          0.0897,
          0.0605,
          0.0467,
          0.0364,
          0.0326,
          0.031200000000000002,
          0.030699999999999998,
          0.024399999999999998,
          0.02,
          0.0147,
          0.0123,
          0.0106,
          0.0096,
          0.0066,
          0.005699999999999999
         ]
        }
       ],
       "layout": {
        "barmode": "group",
        "paper_bgcolor": "rgba(0,0,0,0)",
        "plot_bgcolor": "rgba(0,0,0,0)",
        "template": {
         "data": {
          "bar": [
           {
            "error_x": {
             "color": "#2a3f5f"
            },
            "error_y": {
             "color": "#2a3f5f"
            },
            "marker": {
             "line": {
              "color": "#E5ECF6",
              "width": 0.5
             },
             "pattern": {
              "fillmode": "overlay",
              "size": 10,
              "solidity": 0.2
             }
            },
            "type": "bar"
           }
          ],
          "barpolar": [
           {
            "marker": {
             "line": {
              "color": "#E5ECF6",
              "width": 0.5
             },
             "pattern": {
              "fillmode": "overlay",
              "size": 10,
              "solidity": 0.2
             }
            },
            "type": "barpolar"
           }
          ],
          "carpet": [
           {
            "aaxis": {
             "endlinecolor": "#2a3f5f",
             "gridcolor": "white",
             "linecolor": "white",
             "minorgridcolor": "white",
             "startlinecolor": "#2a3f5f"
            },
            "baxis": {
             "endlinecolor": "#2a3f5f",
             "gridcolor": "white",
             "linecolor": "white",
             "minorgridcolor": "white",
             "startlinecolor": "#2a3f5f"
            },
            "type": "carpet"
           }
          ],
          "choropleth": [
           {
            "colorbar": {
             "outlinewidth": 0,
             "ticks": ""
            },
            "type": "choropleth"
           }
          ],
          "contour": [
           {
            "colorbar": {
             "outlinewidth": 0,
             "ticks": ""
            },
            "colorscale": [
             [
              0,
              "#0d0887"
             ],
             [
              0.1111111111111111,
              "#46039f"
             ],
             [
              0.2222222222222222,
              "#7201a8"
             ],
             [
              0.3333333333333333,
              "#9c179e"
             ],
             [
              0.4444444444444444,
              "#bd3786"
             ],
             [
              0.5555555555555556,
              "#d8576b"
             ],
             [
              0.6666666666666666,
              "#ed7953"
             ],
             [
              0.7777777777777778,
              "#fb9f3a"
             ],
             [
              0.8888888888888888,
              "#fdca26"
             ],
             [
              1,
              "#f0f921"
             ]
            ],
            "type": "contour"
           }
          ],
          "contourcarpet": [
           {
            "colorbar": {
             "outlinewidth": 0,
             "ticks": ""
            },
            "type": "contourcarpet"
           }
          ],
          "heatmap": [
           {
            "colorbar": {
             "outlinewidth": 0,
             "ticks": ""
            },
            "colorscale": [
             [
              0,
              "#0d0887"
             ],
             [
              0.1111111111111111,
              "#46039f"
             ],
             [
              0.2222222222222222,
              "#7201a8"
             ],
             [
              0.3333333333333333,
              "#9c179e"
             ],
             [
              0.4444444444444444,
              "#bd3786"
             ],
             [
              0.5555555555555556,
              "#d8576b"
             ],
             [
              0.6666666666666666,
              "#ed7953"
             ],
             [
              0.7777777777777778,
              "#fb9f3a"
             ],
             [
              0.8888888888888888,
              "#fdca26"
             ],
             [
              1,
              "#f0f921"
             ]
            ],
            "type": "heatmap"
           }
          ],
          "heatmapgl": [
           {
            "colorbar": {
             "outlinewidth": 0,
             "ticks": ""
            },
            "colorscale": [
             [
              0,
              "#0d0887"
             ],
             [
              0.1111111111111111,
              "#46039f"
             ],
             [
              0.2222222222222222,
              "#7201a8"
             ],
             [
              0.3333333333333333,
              "#9c179e"
             ],
             [
              0.4444444444444444,
              "#bd3786"
             ],
             [
              0.5555555555555556,
              "#d8576b"
             ],
             [
              0.6666666666666666,
              "#ed7953"
             ],
             [
              0.7777777777777778,
              "#fb9f3a"
             ],
             [
              0.8888888888888888,
              "#fdca26"
             ],
             [
              1,
              "#f0f921"
             ]
            ],
            "type": "heatmapgl"
           }
          ],
          "histogram": [
           {
            "marker": {
             "pattern": {
              "fillmode": "overlay",
              "size": 10,
              "solidity": 0.2
             }
            },
            "type": "histogram"
           }
          ],
          "histogram2d": [
           {
            "colorbar": {
             "outlinewidth": 0,
             "ticks": ""
            },
            "colorscale": [
             [
              0,
              "#0d0887"
             ],
             [
              0.1111111111111111,
              "#46039f"
             ],
             [
              0.2222222222222222,
              "#7201a8"
             ],
             [
              0.3333333333333333,
              "#9c179e"
             ],
             [
              0.4444444444444444,
              "#bd3786"
             ],
             [
              0.5555555555555556,
              "#d8576b"
             ],
             [
              0.6666666666666666,
              "#ed7953"
             ],
             [
              0.7777777777777778,
              "#fb9f3a"
             ],
             [
              0.8888888888888888,
              "#fdca26"
             ],
             [
              1,
              "#f0f921"
             ]
            ],
            "type": "histogram2d"
           }
          ],
          "histogram2dcontour": [
           {
            "colorbar": {
             "outlinewidth": 0,
             "ticks": ""
            },
            "colorscale": [
             [
              0,
              "#0d0887"
             ],
             [
              0.1111111111111111,
              "#46039f"
             ],
             [
              0.2222222222222222,
              "#7201a8"
             ],
             [
              0.3333333333333333,
              "#9c179e"
             ],
             [
              0.4444444444444444,
              "#bd3786"
             ],
             [
              0.5555555555555556,
              "#d8576b"
             ],
             [
              0.6666666666666666,
              "#ed7953"
             ],
             [
              0.7777777777777778,
              "#fb9f3a"
             ],
             [
              0.8888888888888888,
              "#fdca26"
             ],
             [
              1,
              "#f0f921"
             ]
            ],
            "type": "histogram2dcontour"
           }
          ],
          "mesh3d": [
           {
            "colorbar": {
             "outlinewidth": 0,
             "ticks": ""
            },
            "type": "mesh3d"
           }
          ],
          "parcoords": [
           {
            "line": {
             "colorbar": {
              "outlinewidth": 0,
              "ticks": ""
             }
            },
            "type": "parcoords"
           }
          ],
          "pie": [
           {
            "automargin": true,
            "type": "pie"
           }
          ],
          "scatter": [
           {
            "fillpattern": {
             "fillmode": "overlay",
             "size": 10,
             "solidity": 0.2
            },
            "type": "scatter"
           }
          ],
          "scatter3d": [
           {
            "line": {
             "colorbar": {
              "outlinewidth": 0,
              "ticks": ""
             }
            },
            "marker": {
             "colorbar": {
              "outlinewidth": 0,
              "ticks": ""
             }
            },
            "type": "scatter3d"
           }
          ],
          "scattercarpet": [
           {
            "marker": {
             "colorbar": {
              "outlinewidth": 0,
              "ticks": ""
             }
            },
            "type": "scattercarpet"
           }
          ],
          "scattergeo": [
           {
            "marker": {
             "colorbar": {
              "outlinewidth": 0,
              "ticks": ""
             }
            },
            "type": "scattergeo"
           }
          ],
          "scattergl": [
           {
            "marker": {
             "colorbar": {
              "outlinewidth": 0,
              "ticks": ""
             }
            },
            "type": "scattergl"
           }
          ],
          "scattermapbox": [
           {
            "marker": {
             "colorbar": {
              "outlinewidth": 0,
              "ticks": ""
             }
            },
            "type": "scattermapbox"
           }
          ],
          "scatterpolar": [
           {
            "marker": {
             "colorbar": {
              "outlinewidth": 0,
              "ticks": ""
             }
            },
            "type": "scatterpolar"
           }
          ],
          "scatterpolargl": [
           {
            "marker": {
             "colorbar": {
              "outlinewidth": 0,
              "ticks": ""
             }
            },
            "type": "scatterpolargl"
           }
          ],
          "scatterternary": [
           {
            "marker": {
             "colorbar": {
              "outlinewidth": 0,
              "ticks": ""
             }
            },
            "type": "scatterternary"
           }
          ],
          "surface": [
           {
            "colorbar": {
             "outlinewidth": 0,
             "ticks": ""
            },
            "colorscale": [
             [
              0,
              "#0d0887"
             ],
             [
              0.1111111111111111,
              "#46039f"
             ],
             [
              0.2222222222222222,
              "#7201a8"
             ],
             [
              0.3333333333333333,
              "#9c179e"
             ],
             [
              0.4444444444444444,
              "#bd3786"
             ],
             [
              0.5555555555555556,
              "#d8576b"
             ],
             [
              0.6666666666666666,
              "#ed7953"
             ],
             [
              0.7777777777777778,
              "#fb9f3a"
             ],
             [
              0.8888888888888888,
              "#fdca26"
             ],
             [
              1,
              "#f0f921"
             ]
            ],
            "type": "surface"
           }
          ],
          "table": [
           {
            "cells": {
             "fill": {
              "color": "#EBF0F8"
             },
             "line": {
              "color": "white"
             }
            },
            "header": {
             "fill": {
              "color": "#C8D4E3"
             },
             "line": {
              "color": "white"
             }
            },
            "type": "table"
           }
          ]
         },
         "layout": {
          "annotationdefaults": {
           "arrowcolor": "#2a3f5f",
           "arrowhead": 0,
           "arrowwidth": 1
          },
          "autotypenumbers": "strict",
          "coloraxis": {
           "colorbar": {
            "outlinewidth": 0,
            "ticks": ""
           }
          },
          "colorscale": {
           "diverging": [
            [
             0,
             "#8e0152"
            ],
            [
             0.1,
             "#c51b7d"
            ],
            [
             0.2,
             "#de77ae"
            ],
            [
             0.3,
             "#f1b6da"
            ],
            [
             0.4,
             "#fde0ef"
            ],
            [
             0.5,
             "#f7f7f7"
            ],
            [
             0.6,
             "#e6f5d0"
            ],
            [
             0.7,
             "#b8e186"
            ],
            [
             0.8,
             "#7fbc41"
            ],
            [
             0.9,
             "#4d9221"
            ],
            [
             1,
             "#276419"
            ]
           ],
           "sequential": [
            [
             0,
             "#0d0887"
            ],
            [
             0.1111111111111111,
             "#46039f"
            ],
            [
             0.2222222222222222,
             "#7201a8"
            ],
            [
             0.3333333333333333,
             "#9c179e"
            ],
            [
             0.4444444444444444,
             "#bd3786"
            ],
            [
             0.5555555555555556,
             "#d8576b"
            ],
            [
             0.6666666666666666,
             "#ed7953"
            ],
            [
             0.7777777777777778,
             "#fb9f3a"
            ],
            [
             0.8888888888888888,
             "#fdca26"
            ],
            [
             1,
             "#f0f921"
            ]
           ],
           "sequentialminus": [
            [
             0,
             "#0d0887"
            ],
            [
             0.1111111111111111,
             "#46039f"
            ],
            [
             0.2222222222222222,
             "#7201a8"
            ],
            [
             0.3333333333333333,
             "#9c179e"
            ],
            [
             0.4444444444444444,
             "#bd3786"
            ],
            [
             0.5555555555555556,
             "#d8576b"
            ],
            [
             0.6666666666666666,
             "#ed7953"
            ],
            [
             0.7777777777777778,
             "#fb9f3a"
            ],
            [
             0.8888888888888888,
             "#fdca26"
            ],
            [
             1,
             "#f0f921"
            ]
           ]
          },
          "colorway": [
           "#636efa",
           "#EF553B",
           "#00cc96",
           "#ab63fa",
           "#FFA15A",
           "#19d3f3",
           "#FF6692",
           "#B6E880",
           "#FF97FF",
           "#FECB52"
          ],
          "font": {
           "color": "#2a3f5f"
          },
          "geo": {
           "bgcolor": "white",
           "lakecolor": "white",
           "landcolor": "#E5ECF6",
           "showlakes": true,
           "showland": true,
           "subunitcolor": "white"
          },
          "hoverlabel": {
           "align": "left"
          },
          "hovermode": "closest",
          "mapbox": {
           "style": "light"
          },
          "paper_bgcolor": "white",
          "plot_bgcolor": "#E5ECF6",
          "polar": {
           "angularaxis": {
            "gridcolor": "white",
            "linecolor": "white",
            "ticks": ""
           },
           "bgcolor": "#E5ECF6",
           "radialaxis": {
            "gridcolor": "white",
            "linecolor": "white",
            "ticks": ""
           }
          },
          "scene": {
           "xaxis": {
            "backgroundcolor": "#E5ECF6",
            "gridcolor": "white",
            "gridwidth": 2,
            "linecolor": "white",
            "showbackground": true,
            "ticks": "",
            "zerolinecolor": "white"
           },
           "yaxis": {
            "backgroundcolor": "#E5ECF6",
            "gridcolor": "white",
            "gridwidth": 2,
            "linecolor": "white",
            "showbackground": true,
            "ticks": "",
            "zerolinecolor": "white"
           },
           "zaxis": {
            "backgroundcolor": "#E5ECF6",
            "gridcolor": "white",
            "gridwidth": 2,
            "linecolor": "white",
            "showbackground": true,
            "ticks": "",
            "zerolinecolor": "white"
           }
          },
          "shapedefaults": {
           "line": {
            "color": "#2a3f5f"
           }
          },
          "ternary": {
           "aaxis": {
            "gridcolor": "white",
            "linecolor": "white",
            "ticks": ""
           },
           "baxis": {
            "gridcolor": "white",
            "linecolor": "white",
            "ticks": ""
           },
           "bgcolor": "#E5ECF6",
           "caxis": {
            "gridcolor": "white",
            "linecolor": "white",
            "ticks": ""
           }
          },
          "title": {
           "x": 0.05
          },
          "xaxis": {
           "automargin": true,
           "gridcolor": "white",
           "linecolor": "white",
           "ticks": "",
           "title": {
            "standoff": 15
           },
           "zerolinecolor": "white",
           "zerolinewidth": 2
          },
          "yaxis": {
           "automargin": true,
           "gridcolor": "white",
           "linecolor": "white",
           "ticks": "",
           "title": {
            "standoff": 15
           },
           "zerolinecolor": "white",
           "zerolinewidth": 2
          }
         }
        },
        "title": {
         "text": "Beer styles with most number of ratings per user category"
        },
        "xaxis": {
         "categoryarray": [
          "American IPA",
          "American Double / Imperial IPA",
          "American Double / Imperial Stout",
          "American Pale Ale (APA)",
          "Saison / Farmhouse Ale",
          "American Wild Ale",
          "American Porter",
          "Russian Imperial Stout",
          "American Amber / Red Ale",
          "Fruit / Vegetable Beer",
          "Witbier",
          "Quadrupel (Quad)",
          "American Adjunct Lager",
          "German Pilsener",
          "Light Lager",
          "Euro Pale Lager"
         ],
         "categoryorder": "array"
        },
        "yaxis": {
         "tickformat": ".0%",
         "title": {
          "text": "Percentage of Ratings"
         }
        }
       }
      }
     },
     "metadata": {},
     "output_type": "display_data"
    }
   ],
   "source": [
    "# create interactive vertical bar plot of top 10 styles for each category using style_count\n",
    "# you can click on a category to display it and the plot are superimposed on each other\n",
    "\n",
    "import plotly.graph_objects as go\n",
    "\n",
    "fig = go.Figure()\n",
    "\n",
    "\n",
    "fig.add_trace(go.Bar(\n",
    "    y=cfm_style_count.values / 100,\n",
    "    x=cfm_style_count.index,\n",
    "    name=\"Conformist\",\n",
    "    orientation='v',\n",
    "    marker_color='#4477AA'\n",
    "))\n",
    "fig.add_trace(go.Bar(\n",
    "    y=exp_style_count.values / 100,\n",
    "    x=exp_style_count.index,\n",
    "    name=\"Expert-like\",\n",
    "    orientation='v',\n",
    "    marker_color='#CCBB44'\n",
    "))\n",
    "fig.add_trace(go.Bar(\n",
    "    y=xpl_style_count.values / 100,\n",
    "    x=xpl_style_count.index,\n",
    "    name=\"Explorer\",\n",
    "    orientation='v',\n",
    "    marker_color='#228833'\n",
    "))\n",
    "fig.add_trace(go.Bar(\n",
    "    y=adv_style_count.values / 100,\n",
    "    x=adv_style_count.index,\n",
    "    name=\"Adventurer\",\n",
    "    orientation='v',\n",
    "    marker_color='#AA3377'\n",
    "))\n",
    "fig.add_trace(go.Bar(\n",
    "    y=overall_style_count.values / 100,\n",
    "    x=overall_style_count.index,\n",
    "    name=\"Overall\",\n",
    "    orientation='v',\n",
    "    marker_color='#777777'\n",
    "    \n",
    "))\n",
    "# set y axis to be percentage\n",
    "fig.update_layout(yaxis_tickformat = '.0%')\n",
    "\n",
    "# make plot transparent\n",
    "fig.update_layout(paper_bgcolor='rgba(0,0,0,0)', plot_bgcolor='rgba(0,0,0,0)')\n",
    "\n",
    "# set the x-axis to be the style names\n",
    "fig.update_layout(xaxis={'categoryorder':'array', 'categoryarray':cfm_style_count.index})\n",
    "\n",
    "# set the y-axis to be the percentage of ratings\n",
    "fig.update_layout(yaxis_title=\"Percentage of Ratings\")\n",
    "\n",
    "# set the title\n",
    "fig.update_layout(title_text=\"Beer styles with most number of ratings per user category\")\n",
    "\n",
    "fig.update_layout(barmode='group')\n",
    "\n",
    "# save the plot to html\n",
    "fig.write_html(\"top_beer_styles.html\")\n",
    "\n",
    "# show the plot\n",
    "fig.show()\n"
   ]
  },
  {
   "cell_type": "markdown",
   "metadata": {},
   "source": [
    "### analysis:\n",
    "When we select 'overall' and 'conformist', we see that these two categories are very similar in terms of rated beer styles.  \n",
    "However, by selecting 'overall' and 'expert_like' or 'explorer' we see a similar ranking, but the distribution is not the same. This motivates the idea that 'conformist' are the closest user to the lambda user.  \n",
    "Finally, we see a very different ranking and distribution for the adventurers. It seems like they rate very different kind of beers compared to the other users.\n"
   ]
  },
  {
   "cell_type": "markdown",
   "metadata": {},
   "source": [
    "## What style of beer are more liked by each category"
   ]
  },
  {
   "cell_type": "code",
   "execution_count": 21,
   "metadata": {},
   "outputs": [],
   "source": [
    "# group by cfm_ratings by style and get average rating for each style\n",
    "cfm_ratings_by_style = cfm_ratings.groupby('style').mean().sort_values(by='rating', ascending=False)\n",
    "exp_ratings_by_style = exp_ratings.groupby('style').mean().sort_values(by='rating', ascending=False)\n",
    "xpl_ratings_by_style = xpl_ratings.groupby('style').mean().sort_values(by='rating', ascending=False)\n",
    "adv_ratings_by_style = adv_ratings.groupby('style').mean().sort_values(by='rating', ascending=False)\n",
    "overall_ratings_by_style = overall_ratings.groupby('style').mean().sort_values(by='rating', ascending=False)\n",
    "\n",
    "# normalize the avg ratings by dividing by the average rating for all their ratings\n",
    "cfm_ratings_by_style['norm_rating'] = cfm_ratings_by_style['rating'] / cfm_ratings['rating'].mean()\n",
    "exp_ratings_by_style['norm_rating'] = exp_ratings_by_style['rating'] / exp_ratings['rating'].mean()\n",
    "xpl_ratings_by_style['norm_rating'] = xpl_ratings_by_style['rating'] / xpl_ratings['rating'].mean()\n",
    "adv_ratings_by_style['norm_rating'] = adv_ratings_by_style['rating'] / adv_ratings['rating'].mean()\n",
    "overall_ratings_by_style['norm_rating'] = overall_ratings_by_style['rating'] / overall_ratings['rating'].mean()"
   ]
  },
  {
   "cell_type": "code",
   "execution_count": 22,
   "metadata": {},
   "outputs": [],
   "source": [
    "# get the top 10 styles for each category\n",
    "cfm_ratings_by_style_top10 = cfm_ratings_by_style.head(10)\n",
    "exp_ratings_by_style_top10 = exp_ratings_by_style.head(10)\n",
    "xpl_ratings_by_style_top10 = xpl_ratings_by_style.head(10)\n",
    "adv_ratings_by_style_top10 = adv_ratings_by_style.head(10)\n",
    "overall_ratings_by_style_top10 = overall_ratings_by_style.head(10)"
   ]
  },
  {
   "cell_type": "code",
   "execution_count": 23,
   "metadata": {},
   "outputs": [
    {
     "data": {
      "text/plain": [
       "['Flanders Red Ale',\n",
       " 'Eisbock',\n",
       " 'Quadrupel (Quad)',\n",
       " 'Tripel',\n",
       " 'Russian Imperial Stout',\n",
       " 'American Double / Imperial Stout',\n",
       " 'Belgian Strong Dark Ale',\n",
       " 'Lambic - Fruit',\n",
       " 'Belgian Strong Pale Ale',\n",
       " 'English Barleywine',\n",
       " 'Lambic - Unblended',\n",
       " 'American Wild Ale',\n",
       " 'American Double / Imperial IPA',\n",
       " 'Weizenbock',\n",
       " 'Gueuze']"
      ]
     },
     "execution_count": 23,
     "metadata": {},
     "output_type": "execute_result"
    }
   ],
   "source": [
    "# get list of all styles which are present in the top 10 of any category\n",
    "styles = list(set(cfm_ratings_by_style_top10.index).union(set(exp_ratings_by_style_top10.index)).union(set(xpl_ratings_by_style_top10.index)).union(set(adv_ratings_by_style_top10.index)).union(set(overall_ratings_by_style_top10.index)))\n",
    "styles"
   ]
  },
  {
   "cell_type": "code",
   "execution_count": 24,
   "metadata": {},
   "outputs": [],
   "source": [
    "# keep only styles which are present in the top 10 of any category\n",
    "cfm_ratings_by_style_top = cfm_ratings_by_style[cfm_ratings_by_style.index.isin(styles)]\n",
    "exp_ratings_by_style_top = exp_ratings_by_style[exp_ratings_by_style.index.isin(styles)]\n",
    "xpl_ratings_by_style_top = xpl_ratings_by_style[xpl_ratings_by_style.index.isin(styles)]\n",
    "adv_ratings_by_style_top = adv_ratings_by_style[adv_ratings_by_style.index.isin(styles)]\n",
    "overall_ratings_by_style_top = overall_ratings_by_style[overall_ratings_by_style.index.isin(styles)]"
   ]
  },
  {
   "cell_type": "code",
   "execution_count": 161,
   "metadata": {},
   "outputs": [
    {
     "data": {
      "application/vnd.plotly.v1+json": {
       "config": {
        "plotlyServerURL": "https://plot.ly"
       },
       "data": [
        {
         "marker": {
          "color": "#4477AA"
         },
         "name": "Conformist",
         "orientation": "v",
         "type": "bar",
         "x": [
          "Gueuze",
          "American Double / Imperial Stout",
          "Russian Imperial Stout",
          "Quadrupel (Quad)",
          "Flanders Red Ale",
          "Eisbock",
          "American Wild Ale",
          "American Double / Imperial IPA",
          "English Barleywine",
          "Lambic - Unblended",
          "Lambic - Fruit",
          "Weizenbock",
          "Belgian Strong Dark Ale",
          "Tripel",
          "Belgian Strong Pale Ale"
         ],
         "y": [
          1.0903448531971527,
          1.088315437841662,
          1.0712340301026568,
          1.066531152323663,
          1.063029331394971,
          1.0625082956622562,
          1.0606344494757898,
          1.0602453136823742,
          1.058078626877244,
          1.0561054461004271,
          1.0553348020385005,
          1.0352471765343978,
          1.028125833596964,
          1.0172502152355067,
          1.0130422565957717
         ]
        },
        {
         "marker": {
          "color": "#CCBB44"
         },
         "name": "Expert-like",
         "orientation": "v",
         "type": "bar",
         "x": [
          "Gueuze",
          "American Double / Imperial Stout",
          "Quadrupel (Quad)",
          "Lambic - Fruit",
          "American Double / Imperial IPA",
          "English Barleywine",
          "Eisbock",
          "Flanders Red Ale",
          "Russian Imperial Stout",
          "American Wild Ale",
          "Lambic - Unblended",
          "Belgian Strong Dark Ale",
          "Tripel",
          "Belgian Strong Pale Ale",
          "Weizenbock"
         ],
         "y": [
          1.0938725635644881,
          1.0855352152686184,
          1.0807737169994427,
          1.0781839252263852,
          1.0657980330833072,
          1.0647817909567714,
          1.063309963227212,
          1.0612315037983069,
          1.0590849566726348,
          1.0574386559239237,
          1.0455339352996622,
          1.0124078133539611,
          1.0015971066895382,
          0.9895593597750127,
          0.9873960268872263
         ]
        },
        {
         "marker": {
          "color": "#228833"
         },
         "name": "Explorer",
         "orientation": "v",
         "type": "bar",
         "x": [
          "Gueuze",
          "American Double / Imperial Stout",
          "Russian Imperial Stout",
          "Eisbock",
          "Quadrupel (Quad)",
          "Flanders Red Ale",
          "American Wild Ale",
          "Lambic - Unblended",
          "American Double / Imperial IPA",
          "English Barleywine",
          "Lambic - Fruit",
          "Weizenbock",
          "Belgian Strong Dark Ale",
          "Tripel",
          "Belgian Strong Pale Ale"
         ],
         "y": [
          1.094197781529613,
          1.0915033217359507,
          1.075098282147322,
          1.0687147813318216,
          1.0680712516648396,
          1.0650199211074045,
          1.064335142045919,
          1.0626796378675285,
          1.062000035872867,
          1.0526582443815071,
          1.051647747576913,
          1.0377040736763745,
          1.0367706746920617,
          1.0214676359937305,
          1.015732413094998
         ]
        },
        {
         "marker": {
          "color": "#AA3377"
         },
         "name": "Adventurer",
         "orientation": "v",
         "type": "bar",
         "x": [
          "Quadrupel (Quad)",
          "American Double / Imperial Stout",
          "Russian Imperial Stout",
          "Eisbock",
          "American Double / Imperial IPA",
          "Weizenbock",
          "Belgian Strong Dark Ale",
          "Tripel",
          "Belgian Strong Pale Ale",
          "Flanders Red Ale",
          "Gueuze",
          "American Wild Ale",
          "English Barleywine",
          "Lambic - Fruit",
          "Lambic - Unblended"
         ],
         "y": [
          1.2146955574988598,
          1.1928705152856045,
          1.1863969857995873,
          1.1813589565110343,
          1.1682712411337441,
          1.1649151775295585,
          1.1597058647382674,
          1.139479092759098,
          1.1384770355990048,
          1.137316331078778,
          1.098218133320366,
          1.09462955321346,
          1.093362007189844,
          1.0859805272120848,
          1.050096515316922
         ]
        },
        {
         "marker": {
          "color": "#777777"
         },
         "name": "Overall",
         "orientation": "v",
         "type": "bar",
         "x": [
          "Gueuze",
          "American Double / Imperial Stout",
          "Quadrupel (Quad)",
          "Russian Imperial Stout",
          "American Double / Imperial IPA",
          "Eisbock",
          "American Wild Ale",
          "Flanders Red Ale",
          "Lambic - Fruit",
          "Lambic - Unblended",
          "English Barleywine",
          "Weizenbock",
          "Belgian Strong Dark Ale",
          "Tripel",
          "Belgian Strong Pale Ale"
         ],
         "y": [
          1.102415451696656,
          1.0986357893236838,
          1.0787460251064096,
          1.0782761685919888,
          1.0708312170557055,
          1.0688346901975612,
          1.0687858873840155,
          1.0656159383293742,
          1.0647411984033346,
          1.0615243262539837,
          1.0605117846569267,
          1.0393940953842633,
          1.0314352663946824,
          1.0202815186279992,
          1.0137435916780695
         ]
        }
       ],
       "layout": {
        "barmode": "group",
        "paper_bgcolor": "rgba(0,0,0,0)",
        "plot_bgcolor": "rgba(0,0,0,0)",
        "shapes": [
         {
          "line": {
           "color": "black",
           "dash": "dash",
           "width": 1.5
          },
          "type": "line",
          "x0": 0,
          "x1": 1,
          "xref": "x domain",
          "y0": 1,
          "y1": 1,
          "yref": "y"
         }
        ],
        "template": {
         "data": {
          "bar": [
           {
            "error_x": {
             "color": "#2a3f5f"
            },
            "error_y": {
             "color": "#2a3f5f"
            },
            "marker": {
             "line": {
              "color": "#E5ECF6",
              "width": 0.5
             },
             "pattern": {
              "fillmode": "overlay",
              "size": 10,
              "solidity": 0.2
             }
            },
            "type": "bar"
           }
          ],
          "barpolar": [
           {
            "marker": {
             "line": {
              "color": "#E5ECF6",
              "width": 0.5
             },
             "pattern": {
              "fillmode": "overlay",
              "size": 10,
              "solidity": 0.2
             }
            },
            "type": "barpolar"
           }
          ],
          "carpet": [
           {
            "aaxis": {
             "endlinecolor": "#2a3f5f",
             "gridcolor": "white",
             "linecolor": "white",
             "minorgridcolor": "white",
             "startlinecolor": "#2a3f5f"
            },
            "baxis": {
             "endlinecolor": "#2a3f5f",
             "gridcolor": "white",
             "linecolor": "white",
             "minorgridcolor": "white",
             "startlinecolor": "#2a3f5f"
            },
            "type": "carpet"
           }
          ],
          "choropleth": [
           {
            "colorbar": {
             "outlinewidth": 0,
             "ticks": ""
            },
            "type": "choropleth"
           }
          ],
          "contour": [
           {
            "colorbar": {
             "outlinewidth": 0,
             "ticks": ""
            },
            "colorscale": [
             [
              0,
              "#0d0887"
             ],
             [
              0.1111111111111111,
              "#46039f"
             ],
             [
              0.2222222222222222,
              "#7201a8"
             ],
             [
              0.3333333333333333,
              "#9c179e"
             ],
             [
              0.4444444444444444,
              "#bd3786"
             ],
             [
              0.5555555555555556,
              "#d8576b"
             ],
             [
              0.6666666666666666,
              "#ed7953"
             ],
             [
              0.7777777777777778,
              "#fb9f3a"
             ],
             [
              0.8888888888888888,
              "#fdca26"
             ],
             [
              1,
              "#f0f921"
             ]
            ],
            "type": "contour"
           }
          ],
          "contourcarpet": [
           {
            "colorbar": {
             "outlinewidth": 0,
             "ticks": ""
            },
            "type": "contourcarpet"
           }
          ],
          "heatmap": [
           {
            "colorbar": {
             "outlinewidth": 0,
             "ticks": ""
            },
            "colorscale": [
             [
              0,
              "#0d0887"
             ],
             [
              0.1111111111111111,
              "#46039f"
             ],
             [
              0.2222222222222222,
              "#7201a8"
             ],
             [
              0.3333333333333333,
              "#9c179e"
             ],
             [
              0.4444444444444444,
              "#bd3786"
             ],
             [
              0.5555555555555556,
              "#d8576b"
             ],
             [
              0.6666666666666666,
              "#ed7953"
             ],
             [
              0.7777777777777778,
              "#fb9f3a"
             ],
             [
              0.8888888888888888,
              "#fdca26"
             ],
             [
              1,
              "#f0f921"
             ]
            ],
            "type": "heatmap"
           }
          ],
          "heatmapgl": [
           {
            "colorbar": {
             "outlinewidth": 0,
             "ticks": ""
            },
            "colorscale": [
             [
              0,
              "#0d0887"
             ],
             [
              0.1111111111111111,
              "#46039f"
             ],
             [
              0.2222222222222222,
              "#7201a8"
             ],
             [
              0.3333333333333333,
              "#9c179e"
             ],
             [
              0.4444444444444444,
              "#bd3786"
             ],
             [
              0.5555555555555556,
              "#d8576b"
             ],
             [
              0.6666666666666666,
              "#ed7953"
             ],
             [
              0.7777777777777778,
              "#fb9f3a"
             ],
             [
              0.8888888888888888,
              "#fdca26"
             ],
             [
              1,
              "#f0f921"
             ]
            ],
            "type": "heatmapgl"
           }
          ],
          "histogram": [
           {
            "marker": {
             "pattern": {
              "fillmode": "overlay",
              "size": 10,
              "solidity": 0.2
             }
            },
            "type": "histogram"
           }
          ],
          "histogram2d": [
           {
            "colorbar": {
             "outlinewidth": 0,
             "ticks": ""
            },
            "colorscale": [
             [
              0,
              "#0d0887"
             ],
             [
              0.1111111111111111,
              "#46039f"
             ],
             [
              0.2222222222222222,
              "#7201a8"
             ],
             [
              0.3333333333333333,
              "#9c179e"
             ],
             [
              0.4444444444444444,
              "#bd3786"
             ],
             [
              0.5555555555555556,
              "#d8576b"
             ],
             [
              0.6666666666666666,
              "#ed7953"
             ],
             [
              0.7777777777777778,
              "#fb9f3a"
             ],
             [
              0.8888888888888888,
              "#fdca26"
             ],
             [
              1,
              "#f0f921"
             ]
            ],
            "type": "histogram2d"
           }
          ],
          "histogram2dcontour": [
           {
            "colorbar": {
             "outlinewidth": 0,
             "ticks": ""
            },
            "colorscale": [
             [
              0,
              "#0d0887"
             ],
             [
              0.1111111111111111,
              "#46039f"
             ],
             [
              0.2222222222222222,
              "#7201a8"
             ],
             [
              0.3333333333333333,
              "#9c179e"
             ],
             [
              0.4444444444444444,
              "#bd3786"
             ],
             [
              0.5555555555555556,
              "#d8576b"
             ],
             [
              0.6666666666666666,
              "#ed7953"
             ],
             [
              0.7777777777777778,
              "#fb9f3a"
             ],
             [
              0.8888888888888888,
              "#fdca26"
             ],
             [
              1,
              "#f0f921"
             ]
            ],
            "type": "histogram2dcontour"
           }
          ],
          "mesh3d": [
           {
            "colorbar": {
             "outlinewidth": 0,
             "ticks": ""
            },
            "type": "mesh3d"
           }
          ],
          "parcoords": [
           {
            "line": {
             "colorbar": {
              "outlinewidth": 0,
              "ticks": ""
             }
            },
            "type": "parcoords"
           }
          ],
          "pie": [
           {
            "automargin": true,
            "type": "pie"
           }
          ],
          "scatter": [
           {
            "fillpattern": {
             "fillmode": "overlay",
             "size": 10,
             "solidity": 0.2
            },
            "type": "scatter"
           }
          ],
          "scatter3d": [
           {
            "line": {
             "colorbar": {
              "outlinewidth": 0,
              "ticks": ""
             }
            },
            "marker": {
             "colorbar": {
              "outlinewidth": 0,
              "ticks": ""
             }
            },
            "type": "scatter3d"
           }
          ],
          "scattercarpet": [
           {
            "marker": {
             "colorbar": {
              "outlinewidth": 0,
              "ticks": ""
             }
            },
            "type": "scattercarpet"
           }
          ],
          "scattergeo": [
           {
            "marker": {
             "colorbar": {
              "outlinewidth": 0,
              "ticks": ""
             }
            },
            "type": "scattergeo"
           }
          ],
          "scattergl": [
           {
            "marker": {
             "colorbar": {
              "outlinewidth": 0,
              "ticks": ""
             }
            },
            "type": "scattergl"
           }
          ],
          "scattermapbox": [
           {
            "marker": {
             "colorbar": {
              "outlinewidth": 0,
              "ticks": ""
             }
            },
            "type": "scattermapbox"
           }
          ],
          "scatterpolar": [
           {
            "marker": {
             "colorbar": {
              "outlinewidth": 0,
              "ticks": ""
             }
            },
            "type": "scatterpolar"
           }
          ],
          "scatterpolargl": [
           {
            "marker": {
             "colorbar": {
              "outlinewidth": 0,
              "ticks": ""
             }
            },
            "type": "scatterpolargl"
           }
          ],
          "scatterternary": [
           {
            "marker": {
             "colorbar": {
              "outlinewidth": 0,
              "ticks": ""
             }
            },
            "type": "scatterternary"
           }
          ],
          "surface": [
           {
            "colorbar": {
             "outlinewidth": 0,
             "ticks": ""
            },
            "colorscale": [
             [
              0,
              "#0d0887"
             ],
             [
              0.1111111111111111,
              "#46039f"
             ],
             [
              0.2222222222222222,
              "#7201a8"
             ],
             [
              0.3333333333333333,
              "#9c179e"
             ],
             [
              0.4444444444444444,
              "#bd3786"
             ],
             [
              0.5555555555555556,
              "#d8576b"
             ],
             [
              0.6666666666666666,
              "#ed7953"
             ],
             [
              0.7777777777777778,
              "#fb9f3a"
             ],
             [
              0.8888888888888888,
              "#fdca26"
             ],
             [
              1,
              "#f0f921"
             ]
            ],
            "type": "surface"
           }
          ],
          "table": [
           {
            "cells": {
             "fill": {
              "color": "#EBF0F8"
             },
             "line": {
              "color": "white"
             }
            },
            "header": {
             "fill": {
              "color": "#C8D4E3"
             },
             "line": {
              "color": "white"
             }
            },
            "type": "table"
           }
          ]
         },
         "layout": {
          "annotationdefaults": {
           "arrowcolor": "#2a3f5f",
           "arrowhead": 0,
           "arrowwidth": 1
          },
          "autotypenumbers": "strict",
          "coloraxis": {
           "colorbar": {
            "outlinewidth": 0,
            "ticks": ""
           }
          },
          "colorscale": {
           "diverging": [
            [
             0,
             "#8e0152"
            ],
            [
             0.1,
             "#c51b7d"
            ],
            [
             0.2,
             "#de77ae"
            ],
            [
             0.3,
             "#f1b6da"
            ],
            [
             0.4,
             "#fde0ef"
            ],
            [
             0.5,
             "#f7f7f7"
            ],
            [
             0.6,
             "#e6f5d0"
            ],
            [
             0.7,
             "#b8e186"
            ],
            [
             0.8,
             "#7fbc41"
            ],
            [
             0.9,
             "#4d9221"
            ],
            [
             1,
             "#276419"
            ]
           ],
           "sequential": [
            [
             0,
             "#0d0887"
            ],
            [
             0.1111111111111111,
             "#46039f"
            ],
            [
             0.2222222222222222,
             "#7201a8"
            ],
            [
             0.3333333333333333,
             "#9c179e"
            ],
            [
             0.4444444444444444,
             "#bd3786"
            ],
            [
             0.5555555555555556,
             "#d8576b"
            ],
            [
             0.6666666666666666,
             "#ed7953"
            ],
            [
             0.7777777777777778,
             "#fb9f3a"
            ],
            [
             0.8888888888888888,
             "#fdca26"
            ],
            [
             1,
             "#f0f921"
            ]
           ],
           "sequentialminus": [
            [
             0,
             "#0d0887"
            ],
            [
             0.1111111111111111,
             "#46039f"
            ],
            [
             0.2222222222222222,
             "#7201a8"
            ],
            [
             0.3333333333333333,
             "#9c179e"
            ],
            [
             0.4444444444444444,
             "#bd3786"
            ],
            [
             0.5555555555555556,
             "#d8576b"
            ],
            [
             0.6666666666666666,
             "#ed7953"
            ],
            [
             0.7777777777777778,
             "#fb9f3a"
            ],
            [
             0.8888888888888888,
             "#fdca26"
            ],
            [
             1,
             "#f0f921"
            ]
           ]
          },
          "colorway": [
           "#636efa",
           "#EF553B",
           "#00cc96",
           "#ab63fa",
           "#FFA15A",
           "#19d3f3",
           "#FF6692",
           "#B6E880",
           "#FF97FF",
           "#FECB52"
          ],
          "font": {
           "color": "#2a3f5f"
          },
          "geo": {
           "bgcolor": "white",
           "lakecolor": "white",
           "landcolor": "#E5ECF6",
           "showlakes": true,
           "showland": true,
           "subunitcolor": "white"
          },
          "hoverlabel": {
           "align": "left"
          },
          "hovermode": "closest",
          "mapbox": {
           "style": "light"
          },
          "paper_bgcolor": "white",
          "plot_bgcolor": "#E5ECF6",
          "polar": {
           "angularaxis": {
            "gridcolor": "white",
            "linecolor": "white",
            "ticks": ""
           },
           "bgcolor": "#E5ECF6",
           "radialaxis": {
            "gridcolor": "white",
            "linecolor": "white",
            "ticks": ""
           }
          },
          "scene": {
           "xaxis": {
            "backgroundcolor": "#E5ECF6",
            "gridcolor": "white",
            "gridwidth": 2,
            "linecolor": "white",
            "showbackground": true,
            "ticks": "",
            "zerolinecolor": "white"
           },
           "yaxis": {
            "backgroundcolor": "#E5ECF6",
            "gridcolor": "white",
            "gridwidth": 2,
            "linecolor": "white",
            "showbackground": true,
            "ticks": "",
            "zerolinecolor": "white"
           },
           "zaxis": {
            "backgroundcolor": "#E5ECF6",
            "gridcolor": "white",
            "gridwidth": 2,
            "linecolor": "white",
            "showbackground": true,
            "ticks": "",
            "zerolinecolor": "white"
           }
          },
          "shapedefaults": {
           "line": {
            "color": "#2a3f5f"
           }
          },
          "ternary": {
           "aaxis": {
            "gridcolor": "white",
            "linecolor": "white",
            "ticks": ""
           },
           "baxis": {
            "gridcolor": "white",
            "linecolor": "white",
            "ticks": ""
           },
           "bgcolor": "#E5ECF6",
           "caxis": {
            "gridcolor": "white",
            "linecolor": "white",
            "ticks": ""
           }
          },
          "title": {
           "x": 0.05
          },
          "xaxis": {
           "automargin": true,
           "gridcolor": "white",
           "linecolor": "white",
           "ticks": "",
           "title": {
            "standoff": 15
           },
           "zerolinecolor": "white",
           "zerolinewidth": 2
          },
          "yaxis": {
           "automargin": true,
           "gridcolor": "white",
           "linecolor": "white",
           "ticks": "",
           "title": {
            "standoff": 15
           },
           "zerolinecolor": "white",
           "zerolinewidth": 2
          }
         }
        },
        "title": {
         "text": "Comparing Average Ratings of Beers by Beer style"
        },
        "yaxis": {
         "range": [
          0.9,
          1.2
         ],
         "title": {
          "text": "Average Rating (Normalized)"
         }
        }
       }
      }
     },
     "metadata": {},
     "output_type": "display_data"
    }
   ],
   "source": [
    "# make the plot interactive\n",
    "fig = go.Figure()\n",
    "\n",
    "fig.add_trace(go.Bar(\n",
    "    x=cfm_ratings_by_style_top.index,\n",
    "    y=cfm_ratings_by_style_top[\"norm_rating\"].values,\n",
    "    name='Conformist',\n",
    "    orientation='v',\n",
    "    marker_color='#4477AA'\n",
    "))\n",
    "fig.add_trace(go.Bar(\n",
    "    x=exp_ratings_by_style_top.index,\n",
    "    y=exp_ratings_by_style_top[\"norm_rating\"].values,\n",
    "    name='Expert-like',\n",
    "    orientation='v',\n",
    "    marker_color='#CCBB44'\n",
    "))\n",
    "fig.add_trace(go.Bar(\n",
    "    x=xpl_ratings_by_style_top.index,\n",
    "    y=xpl_ratings_by_style_top[\"norm_rating\"].values,\n",
    "    name='Explorer',\n",
    "    orientation='v',\n",
    "    marker_color='#228833'\n",
    "))\n",
    "fig.add_trace(go.Bar(\n",
    "    x=adv_ratings_by_style_top.index,\n",
    "    y=adv_ratings_by_style_top[\"norm_rating\"].values,\n",
    "    name='Adventurer',\n",
    "    orientation='v',\n",
    "    marker_color='#AA3377'\n",
    "))\n",
    "\n",
    "fig.add_trace(go.Bar(\n",
    "    x=overall_ratings_by_style_top.index,\n",
    "    y=overall_ratings_by_style_top[\"norm_rating\"].values,\n",
    "    name='Overall',\n",
    "    orientation='v',\n",
    "    marker_color='#777777'\n",
    "))\n",
    "\n",
    "# set y axis to start at 0.9 and end at 1.2\n",
    "fig.update_yaxes(range=[0.9, 1.2])\n",
    "\n",
    "# make plot transparent\n",
    "fig.update_layout(paper_bgcolor='rgba(0,0,0,0)', plot_bgcolor='rgba(0,0,0,0)')\n",
    "\n",
    "# set the y-axis to be the percentage of ratings\n",
    "fig.update_layout(yaxis_title=\"Average Rating (Normalized)\")\n",
    "\n",
    "# set the title\n",
    "fig.update_layout(title_text=\"Comparing Average Ratings of Beers by Beer style\")\n",
    "\n",
    "# Change the bar mode\n",
    "fig.update_layout(barmode='group')\n",
    "\n",
    "# set lines using axhline\n",
    "fig.add_hline(y=1, line_width=1.5, line_dash=\"dash\", line_color=\"black\")\n",
    "\n",
    "\n",
    "# save the plot to html\n",
    "fig.write_html(\"top_liked_beer_styles.html\")\n",
    "\n",
    "# show the plot\n",
    "fig.show()\n"
   ]
  },
  {
   "cell_type": "markdown",
   "metadata": {},
   "source": [
    "### Analysis:\n",
    "Conformist, explorers and expert-like rate style of beers similarly compared to their average rating. It seems like they all agree that \"Geuze\", a belgian style of beer, is the best style overall.  \n",
    "The only category that doesn't agree with this consensus is the adventurers. The Gueuzes are ranked 11 in their ranking. Their prefered style is quadrupel, which is also belgian and it's not the most common type of beer (at least for Americans)."
   ]
  },
  {
   "cell_type": "code",
   "execution_count": 169,
   "metadata": {},
   "outputs": [
    {
     "data": {
      "application/vnd.plotly.v1+json": {
       "config": {
        "plotlyServerURL": "https://plot.ly"
       },
       "data": [
        {
         "marker": {
          "color": "#AA3377"
         },
         "name": "Adventurer",
         "type": "bar",
         "x": [
          "Light Lager",
          "American Malt Liquor",
          "Low Alcohol Beer",
          "American Adjunct Lager",
          "Happoshu",
          "Euro Strong Lager",
          "Japanese Rice Lager",
          "Euro Pale Lager",
          "Kvass",
          "American Pale Lager"
         ],
         "y": [
          0.646150272048032,
          0.6909260736278362,
          0.7075773408393952,
          0.7626992900292439,
          0.8020744554322238,
          0.8181770515204378,
          0.8297408942819127,
          0.8730350869231845,
          0.8779614110586379,
          0.9161674216923835
         ]
        }
       ],
       "layout": {
        "barmode": "group",
        "paper_bgcolor": "rgba(0,0,0,0)",
        "plot_bgcolor": "rgba(0,0,0,0)",
        "shapes": [
         {
          "line": {
           "color": "black",
           "dash": "dash",
           "width": 1.5
          },
          "type": "line",
          "x0": 0,
          "x1": 1,
          "xref": "x domain",
          "y0": 1,
          "y1": 1,
          "yref": "y"
         }
        ],
        "template": {
         "data": {
          "bar": [
           {
            "error_x": {
             "color": "#2a3f5f"
            },
            "error_y": {
             "color": "#2a3f5f"
            },
            "marker": {
             "line": {
              "color": "#E5ECF6",
              "width": 0.5
             },
             "pattern": {
              "fillmode": "overlay",
              "size": 10,
              "solidity": 0.2
             }
            },
            "type": "bar"
           }
          ],
          "barpolar": [
           {
            "marker": {
             "line": {
              "color": "#E5ECF6",
              "width": 0.5
             },
             "pattern": {
              "fillmode": "overlay",
              "size": 10,
              "solidity": 0.2
             }
            },
            "type": "barpolar"
           }
          ],
          "carpet": [
           {
            "aaxis": {
             "endlinecolor": "#2a3f5f",
             "gridcolor": "white",
             "linecolor": "white",
             "minorgridcolor": "white",
             "startlinecolor": "#2a3f5f"
            },
            "baxis": {
             "endlinecolor": "#2a3f5f",
             "gridcolor": "white",
             "linecolor": "white",
             "minorgridcolor": "white",
             "startlinecolor": "#2a3f5f"
            },
            "type": "carpet"
           }
          ],
          "choropleth": [
           {
            "colorbar": {
             "outlinewidth": 0,
             "ticks": ""
            },
            "type": "choropleth"
           }
          ],
          "contour": [
           {
            "colorbar": {
             "outlinewidth": 0,
             "ticks": ""
            },
            "colorscale": [
             [
              0,
              "#0d0887"
             ],
             [
              0.1111111111111111,
              "#46039f"
             ],
             [
              0.2222222222222222,
              "#7201a8"
             ],
             [
              0.3333333333333333,
              "#9c179e"
             ],
             [
              0.4444444444444444,
              "#bd3786"
             ],
             [
              0.5555555555555556,
              "#d8576b"
             ],
             [
              0.6666666666666666,
              "#ed7953"
             ],
             [
              0.7777777777777778,
              "#fb9f3a"
             ],
             [
              0.8888888888888888,
              "#fdca26"
             ],
             [
              1,
              "#f0f921"
             ]
            ],
            "type": "contour"
           }
          ],
          "contourcarpet": [
           {
            "colorbar": {
             "outlinewidth": 0,
             "ticks": ""
            },
            "type": "contourcarpet"
           }
          ],
          "heatmap": [
           {
            "colorbar": {
             "outlinewidth": 0,
             "ticks": ""
            },
            "colorscale": [
             [
              0,
              "#0d0887"
             ],
             [
              0.1111111111111111,
              "#46039f"
             ],
             [
              0.2222222222222222,
              "#7201a8"
             ],
             [
              0.3333333333333333,
              "#9c179e"
             ],
             [
              0.4444444444444444,
              "#bd3786"
             ],
             [
              0.5555555555555556,
              "#d8576b"
             ],
             [
              0.6666666666666666,
              "#ed7953"
             ],
             [
              0.7777777777777778,
              "#fb9f3a"
             ],
             [
              0.8888888888888888,
              "#fdca26"
             ],
             [
              1,
              "#f0f921"
             ]
            ],
            "type": "heatmap"
           }
          ],
          "heatmapgl": [
           {
            "colorbar": {
             "outlinewidth": 0,
             "ticks": ""
            },
            "colorscale": [
             [
              0,
              "#0d0887"
             ],
             [
              0.1111111111111111,
              "#46039f"
             ],
             [
              0.2222222222222222,
              "#7201a8"
             ],
             [
              0.3333333333333333,
              "#9c179e"
             ],
             [
              0.4444444444444444,
              "#bd3786"
             ],
             [
              0.5555555555555556,
              "#d8576b"
             ],
             [
              0.6666666666666666,
              "#ed7953"
             ],
             [
              0.7777777777777778,
              "#fb9f3a"
             ],
             [
              0.8888888888888888,
              "#fdca26"
             ],
             [
              1,
              "#f0f921"
             ]
            ],
            "type": "heatmapgl"
           }
          ],
          "histogram": [
           {
            "marker": {
             "pattern": {
              "fillmode": "overlay",
              "size": 10,
              "solidity": 0.2
             }
            },
            "type": "histogram"
           }
          ],
          "histogram2d": [
           {
            "colorbar": {
             "outlinewidth": 0,
             "ticks": ""
            },
            "colorscale": [
             [
              0,
              "#0d0887"
             ],
             [
              0.1111111111111111,
              "#46039f"
             ],
             [
              0.2222222222222222,
              "#7201a8"
             ],
             [
              0.3333333333333333,
              "#9c179e"
             ],
             [
              0.4444444444444444,
              "#bd3786"
             ],
             [
              0.5555555555555556,
              "#d8576b"
             ],
             [
              0.6666666666666666,
              "#ed7953"
             ],
             [
              0.7777777777777778,
              "#fb9f3a"
             ],
             [
              0.8888888888888888,
              "#fdca26"
             ],
             [
              1,
              "#f0f921"
             ]
            ],
            "type": "histogram2d"
           }
          ],
          "histogram2dcontour": [
           {
            "colorbar": {
             "outlinewidth": 0,
             "ticks": ""
            },
            "colorscale": [
             [
              0,
              "#0d0887"
             ],
             [
              0.1111111111111111,
              "#46039f"
             ],
             [
              0.2222222222222222,
              "#7201a8"
             ],
             [
              0.3333333333333333,
              "#9c179e"
             ],
             [
              0.4444444444444444,
              "#bd3786"
             ],
             [
              0.5555555555555556,
              "#d8576b"
             ],
             [
              0.6666666666666666,
              "#ed7953"
             ],
             [
              0.7777777777777778,
              "#fb9f3a"
             ],
             [
              0.8888888888888888,
              "#fdca26"
             ],
             [
              1,
              "#f0f921"
             ]
            ],
            "type": "histogram2dcontour"
           }
          ],
          "mesh3d": [
           {
            "colorbar": {
             "outlinewidth": 0,
             "ticks": ""
            },
            "type": "mesh3d"
           }
          ],
          "parcoords": [
           {
            "line": {
             "colorbar": {
              "outlinewidth": 0,
              "ticks": ""
             }
            },
            "type": "parcoords"
           }
          ],
          "pie": [
           {
            "automargin": true,
            "type": "pie"
           }
          ],
          "scatter": [
           {
            "fillpattern": {
             "fillmode": "overlay",
             "size": 10,
             "solidity": 0.2
            },
            "type": "scatter"
           }
          ],
          "scatter3d": [
           {
            "line": {
             "colorbar": {
              "outlinewidth": 0,
              "ticks": ""
             }
            },
            "marker": {
             "colorbar": {
              "outlinewidth": 0,
              "ticks": ""
             }
            },
            "type": "scatter3d"
           }
          ],
          "scattercarpet": [
           {
            "marker": {
             "colorbar": {
              "outlinewidth": 0,
              "ticks": ""
             }
            },
            "type": "scattercarpet"
           }
          ],
          "scattergeo": [
           {
            "marker": {
             "colorbar": {
              "outlinewidth": 0,
              "ticks": ""
             }
            },
            "type": "scattergeo"
           }
          ],
          "scattergl": [
           {
            "marker": {
             "colorbar": {
              "outlinewidth": 0,
              "ticks": ""
             }
            },
            "type": "scattergl"
           }
          ],
          "scattermapbox": [
           {
            "marker": {
             "colorbar": {
              "outlinewidth": 0,
              "ticks": ""
             }
            },
            "type": "scattermapbox"
           }
          ],
          "scatterpolar": [
           {
            "marker": {
             "colorbar": {
              "outlinewidth": 0,
              "ticks": ""
             }
            },
            "type": "scatterpolar"
           }
          ],
          "scatterpolargl": [
           {
            "marker": {
             "colorbar": {
              "outlinewidth": 0,
              "ticks": ""
             }
            },
            "type": "scatterpolargl"
           }
          ],
          "scatterternary": [
           {
            "marker": {
             "colorbar": {
              "outlinewidth": 0,
              "ticks": ""
             }
            },
            "type": "scatterternary"
           }
          ],
          "surface": [
           {
            "colorbar": {
             "outlinewidth": 0,
             "ticks": ""
            },
            "colorscale": [
             [
              0,
              "#0d0887"
             ],
             [
              0.1111111111111111,
              "#46039f"
             ],
             [
              0.2222222222222222,
              "#7201a8"
             ],
             [
              0.3333333333333333,
              "#9c179e"
             ],
             [
              0.4444444444444444,
              "#bd3786"
             ],
             [
              0.5555555555555556,
              "#d8576b"
             ],
             [
              0.6666666666666666,
              "#ed7953"
             ],
             [
              0.7777777777777778,
              "#fb9f3a"
             ],
             [
              0.8888888888888888,
              "#fdca26"
             ],
             [
              1,
              "#f0f921"
             ]
            ],
            "type": "surface"
           }
          ],
          "table": [
           {
            "cells": {
             "fill": {
              "color": "#EBF0F8"
             },
             "line": {
              "color": "white"
             }
            },
            "header": {
             "fill": {
              "color": "#C8D4E3"
             },
             "line": {
              "color": "white"
             }
            },
            "type": "table"
           }
          ]
         },
         "layout": {
          "annotationdefaults": {
           "arrowcolor": "#2a3f5f",
           "arrowhead": 0,
           "arrowwidth": 1
          },
          "autotypenumbers": "strict",
          "coloraxis": {
           "colorbar": {
            "outlinewidth": 0,
            "ticks": ""
           }
          },
          "colorscale": {
           "diverging": [
            [
             0,
             "#8e0152"
            ],
            [
             0.1,
             "#c51b7d"
            ],
            [
             0.2,
             "#de77ae"
            ],
            [
             0.3,
             "#f1b6da"
            ],
            [
             0.4,
             "#fde0ef"
            ],
            [
             0.5,
             "#f7f7f7"
            ],
            [
             0.6,
             "#e6f5d0"
            ],
            [
             0.7,
             "#b8e186"
            ],
            [
             0.8,
             "#7fbc41"
            ],
            [
             0.9,
             "#4d9221"
            ],
            [
             1,
             "#276419"
            ]
           ],
           "sequential": [
            [
             0,
             "#0d0887"
            ],
            [
             0.1111111111111111,
             "#46039f"
            ],
            [
             0.2222222222222222,
             "#7201a8"
            ],
            [
             0.3333333333333333,
             "#9c179e"
            ],
            [
             0.4444444444444444,
             "#bd3786"
            ],
            [
             0.5555555555555556,
             "#d8576b"
            ],
            [
             0.6666666666666666,
             "#ed7953"
            ],
            [
             0.7777777777777778,
             "#fb9f3a"
            ],
            [
             0.8888888888888888,
             "#fdca26"
            ],
            [
             1,
             "#f0f921"
            ]
           ],
           "sequentialminus": [
            [
             0,
             "#0d0887"
            ],
            [
             0.1111111111111111,
             "#46039f"
            ],
            [
             0.2222222222222222,
             "#7201a8"
            ],
            [
             0.3333333333333333,
             "#9c179e"
            ],
            [
             0.4444444444444444,
             "#bd3786"
            ],
            [
             0.5555555555555556,
             "#d8576b"
            ],
            [
             0.6666666666666666,
             "#ed7953"
            ],
            [
             0.7777777777777778,
             "#fb9f3a"
            ],
            [
             0.8888888888888888,
             "#fdca26"
            ],
            [
             1,
             "#f0f921"
            ]
           ]
          },
          "colorway": [
           "#636efa",
           "#EF553B",
           "#00cc96",
           "#ab63fa",
           "#FFA15A",
           "#19d3f3",
           "#FF6692",
           "#B6E880",
           "#FF97FF",
           "#FECB52"
          ],
          "font": {
           "color": "#2a3f5f"
          },
          "geo": {
           "bgcolor": "white",
           "lakecolor": "white",
           "landcolor": "#E5ECF6",
           "showlakes": true,
           "showland": true,
           "subunitcolor": "white"
          },
          "hoverlabel": {
           "align": "left"
          },
          "hovermode": "closest",
          "mapbox": {
           "style": "light"
          },
          "paper_bgcolor": "white",
          "plot_bgcolor": "#E5ECF6",
          "polar": {
           "angularaxis": {
            "gridcolor": "white",
            "linecolor": "white",
            "ticks": ""
           },
           "bgcolor": "#E5ECF6",
           "radialaxis": {
            "gridcolor": "white",
            "linecolor": "white",
            "ticks": ""
           }
          },
          "scene": {
           "xaxis": {
            "backgroundcolor": "#E5ECF6",
            "gridcolor": "white",
            "gridwidth": 2,
            "linecolor": "white",
            "showbackground": true,
            "ticks": "",
            "zerolinecolor": "white"
           },
           "yaxis": {
            "backgroundcolor": "#E5ECF6",
            "gridcolor": "white",
            "gridwidth": 2,
            "linecolor": "white",
            "showbackground": true,
            "ticks": "",
            "zerolinecolor": "white"
           },
           "zaxis": {
            "backgroundcolor": "#E5ECF6",
            "gridcolor": "white",
            "gridwidth": 2,
            "linecolor": "white",
            "showbackground": true,
            "ticks": "",
            "zerolinecolor": "white"
           }
          },
          "shapedefaults": {
           "line": {
            "color": "#2a3f5f"
           }
          },
          "ternary": {
           "aaxis": {
            "gridcolor": "white",
            "linecolor": "white",
            "ticks": ""
           },
           "baxis": {
            "gridcolor": "white",
            "linecolor": "white",
            "ticks": ""
           },
           "bgcolor": "#E5ECF6",
           "caxis": {
            "gridcolor": "white",
            "linecolor": "white",
            "ticks": ""
           }
          },
          "title": {
           "x": 0.05
          },
          "xaxis": {
           "automargin": true,
           "gridcolor": "white",
           "linecolor": "white",
           "ticks": "",
           "title": {
            "standoff": 15
           },
           "zerolinecolor": "white",
           "zerolinewidth": 2
          },
          "yaxis": {
           "automargin": true,
           "gridcolor": "white",
           "linecolor": "white",
           "ticks": "",
           "title": {
            "standoff": 15
           },
           "zerolinecolor": "white",
           "zerolinewidth": 2
          }
         }
        },
        "title": {
         "text": "10 least liked beers for Adventurers"
        },
        "yaxis": {
         "range": [
          0,
          1.2
         ],
         "title": {
          "text": "Average Rating (Normalized)"
         }
        }
       }
      }
     },
     "metadata": {},
     "output_type": "display_data"
    }
   ],
   "source": [
    "# take 10 least liked beers for adventures\n",
    "adv_ratings_by_style_bottom10 = adv_ratings_by_style.tail(10)\n",
    "\n",
    "# sort in ascending order\n",
    "adv_ratings_by_style_bottom10 = adv_ratings_by_style_bottom10.sort_values(by='rating', ascending=True)\n",
    "\n",
    "# create interactive plot to show the 10 least liked beers for adventures\n",
    "fig = go.Figure()\n",
    "\n",
    "fig.add_trace(go.Bar(\n",
    "    x=adv_ratings_by_style_bottom10.index,\n",
    "    y=adv_ratings_by_style_bottom10[\"norm_rating\"].values,\n",
    "    name='Adventurer',\n",
    "    marker_color='#AA3377'\n",
    "))\n",
    "\n",
    "# make plot transparent\n",
    "fig.update_layout(paper_bgcolor='rgba(0,0,0,0)', plot_bgcolor='rgba(0,0,0,0)')\n",
    "\n",
    "# set the y-axis to be the percentage of ratings\n",
    "fig.update_layout(yaxis_title=\"Average Rating (Normalized)\")\n",
    "\n",
    "# Change the bar mode\n",
    "fig.update_layout(barmode='group', title=\"10 least liked beers for Adventurers\")\n",
    "\n",
    "# fix y axis to start at 0 and end at 1.2\n",
    "fig.update_yaxes(range=[0, 1.2])\n",
    "\n",
    "# set lines using axhline\n",
    "fig.add_hline(y=1, line_width=1.5, line_dash=\"dash\", line_color=\"black\")\n",
    "\n",
    "\n",
    "# save the plot to html\n",
    "fig.write_html(\"adventurer_least_liked_beer_styles.html\")\n",
    "\n",
    "# show the plot\n",
    "fig.show()\n"
   ]
  },
  {
   "cell_type": "markdown",
   "metadata": {},
   "source": [
    "### Analysis:\n",
    "By considering the top 10 worst style of beers according to adventurers, we see that the American Adjunct Lager is present, while being one of the most rated beers. We can also notice other beers that they rate a lot while considering it not good (eg. Euro Pale Lager). \n",
    "But we saw as well that adventurer also rate some popular beers a lot like the very popular American IPA. So they don't only rate beers styles that are considered as bad by them."
   ]
  },
  {
   "cell_type": "markdown",
   "metadata": {},
   "source": [
    "# To which country (country of the beer) the ratings of each category go ?"
   ]
  },
  {
   "cell_type": "markdown",
   "metadata": {},
   "source": [
    "## Where are user of each category comming from ? (is there any difference) ?"
   ]
  },
  {
   "cell_type": "code",
   "execution_count": 27,
   "metadata": {},
   "outputs": [],
   "source": [
    "# use cfm_users, exp_users, xpl_users, adv_users, and overall_users to get countries of users\n",
    "xpl_users_by_country = xpl_users.groupby(\"country\").count()\n",
    "adv_users_by_country = adv_users.groupby(\"country\").count()\n",
    "exp_users_by_country = exp_users.groupby(\"country\").count()\n",
    "cfm_users_by_country = cfm_users.groupby(\"country\").count()\n",
    "overall_users_by_country = scores_ddf.groupby(\"country\").count()\n",
    "\n",
    "# get the top 4 countries for each category\n",
    "xpl_users_by_country_top10 = xpl_users_by_country.sort_values(by=\"uid\", ascending=False).head(4)\n",
    "adv_users_by_country_top10 = adv_users_by_country.sort_values(by=\"uid\", ascending=False).head(4)\n",
    "exp_users_by_country_top10 = exp_users_by_country.sort_values(by=\"uid\", ascending=False).head(4)\n",
    "cfm_users_by_country_top10 = cfm_users_by_country.sort_values(by=\"uid\", ascending=False).head(4)\n",
    "overall_users_by_country_top10 = overall_users_by_country.sort_values(by=\"uid\", ascending=False).head(4)\n",
    "\n",
    "\n"
   ]
  },
  {
   "cell_type": "code",
   "execution_count": 28,
   "metadata": {},
   "outputs": [
    {
     "data": {
      "text/html": [
       "<div>\n",
       "<style scoped>\n",
       "    .dataframe tbody tr th:only-of-type {\n",
       "        vertical-align: middle;\n",
       "    }\n",
       "\n",
       "    .dataframe tbody tr th {\n",
       "        vertical-align: top;\n",
       "    }\n",
       "\n",
       "    .dataframe thead th {\n",
       "        text-align: right;\n",
       "    }\n",
       "</style>\n",
       "<table border=\"1\" class=\"dataframe\">\n",
       "  <thead>\n",
       "    <tr style=\"text-align: right;\">\n",
       "      <th></th>\n",
       "      <th>n_ratings</th>\n",
       "      <th>n_reviews</th>\n",
       "      <th>uid</th>\n",
       "      <th>username</th>\n",
       "      <th>joined</th>\n",
       "      <th>location</th>\n",
       "      <th>cfm_score</th>\n",
       "      <th>exp_score</th>\n",
       "      <th>xpl_score</th>\n",
       "      <th>adv_score</th>\n",
       "      <th>is_cfm</th>\n",
       "      <th>is_exp</th>\n",
       "      <th>is_xpl</th>\n",
       "      <th>is_adv</th>\n",
       "    </tr>\n",
       "    <tr>\n",
       "      <th>country</th>\n",
       "      <th></th>\n",
       "      <th></th>\n",
       "      <th></th>\n",
       "      <th></th>\n",
       "      <th></th>\n",
       "      <th></th>\n",
       "      <th></th>\n",
       "      <th></th>\n",
       "      <th></th>\n",
       "      <th></th>\n",
       "      <th></th>\n",
       "      <th></th>\n",
       "      <th></th>\n",
       "      <th></th>\n",
       "    </tr>\n",
       "  </thead>\n",
       "  <tbody>\n",
       "    <tr>\n",
       "      <th>United States</th>\n",
       "      <td>6820</td>\n",
       "      <td>6820</td>\n",
       "      <td>6820</td>\n",
       "      <td>6820</td>\n",
       "      <td>6820</td>\n",
       "      <td>6820</td>\n",
       "      <td>6820</td>\n",
       "      <td>6820</td>\n",
       "      <td>6820</td>\n",
       "      <td>6820</td>\n",
       "      <td>6820</td>\n",
       "      <td>6820</td>\n",
       "      <td>6820</td>\n",
       "      <td>6820</td>\n",
       "    </tr>\n",
       "    <tr>\n",
       "      <th>Canada</th>\n",
       "      <td>608</td>\n",
       "      <td>608</td>\n",
       "      <td>608</td>\n",
       "      <td>608</td>\n",
       "      <td>608</td>\n",
       "      <td>608</td>\n",
       "      <td>608</td>\n",
       "      <td>608</td>\n",
       "      <td>608</td>\n",
       "      <td>608</td>\n",
       "      <td>608</td>\n",
       "      <td>608</td>\n",
       "      <td>608</td>\n",
       "      <td>608</td>\n",
       "    </tr>\n",
       "    <tr>\n",
       "      <th>England</th>\n",
       "      <td>192</td>\n",
       "      <td>192</td>\n",
       "      <td>192</td>\n",
       "      <td>192</td>\n",
       "      <td>192</td>\n",
       "      <td>192</td>\n",
       "      <td>192</td>\n",
       "      <td>192</td>\n",
       "      <td>192</td>\n",
       "      <td>192</td>\n",
       "      <td>192</td>\n",
       "      <td>192</td>\n",
       "      <td>192</td>\n",
       "      <td>192</td>\n",
       "    </tr>\n",
       "    <tr>\n",
       "      <th>Australia</th>\n",
       "      <td>150</td>\n",
       "      <td>150</td>\n",
       "      <td>150</td>\n",
       "      <td>150</td>\n",
       "      <td>150</td>\n",
       "      <td>150</td>\n",
       "      <td>150</td>\n",
       "      <td>150</td>\n",
       "      <td>150</td>\n",
       "      <td>150</td>\n",
       "      <td>150</td>\n",
       "      <td>150</td>\n",
       "      <td>150</td>\n",
       "      <td>150</td>\n",
       "    </tr>\n",
       "  </tbody>\n",
       "</table>\n",
       "</div>"
      ],
      "text/plain": [
       "               n_ratings  n_reviews   uid  username  joined  location  \\\n",
       "country                                                                 \n",
       "United States       6820       6820  6820      6820    6820      6820   \n",
       "Canada               608        608   608       608     608       608   \n",
       "England              192        192   192       192     192       192   \n",
       "Australia            150        150   150       150     150       150   \n",
       "\n",
       "               cfm_score  exp_score  xpl_score  adv_score  is_cfm  is_exp  \\\n",
       "country                                                                     \n",
       "United States       6820       6820       6820       6820    6820    6820   \n",
       "Canada               608        608        608        608     608     608   \n",
       "England              192        192        192        192     192     192   \n",
       "Australia            150        150        150        150     150     150   \n",
       "\n",
       "               is_xpl  is_adv  \n",
       "country                        \n",
       "United States    6820    6820  \n",
       "Canada            608     608  \n",
       "England           192     192  \n",
       "Australia         150     150  "
      ]
     },
     "execution_count": 28,
     "metadata": {},
     "output_type": "execute_result"
    }
   ],
   "source": [
    "xpl_users_by_country_top10"
   ]
  },
  {
   "cell_type": "code",
   "execution_count": 29,
   "metadata": {},
   "outputs": [
    {
     "data": {
      "application/vnd.plotly.v1+json": {
       "config": {
        "plotlyServerURL": "https://plot.ly"
       },
       "data": [
        {
         "labels": [
          "United States",
          "Canada",
          "England",
          "Australia"
         ],
         "name": "Explorer",
         "type": "pie",
         "values": [
          6820,
          608,
          192,
          150
         ],
         "visible": false
        },
        {
         "labels": [
          "United States",
          "Canada",
          "Australia",
          "England"
         ],
         "name": "Adventurer",
         "type": "pie",
         "values": [
          5154,
          388,
          89,
          80
         ],
         "visible": false
        },
        {
         "labels": [
          "United States",
          "Canada",
          "England",
          "Australia"
         ],
         "name": "Expert-like",
         "type": "pie",
         "values": [
          1633,
          44,
          9,
          4
         ],
         "visible": false
        },
        {
         "labels": [
          "United States",
          "Canada",
          "England",
          "Australia"
         ],
         "name": "Conformist",
         "type": "pie",
         "values": [
          5507,
          165,
          21,
          18
         ],
         "visible": false
        },
        {
         "labels": [
          "United States",
          "Canada",
          "England",
          "Australia"
         ],
         "name": "Overall",
         "type": "pie",
         "values": [
          54957,
          1593,
          329,
          229
         ]
        }
       ],
       "layout": {
        "height": 500,
        "paper_bgcolor": "rgba(0,0,0,0)",
        "plot_bgcolor": "rgba(0,0,0,0)",
        "template": {
         "data": {
          "bar": [
           {
            "error_x": {
             "color": "#2a3f5f"
            },
            "error_y": {
             "color": "#2a3f5f"
            },
            "marker": {
             "line": {
              "color": "#E5ECF6",
              "width": 0.5
             },
             "pattern": {
              "fillmode": "overlay",
              "size": 10,
              "solidity": 0.2
             }
            },
            "type": "bar"
           }
          ],
          "barpolar": [
           {
            "marker": {
             "line": {
              "color": "#E5ECF6",
              "width": 0.5
             },
             "pattern": {
              "fillmode": "overlay",
              "size": 10,
              "solidity": 0.2
             }
            },
            "type": "barpolar"
           }
          ],
          "carpet": [
           {
            "aaxis": {
             "endlinecolor": "#2a3f5f",
             "gridcolor": "white",
             "linecolor": "white",
             "minorgridcolor": "white",
             "startlinecolor": "#2a3f5f"
            },
            "baxis": {
             "endlinecolor": "#2a3f5f",
             "gridcolor": "white",
             "linecolor": "white",
             "minorgridcolor": "white",
             "startlinecolor": "#2a3f5f"
            },
            "type": "carpet"
           }
          ],
          "choropleth": [
           {
            "colorbar": {
             "outlinewidth": 0,
             "ticks": ""
            },
            "type": "choropleth"
           }
          ],
          "contour": [
           {
            "colorbar": {
             "outlinewidth": 0,
             "ticks": ""
            },
            "colorscale": [
             [
              0,
              "#0d0887"
             ],
             [
              0.1111111111111111,
              "#46039f"
             ],
             [
              0.2222222222222222,
              "#7201a8"
             ],
             [
              0.3333333333333333,
              "#9c179e"
             ],
             [
              0.4444444444444444,
              "#bd3786"
             ],
             [
              0.5555555555555556,
              "#d8576b"
             ],
             [
              0.6666666666666666,
              "#ed7953"
             ],
             [
              0.7777777777777778,
              "#fb9f3a"
             ],
             [
              0.8888888888888888,
              "#fdca26"
             ],
             [
              1,
              "#f0f921"
             ]
            ],
            "type": "contour"
           }
          ],
          "contourcarpet": [
           {
            "colorbar": {
             "outlinewidth": 0,
             "ticks": ""
            },
            "type": "contourcarpet"
           }
          ],
          "heatmap": [
           {
            "colorbar": {
             "outlinewidth": 0,
             "ticks": ""
            },
            "colorscale": [
             [
              0,
              "#0d0887"
             ],
             [
              0.1111111111111111,
              "#46039f"
             ],
             [
              0.2222222222222222,
              "#7201a8"
             ],
             [
              0.3333333333333333,
              "#9c179e"
             ],
             [
              0.4444444444444444,
              "#bd3786"
             ],
             [
              0.5555555555555556,
              "#d8576b"
             ],
             [
              0.6666666666666666,
              "#ed7953"
             ],
             [
              0.7777777777777778,
              "#fb9f3a"
             ],
             [
              0.8888888888888888,
              "#fdca26"
             ],
             [
              1,
              "#f0f921"
             ]
            ],
            "type": "heatmap"
           }
          ],
          "heatmapgl": [
           {
            "colorbar": {
             "outlinewidth": 0,
             "ticks": ""
            },
            "colorscale": [
             [
              0,
              "#0d0887"
             ],
             [
              0.1111111111111111,
              "#46039f"
             ],
             [
              0.2222222222222222,
              "#7201a8"
             ],
             [
              0.3333333333333333,
              "#9c179e"
             ],
             [
              0.4444444444444444,
              "#bd3786"
             ],
             [
              0.5555555555555556,
              "#d8576b"
             ],
             [
              0.6666666666666666,
              "#ed7953"
             ],
             [
              0.7777777777777778,
              "#fb9f3a"
             ],
             [
              0.8888888888888888,
              "#fdca26"
             ],
             [
              1,
              "#f0f921"
             ]
            ],
            "type": "heatmapgl"
           }
          ],
          "histogram": [
           {
            "marker": {
             "pattern": {
              "fillmode": "overlay",
              "size": 10,
              "solidity": 0.2
             }
            },
            "type": "histogram"
           }
          ],
          "histogram2d": [
           {
            "colorbar": {
             "outlinewidth": 0,
             "ticks": ""
            },
            "colorscale": [
             [
              0,
              "#0d0887"
             ],
             [
              0.1111111111111111,
              "#46039f"
             ],
             [
              0.2222222222222222,
              "#7201a8"
             ],
             [
              0.3333333333333333,
              "#9c179e"
             ],
             [
              0.4444444444444444,
              "#bd3786"
             ],
             [
              0.5555555555555556,
              "#d8576b"
             ],
             [
              0.6666666666666666,
              "#ed7953"
             ],
             [
              0.7777777777777778,
              "#fb9f3a"
             ],
             [
              0.8888888888888888,
              "#fdca26"
             ],
             [
              1,
              "#f0f921"
             ]
            ],
            "type": "histogram2d"
           }
          ],
          "histogram2dcontour": [
           {
            "colorbar": {
             "outlinewidth": 0,
             "ticks": ""
            },
            "colorscale": [
             [
              0,
              "#0d0887"
             ],
             [
              0.1111111111111111,
              "#46039f"
             ],
             [
              0.2222222222222222,
              "#7201a8"
             ],
             [
              0.3333333333333333,
              "#9c179e"
             ],
             [
              0.4444444444444444,
              "#bd3786"
             ],
             [
              0.5555555555555556,
              "#d8576b"
             ],
             [
              0.6666666666666666,
              "#ed7953"
             ],
             [
              0.7777777777777778,
              "#fb9f3a"
             ],
             [
              0.8888888888888888,
              "#fdca26"
             ],
             [
              1,
              "#f0f921"
             ]
            ],
            "type": "histogram2dcontour"
           }
          ],
          "mesh3d": [
           {
            "colorbar": {
             "outlinewidth": 0,
             "ticks": ""
            },
            "type": "mesh3d"
           }
          ],
          "parcoords": [
           {
            "line": {
             "colorbar": {
              "outlinewidth": 0,
              "ticks": ""
             }
            },
            "type": "parcoords"
           }
          ],
          "pie": [
           {
            "automargin": true,
            "type": "pie"
           }
          ],
          "scatter": [
           {
            "fillpattern": {
             "fillmode": "overlay",
             "size": 10,
             "solidity": 0.2
            },
            "type": "scatter"
           }
          ],
          "scatter3d": [
           {
            "line": {
             "colorbar": {
              "outlinewidth": 0,
              "ticks": ""
             }
            },
            "marker": {
             "colorbar": {
              "outlinewidth": 0,
              "ticks": ""
             }
            },
            "type": "scatter3d"
           }
          ],
          "scattercarpet": [
           {
            "marker": {
             "colorbar": {
              "outlinewidth": 0,
              "ticks": ""
             }
            },
            "type": "scattercarpet"
           }
          ],
          "scattergeo": [
           {
            "marker": {
             "colorbar": {
              "outlinewidth": 0,
              "ticks": ""
             }
            },
            "type": "scattergeo"
           }
          ],
          "scattergl": [
           {
            "marker": {
             "colorbar": {
              "outlinewidth": 0,
              "ticks": ""
             }
            },
            "type": "scattergl"
           }
          ],
          "scattermapbox": [
           {
            "marker": {
             "colorbar": {
              "outlinewidth": 0,
              "ticks": ""
             }
            },
            "type": "scattermapbox"
           }
          ],
          "scatterpolar": [
           {
            "marker": {
             "colorbar": {
              "outlinewidth": 0,
              "ticks": ""
             }
            },
            "type": "scatterpolar"
           }
          ],
          "scatterpolargl": [
           {
            "marker": {
             "colorbar": {
              "outlinewidth": 0,
              "ticks": ""
             }
            },
            "type": "scatterpolargl"
           }
          ],
          "scatterternary": [
           {
            "marker": {
             "colorbar": {
              "outlinewidth": 0,
              "ticks": ""
             }
            },
            "type": "scatterternary"
           }
          ],
          "surface": [
           {
            "colorbar": {
             "outlinewidth": 0,
             "ticks": ""
            },
            "colorscale": [
             [
              0,
              "#0d0887"
             ],
             [
              0.1111111111111111,
              "#46039f"
             ],
             [
              0.2222222222222222,
              "#7201a8"
             ],
             [
              0.3333333333333333,
              "#9c179e"
             ],
             [
              0.4444444444444444,
              "#bd3786"
             ],
             [
              0.5555555555555556,
              "#d8576b"
             ],
             [
              0.6666666666666666,
              "#ed7953"
             ],
             [
              0.7777777777777778,
              "#fb9f3a"
             ],
             [
              0.8888888888888888,
              "#fdca26"
             ],
             [
              1,
              "#f0f921"
             ]
            ],
            "type": "surface"
           }
          ],
          "table": [
           {
            "cells": {
             "fill": {
              "color": "#EBF0F8"
             },
             "line": {
              "color": "white"
             }
            },
            "header": {
             "fill": {
              "color": "#C8D4E3"
             },
             "line": {
              "color": "white"
             }
            },
            "type": "table"
           }
          ]
         },
         "layout": {
          "annotationdefaults": {
           "arrowcolor": "#2a3f5f",
           "arrowhead": 0,
           "arrowwidth": 1
          },
          "autotypenumbers": "strict",
          "coloraxis": {
           "colorbar": {
            "outlinewidth": 0,
            "ticks": ""
           }
          },
          "colorscale": {
           "diverging": [
            [
             0,
             "#8e0152"
            ],
            [
             0.1,
             "#c51b7d"
            ],
            [
             0.2,
             "#de77ae"
            ],
            [
             0.3,
             "#f1b6da"
            ],
            [
             0.4,
             "#fde0ef"
            ],
            [
             0.5,
             "#f7f7f7"
            ],
            [
             0.6,
             "#e6f5d0"
            ],
            [
             0.7,
             "#b8e186"
            ],
            [
             0.8,
             "#7fbc41"
            ],
            [
             0.9,
             "#4d9221"
            ],
            [
             1,
             "#276419"
            ]
           ],
           "sequential": [
            [
             0,
             "#0d0887"
            ],
            [
             0.1111111111111111,
             "#46039f"
            ],
            [
             0.2222222222222222,
             "#7201a8"
            ],
            [
             0.3333333333333333,
             "#9c179e"
            ],
            [
             0.4444444444444444,
             "#bd3786"
            ],
            [
             0.5555555555555556,
             "#d8576b"
            ],
            [
             0.6666666666666666,
             "#ed7953"
            ],
            [
             0.7777777777777778,
             "#fb9f3a"
            ],
            [
             0.8888888888888888,
             "#fdca26"
            ],
            [
             1,
             "#f0f921"
            ]
           ],
           "sequentialminus": [
            [
             0,
             "#0d0887"
            ],
            [
             0.1111111111111111,
             "#46039f"
            ],
            [
             0.2222222222222222,
             "#7201a8"
            ],
            [
             0.3333333333333333,
             "#9c179e"
            ],
            [
             0.4444444444444444,
             "#bd3786"
            ],
            [
             0.5555555555555556,
             "#d8576b"
            ],
            [
             0.6666666666666666,
             "#ed7953"
            ],
            [
             0.7777777777777778,
             "#fb9f3a"
            ],
            [
             0.8888888888888888,
             "#fdca26"
            ],
            [
             1,
             "#f0f921"
            ]
           ]
          },
          "colorway": [
           "#636efa",
           "#EF553B",
           "#00cc96",
           "#ab63fa",
           "#FFA15A",
           "#19d3f3",
           "#FF6692",
           "#B6E880",
           "#FF97FF",
           "#FECB52"
          ],
          "font": {
           "color": "#2a3f5f"
          },
          "geo": {
           "bgcolor": "white",
           "lakecolor": "white",
           "landcolor": "#E5ECF6",
           "showlakes": true,
           "showland": true,
           "subunitcolor": "white"
          },
          "hoverlabel": {
           "align": "left"
          },
          "hovermode": "closest",
          "mapbox": {
           "style": "light"
          },
          "paper_bgcolor": "white",
          "plot_bgcolor": "#E5ECF6",
          "polar": {
           "angularaxis": {
            "gridcolor": "white",
            "linecolor": "white",
            "ticks": ""
           },
           "bgcolor": "#E5ECF6",
           "radialaxis": {
            "gridcolor": "white",
            "linecolor": "white",
            "ticks": ""
           }
          },
          "scene": {
           "xaxis": {
            "backgroundcolor": "#E5ECF6",
            "gridcolor": "white",
            "gridwidth": 2,
            "linecolor": "white",
            "showbackground": true,
            "ticks": "",
            "zerolinecolor": "white"
           },
           "yaxis": {
            "backgroundcolor": "#E5ECF6",
            "gridcolor": "white",
            "gridwidth": 2,
            "linecolor": "white",
            "showbackground": true,
            "ticks": "",
            "zerolinecolor": "white"
           },
           "zaxis": {
            "backgroundcolor": "#E5ECF6",
            "gridcolor": "white",
            "gridwidth": 2,
            "linecolor": "white",
            "showbackground": true,
            "ticks": "",
            "zerolinecolor": "white"
           }
          },
          "shapedefaults": {
           "line": {
            "color": "#2a3f5f"
           }
          },
          "ternary": {
           "aaxis": {
            "gridcolor": "white",
            "linecolor": "white",
            "ticks": ""
           },
           "baxis": {
            "gridcolor": "white",
            "linecolor": "white",
            "ticks": ""
           },
           "bgcolor": "#E5ECF6",
           "caxis": {
            "gridcolor": "white",
            "linecolor": "white",
            "ticks": ""
           }
          },
          "title": {
           "x": 0.05
          },
          "xaxis": {
           "automargin": true,
           "gridcolor": "white",
           "linecolor": "white",
           "ticks": "",
           "title": {
            "standoff": 15
           },
           "zerolinecolor": "white",
           "zerolinewidth": 2
          },
          "yaxis": {
           "automargin": true,
           "gridcolor": "white",
           "linecolor": "white",
           "ticks": "",
           "title": {
            "standoff": 15
           },
           "zerolinecolor": "white",
           "zerolinewidth": 2
          }
         }
        },
        "title": {
         "text": "Top 4 Countries Overall",
         "x": 0
        },
        "updatemenus": [
         {
          "active": 4,
          "buttons": [
           {
            "args": [
             {
              "visible": [
               true,
               false,
               false,
               false,
               false
              ]
             },
             {
              "title": "Top 4 Countries for Explorer"
             }
            ],
            "label": "Explorer",
            "method": "update"
           },
           {
            "args": [
             {
              "visible": [
               false,
               true,
               false,
               false,
               false
              ]
             },
             {
              "title": "Top 4 Countries for Adventurer"
             }
            ],
            "label": "Adventurer",
            "method": "update"
           },
           {
            "args": [
             {
              "visible": [
               false,
               false,
               true,
               false,
               false
              ]
             },
             {
              "title": "Top 4 Countries for Expert-like"
             }
            ],
            "label": "Expert-like",
            "method": "update"
           },
           {
            "args": [
             {
              "visible": [
               false,
               false,
               false,
               true,
               false
              ]
             },
             {
              "title": "Top 4 Countries for Conformist"
             }
            ],
            "label": "Conformist",
            "method": "update"
           },
           {
            "args": [
             {
              "visible": [
               false,
               false,
               false,
               false,
               true
              ]
             },
             {
              "title": "Top 4 Countries Overall"
             }
            ],
            "label": "Overall",
            "method": "update"
           }
          ],
          "x": -0.2,
          "xanchor": "left",
          "y": 1.1,
          "yanchor": "top"
         }
        ],
        "width": 500
       }
      }
     },
     "metadata": {},
     "output_type": "display_data"
    }
   ],
   "source": [
    "# interactive pie chart with plotly for top 5 countries for each category\n",
    "# you can choose a category to show and display the top 5 countries for that category\n",
    "# you can also choose to show all categories at once\n",
    "\n",
    "# make the plot interactive\n",
    "fig = go.Figure()\n",
    "\n",
    "# define the colors for each country blue, red, yellow, green, purple\n",
    "colors = ['#0000FF', '#FF0000', '#FFFF00', '#00FF00', '#800080']\n",
    "\n",
    "fig.add_trace(go.Pie(\n",
    "    labels=xpl_users_by_country_top10.index,\n",
    "    values=xpl_users_by_country_top10[\"uid\"].values,\n",
    "    name='Explorer',\n",
    "    visible=False\n",
    "\n",
    "))\n",
    "fig.add_trace(go.Pie(\n",
    "    labels=adv_users_by_country_top10.index,\n",
    "    values=adv_users_by_country_top10[\"uid\"].values,\n",
    "    name='Adventurer',\n",
    "    visible=False\n",
    "))\n",
    "fig.add_trace(go.Pie(\n",
    "    labels=exp_users_by_country_top10.index,\n",
    "    values=exp_users_by_country_top10[\"uid\"].values,\n",
    "    name='Expert-like',\n",
    "    visible=False\n",
    "))\n",
    "fig.add_trace(go.Pie(\n",
    "    labels=cfm_users_by_country_top10.index,\n",
    "    values=cfm_users_by_country_top10[\"uid\"].values,\n",
    "    name='Conformist',\n",
    "    visible=False\n",
    "))\n",
    "fig.add_trace(go.Pie(\n",
    "    labels=overall_users_by_country_top10.index,\n",
    "    values=overall_users_by_country_top10[\"uid\"].values,\n",
    "    name='Overall'\n",
    "))\n",
    "\n",
    "\n",
    "# create a dropdown menu to choose which category to show\n",
    "# and set default to show Overall\n",
    "fig.update_layout(\n",
    "    updatemenus=[\n",
    "        dict(\n",
    "            x=-0.2,\n",
    "            y=1.1,\n",
    "            yanchor=\"top\",\n",
    "            xanchor=\"left\",\n",
    "            active=4,\n",
    "            buttons=list([\n",
    "                dict(label=\"Explorer\",\n",
    "                        method=\"update\",\n",
    "                        args=[{\"visible\": [True, False, False, False, False]},\n",
    "                            {\"title\": \"Top 4 Countries for Explorer\"}]),\n",
    "                dict(label=\"Adventurer\",\n",
    "                        method=\"update\",\n",
    "                        args=[{\"visible\": [False, True, False, False, False]},\n",
    "                            {\"title\": \"Top 4 Countries for Adventurer\"}]),\n",
    "                dict(label=\"Expert-like\",\n",
    "                        method=\"update\",\n",
    "                        args=[{\"visible\": [False, False, True, False, False]},\n",
    "                            {\"title\": \"Top 4 Countries for Expert-like\"}]),\n",
    "                dict(label=\"Conformist\",\n",
    "                        method=\"update\",\n",
    "                        args=[{\"visible\": [False, False, False, True, False]},\n",
    "                            {\"title\": \"Top 4 Countries for Conformist\"}]),\n",
    "                dict(label=\"Overall\",\n",
    "                        method=\"update\",\n",
    "                        args=[{\"visible\": [False, False, False, False, True]},\n",
    "                            {\"title\": \"Top 4 Countries Overall\"}]),\n",
    "            ]), \n",
    "        )\n",
    "    ])\n",
    "# make plot transparent\n",
    "fig.update_layout(paper_bgcolor='rgba(0,0,0,0)', plot_bgcolor='rgba(0,0,0,0)')\n",
    "\n",
    "# make the plot smaller\n",
    "fig.update_layout(height=500, width=500)\n",
    "\n",
    "\n",
    "\n",
    "fig.update_layout(title_text=\"Top 4 Countries Overall\", title_x=0)\n",
    "\n",
    "fig.show()\n",
    "\n",
    "# save the plot to a html file\n",
    "fig.write_html(\"top_countries_pie_chart.html\")\n"
   ]
  },
  {
   "cell_type": "markdown",
   "metadata": {},
   "source": [
    "Analysis: There are more canadian for explorer and adventurer because they are probably more likely to rate canadian beers (which are more rare)"
   ]
  },
  {
   "cell_type": "markdown",
   "metadata": {},
   "source": [
    "##  To which country do the ratings for each category go to ?"
   ]
  },
  {
   "cell_type": "code",
   "execution_count": 129,
   "metadata": {},
   "outputs": [
    {
     "data": {
      "text/html": [
       "<div>\n",
       "<style scoped>\n",
       "    .dataframe tbody tr th:only-of-type {\n",
       "        vertical-align: middle;\n",
       "    }\n",
       "\n",
       "    .dataframe tbody tr th {\n",
       "        vertical-align: top;\n",
       "    }\n",
       "\n",
       "    .dataframe thead th {\n",
       "        text-align: right;\n",
       "    }\n",
       "</style>\n",
       "<table border=\"1\" class=\"dataframe\">\n",
       "  <thead>\n",
       "    <tr style=\"text-align: right;\">\n",
       "      <th></th>\n",
       "      <th>beer_id</th>\n",
       "      <th>beer_name</th>\n",
       "      <th>brewery_id</th>\n",
       "      <th>brewery_name</th>\n",
       "      <th>style</th>\n",
       "      <th>nbr_ratings</th>\n",
       "      <th>nbr_reviews</th>\n",
       "      <th>avg</th>\n",
       "      <th>ba_score</th>\n",
       "      <th>bros_score</th>\n",
       "      <th>abv</th>\n",
       "      <th>avg_computed</th>\n",
       "      <th>zscore</th>\n",
       "      <th>nbr_matched_valid_ratings</th>\n",
       "      <th>avg_matched_valid_ratings</th>\n",
       "    </tr>\n",
       "  </thead>\n",
       "  <tbody>\n",
       "    <tr>\n",
       "      <th>0</th>\n",
       "      <td>166064</td>\n",
       "      <td>Nashe Moskovskoe</td>\n",
       "      <td>39912</td>\n",
       "      <td>Abdysh-Ata (Абдыш Ата)</td>\n",
       "      <td>Euro Pale Lager</td>\n",
       "      <td>0</td>\n",
       "      <td>0</td>\n",
       "      <td>NaN</td>\n",
       "      <td>NaN</td>\n",
       "      <td>NaN</td>\n",
       "      <td>4.7</td>\n",
       "      <td>NaN</td>\n",
       "      <td>NaN</td>\n",
       "      <td>0</td>\n",
       "      <td>NaN</td>\n",
       "    </tr>\n",
       "    <tr>\n",
       "      <th>1</th>\n",
       "      <td>166065</td>\n",
       "      <td>Nashe Pivovskoe</td>\n",
       "      <td>39912</td>\n",
       "      <td>Abdysh-Ata (Абдыш Ата)</td>\n",
       "      <td>Euro Pale Lager</td>\n",
       "      <td>0</td>\n",
       "      <td>0</td>\n",
       "      <td>NaN</td>\n",
       "      <td>NaN</td>\n",
       "      <td>NaN</td>\n",
       "      <td>3.8</td>\n",
       "      <td>NaN</td>\n",
       "      <td>NaN</td>\n",
       "      <td>0</td>\n",
       "      <td>NaN</td>\n",
       "    </tr>\n",
       "    <tr>\n",
       "      <th>2</th>\n",
       "      <td>166066</td>\n",
       "      <td>Nashe Shakhterskoe</td>\n",
       "      <td>39912</td>\n",
       "      <td>Abdysh-Ata (Абдыш Ата)</td>\n",
       "      <td>Euro Pale Lager</td>\n",
       "      <td>0</td>\n",
       "      <td>0</td>\n",
       "      <td>NaN</td>\n",
       "      <td>NaN</td>\n",
       "      <td>NaN</td>\n",
       "      <td>4.8</td>\n",
       "      <td>NaN</td>\n",
       "      <td>NaN</td>\n",
       "      <td>0</td>\n",
       "      <td>NaN</td>\n",
       "    </tr>\n",
       "    <tr>\n",
       "      <th>3</th>\n",
       "      <td>166067</td>\n",
       "      <td>Nashe Zhigulevskoe</td>\n",
       "      <td>39912</td>\n",
       "      <td>Abdysh-Ata (Абдыш Ата)</td>\n",
       "      <td>Euro Pale Lager</td>\n",
       "      <td>0</td>\n",
       "      <td>0</td>\n",
       "      <td>NaN</td>\n",
       "      <td>NaN</td>\n",
       "      <td>NaN</td>\n",
       "      <td>4.0</td>\n",
       "      <td>NaN</td>\n",
       "      <td>NaN</td>\n",
       "      <td>0</td>\n",
       "      <td>NaN</td>\n",
       "    </tr>\n",
       "    <tr>\n",
       "      <th>4</th>\n",
       "      <td>166063</td>\n",
       "      <td>Zhivoe</td>\n",
       "      <td>39912</td>\n",
       "      <td>Abdysh-Ata (Абдыш Ата)</td>\n",
       "      <td>Euro Pale Lager</td>\n",
       "      <td>0</td>\n",
       "      <td>0</td>\n",
       "      <td>NaN</td>\n",
       "      <td>NaN</td>\n",
       "      <td>NaN</td>\n",
       "      <td>4.5</td>\n",
       "      <td>NaN</td>\n",
       "      <td>NaN</td>\n",
       "      <td>0</td>\n",
       "      <td>NaN</td>\n",
       "    </tr>\n",
       "  </tbody>\n",
       "</table>\n",
       "</div>"
      ],
      "text/plain": [
       "   beer_id           beer_name  brewery_id            brewery_name  \\\n",
       "0   166064    Nashe Moskovskoe       39912  Abdysh-Ata (Абдыш Ата)   \n",
       "1   166065     Nashe Pivovskoe       39912  Abdysh-Ata (Абдыш Ата)   \n",
       "2   166066  Nashe Shakhterskoe       39912  Abdysh-Ata (Абдыш Ата)   \n",
       "3   166067  Nashe Zhigulevskoe       39912  Abdysh-Ata (Абдыш Ата)   \n",
       "4   166063              Zhivoe       39912  Abdysh-Ata (Абдыш Ата)   \n",
       "\n",
       "             style  nbr_ratings  nbr_reviews  avg  ba_score  bros_score  abv  \\\n",
       "0  Euro Pale Lager            0            0  NaN       NaN         NaN  4.7   \n",
       "1  Euro Pale Lager            0            0  NaN       NaN         NaN  3.8   \n",
       "2  Euro Pale Lager            0            0  NaN       NaN         NaN  4.8   \n",
       "3  Euro Pale Lager            0            0  NaN       NaN         NaN  4.0   \n",
       "4  Euro Pale Lager            0            0  NaN       NaN         NaN  4.5   \n",
       "\n",
       "   avg_computed  zscore  nbr_matched_valid_ratings  avg_matched_valid_ratings  \n",
       "0           NaN     NaN                          0                        NaN  \n",
       "1           NaN     NaN                          0                        NaN  \n",
       "2           NaN     NaN                          0                        NaN  \n",
       "3           NaN     NaN                          0                        NaN  \n",
       "4           NaN     NaN                          0                        NaN  "
      ]
     },
     "execution_count": 129,
     "metadata": {},
     "output_type": "execute_result"
    }
   ],
   "source": [
    "BEERS_PATH = \"Data/BeerAdvocate/beers.csv\"\n",
    "beers_df = pd.read_csv(BEERS_PATH)\n",
    "beers_df.head()"
   ]
  },
  {
   "cell_type": "code",
   "execution_count": 130,
   "metadata": {},
   "outputs": [
    {
     "data": {
      "text/html": [
       "<div>\n",
       "<style scoped>\n",
       "    .dataframe tbody tr th:only-of-type {\n",
       "        vertical-align: middle;\n",
       "    }\n",
       "\n",
       "    .dataframe tbody tr th {\n",
       "        vertical-align: top;\n",
       "    }\n",
       "\n",
       "    .dataframe thead th {\n",
       "        text-align: right;\n",
       "    }\n",
       "</style>\n",
       "<table border=\"1\" class=\"dataframe\">\n",
       "  <thead>\n",
       "    <tr style=\"text-align: right;\">\n",
       "      <th></th>\n",
       "      <th>id</th>\n",
       "      <th>location</th>\n",
       "      <th>name</th>\n",
       "      <th>nbr_beers</th>\n",
       "    </tr>\n",
       "  </thead>\n",
       "  <tbody>\n",
       "    <tr>\n",
       "      <th>0</th>\n",
       "      <td>39912</td>\n",
       "      <td>Kyrgyzstan</td>\n",
       "      <td>Abdysh-Ata (Абдыш Ата)</td>\n",
       "      <td>5</td>\n",
       "    </tr>\n",
       "    <tr>\n",
       "      <th>1</th>\n",
       "      <td>39913</td>\n",
       "      <td>Kyrgyzstan</td>\n",
       "      <td>Arpa (АРПА)</td>\n",
       "      <td>1</td>\n",
       "    </tr>\n",
       "    <tr>\n",
       "      <th>2</th>\n",
       "      <td>39914</td>\n",
       "      <td>Kyrgyzstan</td>\n",
       "      <td>Bear Beer</td>\n",
       "      <td>4</td>\n",
       "    </tr>\n",
       "    <tr>\n",
       "      <th>3</th>\n",
       "      <td>39915</td>\n",
       "      <td>Kyrgyzstan</td>\n",
       "      <td>Blonder Pub</td>\n",
       "      <td>4</td>\n",
       "    </tr>\n",
       "    <tr>\n",
       "      <th>4</th>\n",
       "      <td>39916</td>\n",
       "      <td>Kyrgyzstan</td>\n",
       "      <td>Kellers Bier</td>\n",
       "      <td>2</td>\n",
       "    </tr>\n",
       "  </tbody>\n",
       "</table>\n",
       "</div>"
      ],
      "text/plain": [
       "      id    location                    name  nbr_beers\n",
       "0  39912  Kyrgyzstan  Abdysh-Ata (Абдыш Ата)          5\n",
       "1  39913  Kyrgyzstan             Arpa (АРПА)          1\n",
       "2  39914  Kyrgyzstan               Bear Beer          4\n",
       "3  39915  Kyrgyzstan             Blonder Pub          4\n",
       "4  39916  Kyrgyzstan            Kellers Bier          2"
      ]
     },
     "execution_count": 130,
     "metadata": {},
     "output_type": "execute_result"
    }
   ],
   "source": [
    "# load breweries data\n",
    "BREWERIES_PATH = \"Data/BeerAdvocate/breweries.csv\"\n",
    "breweries_df = pd.read_csv(\"Data/BeerAdvocate/breweries.csv\")\n",
    "breweries_df.head()"
   ]
  },
  {
   "cell_type": "code",
   "execution_count": 131,
   "metadata": {},
   "outputs": [
    {
     "data": {
      "text/html": [
       "<div>\n",
       "<style scoped>\n",
       "    .dataframe tbody tr th:only-of-type {\n",
       "        vertical-align: middle;\n",
       "    }\n",
       "\n",
       "    .dataframe tbody tr th {\n",
       "        vertical-align: top;\n",
       "    }\n",
       "\n",
       "    .dataframe thead th {\n",
       "        text-align: right;\n",
       "    }\n",
       "</style>\n",
       "<table border=\"1\" class=\"dataframe\">\n",
       "  <thead>\n",
       "    <tr style=\"text-align: right;\">\n",
       "      <th></th>\n",
       "      <th>beer_id</th>\n",
       "      <th>beer_name</th>\n",
       "      <th>brewery_id</th>\n",
       "      <th>brewery_name</th>\n",
       "      <th>style</th>\n",
       "      <th>nbr_ratings</th>\n",
       "      <th>nbr_reviews</th>\n",
       "      <th>avg</th>\n",
       "      <th>ba_score</th>\n",
       "      <th>bros_score</th>\n",
       "      <th>abv</th>\n",
       "      <th>avg_computed</th>\n",
       "      <th>zscore</th>\n",
       "      <th>nbr_matched_valid_ratings</th>\n",
       "      <th>avg_matched_valid_ratings</th>\n",
       "      <th>id</th>\n",
       "      <th>location</th>\n",
       "      <th>name</th>\n",
       "      <th>nbr_beers</th>\n",
       "    </tr>\n",
       "  </thead>\n",
       "  <tbody>\n",
       "    <tr>\n",
       "      <th>0</th>\n",
       "      <td>166064</td>\n",
       "      <td>Nashe Moskovskoe</td>\n",
       "      <td>39912</td>\n",
       "      <td>Abdysh-Ata (Абдыш Ата)</td>\n",
       "      <td>Euro Pale Lager</td>\n",
       "      <td>0</td>\n",
       "      <td>0</td>\n",
       "      <td>NaN</td>\n",
       "      <td>NaN</td>\n",
       "      <td>NaN</td>\n",
       "      <td>4.7</td>\n",
       "      <td>NaN</td>\n",
       "      <td>NaN</td>\n",
       "      <td>0</td>\n",
       "      <td>NaN</td>\n",
       "      <td>39912</td>\n",
       "      <td>Kyrgyzstan</td>\n",
       "      <td>Abdysh-Ata (Абдыш Ата)</td>\n",
       "      <td>5</td>\n",
       "    </tr>\n",
       "    <tr>\n",
       "      <th>1</th>\n",
       "      <td>166065</td>\n",
       "      <td>Nashe Pivovskoe</td>\n",
       "      <td>39912</td>\n",
       "      <td>Abdysh-Ata (Абдыш Ата)</td>\n",
       "      <td>Euro Pale Lager</td>\n",
       "      <td>0</td>\n",
       "      <td>0</td>\n",
       "      <td>NaN</td>\n",
       "      <td>NaN</td>\n",
       "      <td>NaN</td>\n",
       "      <td>3.8</td>\n",
       "      <td>NaN</td>\n",
       "      <td>NaN</td>\n",
       "      <td>0</td>\n",
       "      <td>NaN</td>\n",
       "      <td>39912</td>\n",
       "      <td>Kyrgyzstan</td>\n",
       "      <td>Abdysh-Ata (Абдыш Ата)</td>\n",
       "      <td>5</td>\n",
       "    </tr>\n",
       "    <tr>\n",
       "      <th>2</th>\n",
       "      <td>166066</td>\n",
       "      <td>Nashe Shakhterskoe</td>\n",
       "      <td>39912</td>\n",
       "      <td>Abdysh-Ata (Абдыш Ата)</td>\n",
       "      <td>Euro Pale Lager</td>\n",
       "      <td>0</td>\n",
       "      <td>0</td>\n",
       "      <td>NaN</td>\n",
       "      <td>NaN</td>\n",
       "      <td>NaN</td>\n",
       "      <td>4.8</td>\n",
       "      <td>NaN</td>\n",
       "      <td>NaN</td>\n",
       "      <td>0</td>\n",
       "      <td>NaN</td>\n",
       "      <td>39912</td>\n",
       "      <td>Kyrgyzstan</td>\n",
       "      <td>Abdysh-Ata (Абдыш Ата)</td>\n",
       "      <td>5</td>\n",
       "    </tr>\n",
       "    <tr>\n",
       "      <th>3</th>\n",
       "      <td>166067</td>\n",
       "      <td>Nashe Zhigulevskoe</td>\n",
       "      <td>39912</td>\n",
       "      <td>Abdysh-Ata (Абдыш Ата)</td>\n",
       "      <td>Euro Pale Lager</td>\n",
       "      <td>0</td>\n",
       "      <td>0</td>\n",
       "      <td>NaN</td>\n",
       "      <td>NaN</td>\n",
       "      <td>NaN</td>\n",
       "      <td>4.0</td>\n",
       "      <td>NaN</td>\n",
       "      <td>NaN</td>\n",
       "      <td>0</td>\n",
       "      <td>NaN</td>\n",
       "      <td>39912</td>\n",
       "      <td>Kyrgyzstan</td>\n",
       "      <td>Abdysh-Ata (Абдыш Ата)</td>\n",
       "      <td>5</td>\n",
       "    </tr>\n",
       "    <tr>\n",
       "      <th>4</th>\n",
       "      <td>166063</td>\n",
       "      <td>Zhivoe</td>\n",
       "      <td>39912</td>\n",
       "      <td>Abdysh-Ata (Абдыш Ата)</td>\n",
       "      <td>Euro Pale Lager</td>\n",
       "      <td>0</td>\n",
       "      <td>0</td>\n",
       "      <td>NaN</td>\n",
       "      <td>NaN</td>\n",
       "      <td>NaN</td>\n",
       "      <td>4.5</td>\n",
       "      <td>NaN</td>\n",
       "      <td>NaN</td>\n",
       "      <td>0</td>\n",
       "      <td>NaN</td>\n",
       "      <td>39912</td>\n",
       "      <td>Kyrgyzstan</td>\n",
       "      <td>Abdysh-Ata (Абдыш Ата)</td>\n",
       "      <td>5</td>\n",
       "    </tr>\n",
       "  </tbody>\n",
       "</table>\n",
       "</div>"
      ],
      "text/plain": [
       "   beer_id           beer_name  brewery_id            brewery_name  \\\n",
       "0   166064    Nashe Moskovskoe       39912  Abdysh-Ata (Абдыш Ата)   \n",
       "1   166065     Nashe Pivovskoe       39912  Abdysh-Ata (Абдыш Ата)   \n",
       "2   166066  Nashe Shakhterskoe       39912  Abdysh-Ata (Абдыш Ата)   \n",
       "3   166067  Nashe Zhigulevskoe       39912  Abdysh-Ata (Абдыш Ата)   \n",
       "4   166063              Zhivoe       39912  Abdysh-Ata (Абдыш Ата)   \n",
       "\n",
       "             style  nbr_ratings  nbr_reviews  avg  ba_score  bros_score  abv  \\\n",
       "0  Euro Pale Lager            0            0  NaN       NaN         NaN  4.7   \n",
       "1  Euro Pale Lager            0            0  NaN       NaN         NaN  3.8   \n",
       "2  Euro Pale Lager            0            0  NaN       NaN         NaN  4.8   \n",
       "3  Euro Pale Lager            0            0  NaN       NaN         NaN  4.0   \n",
       "4  Euro Pale Lager            0            0  NaN       NaN         NaN  4.5   \n",
       "\n",
       "   avg_computed  zscore  nbr_matched_valid_ratings  avg_matched_valid_ratings  \\\n",
       "0           NaN     NaN                          0                        NaN   \n",
       "1           NaN     NaN                          0                        NaN   \n",
       "2           NaN     NaN                          0                        NaN   \n",
       "3           NaN     NaN                          0                        NaN   \n",
       "4           NaN     NaN                          0                        NaN   \n",
       "\n",
       "      id    location                    name  nbr_beers  \n",
       "0  39912  Kyrgyzstan  Abdysh-Ata (Абдыш Ата)          5  \n",
       "1  39912  Kyrgyzstan  Abdysh-Ata (Абдыш Ата)          5  \n",
       "2  39912  Kyrgyzstan  Abdysh-Ata (Абдыш Ата)          5  \n",
       "3  39912  Kyrgyzstan  Abdysh-Ata (Абдыш Ата)          5  \n",
       "4  39912  Kyrgyzstan  Abdysh-Ata (Абдыш Ата)          5  "
      ]
     },
     "execution_count": 131,
     "metadata": {},
     "output_type": "execute_result"
    }
   ],
   "source": [
    "# merge beers and breweries locations\n",
    "beers_breweries_df = pd.merge(beers_df, breweries_df, left_on=\"brewery_id\", right_on=\"id\", how=\"left\")\n",
    "beers_breweries_df.head()"
   ]
  },
  {
   "cell_type": "code",
   "execution_count": 132,
   "metadata": {},
   "outputs": [
    {
     "data": {
      "text/html": [
       "<div>\n",
       "<style scoped>\n",
       "    .dataframe tbody tr th:only-of-type {\n",
       "        vertical-align: middle;\n",
       "    }\n",
       "\n",
       "    .dataframe tbody tr th {\n",
       "        vertical-align: top;\n",
       "    }\n",
       "\n",
       "    .dataframe thead th {\n",
       "        text-align: right;\n",
       "    }\n",
       "</style>\n",
       "<table border=\"1\" class=\"dataframe\">\n",
       "  <thead>\n",
       "    <tr style=\"text-align: right;\">\n",
       "      <th></th>\n",
       "      <th>beer_id</th>\n",
       "      <th>location</th>\n",
       "      <th>nbr_ratings</th>\n",
       "    </tr>\n",
       "  </thead>\n",
       "  <tbody>\n",
       "    <tr>\n",
       "      <th>0</th>\n",
       "      <td>166064</td>\n",
       "      <td>Kyrgyzstan</td>\n",
       "      <td>0</td>\n",
       "    </tr>\n",
       "    <tr>\n",
       "      <th>1</th>\n",
       "      <td>166065</td>\n",
       "      <td>Kyrgyzstan</td>\n",
       "      <td>0</td>\n",
       "    </tr>\n",
       "    <tr>\n",
       "      <th>2</th>\n",
       "      <td>166066</td>\n",
       "      <td>Kyrgyzstan</td>\n",
       "      <td>0</td>\n",
       "    </tr>\n",
       "    <tr>\n",
       "      <th>3</th>\n",
       "      <td>166067</td>\n",
       "      <td>Kyrgyzstan</td>\n",
       "      <td>0</td>\n",
       "    </tr>\n",
       "    <tr>\n",
       "      <th>4</th>\n",
       "      <td>166063</td>\n",
       "      <td>Kyrgyzstan</td>\n",
       "      <td>0</td>\n",
       "    </tr>\n",
       "  </tbody>\n",
       "</table>\n",
       "</div>"
      ],
      "text/plain": [
       "   beer_id    location  nbr_ratings\n",
       "0   166064  Kyrgyzstan            0\n",
       "1   166065  Kyrgyzstan            0\n",
       "2   166066  Kyrgyzstan            0\n",
       "3   166067  Kyrgyzstan            0\n",
       "4   166063  Kyrgyzstan            0"
      ]
     },
     "execution_count": 132,
     "metadata": {},
     "output_type": "execute_result"
    }
   ],
   "source": [
    "# only keep beer_id and location\n",
    "beers_breweries_df = beers_breweries_df[[\"beer_id\", \"location\", \"nbr_ratings\"]]\n",
    "beers_breweries_df.head()"
   ]
  },
  {
   "cell_type": "code",
   "execution_count": 133,
   "metadata": {},
   "outputs": [
    {
     "data": {
      "text/html": [
       "<div>\n",
       "<style scoped>\n",
       "    .dataframe tbody tr th:only-of-type {\n",
       "        vertical-align: middle;\n",
       "    }\n",
       "\n",
       "    .dataframe tbody tr th {\n",
       "        vertical-align: top;\n",
       "    }\n",
       "\n",
       "    .dataframe thead th {\n",
       "        text-align: right;\n",
       "    }\n",
       "</style>\n",
       "<table border=\"1\" class=\"dataframe\">\n",
       "  <thead>\n",
       "    <tr style=\"text-align: right;\">\n",
       "      <th></th>\n",
       "      <th>nbr_ratings</th>\n",
       "    </tr>\n",
       "    <tr>\n",
       "      <th>location</th>\n",
       "      <th></th>\n",
       "    </tr>\n",
       "  </thead>\n",
       "  <tbody>\n",
       "    <tr>\n",
       "      <th>Albania</th>\n",
       "      <td>83</td>\n",
       "    </tr>\n",
       "    <tr>\n",
       "      <th>Algeria</th>\n",
       "      <td>17</td>\n",
       "    </tr>\n",
       "    <tr>\n",
       "      <th>Andorra</th>\n",
       "      <td>26</td>\n",
       "    </tr>\n",
       "    <tr>\n",
       "      <th>Angola</th>\n",
       "      <td>6</td>\n",
       "    </tr>\n",
       "    <tr>\n",
       "      <th>Antigua &amp; Barbuda</th>\n",
       "      <td>51</td>\n",
       "    </tr>\n",
       "  </tbody>\n",
       "</table>\n",
       "</div>"
      ],
      "text/plain": [
       "                   nbr_ratings\n",
       "location                      \n",
       "Albania                     83\n",
       "Algeria                     17\n",
       "Andorra                     26\n",
       "Angola                       6\n",
       "Antigua & Barbuda           51"
      ]
     },
     "execution_count": 133,
     "metadata": {},
     "output_type": "execute_result"
    }
   ],
   "source": [
    "# group by location and count number of ratings\n",
    "beers_breweries_df = beers_breweries_df.groupby(\"location\").agg({\"nbr_ratings\": \"sum\"})\n",
    "beers_breweries_df.head()"
   ]
  },
  {
   "cell_type": "code",
   "execution_count": 134,
   "metadata": {},
   "outputs": [
    {
     "data": {
      "text/html": [
       "<div>\n",
       "<style scoped>\n",
       "    .dataframe tbody tr th:only-of-type {\n",
       "        vertical-align: middle;\n",
       "    }\n",
       "\n",
       "    .dataframe tbody tr th {\n",
       "        vertical-align: top;\n",
       "    }\n",
       "\n",
       "    .dataframe thead th {\n",
       "        text-align: right;\n",
       "    }\n",
       "</style>\n",
       "<table border=\"1\" class=\"dataframe\">\n",
       "  <thead>\n",
       "    <tr style=\"text-align: right;\">\n",
       "      <th></th>\n",
       "      <th>nbr_ratings</th>\n",
       "    </tr>\n",
       "    <tr>\n",
       "      <th>location</th>\n",
       "      <th></th>\n",
       "    </tr>\n",
       "  </thead>\n",
       "  <tbody>\n",
       "    <tr>\n",
       "      <th>United States, California</th>\n",
       "      <td>1384998</td>\n",
       "    </tr>\n",
       "    <tr>\n",
       "      <th>United States, Colorado</th>\n",
       "      <td>484803</td>\n",
       "    </tr>\n",
       "    <tr>\n",
       "      <th>United States, Michigan</th>\n",
       "      <td>479548</td>\n",
       "    </tr>\n",
       "    <tr>\n",
       "      <th>United States, New York</th>\n",
       "      <td>458950</td>\n",
       "    </tr>\n",
       "    <tr>\n",
       "      <th>United States, Massachusetts</th>\n",
       "      <td>411348</td>\n",
       "    </tr>\n",
       "    <tr>\n",
       "      <th>Belgium</th>\n",
       "      <td>406845</td>\n",
       "    </tr>\n",
       "    <tr>\n",
       "      <th>United States, Pennsylvania</th>\n",
       "      <td>349511</td>\n",
       "    </tr>\n",
       "    <tr>\n",
       "      <th>United States, Oregon</th>\n",
       "      <td>307641</td>\n",
       "    </tr>\n",
       "    <tr>\n",
       "      <th>United States, Illinois</th>\n",
       "      <td>281906</td>\n",
       "    </tr>\n",
       "    <tr>\n",
       "      <th>United States, Wisconsin</th>\n",
       "      <td>218734</td>\n",
       "    </tr>\n",
       "  </tbody>\n",
       "</table>\n",
       "</div>"
      ],
      "text/plain": [
       "                              nbr_ratings\n",
       "location                                 \n",
       "United States, California         1384998\n",
       "United States, Colorado            484803\n",
       "United States, Michigan            479548\n",
       "United States, New York            458950\n",
       "United States, Massachusetts       411348\n",
       "Belgium                            406845\n",
       "United States, Pennsylvania        349511\n",
       "United States, Oregon              307641\n",
       "United States, Illinois            281906\n",
       "United States, Wisconsin           218734"
      ]
     },
     "execution_count": 134,
     "metadata": {},
     "output_type": "execute_result"
    }
   ],
   "source": [
    "# sort by number of ratings\n",
    "beers_breweries_df = beers_breweries_df.sort_values(by=\"nbr_ratings\", ascending=False)\n",
    "beers_breweries_df.head(10)"
   ]
  },
  {
   "cell_type": "code",
   "execution_count": 135,
   "metadata": {},
   "outputs": [],
   "source": [
    "beers_breweries_df = pd.merge(beers_df, breweries_df, left_on=\"brewery_id\", right_on=\"id\", how=\"left\")\n",
    "beers_breweries_df.head()\n",
    "\n",
    "# only keep beer_id and location\n",
    "beers_breweries_df = beers_breweries_df[[\"beer_id\", \"location\"]]\n"
   ]
  },
  {
   "cell_type": "code",
   "execution_count": 136,
   "metadata": {},
   "outputs": [
    {
     "data": {
      "text/html": [
       "<div>\n",
       "<style scoped>\n",
       "    .dataframe tbody tr th:only-of-type {\n",
       "        vertical-align: middle;\n",
       "    }\n",
       "\n",
       "    .dataframe tbody tr th {\n",
       "        vertical-align: top;\n",
       "    }\n",
       "\n",
       "    .dataframe thead th {\n",
       "        text-align: right;\n",
       "    }\n",
       "</style>\n",
       "<table border=\"1\" class=\"dataframe\">\n",
       "  <thead>\n",
       "    <tr style=\"text-align: right;\">\n",
       "      <th></th>\n",
       "      <th>beer_id</th>\n",
       "      <th>location</th>\n",
       "      <th>date</th>\n",
       "      <th>bid</th>\n",
       "      <th>uid</th>\n",
       "      <th>rating</th>\n",
       "      <th>has_review</th>\n",
       "      <th>review</th>\n",
       "      <th>compound</th>\n",
       "    </tr>\n",
       "  </thead>\n",
       "  <tbody>\n",
       "    <tr>\n",
       "      <th>0</th>\n",
       "      <td>166064</td>\n",
       "      <td>Kyrgyzstan</td>\n",
       "      <td>NaT</td>\n",
       "      <td>NaN</td>\n",
       "      <td>NaN</td>\n",
       "      <td>NaN</td>\n",
       "      <td>NaN</td>\n",
       "      <td>NaN</td>\n",
       "      <td>NaN</td>\n",
       "    </tr>\n",
       "    <tr>\n",
       "      <th>1</th>\n",
       "      <td>166065</td>\n",
       "      <td>Kyrgyzstan</td>\n",
       "      <td>NaT</td>\n",
       "      <td>NaN</td>\n",
       "      <td>NaN</td>\n",
       "      <td>NaN</td>\n",
       "      <td>NaN</td>\n",
       "      <td>NaN</td>\n",
       "      <td>NaN</td>\n",
       "    </tr>\n",
       "    <tr>\n",
       "      <th>2</th>\n",
       "      <td>166066</td>\n",
       "      <td>Kyrgyzstan</td>\n",
       "      <td>NaT</td>\n",
       "      <td>NaN</td>\n",
       "      <td>NaN</td>\n",
       "      <td>NaN</td>\n",
       "      <td>NaN</td>\n",
       "      <td>NaN</td>\n",
       "      <td>NaN</td>\n",
       "    </tr>\n",
       "    <tr>\n",
       "      <th>3</th>\n",
       "      <td>166067</td>\n",
       "      <td>Kyrgyzstan</td>\n",
       "      <td>NaT</td>\n",
       "      <td>NaN</td>\n",
       "      <td>NaN</td>\n",
       "      <td>NaN</td>\n",
       "      <td>NaN</td>\n",
       "      <td>NaN</td>\n",
       "      <td>NaN</td>\n",
       "    </tr>\n",
       "    <tr>\n",
       "      <th>4</th>\n",
       "      <td>166063</td>\n",
       "      <td>Kyrgyzstan</td>\n",
       "      <td>NaT</td>\n",
       "      <td>NaN</td>\n",
       "      <td>NaN</td>\n",
       "      <td>NaN</td>\n",
       "      <td>NaN</td>\n",
       "      <td>NaN</td>\n",
       "      <td>NaN</td>\n",
       "    </tr>\n",
       "  </tbody>\n",
       "</table>\n",
       "</div>"
      ],
      "text/plain": [
       "   beer_id    location date  bid  uid  rating has_review review  compound\n",
       "0   166064  Kyrgyzstan  NaT  NaN  NaN     NaN        NaN    NaN       NaN\n",
       "1   166065  Kyrgyzstan  NaT  NaN  NaN     NaN        NaN    NaN       NaN\n",
       "2   166066  Kyrgyzstan  NaT  NaN  NaN     NaN        NaN    NaN       NaN\n",
       "3   166067  Kyrgyzstan  NaT  NaN  NaN     NaN        NaN    NaN       NaN\n",
       "4   166063  Kyrgyzstan  NaT  NaN  NaN     NaN        NaN    NaN       NaN"
      ]
     },
     "execution_count": 136,
     "metadata": {},
     "output_type": "execute_result"
    }
   ],
   "source": [
    "# merge with ratings\n",
    "beers_breweries_ratings_df = pd.merge(beers_breweries_df, ratings_ddf, left_on=\"beer_id\", right_on=\"bid\", how=\"left\")\n",
    "beers_breweries_ratings_df.head()"
   ]
  },
  {
   "cell_type": "code",
   "execution_count": 137,
   "metadata": {},
   "outputs": [],
   "source": [
    "# merge with scores_df\n",
    "beers_breweries_ratings_scores_df = pd.merge(beers_breweries_ratings_df, scores_ddf, left_on=\"uid\", right_on=\"uid\", how=\"left\")"
   ]
  },
  {
   "cell_type": "code",
   "execution_count": 138,
   "metadata": {},
   "outputs": [
    {
     "data": {
      "text/html": [
       "<div>\n",
       "<style scoped>\n",
       "    .dataframe tbody tr th:only-of-type {\n",
       "        vertical-align: middle;\n",
       "    }\n",
       "\n",
       "    .dataframe tbody tr th {\n",
       "        vertical-align: top;\n",
       "    }\n",
       "\n",
       "    .dataframe thead th {\n",
       "        text-align: right;\n",
       "    }\n",
       "</style>\n",
       "<table border=\"1\" class=\"dataframe\">\n",
       "  <thead>\n",
       "    <tr style=\"text-align: right;\">\n",
       "      <th></th>\n",
       "      <th>beer_id</th>\n",
       "      <th>location_x</th>\n",
       "      <th>date</th>\n",
       "      <th>bid</th>\n",
       "      <th>uid</th>\n",
       "      <th>rating</th>\n",
       "      <th>has_review</th>\n",
       "      <th>review</th>\n",
       "      <th>compound</th>\n",
       "      <th>n_ratings</th>\n",
       "      <th>...</th>\n",
       "      <th>location_y</th>\n",
       "      <th>country</th>\n",
       "      <th>cfm_score</th>\n",
       "      <th>exp_score</th>\n",
       "      <th>xpl_score</th>\n",
       "      <th>adv_score</th>\n",
       "      <th>is_cfm</th>\n",
       "      <th>is_exp</th>\n",
       "      <th>is_xpl</th>\n",
       "      <th>is_adv</th>\n",
       "    </tr>\n",
       "  </thead>\n",
       "  <tbody>\n",
       "    <tr>\n",
       "      <th>23</th>\n",
       "      <td>142544</td>\n",
       "      <td>Gabon</td>\n",
       "      <td>2015-08-20 10:00:00</td>\n",
       "      <td>142544.0</td>\n",
       "      <td>nmann08.184925</td>\n",
       "      <td>2.88</td>\n",
       "      <td>True</td>\n",
       "      <td>From a bottle, pours a piss yellow color with ...</td>\n",
       "      <td>0.0</td>\n",
       "      <td>7820.0</td>\n",
       "      <td>...</td>\n",
       "      <td>United States, Washington</td>\n",
       "      <td>United States</td>\n",
       "      <td>-0.875556</td>\n",
       "      <td>-0.423436</td>\n",
       "      <td>0.276726</td>\n",
       "      <td>0.066368</td>\n",
       "      <td>0.0</td>\n",
       "      <td>0.0</td>\n",
       "      <td>1.0</td>\n",
       "      <td>0.0</td>\n",
       "    </tr>\n",
       "    <tr>\n",
       "      <th>24</th>\n",
       "      <td>19590</td>\n",
       "      <td>Northern Ireland</td>\n",
       "      <td>2009-02-20 11:00:00</td>\n",
       "      <td>19590.0</td>\n",
       "      <td>stjamesgate.163714</td>\n",
       "      <td>3.67</td>\n",
       "      <td>True</td>\n",
       "      <td>Pours pale copper with a thin head that quickl...</td>\n",
       "      <td>0.0</td>\n",
       "      <td>2521.0</td>\n",
       "      <td>...</td>\n",
       "      <td>United States, New York</td>\n",
       "      <td>United States</td>\n",
       "      <td>-0.516299</td>\n",
       "      <td>-0.282777</td>\n",
       "      <td>0.473622</td>\n",
       "      <td>0.037287</td>\n",
       "      <td>0.0</td>\n",
       "      <td>0.0</td>\n",
       "      <td>1.0</td>\n",
       "      <td>0.0</td>\n",
       "    </tr>\n",
       "    <tr>\n",
       "      <th>25</th>\n",
       "      <td>19827</td>\n",
       "      <td>Northern Ireland</td>\n",
       "      <td>2014-12-01 11:00:00</td>\n",
       "      <td>19827.0</td>\n",
       "      <td>hellpop65.48993</td>\n",
       "      <td>3.25</td>\n",
       "      <td>False</td>\n",
       "      <td>None</td>\n",
       "      <td>0.0</td>\n",
       "      <td>2326.0</td>\n",
       "      <td>...</td>\n",
       "      <td>United States, Kansas</td>\n",
       "      <td>United States</td>\n",
       "      <td>-1.783445</td>\n",
       "      <td>-0.621249</td>\n",
       "      <td>0.11264</td>\n",
       "      <td>0.11307</td>\n",
       "      <td>0.0</td>\n",
       "      <td>0.0</td>\n",
       "      <td>0.0</td>\n",
       "      <td>0.0</td>\n",
       "    </tr>\n",
       "    <tr>\n",
       "      <th>26</th>\n",
       "      <td>19827</td>\n",
       "      <td>Northern Ireland</td>\n",
       "      <td>2014-05-29 10:00:00</td>\n",
       "      <td>19827.0</td>\n",
       "      <td>latarnik.52897</td>\n",
       "      <td>3.50</td>\n",
       "      <td>False</td>\n",
       "      <td>None</td>\n",
       "      <td>0.0</td>\n",
       "      <td>3098.0</td>\n",
       "      <td>...</td>\n",
       "      <td>United States, New Jersey</td>\n",
       "      <td>United States</td>\n",
       "      <td>-0.451196</td>\n",
       "      <td>-0.362152</td>\n",
       "      <td>0.171724</td>\n",
       "      <td>0.244028</td>\n",
       "      <td>0.0</td>\n",
       "      <td>0.0</td>\n",
       "      <td>0.0</td>\n",
       "      <td>1.0</td>\n",
       "    </tr>\n",
       "    <tr>\n",
       "      <th>27</th>\n",
       "      <td>19827</td>\n",
       "      <td>Northern Ireland</td>\n",
       "      <td>2014-02-26 11:00:00</td>\n",
       "      <td>19827.0</td>\n",
       "      <td>rochefortchris.697017</td>\n",
       "      <td>3.50</td>\n",
       "      <td>False</td>\n",
       "      <td>None</td>\n",
       "      <td>0.0</td>\n",
       "      <td>1866.0</td>\n",
       "      <td>...</td>\n",
       "      <td>United States, North Carolina</td>\n",
       "      <td>United States</td>\n",
       "      <td>-1.375863</td>\n",
       "      <td>-0.414637</td>\n",
       "      <td>0.209539</td>\n",
       "      <td>0.084137</td>\n",
       "      <td>0.0</td>\n",
       "      <td>0.0</td>\n",
       "      <td>1.0</td>\n",
       "      <td>0.0</td>\n",
       "    </tr>\n",
       "  </tbody>\n",
       "</table>\n",
       "<p>5 rows × 23 columns</p>\n",
       "</div>"
      ],
      "text/plain": [
       "    beer_id        location_x                date       bid  \\\n",
       "23   142544             Gabon 2015-08-20 10:00:00  142544.0   \n",
       "24    19590  Northern Ireland 2009-02-20 11:00:00   19590.0   \n",
       "25    19827  Northern Ireland 2014-12-01 11:00:00   19827.0   \n",
       "26    19827  Northern Ireland 2014-05-29 10:00:00   19827.0   \n",
       "27    19827  Northern Ireland 2014-02-26 11:00:00   19827.0   \n",
       "\n",
       "                      uid  rating has_review  \\\n",
       "23         nmann08.184925    2.88       True   \n",
       "24     stjamesgate.163714    3.67       True   \n",
       "25        hellpop65.48993    3.25      False   \n",
       "26         latarnik.52897    3.50      False   \n",
       "27  rochefortchris.697017    3.50      False   \n",
       "\n",
       "                                               review  compound  n_ratings  \\\n",
       "23  From a bottle, pours a piss yellow color with ...       0.0     7820.0   \n",
       "24  Pours pale copper with a thin head that quickl...       0.0     2521.0   \n",
       "25                                               None       0.0     2326.0   \n",
       "26                                               None       0.0     3098.0   \n",
       "27                                               None       0.0     1866.0   \n",
       "\n",
       "    ...                     location_y        country cfm_score exp_score  \\\n",
       "23  ...      United States, Washington  United States -0.875556 -0.423436   \n",
       "24  ...        United States, New York  United States -0.516299 -0.282777   \n",
       "25  ...          United States, Kansas  United States -1.783445 -0.621249   \n",
       "26  ...      United States, New Jersey  United States -0.451196 -0.362152   \n",
       "27  ...  United States, North Carolina  United States -1.375863 -0.414637   \n",
       "\n",
       "   xpl_score  adv_score  is_cfm  is_exp  is_xpl  is_adv  \n",
       "23  0.276726   0.066368     0.0     0.0     1.0     0.0  \n",
       "24  0.473622   0.037287     0.0     0.0     1.0     0.0  \n",
       "25   0.11264    0.11307     0.0     0.0     0.0     0.0  \n",
       "26  0.171724   0.244028     0.0     0.0     0.0     1.0  \n",
       "27  0.209539   0.084137     0.0     0.0     1.0     0.0  \n",
       "\n",
       "[5 rows x 23 columns]"
      ]
     },
     "execution_count": 138,
     "metadata": {},
     "output_type": "execute_result"
    }
   ],
   "source": [
    "# filter out nan ratings\n",
    "beers_breweries_ratings_scores_df = beers_breweries_ratings_scores_df[beers_breweries_ratings_scores_df[\"rating\"].notna()]\n",
    "beers_breweries_ratings_scores_df.head()"
   ]
  },
  {
   "cell_type": "code",
   "execution_count": 139,
   "metadata": {},
   "outputs": [
    {
     "data": {
      "text/html": [
       "<div>\n",
       "<style scoped>\n",
       "    .dataframe tbody tr th:only-of-type {\n",
       "        vertical-align: middle;\n",
       "    }\n",
       "\n",
       "    .dataframe tbody tr th {\n",
       "        vertical-align: top;\n",
       "    }\n",
       "\n",
       "    .dataframe thead th {\n",
       "        text-align: right;\n",
       "    }\n",
       "</style>\n",
       "<table border=\"1\" class=\"dataframe\">\n",
       "  <thead>\n",
       "    <tr style=\"text-align: right;\">\n",
       "      <th></th>\n",
       "      <th>rating</th>\n",
       "    </tr>\n",
       "    <tr>\n",
       "      <th>location_x</th>\n",
       "      <th></th>\n",
       "    </tr>\n",
       "  </thead>\n",
       "  <tbody>\n",
       "    <tr>\n",
       "      <th>United States, California</th>\n",
       "      <td>1281068</td>\n",
       "    </tr>\n",
       "    <tr>\n",
       "      <th>United States, Colorado</th>\n",
       "      <td>450813</td>\n",
       "    </tr>\n",
       "    <tr>\n",
       "      <th>United States, Michigan</th>\n",
       "      <td>446570</td>\n",
       "    </tr>\n",
       "    <tr>\n",
       "      <th>United States, New York</th>\n",
       "      <td>429100</td>\n",
       "    </tr>\n",
       "    <tr>\n",
       "      <th>United States, Massachusetts</th>\n",
       "      <td>385638</td>\n",
       "    </tr>\n",
       "    <tr>\n",
       "      <th>Belgium</th>\n",
       "      <td>338880</td>\n",
       "    </tr>\n",
       "    <tr>\n",
       "      <th>United States, Pennsylvania</th>\n",
       "      <td>327811</td>\n",
       "    </tr>\n",
       "    <tr>\n",
       "      <th>United States, Oregon</th>\n",
       "      <td>283117</td>\n",
       "    </tr>\n",
       "    <tr>\n",
       "      <th>United States, Illinois</th>\n",
       "      <td>264166</td>\n",
       "    </tr>\n",
       "    <tr>\n",
       "      <th>United States, Wisconsin</th>\n",
       "      <td>203413</td>\n",
       "    </tr>\n",
       "  </tbody>\n",
       "</table>\n",
       "</div>"
      ],
      "text/plain": [
       "                               rating\n",
       "location_x                           \n",
       "United States, California     1281068\n",
       "United States, Colorado        450813\n",
       "United States, Michigan        446570\n",
       "United States, New York        429100\n",
       "United States, Massachusetts   385638\n",
       "Belgium                        338880\n",
       "United States, Pennsylvania    327811\n",
       "United States, Oregon          283117\n",
       "United States, Illinois        264166\n",
       "United States, Wisconsin       203413"
      ]
     },
     "execution_count": 139,
     "metadata": {},
     "output_type": "execute_result"
    }
   ],
   "source": [
    "# group by location and count number of ratings per location\n",
    "location_count = beers_breweries_ratings_scores_df.groupby(\"location_x\").agg({\"rating\": \"count\"})\n",
    "\n",
    "# sort by number of ratings\n",
    "location_count = location_count.sort_values(by=\"rating\", ascending=False)\n",
    "location_count.head(10)"
   ]
  },
  {
   "cell_type": "code",
   "execution_count": 140,
   "metadata": {},
   "outputs": [
    {
     "data": {
      "text/plain": [
       "Index(['Haiti', 'Canada, Alberta',\n",
       "       'United States</a> | <a href=\"http://maps.google.com/maps?oi=map&q=%2C+US\" target=\"_blank\">map</a><br><a href=\"http://theram.com\" target=\"_blank\">theram.com',\n",
       "       'Uruguay', 'Montenegro', 'Egypt', 'Tanzania',\n",
       "       'Canada, British Columbia', 'Albania', 'Nepal',\n",
       "       ...\n",
       "       'United Kingdom, Scotland', 'Paraguay',\n",
       "       'Canada, Newfoundland and Labrador', 'Malawi', 'Libya', 'Botswana',\n",
       "       'Guadeloupe', 'Gabon', 'Equatorial Guinea', 'Niger'],\n",
       "      dtype='object', name='location_x', length=110)"
      ]
     },
     "execution_count": 140,
     "metadata": {},
     "output_type": "execute_result"
    }
   ],
   "source": [
    "# get list of locations with less than 100 ratings\n",
    "locations_to_remove = location_count[location_count[\"rating\"] < 100].index\n",
    "locations_to_remove"
   ]
  },
  {
   "cell_type": "code",
   "execution_count": 141,
   "metadata": {},
   "outputs": [
    {
     "data": {
      "text/html": [
       "<div>\n",
       "<style scoped>\n",
       "    .dataframe tbody tr th:only-of-type {\n",
       "        vertical-align: middle;\n",
       "    }\n",
       "\n",
       "    .dataframe tbody tr th {\n",
       "        vertical-align: top;\n",
       "    }\n",
       "\n",
       "    .dataframe thead th {\n",
       "        text-align: right;\n",
       "    }\n",
       "</style>\n",
       "<table border=\"1\" class=\"dataframe\">\n",
       "  <thead>\n",
       "    <tr style=\"text-align: right;\">\n",
       "      <th></th>\n",
       "      <th>beer_id</th>\n",
       "      <th>uid</th>\n",
       "      <th>beer_location</th>\n",
       "      <th>rating</th>\n",
       "      <th>is_cfm</th>\n",
       "      <th>is_exp</th>\n",
       "      <th>is_xpl</th>\n",
       "      <th>is_adv</th>\n",
       "    </tr>\n",
       "  </thead>\n",
       "  <tbody>\n",
       "    <tr>\n",
       "      <th>23</th>\n",
       "      <td>142544</td>\n",
       "      <td>nmann08.184925</td>\n",
       "      <td>Gabon</td>\n",
       "      <td>2.88</td>\n",
       "      <td>0.0</td>\n",
       "      <td>0.0</td>\n",
       "      <td>1.0</td>\n",
       "      <td>0.0</td>\n",
       "    </tr>\n",
       "    <tr>\n",
       "      <th>24</th>\n",
       "      <td>19590</td>\n",
       "      <td>stjamesgate.163714</td>\n",
       "      <td>Northern Ireland</td>\n",
       "      <td>3.67</td>\n",
       "      <td>0.0</td>\n",
       "      <td>0.0</td>\n",
       "      <td>1.0</td>\n",
       "      <td>0.0</td>\n",
       "    </tr>\n",
       "    <tr>\n",
       "      <th>25</th>\n",
       "      <td>19827</td>\n",
       "      <td>hellpop65.48993</td>\n",
       "      <td>Northern Ireland</td>\n",
       "      <td>3.25</td>\n",
       "      <td>0.0</td>\n",
       "      <td>0.0</td>\n",
       "      <td>0.0</td>\n",
       "      <td>0.0</td>\n",
       "    </tr>\n",
       "    <tr>\n",
       "      <th>26</th>\n",
       "      <td>19827</td>\n",
       "      <td>latarnik.52897</td>\n",
       "      <td>Northern Ireland</td>\n",
       "      <td>3.50</td>\n",
       "      <td>0.0</td>\n",
       "      <td>0.0</td>\n",
       "      <td>0.0</td>\n",
       "      <td>1.0</td>\n",
       "    </tr>\n",
       "    <tr>\n",
       "      <th>27</th>\n",
       "      <td>19827</td>\n",
       "      <td>rochefortchris.697017</td>\n",
       "      <td>Northern Ireland</td>\n",
       "      <td>3.50</td>\n",
       "      <td>0.0</td>\n",
       "      <td>0.0</td>\n",
       "      <td>1.0</td>\n",
       "      <td>0.0</td>\n",
       "    </tr>\n",
       "  </tbody>\n",
       "</table>\n",
       "</div>"
      ],
      "text/plain": [
       "    beer_id                    uid     beer_location  rating  is_cfm  is_exp  \\\n",
       "23   142544         nmann08.184925             Gabon    2.88     0.0     0.0   \n",
       "24    19590     stjamesgate.163714  Northern Ireland    3.67     0.0     0.0   \n",
       "25    19827        hellpop65.48993  Northern Ireland    3.25     0.0     0.0   \n",
       "26    19827         latarnik.52897  Northern Ireland    3.50     0.0     0.0   \n",
       "27    19827  rochefortchris.697017  Northern Ireland    3.50     0.0     0.0   \n",
       "\n",
       "    is_xpl  is_adv  \n",
       "23     1.0     0.0  \n",
       "24     1.0     0.0  \n",
       "25     0.0     0.0  \n",
       "26     0.0     1.0  \n",
       "27     1.0     0.0  "
      ]
     },
     "execution_count": 141,
     "metadata": {},
     "output_type": "execute_result"
    }
   ],
   "source": [
    "# only keep beer_id, location, rating, and score\n",
    "beers_breweries_ratings_scores_df = beers_breweries_ratings_scores_df[[\"beer_id\", \"uid\", \"location_x\", \"rating\", \"is_cfm\", \"is_exp\", \"is_xpl\", \"is_adv\"]]\n",
    "\n",
    "# rename location_x to beer_location\n",
    "beers_breweries_ratings_scores_df = beers_breweries_ratings_scores_df.rename(columns={\"location_x\": \"beer_location\"})\n",
    "beers_breweries_ratings_scores_df.head()"
   ]
  },
  {
   "cell_type": "code",
   "execution_count": 142,
   "metadata": {},
   "outputs": [],
   "source": [
    "cfm_ratings_by_location = beers_breweries_ratings_scores_df[beers_breweries_ratings_scores_df[\"is_cfm\"] == True]\n",
    "exp_ratings_by_location = beers_breweries_ratings_scores_df[beers_breweries_ratings_scores_df[\"is_exp\"] == True]\n",
    "xpl_ratings_by_location = beers_breweries_ratings_scores_df[beers_breweries_ratings_scores_df[\"is_xpl\"] == True]\n",
    "adv_ratings_by_location = beers_breweries_ratings_scores_df[beers_breweries_ratings_scores_df[\"is_adv\"] == True]\n",
    "overall_ratings_by_location = beers_breweries_ratings_scores_df\n",
    "\n",
    "# group by location and count number of ratings per location\n",
    "cfm_ratings_by_location = cfm_ratings_by_location.groupby(\"beer_location\").agg({\"rating\": \"count\"})\n",
    "exp_ratings_by_location = exp_ratings_by_location.groupby(\"beer_location\").agg({\"rating\": \"count\"})\n",
    "xpl_ratings_by_location = xpl_ratings_by_location.groupby(\"beer_location\").agg({\"rating\": \"count\"})\n",
    "adv_ratings_by_location = adv_ratings_by_location.groupby(\"beer_location\").agg({\"rating\": \"count\"})\n",
    "overall_ratings_by_location = overall_ratings_by_location.groupby(\"beer_location\").agg({\"rating\": \"count\"})"
   ]
  },
  {
   "cell_type": "code",
   "execution_count": 143,
   "metadata": {},
   "outputs": [],
   "source": [
    "# locations with less than 10 ratings per category\n",
    "cfm_locations_to_remove = cfm_ratings_by_location[cfm_ratings_by_location[\"rating\"] < 10].index\n",
    "exp_locations_to_remove = exp_ratings_by_location[exp_ratings_by_location[\"rating\"] < 10].index\n",
    "xpl_locations_to_remove = xpl_ratings_by_location[xpl_ratings_by_location[\"rating\"] < 10].index\n",
    "adv_locations_to_remove = adv_ratings_by_location[adv_ratings_by_location[\"rating\"] < 10].index\n",
    "overall_locations_to_remove = overall_ratings_by_location[overall_ratings_by_location[\"rating\"] < 10].index\n",
    "\n",
    "# locations with less than 10 ratings in any category\n",
    "locations_low_rating = set(cfm_locations_to_remove).union(set(exp_locations_to_remove)).union(set(xpl_locations_to_remove)).union(set(adv_locations_to_remove)).union(set(overall_locations_to_remove))"
   ]
  },
  {
   "cell_type": "code",
   "execution_count": 144,
   "metadata": {},
   "outputs": [],
   "source": [
    "# normalize by total number of ratings for each category\n",
    "cfm_ratings_by_location[\"norm_rating\"] = cfm_ratings_by_location[\"rating\"] / cfm_ratings_by_location[\"rating\"].sum()\n",
    "exp_ratings_by_location[\"norm_rating\"] = exp_ratings_by_location[\"rating\"] / exp_ratings_by_location[\"rating\"].sum()\n",
    "xpl_ratings_by_location[\"norm_rating\"] = xpl_ratings_by_location[\"rating\"] / xpl_ratings_by_location[\"rating\"].sum()\n",
    "adv_ratings_by_location[\"norm_rating\"] = adv_ratings_by_location[\"rating\"] / adv_ratings_by_location[\"rating\"].sum()\n",
    "overall_ratings_by_location[\"norm_rating\"] = overall_ratings_by_location[\"rating\"] / overall_ratings_by_location[\"rating\"].sum()\n",
    "\n",
    "# sort by number of ratings\n",
    "cfm_ratings_by_location = cfm_ratings_by_location.sort_values(by=\"rating\", ascending=False)\n",
    "exp_ratings_by_location = exp_ratings_by_location.sort_values(by=\"rating\", ascending=False)\n",
    "xpl_ratings_by_location = xpl_ratings_by_location.sort_values(by=\"rating\", ascending=False)\n",
    "adv_ratings_by_location = adv_ratings_by_location.sort_values(by=\"rating\", ascending=False)\n",
    "overall_ratings_by_location = overall_ratings_by_location.sort_values(by=\"rating\", ascending=False)\n",
    "\n",
    "# get top 10 locations\n",
    "cfm_ratings_by_location_top_10 = cfm_ratings_by_location.head(10)\n",
    "exp_ratings_by_location_top_10  = exp_ratings_by_location.head(10)\n",
    "xpl_ratings_by_location_top_10  = xpl_ratings_by_location.head(10)\n",
    "adv_ratings_by_location_top_10  = adv_ratings_by_location.head(10)\n",
    "overall_ratings_by_location_top_10  = overall_ratings_by_location.head(10)"
   ]
  },
  {
   "cell_type": "code",
   "execution_count": 145,
   "metadata": {},
   "outputs": [
    {
     "data": {
      "text/plain": [
       "{'Belgium',\n",
       " 'Canada',\n",
       " 'England',\n",
       " 'Germany',\n",
       " 'United States, California',\n",
       " 'United States, Colorado',\n",
       " 'United States, Illinois',\n",
       " 'United States, Massachusetts',\n",
       " 'United States, Michigan',\n",
       " 'United States, Missouri',\n",
       " 'United States, New York',\n",
       " 'United States, Oregon',\n",
       " 'United States, Pennsylvania',\n",
       " 'United States, Vermont',\n",
       " 'United States, Wisconsin'}"
      ]
     },
     "execution_count": 145,
     "metadata": {},
     "output_type": "execute_result"
    }
   ],
   "source": [
    "# get list of locations that are in any top 10\n",
    "top_10_locations = set(cfm_ratings_by_location_top_10.index).union(set(exp_ratings_by_location_top_10.index)).union(set(xpl_ratings_by_location_top_10.index)).union(set(adv_ratings_by_location_top_10.index)).union(set(overall_ratings_by_location_top_10.index))\n",
    "top_10_locations"
   ]
  },
  {
   "cell_type": "code",
   "execution_count": 146,
   "metadata": {},
   "outputs": [],
   "source": [
    "# filter out location that are not in no top 10 for each category\n",
    "cfm_ratings_by_location = cfm_ratings_by_location[cfm_ratings_by_location.index.isin(top_10_locations)]\n",
    "exp_ratings_by_location = exp_ratings_by_location[exp_ratings_by_location.index.isin(top_10_locations)]\n",
    "xpl_ratings_by_location = xpl_ratings_by_location[xpl_ratings_by_location.index.isin(top_10_locations)]\n",
    "adv_ratings_by_location = adv_ratings_by_location[adv_ratings_by_location.index.isin(top_10_locations)]\n",
    "overall_ratings_by_location = overall_ratings_by_location[overall_ratings_by_location.index.isin(top_10_locations)]"
   ]
  },
  {
   "cell_type": "code",
   "execution_count": 158,
   "metadata": {},
   "outputs": [
    {
     "data": {
      "application/vnd.plotly.v1+json": {
       "config": {
        "plotlyServerURL": "https://plot.ly"
       },
       "data": [
        {
         "marker": {
          "color": "#4477AA"
         },
         "name": "CFM",
         "orientation": "v",
         "type": "bar",
         "x": [
          "United States, California",
          "United States, New York",
          "United States, Michigan",
          "United States, Colorado",
          "United States, Massachusetts",
          "United States, Pennsylvania",
          "Belgium",
          "United States, Illinois",
          "United States, Oregon",
          "Canada",
          "United States, Wisconsin",
          "United States, Vermont",
          "United States, Missouri",
          "Germany",
          "England"
         ],
         "y": [
          0.16495626436808739,
          0.06249655795305599,
          0.06076727356838384,
          0.05914105390363528,
          0.04971495917535636,
          0.04478122743000647,
          0.04021884337781638,
          0.037635931351028995,
          0.032658928158382936,
          0.02958114812524488,
          0.024808700865271597,
          0.02461751974358127,
          0.024527829834640132,
          0.018774300851424734,
          0.01211993901086192
         ]
        },
        {
         "marker": {
          "color": "#CCBB44"
         },
         "name": "EXP",
         "orientation": "v",
         "type": "bar",
         "x": [
          "United States, California",
          "Canada",
          "United States, Michigan",
          "United States, Massachusetts",
          "United States, Vermont",
          "United States, New York",
          "Belgium",
          "United States, Illinois",
          "United States, Colorado",
          "United States, Pennsylvania",
          "United States, Missouri",
          "United States, Oregon",
          "United States, Wisconsin",
          "Germany",
          "England"
         ],
         "y": [
          0.17270567911898077,
          0.07428201252429281,
          0.07056791189807816,
          0.06646512632260851,
          0.0508313539192399,
          0.045173828546750165,
          0.04487151803066292,
          0.03886849492550205,
          0.036709134096307494,
          0.030101489958972143,
          0.024962211185489094,
          0.024919023968905205,
          0.013776722090261283,
          0.012610667242496222,
          0.012006046210321746
         ]
        },
        {
         "marker": {
          "color": "#228833"
         },
         "name": "XPL",
         "orientation": "v",
         "type": "bar",
         "x": [
          "United States, California",
          "Canada",
          "United States, Colorado",
          "United States, New York",
          "United States, Oregon",
          "Belgium",
          "United States, Michigan",
          "United States, Pennsylvania",
          "United States, Massachusetts",
          "United States, Illinois",
          "England",
          "Germany",
          "United States, Wisconsin",
          "United States, Vermont",
          "United States, Missouri"
         ],
         "y": [
          0.14865519525299548,
          0.06262789416603962,
          0.055133466512259754,
          0.049767767023450996,
          0.04649225326765703,
          0.046006025664516,
          0.04251348836878348,
          0.039638815905335044,
          0.03627969472022049,
          0.02794800685225144,
          0.025242921089410734,
          0.02313731838361342,
          0.02052769925992601,
          0.020307710917529274,
          0.018879862053671224
         ]
        },
        {
         "marker": {
          "color": "#AA3377"
         },
         "name": "ADV",
         "orientation": "v",
         "type": "bar",
         "x": [
          "United States, California",
          "Canada",
          "United States, Colorado",
          "United States, Missouri",
          "United States, Wisconsin",
          "United States, Massachusetts",
          "Germany",
          "Belgium",
          "United States, New York",
          "England",
          "United States, Michigan",
          "United States, Pennsylvania",
          "United States, Oregon",
          "United States, Illinois",
          "United States, Vermont"
         ],
         "y": [
          0.090459073579231,
          0.07348140114712493,
          0.06576961348822129,
          0.0628403081360897,
          0.05505025659373218,
          0.050879909661117384,
          0.04546572600932458,
          0.04129258393801501,
          0.04044845205219083,
          0.036814771748974184,
          0.03292673382453237,
          0.03078006730693977,
          0.02436801914110978,
          0.017134200199013874,
          0.011636162386377612
         ]
        },
        {
         "marker": {
          "color": "#777777"
         },
         "name": "Overall",
         "orientation": "v",
         "type": "bar",
         "x": [
          "United States, California",
          "United States, Colorado",
          "United States, Michigan",
          "United States, New York",
          "United States, Massachusetts",
          "Belgium",
          "United States, Pennsylvania",
          "United States, Oregon",
          "United States, Illinois",
          "United States, Wisconsin",
          "Canada",
          "United States, Vermont",
          "United States, Missouri",
          "Germany",
          "England"
         ],
         "y": [
          0.16735280723678211,
          0.05889212835605562,
          0.05833784243126031,
          0.05605564231196408,
          0.050377967350037765,
          0.04426971816984011,
          0.04282371512917096,
          0.03698509737691991,
          0.034509426257241446,
          0.026572934909353415,
          0.02612237347767324,
          0.025332943865715187,
          0.024380611932706058,
          0.02051040811277073,
          0.015843328464117203
         ]
        }
       ],
       "layout": {
        "barmode": "group",
        "paper_bgcolor": "rgba(0,0,0,0)",
        "plot_bgcolor": "rgba(0,0,0,0)",
        "template": {
         "data": {
          "bar": [
           {
            "error_x": {
             "color": "#2a3f5f"
            },
            "error_y": {
             "color": "#2a3f5f"
            },
            "marker": {
             "line": {
              "color": "#E5ECF6",
              "width": 0.5
             },
             "pattern": {
              "fillmode": "overlay",
              "size": 10,
              "solidity": 0.2
             }
            },
            "type": "bar"
           }
          ],
          "barpolar": [
           {
            "marker": {
             "line": {
              "color": "#E5ECF6",
              "width": 0.5
             },
             "pattern": {
              "fillmode": "overlay",
              "size": 10,
              "solidity": 0.2
             }
            },
            "type": "barpolar"
           }
          ],
          "carpet": [
           {
            "aaxis": {
             "endlinecolor": "#2a3f5f",
             "gridcolor": "white",
             "linecolor": "white",
             "minorgridcolor": "white",
             "startlinecolor": "#2a3f5f"
            },
            "baxis": {
             "endlinecolor": "#2a3f5f",
             "gridcolor": "white",
             "linecolor": "white",
             "minorgridcolor": "white",
             "startlinecolor": "#2a3f5f"
            },
            "type": "carpet"
           }
          ],
          "choropleth": [
           {
            "colorbar": {
             "outlinewidth": 0,
             "ticks": ""
            },
            "type": "choropleth"
           }
          ],
          "contour": [
           {
            "colorbar": {
             "outlinewidth": 0,
             "ticks": ""
            },
            "colorscale": [
             [
              0,
              "#0d0887"
             ],
             [
              0.1111111111111111,
              "#46039f"
             ],
             [
              0.2222222222222222,
              "#7201a8"
             ],
             [
              0.3333333333333333,
              "#9c179e"
             ],
             [
              0.4444444444444444,
              "#bd3786"
             ],
             [
              0.5555555555555556,
              "#d8576b"
             ],
             [
              0.6666666666666666,
              "#ed7953"
             ],
             [
              0.7777777777777778,
              "#fb9f3a"
             ],
             [
              0.8888888888888888,
              "#fdca26"
             ],
             [
              1,
              "#f0f921"
             ]
            ],
            "type": "contour"
           }
          ],
          "contourcarpet": [
           {
            "colorbar": {
             "outlinewidth": 0,
             "ticks": ""
            },
            "type": "contourcarpet"
           }
          ],
          "heatmap": [
           {
            "colorbar": {
             "outlinewidth": 0,
             "ticks": ""
            },
            "colorscale": [
             [
              0,
              "#0d0887"
             ],
             [
              0.1111111111111111,
              "#46039f"
             ],
             [
              0.2222222222222222,
              "#7201a8"
             ],
             [
              0.3333333333333333,
              "#9c179e"
             ],
             [
              0.4444444444444444,
              "#bd3786"
             ],
             [
              0.5555555555555556,
              "#d8576b"
             ],
             [
              0.6666666666666666,
              "#ed7953"
             ],
             [
              0.7777777777777778,
              "#fb9f3a"
             ],
             [
              0.8888888888888888,
              "#fdca26"
             ],
             [
              1,
              "#f0f921"
             ]
            ],
            "type": "heatmap"
           }
          ],
          "heatmapgl": [
           {
            "colorbar": {
             "outlinewidth": 0,
             "ticks": ""
            },
            "colorscale": [
             [
              0,
              "#0d0887"
             ],
             [
              0.1111111111111111,
              "#46039f"
             ],
             [
              0.2222222222222222,
              "#7201a8"
             ],
             [
              0.3333333333333333,
              "#9c179e"
             ],
             [
              0.4444444444444444,
              "#bd3786"
             ],
             [
              0.5555555555555556,
              "#d8576b"
             ],
             [
              0.6666666666666666,
              "#ed7953"
             ],
             [
              0.7777777777777778,
              "#fb9f3a"
             ],
             [
              0.8888888888888888,
              "#fdca26"
             ],
             [
              1,
              "#f0f921"
             ]
            ],
            "type": "heatmapgl"
           }
          ],
          "histogram": [
           {
            "marker": {
             "pattern": {
              "fillmode": "overlay",
              "size": 10,
              "solidity": 0.2
             }
            },
            "type": "histogram"
           }
          ],
          "histogram2d": [
           {
            "colorbar": {
             "outlinewidth": 0,
             "ticks": ""
            },
            "colorscale": [
             [
              0,
              "#0d0887"
             ],
             [
              0.1111111111111111,
              "#46039f"
             ],
             [
              0.2222222222222222,
              "#7201a8"
             ],
             [
              0.3333333333333333,
              "#9c179e"
             ],
             [
              0.4444444444444444,
              "#bd3786"
             ],
             [
              0.5555555555555556,
              "#d8576b"
             ],
             [
              0.6666666666666666,
              "#ed7953"
             ],
             [
              0.7777777777777778,
              "#fb9f3a"
             ],
             [
              0.8888888888888888,
              "#fdca26"
             ],
             [
              1,
              "#f0f921"
             ]
            ],
            "type": "histogram2d"
           }
          ],
          "histogram2dcontour": [
           {
            "colorbar": {
             "outlinewidth": 0,
             "ticks": ""
            },
            "colorscale": [
             [
              0,
              "#0d0887"
             ],
             [
              0.1111111111111111,
              "#46039f"
             ],
             [
              0.2222222222222222,
              "#7201a8"
             ],
             [
              0.3333333333333333,
              "#9c179e"
             ],
             [
              0.4444444444444444,
              "#bd3786"
             ],
             [
              0.5555555555555556,
              "#d8576b"
             ],
             [
              0.6666666666666666,
              "#ed7953"
             ],
             [
              0.7777777777777778,
              "#fb9f3a"
             ],
             [
              0.8888888888888888,
              "#fdca26"
             ],
             [
              1,
              "#f0f921"
             ]
            ],
            "type": "histogram2dcontour"
           }
          ],
          "mesh3d": [
           {
            "colorbar": {
             "outlinewidth": 0,
             "ticks": ""
            },
            "type": "mesh3d"
           }
          ],
          "parcoords": [
           {
            "line": {
             "colorbar": {
              "outlinewidth": 0,
              "ticks": ""
             }
            },
            "type": "parcoords"
           }
          ],
          "pie": [
           {
            "automargin": true,
            "type": "pie"
           }
          ],
          "scatter": [
           {
            "fillpattern": {
             "fillmode": "overlay",
             "size": 10,
             "solidity": 0.2
            },
            "type": "scatter"
           }
          ],
          "scatter3d": [
           {
            "line": {
             "colorbar": {
              "outlinewidth": 0,
              "ticks": ""
             }
            },
            "marker": {
             "colorbar": {
              "outlinewidth": 0,
              "ticks": ""
             }
            },
            "type": "scatter3d"
           }
          ],
          "scattercarpet": [
           {
            "marker": {
             "colorbar": {
              "outlinewidth": 0,
              "ticks": ""
             }
            },
            "type": "scattercarpet"
           }
          ],
          "scattergeo": [
           {
            "marker": {
             "colorbar": {
              "outlinewidth": 0,
              "ticks": ""
             }
            },
            "type": "scattergeo"
           }
          ],
          "scattergl": [
           {
            "marker": {
             "colorbar": {
              "outlinewidth": 0,
              "ticks": ""
             }
            },
            "type": "scattergl"
           }
          ],
          "scattermapbox": [
           {
            "marker": {
             "colorbar": {
              "outlinewidth": 0,
              "ticks": ""
             }
            },
            "type": "scattermapbox"
           }
          ],
          "scatterpolar": [
           {
            "marker": {
             "colorbar": {
              "outlinewidth": 0,
              "ticks": ""
             }
            },
            "type": "scatterpolar"
           }
          ],
          "scatterpolargl": [
           {
            "marker": {
             "colorbar": {
              "outlinewidth": 0,
              "ticks": ""
             }
            },
            "type": "scatterpolargl"
           }
          ],
          "scatterternary": [
           {
            "marker": {
             "colorbar": {
              "outlinewidth": 0,
              "ticks": ""
             }
            },
            "type": "scatterternary"
           }
          ],
          "surface": [
           {
            "colorbar": {
             "outlinewidth": 0,
             "ticks": ""
            },
            "colorscale": [
             [
              0,
              "#0d0887"
             ],
             [
              0.1111111111111111,
              "#46039f"
             ],
             [
              0.2222222222222222,
              "#7201a8"
             ],
             [
              0.3333333333333333,
              "#9c179e"
             ],
             [
              0.4444444444444444,
              "#bd3786"
             ],
             [
              0.5555555555555556,
              "#d8576b"
             ],
             [
              0.6666666666666666,
              "#ed7953"
             ],
             [
              0.7777777777777778,
              "#fb9f3a"
             ],
             [
              0.8888888888888888,
              "#fdca26"
             ],
             [
              1,
              "#f0f921"
             ]
            ],
            "type": "surface"
           }
          ],
          "table": [
           {
            "cells": {
             "fill": {
              "color": "#EBF0F8"
             },
             "line": {
              "color": "white"
             }
            },
            "header": {
             "fill": {
              "color": "#C8D4E3"
             },
             "line": {
              "color": "white"
             }
            },
            "type": "table"
           }
          ]
         },
         "layout": {
          "annotationdefaults": {
           "arrowcolor": "#2a3f5f",
           "arrowhead": 0,
           "arrowwidth": 1
          },
          "autotypenumbers": "strict",
          "coloraxis": {
           "colorbar": {
            "outlinewidth": 0,
            "ticks": ""
           }
          },
          "colorscale": {
           "diverging": [
            [
             0,
             "#8e0152"
            ],
            [
             0.1,
             "#c51b7d"
            ],
            [
             0.2,
             "#de77ae"
            ],
            [
             0.3,
             "#f1b6da"
            ],
            [
             0.4,
             "#fde0ef"
            ],
            [
             0.5,
             "#f7f7f7"
            ],
            [
             0.6,
             "#e6f5d0"
            ],
            [
             0.7,
             "#b8e186"
            ],
            [
             0.8,
             "#7fbc41"
            ],
            [
             0.9,
             "#4d9221"
            ],
            [
             1,
             "#276419"
            ]
           ],
           "sequential": [
            [
             0,
             "#0d0887"
            ],
            [
             0.1111111111111111,
             "#46039f"
            ],
            [
             0.2222222222222222,
             "#7201a8"
            ],
            [
             0.3333333333333333,
             "#9c179e"
            ],
            [
             0.4444444444444444,
             "#bd3786"
            ],
            [
             0.5555555555555556,
             "#d8576b"
            ],
            [
             0.6666666666666666,
             "#ed7953"
            ],
            [
             0.7777777777777778,
             "#fb9f3a"
            ],
            [
             0.8888888888888888,
             "#fdca26"
            ],
            [
             1,
             "#f0f921"
            ]
           ],
           "sequentialminus": [
            [
             0,
             "#0d0887"
            ],
            [
             0.1111111111111111,
             "#46039f"
            ],
            [
             0.2222222222222222,
             "#7201a8"
            ],
            [
             0.3333333333333333,
             "#9c179e"
            ],
            [
             0.4444444444444444,
             "#bd3786"
            ],
            [
             0.5555555555555556,
             "#d8576b"
            ],
            [
             0.6666666666666666,
             "#ed7953"
            ],
            [
             0.7777777777777778,
             "#fb9f3a"
            ],
            [
             0.8888888888888888,
             "#fdca26"
            ],
            [
             1,
             "#f0f921"
            ]
           ]
          },
          "colorway": [
           "#636efa",
           "#EF553B",
           "#00cc96",
           "#ab63fa",
           "#FFA15A",
           "#19d3f3",
           "#FF6692",
           "#B6E880",
           "#FF97FF",
           "#FECB52"
          ],
          "font": {
           "color": "#2a3f5f"
          },
          "geo": {
           "bgcolor": "white",
           "lakecolor": "white",
           "landcolor": "#E5ECF6",
           "showlakes": true,
           "showland": true,
           "subunitcolor": "white"
          },
          "hoverlabel": {
           "align": "left"
          },
          "hovermode": "closest",
          "mapbox": {
           "style": "light"
          },
          "paper_bgcolor": "white",
          "plot_bgcolor": "#E5ECF6",
          "polar": {
           "angularaxis": {
            "gridcolor": "white",
            "linecolor": "white",
            "ticks": ""
           },
           "bgcolor": "#E5ECF6",
           "radialaxis": {
            "gridcolor": "white",
            "linecolor": "white",
            "ticks": ""
           }
          },
          "scene": {
           "xaxis": {
            "backgroundcolor": "#E5ECF6",
            "gridcolor": "white",
            "gridwidth": 2,
            "linecolor": "white",
            "showbackground": true,
            "ticks": "",
            "zerolinecolor": "white"
           },
           "yaxis": {
            "backgroundcolor": "#E5ECF6",
            "gridcolor": "white",
            "gridwidth": 2,
            "linecolor": "white",
            "showbackground": true,
            "ticks": "",
            "zerolinecolor": "white"
           },
           "zaxis": {
            "backgroundcolor": "#E5ECF6",
            "gridcolor": "white",
            "gridwidth": 2,
            "linecolor": "white",
            "showbackground": true,
            "ticks": "",
            "zerolinecolor": "white"
           }
          },
          "shapedefaults": {
           "line": {
            "color": "#2a3f5f"
           }
          },
          "ternary": {
           "aaxis": {
            "gridcolor": "white",
            "linecolor": "white",
            "ticks": ""
           },
           "baxis": {
            "gridcolor": "white",
            "linecolor": "white",
            "ticks": ""
           },
           "bgcolor": "#E5ECF6",
           "caxis": {
            "gridcolor": "white",
            "linecolor": "white",
            "ticks": ""
           }
          },
          "title": {
           "x": 0.05
          },
          "xaxis": {
           "automargin": true,
           "gridcolor": "white",
           "linecolor": "white",
           "ticks": "",
           "title": {
            "standoff": 15
           },
           "zerolinecolor": "white",
           "zerolinewidth": 2
          },
          "yaxis": {
           "automargin": true,
           "gridcolor": "white",
           "linecolor": "white",
           "ticks": "",
           "title": {
            "standoff": 15
           },
           "zerolinecolor": "white",
           "zerolinewidth": 2
          }
         }
        },
        "title": {
         "text": "Comparing the Percentage of Ratings for Beers by Provenance"
        },
        "yaxis": {
         "tickformat": ".0%",
         "title": {
          "text": "Percentage of Ratings"
         }
        }
       }
      }
     },
     "metadata": {},
     "output_type": "display_data"
    }
   ],
   "source": [
    "# display x axis in percentage\n",
    "fig = go.Figure()\n",
    "fig.add_trace(go.Bar(\n",
    "    y=cfm_ratings_by_location[\"norm_rating\"],\n",
    "    x=cfm_ratings_by_location.index,\n",
    "    name=\"CFM\",\n",
    "    orientation='v',\n",
    "    marker_color='#4477AA'\n",
    "))\n",
    "fig.add_trace(go.Bar(\n",
    "    y=exp_ratings_by_location[\"norm_rating\"] ,\n",
    "    x=exp_ratings_by_location.index,\n",
    "    name=\"EXP\",\n",
    "    orientation='v',\n",
    "    marker_color='#CCBB44'\n",
    "))\n",
    "fig.add_trace(go.Bar(\n",
    "    y=xpl_ratings_by_location[\"norm_rating\"] ,\n",
    "    x=xpl_ratings_by_location.index,\n",
    "    name=\"XPL\",\n",
    "    orientation='v',\n",
    "    marker_color='#228833'\n",
    "))\n",
    "fig.add_trace(go.Bar(\n",
    "    y=adv_ratings_by_location[\"norm_rating\"] ,\n",
    "    x=adv_ratings_by_location.index,\n",
    "    name=\"ADV\",\n",
    "    orientation='v',\n",
    "    marker_color='#AA3377'\n",
    "))\n",
    "fig.add_trace(go.Bar(\n",
    "    y=overall_ratings_by_location[\"norm_rating\"] ,\n",
    "    x=overall_ratings_by_location.index,\n",
    "    name=\"Overall\",\n",
    "    orientation='v',\n",
    "    marker_color='#777777'\n",
    "))\n",
    "\n",
    "\n",
    "fig.update_layout(barmode='group')\n",
    "\n",
    "\n",
    "# add percentage to y axis\n",
    "fig.update_yaxes(tickformat=\".0%\")\n",
    "\n",
    "# set title\n",
    "fig.update_layout(title_text=\"Comparing the Percentage of Ratings for Beers by Provenance\")\n",
    "\n",
    "# set y axis label\n",
    "fig.update_yaxes(title_text='Percentage of Ratings')\n",
    "\n",
    "# make plot transparent\n",
    "fig.update_layout(plot_bgcolor='rgba(0,0,0,0)', paper_bgcolor='rgba(0,0,0,0)')\n",
    "\n",
    "# save plot to html file\n",
    "fig.write_html(\"beer_ratings_by_location.html\")\n",
    "\n",
    "# show plot\n",
    "fig.show()\n"
   ]
  },
  {
   "cell_type": "markdown",
   "metadata": {},
   "source": [
    "Analysis: We see a similar pattern for all categories, they rate beers from where they come from. Indeed, we see that most ratings go to the most populous states of the US. However, by selecting 'adventurer' and 'overall' only, we see that adventurers, while still rating beers from California a lot, have a different behaviour to the general rater. Indeed, by selecting only 'adventurer' we see that they also rate beers from other countries a lot: beers from Canada, Germany, Belgium and England for example.  \n",
    " While Canada may not be surprising since a lot of adventurer come from Canada, and also Belgium is not that suprising because we see that a lot of rated beers come from Belgium if we take the ratings overall. The other countries are more suprising since there is no user from Germany and England from the users we considered. Also, we can see that this countries have a low number of ratings for all other categories.  \n",
    "\n",
    "\n",
    "It seems like adventurers are more likely to rate beers from other countries than the other categories."
   ]
  },
  {
   "cell_type": "markdown",
   "metadata": {},
   "source": [
    "# What country do each category like most ?"
   ]
  },
  {
   "cell_type": "code",
   "execution_count": 102,
   "metadata": {},
   "outputs": [],
   "source": [
    "# get average rating for each location for each category and overall\n",
    "cfm_ratings_by_location = beers_breweries_ratings_scores_df[beers_breweries_ratings_scores_df[\"is_cfm\"] == True]\n",
    "exp_ratings_by_location = beers_breweries_ratings_scores_df[beers_breweries_ratings_scores_df[\"is_exp\"] == True]\n",
    "xpl_ratings_by_location = beers_breweries_ratings_scores_df[beers_breweries_ratings_scores_df[\"is_xpl\"] == True]\n",
    "adv_ratings_by_location = beers_breweries_ratings_scores_df[beers_breweries_ratings_scores_df[\"is_adv\"] == True]\n",
    "overall_ratings_by_location = beers_breweries_ratings_scores_df\n",
    "\n",
    "\n",
    "cfm_ratings_by_location = cfm_ratings_by_location.groupby(\"beer_location\").agg({\"rating\": \"mean\"})\n",
    "exp_ratings_by_location = exp_ratings_by_location.groupby(\"beer_location\").agg({\"rating\": \"mean\"})\n",
    "xpl_ratings_by_location = xpl_ratings_by_location.groupby(\"beer_location\").agg({\"rating\": \"mean\"})\n",
    "adv_ratings_by_location = adv_ratings_by_location.groupby(\"beer_location\").agg({\"rating\": \"mean\"})\n",
    "overall_ratings_by_location = overall_ratings_by_location.groupby(\"beer_location\").agg({\"rating\": \"mean\"})\n"
   ]
  },
  {
   "cell_type": "code",
   "execution_count": 103,
   "metadata": {},
   "outputs": [
    {
     "data": {
      "text/html": [
       "<div>\n",
       "<style scoped>\n",
       "    .dataframe tbody tr th:only-of-type {\n",
       "        vertical-align: middle;\n",
       "    }\n",
       "\n",
       "    .dataframe tbody tr th {\n",
       "        vertical-align: top;\n",
       "    }\n",
       "\n",
       "    .dataframe thead th {\n",
       "        text-align: right;\n",
       "    }\n",
       "</style>\n",
       "<table border=\"1\" class=\"dataframe\">\n",
       "  <thead>\n",
       "    <tr style=\"text-align: right;\">\n",
       "      <th></th>\n",
       "      <th>rating</th>\n",
       "    </tr>\n",
       "    <tr>\n",
       "      <th>beer_location</th>\n",
       "      <th></th>\n",
       "    </tr>\n",
       "  </thead>\n",
       "  <tbody>\n",
       "    <tr>\n",
       "      <th>Albania</th>\n",
       "      <td>3.315556</td>\n",
       "    </tr>\n",
       "    <tr>\n",
       "      <th>Andorra</th>\n",
       "      <td>2.250000</td>\n",
       "    </tr>\n",
       "    <tr>\n",
       "      <th>Angola</th>\n",
       "      <td>2.800000</td>\n",
       "    </tr>\n",
       "    <tr>\n",
       "      <th>Antigua &amp; Barbuda</th>\n",
       "      <td>2.847500</td>\n",
       "    </tr>\n",
       "    <tr>\n",
       "      <th>Argentina</th>\n",
       "      <td>2.926750</td>\n",
       "    </tr>\n",
       "    <tr>\n",
       "      <th>...</th>\n",
       "      <td>...</td>\n",
       "    </tr>\n",
       "    <tr>\n",
       "      <th>Vietnam</th>\n",
       "      <td>2.782828</td>\n",
       "    </tr>\n",
       "    <tr>\n",
       "      <th>Virgin Islands (British)</th>\n",
       "      <td>3.000000</td>\n",
       "    </tr>\n",
       "    <tr>\n",
       "      <th>Virgin Islands (U.S.)</th>\n",
       "      <td>3.220833</td>\n",
       "    </tr>\n",
       "    <tr>\n",
       "      <th>Wales</th>\n",
       "      <td>3.722239</td>\n",
       "    </tr>\n",
       "    <tr>\n",
       "      <th>Zimbabwe</th>\n",
       "      <td>3.113333</td>\n",
       "    </tr>\n",
       "  </tbody>\n",
       "</table>\n",
       "<p>218 rows × 1 columns</p>\n",
       "</div>"
      ],
      "text/plain": [
       "                            rating\n",
       "beer_location                     \n",
       "Albania                   3.315556\n",
       "Andorra                   2.250000\n",
       "Angola                    2.800000\n",
       "Antigua & Barbuda         2.847500\n",
       "Argentina                 2.926750\n",
       "...                            ...\n",
       "Vietnam                   2.782828\n",
       "Virgin Islands (British)  3.000000\n",
       "Virgin Islands (U.S.)     3.220833\n",
       "Wales                     3.722239\n",
       "Zimbabwe                  3.113333\n",
       "\n",
       "[218 rows x 1 columns]"
      ]
     },
     "execution_count": 103,
     "metadata": {},
     "output_type": "execute_result"
    }
   ],
   "source": [
    "cfm_ratings_by_location"
   ]
  },
  {
   "cell_type": "code",
   "execution_count": 104,
   "metadata": {},
   "outputs": [],
   "source": [
    "# filter out locations with less than 10 ratings using locations_low_rating\n",
    "cfm_ratings_by_location = cfm_ratings_by_location[~cfm_ratings_by_location.index.isin(cfm_locations_to_remove)]\n",
    "exp_ratings_by_location = exp_ratings_by_location[~exp_ratings_by_location.index.isin(exp_locations_to_remove)]\n",
    "xpl_ratings_by_location = xpl_ratings_by_location[~xpl_ratings_by_location.index.isin(xpl_locations_to_remove)]\n",
    "adv_ratings_by_location = adv_ratings_by_location[~adv_ratings_by_location.index.isin(adv_locations_to_remove)]\n",
    "overall_ratings_by_location = overall_ratings_by_location[~overall_ratings_by_location.index.isin(overall_locations_to_remove)]\n",
    "\n",
    "# filter out locations to remove\n",
    "cfm_ratings_by_location = cfm_ratings_by_location[~cfm_ratings_by_location.index.isin(locations_to_remove)]\n",
    "exp_ratings_by_location = exp_ratings_by_location[~exp_ratings_by_location.index.isin(locations_to_remove)]\n",
    "xpl_ratings_by_location = xpl_ratings_by_location[~xpl_ratings_by_location.index.isin(locations_to_remove)]\n",
    "adv_ratings_by_location = adv_ratings_by_location[~adv_ratings_by_location.index.isin(locations_to_remove)]\n",
    "overall_ratings_by_location = overall_ratings_by_location[~overall_ratings_by_location.index.isin(locations_to_remove)]\n",
    "\n",
    "# filter out locations_to_remove_rating\n",
    "cfm_ratings_by_location = cfm_ratings_by_location[~cfm_ratings_by_location.index.isin(locations_low_rating)]\n",
    "exp_ratings_by_location = exp_ratings_by_location[~exp_ratings_by_location.index.isin(locations_low_rating)]\n",
    "xpl_ratings_by_location = xpl_ratings_by_location[~xpl_ratings_by_location.index.isin(locations_low_rating)]\n",
    "adv_ratings_by_location = adv_ratings_by_location[~adv_ratings_by_location.index.isin(locations_low_rating)]\n",
    "overall_ratings_by_location = overall_ratings_by_location[~overall_ratings_by_location.index.isin(locations_low_rating)]"
   ]
  },
  {
   "cell_type": "code",
   "execution_count": 105,
   "metadata": {},
   "outputs": [
    {
     "data": {
      "text/html": [
       "<div>\n",
       "<style scoped>\n",
       "    .dataframe tbody tr th:only-of-type {\n",
       "        vertical-align: middle;\n",
       "    }\n",
       "\n",
       "    .dataframe tbody tr th {\n",
       "        vertical-align: top;\n",
       "    }\n",
       "\n",
       "    .dataframe thead th {\n",
       "        text-align: right;\n",
       "    }\n",
       "</style>\n",
       "<table border=\"1\" class=\"dataframe\">\n",
       "  <thead>\n",
       "    <tr style=\"text-align: right;\">\n",
       "      <th></th>\n",
       "      <th>rating</th>\n",
       "    </tr>\n",
       "    <tr>\n",
       "      <th>beer_location</th>\n",
       "      <th></th>\n",
       "    </tr>\n",
       "  </thead>\n",
       "  <tbody>\n",
       "    <tr>\n",
       "      <th>Australia</th>\n",
       "      <td>3.766667</td>\n",
       "    </tr>\n",
       "    <tr>\n",
       "      <th>Austria</th>\n",
       "      <td>3.936250</td>\n",
       "    </tr>\n",
       "    <tr>\n",
       "      <th>Belgium</th>\n",
       "      <td>4.614735</td>\n",
       "    </tr>\n",
       "    <tr>\n",
       "      <th>Canada</th>\n",
       "      <td>3.896453</td>\n",
       "    </tr>\n",
       "    <tr>\n",
       "      <th>China</th>\n",
       "      <td>4.350714</td>\n",
       "    </tr>\n",
       "    <tr>\n",
       "      <th>...</th>\n",
       "      <td>...</td>\n",
       "    </tr>\n",
       "    <tr>\n",
       "      <th>United States, Vermont</th>\n",
       "      <td>4.745837</td>\n",
       "    </tr>\n",
       "    <tr>\n",
       "      <th>United States, Virginia</th>\n",
       "      <td>4.163511</td>\n",
       "    </tr>\n",
       "    <tr>\n",
       "      <th>United States, Washington</th>\n",
       "      <td>4.207939</td>\n",
       "    </tr>\n",
       "    <tr>\n",
       "      <th>United States, Wisconsin</th>\n",
       "      <td>4.102790</td>\n",
       "    </tr>\n",
       "    <tr>\n",
       "      <th>Utah&lt;/a&gt;&lt;br&gt;&lt;a href=\"http://utahbeers.com\" target=\"_blank\"&gt;utahbeers.com</th>\n",
       "      <td>3.973000</td>\n",
       "    </tr>\n",
       "  </tbody>\n",
       "</table>\n",
       "<p>67 rows × 1 columns</p>\n",
       "</div>"
      ],
      "text/plain": [
       "                                                      rating\n",
       "beer_location                                               \n",
       "Australia                                           3.766667\n",
       "Austria                                             3.936250\n",
       "Belgium                                             4.614735\n",
       "Canada                                              3.896453\n",
       "China                                               4.350714\n",
       "...                                                      ...\n",
       "United States, Vermont                              4.745837\n",
       "United States, Virginia                             4.163511\n",
       "United States, Washington                           4.207939\n",
       "United States, Wisconsin                            4.102790\n",
       "Utah</a><br><a href=\"http://utahbeers.com\" targ...  3.973000\n",
       "\n",
       "[67 rows x 1 columns]"
      ]
     },
     "execution_count": 105,
     "metadata": {},
     "output_type": "execute_result"
    }
   ],
   "source": [
    "exp_ratings_by_location"
   ]
  },
  {
   "cell_type": "code",
   "execution_count": 106,
   "metadata": {
    "vscode": {
     "languageId": "ruby"
    }
   },
   "outputs": [],
   "source": [
    "# normalize by average rating overall\n",
    "cfm_ratings_by_location = cfm_ratings_by_location['rating'] / cfm_ratings[\"rating\"].mean()\n",
    "exp_ratings_by_location = exp_ratings_by_location['rating'] / exp_ratings[\"rating\"].mean()\n",
    "xpl_ratings_by_location = xpl_ratings_by_location['rating'] / xpl_ratings[\"rating\"].mean()\n",
    "adv_ratings_by_location = adv_ratings_by_location['rating'] / adv_ratings[\"rating\"].mean()\n",
    "overall_ratings_by_location = overall_ratings_by_location['rating'] / overall_ratings[\"rating\"].mean()"
   ]
  },
  {
   "cell_type": "code",
   "execution_count": 107,
   "metadata": {
    "vscode": {
     "languageId": "ruby"
    }
   },
   "outputs": [],
   "source": [
    "# sort the the ratings series by rating\n",
    "cfm_ratings_by_location = cfm_ratings_by_location.sort_values(ascending=False)\n",
    "exp_ratings_by_location = exp_ratings_by_location.sort_values(ascending=False)\n",
    "xpl_ratings_by_location = xpl_ratings_by_location.sort_values(ascending=False)\n",
    "adv_ratings_by_location = adv_ratings_by_location.sort_values(ascending=False)\n",
    "overall_ratings_by_location = overall_ratings_by_location.sort_values(ascending=False)\n",
    "\n",
    "\n",
    "\n",
    "# get top 10 locations for each category and overall\n",
    "cfm_ratings_by_location_top_10 = cfm_ratings_by_location[:10]\n",
    "exp_ratings_by_location_top_10 = exp_ratings_by_location[:10]\n",
    "xpl_ratings_by_location_top_10 = xpl_ratings_by_location[:10]\n",
    "adv_ratings_by_location_top_10 = adv_ratings_by_location[:10]\n",
    "overall_ratings_by_location_top_10 = overall_ratings_by_location[:10]"
   ]
  },
  {
   "cell_type": "code",
   "execution_count": 108,
   "metadata": {
    "vscode": {
     "languageId": "ruby"
    }
   },
   "outputs": [
    {
     "data": {
      "text/plain": [
       "['United States, Iowa',\n",
       " 'United States, Oregon',\n",
       " 'United States, Indiana',\n",
       " 'United States, Michigan',\n",
       " 'Sweden',\n",
       " 'Scotland',\n",
       " 'United States, Ohio',\n",
       " 'United States, Alaska',\n",
       " 'United States, Arkansas',\n",
       " 'United States, Vermont',\n",
       " 'United States, California',\n",
       " 'United States, Illinois',\n",
       " 'Belgium',\n",
       " 'United States, Delaware',\n",
       " 'United States, Oklahoma',\n",
       " 'United States, Florida',\n",
       " 'United States, Maine',\n",
       " 'United States, Massachusetts',\n",
       " 'United States, Georgia']"
      ]
     },
     "execution_count": 108,
     "metadata": {},
     "output_type": "execute_result"
    }
   ],
   "source": [
    "# get list of locations that appear in a top 10 list of any category\n",
    "top_10_locations = list(set(cfm_ratings_by_location_top_10.index).union(set(exp_ratings_by_location_top_10.index)).union(set(xpl_ratings_by_location_top_10.index)).union(set(adv_ratings_by_location_top_10.index)).union(set(overall_ratings_by_location_top_10.index)))\n",
    "top_10_locations"
   ]
  },
  {
   "cell_type": "code",
   "execution_count": 109,
   "metadata": {
    "vscode": {
     "languageId": "ruby"
    }
   },
   "outputs": [],
   "source": [
    "# filter out locations that are not in the top 10 list of any category\n",
    "cfm_ratings_by_location = cfm_ratings_by_location[cfm_ratings_by_location.index.isin(top_10_locations)]\n",
    "exp_ratings_by_location = exp_ratings_by_location[exp_ratings_by_location.index.isin(top_10_locations)]\n",
    "xpl_ratings_by_location = xpl_ratings_by_location[xpl_ratings_by_location.index.isin(top_10_locations)]\n",
    "adv_ratings_by_location = adv_ratings_by_location[adv_ratings_by_location.index.isin(top_10_locations)]\n",
    "overall_ratings_by_location = overall_ratings_by_location[overall_ratings_by_location.index.isin(top_10_locations)]\n",
    "\n",
    "\n"
   ]
  },
  {
   "cell_type": "code",
   "execution_count": 110,
   "metadata": {
    "vscode": {
     "languageId": "ruby"
    }
   },
   "outputs": [
    {
     "data": {
      "text/plain": [
       "beer_location\n",
       "United States, Iowa             1.071670\n",
       "United States, Oklahoma         1.058052\n",
       "Belgium                         1.049095\n",
       "United States, Indiana          1.048696\n",
       "United States, Vermont          1.046038\n",
       "United States, California       1.034708\n",
       "United States, Florida          1.031178\n",
       "United States, Illinois         1.030957\n",
       "United States, Ohio             1.030743\n",
       "United States, Michigan         1.029152\n",
       "United States, Alaska           1.017444\n",
       "United States, Oregon           1.016366\n",
       "United States, Maine            1.016046\n",
       "United States, Delaware         1.013408\n",
       "Sweden                          1.009762\n",
       "United States, Massachusetts    0.994846\n",
       "United States, Georgia          0.992992\n",
       "Scotland                        0.986607\n",
       "United States, Arkansas         0.980241\n",
       "Name: rating, dtype: float64"
      ]
     },
     "execution_count": 110,
     "metadata": {},
     "output_type": "execute_result"
    }
   ],
   "source": [
    "overall_ratings_by_location"
   ]
  },
  {
   "cell_type": "code",
   "execution_count": 127,
   "metadata": {
    "vscode": {
     "languageId": "ruby"
    }
   },
   "outputs": [
    {
     "data": {
      "application/vnd.plotly.v1+json": {
       "config": {
        "plotlyServerURL": "https://plot.ly"
       },
       "data": [
        {
         "marker": {
          "color": "#4477AA"
         },
         "name": "Conformist",
         "orientation": "v",
         "type": "bar",
         "x": [
          "United States, Iowa",
          "United States, Oklahoma",
          "Belgium",
          "United States, Indiana",
          "United States, Vermont",
          "United States, California",
          "United States, Florida",
          "United States, Illinois",
          "United States, Ohio",
          "Sweden",
          "United States, Michigan",
          "United States, Maine",
          "United States, Oregon",
          "United States, Alaska",
          "United States, Delaware",
          "United States, Massachusetts",
          "United States, Georgia",
          "United States, Arkansas",
          "Scotland"
         ],
         "y": [
          1.0706660314959524,
          1.059062254121745,
          1.0440586397566007,
          1.0430096345731028,
          1.0400306216767472,
          1.029828176711804,
          1.028617002280365,
          1.0269919144434017,
          1.026943055461195,
          1.0249324204231876,
          1.0224221957045638,
          1.020083533991859,
          1.0151178421572578,
          1.0140742636552251,
          1.00591256545437,
          1.0012483139231827,
          0.9884671208237955,
          0.9872035419943771,
          0.9853630668171447
         ]
        },
        {
         "marker": {
          "color": "#CCBB44"
         },
         "name": "Expert-like",
         "orientation": "v",
         "type": "bar",
         "x": [
          "United States, Vermont",
          "United States, Iowa",
          "United States, Indiana",
          "United States, Oklahoma",
          "Belgium",
          "United States, Illinois",
          "United States, Michigan",
          "United States, California",
          "United States, Maine",
          "United States, Massachusetts",
          "United States, Florida",
          "Sweden",
          "United States, Arkansas",
          "United States, Oregon",
          "United States, Ohio",
          "United States, Delaware",
          "United States, Alaska",
          "United States, Georgia",
          "Scotland"
         ],
         "y": [
          1.0802467712358703,
          1.0733005693353574,
          1.0557286226544191,
          1.0547987038959008,
          1.050405453270347,
          1.0457539678404726,
          1.0431634754152286,
          1.037932376506883,
          1.0351617311496775,
          1.0315099482594967,
          1.0292440136140781,
          1.018761502994145,
          1.0179160577634445,
          1.0124350344167259,
          1.008844652648072,
          0.990437787080707,
          0.9641380649172954,
          0.9576400588522095,
          0.903850258190283
         ]
        },
        {
         "marker": {
          "color": "#228833"
         },
         "name": "Explorer",
         "orientation": "v",
         "type": "bar",
         "x": [
          "United States, Oklahoma",
          "United States, Indiana",
          "Belgium",
          "United States, Iowa",
          "United States, Vermont",
          "United States, Florida",
          "United States, Ohio",
          "United States, Illinois",
          "United States, California",
          "United States, Alaska",
          "United States, Oregon",
          "United States, Michigan",
          "United States, Maine",
          "United States, Delaware",
          "United States, Massachusetts",
          "Sweden",
          "United States, Georgia",
          "United States, Arkansas",
          "Scotland"
         ],
         "y": [
          1.0498975780595412,
          1.0417271525281464,
          1.0416746696525399,
          1.0400723808234476,
          1.038654460925849,
          1.0323253765926377,
          1.0322276837397608,
          1.0292146447629726,
          1.0290914062322454,
          1.027959587502384,
          1.0228316409863534,
          1.0202466336947627,
          1.019055811486478,
          1.0106026318107242,
          1.0077677540274823,
          1.0069336327892842,
          1.0057886411218655,
          0.9977762541576861,
          0.9901372673561808
         ]
        },
        {
         "marker": {
          "color": "#AA3377"
         },
         "name": "Adventurer",
         "orientation": "v",
         "type": "bar",
         "x": [
          "United States, Delaware",
          "United States, Indiana",
          "Belgium",
          "United States, Ohio",
          "United States, Michigan",
          "United States, Oregon",
          "United States, Georgia",
          "Scotland",
          "United States, Arkansas",
          "United States, Alaska",
          "United States, California",
          "United States, Illinois",
          "United States, Oklahoma",
          "United States, Maine",
          "United States, Massachusetts",
          "United States, Vermont",
          "United States, Iowa",
          "United States, Florida",
          "Sweden"
         ],
         "y": [
          1.1428348856735315,
          1.1170868213851313,
          1.114381795436214,
          1.11140311194659,
          1.1113406712792795,
          1.0857724795382722,
          1.0804654519710064,
          1.078323919521194,
          1.0754066144214145,
          1.074860026802453,
          1.0721962480957776,
          1.0586318184163588,
          1.0534813139289756,
          1.0430997136058093,
          1.039808067853737,
          1.0339657536519793,
          1.0339383953247683,
          0.9967201959590634,
          0.9668356234073081
         ]
        },
        {
         "marker": {
          "color": "#777777"
         },
         "name": "Overall",
         "orientation": "v",
         "type": "bar",
         "x": [
          "United States, Iowa",
          "United States, Oklahoma",
          "Belgium",
          "United States, Indiana",
          "United States, Vermont",
          "United States, California",
          "United States, Florida",
          "United States, Illinois",
          "United States, Ohio",
          "United States, Michigan",
          "United States, Alaska",
          "United States, Oregon",
          "United States, Maine",
          "United States, Delaware",
          "Sweden",
          "United States, Massachusetts",
          "United States, Georgia",
          "Scotland",
          "United States, Arkansas"
         ],
         "y": [
          1.0716699641641148,
          1.0580524401761822,
          1.0490949989364438,
          1.0486964530424672,
          1.0460381701561803,
          1.034708026461796,
          1.031177890495208,
          1.0309570353822253,
          1.030742742461155,
          1.0291523845776638,
          1.017443596905876,
          1.016365780872571,
          1.0160458570205186,
          1.0134084745702912,
          1.0097624050549665,
          0.9948460372121559,
          0.9929915219562484,
          0.9866067532501458,
          0.980240938668637
         ]
        }
       ],
       "layout": {
        "barmode": "group",
        "paper_bgcolor": "rgba(0,0,0,0)",
        "plot_bgcolor": "rgba(0,0,0,0)",
        "shapes": [
         {
          "line": {
           "color": "black",
           "dash": "dash",
           "width": 1.5
          },
          "type": "line",
          "x0": 0,
          "x1": 1,
          "xref": "x domain",
          "y0": 1,
          "y1": 1,
          "yref": "y"
         }
        ],
        "template": {
         "data": {
          "bar": [
           {
            "error_x": {
             "color": "#2a3f5f"
            },
            "error_y": {
             "color": "#2a3f5f"
            },
            "marker": {
             "line": {
              "color": "#E5ECF6",
              "width": 0.5
             },
             "pattern": {
              "fillmode": "overlay",
              "size": 10,
              "solidity": 0.2
             }
            },
            "type": "bar"
           }
          ],
          "barpolar": [
           {
            "marker": {
             "line": {
              "color": "#E5ECF6",
              "width": 0.5
             },
             "pattern": {
              "fillmode": "overlay",
              "size": 10,
              "solidity": 0.2
             }
            },
            "type": "barpolar"
           }
          ],
          "carpet": [
           {
            "aaxis": {
             "endlinecolor": "#2a3f5f",
             "gridcolor": "white",
             "linecolor": "white",
             "minorgridcolor": "white",
             "startlinecolor": "#2a3f5f"
            },
            "baxis": {
             "endlinecolor": "#2a3f5f",
             "gridcolor": "white",
             "linecolor": "white",
             "minorgridcolor": "white",
             "startlinecolor": "#2a3f5f"
            },
            "type": "carpet"
           }
          ],
          "choropleth": [
           {
            "colorbar": {
             "outlinewidth": 0,
             "ticks": ""
            },
            "type": "choropleth"
           }
          ],
          "contour": [
           {
            "colorbar": {
             "outlinewidth": 0,
             "ticks": ""
            },
            "colorscale": [
             [
              0,
              "#0d0887"
             ],
             [
              0.1111111111111111,
              "#46039f"
             ],
             [
              0.2222222222222222,
              "#7201a8"
             ],
             [
              0.3333333333333333,
              "#9c179e"
             ],
             [
              0.4444444444444444,
              "#bd3786"
             ],
             [
              0.5555555555555556,
              "#d8576b"
             ],
             [
              0.6666666666666666,
              "#ed7953"
             ],
             [
              0.7777777777777778,
              "#fb9f3a"
             ],
             [
              0.8888888888888888,
              "#fdca26"
             ],
             [
              1,
              "#f0f921"
             ]
            ],
            "type": "contour"
           }
          ],
          "contourcarpet": [
           {
            "colorbar": {
             "outlinewidth": 0,
             "ticks": ""
            },
            "type": "contourcarpet"
           }
          ],
          "heatmap": [
           {
            "colorbar": {
             "outlinewidth": 0,
             "ticks": ""
            },
            "colorscale": [
             [
              0,
              "#0d0887"
             ],
             [
              0.1111111111111111,
              "#46039f"
             ],
             [
              0.2222222222222222,
              "#7201a8"
             ],
             [
              0.3333333333333333,
              "#9c179e"
             ],
             [
              0.4444444444444444,
              "#bd3786"
             ],
             [
              0.5555555555555556,
              "#d8576b"
             ],
             [
              0.6666666666666666,
              "#ed7953"
             ],
             [
              0.7777777777777778,
              "#fb9f3a"
             ],
             [
              0.8888888888888888,
              "#fdca26"
             ],
             [
              1,
              "#f0f921"
             ]
            ],
            "type": "heatmap"
           }
          ],
          "heatmapgl": [
           {
            "colorbar": {
             "outlinewidth": 0,
             "ticks": ""
            },
            "colorscale": [
             [
              0,
              "#0d0887"
             ],
             [
              0.1111111111111111,
              "#46039f"
             ],
             [
              0.2222222222222222,
              "#7201a8"
             ],
             [
              0.3333333333333333,
              "#9c179e"
             ],
             [
              0.4444444444444444,
              "#bd3786"
             ],
             [
              0.5555555555555556,
              "#d8576b"
             ],
             [
              0.6666666666666666,
              "#ed7953"
             ],
             [
              0.7777777777777778,
              "#fb9f3a"
             ],
             [
              0.8888888888888888,
              "#fdca26"
             ],
             [
              1,
              "#f0f921"
             ]
            ],
            "type": "heatmapgl"
           }
          ],
          "histogram": [
           {
            "marker": {
             "pattern": {
              "fillmode": "overlay",
              "size": 10,
              "solidity": 0.2
             }
            },
            "type": "histogram"
           }
          ],
          "histogram2d": [
           {
            "colorbar": {
             "outlinewidth": 0,
             "ticks": ""
            },
            "colorscale": [
             [
              0,
              "#0d0887"
             ],
             [
              0.1111111111111111,
              "#46039f"
             ],
             [
              0.2222222222222222,
              "#7201a8"
             ],
             [
              0.3333333333333333,
              "#9c179e"
             ],
             [
              0.4444444444444444,
              "#bd3786"
             ],
             [
              0.5555555555555556,
              "#d8576b"
             ],
             [
              0.6666666666666666,
              "#ed7953"
             ],
             [
              0.7777777777777778,
              "#fb9f3a"
             ],
             [
              0.8888888888888888,
              "#fdca26"
             ],
             [
              1,
              "#f0f921"
             ]
            ],
            "type": "histogram2d"
           }
          ],
          "histogram2dcontour": [
           {
            "colorbar": {
             "outlinewidth": 0,
             "ticks": ""
            },
            "colorscale": [
             [
              0,
              "#0d0887"
             ],
             [
              0.1111111111111111,
              "#46039f"
             ],
             [
              0.2222222222222222,
              "#7201a8"
             ],
             [
              0.3333333333333333,
              "#9c179e"
             ],
             [
              0.4444444444444444,
              "#bd3786"
             ],
             [
              0.5555555555555556,
              "#d8576b"
             ],
             [
              0.6666666666666666,
              "#ed7953"
             ],
             [
              0.7777777777777778,
              "#fb9f3a"
             ],
             [
              0.8888888888888888,
              "#fdca26"
             ],
             [
              1,
              "#f0f921"
             ]
            ],
            "type": "histogram2dcontour"
           }
          ],
          "mesh3d": [
           {
            "colorbar": {
             "outlinewidth": 0,
             "ticks": ""
            },
            "type": "mesh3d"
           }
          ],
          "parcoords": [
           {
            "line": {
             "colorbar": {
              "outlinewidth": 0,
              "ticks": ""
             }
            },
            "type": "parcoords"
           }
          ],
          "pie": [
           {
            "automargin": true,
            "type": "pie"
           }
          ],
          "scatter": [
           {
            "fillpattern": {
             "fillmode": "overlay",
             "size": 10,
             "solidity": 0.2
            },
            "type": "scatter"
           }
          ],
          "scatter3d": [
           {
            "line": {
             "colorbar": {
              "outlinewidth": 0,
              "ticks": ""
             }
            },
            "marker": {
             "colorbar": {
              "outlinewidth": 0,
              "ticks": ""
             }
            },
            "type": "scatter3d"
           }
          ],
          "scattercarpet": [
           {
            "marker": {
             "colorbar": {
              "outlinewidth": 0,
              "ticks": ""
             }
            },
            "type": "scattercarpet"
           }
          ],
          "scattergeo": [
           {
            "marker": {
             "colorbar": {
              "outlinewidth": 0,
              "ticks": ""
             }
            },
            "type": "scattergeo"
           }
          ],
          "scattergl": [
           {
            "marker": {
             "colorbar": {
              "outlinewidth": 0,
              "ticks": ""
             }
            },
            "type": "scattergl"
           }
          ],
          "scattermapbox": [
           {
            "marker": {
             "colorbar": {
              "outlinewidth": 0,
              "ticks": ""
             }
            },
            "type": "scattermapbox"
           }
          ],
          "scatterpolar": [
           {
            "marker": {
             "colorbar": {
              "outlinewidth": 0,
              "ticks": ""
             }
            },
            "type": "scatterpolar"
           }
          ],
          "scatterpolargl": [
           {
            "marker": {
             "colorbar": {
              "outlinewidth": 0,
              "ticks": ""
             }
            },
            "type": "scatterpolargl"
           }
          ],
          "scatterternary": [
           {
            "marker": {
             "colorbar": {
              "outlinewidth": 0,
              "ticks": ""
             }
            },
            "type": "scatterternary"
           }
          ],
          "surface": [
           {
            "colorbar": {
             "outlinewidth": 0,
             "ticks": ""
            },
            "colorscale": [
             [
              0,
              "#0d0887"
             ],
             [
              0.1111111111111111,
              "#46039f"
             ],
             [
              0.2222222222222222,
              "#7201a8"
             ],
             [
              0.3333333333333333,
              "#9c179e"
             ],
             [
              0.4444444444444444,
              "#bd3786"
             ],
             [
              0.5555555555555556,
              "#d8576b"
             ],
             [
              0.6666666666666666,
              "#ed7953"
             ],
             [
              0.7777777777777778,
              "#fb9f3a"
             ],
             [
              0.8888888888888888,
              "#fdca26"
             ],
             [
              1,
              "#f0f921"
             ]
            ],
            "type": "surface"
           }
          ],
          "table": [
           {
            "cells": {
             "fill": {
              "color": "#EBF0F8"
             },
             "line": {
              "color": "white"
             }
            },
            "header": {
             "fill": {
              "color": "#C8D4E3"
             },
             "line": {
              "color": "white"
             }
            },
            "type": "table"
           }
          ]
         },
         "layout": {
          "annotationdefaults": {
           "arrowcolor": "#2a3f5f",
           "arrowhead": 0,
           "arrowwidth": 1
          },
          "autotypenumbers": "strict",
          "coloraxis": {
           "colorbar": {
            "outlinewidth": 0,
            "ticks": ""
           }
          },
          "colorscale": {
           "diverging": [
            [
             0,
             "#8e0152"
            ],
            [
             0.1,
             "#c51b7d"
            ],
            [
             0.2,
             "#de77ae"
            ],
            [
             0.3,
             "#f1b6da"
            ],
            [
             0.4,
             "#fde0ef"
            ],
            [
             0.5,
             "#f7f7f7"
            ],
            [
             0.6,
             "#e6f5d0"
            ],
            [
             0.7,
             "#b8e186"
            ],
            [
             0.8,
             "#7fbc41"
            ],
            [
             0.9,
             "#4d9221"
            ],
            [
             1,
             "#276419"
            ]
           ],
           "sequential": [
            [
             0,
             "#0d0887"
            ],
            [
             0.1111111111111111,
             "#46039f"
            ],
            [
             0.2222222222222222,
             "#7201a8"
            ],
            [
             0.3333333333333333,
             "#9c179e"
            ],
            [
             0.4444444444444444,
             "#bd3786"
            ],
            [
             0.5555555555555556,
             "#d8576b"
            ],
            [
             0.6666666666666666,
             "#ed7953"
            ],
            [
             0.7777777777777778,
             "#fb9f3a"
            ],
            [
             0.8888888888888888,
             "#fdca26"
            ],
            [
             1,
             "#f0f921"
            ]
           ],
           "sequentialminus": [
            [
             0,
             "#0d0887"
            ],
            [
             0.1111111111111111,
             "#46039f"
            ],
            [
             0.2222222222222222,
             "#7201a8"
            ],
            [
             0.3333333333333333,
             "#9c179e"
            ],
            [
             0.4444444444444444,
             "#bd3786"
            ],
            [
             0.5555555555555556,
             "#d8576b"
            ],
            [
             0.6666666666666666,
             "#ed7953"
            ],
            [
             0.7777777777777778,
             "#fb9f3a"
            ],
            [
             0.8888888888888888,
             "#fdca26"
            ],
            [
             1,
             "#f0f921"
            ]
           ]
          },
          "colorway": [
           "#636efa",
           "#EF553B",
           "#00cc96",
           "#ab63fa",
           "#FFA15A",
           "#19d3f3",
           "#FF6692",
           "#B6E880",
           "#FF97FF",
           "#FECB52"
          ],
          "font": {
           "color": "#2a3f5f"
          },
          "geo": {
           "bgcolor": "white",
           "lakecolor": "white",
           "landcolor": "#E5ECF6",
           "showlakes": true,
           "showland": true,
           "subunitcolor": "white"
          },
          "hoverlabel": {
           "align": "left"
          },
          "hovermode": "closest",
          "mapbox": {
           "style": "light"
          },
          "paper_bgcolor": "white",
          "plot_bgcolor": "#E5ECF6",
          "polar": {
           "angularaxis": {
            "gridcolor": "white",
            "linecolor": "white",
            "ticks": ""
           },
           "bgcolor": "#E5ECF6",
           "radialaxis": {
            "gridcolor": "white",
            "linecolor": "white",
            "ticks": ""
           }
          },
          "scene": {
           "xaxis": {
            "backgroundcolor": "#E5ECF6",
            "gridcolor": "white",
            "gridwidth": 2,
            "linecolor": "white",
            "showbackground": true,
            "ticks": "",
            "zerolinecolor": "white"
           },
           "yaxis": {
            "backgroundcolor": "#E5ECF6",
            "gridcolor": "white",
            "gridwidth": 2,
            "linecolor": "white",
            "showbackground": true,
            "ticks": "",
            "zerolinecolor": "white"
           },
           "zaxis": {
            "backgroundcolor": "#E5ECF6",
            "gridcolor": "white",
            "gridwidth": 2,
            "linecolor": "white",
            "showbackground": true,
            "ticks": "",
            "zerolinecolor": "white"
           }
          },
          "shapedefaults": {
           "line": {
            "color": "#2a3f5f"
           }
          },
          "ternary": {
           "aaxis": {
            "gridcolor": "white",
            "linecolor": "white",
            "ticks": ""
           },
           "baxis": {
            "gridcolor": "white",
            "linecolor": "white",
            "ticks": ""
           },
           "bgcolor": "#E5ECF6",
           "caxis": {
            "gridcolor": "white",
            "linecolor": "white",
            "ticks": ""
           }
          },
          "title": {
           "x": 0.05
          },
          "xaxis": {
           "automargin": true,
           "gridcolor": "white",
           "linecolor": "white",
           "ticks": "",
           "title": {
            "standoff": 15
           },
           "zerolinecolor": "white",
           "zerolinewidth": 2
          },
          "yaxis": {
           "automargin": true,
           "gridcolor": "white",
           "linecolor": "white",
           "ticks": "",
           "title": {
            "standoff": 15
           },
           "zerolinecolor": "white",
           "zerolinewidth": 2
          }
         }
        },
        "title": {
         "text": "Comparing Average Ratings of Beers by Provenance for Each Category"
        },
        "xaxis": {
         "categoryarray": [
          "United States, Iowa",
          "United States, Oklahoma",
          "Belgium",
          "United States, Indiana",
          "United States, Vermont",
          "United States, California",
          "United States, Florida",
          "United States, Illinois",
          "United States, Ohio",
          "Sweden",
          "United States, Michigan",
          "United States, Maine",
          "United States, Oregon",
          "United States, Alaska",
          "United States, Delaware",
          "United States, Massachusetts",
          "United States, Georgia",
          "United States, Arkansas",
          "Scotland"
         ],
         "categoryorder": "array"
        },
        "yaxis": {
         "range": [
          0.8,
          1.2
         ],
         "title": {
          "text": "Average Rating (Normalized)"
         }
        }
       }
      }
     },
     "metadata": {},
     "output_type": "display_data"
    }
   ],
   "source": [
    "fig = go.Figure()\n",
    "\n",
    "\n",
    "fig.add_trace(go.Bar(\n",
    "    y=cfm_ratings_by_location.values,\n",
    "    x=cfm_ratings_by_location.index,\n",
    "    name=\"Conformist\",\n",
    "    orientation='v',\n",
    "    marker_color='#4477AA'\n",
    "))\n",
    "fig.add_trace(go.Bar(\n",
    "    y=exp_ratings_by_location.values,\n",
    "    x=exp_ratings_by_location.index,\n",
    "    name=\"Expert-like\",\n",
    "    orientation='v',\n",
    "    marker_color='#CCBB44'\n",
    "))\n",
    "fig.add_trace(go.Bar( \n",
    "    y=xpl_ratings_by_location.values,\n",
    "    x=xpl_ratings_by_location.index,\n",
    "    name=\"Explorer\",\n",
    "    orientation='v',\n",
    "    marker_color='#228833'\n",
    "))\n",
    "fig.add_trace(go.Bar(\n",
    "    y=adv_ratings_by_location.values,\n",
    "    x=adv_ratings_by_location.index,\n",
    "    name=\"Adventurer\",\n",
    "    orientation='v',\n",
    "    marker_color='#AA3377'\n",
    "))\n",
    "fig.add_trace(go.Bar(\n",
    "    y=overall_ratings_by_location.values,\n",
    "    x=overall_ratings_by_location.index,\n",
    "    name=\"Overall\",\n",
    "    orientation='v',\n",
    "    marker_color='#777777'\n",
    "))\n",
    "\n",
    "\n",
    "fig.update_yaxes(range=[0.8, 1.2])\n",
    "\n",
    "# set the x-axis to be the style names\n",
    "fig.update_layout(xaxis={'categoryorder':'array', 'categoryarray':cfm_ratings_by_location.index})\n",
    "\n",
    "# set title\n",
    "fig.update_layout(title_text=\"Comparing Average Ratings of Beers by Provenance\")\n",
    "\n",
    "# set the y-axis to be the percentage of ratings\n",
    "fig.update_layout(yaxis_title=\"Average Rating (Normalized)\")\n",
    "\n",
    "fig.update_layout(barmode='group')\n",
    "\n",
    "# set lines using axhline\n",
    "fig.add_hline(y=1, line_width=1.5, line_dash=\"dash\", line_color=\"black\")\n",
    "\n",
    "\n",
    "# make the plot transparent\n",
    "fig.update_layout(paper_bgcolor='rgba(0,0,0,0)', plot_bgcolor='rgba(0,0,0,0)')\n",
    "\n",
    "# save to html\n",
    "fig.write_html(\"beer_location_most_liked.html\")\n",
    "\n",
    "# show the plot\n",
    "fig.show()\n",
    "\n",
    "\n"
   ]
  },
  {
   "cell_type": "markdown",
   "metadata": {
    "vscode": {
     "languageId": "ruby"
    }
   },
   "source": [
    "Analysis: Conformist, EXP and explorers mostly agree on the best beer provenance. Moreover, they all have a similar liking compared to users in general.  \n",
    "However, adventurers have different preferences. By selecting \"adventurer\" and \"overall\" on the plot, we see for example that they like more beers from Belgium compared to the general users. There is also is a huge difference for beers from Scotland. Overall, they have very different opinions compared to the other categories."
   ]
  },
  {
   "cell_type": "code",
   "execution_count": null,
   "metadata": {
    "vscode": {
     "languageId": "ruby"
    }
   },
   "outputs": [],
   "source": []
  },
  {
   "cell_type": "markdown",
   "metadata": {},
   "source": [
    "# Venn diagram of categories "
   ]
  },
  {
   "cell_type": "code",
   "execution_count": 60,
   "metadata": {},
   "outputs": [
    {
     "data": {
      "text/html": [
       "<div>\n",
       "<style scoped>\n",
       "    .dataframe tbody tr th:only-of-type {\n",
       "        vertical-align: middle;\n",
       "    }\n",
       "\n",
       "    .dataframe tbody tr th {\n",
       "        vertical-align: top;\n",
       "    }\n",
       "\n",
       "    .dataframe thead th {\n",
       "        text-align: right;\n",
       "    }\n",
       "</style>\n",
       "<table border=\"1\" class=\"dataframe\">\n",
       "  <thead>\n",
       "    <tr style=\"text-align: right;\">\n",
       "      <th></th>\n",
       "      <th>n_ratings</th>\n",
       "      <th>n_reviews</th>\n",
       "      <th>uid</th>\n",
       "      <th>username</th>\n",
       "      <th>joined</th>\n",
       "      <th>location</th>\n",
       "      <th>country</th>\n",
       "      <th>cfm_score</th>\n",
       "      <th>exp_score</th>\n",
       "      <th>xpl_score</th>\n",
       "      <th>adv_score</th>\n",
       "      <th>is_cfm</th>\n",
       "      <th>is_exp</th>\n",
       "      <th>is_xpl</th>\n",
       "      <th>is_adv</th>\n",
       "    </tr>\n",
       "  </thead>\n",
       "  <tbody>\n",
       "    <tr>\n",
       "      <th>0</th>\n",
       "      <td>7820</td>\n",
       "      <td>465</td>\n",
       "      <td>nmann08.184925</td>\n",
       "      <td>nmann08</td>\n",
       "      <td>2008-01-07 11:00:00</td>\n",
       "      <td>United States, Washington</td>\n",
       "      <td>United States</td>\n",
       "      <td>-0.875556</td>\n",
       "      <td>-0.423436</td>\n",
       "      <td>0.276726</td>\n",
       "      <td>0.066368</td>\n",
       "      <td>0</td>\n",
       "      <td>0</td>\n",
       "      <td>1</td>\n",
       "      <td>0</td>\n",
       "    </tr>\n",
       "    <tr>\n",
       "      <th>1</th>\n",
       "      <td>2521</td>\n",
       "      <td>2504</td>\n",
       "      <td>stjamesgate.163714</td>\n",
       "      <td>StJamesGate</td>\n",
       "      <td>2007-10-08 10:00:00</td>\n",
       "      <td>United States, New York</td>\n",
       "      <td>United States</td>\n",
       "      <td>-0.516299</td>\n",
       "      <td>-0.282777</td>\n",
       "      <td>0.473622</td>\n",
       "      <td>0.037287</td>\n",
       "      <td>0</td>\n",
       "      <td>0</td>\n",
       "      <td>1</td>\n",
       "      <td>0</td>\n",
       "    </tr>\n",
       "    <tr>\n",
       "      <th>2</th>\n",
       "      <td>2326</td>\n",
       "      <td>0</td>\n",
       "      <td>hellpop65.48993</td>\n",
       "      <td>Hellpop65</td>\n",
       "      <td>2005-11-14 11:00:00</td>\n",
       "      <td>United States, Kansas</td>\n",
       "      <td>United States</td>\n",
       "      <td>-1.783445</td>\n",
       "      <td>-0.621249</td>\n",
       "      <td>0.11264</td>\n",
       "      <td>0.11307</td>\n",
       "      <td>0</td>\n",
       "      <td>0</td>\n",
       "      <td>0</td>\n",
       "      <td>0</td>\n",
       "    </tr>\n",
       "    <tr>\n",
       "      <th>3</th>\n",
       "      <td>3098</td>\n",
       "      <td>0</td>\n",
       "      <td>latarnik.52897</td>\n",
       "      <td>Latarnik</td>\n",
       "      <td>2005-12-02 11:00:00</td>\n",
       "      <td>United States, New Jersey</td>\n",
       "      <td>United States</td>\n",
       "      <td>-0.451196</td>\n",
       "      <td>-0.362152</td>\n",
       "      <td>0.171724</td>\n",
       "      <td>0.244028</td>\n",
       "      <td>0</td>\n",
       "      <td>0</td>\n",
       "      <td>0</td>\n",
       "      <td>1</td>\n",
       "    </tr>\n",
       "    <tr>\n",
       "      <th>4</th>\n",
       "      <td>1866</td>\n",
       "      <td>23</td>\n",
       "      <td>rochefortchris.697017</td>\n",
       "      <td>RochefortChris</td>\n",
       "      <td>2012-10-02 10:00:00</td>\n",
       "      <td>United States, North Carolina</td>\n",
       "      <td>United States</td>\n",
       "      <td>-1.375863</td>\n",
       "      <td>-0.414637</td>\n",
       "      <td>0.209539</td>\n",
       "      <td>0.084137</td>\n",
       "      <td>0</td>\n",
       "      <td>0</td>\n",
       "      <td>1</td>\n",
       "      <td>0</td>\n",
       "    </tr>\n",
       "  </tbody>\n",
       "</table>\n",
       "</div>"
      ],
      "text/plain": [
       "   n_ratings  n_reviews                    uid        username  \\\n",
       "0       7820        465         nmann08.184925         nmann08   \n",
       "1       2521       2504     stjamesgate.163714     StJamesGate   \n",
       "2       2326          0        hellpop65.48993       Hellpop65   \n",
       "3       3098          0         latarnik.52897        Latarnik   \n",
       "4       1866         23  rochefortchris.697017  RochefortChris   \n",
       "\n",
       "               joined                       location        country  \\\n",
       "0 2008-01-07 11:00:00      United States, Washington  United States   \n",
       "1 2007-10-08 10:00:00        United States, New York  United States   \n",
       "2 2005-11-14 11:00:00          United States, Kansas  United States   \n",
       "3 2005-12-02 11:00:00      United States, New Jersey  United States   \n",
       "4 2012-10-02 10:00:00  United States, North Carolina  United States   \n",
       "\n",
       "   cfm_score  exp_score  xpl_score  adv_score  is_cfm  is_exp  is_xpl  is_adv  \n",
       "0  -0.875556  -0.423436   0.276726   0.066368       0       0       1       0  \n",
       "1  -0.516299  -0.282777   0.473622   0.037287       0       0       1       0  \n",
       "2  -1.783445  -0.621249    0.11264    0.11307       0       0       0       0  \n",
       "3  -0.451196  -0.362152   0.171724   0.244028       0       0       0       1  \n",
       "4  -1.375863  -0.414637   0.209539   0.084137       0       0       1       0  "
      ]
     },
     "execution_count": 60,
     "metadata": {},
     "output_type": "execute_result"
    }
   ],
   "source": [
    "scores_ddf.head()"
   ]
  },
  {
   "cell_type": "code",
   "execution_count": 61,
   "metadata": {},
   "outputs": [
    {
     "data": {
      "image/png": "[encoded data removed]",
      "text/plain": [
       "<Figure size 500x500 with 1 Axes>"
      ]
     },
     "metadata": {},
     "output_type": "display_data"
    }
   ],
   "source": [
    "import matplotlib.pyplot as plt\n",
    "from matplotlib_venn import venn2\n",
    "\n",
    "# Select the columns to visualize\n",
    "experts = scores_ddf[scores_ddf['is_exp'] == 1]\n",
    "conformists = scores_ddf[scores_ddf['is_cfm'] == 1]\n",
    "\n",
    "# Calculate the number of users in each category\n",
    "expert_count = len(experts)\n",
    "conformist_count = len(conformists)\n",
    "overlap_count = len(experts[experts['is_cfm'] == 1])\n",
    "\n",
    "# Create the Venn diagram using the venn2 function\n",
    "plt.figure(figsize=(5,5))\n",
    "v = venn2(subsets=(expert_count, conformist_count, overlap_count), set_labels=('Expert', 'Conformist'))\n",
    "\n",
    "# Show the plot\n",
    "plt.show()\n",
    "\n"
   ]
  },
  {
   "cell_type": "code",
   "execution_count": 62,
   "metadata": {},
   "outputs": [
    {
     "data": {
      "image/png": "[encoded data removed]",
      "text/plain": [
       "<Figure size 500x500 with 1 Axes>"
      ]
     },
     "metadata": {},
     "output_type": "display_data"
    }
   ],
   "source": [
    "import matplotlib.pyplot as plt\n",
    "from matplotlib_venn import venn2\n",
    "\n",
    "# Select the columns to visualize\n",
    "experts = scores_ddf[scores_ddf['is_exp'] == 1]\n",
    "adventurers = scores_ddf[scores_ddf['is_adv'] == 1]\n",
    "\n",
    "# Calculate the number of users in each category\n",
    "expert_count = len(experts)\n",
    "adventurer_count = len(adventurers)\n",
    "overlap_count = len(experts[experts['is_adv'] == 1])\n",
    "\n",
    "# Create the Venn diagram using the venn2 function\n",
    "plt.figure(figsize=(5,5))\n",
    "v = venn2(subsets=(expert_count, conformist_count, overlap_count), set_labels=('Expert', 'Adventurer'))\n",
    "\n",
    "# Show the plot\n",
    "plt.show()\n"
   ]
  },
  {
   "cell_type": "code",
   "execution_count": 63,
   "metadata": {},
   "outputs": [
    {
     "data": {
      "image/png": "[encoded data removed]",
      "text/plain": [
       "<Figure size 500x500 with 1 Axes>"
      ]
     },
     "metadata": {},
     "output_type": "display_data"
    }
   ],
   "source": [
    "import matplotlib.pyplot as plt\n",
    "from matplotlib_venn import venn3\n",
    "from matplotlib_venn import venn3_circles\n",
    "\n",
    "# Ven diagram to show overlap of expert_like, conformist, adventurer and explorer\n",
    "\n",
    "# Select the columns to visualize\n",
    "conformist = scores_ddf[scores_ddf['is_cfm'] == 1]\n",
    "adventurer = scores_ddf[scores_ddf['is_adv'] == 1]\n",
    "explorer = scores_ddf[scores_ddf['is_xpl'] == 1]\n",
    "\n",
    "# Calculate the number of users in each category\n",
    "conformist_count = len(conformist)\n",
    "adventurer_count = len(adventurer)\n",
    "explorer_count = len(explorer)\n",
    "\n",
    "# Calculate the overlap between the categories\n",
    "conformist_adventurer_overlap = len(conformist[conformist['is_adv'] == 1])\n",
    "conformist_explorer_overlap = len(conformist[conformist['is_xpl'] == 1])\n",
    "adventurer_explorer_overlap = len(adventurer[adventurer['is_xpl'] == 1])\n",
    "conformist_adventurer_explorer_overlap = len(conformist[(conformist['is_adv'] == 1) & (conformist['is_xpl'] == 1)])\n",
    "\n",
    "# Create the Venn diagram using the venn3 function\n",
    "plt.figure(figsize=(5,5))\n",
    "plt.title(\"Venn diagram of conformist, adventurer and explorer users: \")\n",
    "v = venn3(subsets=(conformist_count, adventurer_count, conformist_adventurer_overlap, \n",
    "                explorer_count, conformist_explorer_overlap, adventurer_explorer_overlap, conformist_adventurer_explorer_overlap),\n",
    "           set_labels=('Conformist', 'Adventurer', 'Explorer'),\n",
    "           set_colors=('#4477AA', '#AA3377', '#CCBB44'))\n",
    "\n",
    "\n",
    "\n",
    "c = venn3_circles(subsets=(conformist_count, adventurer_count, conformist_adventurer_overlap, \n",
    "                explorer_count, conformist_explorer_overlap, adventurer_explorer_overlap, conformist_adventurer_explorer_overlap))\n",
    "\n",
    "# set opacity of the circles\n",
    "c[0].set_alpha(0.2)\n",
    "c[1].set_alpha(0.2)\n",
    "c[2].set_alpha(0.2)\n",
    "\n",
    "# Show the plot\n",
    "#plt.show()\n",
    "\n",
    "# save to svg\n",
    "plt.savefig('venn_diagram_categories.svg', format='svg', dpi=1200, transparent=True)"
   ]
  },
  {
   "cell_type": "markdown",
   "metadata": {},
   "source": [
    "Analysis: there is very few overlap between explorers, conformists and adventurers. While the number of users with two of these categories is not negligible, the number of users with all three categories is very low."
   ]
  },
  {
   "cell_type": "code",
   "execution_count": 64,
   "metadata": {},
   "outputs": [
    {
     "data": {
      "text/plain": [
       "(5711, 5711, 7770, 314, 502, 767, 30)"
      ]
     },
     "execution_count": 64,
     "metadata": {},
     "output_type": "execute_result"
    }
   ],
   "source": [
    "conformist_count, adventurer_count, explorer_count,conformist_adventurer_overlap, conformist_explorer_overlap, adventurer_explorer_overlap, conformist_adventurer_explorer_overlap"
   ]
  }
 ],
 "metadata": {
  "kernelspec": {
   "display_name": "Python 3 (ipykernel)",
   "language": "python",
   "name": "python3"
  },
  "language_info": {
   "codemirror_mode": {
    "name": "ipython",
    "version": 3
   },
   "file_extension": ".py",
   "mimetype": "text/x-python",
   "name": "python",
   "nbconvert_exporter": "python",
   "pygments_lexer": "ipython3",
   "version": "3.9.12"
  },
  "vscode": {
   "interpreter": {
    "hash": "6bb2e1f904bb6e863f2b9088396373e4778cab81ffde8089fcb5238aee912dca"
   }
  }
 },
 "nbformat": 4,
 "nbformat_minor": 2
}
